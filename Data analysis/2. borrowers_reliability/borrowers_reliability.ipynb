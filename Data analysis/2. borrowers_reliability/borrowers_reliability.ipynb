{
 "cells": [
  {
   "cell_type": "markdown",
   "metadata": {},
   "source": [
    "# Borrower reliability study\n",
    "\n",
    "The customer is the credit department of the bank. It is necessary to find out whether the marital status and the number of children of the client affect repaying the loan in time. Input data from the bank - statistics on the solvency of customers.\n",
    "\n",
    "The results of the study will be taken into account when building a **credit scoring** model - a system that evaluates the ability of a potential borrower to repay a loan to a bank."
   ]
  },
  {
   "cell_type": "markdown",
   "metadata": {},
   "source": [
    "## 1. Examine the general information"
   ]
  },
  {
   "cell_type": "code",
   "execution_count": 1,
   "metadata": {},
   "outputs": [],
   "source": [
    "import pandas as pd \n",
    "from pymystem3 import Mystem"
   ]
  },
  {
   "cell_type": "code",
   "execution_count": 2,
   "metadata": {},
   "outputs": [
    {
     "data": {
      "text/html": [
       "<div>\n",
       "<style scoped>\n",
       "    .dataframe tbody tr th:only-of-type {\n",
       "        vertical-align: middle;\n",
       "    }\n",
       "\n",
       "    .dataframe tbody tr th {\n",
       "        vertical-align: top;\n",
       "    }\n",
       "\n",
       "    .dataframe thead th {\n",
       "        text-align: right;\n",
       "    }\n",
       "</style>\n",
       "<table border=\"1\" class=\"dataframe\">\n",
       "  <thead>\n",
       "    <tr style=\"text-align: right;\">\n",
       "      <th></th>\n",
       "      <th>children</th>\n",
       "      <th>days_employed</th>\n",
       "      <th>dob_years</th>\n",
       "      <th>education</th>\n",
       "      <th>education_id</th>\n",
       "      <th>family_status</th>\n",
       "      <th>family_status_id</th>\n",
       "      <th>gender</th>\n",
       "      <th>income_type</th>\n",
       "      <th>debt</th>\n",
       "      <th>total_income</th>\n",
       "      <th>purpose</th>\n",
       "    </tr>\n",
       "  </thead>\n",
       "  <tbody>\n",
       "    <tr>\n",
       "      <td>0</td>\n",
       "      <td>1</td>\n",
       "      <td>-8437.673028</td>\n",
       "      <td>42</td>\n",
       "      <td>высшее</td>\n",
       "      <td>0</td>\n",
       "      <td>женат / замужем</td>\n",
       "      <td>0</td>\n",
       "      <td>F</td>\n",
       "      <td>сотрудник</td>\n",
       "      <td>0</td>\n",
       "      <td>253875.639453</td>\n",
       "      <td>покупка жилья</td>\n",
       "    </tr>\n",
       "    <tr>\n",
       "      <td>1</td>\n",
       "      <td>1</td>\n",
       "      <td>-4024.803754</td>\n",
       "      <td>36</td>\n",
       "      <td>среднее</td>\n",
       "      <td>1</td>\n",
       "      <td>женат / замужем</td>\n",
       "      <td>0</td>\n",
       "      <td>F</td>\n",
       "      <td>сотрудник</td>\n",
       "      <td>0</td>\n",
       "      <td>112080.014102</td>\n",
       "      <td>приобретение автомобиля</td>\n",
       "    </tr>\n",
       "    <tr>\n",
       "      <td>2</td>\n",
       "      <td>0</td>\n",
       "      <td>-5623.422610</td>\n",
       "      <td>33</td>\n",
       "      <td>Среднее</td>\n",
       "      <td>1</td>\n",
       "      <td>женат / замужем</td>\n",
       "      <td>0</td>\n",
       "      <td>M</td>\n",
       "      <td>сотрудник</td>\n",
       "      <td>0</td>\n",
       "      <td>145885.952297</td>\n",
       "      <td>покупка жилья</td>\n",
       "    </tr>\n",
       "    <tr>\n",
       "      <td>3</td>\n",
       "      <td>3</td>\n",
       "      <td>-4124.747207</td>\n",
       "      <td>32</td>\n",
       "      <td>среднее</td>\n",
       "      <td>1</td>\n",
       "      <td>женат / замужем</td>\n",
       "      <td>0</td>\n",
       "      <td>M</td>\n",
       "      <td>сотрудник</td>\n",
       "      <td>0</td>\n",
       "      <td>267628.550329</td>\n",
       "      <td>дополнительное образование</td>\n",
       "    </tr>\n",
       "    <tr>\n",
       "      <td>4</td>\n",
       "      <td>0</td>\n",
       "      <td>340266.072047</td>\n",
       "      <td>53</td>\n",
       "      <td>среднее</td>\n",
       "      <td>1</td>\n",
       "      <td>гражданский брак</td>\n",
       "      <td>1</td>\n",
       "      <td>F</td>\n",
       "      <td>пенсионер</td>\n",
       "      <td>0</td>\n",
       "      <td>158616.077870</td>\n",
       "      <td>сыграть свадьбу</td>\n",
       "    </tr>\n",
       "    <tr>\n",
       "      <td>5</td>\n",
       "      <td>0</td>\n",
       "      <td>-926.185831</td>\n",
       "      <td>27</td>\n",
       "      <td>высшее</td>\n",
       "      <td>0</td>\n",
       "      <td>гражданский брак</td>\n",
       "      <td>1</td>\n",
       "      <td>M</td>\n",
       "      <td>компаньон</td>\n",
       "      <td>0</td>\n",
       "      <td>255763.565419</td>\n",
       "      <td>покупка жилья</td>\n",
       "    </tr>\n",
       "    <tr>\n",
       "      <td>6</td>\n",
       "      <td>0</td>\n",
       "      <td>-2879.202052</td>\n",
       "      <td>43</td>\n",
       "      <td>высшее</td>\n",
       "      <td>0</td>\n",
       "      <td>женат / замужем</td>\n",
       "      <td>0</td>\n",
       "      <td>F</td>\n",
       "      <td>компаньон</td>\n",
       "      <td>0</td>\n",
       "      <td>240525.971920</td>\n",
       "      <td>операции с жильем</td>\n",
       "    </tr>\n",
       "    <tr>\n",
       "      <td>7</td>\n",
       "      <td>0</td>\n",
       "      <td>-152.779569</td>\n",
       "      <td>50</td>\n",
       "      <td>СРЕДНЕЕ</td>\n",
       "      <td>1</td>\n",
       "      <td>женат / замужем</td>\n",
       "      <td>0</td>\n",
       "      <td>M</td>\n",
       "      <td>сотрудник</td>\n",
       "      <td>0</td>\n",
       "      <td>135823.934197</td>\n",
       "      <td>образование</td>\n",
       "    </tr>\n",
       "    <tr>\n",
       "      <td>8</td>\n",
       "      <td>2</td>\n",
       "      <td>-6929.865299</td>\n",
       "      <td>35</td>\n",
       "      <td>ВЫСШЕЕ</td>\n",
       "      <td>0</td>\n",
       "      <td>гражданский брак</td>\n",
       "      <td>1</td>\n",
       "      <td>F</td>\n",
       "      <td>сотрудник</td>\n",
       "      <td>0</td>\n",
       "      <td>95856.832424</td>\n",
       "      <td>на проведение свадьбы</td>\n",
       "    </tr>\n",
       "    <tr>\n",
       "      <td>9</td>\n",
       "      <td>0</td>\n",
       "      <td>-2188.756445</td>\n",
       "      <td>41</td>\n",
       "      <td>среднее</td>\n",
       "      <td>1</td>\n",
       "      <td>женат / замужем</td>\n",
       "      <td>0</td>\n",
       "      <td>M</td>\n",
       "      <td>сотрудник</td>\n",
       "      <td>0</td>\n",
       "      <td>144425.938277</td>\n",
       "      <td>покупка жилья для семьи</td>\n",
       "    </tr>\n",
       "  </tbody>\n",
       "</table>\n",
       "</div>"
      ],
      "text/plain": [
       "   children  days_employed  dob_years education  education_id  \\\n",
       "0         1   -8437.673028         42    высшее             0   \n",
       "1         1   -4024.803754         36   среднее             1   \n",
       "2         0   -5623.422610         33   Среднее             1   \n",
       "3         3   -4124.747207         32   среднее             1   \n",
       "4         0  340266.072047         53   среднее             1   \n",
       "5         0    -926.185831         27    высшее             0   \n",
       "6         0   -2879.202052         43    высшее             0   \n",
       "7         0    -152.779569         50   СРЕДНЕЕ             1   \n",
       "8         2   -6929.865299         35    ВЫСШЕЕ             0   \n",
       "9         0   -2188.756445         41   среднее             1   \n",
       "\n",
       "      family_status  family_status_id gender income_type  debt   total_income  \\\n",
       "0   женат / замужем                 0      F   сотрудник     0  253875.639453   \n",
       "1   женат / замужем                 0      F   сотрудник     0  112080.014102   \n",
       "2   женат / замужем                 0      M   сотрудник     0  145885.952297   \n",
       "3   женат / замужем                 0      M   сотрудник     0  267628.550329   \n",
       "4  гражданский брак                 1      F   пенсионер     0  158616.077870   \n",
       "5  гражданский брак                 1      M   компаньон     0  255763.565419   \n",
       "6   женат / замужем                 0      F   компаньон     0  240525.971920   \n",
       "7   женат / замужем                 0      M   сотрудник     0  135823.934197   \n",
       "8  гражданский брак                 1      F   сотрудник     0   95856.832424   \n",
       "9   женат / замужем                 0      M   сотрудник     0  144425.938277   \n",
       "\n",
       "                      purpose  \n",
       "0               покупка жилья  \n",
       "1     приобретение автомобиля  \n",
       "2               покупка жилья  \n",
       "3  дополнительное образование  \n",
       "4             сыграть свадьбу  \n",
       "5               покупка жилья  \n",
       "6           операции с жильем  \n",
       "7                 образование  \n",
       "8       на проведение свадьбы  \n",
       "9     покупка жилья для семьи  "
      ]
     },
     "metadata": {},
     "output_type": "display_data"
    },
    {
     "name": "stdout",
     "output_type": "stream",
     "text": [
      "<class 'pandas.core.frame.DataFrame'>\n",
      "RangeIndex: 21525 entries, 0 to 21524\n",
      "Data columns (total 12 columns):\n",
      "children            21525 non-null int64\n",
      "days_employed       19351 non-null float64\n",
      "dob_years           21525 non-null int64\n",
      "education           21525 non-null object\n",
      "education_id        21525 non-null int64\n",
      "family_status       21525 non-null object\n",
      "family_status_id    21525 non-null int64\n",
      "gender              21525 non-null object\n",
      "income_type         21525 non-null object\n",
      "debt                21525 non-null int64\n",
      "total_income        19351 non-null float64\n",
      "purpose             21525 non-null object\n",
      "dtypes: float64(2), int64(5), object(5)\n",
      "memory usage: 2.0+ MB\n"
     ]
    }
   ],
   "source": [
    "data = pd.read_csv('/datasets/data.csv')  \n",
    "display(data.head(10)) \n",
    "data.info() "
   ]
  },
  {
   "cell_type": "markdown",
   "metadata": {},
   "source": [
    "**Conclusions**"
   ]
  },
  {
   "cell_type": "markdown",
   "metadata": {},
   "source": [
    "The table has a number of data problems:\n",
    "\n",
    "1. There is missing data on the number of days of service and income - the same number of gaps in both columns. This may indicate either that the person is not working yet and does not have income, or that the data has not been filled in deliberately or has been lost. <br>\n",
    "2. The number of days of service has negative and illogical values - in index 4, the number of days is more than 340,000, which is more than 900 years. This is impossible and makes no sense. <br>\n",
    "3. There is a different register in the education column . It is not clear yet whether this will be a problem for the further analysis, yet, the register will be converted to a single lower case.<br>\n",
    "4. Columns with income and number of days of service have a float data type, it is not yet clear whether this will be a problem for the further analysis, but it would be reasonable to convert the data to an int type."
   ]
  },
  {
   "cell_type": "markdown",
   "metadata": {},
   "source": [
    "## 2. Data preprocessing"
   ]
  },
  {
   "cell_type": "markdown",
   "metadata": {},
   "source": [
    "### 2.1 Missing values processing"
   ]
  },
  {
   "cell_type": "code",
   "execution_count": 10,
   "metadata": {},
   "outputs": [
    {
     "data": {
      "text/plain": [
       "array([nan])"
      ]
     },
     "execution_count": 10,
     "metadata": {},
     "output_type": "execute_result"
    }
   ],
   "source": [
    "data[data['days_employed'].isna()]['total_income'].unique() "
   ]
  },
  {
   "cell_type": "markdown",
   "metadata": {},
   "source": [
    "The gaps in the data on the number of days of service and income have already been described above. At this step, we made sure that the gaps match not only in quantity, but are also present in the same lines.\n",
    "\n",
    "The gaps are non-random, because they are absent in the same lines and may be due to the fact that the Clients deliberately did not indicate the data, or the data was lost during uploading.\n",
    "\n",
    "Since the data in both columns is quantitative, it makes sense to replace them with a representative variable. It would be more correct to replace the income with the median in order not to distort the sample data. In addition, the data will be needed for further analysis. Years of experience can be replaced by the average - years of experience do not affect further analysis."
   ]
  },
  {
   "cell_type": "code",
   "execution_count": 11,
   "metadata": {
    "scrolled": true
   },
   "outputs": [],
   "source": [
    "data['total_income'] = data['total_income'].fillna(data['total_income'].median()) "
   ]
  },
  {
   "cell_type": "code",
   "execution_count": 12,
   "metadata": {
    "scrolled": true
   },
   "outputs": [
    {
     "name": "stdout",
     "output_type": "stream",
     "text": [
      "<class 'pandas.core.frame.DataFrame'>\n",
      "RangeIndex: 21525 entries, 0 to 21524\n",
      "Data columns (total 12 columns):\n",
      "children            21525 non-null int64\n",
      "days_employed       21525 non-null float64\n",
      "dob_years           21525 non-null int64\n",
      "education           21525 non-null object\n",
      "education_id        21525 non-null int64\n",
      "family_status       21525 non-null object\n",
      "family_status_id    21525 non-null int64\n",
      "gender              21525 non-null object\n",
      "income_type         21525 non-null object\n",
      "debt                21525 non-null int64\n",
      "total_income        21525 non-null float64\n",
      "purpose             21525 non-null object\n",
      "dtypes: float64(2), int64(5), object(5)\n",
      "memory usage: 2.0+ MB\n"
     ]
    }
   ],
   "source": [
    "data['days_employed'] = data['days_employed'].fillna(data['days_employed'].mean()) \n",
    "data.info() "
   ]
  },
  {
   "cell_type": "markdown",
   "metadata": {},
   "source": [
    "### 2.2 Data type replacement"
   ]
  },
  {
   "cell_type": "code",
   "execution_count": 13,
   "metadata": {},
   "outputs": [
    {
     "data": {
      "text/plain": [
       "dtype('int64')"
      ]
     },
     "metadata": {},
     "output_type": "display_data"
    },
    {
     "data": {
      "text/plain": [
       "dtype('int64')"
      ]
     },
     "execution_count": 13,
     "metadata": {},
     "output_type": "execute_result"
    }
   ],
   "source": [
    "data['total_income'] = data['total_income'].astype('int') # замена типа float на int по колонке дохода \n",
    "data['days_employed'] = data['days_employed'].astype('int') # замена типа float на int по колонке годы стажа\n",
    "display(data.dtypes['total_income']) # проверка замены\n",
    "data.dtypes['days_employed'] # проверка замены"
   ]
  },
  {
   "cell_type": "markdown",
   "metadata": {},
   "source": [
    "### 2.3 Duplicates processing"
   ]
  },
  {
   "cell_type": "code",
   "execution_count": 14,
   "metadata": {},
   "outputs": [
    {
     "data": {
      "text/plain": [
       "array(['ВЫСШЕЕ', 'Высшее', 'НАЧАЛЬНОЕ', 'НЕОКОНЧЕННОЕ ВЫСШЕЕ',\n",
       "       'Начальное', 'Неоконченное высшее', 'СРЕДНЕЕ', 'Среднее',\n",
       "       'УЧЕНАЯ СТЕПЕНЬ', 'Ученая степень', 'высшее', 'начальное',\n",
       "       'неоконченное высшее', 'среднее', 'ученая степень'], dtype=object)"
      ]
     },
     "execution_count": 14,
     "metadata": {},
     "output_type": "execute_result"
    }
   ],
   "source": [
    "data['education'].sort_values().unique() #unique values Education"
   ]
  },
  {
   "cell_type": "code",
   "execution_count": 15,
   "metadata": {},
   "outputs": [
    {
     "data": {
      "text/plain": [
       "array(['высшее', 'начальное', 'неоконченное высшее', 'среднее',\n",
       "       'ученая степень'], dtype=object)"
      ]
     },
     "execution_count": 15,
     "metadata": {},
     "output_type": "execute_result"
    }
   ],
   "source": [
    "data['education'] = data['education'].str.lower() #lower case\n",
    "data['education'].sort_values().unique() #check"
   ]
  },
  {
   "cell_type": "markdown",
   "metadata": {},
   "source": [
    "Также предлагается проверить , присутствуют ли в таблице полные дубликаты."
   ]
  },
  {
   "cell_type": "code",
   "execution_count": 16,
   "metadata": {},
   "outputs": [
    {
     "data": {
      "text/plain": [
       "71"
      ]
     },
     "execution_count": 16,
     "metadata": {},
     "output_type": "execute_result"
    }
   ],
   "source": [
    "data.duplicated().sum() #check for full duplicates"
   ]
  },
  {
   "cell_type": "markdown",
   "metadata": {},
   "source": [
    "Since the table does not contain any unique user identifier (phone number, email, ID), it can be assumed that 71 out of 21,525 people (0.3%) can have a complete match of data. Consequently, it is proposed not to delete complete duplicates."
   ]
  },
  {
   "cell_type": "markdown",
   "metadata": {},
   "source": [
    "### 2.4 Lemmatization"
   ]
  },
  {
   "cell_type": "markdown",
   "metadata": {},
   "source": [
    "With the help of Pymystem library, lemmas were derived for all values of the `purpose` column for the further use in the study."
   ]
  },
  {
   "cell_type": "code",
   "execution_count": 17,
   "metadata": {},
   "outputs": [
    {
     "data": {
      "text/html": [
       "<div>\n",
       "<style scoped>\n",
       "    .dataframe tbody tr th:only-of-type {\n",
       "        vertical-align: middle;\n",
       "    }\n",
       "\n",
       "    .dataframe tbody tr th {\n",
       "        vertical-align: top;\n",
       "    }\n",
       "\n",
       "    .dataframe thead th {\n",
       "        text-align: right;\n",
       "    }\n",
       "</style>\n",
       "<table border=\"1\" class=\"dataframe\">\n",
       "  <thead>\n",
       "    <tr style=\"text-align: right;\">\n",
       "      <th></th>\n",
       "      <th>children</th>\n",
       "      <th>days_employed</th>\n",
       "      <th>dob_years</th>\n",
       "      <th>education</th>\n",
       "      <th>education_id</th>\n",
       "      <th>family_status</th>\n",
       "      <th>family_status_id</th>\n",
       "      <th>gender</th>\n",
       "      <th>income_type</th>\n",
       "      <th>debt</th>\n",
       "      <th>total_income</th>\n",
       "      <th>purpose</th>\n",
       "      <th>lemmas</th>\n",
       "    </tr>\n",
       "  </thead>\n",
       "  <tbody>\n",
       "    <tr>\n",
       "      <td>0</td>\n",
       "      <td>1</td>\n",
       "      <td>-8437</td>\n",
       "      <td>42</td>\n",
       "      <td>высшее</td>\n",
       "      <td>0</td>\n",
       "      <td>женат / замужем</td>\n",
       "      <td>0</td>\n",
       "      <td>F</td>\n",
       "      <td>сотрудник</td>\n",
       "      <td>0</td>\n",
       "      <td>253875</td>\n",
       "      <td>покупка жилья</td>\n",
       "      <td>покупка, ,жилье,\\n</td>\n",
       "    </tr>\n",
       "    <tr>\n",
       "      <td>1</td>\n",
       "      <td>1</td>\n",
       "      <td>-4024</td>\n",
       "      <td>36</td>\n",
       "      <td>среднее</td>\n",
       "      <td>1</td>\n",
       "      <td>женат / замужем</td>\n",
       "      <td>0</td>\n",
       "      <td>F</td>\n",
       "      <td>сотрудник</td>\n",
       "      <td>0</td>\n",
       "      <td>112080</td>\n",
       "      <td>приобретение автомобиля</td>\n",
       "      <td>приобретение, ,автомобиль,\\n</td>\n",
       "    </tr>\n",
       "    <tr>\n",
       "      <td>2</td>\n",
       "      <td>0</td>\n",
       "      <td>-5623</td>\n",
       "      <td>33</td>\n",
       "      <td>среднее</td>\n",
       "      <td>1</td>\n",
       "      <td>женат / замужем</td>\n",
       "      <td>0</td>\n",
       "      <td>M</td>\n",
       "      <td>сотрудник</td>\n",
       "      <td>0</td>\n",
       "      <td>145885</td>\n",
       "      <td>покупка жилья</td>\n",
       "      <td>покупка, ,жилье,\\n</td>\n",
       "    </tr>\n",
       "    <tr>\n",
       "      <td>3</td>\n",
       "      <td>3</td>\n",
       "      <td>-4124</td>\n",
       "      <td>32</td>\n",
       "      <td>среднее</td>\n",
       "      <td>1</td>\n",
       "      <td>женат / замужем</td>\n",
       "      <td>0</td>\n",
       "      <td>M</td>\n",
       "      <td>сотрудник</td>\n",
       "      <td>0</td>\n",
       "      <td>267628</td>\n",
       "      <td>дополнительное образование</td>\n",
       "      <td>дополнительный, ,образование,\\n</td>\n",
       "    </tr>\n",
       "    <tr>\n",
       "      <td>4</td>\n",
       "      <td>0</td>\n",
       "      <td>340266</td>\n",
       "      <td>53</td>\n",
       "      <td>среднее</td>\n",
       "      <td>1</td>\n",
       "      <td>гражданский брак</td>\n",
       "      <td>1</td>\n",
       "      <td>F</td>\n",
       "      <td>пенсионер</td>\n",
       "      <td>0</td>\n",
       "      <td>158616</td>\n",
       "      <td>сыграть свадьбу</td>\n",
       "      <td>сыграть, ,свадьба,\\n</td>\n",
       "    </tr>\n",
       "  </tbody>\n",
       "</table>\n",
       "</div>"
      ],
      "text/plain": [
       "   children  days_employed  dob_years education  education_id  \\\n",
       "0         1          -8437         42    высшее             0   \n",
       "1         1          -4024         36   среднее             1   \n",
       "2         0          -5623         33   среднее             1   \n",
       "3         3          -4124         32   среднее             1   \n",
       "4         0         340266         53   среднее             1   \n",
       "\n",
       "      family_status  family_status_id gender income_type  debt  total_income  \\\n",
       "0   женат / замужем                 0      F   сотрудник     0        253875   \n",
       "1   женат / замужем                 0      F   сотрудник     0        112080   \n",
       "2   женат / замужем                 0      M   сотрудник     0        145885   \n",
       "3   женат / замужем                 0      M   сотрудник     0        267628   \n",
       "4  гражданский брак                 1      F   пенсионер     0        158616   \n",
       "\n",
       "                      purpose                           lemmas  \n",
       "0               покупка жилья               покупка, ,жилье,\\n  \n",
       "1     приобретение автомобиля     приобретение, ,автомобиль,\\n  \n",
       "2               покупка жилья               покупка, ,жилье,\\n  \n",
       "3  дополнительное образование  дополнительный, ,образование,\\n  \n",
       "4             сыграть свадьбу             сыграть, ,свадьба,\\n  "
      ]
     },
     "metadata": {},
     "output_type": "display_data"
    }
   ],
   "source": [
    "m = Mystem() \n",
    "\n",
    "for i in range(data.shape[0]):\n",
    "    lemmas = m.lemmatize(data['purpose'][i]) #find lemma for each value in Purpose\n",
    "    data.loc[i, 'lemmas'] = ','.join(lemmas) \n",
    "\n",
    "display(data.head()) #check\n",
    "\n"
   ]
  },
  {
   "cell_type": "markdown",
   "metadata": {},
   "source": [
    "### 2.5 Data categorization"
   ]
  },
  {
   "cell_type": "markdown",
   "metadata": {},
   "source": [
    "In order to analyze data for the scoring system - it is proposed to split it into several categories:\n",
    "\n",
    "1. Children-wise\n",
    "2. Income-wise\n",
    "3. Purpose-wise"
   ]
  },
  {
   "cell_type": "markdown",
   "metadata": {},
   "source": [
    "**1 category** <br>"
   ]
  },
  {
   "cell_type": "code",
   "execution_count": 18,
   "metadata": {},
   "outputs": [
    {
     "data": {
      "text/plain": [
       " 0     14149\n",
       " 1      4818\n",
       " 2      2055\n",
       " 3       330\n",
       " 20       76\n",
       "-1        47\n",
       " 4        41\n",
       " 5         9\n",
       "Name: children, dtype: int64"
      ]
     },
     "execution_count": 18,
     "metadata": {},
     "output_type": "execute_result"
    }
   ],
   "source": [
    "data['children'].value_counts() #unique values with its count"
   ]
  },
  {
   "cell_type": "markdown",
   "metadata": {},
   "source": [
    "Values for \"-1\" and \"20\" indicate a potential error in the data. Perhaps there was an error during data transfer, 2.0 turned into 20, and 1 into -1. It is proposed to replace the values with 1 and 2, respectively."
   ]
  },
  {
   "cell_type": "code",
   "execution_count": 19,
   "metadata": {},
   "outputs": [
    {
     "data": {
      "text/plain": [
       "0    14149\n",
       "1     4865\n",
       "2     2131\n",
       "3      330\n",
       "4       41\n",
       "5        9\n",
       "Name: children, dtype: int64"
      ]
     },
     "execution_count": 19,
     "metadata": {},
     "output_type": "execute_result"
    }
   ],
   "source": [
    "data['children'] = data['children'].replace(-1,1) \n",
    "data['children'] = data['children'].replace(20,2) \n",
    "data['children'].value_counts() "
   ]
  },
  {
   "cell_type": "markdown",
   "metadata": {},
   "source": [
    "There can be 3 categories:\n",
    "1. Clients without children\n",
    "2. Clients with one child\n",
    "3. Clients with more than one child"
   ]
  },
  {
   "cell_type": "code",
   "execution_count": 20,
   "metadata": {},
   "outputs": [
    {
     "data": {
      "text/html": [
       "<div>\n",
       "<style scoped>\n",
       "    .dataframe tbody tr th:only-of-type {\n",
       "        vertical-align: middle;\n",
       "    }\n",
       "\n",
       "    .dataframe tbody tr th {\n",
       "        vertical-align: top;\n",
       "    }\n",
       "\n",
       "    .dataframe thead th {\n",
       "        text-align: right;\n",
       "    }\n",
       "</style>\n",
       "<table border=\"1\" class=\"dataframe\">\n",
       "  <thead>\n",
       "    <tr style=\"text-align: right;\">\n",
       "      <th></th>\n",
       "      <th>children</th>\n",
       "      <th>days_employed</th>\n",
       "      <th>dob_years</th>\n",
       "      <th>education</th>\n",
       "      <th>education_id</th>\n",
       "      <th>family_status</th>\n",
       "      <th>family_status_id</th>\n",
       "      <th>gender</th>\n",
       "      <th>income_type</th>\n",
       "      <th>debt</th>\n",
       "      <th>total_income</th>\n",
       "      <th>purpose</th>\n",
       "      <th>lemmas</th>\n",
       "      <th>children_id</th>\n",
       "    </tr>\n",
       "  </thead>\n",
       "  <tbody>\n",
       "    <tr>\n",
       "      <td>0</td>\n",
       "      <td>1</td>\n",
       "      <td>-8437</td>\n",
       "      <td>42</td>\n",
       "      <td>высшее</td>\n",
       "      <td>0</td>\n",
       "      <td>женат / замужем</td>\n",
       "      <td>0</td>\n",
       "      <td>F</td>\n",
       "      <td>сотрудник</td>\n",
       "      <td>0</td>\n",
       "      <td>253875</td>\n",
       "      <td>покупка жилья</td>\n",
       "      <td>покупка, ,жилье,\\n</td>\n",
       "      <td>1 ребенок</td>\n",
       "    </tr>\n",
       "    <tr>\n",
       "      <td>1</td>\n",
       "      <td>1</td>\n",
       "      <td>-4024</td>\n",
       "      <td>36</td>\n",
       "      <td>среднее</td>\n",
       "      <td>1</td>\n",
       "      <td>женат / замужем</td>\n",
       "      <td>0</td>\n",
       "      <td>F</td>\n",
       "      <td>сотрудник</td>\n",
       "      <td>0</td>\n",
       "      <td>112080</td>\n",
       "      <td>приобретение автомобиля</td>\n",
       "      <td>приобретение, ,автомобиль,\\n</td>\n",
       "      <td>1 ребенок</td>\n",
       "    </tr>\n",
       "    <tr>\n",
       "      <td>2</td>\n",
       "      <td>0</td>\n",
       "      <td>-5623</td>\n",
       "      <td>33</td>\n",
       "      <td>среднее</td>\n",
       "      <td>1</td>\n",
       "      <td>женат / замужем</td>\n",
       "      <td>0</td>\n",
       "      <td>M</td>\n",
       "      <td>сотрудник</td>\n",
       "      <td>0</td>\n",
       "      <td>145885</td>\n",
       "      <td>покупка жилья</td>\n",
       "      <td>покупка, ,жилье,\\n</td>\n",
       "      <td>без детей</td>\n",
       "    </tr>\n",
       "    <tr>\n",
       "      <td>3</td>\n",
       "      <td>3</td>\n",
       "      <td>-4124</td>\n",
       "      <td>32</td>\n",
       "      <td>среднее</td>\n",
       "      <td>1</td>\n",
       "      <td>женат / замужем</td>\n",
       "      <td>0</td>\n",
       "      <td>M</td>\n",
       "      <td>сотрудник</td>\n",
       "      <td>0</td>\n",
       "      <td>267628</td>\n",
       "      <td>дополнительное образование</td>\n",
       "      <td>дополнительный, ,образование,\\n</td>\n",
       "      <td>более 1 ребенка</td>\n",
       "    </tr>\n",
       "    <tr>\n",
       "      <td>4</td>\n",
       "      <td>0</td>\n",
       "      <td>340266</td>\n",
       "      <td>53</td>\n",
       "      <td>среднее</td>\n",
       "      <td>1</td>\n",
       "      <td>гражданский брак</td>\n",
       "      <td>1</td>\n",
       "      <td>F</td>\n",
       "      <td>пенсионер</td>\n",
       "      <td>0</td>\n",
       "      <td>158616</td>\n",
       "      <td>сыграть свадьбу</td>\n",
       "      <td>сыграть, ,свадьба,\\n</td>\n",
       "      <td>без детей</td>\n",
       "    </tr>\n",
       "  </tbody>\n",
       "</table>\n",
       "</div>"
      ],
      "text/plain": [
       "   children  days_employed  dob_years education  education_id  \\\n",
       "0         1          -8437         42    высшее             0   \n",
       "1         1          -4024         36   среднее             1   \n",
       "2         0          -5623         33   среднее             1   \n",
       "3         3          -4124         32   среднее             1   \n",
       "4         0         340266         53   среднее             1   \n",
       "\n",
       "      family_status  family_status_id gender income_type  debt  total_income  \\\n",
       "0   женат / замужем                 0      F   сотрудник     0        253875   \n",
       "1   женат / замужем                 0      F   сотрудник     0        112080   \n",
       "2   женат / замужем                 0      M   сотрудник     0        145885   \n",
       "3   женат / замужем                 0      M   сотрудник     0        267628   \n",
       "4  гражданский брак                 1      F   пенсионер     0        158616   \n",
       "\n",
       "                      purpose                           lemmas  \\\n",
       "0               покупка жилья               покупка, ,жилье,\\n   \n",
       "1     приобретение автомобиля     приобретение, ,автомобиль,\\n   \n",
       "2               покупка жилья               покупка, ,жилье,\\n   \n",
       "3  дополнительное образование  дополнительный, ,образование,\\n   \n",
       "4             сыграть свадьбу             сыграть, ,свадьба,\\n   \n",
       "\n",
       "       children_id  \n",
       "0        1 ребенок  \n",
       "1        1 ребенок  \n",
       "2        без детей  \n",
       "3  более 1 ребенка  \n",
       "4        без детей  "
      ]
     },
     "execution_count": 20,
     "metadata": {},
     "output_type": "execute_result"
    }
   ],
   "source": [
    "def children_id(children): \n",
    "    if children == 0:      \n",
    "        return 'без детей' \n",
    "    elif children == 1:    \n",
    "        return '1 ребенок' \n",
    "    else:\n",
    "        return 'более 1 ребенка' \n",
    "    \n",
    "data['children_id'] = data['children'].apply(children_id) \n",
    "\n",
    "data.head() #check"
   ]
  },
  {
   "cell_type": "markdown",
   "metadata": {},
   "source": [
    "**2 category** <br>"
   ]
  },
  {
   "cell_type": "code",
   "execution_count": 21,
   "metadata": {},
   "outputs": [
    {
     "name": "stdout",
     "output_type": "stream",
     "text": [
      "Минимальный доход: 20667\n",
      "Максимальный доход: 2265604\n",
      "Среднее: 165158.94276422763\n",
      "Медиана: 145017.0\n"
     ]
    }
   ],
   "source": [
    "print('Минимальный доход:', data['total_income'].min()) #Minimal income\n",
    "print('Максимальный доход:', data['total_income'].max()) #Max income\n",
    "print('Среднее:', data['total_income'].mean()) #Average income\n",
    "print('Медиана:', data['total_income'].median()) #Median income"
   ]
  },
  {
   "cell_type": "markdown",
   "metadata": {},
   "source": [
    "There are 4 categories: low income, below average, above average, high income. <br>\n",
    "Let low income be: from min to average/2 (inclusive) <br>\n",
    "Below Average: Average/2 to Average (inclusive) <br>\n",
    "Above Average: Intermediate to Intermediate * 1.5 (inclusive) <br>\n",
    "High income: from average * 1.5 to max."
   ]
  },
  {
   "cell_type": "code",
   "execution_count": 22,
   "metadata": {},
   "outputs": [
    {
     "data": {
      "text/html": [
       "<div>\n",
       "<style scoped>\n",
       "    .dataframe tbody tr th:only-of-type {\n",
       "        vertical-align: middle;\n",
       "    }\n",
       "\n",
       "    .dataframe tbody tr th {\n",
       "        vertical-align: top;\n",
       "    }\n",
       "\n",
       "    .dataframe thead th {\n",
       "        text-align: right;\n",
       "    }\n",
       "</style>\n",
       "<table border=\"1\" class=\"dataframe\">\n",
       "  <thead>\n",
       "    <tr style=\"text-align: right;\">\n",
       "      <th></th>\n",
       "      <th>children</th>\n",
       "      <th>days_employed</th>\n",
       "      <th>dob_years</th>\n",
       "      <th>education</th>\n",
       "      <th>education_id</th>\n",
       "      <th>family_status</th>\n",
       "      <th>family_status_id</th>\n",
       "      <th>gender</th>\n",
       "      <th>income_type</th>\n",
       "      <th>debt</th>\n",
       "      <th>total_income</th>\n",
       "      <th>purpose</th>\n",
       "      <th>lemmas</th>\n",
       "      <th>children_id</th>\n",
       "      <th>total_income_id</th>\n",
       "    </tr>\n",
       "  </thead>\n",
       "  <tbody>\n",
       "    <tr>\n",
       "      <td>0</td>\n",
       "      <td>1</td>\n",
       "      <td>-8437</td>\n",
       "      <td>42</td>\n",
       "      <td>высшее</td>\n",
       "      <td>0</td>\n",
       "      <td>женат / замужем</td>\n",
       "      <td>0</td>\n",
       "      <td>F</td>\n",
       "      <td>сотрудник</td>\n",
       "      <td>0</td>\n",
       "      <td>253875</td>\n",
       "      <td>покупка жилья</td>\n",
       "      <td>покупка, ,жилье,\\n</td>\n",
       "      <td>1 ребенок</td>\n",
       "      <td>высокий доход</td>\n",
       "    </tr>\n",
       "    <tr>\n",
       "      <td>1</td>\n",
       "      <td>1</td>\n",
       "      <td>-4024</td>\n",
       "      <td>36</td>\n",
       "      <td>среднее</td>\n",
       "      <td>1</td>\n",
       "      <td>женат / замужем</td>\n",
       "      <td>0</td>\n",
       "      <td>F</td>\n",
       "      <td>сотрудник</td>\n",
       "      <td>0</td>\n",
       "      <td>112080</td>\n",
       "      <td>приобретение автомобиля</td>\n",
       "      <td>приобретение, ,автомобиль,\\n</td>\n",
       "      <td>1 ребенок</td>\n",
       "      <td>ниже среднего</td>\n",
       "    </tr>\n",
       "    <tr>\n",
       "      <td>2</td>\n",
       "      <td>0</td>\n",
       "      <td>-5623</td>\n",
       "      <td>33</td>\n",
       "      <td>среднее</td>\n",
       "      <td>1</td>\n",
       "      <td>женат / замужем</td>\n",
       "      <td>0</td>\n",
       "      <td>M</td>\n",
       "      <td>сотрудник</td>\n",
       "      <td>0</td>\n",
       "      <td>145885</td>\n",
       "      <td>покупка жилья</td>\n",
       "      <td>покупка, ,жилье,\\n</td>\n",
       "      <td>без детей</td>\n",
       "      <td>ниже среднего</td>\n",
       "    </tr>\n",
       "    <tr>\n",
       "      <td>3</td>\n",
       "      <td>3</td>\n",
       "      <td>-4124</td>\n",
       "      <td>32</td>\n",
       "      <td>среднее</td>\n",
       "      <td>1</td>\n",
       "      <td>женат / замужем</td>\n",
       "      <td>0</td>\n",
       "      <td>M</td>\n",
       "      <td>сотрудник</td>\n",
       "      <td>0</td>\n",
       "      <td>267628</td>\n",
       "      <td>дополнительное образование</td>\n",
       "      <td>дополнительный, ,образование,\\n</td>\n",
       "      <td>более 1 ребенка</td>\n",
       "      <td>высокий доход</td>\n",
       "    </tr>\n",
       "    <tr>\n",
       "      <td>4</td>\n",
       "      <td>0</td>\n",
       "      <td>340266</td>\n",
       "      <td>53</td>\n",
       "      <td>среднее</td>\n",
       "      <td>1</td>\n",
       "      <td>гражданский брак</td>\n",
       "      <td>1</td>\n",
       "      <td>F</td>\n",
       "      <td>пенсионер</td>\n",
       "      <td>0</td>\n",
       "      <td>158616</td>\n",
       "      <td>сыграть свадьбу</td>\n",
       "      <td>сыграть, ,свадьба,\\n</td>\n",
       "      <td>без детей</td>\n",
       "      <td>ниже среднего</td>\n",
       "    </tr>\n",
       "  </tbody>\n",
       "</table>\n",
       "</div>"
      ],
      "text/plain": [
       "   children  days_employed  dob_years education  education_id  \\\n",
       "0         1          -8437         42    высшее             0   \n",
       "1         1          -4024         36   среднее             1   \n",
       "2         0          -5623         33   среднее             1   \n",
       "3         3          -4124         32   среднее             1   \n",
       "4         0         340266         53   среднее             1   \n",
       "\n",
       "      family_status  family_status_id gender income_type  debt  total_income  \\\n",
       "0   женат / замужем                 0      F   сотрудник     0        253875   \n",
       "1   женат / замужем                 0      F   сотрудник     0        112080   \n",
       "2   женат / замужем                 0      M   сотрудник     0        145885   \n",
       "3   женат / замужем                 0      M   сотрудник     0        267628   \n",
       "4  гражданский брак                 1      F   пенсионер     0        158616   \n",
       "\n",
       "                      purpose                           lemmas  \\\n",
       "0               покупка жилья               покупка, ,жилье,\\n   \n",
       "1     приобретение автомобиля     приобретение, ,автомобиль,\\n   \n",
       "2               покупка жилья               покупка, ,жилье,\\n   \n",
       "3  дополнительное образование  дополнительный, ,образование,\\n   \n",
       "4             сыграть свадьбу             сыграть, ,свадьба,\\n   \n",
       "\n",
       "       children_id total_income_id  \n",
       "0        1 ребенок   высокий доход  \n",
       "1        1 ребенок   ниже среднего  \n",
       "2        без детей   ниже среднего  \n",
       "3  более 1 ребенка   высокий доход  \n",
       "4        без детей   ниже среднего  "
      ]
     },
     "execution_count": 22,
     "metadata": {},
     "output_type": "execute_result"
    }
   ],
   "source": [
    "def total_income_id(total_income): \n",
    "    if total_income <= 165159/2 : \n",
    "        return 'низкий доход' \n",
    "    elif 165159/2 < total_income <= data['total_income'].mean() : \n",
    "        return 'ниже среднего' \n",
    "    elif data['total_income'].mean() < total_income <= 165159*1.5 : \n",
    "        return 'выше среднего' \n",
    "    else:\n",
    "        return 'высокий доход' \n",
    "    \n",
    "data['total_income_id'] = data['total_income'].apply(total_income_id) \n",
    "data.head() #check"
   ]
  },
  {
   "cell_type": "markdown",
   "metadata": {},
   "source": [
    "**3 category** <br>"
   ]
  },
  {
   "cell_type": "code",
   "execution_count": 23,
   "metadata": {},
   "outputs": [
    {
     "data": {
      "text/plain": [
       "array(['покупка жилья', 'приобретение автомобиля',\n",
       "       'дополнительное образование', 'сыграть свадьбу',\n",
       "       'операции с жильем', 'образование', 'на проведение свадьбы',\n",
       "       'покупка жилья для семьи', 'покупка недвижимости',\n",
       "       'покупка коммерческой недвижимости', 'покупка жилой недвижимости',\n",
       "       'строительство собственной недвижимости', 'недвижимость',\n",
       "       'строительство недвижимости', 'на покупку подержанного автомобиля',\n",
       "       'на покупку своего автомобиля',\n",
       "       'операции с коммерческой недвижимостью',\n",
       "       'строительство жилой недвижимости', 'жилье',\n",
       "       'операции со своей недвижимостью', 'автомобили',\n",
       "       'заняться образованием', 'сделка с подержанным автомобилем',\n",
       "       'получение образования', 'автомобиль', 'свадьба',\n",
       "       'получение дополнительного образования', 'покупка своего жилья',\n",
       "       'операции с недвижимостью', 'получение высшего образования',\n",
       "       'свой автомобиль', 'сделка с автомобилем',\n",
       "       'профильное образование', 'высшее образование',\n",
       "       'покупка жилья для сдачи', 'на покупку автомобиля', 'ремонт жилью',\n",
       "       'заняться высшим образованием'], dtype=object)"
      ]
     },
     "execution_count": 23,
     "metadata": {},
     "output_type": "execute_result"
    }
   ],
   "source": [
    "data['purpose'].unique() "
   ]
  },
  {
   "cell_type": "markdown",
   "metadata": {},
   "source": [
    "The main categories that can be distinguished are: <br>\n",
    "1. buying a car <br>\n",
    "2. purchase / construction of a house / real estate <br>\n",
    "3. getting an education <br>\n",
    "4. wedding <br>\n",
    "5. repair"
   ]
  },
  {
   "cell_type": "code",
   "execution_count": 24,
   "metadata": {},
   "outputs": [
    {
     "name": "stdout",
     "output_type": "stream",
     "text": [
      "['жилье' 'авто' 'образование' 'свадьба' 'ремонт']\n"
     ]
    },
    {
     "data": {
      "text/html": [
       "<div>\n",
       "<style scoped>\n",
       "    .dataframe tbody tr th:only-of-type {\n",
       "        vertical-align: middle;\n",
       "    }\n",
       "\n",
       "    .dataframe tbody tr th {\n",
       "        vertical-align: top;\n",
       "    }\n",
       "\n",
       "    .dataframe thead th {\n",
       "        text-align: right;\n",
       "    }\n",
       "</style>\n",
       "<table border=\"1\" class=\"dataframe\">\n",
       "  <thead>\n",
       "    <tr style=\"text-align: right;\">\n",
       "      <th></th>\n",
       "      <th>children</th>\n",
       "      <th>days_employed</th>\n",
       "      <th>dob_years</th>\n",
       "      <th>education</th>\n",
       "      <th>education_id</th>\n",
       "      <th>family_status</th>\n",
       "      <th>family_status_id</th>\n",
       "      <th>gender</th>\n",
       "      <th>income_type</th>\n",
       "      <th>debt</th>\n",
       "      <th>total_income</th>\n",
       "      <th>purpose</th>\n",
       "      <th>lemmas</th>\n",
       "      <th>children_id</th>\n",
       "      <th>total_income_id</th>\n",
       "      <th>purpose_id</th>\n",
       "    </tr>\n",
       "  </thead>\n",
       "  <tbody>\n",
       "    <tr>\n",
       "      <td>0</td>\n",
       "      <td>1</td>\n",
       "      <td>-8437</td>\n",
       "      <td>42</td>\n",
       "      <td>высшее</td>\n",
       "      <td>0</td>\n",
       "      <td>женат / замужем</td>\n",
       "      <td>0</td>\n",
       "      <td>F</td>\n",
       "      <td>сотрудник</td>\n",
       "      <td>0</td>\n",
       "      <td>253875</td>\n",
       "      <td>покупка жилья</td>\n",
       "      <td>покупка, ,жилье,\\n</td>\n",
       "      <td>1 ребенок</td>\n",
       "      <td>высокий доход</td>\n",
       "      <td>жилье</td>\n",
       "    </tr>\n",
       "    <tr>\n",
       "      <td>1</td>\n",
       "      <td>1</td>\n",
       "      <td>-4024</td>\n",
       "      <td>36</td>\n",
       "      <td>среднее</td>\n",
       "      <td>1</td>\n",
       "      <td>женат / замужем</td>\n",
       "      <td>0</td>\n",
       "      <td>F</td>\n",
       "      <td>сотрудник</td>\n",
       "      <td>0</td>\n",
       "      <td>112080</td>\n",
       "      <td>приобретение автомобиля</td>\n",
       "      <td>приобретение, ,автомобиль,\\n</td>\n",
       "      <td>1 ребенок</td>\n",
       "      <td>ниже среднего</td>\n",
       "      <td>авто</td>\n",
       "    </tr>\n",
       "    <tr>\n",
       "      <td>2</td>\n",
       "      <td>0</td>\n",
       "      <td>-5623</td>\n",
       "      <td>33</td>\n",
       "      <td>среднее</td>\n",
       "      <td>1</td>\n",
       "      <td>женат / замужем</td>\n",
       "      <td>0</td>\n",
       "      <td>M</td>\n",
       "      <td>сотрудник</td>\n",
       "      <td>0</td>\n",
       "      <td>145885</td>\n",
       "      <td>покупка жилья</td>\n",
       "      <td>покупка, ,жилье,\\n</td>\n",
       "      <td>без детей</td>\n",
       "      <td>ниже среднего</td>\n",
       "      <td>жилье</td>\n",
       "    </tr>\n",
       "    <tr>\n",
       "      <td>3</td>\n",
       "      <td>3</td>\n",
       "      <td>-4124</td>\n",
       "      <td>32</td>\n",
       "      <td>среднее</td>\n",
       "      <td>1</td>\n",
       "      <td>женат / замужем</td>\n",
       "      <td>0</td>\n",
       "      <td>M</td>\n",
       "      <td>сотрудник</td>\n",
       "      <td>0</td>\n",
       "      <td>267628</td>\n",
       "      <td>дополнительное образование</td>\n",
       "      <td>дополнительный, ,образование,\\n</td>\n",
       "      <td>более 1 ребенка</td>\n",
       "      <td>высокий доход</td>\n",
       "      <td>образование</td>\n",
       "    </tr>\n",
       "    <tr>\n",
       "      <td>4</td>\n",
       "      <td>0</td>\n",
       "      <td>340266</td>\n",
       "      <td>53</td>\n",
       "      <td>среднее</td>\n",
       "      <td>1</td>\n",
       "      <td>гражданский брак</td>\n",
       "      <td>1</td>\n",
       "      <td>F</td>\n",
       "      <td>пенсионер</td>\n",
       "      <td>0</td>\n",
       "      <td>158616</td>\n",
       "      <td>сыграть свадьбу</td>\n",
       "      <td>сыграть, ,свадьба,\\n</td>\n",
       "      <td>без детей</td>\n",
       "      <td>ниже среднего</td>\n",
       "      <td>свадьба</td>\n",
       "    </tr>\n",
       "  </tbody>\n",
       "</table>\n",
       "</div>"
      ],
      "text/plain": [
       "   children  days_employed  dob_years education  education_id  \\\n",
       "0         1          -8437         42    высшее             0   \n",
       "1         1          -4024         36   среднее             1   \n",
       "2         0          -5623         33   среднее             1   \n",
       "3         3          -4124         32   среднее             1   \n",
       "4         0         340266         53   среднее             1   \n",
       "\n",
       "      family_status  family_status_id gender income_type  debt  total_income  \\\n",
       "0   женат / замужем                 0      F   сотрудник     0        253875   \n",
       "1   женат / замужем                 0      F   сотрудник     0        112080   \n",
       "2   женат / замужем                 0      M   сотрудник     0        145885   \n",
       "3   женат / замужем                 0      M   сотрудник     0        267628   \n",
       "4  гражданский брак                 1      F   пенсионер     0        158616   \n",
       "\n",
       "                      purpose                           lemmas  \\\n",
       "0               покупка жилья               покупка, ,жилье,\\n   \n",
       "1     приобретение автомобиля     приобретение, ,автомобиль,\\n   \n",
       "2               покупка жилья               покупка, ,жилье,\\n   \n",
       "3  дополнительное образование  дополнительный, ,образование,\\n   \n",
       "4             сыграть свадьбу             сыграть, ,свадьба,\\n   \n",
       "\n",
       "       children_id total_income_id   purpose_id  \n",
       "0        1 ребенок   высокий доход        жилье  \n",
       "1        1 ребенок   ниже среднего         авто  \n",
       "2        без детей   ниже среднего        жилье  \n",
       "3  более 1 ребенка   высокий доход  образование  \n",
       "4        без детей   ниже среднего      свадьба  "
      ]
     },
     "execution_count": 24,
     "metadata": {},
     "output_type": "execute_result"
    }
   ],
   "source": [
    "def purpose_id(purpose_lemma): \n",
    "    if 'автомобиль' in purpose_lemma: \n",
    "        return 'авто' \n",
    "    elif 'ремонт' in purpose_lemma: \n",
    "        return 'ремонт' \n",
    "    elif 'образование' in purpose_lemma: \n",
    "        return 'образование'         \n",
    "    elif 'свадьба' in purpose_lemma: \n",
    "        return 'свадьба' \n",
    "    elif 'недвижимость' or 'жилье' in purpose_lemma: \n",
    "        return 'жилье' \n",
    "    else:\n",
    "        return 'категория не задана' # if some lemmas are not included above - return \"no category\" \n",
    "    \n",
    "data['purpose_id'] = data['lemmas'].apply(purpose_id) \n",
    "print(data['purpose_id'].unique()) #check\n",
    "data.head() #check"
   ]
  },
  {
   "cell_type": "markdown",
   "metadata": {},
   "source": [
    "**Вывод**"
   ]
  },
  {
   "cell_type": "markdown",
   "metadata": {},
   "source": [
    "There were 3 categories in total:\n",
    "1) by the number of children <br>\n",
    "2) by income level<br>\n",
    "3) according to the purpose of the loan<br>\n",
    "\n",
    "Categories were selected based on the objectives of the study. Additional categorization by marital status was not carried out, as the column already contains the necessary categories."
   ]
  },
  {
   "cell_type": "markdown",
   "metadata": {},
   "source": [
    "## 3. Research questions"
   ]
  },
  {
   "cell_type": "markdown",
   "metadata": {},
   "source": [
    "- Is there a relationship between having children and repaying a loan on time?"
   ]
  },
  {
   "cell_type": "code",
   "execution_count": 25,
   "metadata": {},
   "outputs": [
    {
     "data": {
      "text/plain": [
       "children_id      debt\n",
       "1 ребенок        0       0.908530\n",
       "                 1       0.091470\n",
       "без детей        0       0.924871\n",
       "                 1       0.075129\n",
       "более 1 ребенка  0       0.907208\n",
       "                 1       0.092792\n",
       "Name: debt, dtype: float64"
      ]
     },
     "execution_count": 25,
     "metadata": {},
     "output_type": "execute_result"
    }
   ],
   "source": [
    "data.groupby('children_id')['debt'].value_counts(normalize = True) "
   ]
  },
  {
   "cell_type": "markdown",
   "metadata": {},
   "source": [
    "<u>**Conclusion 1**</u>"
   ]
  },
  {
   "cell_type": "markdown",
   "metadata": {},
   "source": [
    "The clients with children have the loan default rate of 9.3% (for clients with more than 1 child) and 9.1% (for clients with one child). On average (9.2%), these values are 1.7 percentage point higher than the loan default rate for clients without children (7.5%).\n",
    "\n",
    "**Thus, the number of children has a slight negative impact on the repayment of the loan on time.**"
   ]
  },
  {
   "cell_type": "markdown",
   "metadata": {},
   "source": [
    "- Is there a relationship between marital status and loan repayment on time?"
   ]
  },
  {
   "cell_type": "code",
   "execution_count": 26,
   "metadata": {},
   "outputs": [
    {
     "data": {
      "text/html": [
       "<div>\n",
       "<style scoped>\n",
       "    .dataframe tbody tr th:only-of-type {\n",
       "        vertical-align: middle;\n",
       "    }\n",
       "\n",
       "    .dataframe tbody tr th {\n",
       "        vertical-align: top;\n",
       "    }\n",
       "\n",
       "    .dataframe thead tr th {\n",
       "        text-align: left;\n",
       "    }\n",
       "\n",
       "    .dataframe thead tr:last-of-type th {\n",
       "        text-align: right;\n",
       "    }\n",
       "</style>\n",
       "<table border=\"1\" class=\"dataframe\">\n",
       "  <thead>\n",
       "    <tr>\n",
       "      <th></th>\n",
       "      <th>sum</th>\n",
       "      <th>count</th>\n",
       "      <th>percentage_non_repayment</th>\n",
       "    </tr>\n",
       "    <tr>\n",
       "      <th></th>\n",
       "      <th>debt</th>\n",
       "      <th>debt</th>\n",
       "      <th></th>\n",
       "    </tr>\n",
       "    <tr>\n",
       "      <th>family_status</th>\n",
       "      <th></th>\n",
       "      <th></th>\n",
       "      <th></th>\n",
       "    </tr>\n",
       "  </thead>\n",
       "  <tbody>\n",
       "    <tr>\n",
       "      <td>вдовец / вдова</td>\n",
       "      <td>63</td>\n",
       "      <td>960</td>\n",
       "      <td>0.065625</td>\n",
       "    </tr>\n",
       "    <tr>\n",
       "      <td>в разводе</td>\n",
       "      <td>85</td>\n",
       "      <td>1195</td>\n",
       "      <td>0.071130</td>\n",
       "    </tr>\n",
       "    <tr>\n",
       "      <td>женат / замужем</td>\n",
       "      <td>931</td>\n",
       "      <td>12380</td>\n",
       "      <td>0.075202</td>\n",
       "    </tr>\n",
       "    <tr>\n",
       "      <td>гражданский брак</td>\n",
       "      <td>388</td>\n",
       "      <td>4177</td>\n",
       "      <td>0.092890</td>\n",
       "    </tr>\n",
       "    <tr>\n",
       "      <td>Не женат / не замужем</td>\n",
       "      <td>274</td>\n",
       "      <td>2813</td>\n",
       "      <td>0.097405</td>\n",
       "    </tr>\n",
       "  </tbody>\n",
       "</table>\n",
       "</div>"
      ],
      "text/plain": [
       "                       sum  count percentage_non_repayment\n",
       "                      debt   debt                         \n",
       "family_status                                             \n",
       "вдовец / вдова          63    960                 0.065625\n",
       "в разводе               85   1195                 0.071130\n",
       "женат / замужем        931  12380                 0.075202\n",
       "гражданский брак       388   4177                 0.092890\n",
       "Не женат / не замужем  274   2813                 0.097405"
      ]
     },
     "execution_count": 26,
     "metadata": {},
     "output_type": "execute_result"
    }
   ],
   "source": [
    "data_family_pivot = data.pivot_table(index = 'family_status', values = 'debt', aggfunc= ['sum','count']) \n",
    "data_family_pivot['percentage_non_repayment'] = data_family_pivot['sum']/data_family_pivot['count'] \n",
    "data_family_pivot.sort_values(by = 'percentage_non_repayment') "
   ]
  },
  {
   "cell_type": "markdown",
   "metadata": {},
   "source": [
    "<u>**Conclusion 2**</u>"
   ]
  },
  {
   "cell_type": "markdown",
   "metadata": {},
   "source": [
    "The more \"serious\" the client's marital status, the lower the loan default rate. The difference between the category of clients `single` and `in a civil marriage` was only 0.4 p.p. (9.7% and 9.3%), while clients from the category `married` (7.5%) have 1.8 p.p. higher chance of repaying the loan on time. \n",
    "\n",
    "The category `divorced` most likely indicates that the client has been married for some time, probably even for a long time, as does the category of `widower`. The percentage of non-return falls proportionally - in the divorced category it is already 7.1%, in the category of widowers - 6.6%, which is 0.4 p.p. and 1 p.p., respectively, below the married category. However, it is important to understand that the percentage of non-return in the \"widower\" category may also be age factor related.\n",
    "\n",
    "**Thus, the presence of a marriage in the present or in the past suggests that the client is more reliable.**"
   ]
  },
  {
   "cell_type": "markdown",
   "metadata": {},
   "source": [
    "- Is there a relationship between income level and loan repayment on time?"
   ]
  },
  {
   "cell_type": "code",
   "execution_count": 27,
   "metadata": {},
   "outputs": [
    {
     "data": {
      "text/html": [
       "<div>\n",
       "<style scoped>\n",
       "    .dataframe tbody tr th:only-of-type {\n",
       "        vertical-align: middle;\n",
       "    }\n",
       "\n",
       "    .dataframe tbody tr th {\n",
       "        vertical-align: top;\n",
       "    }\n",
       "\n",
       "    .dataframe thead tr th {\n",
       "        text-align: left;\n",
       "    }\n",
       "\n",
       "    .dataframe thead tr:last-of-type th {\n",
       "        text-align: right;\n",
       "    }\n",
       "</style>\n",
       "<table border=\"1\" class=\"dataframe\">\n",
       "  <thead>\n",
       "    <tr>\n",
       "      <th></th>\n",
       "      <th>sum</th>\n",
       "      <th>count</th>\n",
       "      <th>percentage_non_repayment</th>\n",
       "    </tr>\n",
       "    <tr>\n",
       "      <th></th>\n",
       "      <th>debt</th>\n",
       "      <th>debt</th>\n",
       "      <th></th>\n",
       "    </tr>\n",
       "    <tr>\n",
       "      <th>total_income_id</th>\n",
       "      <th></th>\n",
       "      <th></th>\n",
       "      <th></th>\n",
       "    </tr>\n",
       "  </thead>\n",
       "  <tbody>\n",
       "    <tr>\n",
       "      <td>высокий доход</td>\n",
       "      <td>198</td>\n",
       "      <td>2883</td>\n",
       "      <td>0.068678</td>\n",
       "    </tr>\n",
       "    <tr>\n",
       "      <td>низкий доход</td>\n",
       "      <td>196</td>\n",
       "      <td>2547</td>\n",
       "      <td>0.076953</td>\n",
       "    </tr>\n",
       "    <tr>\n",
       "      <td>выше среднего</td>\n",
       "      <td>399</td>\n",
       "      <td>4808</td>\n",
       "      <td>0.082987</td>\n",
       "    </tr>\n",
       "    <tr>\n",
       "      <td>ниже среднего</td>\n",
       "      <td>948</td>\n",
       "      <td>11287</td>\n",
       "      <td>0.083990</td>\n",
       "    </tr>\n",
       "  </tbody>\n",
       "</table>\n",
       "</div>"
      ],
      "text/plain": [
       "                 sum  count percentage_non_repayment\n",
       "                debt   debt                         \n",
       "total_income_id                                     \n",
       "высокий доход    198   2883                 0.068678\n",
       "низкий доход     196   2547                 0.076953\n",
       "выше среднего    399   4808                 0.082987\n",
       "ниже среднего    948  11287                 0.083990"
      ]
     },
     "execution_count": 27,
     "metadata": {},
     "output_type": "execute_result"
    }
   ],
   "source": [
    "data_income_pivot = data.pivot_table(index = 'total_income_id', values = 'debt', aggfunc= ['sum','count']) \n",
    "data_income_pivot['percentage_non_repayment'] = data_income_pivot['sum']/data_income_pivot['count'] \n",
    "data_income_pivot.sort_values(by = 'percentage_non_repayment') "
   ]
  },
  {
   "cell_type": "markdown",
   "metadata": {},
   "source": [
    "<u>**Conclusion 3** </u>"
   ]
  },
  {
   "cell_type": "markdown",
   "metadata": {},
   "source": [
    "As expected - the lowest non-return rate was for the high-income category - 6.87% of loan non-return. At the same time, it was interesting that clients from the low-income category are in the second place - 7.7% of non-return. People with an average income make up the most \"unreliable\" group and repay the loan late by about 0.6 p.p. more often: 8.3% - clients with an income above the average and 8.4% - clients with an income below the average (the most massive category).\n",
    "\n",
    "The categorization can be improved by adding the ranking of income used by the bank."
   ]
  },
  {
   "cell_type": "markdown",
   "metadata": {},
   "source": [
    "- How do different loan purposes affect its repayment on time?"
   ]
  },
  {
   "cell_type": "code",
   "execution_count": 28,
   "metadata": {},
   "outputs": [
    {
     "data": {
      "text/html": [
       "<div>\n",
       "<style scoped>\n",
       "    .dataframe tbody tr th:only-of-type {\n",
       "        vertical-align: middle;\n",
       "    }\n",
       "\n",
       "    .dataframe tbody tr th {\n",
       "        vertical-align: top;\n",
       "    }\n",
       "\n",
       "    .dataframe thead tr th {\n",
       "        text-align: left;\n",
       "    }\n",
       "\n",
       "    .dataframe thead tr:last-of-type th {\n",
       "        text-align: right;\n",
       "    }\n",
       "</style>\n",
       "<table border=\"1\" class=\"dataframe\">\n",
       "  <thead>\n",
       "    <tr>\n",
       "      <th></th>\n",
       "      <th>sum</th>\n",
       "      <th>count</th>\n",
       "      <th>percentage_non_repayment</th>\n",
       "    </tr>\n",
       "    <tr>\n",
       "      <th></th>\n",
       "      <th>debt</th>\n",
       "      <th>debt</th>\n",
       "      <th></th>\n",
       "    </tr>\n",
       "    <tr>\n",
       "      <th>purpose_id</th>\n",
       "      <th></th>\n",
       "      <th></th>\n",
       "      <th></th>\n",
       "    </tr>\n",
       "  </thead>\n",
       "  <tbody>\n",
       "    <tr>\n",
       "      <td>ремонт</td>\n",
       "      <td>35</td>\n",
       "      <td>612</td>\n",
       "      <td>0.057190</td>\n",
       "    </tr>\n",
       "    <tr>\n",
       "      <td>жилье</td>\n",
       "      <td>747</td>\n",
       "      <td>10228</td>\n",
       "      <td>0.073035</td>\n",
       "    </tr>\n",
       "    <tr>\n",
       "      <td>свадьба</td>\n",
       "      <td>186</td>\n",
       "      <td>2348</td>\n",
       "      <td>0.079216</td>\n",
       "    </tr>\n",
       "    <tr>\n",
       "      <td>образование</td>\n",
       "      <td>370</td>\n",
       "      <td>4022</td>\n",
       "      <td>0.091994</td>\n",
       "    </tr>\n",
       "    <tr>\n",
       "      <td>авто</td>\n",
       "      <td>403</td>\n",
       "      <td>4315</td>\n",
       "      <td>0.093395</td>\n",
       "    </tr>\n",
       "  </tbody>\n",
       "</table>\n",
       "</div>"
      ],
      "text/plain": [
       "             sum  count percentage_non_repayment\n",
       "            debt   debt                         \n",
       "purpose_id                                      \n",
       "ремонт        35    612                 0.057190\n",
       "жилье        747  10228                 0.073035\n",
       "свадьба      186   2348                 0.079216\n",
       "образование  370   4022                 0.091994\n",
       "авто         403   4315                 0.093395"
      ]
     },
     "execution_count": 28,
     "metadata": {},
     "output_type": "execute_result"
    }
   ],
   "source": [
    "data_purpose_pivot = data.pivot_table(index = 'purpose_id', values = 'debt', aggfunc= ['sum','count']) \n",
    "data_purpose_pivot['percentage_non_repayment'] = data_purpose_pivot['sum']/data_purpose_pivot['count'] \n",
    "data_purpose_pivot.sort_values(by = 'percentage_non_repayment') "
   ]
  },
  {
   "cell_type": "markdown",
   "metadata": {},
   "source": [
    "<u>**Conclusion 4** </u>"
   ]
  },
  {
   "cell_type": "markdown",
   "metadata": {},
   "source": [
    "The worst situation with loan repayment on time is in the category of auto loans - almost every 10th loan will be repaid late (9.34%). This may be due to the fact that the car is usually pledged to the bank for such loans and customers feel a little more relaxed about loan repayment. The slightly higher percentage of non-return is in the category of education - 9.2% - may be due to the fact that the income of clients falls when they return to education, or is absent (higher education). \n",
    "\n",
    "Slightly better is the situation with loans for housing and weddings - 7.9% and 7.3% of loan defaults, respectively. The most \"repaid\" on time loan is a loan for repairs - 5.7% default, which may be due to the small loan amounts. \n",
    "\n",
    "However, it is also the smallest category."
   ]
  },
  {
   "cell_type": "markdown",
   "metadata": {},
   "source": [
    "## 4. Final conclusion"
   ]
  },
  {
   "cell_type": "markdown",
   "metadata": {},
   "source": [
    "Repayment of the loan on time depends on various factors, including: the presence of children, marital status, income level, purpose of the loan, and others not specified in this study.\n",
    "\n",
    "It was found out that the presence of children and marital status affect the repayment of the loan on time. At the same time, there is some contradiction: if the client is with children, the chance that the loan will be returned on time is less; at the same time, married clients have a higher chance of repaying the loan on time than single clients.\n",
    "\n",
    "The level of income also has an effect. People with average income are less likely to repay the loan on time than people with high and even low incomes (the result may be distorted by the fact that average category is the most massive - there is class disbalance).\n",
    "\n",
    "As for the purpose of the loan, the range of values is most noticeable. The lowest percentage of loan repayment on time is in the car category and the education category, while repairs are returned mostly on time. Loans for housing and for a wedding are not returned on time with approximately the same frequency."
   ]
  }
 ],
 "metadata": {
  "ExecuteTimeLog": [
   {
    "duration": 1691,
    "start_time": "2021-12-13T21:35:42.387Z"
   },
   {
    "duration": 605,
    "start_time": "2021-12-13T21:35:44.410Z"
   },
   {
    "duration": 590,
    "start_time": "2021-12-13T21:35:53.810Z"
   },
   {
    "duration": 634,
    "start_time": "2021-12-13T21:36:54.578Z"
   },
   {
    "duration": 49,
    "start_time": "2021-12-13T21:36:57.689Z"
   },
   {
    "duration": 69,
    "start_time": "2021-12-13T21:37:02.598Z"
   },
   {
    "duration": 81,
    "start_time": "2021-12-13T21:37:13.768Z"
   },
   {
    "duration": 57,
    "start_time": "2021-12-13T21:38:36.262Z"
   },
   {
    "duration": 68,
    "start_time": "2021-12-13T21:50:02.020Z"
   },
   {
    "duration": 63,
    "start_time": "2021-12-13T21:50:11.624Z"
   },
   {
    "duration": 71,
    "start_time": "2021-12-13T22:01:07.771Z"
   },
   {
    "duration": 7,
    "start_time": "2021-12-13T22:05:17.219Z"
   },
   {
    "duration": 317,
    "start_time": "2021-12-13T22:05:35.845Z"
   },
   {
    "duration": 7,
    "start_time": "2021-12-13T22:05:44.718Z"
   },
   {
    "duration": -3296,
    "start_time": "2021-12-13T22:06:18.314Z"
   },
   {
    "duration": 5,
    "start_time": "2021-12-13T22:06:21.864Z"
   },
   {
    "duration": 6,
    "start_time": "2021-12-13T22:06:35.538Z"
   },
   {
    "duration": 5,
    "start_time": "2021-12-13T22:06:52.505Z"
   },
   {
    "duration": 5,
    "start_time": "2021-12-13T22:07:03.768Z"
   },
   {
    "duration": 8,
    "start_time": "2021-12-13T22:09:04.368Z"
   },
   {
    "duration": 6,
    "start_time": "2021-12-13T22:09:12.513Z"
   },
   {
    "duration": 93,
    "start_time": "2021-12-13T22:10:00.283Z"
   },
   {
    "duration": 97,
    "start_time": "2021-12-13T22:10:23.158Z"
   },
   {
    "duration": 78,
    "start_time": "2021-12-13T22:10:26.993Z"
   },
   {
    "duration": 9,
    "start_time": "2021-12-13T22:10:38.268Z"
   },
   {
    "duration": 3395,
    "start_time": "2021-12-13T22:11:11.717Z"
   },
   {
    "duration": 3001,
    "start_time": "2021-12-13T22:11:15.396Z"
   },
   {
    "duration": 93,
    "start_time": "2021-12-13T22:11:20.767Z"
   },
   {
    "duration": 7,
    "start_time": "2021-12-13T22:11:27.497Z"
   },
   {
    "duration": 31,
    "start_time": "2021-12-13T22:12:00.714Z"
   },
   {
    "duration": 252,
    "start_time": "2021-12-13T22:12:44.922Z"
   },
   {
    "duration": 7,
    "start_time": "2021-12-13T22:12:48.765Z"
   },
   {
    "duration": 7,
    "start_time": "2021-12-13T22:14:12.936Z"
   },
   {
    "duration": 7,
    "start_time": "2021-12-13T22:14:26.165Z"
   },
   {
    "duration": 6,
    "start_time": "2021-12-13T22:14:33.017Z"
   },
   {
    "duration": 7,
    "start_time": "2021-12-13T22:14:44.209Z"
   },
   {
    "duration": 7,
    "start_time": "2021-12-13T22:14:50.293Z"
   },
   {
    "duration": 12,
    "start_time": "2021-12-13T22:15:47.919Z"
   },
   {
    "duration": 6,
    "start_time": "2021-12-13T22:15:53.379Z"
   },
   {
    "duration": 8,
    "start_time": "2021-12-13T22:33:28.155Z"
   },
   {
    "duration": 5,
    "start_time": "2021-12-13T22:35:35.101Z"
   },
   {
    "duration": 5,
    "start_time": "2021-12-13T22:35:36.671Z"
   },
   {
    "duration": 6,
    "start_time": "2021-12-13T22:36:37.827Z"
   },
   {
    "duration": 6,
    "start_time": "2021-12-13T22:36:54.876Z"
   },
   {
    "duration": 5,
    "start_time": "2021-12-13T22:37:34.945Z"
   },
   {
    "duration": 32,
    "start_time": "2021-12-13T22:37:52.697Z"
   },
   {
    "duration": 7,
    "start_time": "2021-12-13T22:38:34.508Z"
   },
   {
    "duration": 8,
    "start_time": "2021-12-13T22:39:29.568Z"
   },
   {
    "duration": 10,
    "start_time": "2021-12-13T22:39:50.194Z"
   },
   {
    "duration": 239,
    "start_time": "2021-12-13T22:40:06.836Z"
   },
   {
    "duration": 9,
    "start_time": "2021-12-13T22:40:19.349Z"
   },
   {
    "duration": 13,
    "start_time": "2021-12-13T22:41:02.108Z"
   },
   {
    "duration": 10,
    "start_time": "2021-12-13T22:41:13.945Z"
   },
   {
    "duration": 12,
    "start_time": "2021-12-13T22:41:32.544Z"
   },
   {
    "duration": 13,
    "start_time": "2021-12-13T22:44:38.659Z"
   },
   {
    "duration": 67,
    "start_time": "2021-12-13T22:56:01.966Z"
   },
   {
    "duration": 65,
    "start_time": "2021-12-13T22:56:23.383Z"
   },
   {
    "duration": 9,
    "start_time": "2021-12-13T22:58:39.071Z"
   },
   {
    "duration": 8,
    "start_time": "2021-12-13T22:58:47.454Z"
   },
   {
    "duration": 9,
    "start_time": "2021-12-13T23:01:02.855Z"
   },
   {
    "duration": 11,
    "start_time": "2021-12-13T23:01:19.032Z"
   },
   {
    "duration": 23,
    "start_time": "2021-12-13T23:01:28.183Z"
   },
   {
    "duration": 5,
    "start_time": "2021-12-13T23:07:36.459Z"
   },
   {
    "duration": 4,
    "start_time": "2021-12-13T23:07:58.176Z"
   },
   {
    "duration": 4,
    "start_time": "2021-12-13T23:08:26.379Z"
   },
   {
    "duration": 12,
    "start_time": "2021-12-13T23:11:14.905Z"
   },
   {
    "duration": 4,
    "start_time": "2021-12-13T23:12:16.258Z"
   },
   {
    "duration": 4,
    "start_time": "2021-12-13T23:12:36.032Z"
   },
   {
    "duration": 4,
    "start_time": "2021-12-13T23:13:09.021Z"
   },
   {
    "duration": 5,
    "start_time": "2021-12-13T23:13:38.428Z"
   },
   {
    "duration": 216,
    "start_time": "2021-12-14T20:05:50.803Z"
   },
   {
    "duration": 641,
    "start_time": "2021-12-14T20:06:03.132Z"
   },
   {
    "duration": 4,
    "start_time": "2021-12-14T20:06:03.776Z"
   },
   {
    "duration": 22,
    "start_time": "2021-12-14T20:06:03.783Z"
   },
   {
    "duration": 16,
    "start_time": "2021-12-14T20:06:03.807Z"
   },
   {
    "duration": 39,
    "start_time": "2021-12-14T20:06:03.824Z"
   },
   {
    "duration": 19,
    "start_time": "2021-12-14T20:06:03.864Z"
   },
   {
    "duration": 32,
    "start_time": "2021-12-14T20:06:03.885Z"
   },
   {
    "duration": 15,
    "start_time": "2021-12-14T20:06:35.936Z"
   },
   {
    "duration": 202,
    "start_time": "2021-12-14T20:06:55.053Z"
   },
   {
    "duration": 12,
    "start_time": "2021-12-14T20:06:59.900Z"
   },
   {
    "duration": 6,
    "start_time": "2021-12-14T20:07:21.946Z"
   },
   {
    "duration": 6,
    "start_time": "2021-12-14T20:07:35.370Z"
   },
   {
    "duration": 6,
    "start_time": "2021-12-14T20:07:40.869Z"
   },
   {
    "duration": 15,
    "start_time": "2021-12-14T20:13:34.023Z"
   },
   {
    "duration": 8,
    "start_time": "2021-12-14T20:14:32.757Z"
   },
   {
    "duration": 4,
    "start_time": "2021-12-14T20:14:53.172Z"
   },
   {
    "duration": 65,
    "start_time": "2021-12-14T20:15:17.515Z"
   },
   {
    "duration": 68,
    "start_time": "2021-12-14T20:15:30.656Z"
   },
   {
    "duration": 3,
    "start_time": "2021-12-14T20:15:30.726Z"
   },
   {
    "duration": 14,
    "start_time": "2021-12-14T20:15:30.731Z"
   },
   {
    "duration": 21,
    "start_time": "2021-12-14T20:15:30.747Z"
   },
   {
    "duration": 22,
    "start_time": "2021-12-14T20:15:30.769Z"
   },
   {
    "duration": 12,
    "start_time": "2021-12-14T20:15:30.792Z"
   },
   {
    "duration": 6,
    "start_time": "2021-12-14T20:15:30.806Z"
   },
   {
    "duration": 13,
    "start_time": "2021-12-14T20:15:30.813Z"
   },
   {
    "duration": 8,
    "start_time": "2021-12-14T20:17:23.157Z"
   },
   {
    "duration": 65,
    "start_time": "2021-12-14T20:17:34.264Z"
   },
   {
    "duration": 53,
    "start_time": "2021-12-14T20:17:34.640Z"
   },
   {
    "duration": 5,
    "start_time": "2021-12-14T20:17:56.553Z"
   },
   {
    "duration": 4,
    "start_time": "2021-12-14T20:17:58.312Z"
   },
   {
    "duration": 4,
    "start_time": "2021-12-14T20:17:58.504Z"
   },
   {
    "duration": 4,
    "start_time": "2021-12-14T20:17:58.670Z"
   },
   {
    "duration": 7,
    "start_time": "2021-12-14T20:18:08.695Z"
   },
   {
    "duration": 5,
    "start_time": "2021-12-14T20:18:19.602Z"
   },
   {
    "duration": 7,
    "start_time": "2021-12-14T20:18:38.253Z"
   },
   {
    "duration": 7,
    "start_time": "2021-12-14T20:18:42.500Z"
   },
   {
    "duration": 67,
    "start_time": "2021-12-14T20:18:47.210Z"
   },
   {
    "duration": 5,
    "start_time": "2021-12-14T20:18:47.278Z"
   },
   {
    "duration": 9,
    "start_time": "2021-12-14T20:18:47.285Z"
   },
   {
    "duration": 6,
    "start_time": "2021-12-14T20:18:47.296Z"
   },
   {
    "duration": 19,
    "start_time": "2021-12-14T20:18:47.303Z"
   },
   {
    "duration": 12,
    "start_time": "2021-12-14T20:18:47.324Z"
   },
   {
    "duration": 6,
    "start_time": "2021-12-14T20:18:47.337Z"
   },
   {
    "duration": 66,
    "start_time": "2021-12-14T20:18:52.009Z"
   },
   {
    "duration": 4,
    "start_time": "2021-12-14T20:18:52.077Z"
   },
   {
    "duration": 7,
    "start_time": "2021-12-14T20:18:52.083Z"
   },
   {
    "duration": 4,
    "start_time": "2021-12-14T20:18:52.092Z"
   },
   {
    "duration": 11,
    "start_time": "2021-12-14T20:18:52.097Z"
   },
   {
    "duration": 11,
    "start_time": "2021-12-14T20:18:52.109Z"
   },
   {
    "duration": 6,
    "start_time": "2021-12-14T20:18:52.122Z"
   },
   {
    "duration": 6,
    "start_time": "2021-12-14T20:18:52.130Z"
   },
   {
    "duration": 7,
    "start_time": "2021-12-14T20:23:11.058Z"
   },
   {
    "duration": 5,
    "start_time": "2021-12-14T20:23:26.731Z"
   },
   {
    "duration": 5,
    "start_time": "2021-12-14T20:23:55.756Z"
   },
   {
    "duration": 168,
    "start_time": "2021-12-14T20:24:47.893Z"
   },
   {
    "duration": 16,
    "start_time": "2021-12-14T20:25:01.138Z"
   },
   {
    "duration": 17,
    "start_time": "2021-12-14T20:25:48.433Z"
   },
   {
    "duration": 5,
    "start_time": "2021-12-14T20:25:53.850Z"
   },
   {
    "duration": 15,
    "start_time": "2021-12-14T20:25:59.958Z"
   },
   {
    "duration": 19,
    "start_time": "2021-12-14T20:26:20.490Z"
   },
   {
    "duration": 16,
    "start_time": "2021-12-14T20:26:59.624Z"
   },
   {
    "duration": 12,
    "start_time": "2021-12-14T20:27:31.346Z"
   },
   {
    "duration": 13,
    "start_time": "2021-12-14T20:27:57.029Z"
   },
   {
    "duration": 35,
    "start_time": "2021-12-14T20:28:02.059Z"
   },
   {
    "duration": 219,
    "start_time": "2021-12-14T20:34:31.504Z"
   },
   {
    "duration": 623,
    "start_time": "2021-12-14T20:36:45.565Z"
   },
   {
    "duration": 635,
    "start_time": "2021-12-14T20:36:48.122Z"
   },
   {
    "duration": 631,
    "start_time": "2021-12-14T20:37:09.450Z"
   },
   {
    "duration": 26,
    "start_time": "2021-12-14T20:38:53.577Z"
   },
   {
    "duration": 18,
    "start_time": "2021-12-14T20:39:02.396Z"
   },
   {
    "duration": 21,
    "start_time": "2021-12-14T20:39:28.623Z"
   },
   {
    "duration": 20,
    "start_time": "2021-12-14T20:39:39.349Z"
   },
   {
    "duration": 203,
    "start_time": "2021-12-14T20:39:49.836Z"
   },
   {
    "duration": 193,
    "start_time": "2021-12-14T20:42:33.242Z"
   },
   {
    "duration": 171,
    "start_time": "2021-12-14T20:42:53.016Z"
   },
   {
    "duration": 176,
    "start_time": "2021-12-14T20:47:35.757Z"
   },
   {
    "duration": 203,
    "start_time": "2021-12-14T20:48:06.000Z"
   },
   {
    "duration": 178,
    "start_time": "2021-12-14T20:51:47.168Z"
   },
   {
    "duration": 193,
    "start_time": "2021-12-14T20:52:14.797Z"
   },
   {
    "duration": 173,
    "start_time": "2021-12-14T20:56:57.054Z"
   },
   {
    "duration": 182,
    "start_time": "2021-12-14T20:57:17.049Z"
   },
   {
    "duration": 705,
    "start_time": "2021-12-14T21:15:07.653Z"
   },
   {
    "duration": 70,
    "start_time": "2021-12-14T21:16:19.306Z"
   },
   {
    "duration": 68,
    "start_time": "2021-12-14T21:16:24.301Z"
   },
   {
    "duration": 5,
    "start_time": "2021-12-14T21:16:24.372Z"
   },
   {
    "duration": 6,
    "start_time": "2021-12-14T21:16:24.379Z"
   },
   {
    "duration": 5,
    "start_time": "2021-12-14T21:16:24.392Z"
   },
   {
    "duration": 13,
    "start_time": "2021-12-14T21:16:24.399Z"
   },
   {
    "duration": 8,
    "start_time": "2021-12-14T21:16:24.414Z"
   },
   {
    "duration": 16,
    "start_time": "2021-12-14T21:16:24.425Z"
   },
   {
    "duration": 74,
    "start_time": "2021-12-14T21:16:24.443Z"
   },
   {
    "duration": 707,
    "start_time": "2021-12-14T21:16:24.520Z"
   },
   {
    "duration": 4,
    "start_time": "2021-12-14T21:26:17.118Z"
   },
   {
    "duration": 692,
    "start_time": "2021-12-14T21:26:20.613Z"
   },
   {
    "duration": 199,
    "start_time": "2021-12-14T21:27:53.259Z"
   },
   {
    "duration": 15,
    "start_time": "2021-12-14T21:28:12.589Z"
   },
   {
    "duration": 60,
    "start_time": "2021-12-14T21:28:22.791Z"
   },
   {
    "duration": 12620,
    "start_time": "2021-12-14T21:30:47.155Z"
   },
   {
    "duration": 12389,
    "start_time": "2021-12-14T21:34:20.429Z"
   },
   {
    "duration": 191,
    "start_time": "2021-12-14T21:35:45.967Z"
   },
   {
    "duration": 3,
    "start_time": "2021-12-14T21:35:50.084Z"
   },
   {
    "duration": 32950,
    "start_time": "2021-12-14T21:36:52.710Z"
   },
   {
    "duration": 14,
    "start_time": "2021-12-14T21:42:01.521Z"
   },
   {
    "duration": 7,
    "start_time": "2021-12-14T21:42:24.836Z"
   },
   {
    "duration": 9,
    "start_time": "2021-12-14T21:42:47.408Z"
   },
   {
    "duration": 1951,
    "start_time": "2021-12-14T21:50:37.495Z"
   },
   {
    "duration": 191,
    "start_time": "2021-12-14T21:50:46.623Z"
   },
   {
    "duration": 22,
    "start_time": "2021-12-14T21:51:03.443Z"
   },
   {
    "duration": 9,
    "start_time": "2021-12-14T21:53:46.544Z"
   },
   {
    "duration": 5200,
    "start_time": "2021-12-14T21:58:34.477Z"
   },
   {
    "duration": 4250,
    "start_time": "2021-12-14T21:59:14.681Z"
   },
   {
    "duration": 8502,
    "start_time": "2021-12-14T21:59:20.401Z"
   },
   {
    "duration": 22083,
    "start_time": "2021-12-14T21:59:51.575Z"
   },
   {
    "duration": 9,
    "start_time": "2021-12-14T22:00:33.057Z"
   },
   {
    "duration": 53,
    "start_time": "2021-12-14T22:02:26.325Z"
   },
   {
    "duration": 70,
    "start_time": "2021-12-14T22:02:30.450Z"
   },
   {
    "duration": 60,
    "start_time": "2021-12-14T22:02:39.860Z"
   },
   {
    "duration": 66,
    "start_time": "2021-12-14T22:02:40.903Z"
   },
   {
    "duration": 9,
    "start_time": "2021-12-14T22:02:43.519Z"
   },
   {
    "duration": 62,
    "start_time": "2021-12-14T22:05:06.835Z"
   },
   {
    "duration": 4,
    "start_time": "2021-12-14T22:05:22.863Z"
   },
   {
    "duration": 4,
    "start_time": "2021-12-14T22:05:44.309Z"
   },
   {
    "duration": 3,
    "start_time": "2021-12-14T22:05:56.618Z"
   },
   {
    "duration": 8,
    "start_time": "2021-12-14T22:08:19.061Z"
   },
   {
    "duration": 18556,
    "start_time": "2021-12-14T22:09:35.481Z"
   },
   {
    "duration": 9,
    "start_time": "2021-12-14T22:10:07.421Z"
   },
   {
    "duration": 10,
    "start_time": "2021-12-14T22:13:51.182Z"
   },
   {
    "duration": 4,
    "start_time": "2021-12-14T22:17:04.548Z"
   },
   {
    "duration": 7,
    "start_time": "2021-12-14T22:17:12.915Z"
   },
   {
    "duration": 7,
    "start_time": "2021-12-14T22:20:02.209Z"
   },
   {
    "duration": 6,
    "start_time": "2021-12-14T22:20:06.939Z"
   },
   {
    "duration": 6,
    "start_time": "2021-12-14T22:20:16.418Z"
   },
   {
    "duration": 8,
    "start_time": "2021-12-14T22:20:18.837Z"
   },
   {
    "duration": 20,
    "start_time": "2021-12-14T22:20:23.928Z"
   },
   {
    "duration": 7,
    "start_time": "2021-12-14T22:20:41.150Z"
   },
   {
    "duration": 7,
    "start_time": "2021-12-14T22:20:50.005Z"
   },
   {
    "duration": 7,
    "start_time": "2021-12-14T22:24:09.404Z"
   },
   {
    "duration": 63,
    "start_time": "2021-12-14T22:24:21.399Z"
   },
   {
    "duration": 8,
    "start_time": "2021-12-14T22:24:27.251Z"
   },
   {
    "duration": 8,
    "start_time": "2021-12-14T22:25:11.188Z"
   },
   {
    "duration": 18167,
    "start_time": "2021-12-14T22:28:48.835Z"
   },
   {
    "duration": 11,
    "start_time": "2021-12-14T22:29:26.818Z"
   },
   {
    "duration": 16,
    "start_time": "2021-12-14T22:39:17.207Z"
   },
   {
    "duration": 16,
    "start_time": "2021-12-14T22:39:23.193Z"
   },
   {
    "duration": 25,
    "start_time": "2021-12-14T22:39:27.140Z"
   },
   {
    "duration": 9,
    "start_time": "2021-12-14T22:40:01.636Z"
   },
   {
    "duration": 198,
    "start_time": "2021-12-14T22:42:07.820Z"
   },
   {
    "duration": 185,
    "start_time": "2021-12-14T22:42:24.403Z"
   },
   {
    "duration": 203,
    "start_time": "2021-12-14T22:42:38.238Z"
   },
   {
    "duration": 13,
    "start_time": "2021-12-14T22:49:27.821Z"
   },
   {
    "duration": 15,
    "start_time": "2021-12-14T22:50:08.338Z"
   },
   {
    "duration": 167,
    "start_time": "2021-12-14T22:56:14.577Z"
   },
   {
    "duration": 16,
    "start_time": "2021-12-14T22:56:24.241Z"
   },
   {
    "duration": 61,
    "start_time": "2021-12-14T22:57:54.847Z"
   },
   {
    "duration": 60,
    "start_time": "2021-12-14T22:59:03.932Z"
   },
   {
    "duration": 58,
    "start_time": "2021-12-14T23:00:26.836Z"
   },
   {
    "duration": 183,
    "start_time": "2021-12-14T23:00:45.642Z"
   },
   {
    "duration": 188,
    "start_time": "2021-12-14T23:00:57.630Z"
   },
   {
    "duration": 21,
    "start_time": "2021-12-14T23:01:08.834Z"
   },
   {
    "duration": 24,
    "start_time": "2021-12-14T23:02:45.828Z"
   },
   {
    "duration": 25,
    "start_time": "2021-12-14T23:02:53.020Z"
   },
   {
    "duration": 29,
    "start_time": "2021-12-14T23:03:23.407Z"
   },
   {
    "duration": 892,
    "start_time": "2021-12-16T16:56:47.016Z"
   },
   {
    "duration": 9,
    "start_time": "2021-12-16T16:56:47.911Z"
   },
   {
    "duration": 36,
    "start_time": "2021-12-16T16:56:47.923Z"
   },
   {
    "duration": 17,
    "start_time": "2021-12-16T16:56:47.962Z"
   },
   {
    "duration": 10,
    "start_time": "2021-12-16T16:56:47.981Z"
   },
   {
    "duration": 72,
    "start_time": "2021-12-16T16:56:47.993Z"
   },
   {
    "duration": 46,
    "start_time": "2021-12-16T16:56:48.068Z"
   },
   {
    "duration": 53060,
    "start_time": "2021-12-16T16:56:48.117Z"
   },
   {
    "duration": 9,
    "start_time": "2021-12-16T16:57:41.181Z"
   },
   {
    "duration": 14,
    "start_time": "2021-12-16T16:57:41.193Z"
   },
   {
    "duration": 76,
    "start_time": "2021-12-16T16:57:41.210Z"
   },
   {
    "duration": 20,
    "start_time": "2021-12-16T16:57:41.289Z"
   },
   {
    "duration": 77,
    "start_time": "2021-12-16T16:57:41.312Z"
   },
   {
    "duration": 8,
    "start_time": "2021-12-16T17:02:12.605Z"
   },
   {
    "duration": 8,
    "start_time": "2021-12-16T17:02:19.858Z"
   },
   {
    "duration": 98,
    "start_time": "2021-12-16T17:02:24.931Z"
   },
   {
    "duration": 33,
    "start_time": "2021-12-16T17:02:25.032Z"
   },
   {
    "duration": 7,
    "start_time": "2021-12-16T17:02:25.068Z"
   },
   {
    "duration": 19,
    "start_time": "2021-12-16T17:02:25.079Z"
   },
   {
    "duration": 63,
    "start_time": "2021-12-16T17:02:25.101Z"
   },
   {
    "duration": 24,
    "start_time": "2021-12-16T17:02:25.166Z"
   },
   {
    "duration": 82,
    "start_time": "2021-12-16T17:02:25.192Z"
   },
   {
    "duration": 52011,
    "start_time": "2021-12-16T17:02:25.276Z"
   },
   {
    "duration": 8,
    "start_time": "2021-12-16T17:03:17.291Z"
   },
   {
    "duration": 10,
    "start_time": "2021-12-16T17:03:17.302Z"
   },
   {
    "duration": 61,
    "start_time": "2021-12-16T17:03:17.314Z"
   },
   {
    "duration": 19,
    "start_time": "2021-12-16T17:03:17.377Z"
   },
   {
    "duration": 98,
    "start_time": "2021-12-16T17:03:17.399Z"
   },
   {
    "duration": 35,
    "start_time": "2021-12-16T17:08:50.692Z"
   },
   {
    "duration": 30,
    "start_time": "2021-12-16T17:08:54.896Z"
   },
   {
    "duration": 26,
    "start_time": "2021-12-16T17:12:39.000Z"
   },
   {
    "duration": 26,
    "start_time": "2021-12-16T17:12:42.329Z"
   },
   {
    "duration": 27,
    "start_time": "2021-12-16T17:12:45.472Z"
   },
   {
    "duration": 10935,
    "start_time": "2021-12-16T17:21:33.098Z"
   },
   {
    "duration": 11,
    "start_time": "2021-12-16T17:21:59.471Z"
   },
   {
    "duration": 7,
    "start_time": "2021-12-16T17:22:13.575Z"
   },
   {
    "duration": 6,
    "start_time": "2021-12-16T17:22:17.955Z"
   },
   {
    "duration": 8,
    "start_time": "2021-12-16T17:22:34.953Z"
   },
   {
    "duration": 155,
    "start_time": "2021-12-16T17:23:44.529Z"
   },
   {
    "duration": 387,
    "start_time": "2021-12-16T17:24:03.790Z"
   },
   {
    "duration": 11,
    "start_time": "2021-12-16T17:24:15.568Z"
   },
   {
    "duration": 10,
    "start_time": "2021-12-16T17:24:23.875Z"
   },
   {
    "duration": 7,
    "start_time": "2021-12-16T17:24:27.880Z"
   },
   {
    "duration": 6,
    "start_time": "2021-12-16T17:24:51.185Z"
   },
   {
    "duration": 9,
    "start_time": "2021-12-16T17:25:18.079Z"
   },
   {
    "duration": 8,
    "start_time": "2021-12-16T17:26:50.312Z"
   },
   {
    "duration": 8,
    "start_time": "2021-12-16T17:26:56.166Z"
   },
   {
    "duration": 4068,
    "start_time": "2021-12-16T18:01:21.486Z"
   },
   {
    "duration": 14,
    "start_time": "2021-12-16T18:30:32.271Z"
   },
   {
    "duration": 9,
    "start_time": "2021-12-16T18:30:56.685Z"
   },
   {
    "duration": 12,
    "start_time": "2021-12-16T18:31:05.690Z"
   },
   {
    "duration": 8,
    "start_time": "2021-12-16T18:31:33.500Z"
   },
   {
    "duration": 11,
    "start_time": "2021-12-16T18:31:40.462Z"
   },
   {
    "duration": 424,
    "start_time": "2021-12-16T18:32:00.793Z"
   },
   {
    "duration": 511,
    "start_time": "2021-12-16T18:32:07.895Z"
   },
   {
    "duration": 788,
    "start_time": "2021-12-16T18:32:13.124Z"
   },
   {
    "duration": 8,
    "start_time": "2021-12-16T18:32:19.943Z"
   },
   {
    "duration": 432,
    "start_time": "2021-12-16T18:32:47.932Z"
   },
   {
    "duration": 8,
    "start_time": "2021-12-16T18:32:59.867Z"
   },
   {
    "duration": 10,
    "start_time": "2021-12-16T18:35:51.743Z"
   },
   {
    "duration": 8,
    "start_time": "2021-12-16T18:40:14.142Z"
   },
   {
    "duration": 37,
    "start_time": "2021-12-16T18:55:23.167Z"
   },
   {
    "duration": 26,
    "start_time": "2021-12-16T18:56:24.337Z"
   },
   {
    "duration": 18,
    "start_time": "2021-12-16T18:56:42.176Z"
   },
   {
    "duration": 19,
    "start_time": "2021-12-16T18:57:34.148Z"
   },
   {
    "duration": 21,
    "start_time": "2021-12-16T18:58:27.887Z"
   },
   {
    "duration": 40,
    "start_time": "2021-12-16T18:59:03.357Z"
   },
   {
    "duration": 19,
    "start_time": "2021-12-16T19:00:39.245Z"
   },
   {
    "duration": 13,
    "start_time": "2021-12-16T19:01:00.225Z"
   },
   {
    "duration": 48,
    "start_time": "2021-12-16T19:07:18.223Z"
   },
   {
    "duration": 39,
    "start_time": "2021-12-16T19:21:43.880Z"
   },
   {
    "duration": 4016,
    "start_time": "2021-12-16T19:32:42.711Z"
   },
   {
    "duration": 10,
    "start_time": "2021-12-16T19:44:38.425Z"
   },
   {
    "duration": 14,
    "start_time": "2021-12-16T19:45:26.093Z"
   },
   {
    "duration": 21,
    "start_time": "2021-12-16T19:46:14.610Z"
   },
   {
    "duration": 9,
    "start_time": "2021-12-16T19:48:58.883Z"
   },
   {
    "duration": 10,
    "start_time": "2021-12-16T20:24:57.908Z"
   },
   {
    "duration": 16,
    "start_time": "2021-12-16T20:26:33.533Z"
   },
   {
    "duration": 14,
    "start_time": "2021-12-16T20:26:49.918Z"
   },
   {
    "duration": 16,
    "start_time": "2021-12-16T20:28:05.446Z"
   },
   {
    "duration": 90,
    "start_time": "2021-12-16T20:28:26.087Z"
   },
   {
    "duration": 13,
    "start_time": "2021-12-16T20:28:26.180Z"
   },
   {
    "duration": 14,
    "start_time": "2021-12-16T20:28:26.196Z"
   },
   {
    "duration": 9,
    "start_time": "2021-12-16T20:28:26.213Z"
   },
   {
    "duration": 38,
    "start_time": "2021-12-16T20:28:26.225Z"
   },
   {
    "duration": 16,
    "start_time": "2021-12-16T20:28:26.266Z"
   },
   {
    "duration": 10,
    "start_time": "2021-12-16T20:28:26.285Z"
   },
   {
    "duration": 21,
    "start_time": "2021-12-16T20:28:26.298Z"
   },
   {
    "duration": 45,
    "start_time": "2021-12-16T20:28:26.361Z"
   },
   {
    "duration": 22,
    "start_time": "2021-12-16T20:28:26.409Z"
   },
   {
    "duration": 49756,
    "start_time": "2021-12-16T20:28:26.433Z"
   },
   {
    "duration": 11,
    "start_time": "2021-12-16T20:29:16.192Z"
   },
   {
    "duration": 11,
    "start_time": "2021-12-16T20:29:16.205Z"
   },
   {
    "duration": 60,
    "start_time": "2021-12-16T20:29:16.218Z"
   },
   {
    "duration": 11,
    "start_time": "2021-12-16T20:29:16.281Z"
   },
   {
    "duration": 4464,
    "start_time": "2021-12-16T20:29:16.295Z"
   },
   {
    "duration": 10,
    "start_time": "2021-12-16T20:29:20.762Z"
   },
   {
    "duration": 40,
    "start_time": "2021-12-16T20:29:20.775Z"
   },
   {
    "duration": 53,
    "start_time": "2021-12-16T20:29:20.819Z"
   },
   {
    "duration": 41,
    "start_time": "2021-12-16T20:29:20.875Z"
   },
   {
    "duration": 69,
    "start_time": "2021-12-16T20:29:20.918Z"
   },
   {
    "duration": 41,
    "start_time": "2021-12-16T20:29:20.989Z"
   },
   {
    "duration": 364,
    "start_time": "2021-12-16T20:31:28.382Z"
   },
   {
    "duration": 17,
    "start_time": "2021-12-16T20:31:59.300Z"
   },
   {
    "duration": 22,
    "start_time": "2021-12-16T20:32:39.041Z"
   },
   {
    "duration": 150,
    "start_time": "2021-12-16T20:33:57.973Z"
   },
   {
    "duration": 421,
    "start_time": "2021-12-16T20:34:17.474Z"
   },
   {
    "duration": 14,
    "start_time": "2021-12-16T20:34:33.558Z"
   },
   {
    "duration": 13,
    "start_time": "2021-12-16T20:34:40.608Z"
   },
   {
    "duration": 93,
    "start_time": "2021-12-16T20:35:01.072Z"
   },
   {
    "duration": 12,
    "start_time": "2021-12-16T20:35:04.239Z"
   },
   {
    "duration": 401,
    "start_time": "2021-12-16T20:36:09.998Z"
   },
   {
    "duration": 33,
    "start_time": "2021-12-16T20:36:48.275Z"
   },
   {
    "duration": 38,
    "start_time": "2021-12-16T20:37:42.479Z"
   },
   {
    "duration": 20,
    "start_time": "2021-12-16T20:37:55.819Z"
   },
   {
    "duration": 26,
    "start_time": "2021-12-16T20:38:48.894Z"
   },
   {
    "duration": 24,
    "start_time": "2021-12-16T20:39:14.014Z"
   },
   {
    "duration": 24,
    "start_time": "2021-12-16T20:39:34.458Z"
   },
   {
    "duration": 24,
    "start_time": "2021-12-16T20:39:38.440Z"
   },
   {
    "duration": 22,
    "start_time": "2021-12-16T20:39:54.452Z"
   },
   {
    "duration": 27,
    "start_time": "2021-12-16T20:39:57.092Z"
   },
   {
    "duration": 23,
    "start_time": "2021-12-16T20:40:11.517Z"
   },
   {
    "duration": 10449,
    "start_time": "2021-12-16T20:41:39.825Z"
   },
   {
    "duration": 6,
    "start_time": "2021-12-16T20:41:52.332Z"
   },
   {
    "duration": 6,
    "start_time": "2021-12-16T20:42:03.977Z"
   },
   {
    "duration": 16,
    "start_time": "2021-12-16T20:49:00.902Z"
   },
   {
    "duration": 12,
    "start_time": "2021-12-16T20:49:07.618Z"
   },
   {
    "duration": 10,
    "start_time": "2021-12-16T20:50:12.126Z"
   },
   {
    "duration": 5,
    "start_time": "2021-12-16T20:50:35.579Z"
   },
   {
    "duration": 5,
    "start_time": "2021-12-16T20:50:48.067Z"
   },
   {
    "duration": 7,
    "start_time": "2021-12-16T20:51:08.053Z"
   },
   {
    "duration": 6,
    "start_time": "2021-12-16T20:51:46.715Z"
   },
   {
    "duration": 6,
    "start_time": "2021-12-16T20:52:00.218Z"
   },
   {
    "duration": 6,
    "start_time": "2021-12-16T20:52:16.506Z"
   },
   {
    "duration": 7,
    "start_time": "2021-12-16T20:52:32.469Z"
   },
   {
    "duration": 7,
    "start_time": "2021-12-16T20:52:50.359Z"
   },
   {
    "duration": 4,
    "start_time": "2021-12-16T20:53:06.940Z"
   },
   {
    "duration": 5,
    "start_time": "2021-12-16T20:53:12.511Z"
   },
   {
    "duration": 5,
    "start_time": "2021-12-16T20:53:17.152Z"
   },
   {
    "duration": 9,
    "start_time": "2021-12-16T20:53:53.090Z"
   },
   {
    "duration": 19,
    "start_time": "2021-12-16T20:54:29.070Z"
   },
   {
    "duration": 5,
    "start_time": "2021-12-16T20:55:43.731Z"
   },
   {
    "duration": 396,
    "start_time": "2021-12-16T20:55:45.546Z"
   },
   {
    "duration": 383,
    "start_time": "2021-12-16T20:55:54.259Z"
   },
   {
    "duration": 488,
    "start_time": "2021-12-16T20:56:07.394Z"
   },
   {
    "duration": 8,
    "start_time": "2021-12-16T20:56:21.256Z"
   },
   {
    "duration": 7,
    "start_time": "2021-12-16T20:56:24.994Z"
   },
   {
    "duration": 7,
    "start_time": "2021-12-16T20:56:33.900Z"
   },
   {
    "duration": 96,
    "start_time": "2021-12-16T20:56:39.679Z"
   },
   {
    "duration": 12,
    "start_time": "2021-12-16T20:56:39.779Z"
   },
   {
    "duration": 26,
    "start_time": "2021-12-16T20:56:39.794Z"
   },
   {
    "duration": 18,
    "start_time": "2021-12-16T20:56:39.860Z"
   },
   {
    "duration": 33,
    "start_time": "2021-12-16T20:56:42.012Z"
   },
   {
    "duration": 8,
    "start_time": "2021-12-16T20:56:46.036Z"
   },
   {
    "duration": 18,
    "start_time": "2021-12-16T20:57:05.894Z"
   },
   {
    "duration": 14,
    "start_time": "2021-12-16T21:00:41.640Z"
   },
   {
    "duration": 24,
    "start_time": "2021-12-16T21:00:53.524Z"
   },
   {
    "duration": 13,
    "start_time": "2021-12-16T21:01:22.052Z"
   },
   {
    "duration": 92,
    "start_time": "2021-12-16T21:01:27.035Z"
   },
   {
    "duration": 10,
    "start_time": "2021-12-16T21:01:27.131Z"
   },
   {
    "duration": 45,
    "start_time": "2021-12-16T21:01:27.144Z"
   },
   {
    "duration": 12,
    "start_time": "2021-12-16T21:01:27.191Z"
   },
   {
    "duration": 13,
    "start_time": "2021-12-16T21:01:27.206Z"
   },
   {
    "duration": 14,
    "start_time": "2021-12-16T21:01:30.176Z"
   },
   {
    "duration": 8,
    "start_time": "2021-12-16T21:03:08.294Z"
   },
   {
    "duration": 5,
    "start_time": "2021-12-16T21:04:18.992Z"
   },
   {
    "duration": 5,
    "start_time": "2021-12-16T21:04:22.952Z"
   },
   {
    "duration": 5,
    "start_time": "2021-12-16T21:06:22.064Z"
   },
   {
    "duration": 4,
    "start_time": "2021-12-16T21:07:16.249Z"
   },
   {
    "duration": 6,
    "start_time": "2021-12-16T21:07:31.880Z"
   },
   {
    "duration": 6,
    "start_time": "2021-12-16T21:07:47.166Z"
   },
   {
    "duration": 10,
    "start_time": "2021-12-16T21:14:17.036Z"
   },
   {
    "duration": 13,
    "start_time": "2021-12-16T21:14:31.077Z"
   },
   {
    "duration": 12,
    "start_time": "2021-12-16T21:15:00.594Z"
   },
   {
    "duration": 12,
    "start_time": "2021-12-16T21:15:09.280Z"
   },
   {
    "duration": 11,
    "start_time": "2021-12-16T21:15:29.688Z"
   },
   {
    "duration": 3,
    "start_time": "2021-12-16T21:17:18.864Z"
   },
   {
    "duration": 4,
    "start_time": "2021-12-16T21:18:06.241Z"
   },
   {
    "duration": 3,
    "start_time": "2021-12-16T21:18:17.832Z"
   },
   {
    "duration": 12,
    "start_time": "2021-12-16T21:19:14.177Z"
   },
   {
    "duration": 4,
    "start_time": "2021-12-16T21:23:08.722Z"
   },
   {
    "duration": 4,
    "start_time": "2021-12-16T21:23:42.536Z"
   },
   {
    "duration": 12,
    "start_time": "2021-12-16T21:25:27.861Z"
   },
   {
    "duration": 12,
    "start_time": "2021-12-16T21:25:58.244Z"
   },
   {
    "duration": 11,
    "start_time": "2021-12-16T21:27:29.035Z"
   },
   {
    "duration": 405,
    "start_time": "2021-12-16T21:30:09.381Z"
   },
   {
    "duration": 14,
    "start_time": "2021-12-16T21:31:23.924Z"
   },
   {
    "duration": 12,
    "start_time": "2021-12-16T21:31:27.365Z"
   },
   {
    "duration": 33,
    "start_time": "2021-12-16T21:31:33.503Z"
   },
   {
    "duration": 22,
    "start_time": "2021-12-16T21:32:05.176Z"
   },
   {
    "duration": 38,
    "start_time": "2021-12-16T21:32:26.474Z"
   },
   {
    "duration": 13,
    "start_time": "2021-12-16T21:32:43.575Z"
   },
   {
    "duration": 18,
    "start_time": "2021-12-16T21:32:59.046Z"
   },
   {
    "duration": 23,
    "start_time": "2021-12-16T21:33:33.109Z"
   },
   {
    "duration": 18,
    "start_time": "2021-12-16T21:33:35.250Z"
   },
   {
    "duration": 41,
    "start_time": "2021-12-16T21:33:46.184Z"
   },
   {
    "duration": 18,
    "start_time": "2021-12-16T21:34:02.985Z"
   },
   {
    "duration": 24,
    "start_time": "2021-12-16T21:34:41.986Z"
   },
   {
    "duration": 91,
    "start_time": "2021-12-16T21:34:57.233Z"
   },
   {
    "duration": 34,
    "start_time": "2021-12-16T21:34:57.327Z"
   },
   {
    "duration": 23,
    "start_time": "2021-12-16T21:34:57.365Z"
   },
   {
    "duration": 11,
    "start_time": "2021-12-16T21:34:57.391Z"
   },
   {
    "duration": 56,
    "start_time": "2021-12-16T21:34:57.405Z"
   },
   {
    "duration": 11,
    "start_time": "2021-12-16T21:34:57.463Z"
   },
   {
    "duration": 11,
    "start_time": "2021-12-16T21:34:57.477Z"
   },
   {
    "duration": 16,
    "start_time": "2021-12-16T21:34:57.492Z"
   },
   {
    "duration": 53,
    "start_time": "2021-12-16T21:34:57.511Z"
   },
   {
    "duration": 6,
    "start_time": "2021-12-16T21:34:57.566Z"
   },
   {
    "duration": 18,
    "start_time": "2021-12-16T21:34:57.574Z"
   },
   {
    "duration": 11,
    "start_time": "2021-12-16T21:34:57.595Z"
   },
   {
    "duration": 70,
    "start_time": "2021-12-16T21:34:57.608Z"
   },
   {
    "duration": 50,
    "start_time": "2021-12-16T21:34:57.680Z"
   },
   {
    "duration": 23,
    "start_time": "2021-12-16T21:34:57.760Z"
   },
   {
    "duration": 55441,
    "start_time": "2021-12-16T21:34:57.785Z"
   },
   {
    "duration": 10,
    "start_time": "2021-12-16T21:35:53.228Z"
   },
   {
    "duration": 31,
    "start_time": "2021-12-16T21:35:53.240Z"
   },
   {
    "duration": 37,
    "start_time": "2021-12-16T21:35:53.274Z"
   },
   {
    "duration": 49,
    "start_time": "2021-12-16T21:35:53.314Z"
   },
   {
    "duration": 4059,
    "start_time": "2021-12-16T21:35:53.365Z"
   },
   {
    "duration": 32,
    "start_time": "2021-12-16T21:35:57.427Z"
   },
   {
    "duration": 58,
    "start_time": "2021-12-16T21:35:57.466Z"
   },
   {
    "duration": 53,
    "start_time": "2021-12-16T21:35:57.528Z"
   },
   {
    "duration": 75,
    "start_time": "2021-12-16T21:35:57.583Z"
   },
   {
    "duration": 40,
    "start_time": "2021-12-16T21:35:57.662Z"
   },
   {
    "duration": 72,
    "start_time": "2021-12-16T21:35:57.705Z"
   },
   {
    "duration": 681,
    "start_time": "2021-12-17T18:35:05.791Z"
   },
   {
    "duration": 7,
    "start_time": "2021-12-17T18:35:06.473Z"
   },
   {
    "duration": 23,
    "start_time": "2021-12-17T18:35:06.482Z"
   },
   {
    "duration": 8,
    "start_time": "2021-12-17T18:35:06.507Z"
   },
   {
    "duration": 9,
    "start_time": "2021-12-17T18:35:06.517Z"
   },
   {
    "duration": 7,
    "start_time": "2021-12-17T18:35:06.528Z"
   },
   {
    "duration": 7,
    "start_time": "2021-12-17T18:35:06.537Z"
   },
   {
    "duration": 45,
    "start_time": "2021-12-17T18:35:06.547Z"
   },
   {
    "duration": 6,
    "start_time": "2021-12-17T18:35:06.594Z"
   },
   {
    "duration": 4,
    "start_time": "2021-12-17T18:35:06.602Z"
   },
   {
    "duration": 16,
    "start_time": "2021-12-17T18:35:06.608Z"
   },
   {
    "duration": 8,
    "start_time": "2021-12-17T18:35:06.626Z"
   },
   {
    "duration": 18,
    "start_time": "2021-12-17T18:35:06.635Z"
   },
   {
    "duration": 60,
    "start_time": "2021-12-17T18:35:06.654Z"
   },
   {
    "duration": 15,
    "start_time": "2021-12-17T18:35:06.716Z"
   },
   {
    "duration": 36241,
    "start_time": "2021-12-17T18:35:06.733Z"
   },
   {
    "duration": 6,
    "start_time": "2021-12-17T18:35:42.975Z"
   },
   {
    "duration": 7,
    "start_time": "2021-12-17T18:35:42.991Z"
   },
   {
    "duration": 16,
    "start_time": "2021-12-17T18:35:42.999Z"
   },
   {
    "duration": 6,
    "start_time": "2021-12-17T18:35:43.016Z"
   },
   {
    "duration": 1921,
    "start_time": "2021-12-17T18:35:43.023Z"
   },
   {
    "duration": 6,
    "start_time": "2021-12-17T18:35:44.945Z"
   },
   {
    "duration": 41,
    "start_time": "2021-12-17T18:35:44.954Z"
   },
   {
    "duration": 15,
    "start_time": "2021-12-17T18:35:44.997Z"
   },
   {
    "duration": 30,
    "start_time": "2021-12-17T18:35:45.014Z"
   },
   {
    "duration": 55,
    "start_time": "2021-12-17T18:35:45.045Z"
   },
   {
    "duration": 25,
    "start_time": "2021-12-17T18:35:45.102Z"
   },
   {
    "duration": 401,
    "start_time": "2022-01-11T20:17:31.355Z"
   },
   {
    "duration": 1442,
    "start_time": "2022-01-11T20:17:36.837Z"
   },
   {
    "duration": 10,
    "start_time": "2022-01-11T20:17:38.281Z"
   },
   {
    "duration": 87,
    "start_time": "2022-01-11T20:17:38.294Z"
   },
   {
    "duration": 18,
    "start_time": "2022-01-11T20:17:38.384Z"
   },
   {
    "duration": 79,
    "start_time": "2022-01-11T20:17:38.405Z"
   },
   {
    "duration": 17,
    "start_time": "2022-01-11T20:17:38.487Z"
   },
   {
    "duration": 16,
    "start_time": "2022-01-11T20:17:38.567Z"
   },
   {
    "duration": 84,
    "start_time": "2022-01-11T20:17:38.589Z"
   },
   {
    "duration": 11,
    "start_time": "2022-01-11T20:17:38.677Z"
   },
   {
    "duration": 8,
    "start_time": "2022-01-11T20:17:38.692Z"
   },
   {
    "duration": 88,
    "start_time": "2022-01-11T20:17:38.703Z"
   },
   {
    "duration": 76,
    "start_time": "2022-01-11T20:17:38.794Z"
   },
   {
    "duration": 33,
    "start_time": "2022-01-11T20:17:38.874Z"
   },
   {
    "duration": 126,
    "start_time": "2022-01-11T20:17:38.968Z"
   },
   {
    "duration": 90,
    "start_time": "2022-01-11T20:17:39.097Z"
   },
   {
    "duration": 107518,
    "start_time": "2022-01-11T20:17:39.191Z"
   },
   {
    "duration": 11,
    "start_time": "2022-01-11T20:19:26.711Z"
   },
   {
    "duration": 11,
    "start_time": "2022-01-11T20:19:26.725Z"
   },
   {
    "duration": 54,
    "start_time": "2022-01-11T20:19:26.739Z"
   },
   {
    "duration": 11,
    "start_time": "2022-01-11T20:19:26.797Z"
   },
   {
    "duration": 4190,
    "start_time": "2022-01-11T20:19:26.812Z"
   },
   {
    "duration": 7,
    "start_time": "2022-01-11T20:19:31.005Z"
   },
   {
    "duration": 63,
    "start_time": "2022-01-11T20:19:31.017Z"
   },
   {
    "duration": 22,
    "start_time": "2022-01-11T20:19:31.083Z"
   },
   {
    "duration": 79,
    "start_time": "2022-01-11T20:19:31.108Z"
   },
   {
    "duration": 48,
    "start_time": "2022-01-11T20:19:31.190Z"
   },
   {
    "duration": 66,
    "start_time": "2022-01-11T20:19:31.241Z"
   }
  ],
  "kernelspec": {
   "display_name": "Python 3 (ipykernel)",
   "language": "python",
   "name": "python3"
  },
  "language_info": {
   "codemirror_mode": {
    "name": "ipython",
    "version": 3
   },
   "file_extension": ".py",
   "mimetype": "text/x-python",
   "name": "python",
   "nbconvert_exporter": "python",
   "pygments_lexer": "ipython3",
   "version": "3.9.12"
  },
  "toc": {
   "base_numbering": 1,
   "nav_menu": {},
   "number_sections": true,
   "sideBar": true,
   "skip_h1_title": true,
   "title_cell": "Table of Contents",
   "title_sidebar": "Contents",
   "toc_cell": false,
   "toc_position": {},
   "toc_section_display": true,
   "toc_window_display": false
  }
 },
 "nbformat": 4,
 "nbformat_minor": 2
}
