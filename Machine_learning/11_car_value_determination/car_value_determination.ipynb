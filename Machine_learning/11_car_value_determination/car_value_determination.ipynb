{
 "cells": [
  {
   "cell_type": "markdown",
   "metadata": {},
   "source": [
    "# Car value determination"
   ]
  },
  {
   "cell_type": "markdown",
   "metadata": {},
   "source": [
    "A used cars sale service is developing an application in order to attract new customers. In this app you can quickly find out the market value of your car. \n",
    "\n",
    "The task is to build such a model based on the historical data: technical specifications, equipment and prices of cars. \n",
    "\n",
    "For customer is important:\n",
    "\n",
    "- quality of the prediction;\n",
    "- speed of the prediction;\n",
    "- model learning time.\n",
    "\n",
    "The metrics for the model selection is RMSE."
   ]
  },
  {
   "cell_type": "markdown",
   "metadata": {},
   "source": [
    "## Contents:\n",
    "<a href='#first'>1) Data preprocessing and EDA </a> <br/>\n",
    "<a href='#second'>2) Machine learning</a> <br/>\n",
    "<a href='#third'>3) Model analysis</a> <br/>\n",
    "<a href='#fourth'>4) Summary</a> <br/>"
   ]
  },
  {
   "cell_type": "markdown",
   "metadata": {},
   "source": [
    "<a id='first'></a>\n",
    "## 1. Data preprocessing and EDA"
   ]
  },
  {
   "cell_type": "code",
   "execution_count": 1,
   "metadata": {},
   "outputs": [],
   "source": [
    "import pandas as pd\n",
    "import numpy as np\n",
    "import seaborn as sns\n",
    "from matplotlib import pyplot as plt\n",
    "\n",
    "from sklearn.model_selection import train_test_split\n",
    "from sklearn.preprocessing import OrdinalEncoder \n",
    "from sklearn.preprocessing import StandardScaler\n",
    "from sklearn.linear_model import LinearRegression\n",
    "from sklearn.tree import DecisionTreeRegressor\n",
    "from sklearn.ensemble import RandomForestRegressor\n",
    "from sklearn.metrics import mean_squared_error\n",
    "from math import sqrt\n",
    "\n",
    "from sklearn.model_selection import cross_val_score\n",
    "from sklearn.metrics import make_scorer\n",
    "from sklearn.model_selection import GridSearchCV\n",
    "\n",
    "from catboost import CatBoostRegressor\n",
    "import lightgbm as lgb"
   ]
  },
  {
   "cell_type": "code",
   "execution_count": 2,
   "metadata": {
    "scrolled": true
   },
   "outputs": [
    {
     "name": "stdout",
     "output_type": "stream",
     "text": [
      "<class 'pandas.core.frame.DataFrame'>\n",
      "RangeIndex: 354369 entries, 0 to 354368\n",
      "Data columns (total 16 columns):\n",
      " #   Column             Non-Null Count   Dtype \n",
      "---  ------             --------------   ----- \n",
      " 0   DateCrawled        354369 non-null  object\n",
      " 1   Price              354369 non-null  int64 \n",
      " 2   VehicleType        316879 non-null  object\n",
      " 3   RegistrationYear   354369 non-null  int64 \n",
      " 4   Gearbox            334536 non-null  object\n",
      " 5   Power              354369 non-null  int64 \n",
      " 6   Model              334664 non-null  object\n",
      " 7   Kilometer          354369 non-null  int64 \n",
      " 8   RegistrationMonth  354369 non-null  int64 \n",
      " 9   FuelType           321474 non-null  object\n",
      " 10  Brand              354369 non-null  object\n",
      " 11  NotRepaired        283215 non-null  object\n",
      " 12  DateCreated        354369 non-null  object\n",
      " 13  NumberOfPictures   354369 non-null  int64 \n",
      " 14  PostalCode         354369 non-null  int64 \n",
      " 15  LastSeen           354369 non-null  object\n",
      "dtypes: int64(7), object(9)\n",
      "memory usage: 43.3+ MB\n"
     ]
    },
    {
     "data": {
      "text/html": [
       "<div>\n",
       "<style scoped>\n",
       "    .dataframe tbody tr th:only-of-type {\n",
       "        vertical-align: middle;\n",
       "    }\n",
       "\n",
       "    .dataframe tbody tr th {\n",
       "        vertical-align: top;\n",
       "    }\n",
       "\n",
       "    .dataframe thead th {\n",
       "        text-align: right;\n",
       "    }\n",
       "</style>\n",
       "<table border=\"1\" class=\"dataframe\">\n",
       "  <thead>\n",
       "    <tr style=\"text-align: right;\">\n",
       "      <th></th>\n",
       "      <th>DateCrawled</th>\n",
       "      <th>Price</th>\n",
       "      <th>VehicleType</th>\n",
       "      <th>RegistrationYear</th>\n",
       "      <th>Gearbox</th>\n",
       "      <th>Power</th>\n",
       "      <th>Model</th>\n",
       "      <th>Kilometer</th>\n",
       "      <th>RegistrationMonth</th>\n",
       "      <th>FuelType</th>\n",
       "      <th>Brand</th>\n",
       "      <th>NotRepaired</th>\n",
       "      <th>DateCreated</th>\n",
       "      <th>NumberOfPictures</th>\n",
       "      <th>PostalCode</th>\n",
       "      <th>LastSeen</th>\n",
       "    </tr>\n",
       "  </thead>\n",
       "  <tbody>\n",
       "    <tr>\n",
       "      <th>0</th>\n",
       "      <td>2016-03-24 11:52:17</td>\n",
       "      <td>480</td>\n",
       "      <td>NaN</td>\n",
       "      <td>1993</td>\n",
       "      <td>manual</td>\n",
       "      <td>0</td>\n",
       "      <td>golf</td>\n",
       "      <td>150000</td>\n",
       "      <td>0</td>\n",
       "      <td>petrol</td>\n",
       "      <td>volkswagen</td>\n",
       "      <td>NaN</td>\n",
       "      <td>2016-03-24 00:00:00</td>\n",
       "      <td>0</td>\n",
       "      <td>70435</td>\n",
       "      <td>2016-04-07 03:16:57</td>\n",
       "    </tr>\n",
       "    <tr>\n",
       "      <th>1</th>\n",
       "      <td>2016-03-24 10:58:45</td>\n",
       "      <td>18300</td>\n",
       "      <td>coupe</td>\n",
       "      <td>2011</td>\n",
       "      <td>manual</td>\n",
       "      <td>190</td>\n",
       "      <td>NaN</td>\n",
       "      <td>125000</td>\n",
       "      <td>5</td>\n",
       "      <td>gasoline</td>\n",
       "      <td>audi</td>\n",
       "      <td>yes</td>\n",
       "      <td>2016-03-24 00:00:00</td>\n",
       "      <td>0</td>\n",
       "      <td>66954</td>\n",
       "      <td>2016-04-07 01:46:50</td>\n",
       "    </tr>\n",
       "    <tr>\n",
       "      <th>2</th>\n",
       "      <td>2016-03-14 12:52:21</td>\n",
       "      <td>9800</td>\n",
       "      <td>suv</td>\n",
       "      <td>2004</td>\n",
       "      <td>auto</td>\n",
       "      <td>163</td>\n",
       "      <td>grand</td>\n",
       "      <td>125000</td>\n",
       "      <td>8</td>\n",
       "      <td>gasoline</td>\n",
       "      <td>jeep</td>\n",
       "      <td>NaN</td>\n",
       "      <td>2016-03-14 00:00:00</td>\n",
       "      <td>0</td>\n",
       "      <td>90480</td>\n",
       "      <td>2016-04-05 12:47:46</td>\n",
       "    </tr>\n",
       "    <tr>\n",
       "      <th>3</th>\n",
       "      <td>2016-03-17 16:54:04</td>\n",
       "      <td>1500</td>\n",
       "      <td>small</td>\n",
       "      <td>2001</td>\n",
       "      <td>manual</td>\n",
       "      <td>75</td>\n",
       "      <td>golf</td>\n",
       "      <td>150000</td>\n",
       "      <td>6</td>\n",
       "      <td>petrol</td>\n",
       "      <td>volkswagen</td>\n",
       "      <td>no</td>\n",
       "      <td>2016-03-17 00:00:00</td>\n",
       "      <td>0</td>\n",
       "      <td>91074</td>\n",
       "      <td>2016-03-17 17:40:17</td>\n",
       "    </tr>\n",
       "    <tr>\n",
       "      <th>4</th>\n",
       "      <td>2016-03-31 17:25:20</td>\n",
       "      <td>3600</td>\n",
       "      <td>small</td>\n",
       "      <td>2008</td>\n",
       "      <td>manual</td>\n",
       "      <td>69</td>\n",
       "      <td>fabia</td>\n",
       "      <td>90000</td>\n",
       "      <td>7</td>\n",
       "      <td>gasoline</td>\n",
       "      <td>skoda</td>\n",
       "      <td>no</td>\n",
       "      <td>2016-03-31 00:00:00</td>\n",
       "      <td>0</td>\n",
       "      <td>60437</td>\n",
       "      <td>2016-04-06 10:17:21</td>\n",
       "    </tr>\n",
       "  </tbody>\n",
       "</table>\n",
       "</div>"
      ],
      "text/plain": [
       "           DateCrawled  Price VehicleType  RegistrationYear Gearbox  Power  \\\n",
       "0  2016-03-24 11:52:17    480         NaN              1993  manual      0   \n",
       "1  2016-03-24 10:58:45  18300       coupe              2011  manual    190   \n",
       "2  2016-03-14 12:52:21   9800         suv              2004    auto    163   \n",
       "3  2016-03-17 16:54:04   1500       small              2001  manual     75   \n",
       "4  2016-03-31 17:25:20   3600       small              2008  manual     69   \n",
       "\n",
       "   Model  Kilometer  RegistrationMonth  FuelType       Brand NotRepaired  \\\n",
       "0   golf     150000                  0    petrol  volkswagen         NaN   \n",
       "1    NaN     125000                  5  gasoline        audi         yes   \n",
       "2  grand     125000                  8  gasoline        jeep         NaN   \n",
       "3   golf     150000                  6    petrol  volkswagen          no   \n",
       "4  fabia      90000                  7  gasoline       skoda          no   \n",
       "\n",
       "           DateCreated  NumberOfPictures  PostalCode             LastSeen  \n",
       "0  2016-03-24 00:00:00                 0       70435  2016-04-07 03:16:57  \n",
       "1  2016-03-24 00:00:00                 0       66954  2016-04-07 01:46:50  \n",
       "2  2016-03-14 00:00:00                 0       90480  2016-04-05 12:47:46  \n",
       "3  2016-03-17 00:00:00                 0       91074  2016-03-17 17:40:17  \n",
       "4  2016-03-31 00:00:00                 0       60437  2016-04-06 10:17:21  "
      ]
     },
     "metadata": {},
     "output_type": "display_data"
    }
   ],
   "source": [
    "df_raw = pd.read_csv('/datasets/autos.csv')\n",
    "df_raw.info()\n",
    "display(df_raw.head())"
   ]
  },
  {
   "cell_type": "markdown",
   "metadata": {},
   "source": [
    "During the initial analysis of the data, **the following conclusions** can be drawn:\n",
    "\n",
    "1) The dataset consists of 16 columns. The columns `DateCrawled`, `DateCreated`, `PostalCode`, `LastSeen` are proposed to be deleted, since they do not carry quality information for training the model, the `NumberOfPictures` column will be further analyzed. <br/>\n",
    "2) Other columns are the learning features. A number of them have gaps: <br/>\n",
    "2.1) The gaps in `NotRepaired` are proposed to be replaced with \"No\", because, probably, the field was omitted unintentionally. <br/>\n",
    "2.2) Gaps in `VehicleType` are planned to be mapped to `Model` - if there is one body type per model, gaps can be filled based on this mapping. Otherwise, replace with `Other`. <br/>\n",
    "2.3) Omissions of `Gearbox`, `Power` and `Model` can have a significant impact on the value of a car. At the same time, replacing gaps with the median or mean can distort the data. It is proposed to delete the data with these gaps. <br/>\n",
    "2) The `Price` column is the target feature, has the correct data type and does not contain gaps. <br/>\n",
    "3) Categorical features will be processed in the second step, depending on the model. For linear regression - OHE method. For gradient boosting, the Ordinal Encoder will be used.<br/>\n",
    "4) Also, correlation and distribution graphs for the numerical characteristics will be plotted below for additional analysis."
   ]
  },
  {
   "cell_type": "code",
   "execution_count": 3,
   "metadata": {},
   "outputs": [
    {
     "name": "stdout",
     "output_type": "stream",
     "text": [
      "[0]\n"
     ]
    },
    {
     "data": {
      "text/plain": [
       "array([nan, 'yes', 'no'], dtype=object)"
      ]
     },
     "execution_count": 3,
     "metadata": {},
     "output_type": "execute_result"
    }
   ],
   "source": [
    "print(df_raw['NumberOfPictures'].unique())\n",
    "df_raw['NotRepaired'].unique()"
   ]
  },
  {
   "cell_type": "code",
   "execution_count": 4,
   "metadata": {},
   "outputs": [
    {
     "data": {
      "text/plain": [
       "<AxesSubplot:>"
      ]
     },
     "execution_count": 4,
     "metadata": {},
     "output_type": "execute_result"
    },
    {
     "data": {
      "image/png": "[encoded data removed]",
      "text/plain": [
       "<Figure size 432x288 with 2 Axes>"
      ]
     },
     "metadata": {
      "needs_background": "light"
     },
     "output_type": "display_data"
    }
   ],
   "source": [
    "df = df_raw.drop(['DateCrawled','DateCreated','PostalCode','LastSeen','NumberOfPictures'],1)\n",
    "int_columns = ['Price','RegistrationYear','Power','Kilometer']\n",
    "df_corr = df[int_columns]\n",
    "sns.heatmap(df_corr.corr(), annot=True)"
   ]
  },
  {
   "cell_type": "code",
   "execution_count": 5,
   "metadata": {
    "scrolled": true
   },
   "outputs": [
    {
     "data": {
      "image/png": "[encoded data removed]",
      "text/plain": [
       "<Figure size 432x288 with 1 Axes>"
      ]
     },
     "metadata": {
      "needs_background": "light"
     },
     "output_type": "display_data"
    },
    {
     "name": "stdout",
     "output_type": "stream",
     "text": [
      "\n"
     ]
    },
    {
     "data": {
      "image/png": "[encoded data removed]",
      "text/plain": [
       "<Figure size 432x288 with 1 Axes>"
      ]
     },
     "metadata": {
      "needs_background": "light"
     },
     "output_type": "display_data"
    },
    {
     "name": "stdout",
     "output_type": "stream",
     "text": [
      "\n"
     ]
    },
    {
     "data": {
      "image/png": "[encoded data removed]",
      "text/plain": [
       "<Figure size 432x288 with 1 Axes>"
      ]
     },
     "metadata": {
      "needs_background": "light"
     },
     "output_type": "display_data"
    },
    {
     "name": "stdout",
     "output_type": "stream",
     "text": [
      "\n"
     ]
    },
    {
     "data": {
      "image/png": "[encoded data removed]",
      "text/plain": [
       "<Figure size 432x288 with 1 Axes>"
      ]
     },
     "metadata": {
      "needs_background": "light"
     },
     "output_type": "display_data"
    },
    {
     "name": "stdout",
     "output_type": "stream",
     "text": [
      "\n"
     ]
    }
   ],
   "source": [
    "for column in int_columns:\n",
    "    plt.hist(df[column])\n",
    "    plt.xlabel(column)\n",
    "    plt.show()\n",
    "    print()"
   ]
  },
  {
   "cell_type": "code",
   "execution_count": 6,
   "metadata": {
    "scrolled": true
   },
   "outputs": [
    {
     "data": {
      "text/html": [
       "<div>\n",
       "<style scoped>\n",
       "    .dataframe tbody tr th:only-of-type {\n",
       "        vertical-align: middle;\n",
       "    }\n",
       "\n",
       "    .dataframe tbody tr th {\n",
       "        vertical-align: top;\n",
       "    }\n",
       "\n",
       "    .dataframe thead th {\n",
       "        text-align: right;\n",
       "    }\n",
       "</style>\n",
       "<table border=\"1\" class=\"dataframe\">\n",
       "  <thead>\n",
       "    <tr style=\"text-align: right;\">\n",
       "      <th></th>\n",
       "      <th></th>\n",
       "      <th>Price</th>\n",
       "    </tr>\n",
       "    <tr>\n",
       "      <th>Model</th>\n",
       "      <th>VehicleType</th>\n",
       "      <th></th>\n",
       "    </tr>\n",
       "  </thead>\n",
       "  <tbody>\n",
       "    <tr>\n",
       "      <th rowspan=\"4\" valign=\"top\">100</th>\n",
       "      <th>convertible</th>\n",
       "      <td>1</td>\n",
       "    </tr>\n",
       "    <tr>\n",
       "      <th>coupe</th>\n",
       "      <td>2</td>\n",
       "    </tr>\n",
       "    <tr>\n",
       "      <th>sedan</th>\n",
       "      <td>278</td>\n",
       "    </tr>\n",
       "    <tr>\n",
       "      <th>wagon</th>\n",
       "      <td>109</td>\n",
       "    </tr>\n",
       "    <tr>\n",
       "      <th rowspan=\"4\" valign=\"top\">145</th>\n",
       "      <th>coupe</th>\n",
       "      <td>2</td>\n",
       "    </tr>\n",
       "    <tr>\n",
       "      <th>other</th>\n",
       "      <td>1</td>\n",
       "    </tr>\n",
       "    <tr>\n",
       "      <th>sedan</th>\n",
       "      <td>13</td>\n",
       "    </tr>\n",
       "    <tr>\n",
       "      <th>small</th>\n",
       "      <td>19</td>\n",
       "    </tr>\n",
       "    <tr>\n",
       "      <th rowspan=\"6\" valign=\"top\">147</th>\n",
       "      <th>coupe</th>\n",
       "      <td>27</td>\n",
       "    </tr>\n",
       "    <tr>\n",
       "      <th>other</th>\n",
       "      <td>7</td>\n",
       "    </tr>\n",
       "    <tr>\n",
       "      <th>sedan</th>\n",
       "      <td>358</td>\n",
       "    </tr>\n",
       "    <tr>\n",
       "      <th>small</th>\n",
       "      <td>97</td>\n",
       "    </tr>\n",
       "    <tr>\n",
       "      <th>suv</th>\n",
       "      <td>1</td>\n",
       "    </tr>\n",
       "    <tr>\n",
       "      <th>wagon</th>\n",
       "      <td>2</td>\n",
       "    </tr>\n",
       "    <tr>\n",
       "      <th rowspan=\"5\" valign=\"top\">156</th>\n",
       "      <th>coupe</th>\n",
       "      <td>3</td>\n",
       "    </tr>\n",
       "    <tr>\n",
       "      <th>other</th>\n",
       "      <td>1</td>\n",
       "    </tr>\n",
       "    <tr>\n",
       "      <th>sedan</th>\n",
       "      <td>287</td>\n",
       "    </tr>\n",
       "    <tr>\n",
       "      <th>small</th>\n",
       "      <td>2</td>\n",
       "    </tr>\n",
       "    <tr>\n",
       "      <th>wagon</th>\n",
       "      <td>288</td>\n",
       "    </tr>\n",
       "    <tr>\n",
       "      <th rowspan=\"2\" valign=\"top\">159</th>\n",
       "      <th>sedan</th>\n",
       "      <td>55</td>\n",
       "    </tr>\n",
       "    <tr>\n",
       "      <th>wagon</th>\n",
       "      <td>145</td>\n",
       "    </tr>\n",
       "    <tr>\n",
       "      <th rowspan=\"7\" valign=\"top\">1_reihe</th>\n",
       "      <th>bus</th>\n",
       "      <td>5</td>\n",
       "    </tr>\n",
       "    <tr>\n",
       "      <th>convertible</th>\n",
       "      <td>6</td>\n",
       "    </tr>\n",
       "    <tr>\n",
       "      <th>coupe</th>\n",
       "      <td>3</td>\n",
       "    </tr>\n",
       "    <tr>\n",
       "      <th>other</th>\n",
       "      <td>1</td>\n",
       "    </tr>\n",
       "    <tr>\n",
       "      <th>sedan</th>\n",
       "      <td>30</td>\n",
       "    </tr>\n",
       "    <tr>\n",
       "      <th>small</th>\n",
       "      <td>1090</td>\n",
       "    </tr>\n",
       "    <tr>\n",
       "      <th>wagon</th>\n",
       "      <td>53</td>\n",
       "    </tr>\n",
       "    <tr>\n",
       "      <th rowspan=\"2\" valign=\"top\">1er</th>\n",
       "      <th>convertible</th>\n",
       "      <td>251</td>\n",
       "    </tr>\n",
       "    <tr>\n",
       "      <th>coupe</th>\n",
       "      <td>243</td>\n",
       "    </tr>\n",
       "  </tbody>\n",
       "</table>\n",
       "</div>"
      ],
      "text/plain": [
       "                     Price\n",
       "Model   VehicleType       \n",
       "100     convertible      1\n",
       "        coupe            2\n",
       "        sedan          278\n",
       "        wagon          109\n",
       "145     coupe            2\n",
       "        other            1\n",
       "        sedan           13\n",
       "        small           19\n",
       "147     coupe           27\n",
       "        other            7\n",
       "        sedan          358\n",
       "        small           97\n",
       "        suv              1\n",
       "        wagon            2\n",
       "156     coupe            3\n",
       "        other            1\n",
       "        sedan          287\n",
       "        small            2\n",
       "        wagon          288\n",
       "159     sedan           55\n",
       "        wagon          145\n",
       "1_reihe bus              5\n",
       "        convertible      6\n",
       "        coupe            3\n",
       "        other            1\n",
       "        sedan           30\n",
       "        small         1090\n",
       "        wagon           53\n",
       "1er     convertible    251\n",
       "        coupe          243"
      ]
     },
     "execution_count": 6,
     "metadata": {},
     "output_type": "execute_result"
    }
   ],
   "source": [
    "df.pivot_table(index=('Model','VehicleType'), values='Price', aggfunc='count').head(30)"
   ]
  },
  {
   "cell_type": "code",
   "execution_count": 7,
   "metadata": {},
   "outputs": [
    {
     "data": {
      "text/plain": [
       "array(['bus', 'convertible', 'coupe', 'other', 'sedan', 'small', 'suv',\n",
       "       'wagon', nan], dtype=object)"
      ]
     },
     "execution_count": 7,
     "metadata": {},
     "output_type": "execute_result"
    }
   ],
   "source": [
    "df['VehicleType'].sort_values().unique()"
   ]
  },
  {
   "cell_type": "markdown",
   "metadata": {},
   "source": [
    "The following **intermediate conclusions** can be drawn:\n",
    "\n",
    "5) The `NumberOfPictures` feature has been removed because all the answers are 0.<br/>\n",
    "6) There is no multicolinearity of numerical features. <br/>\n",
    "7) Features `Price`, `RegistrationYear`, `Power` contain a number of anomalies:<br/>\n",
    "7.1) Car prices start at 0 and most of the data is centered around 0 to 2,000. The car is unlikely to be traded at level 0 - there may have been errors in the price, or the cars are put up for auction and the price tag is not final. It is proposed to get rid of anomalous price values, to leave cars **more expensive than zero**.<br/>\n",
    "7.2) Car could not be registered before **~1970 and after 2022** - it is proposed to remove all the values, that do not fall within this range.<br/>\n",
    "7.3) The power of the car varies from 80 to 100 hp. Accordingly, h.p. **above 1000 - probably erroneously multiplied by 10, above 10,000 - by 100**. It is proposed to correct these values. Also, after these transformations, it is proposed to delete values with the horse power **up to 50 h.p. and over 450 h.p.**<br/>\n",
    "8) It is proposed to replace gaps in `VehicleType` with `other`, because one type of model corresponds to several types of types."
   ]
  },
  {
   "cell_type": "code",
   "execution_count": 8,
   "metadata": {
    "scrolled": false
   },
   "outputs": [
    {
     "name": "stdout",
     "output_type": "stream",
     "text": [
      "<class 'pandas.core.frame.DataFrame'>\n",
      "Int64Index: 269378 entries, 2 to 354368\n",
      "Data columns (total 11 columns):\n",
      " #   Column             Non-Null Count   Dtype  \n",
      "---  ------             --------------   -----  \n",
      " 0   Price              269378 non-null  int64  \n",
      " 1   VehicleType        269378 non-null  object \n",
      " 2   RegistrationYear   269378 non-null  int64  \n",
      " 3   Gearbox            269378 non-null  object \n",
      " 4   Power              269378 non-null  float64\n",
      " 5   Model              269378 non-null  object \n",
      " 6   Kilometer          269378 non-null  int64  \n",
      " 7   RegistrationMonth  269378 non-null  int64  \n",
      " 8   FuelType           269378 non-null  object \n",
      " 9   Brand              269378 non-null  object \n",
      " 10  NotRepaired        269378 non-null  object \n",
      "dtypes: float64(1), int64(4), object(6)\n",
      "memory usage: 24.7+ MB\n"
     ]
    }
   ],
   "source": [
    "df = df.dropna(subset=['Gearbox','Model','FuelType'])\n",
    "\n",
    "df = df[df['RegistrationYear']>1970]\n",
    "df = df[df['RegistrationYear']<2023]\n",
    "\n",
    "df['NotRepaired'] = df['NotRepaired'].fillna(value='no')\n",
    "df['VehicleType'] = df['VehicleType'].fillna(value='other')\n",
    "\n",
    "df['Power']= df['Power'].where(df['Power']<10000,df['Power']/100)\n",
    "df['Power']= df['Power'].where(df['Power']<1000,df['Power']/10)\n",
    "df.drop(df[df['Power'] < 50].index, inplace = True)\n",
    "df.drop(df[df['Power'] > 450].index, inplace = True)\n",
    "\n",
    "df.drop(df[df['Price'] == 0].index, inplace = True)\n",
    "df.head()\n",
    "df.info()"
   ]
  },
  {
   "cell_type": "code",
   "execution_count": 9,
   "metadata": {
    "scrolled": true
   },
   "outputs": [
    {
     "data": {
      "image/png": "[encoded data removed]",
      "text/plain": [
       "<Figure size 432x288 with 1 Axes>"
      ]
     },
     "metadata": {
      "needs_background": "light"
     },
     "output_type": "display_data"
    },
    {
     "name": "stdout",
     "output_type": "stream",
     "text": [
      "\n"
     ]
    },
    {
     "data": {
      "image/png": "[encoded data removed]",
      "text/plain": [
       "<Figure size 432x288 with 1 Axes>"
      ]
     },
     "metadata": {
      "needs_background": "light"
     },
     "output_type": "display_data"
    },
    {
     "name": "stdout",
     "output_type": "stream",
     "text": [
      "\n"
     ]
    },
    {
     "data": {
      "image/png": "[encoded data removed]",
      "text/plain": [
       "<Figure size 432x288 with 1 Axes>"
      ]
     },
     "metadata": {
      "needs_background": "light"
     },
     "output_type": "display_data"
    },
    {
     "name": "stdout",
     "output_type": "stream",
     "text": [
      "\n"
     ]
    },
    {
     "data": {
      "image/png": "[encoded data removed]",
      "text/plain": [
       "<Figure size 432x288 with 1 Axes>"
      ]
     },
     "metadata": {
      "needs_background": "light"
     },
     "output_type": "display_data"
    },
    {
     "name": "stdout",
     "output_type": "stream",
     "text": [
      "\n"
     ]
    }
   ],
   "source": [
    "for column in int_columns:\n",
    "    plt.hist(df[column])\n",
    "    plt.xlabel(column)\n",
    "    plt.show()\n",
    "    print()"
   ]
  },
  {
   "cell_type": "markdown",
   "metadata": {},
   "source": [
    "### Conclusion\n",
    "\n",
    "Preprocessing and preparation of the data for further training of the models was carried out during the first step."
   ]
  },
  {
   "cell_type": "markdown",
   "metadata": {},
   "source": [
    "<a id='second'></a>\n",
    "## 2. Machine learning"
   ]
  },
  {
   "cell_type": "code",
   "execution_count": 10,
   "metadata": {
    "scrolled": true
   },
   "outputs": [
    {
     "name": "stdout",
     "output_type": "stream",
     "text": [
      "<class 'pandas.core.frame.DataFrame'>\n",
      "Int64Index: 269378 entries, 2 to 354368\n",
      "Data columns (total 10 columns):\n",
      " #   Column             Non-Null Count   Dtype  \n",
      "---  ------             --------------   -----  \n",
      " 0   VehicleType        269378 non-null  object \n",
      " 1   RegistrationYear   269378 non-null  int64  \n",
      " 2   Gearbox            269378 non-null  float64\n",
      " 3   Power              269378 non-null  float64\n",
      " 4   Model              269378 non-null  object \n",
      " 5   Kilometer          269378 non-null  int64  \n",
      " 6   RegistrationMonth  269378 non-null  int64  \n",
      " 7   FuelType           269378 non-null  object \n",
      " 8   Brand              269378 non-null  object \n",
      " 9   NotRepaired        269378 non-null  float64\n",
      "dtypes: float64(3), int64(3), object(4)\n",
      "memory usage: 22.6+ MB\n",
      "<class 'pandas.core.frame.DataFrame'>\n",
      "Int64Index: 269378 entries, 2 to 354368\n",
      "Columns: 305 entries, RegistrationYear to Brand_volvo\n",
      "dtypes: float64(3), int64(3), uint8(299)\n",
      "memory usage: 91.2 MB\n"
     ]
    }
   ],
   "source": [
    "features = df.drop('Price',1)\n",
    "target = df['Price']\n",
    "\n",
    "binary_features = ['Gearbox', 'NotRepaired']\n",
    "encoder = OrdinalEncoder()\n",
    "features[binary_features] = encoder.fit_transform(features[binary_features])\n",
    "features.info()\n",
    "\n",
    "features=pd.get_dummies(features, drop_first=True)\n",
    "features.info()"
   ]
  },
  {
   "cell_type": "code",
   "execution_count": 11,
   "metadata": {},
   "outputs": [
    {
     "data": {
      "text/plain": [
       "(161626, 305)"
      ]
     },
     "metadata": {},
     "output_type": "display_data"
    },
    {
     "data": {
      "text/plain": [
       "(53876, 305)"
      ]
     },
     "metadata": {},
     "output_type": "display_data"
    },
    {
     "data": {
      "text/plain": [
       "(53876, 305)"
      ]
     },
     "execution_count": 11,
     "metadata": {},
     "output_type": "execute_result"
    }
   ],
   "source": [
    "features_train_1, features_test, target_train_1, target_test = train_test_split(features, target, test_size=0.2, random_state=12345)  \n",
    "features_train, features_valid, target_train, target_valid = train_test_split(features_train_1, target_train_1, test_size=0.25, random_state=12345)\n",
    "\n",
    "display(features_train.shape) \n",
    "display(features_test.shape) \n",
    "features_valid.shape "
   ]
  },
  {
   "cell_type": "code",
   "execution_count": 12,
   "metadata": {},
   "outputs": [],
   "source": [
    "def rmse_metrics(model):\n",
    "    model_new = model\n",
    "    model_new.fit(features_train, target_train)\n",
    "    predicted_valid = model_new.predict(features_valid)\n",
    "    mse=mean_squared_error(target_valid, predicted_valid, squared=False)\n",
    "    return print('RMSE', mse)"
   ]
  },
  {
   "cell_type": "code",
   "execution_count": 13,
   "metadata": {},
   "outputs": [
    {
     "name": "stdout",
     "output_type": "stream",
     "text": [
      "RMSE 2459.019176757463\n",
      "CPU times: user 9.86 s, sys: 6.7 s, total: 16.6 s\n",
      "Wall time: 16.5 s\n"
     ]
    }
   ],
   "source": [
    "%%time\n",
    "rmse_metrics(LinearRegression())"
   ]
  },
  {
   "cell_type": "code",
   "execution_count": 14,
   "metadata": {},
   "outputs": [
    {
     "name": "stdout",
     "output_type": "stream",
     "text": [
      "CPU times: user 9.61 s, sys: 6.69 s, total: 16.3 s\n",
      "Wall time: 16.3 s\n"
     ]
    },
    {
     "data": {
      "text/plain": [
       "LinearRegression()"
      ]
     },
     "execution_count": 14,
     "metadata": {},
     "output_type": "execute_result"
    }
   ],
   "source": [
    "%%time\n",
    "model_linear = LinearRegression()\n",
    "model_linear.fit(features_train, target_train)"
   ]
  },
  {
   "cell_type": "code",
   "execution_count": 15,
   "metadata": {},
   "outputs": [
    {
     "name": "stdout",
     "output_type": "stream",
     "text": [
      "CPU times: user 77.1 ms, sys: 99.2 ms, total: 176 ms\n",
      "Wall time: 189 ms\n"
     ]
    }
   ],
   "source": [
    "%%time\n",
    "predicted_valid = model_linear.predict(features_valid)"
   ]
  },
  {
   "cell_type": "code",
   "execution_count": 16,
   "metadata": {},
   "outputs": [
    {
     "name": "stdout",
     "output_type": "stream",
     "text": [
      "RMSE valid linear 2459.019176757463\n",
      "RMSE test linear 2466.837559508089\n"
     ]
    }
   ],
   "source": [
    "print(\"RMSE valid linear\", mean_squared_error(target_valid, predicted_valid, squared=False))\n",
    "print(\"RMSE test linear\", mean_squared_error(target_test, model_linear.predict(features_test), squared=False))"
   ]
  },
  {
   "cell_type": "code",
   "execution_count": 17,
   "metadata": {},
   "outputs": [
    {
     "name": "stdout",
     "output_type": "stream",
     "text": [
      "<class 'pandas.core.frame.DataFrame'>\n",
      "Int64Index: 269378 entries, 2 to 354368\n",
      "Data columns (total 10 columns):\n",
      " #   Column             Non-Null Count   Dtype  \n",
      "---  ------             --------------   -----  \n",
      " 0   VehicleType        269378 non-null  object \n",
      " 1   RegistrationYear   269378 non-null  int64  \n",
      " 2   Gearbox            269378 non-null  object \n",
      " 3   Power              269378 non-null  float64\n",
      " 4   Model              269378 non-null  object \n",
      " 5   Kilometer          269378 non-null  int64  \n",
      " 6   RegistrationMonth  269378 non-null  int64  \n",
      " 7   FuelType           269378 non-null  object \n",
      " 8   Brand              269378 non-null  object \n",
      " 9   NotRepaired        269378 non-null  object \n",
      "dtypes: float64(1), int64(3), object(6)\n",
      "memory usage: 22.6+ MB\n"
     ]
    }
   ],
   "source": [
    "features = df.drop('Price',1)\n",
    "target = df['Price']\n",
    "features.info()"
   ]
  },
  {
   "cell_type": "code",
   "execution_count": 18,
   "metadata": {},
   "outputs": [
    {
     "data": {
      "text/plain": [
       "(161626, 10)"
      ]
     },
     "metadata": {},
     "output_type": "display_data"
    },
    {
     "data": {
      "text/plain": [
       "(53876, 10)"
      ]
     },
     "metadata": {},
     "output_type": "display_data"
    },
    {
     "data": {
      "text/plain": [
       "(53876, 10)"
      ]
     },
     "execution_count": 18,
     "metadata": {},
     "output_type": "execute_result"
    }
   ],
   "source": [
    "features_train_1, features_test, target_train_1, target_test = train_test_split(features, target, test_size=0.2, random_state=12345)  \n",
    "features_train, features_valid, target_train, target_valid = train_test_split(features_train_1, target_train_1, test_size=0.25, random_state=12345)\n",
    "\n",
    "display(features_train.shape) \n",
    "display(features_test.shape) \n",
    "features_valid.shape "
   ]
  },
  {
   "cell_type": "code",
   "execution_count": 19,
   "metadata": {
    "scrolled": true
   },
   "outputs": [
    {
     "name": "stdout",
     "output_type": "stream",
     "text": [
      "Learning rate set to 0.5\n",
      "0:\tlearn: 3272.5958546\ttotal: 142ms\tremaining: 14s\n",
      "10:\tlearn: 1894.6757407\ttotal: 915ms\tremaining: 7.4s\n",
      "20:\tlearn: 1800.8869346\ttotal: 1.44s\tremaining: 5.42s\n",
      "30:\tlearn: 1730.0650238\ttotal: 2s\tremaining: 4.46s\n",
      "40:\tlearn: 1695.7607795\ttotal: 2.47s\tremaining: 3.56s\n",
      "50:\tlearn: 1670.3940628\ttotal: 2.93s\tremaining: 2.82s\n",
      "60:\tlearn: 1651.7051081\ttotal: 3.37s\tremaining: 2.15s\n",
      "70:\tlearn: 1639.6181566\ttotal: 3.81s\tremaining: 1.56s\n",
      "80:\tlearn: 1624.6314883\ttotal: 4.25s\tremaining: 998ms\n",
      "90:\tlearn: 1613.0684885\ttotal: 4.7s\tremaining: 465ms\n",
      "99:\tlearn: 1603.9021430\ttotal: 5.1s\tremaining: 0us\n",
      "CPU times: user 5.33 s, sys: 262 µs, total: 5.33 s\n",
      "Wall time: 6.29 s\n"
     ]
    },
    {
     "data": {
      "text/plain": [
       "<catboost.core.CatBoostRegressor at 0x7ff3a5bc7610>"
      ]
     },
     "execution_count": 19,
     "metadata": {},
     "output_type": "execute_result"
    }
   ],
   "source": [
    "%%time\n",
    "model_cat = CatBoostRegressor(loss_function='RMSE', iterations=100, verbose=10)\n",
    "cat_features = ['VehicleType', 'Gearbox', 'Model',\n",
    "                'FuelType', 'Brand', 'NotRepaired']\n",
    "model_cat.fit(features_train, target_train, cat_features=cat_features)"
   ]
  },
  {
   "cell_type": "code",
   "execution_count": 20,
   "metadata": {},
   "outputs": [
    {
     "name": "stdout",
     "output_type": "stream",
     "text": [
      "CPU times: user 69.4 ms, sys: 0 ns, total: 69.4 ms\n",
      "Wall time: 67.1 ms\n"
     ]
    }
   ],
   "source": [
    "%%time\n",
    "predicted_valid = model_cat.predict(features_valid) "
   ]
  },
  {
   "cell_type": "code",
   "execution_count": 21,
   "metadata": {},
   "outputs": [
    {
     "name": "stdout",
     "output_type": "stream",
     "text": [
      "RMSE valid cat 1634.2243355237042\n",
      "RMSE test cat 1660.461300097819\n"
     ]
    }
   ],
   "source": [
    "print(\"RMSE valid cat\", mean_squared_error(target_valid, predicted_valid, squared=False))\n",
    "print(\"RMSE test cat\", mean_squared_error(target_test, model_cat.predict(features_test), squared=False))"
   ]
  },
  {
   "cell_type": "code",
   "execution_count": 22,
   "metadata": {},
   "outputs": [
    {
     "name": "stdout",
     "output_type": "stream",
     "text": [
      "<class 'pandas.core.frame.DataFrame'>\n",
      "Int64Index: 269378 entries, 2 to 354368\n",
      "Data columns (total 10 columns):\n",
      " #   Column             Non-Null Count   Dtype  \n",
      "---  ------             --------------   -----  \n",
      " 0   VehicleType        269378 non-null  float64\n",
      " 1   RegistrationYear   269378 non-null  int64  \n",
      " 2   Gearbox            269378 non-null  float64\n",
      " 3   Power              269378 non-null  float64\n",
      " 4   Model              269378 non-null  float64\n",
      " 5   Kilometer          269378 non-null  int64  \n",
      " 6   RegistrationMonth  269378 non-null  int64  \n",
      " 7   FuelType           269378 non-null  float64\n",
      " 8   Brand              269378 non-null  float64\n",
      " 9   NotRepaired        269378 non-null  float64\n",
      "dtypes: float64(7), int64(3)\n",
      "memory usage: 22.6 MB\n"
     ]
    }
   ],
   "source": [
    "encoder = OrdinalEncoder()\n",
    "features[cat_features] = encoder.fit_transform(features[cat_features])\n",
    "features.info()"
   ]
  },
  {
   "cell_type": "code",
   "execution_count": 23,
   "metadata": {},
   "outputs": [
    {
     "data": {
      "text/plain": [
       "(161626, 10)"
      ]
     },
     "metadata": {},
     "output_type": "display_data"
    },
    {
     "data": {
      "text/plain": [
       "(53876, 10)"
      ]
     },
     "metadata": {},
     "output_type": "display_data"
    },
    {
     "data": {
      "text/plain": [
       "(53876, 10)"
      ]
     },
     "execution_count": 23,
     "metadata": {},
     "output_type": "execute_result"
    }
   ],
   "source": [
    "features_train_1, features_test, target_train_1, target_test = train_test_split(features, target, test_size=0.2, random_state=12345)  \n",
    "features_train, features_valid, target_train, target_valid = train_test_split(features_train_1, target_train_1, test_size=0.25, random_state=12345)\n",
    "\n",
    "display(features_train.shape) \n",
    "display(features_test.shape) \n",
    "features_valid.shape "
   ]
  },
  {
   "cell_type": "code",
   "execution_count": 24,
   "metadata": {},
   "outputs": [
    {
     "name": "stdout",
     "output_type": "stream",
     "text": [
      "CPU times: user 238 ms, sys: 0 ns, total: 238 ms\n",
      "Wall time: 247 ms\n"
     ]
    },
    {
     "data": {
      "text/plain": [
       "DecisionTreeRegressor(max_depth=7)"
      ]
     },
     "execution_count": 24,
     "metadata": {},
     "output_type": "execute_result"
    }
   ],
   "source": [
    "%%time\n",
    "model_tree = DecisionTreeRegressor(max_depth=7)\n",
    "model_tree.fit(features_train, target_train)"
   ]
  },
  {
   "cell_type": "code",
   "execution_count": 25,
   "metadata": {},
   "outputs": [
    {
     "name": "stdout",
     "output_type": "stream",
     "text": [
      "CPU times: user 7.56 ms, sys: 0 ns, total: 7.56 ms\n",
      "Wall time: 6.01 ms\n"
     ]
    }
   ],
   "source": [
    "%%time\n",
    "predicted_valid = model_tree.predict(features_valid)"
   ]
  },
  {
   "cell_type": "code",
   "execution_count": 26,
   "metadata": {},
   "outputs": [
    {
     "name": "stdout",
     "output_type": "stream",
     "text": [
      "RMSE valid tree 2163.200771969429\n",
      "RMSE test tree 2192.8174416122765\n"
     ]
    }
   ],
   "source": [
    "print(\"RMSE valid tree\", mean_squared_error(target_valid, predicted_valid, squared=False))\n",
    "print(\"RMSE test tree\", mean_squared_error(target_test, model_tree.predict(features_test) , squared=False))"
   ]
  },
  {
   "cell_type": "code",
   "execution_count": 27,
   "metadata": {},
   "outputs": [
    {
     "name": "stdout",
     "output_type": "stream",
     "text": [
      "CPU times: user 14.4 s, sys: 0 ns, total: 14.4 s\n",
      "Wall time: 14.7 s\n"
     ]
    },
    {
     "data": {
      "text/plain": [
       "RandomForestRegressor(max_depth=7, n_estimators=70)"
      ]
     },
     "execution_count": 27,
     "metadata": {},
     "output_type": "execute_result"
    }
   ],
   "source": [
    "%%time\n",
    "model_forest = RandomForestRegressor(max_depth=7, n_estimators=70)\n",
    "model_forest.fit(features_train, target_train)"
   ]
  },
  {
   "cell_type": "code",
   "execution_count": 28,
   "metadata": {},
   "outputs": [
    {
     "name": "stdout",
     "output_type": "stream",
     "text": [
      "CPU times: user 240 ms, sys: 0 ns, total: 240 ms\n",
      "Wall time: 250 ms\n"
     ]
    }
   ],
   "source": [
    "%%time\n",
    "predicted_valid = model_forest.predict(features_valid) "
   ]
  },
  {
   "cell_type": "code",
   "execution_count": 29,
   "metadata": {},
   "outputs": [
    {
     "name": "stdout",
     "output_type": "stream",
     "text": [
      "RMSE valid forest 2084.6812183908896\n",
      "RMSE test forest 2112.496393178594\n"
     ]
    }
   ],
   "source": [
    "print(\"RMSE valid forest\", mean_squared_error(target_valid, predicted_valid, squared=False))\n",
    "print(\"RMSE test forest\", mean_squared_error(target_test, model_forest.predict(features_test), squared=False))"
   ]
  },
  {
   "cell_type": "code",
   "execution_count": 30,
   "metadata": {
    "scrolled": true
   },
   "outputs": [
    {
     "name": "stdout",
     "output_type": "stream",
     "text": [
      "CPU times: user 3min 7s, sys: 567 ms, total: 3min 8s\n",
      "Wall time: 3min 10s\n"
     ]
    },
    {
     "data": {
      "text/plain": [
       "LGBMRegressor(max_depth=7, num_leaves=100, random_state=12345)"
      ]
     },
     "execution_count": 30,
     "metadata": {},
     "output_type": "execute_result"
    }
   ],
   "source": [
    "%%time\n",
    "model_lgbm1 = lgb.LGBMRegressor(max_depth=7, num_leaves=100, random_state = 12345)\n",
    "model_lgbm1.fit(features_train, target_train)"
   ]
  },
  {
   "cell_type": "code",
   "execution_count": 31,
   "metadata": {},
   "outputs": [
    {
     "name": "stdout",
     "output_type": "stream",
     "text": [
      "CPU times: user 494 ms, sys: 0 ns, total: 494 ms\n",
      "Wall time: 506 ms\n"
     ]
    }
   ],
   "source": [
    "%%time\n",
    "predicted_valid = model_lgbm1.predict(features_valid) "
   ]
  },
  {
   "cell_type": "code",
   "execution_count": 32,
   "metadata": {},
   "outputs": [
    {
     "name": "stdout",
     "output_type": "stream",
     "text": [
      "RMSE valid lgbm1 1617.6135576922236\n",
      "RMSE test lgbm1 1637.4187918093992\n"
     ]
    }
   ],
   "source": [
    "print(\"RMSE valid lgbm1\", mean_squared_error(target_valid, predicted_valid, squared=False))\n",
    "print(\"RMSE test lgbm1\", mean_squared_error(target_test, model_lgbm1.predict(features_test), squared=False))"
   ]
  },
  {
   "cell_type": "code",
   "execution_count": 33,
   "metadata": {},
   "outputs": [
    {
     "name": "stdout",
     "output_type": "stream",
     "text": [
      "CPU times: user 2min 8s, sys: 616 ms, total: 2min 9s\n",
      "Wall time: 2min 10s\n"
     ]
    },
    {
     "data": {
      "text/plain": [
       "LGBMRegressor(learning_rate=0.7, max_depth=10, random_state=12345)"
      ]
     },
     "execution_count": 33,
     "metadata": {},
     "output_type": "execute_result"
    }
   ],
   "source": [
    "%%time\n",
    "model_lgbm2 = lgb.LGBMRegressor(learning_rate = 0.7, max_depth=10, random_state = 12345)\n",
    "model_lgbm2.fit(features_train, target_train)"
   ]
  },
  {
   "cell_type": "code",
   "execution_count": 34,
   "metadata": {},
   "outputs": [
    {
     "name": "stdout",
     "output_type": "stream",
     "text": [
      "CPU times: user 303 ms, sys: 0 ns, total: 303 ms\n",
      "Wall time: 315 ms\n"
     ]
    }
   ],
   "source": [
    "%%time\n",
    "predicted_valid = model_lgbm2.predict(features_valid) "
   ]
  },
  {
   "cell_type": "code",
   "execution_count": 35,
   "metadata": {},
   "outputs": [
    {
     "name": "stdout",
     "output_type": "stream",
     "text": [
      "RMSE valid lgbm1 1614.996549326201\n",
      "RMSE test lgbm1 1624.4857327060479\n"
     ]
    }
   ],
   "source": [
    "print(\"RMSE valid lgbm1\", mean_squared_error(target_valid, predicted_valid, squared=False))\n",
    "print(\"RMSE test lgbm1\", mean_squared_error(target_test, model_lgbm2.predict(features_test), squared=False))"
   ]
  },
  {
   "cell_type": "markdown",
   "metadata": {},
   "source": [
    "### Conclusion\n",
    "A number of models were trained in the second step. In addition, to the classic linear regression, decision tree and random forest models, gradient boosting models from the LGBM library and CatBooster were also applied. For different models, a different approach to processing categorical variables was used - OHE for **linear regression** and Ordinal Encoder for **the rest (except CatBooster).** CatBooster processes categorical variables independently."
   ]
  },
  {
   "cell_type": "markdown",
   "metadata": {},
   "source": [
    "<a id='third'></a>\n",
    "## 3. Model analysis"
   ]
  },
  {
   "cell_type": "markdown",
   "metadata": {},
   "source": [
    "| Model | RMSE | Learning time, seconds | Prediction time, seconds | \n",
    "| --- | --- | --- | --- |\n",
    "| LGBm Regressor () | 1,625 | 130 | 0.3 | \n",
    "| LGBm Regressor () | 1,637 | 190 | 0.5 | \n",
    "| CatBoost Regression | 1,660 | 6 | 0.1 | \n",
    "| Random Forest | 2,112 | 15 | 0.3 | \n",
    "| Decision Tree | 2,193 | 0.3 | 0.1 | \n",
    "| Linear Model | 2,467 | 16 | 0.2 | \n"
   ]
  },
  {
   "cell_type": "markdown",
   "metadata": {},
   "source": [
    "The **CatBooster Regressor** model is proposed as the final model.\n",
    "\n",
    "The learning rate for this model is quite low - **6 seconds, unlike LGBTRegressor models.**\n",
    "\n",
    "** At the same time, the RMSE metric is not much lower than that of the LGBM models. The metric ahieved is 1,660.**"
   ]
  },
  {
   "cell_type": "markdown",
   "metadata": {},
   "source": [
    "<a id='fourth'></a>\n",
    "## 4. Summary\n",
    "Thus, the **Cat Boost Regressor** was recognized as the best model.\n",
    "\n",
    "The RMSE metric was **1.660**. On average the model makes such an error (EUR) when predicting car value <br/>\n",
    "The learning rate of the model was **6 sec**, the prediction time was **0.1 sec**."
   ]
  }
 ],
 "metadata": {
  "ExecuteTimeLog": [
   {
    "duration": 1135,
    "start_time": "2022-05-03T13:48:19.330Z"
   },
   {
    "duration": 4,
    "start_time": "2022-05-03T13:48:30.589Z"
   },
   {
    "duration": 1512,
    "start_time": "2022-05-03T13:49:44.873Z"
   },
   {
    "duration": 687,
    "start_time": "2022-05-03T13:50:10.695Z"
   },
   {
    "duration": 2070,
    "start_time": "2022-05-03T13:50:12.158Z"
   },
   {
    "duration": 1525,
    "start_time": "2022-05-03T13:51:58.662Z"
   },
   {
    "duration": 938,
    "start_time": "2022-05-03T13:53:09.490Z"
   },
   {
    "duration": 55,
    "start_time": "2022-05-03T13:54:29.059Z"
   },
   {
    "duration": 17,
    "start_time": "2022-05-03T13:54:54.942Z"
   },
   {
    "duration": 1918,
    "start_time": "2022-05-03T13:56:45.823Z"
   },
   {
    "duration": 1762,
    "start_time": "2022-05-03T13:57:31.419Z"
   },
   {
    "duration": 1794,
    "start_time": "2022-05-03T13:57:39.769Z"
   },
   {
    "duration": 34,
    "start_time": "2022-05-03T13:57:53.686Z"
   },
   {
    "duration": 145,
    "start_time": "2022-05-03T13:58:24.665Z"
   },
   {
    "duration": 379,
    "start_time": "2022-05-03T13:58:26.962Z"
   },
   {
    "duration": 396,
    "start_time": "2022-05-03T13:58:58.408Z"
   },
   {
    "duration": 450,
    "start_time": "2022-05-03T13:59:12.033Z"
   },
   {
    "duration": 846,
    "start_time": "2022-05-03T13:59:30.942Z"
   },
   {
    "duration": 391,
    "start_time": "2022-05-03T13:59:52.064Z"
   },
   {
    "duration": 6,
    "start_time": "2022-05-03T14:00:06.700Z"
   },
   {
    "duration": 6,
    "start_time": "2022-05-03T14:00:26.088Z"
   },
   {
    "duration": 350,
    "start_time": "2022-05-03T14:00:32.740Z"
   },
   {
    "duration": 83,
    "start_time": "2022-05-03T14:00:51.645Z"
   },
   {
    "duration": 11,
    "start_time": "2022-05-03T14:03:15.261Z"
   },
   {
    "duration": 11,
    "start_time": "2022-05-03T14:03:52.689Z"
   },
   {
    "duration": 77,
    "start_time": "2022-05-03T14:05:43.274Z"
   },
   {
    "duration": 9,
    "start_time": "2022-05-03T14:05:49.910Z"
   },
   {
    "duration": 9,
    "start_time": "2022-05-03T14:05:55.648Z"
   },
   {
    "duration": 10,
    "start_time": "2022-05-03T14:06:02.718Z"
   },
   {
    "duration": 11,
    "start_time": "2022-05-03T14:06:20.931Z"
   },
   {
    "duration": 12,
    "start_time": "2022-05-03T14:06:34.332Z"
   },
   {
    "duration": 1431,
    "start_time": "2022-05-03T14:06:41.269Z"
   },
   {
    "duration": 894,
    "start_time": "2022-05-03T14:06:42.702Z"
   },
   {
    "duration": 103,
    "start_time": "2022-05-03T14:06:43.597Z"
   },
   {
    "duration": 0,
    "start_time": "2022-05-03T14:06:43.703Z"
   },
   {
    "duration": 0,
    "start_time": "2022-05-03T14:06:43.703Z"
   },
   {
    "duration": 0,
    "start_time": "2022-05-03T14:06:43.704Z"
   },
   {
    "duration": 1491,
    "start_time": "2022-05-03T14:07:02.765Z"
   },
   {
    "duration": 931,
    "start_time": "2022-05-03T14:07:04.258Z"
   },
   {
    "duration": 6,
    "start_time": "2022-05-03T14:07:05.191Z"
   },
   {
    "duration": 399,
    "start_time": "2022-05-03T14:07:05.199Z"
   },
   {
    "duration": 94,
    "start_time": "2022-05-03T14:07:05.599Z"
   },
   {
    "duration": 102,
    "start_time": "2022-05-03T14:07:05.694Z"
   },
   {
    "duration": 133,
    "start_time": "2022-05-03T14:07:18.384Z"
   },
   {
    "duration": 23,
    "start_time": "2022-05-03T14:08:15.859Z"
   },
   {
    "duration": 201,
    "start_time": "2022-05-03T14:08:32.186Z"
   },
   {
    "duration": 9,
    "start_time": "2022-05-03T14:09:58.887Z"
   },
   {
    "duration": 10,
    "start_time": "2022-05-03T14:10:13.807Z"
   },
   {
    "duration": 1414,
    "start_time": "2022-05-03T14:10:22.234Z"
   },
   {
    "duration": 999,
    "start_time": "2022-05-03T14:10:23.650Z"
   },
   {
    "duration": 32,
    "start_time": "2022-05-03T14:10:24.650Z"
   },
   {
    "duration": 421,
    "start_time": "2022-05-03T14:10:24.684Z"
   },
   {
    "duration": 97,
    "start_time": "2022-05-03T14:10:25.107Z"
   },
   {
    "duration": 189,
    "start_time": "2022-05-03T14:10:25.207Z"
   },
   {
    "duration": 14,
    "start_time": "2022-05-03T14:17:47.684Z"
   },
   {
    "duration": 5,
    "start_time": "2022-05-03T14:18:15.958Z"
   },
   {
    "duration": 4,
    "start_time": "2022-05-03T14:18:28.254Z"
   },
   {
    "duration": 56,
    "start_time": "2022-05-03T14:19:27.085Z"
   },
   {
    "duration": 47,
    "start_time": "2022-05-03T14:19:55.230Z"
   },
   {
    "duration": 109,
    "start_time": "2022-05-03T14:20:22.738Z"
   },
   {
    "duration": 104,
    "start_time": "2022-05-03T14:20:25.877Z"
   },
   {
    "duration": 103,
    "start_time": "2022-05-03T14:20:37.918Z"
   },
   {
    "duration": 18,
    "start_time": "2022-05-03T14:21:27.634Z"
   },
   {
    "duration": 5,
    "start_time": "2022-05-03T14:21:38.343Z"
   },
   {
    "duration": 103,
    "start_time": "2022-05-03T14:21:48.680Z"
   },
   {
    "duration": 27,
    "start_time": "2022-05-03T14:21:56.031Z"
   },
   {
    "duration": 29,
    "start_time": "2022-05-03T14:22:29.545Z"
   },
   {
    "duration": 373,
    "start_time": "2022-05-03T14:23:35.244Z"
   },
   {
    "duration": 3,
    "start_time": "2022-05-03T14:23:51.564Z"
   },
   {
    "duration": 780,
    "start_time": "2022-05-03T14:23:54.416Z"
   },
   {
    "duration": 445,
    "start_time": "2022-05-03T14:24:19.093Z"
   },
   {
    "duration": 551,
    "start_time": "2022-05-03T14:24:22.440Z"
   },
   {
    "duration": 255,
    "start_time": "2022-05-03T14:25:06.326Z"
   },
   {
    "duration": 175,
    "start_time": "2022-05-03T14:25:15.845Z"
   },
   {
    "duration": 158,
    "start_time": "2022-05-03T14:25:20.816Z"
   },
   {
    "duration": 25,
    "start_time": "2022-05-03T14:26:00.390Z"
   },
   {
    "duration": 23,
    "start_time": "2022-05-03T14:29:45.241Z"
   },
   {
    "duration": 43,
    "start_time": "2022-05-03T14:29:58.558Z"
   },
   {
    "duration": 170,
    "start_time": "2022-05-03T14:30:01.307Z"
   },
   {
    "duration": 36,
    "start_time": "2022-05-03T14:30:11.790Z"
   },
   {
    "duration": 195,
    "start_time": "2022-05-03T14:30:21.023Z"
   },
   {
    "duration": 28,
    "start_time": "2022-05-03T14:31:53.538Z"
   },
   {
    "duration": 10,
    "start_time": "2022-05-03T14:33:09.319Z"
   },
   {
    "duration": 8,
    "start_time": "2022-05-03T14:33:21.372Z"
   },
   {
    "duration": 9,
    "start_time": "2022-05-03T14:33:27.362Z"
   },
   {
    "duration": 9,
    "start_time": "2022-05-03T14:33:34.731Z"
   },
   {
    "duration": 1396,
    "start_time": "2022-05-03T14:33:41.645Z"
   },
   {
    "duration": 969,
    "start_time": "2022-05-03T14:33:43.043Z"
   },
   {
    "duration": 24,
    "start_time": "2022-05-03T14:33:44.014Z"
   },
   {
    "duration": 404,
    "start_time": "2022-05-03T14:33:44.040Z"
   },
   {
    "duration": 572,
    "start_time": "2022-05-03T14:33:44.446Z"
   },
   {
    "duration": 98,
    "start_time": "2022-05-03T14:33:45.020Z"
   },
   {
    "duration": 269,
    "start_time": "2022-05-03T14:33:45.121Z"
   },
   {
    "duration": 31,
    "start_time": "2022-05-03T14:33:45.392Z"
   },
   {
    "duration": 55,
    "start_time": "2022-05-03T14:33:45.426Z"
   },
   {
    "duration": 8,
    "start_time": "2022-05-03T14:33:45.484Z"
   },
   {
    "duration": 250,
    "start_time": "2022-05-03T14:33:45.494Z"
   },
   {
    "duration": 11,
    "start_time": "2022-05-03T14:34:02.011Z"
   },
   {
    "duration": 8,
    "start_time": "2022-05-03T14:34:07.636Z"
   },
   {
    "duration": 8,
    "start_time": "2022-05-03T14:34:10.409Z"
   },
   {
    "duration": 11,
    "start_time": "2022-05-03T14:34:17.427Z"
   },
   {
    "duration": 152,
    "start_time": "2022-05-03T14:34:41.758Z"
   },
   {
    "duration": 18,
    "start_time": "2022-05-03T14:34:52.473Z"
   },
   {
    "duration": 209,
    "start_time": "2022-05-03T14:35:06.092Z"
   },
   {
    "duration": 17,
    "start_time": "2022-05-03T14:35:08.911Z"
   },
   {
    "duration": 1361,
    "start_time": "2022-05-03T14:35:15.521Z"
   },
   {
    "duration": 916,
    "start_time": "2022-05-03T14:35:16.884Z"
   },
   {
    "duration": 23,
    "start_time": "2022-05-03T14:35:17.801Z"
   },
   {
    "duration": 379,
    "start_time": "2022-05-03T14:35:17.825Z"
   },
   {
    "duration": 540,
    "start_time": "2022-05-03T14:35:18.206Z"
   },
   {
    "duration": 91,
    "start_time": "2022-05-03T14:35:18.748Z"
   },
   {
    "duration": 260,
    "start_time": "2022-05-03T14:35:18.841Z"
   },
   {
    "duration": 29,
    "start_time": "2022-05-03T14:35:19.103Z"
   },
   {
    "duration": 44,
    "start_time": "2022-05-03T14:35:19.134Z"
   },
   {
    "duration": 18,
    "start_time": "2022-05-03T14:35:19.180Z"
   },
   {
    "duration": 250,
    "start_time": "2022-05-03T14:35:19.200Z"
   },
   {
    "duration": 28,
    "start_time": "2022-05-03T14:36:10.432Z"
   },
   {
    "duration": 17,
    "start_time": "2022-05-03T14:36:33.615Z"
   },
   {
    "duration": 110,
    "start_time": "2022-05-03T14:38:29.919Z"
   },
   {
    "duration": 34,
    "start_time": "2022-05-03T14:39:42.890Z"
   },
   {
    "duration": 23,
    "start_time": "2022-05-03T14:39:51.882Z"
   },
   {
    "duration": 19,
    "start_time": "2022-05-03T14:40:33.473Z"
   },
   {
    "duration": 21,
    "start_time": "2022-05-03T14:40:38.474Z"
   },
   {
    "duration": 10,
    "start_time": "2022-05-03T14:40:47.192Z"
   },
   {
    "duration": 18,
    "start_time": "2022-05-03T14:40:51.654Z"
   },
   {
    "duration": 20,
    "start_time": "2022-05-03T14:41:43.386Z"
   },
   {
    "duration": 18,
    "start_time": "2022-05-03T14:41:47.494Z"
   },
   {
    "duration": 18,
    "start_time": "2022-05-03T14:41:57.918Z"
   },
   {
    "duration": 19,
    "start_time": "2022-05-03T14:42:29.669Z"
   },
   {
    "duration": 18,
    "start_time": "2022-05-03T14:42:31.929Z"
   },
   {
    "duration": 18,
    "start_time": "2022-05-03T14:42:35.845Z"
   },
   {
    "duration": 18,
    "start_time": "2022-05-03T14:42:39.009Z"
   },
   {
    "duration": 1436,
    "start_time": "2022-05-03T14:42:44.463Z"
   },
   {
    "duration": 988,
    "start_time": "2022-05-03T14:42:45.901Z"
   },
   {
    "duration": 22,
    "start_time": "2022-05-03T14:42:46.890Z"
   },
   {
    "duration": 395,
    "start_time": "2022-05-03T14:42:46.914Z"
   },
   {
    "duration": 542,
    "start_time": "2022-05-03T14:42:47.310Z"
   },
   {
    "duration": 97,
    "start_time": "2022-05-03T14:42:47.854Z"
   },
   {
    "duration": 268,
    "start_time": "2022-05-03T14:42:47.952Z"
   },
   {
    "duration": 31,
    "start_time": "2022-05-03T14:42:48.221Z"
   },
   {
    "duration": 250,
    "start_time": "2022-05-03T14:42:48.254Z"
   },
   {
    "duration": 28,
    "start_time": "2022-05-03T14:42:48.506Z"
   },
   {
    "duration": 53,
    "start_time": "2022-05-03T14:42:48.536Z"
   },
   {
    "duration": 22,
    "start_time": "2022-05-03T14:43:35.198Z"
   },
   {
    "duration": 12,
    "start_time": "2022-05-03T14:43:45.761Z"
   },
   {
    "duration": 36,
    "start_time": "2022-05-03T14:43:55.756Z"
   },
   {
    "duration": 25,
    "start_time": "2022-05-03T14:44:26.345Z"
   },
   {
    "duration": 33,
    "start_time": "2022-05-03T14:44:58.275Z"
   },
   {
    "duration": 264,
    "start_time": "2022-05-03T14:45:32.516Z"
   },
   {
    "duration": 114,
    "start_time": "2022-05-03T14:45:38.631Z"
   },
   {
    "duration": 147,
    "start_time": "2022-05-03T14:48:34.071Z"
   },
   {
    "duration": 53,
    "start_time": "2022-05-03T14:49:22.879Z"
   },
   {
    "duration": 15,
    "start_time": "2022-05-03T14:49:30.363Z"
   },
   {
    "duration": 1442,
    "start_time": "2022-05-03T14:49:40.423Z"
   },
   {
    "duration": 967,
    "start_time": "2022-05-03T14:49:41.867Z"
   },
   {
    "duration": 22,
    "start_time": "2022-05-03T14:49:42.836Z"
   },
   {
    "duration": 417,
    "start_time": "2022-05-03T14:49:42.872Z"
   },
   {
    "duration": 547,
    "start_time": "2022-05-03T14:49:43.291Z"
   },
   {
    "duration": 95,
    "start_time": "2022-05-03T14:49:43.839Z"
   },
   {
    "duration": 266,
    "start_time": "2022-05-03T14:49:43.936Z"
   },
   {
    "duration": 32,
    "start_time": "2022-05-03T14:49:44.204Z"
   },
   {
    "duration": 261,
    "start_time": "2022-05-03T14:49:44.238Z"
   },
   {
    "duration": 28,
    "start_time": "2022-05-03T14:49:44.502Z"
   },
   {
    "duration": 67,
    "start_time": "2022-05-03T14:49:44.532Z"
   },
   {
    "duration": 151,
    "start_time": "2022-05-03T14:49:44.601Z"
   },
   {
    "duration": 10,
    "start_time": "2022-05-03T14:50:01.236Z"
   },
   {
    "duration": 15,
    "start_time": "2022-05-03T14:51:15.006Z"
   },
   {
    "duration": 10,
    "start_time": "2022-05-03T14:51:17.399Z"
   },
   {
    "duration": 1453,
    "start_time": "2022-05-03T14:51:24.805Z"
   },
   {
    "duration": 965,
    "start_time": "2022-05-03T14:51:26.260Z"
   },
   {
    "duration": 22,
    "start_time": "2022-05-03T14:51:27.226Z"
   },
   {
    "duration": 400,
    "start_time": "2022-05-03T14:51:27.250Z"
   },
   {
    "duration": 551,
    "start_time": "2022-05-03T14:51:27.651Z"
   },
   {
    "duration": 91,
    "start_time": "2022-05-03T14:51:28.204Z"
   },
   {
    "duration": 260,
    "start_time": "2022-05-03T14:51:28.296Z"
   },
   {
    "duration": 39,
    "start_time": "2022-05-03T14:51:28.558Z"
   },
   {
    "duration": 247,
    "start_time": "2022-05-03T14:51:28.599Z"
   },
   {
    "duration": 37,
    "start_time": "2022-05-03T14:51:28.849Z"
   },
   {
    "duration": 46,
    "start_time": "2022-05-03T14:51:28.888Z"
   },
   {
    "duration": 72,
    "start_time": "2022-05-03T14:51:28.936Z"
   },
   {
    "duration": 70,
    "start_time": "2022-05-03T14:51:42.158Z"
   },
   {
    "duration": 104,
    "start_time": "2022-05-03T14:52:09.843Z"
   },
   {
    "duration": 72,
    "start_time": "2022-05-03T14:52:22.949Z"
   },
   {
    "duration": 1706,
    "start_time": "2022-05-03T14:53:48.809Z"
   },
   {
    "duration": 1355,
    "start_time": "2022-05-03T14:54:02.786Z"
   },
   {
    "duration": 964,
    "start_time": "2022-05-03T14:54:04.143Z"
   },
   {
    "duration": 22,
    "start_time": "2022-05-03T14:54:05.108Z"
   },
   {
    "duration": 370,
    "start_time": "2022-05-03T14:54:05.131Z"
   },
   {
    "duration": 541,
    "start_time": "2022-05-03T14:54:05.504Z"
   },
   {
    "duration": 95,
    "start_time": "2022-05-03T14:54:06.046Z"
   },
   {
    "duration": 261,
    "start_time": "2022-05-03T14:54:06.143Z"
   },
   {
    "duration": 29,
    "start_time": "2022-05-03T14:54:06.406Z"
   },
   {
    "duration": 245,
    "start_time": "2022-05-03T14:54:06.436Z"
   },
   {
    "duration": 27,
    "start_time": "2022-05-03T14:54:06.683Z"
   },
   {
    "duration": 45,
    "start_time": "2022-05-03T14:54:06.711Z"
   },
   {
    "duration": 40,
    "start_time": "2022-05-03T14:54:06.774Z"
   },
   {
    "duration": 76,
    "start_time": "2022-05-03T14:54:06.816Z"
   },
   {
    "duration": 85,
    "start_time": "2022-05-03T14:54:59.275Z"
   },
   {
    "duration": 71,
    "start_time": "2022-05-03T14:55:01.039Z"
   },
   {
    "duration": 614,
    "start_time": "2022-05-03T14:55:11.642Z"
   },
   {
    "duration": 29,
    "start_time": "2022-05-03T14:56:46.283Z"
   },
   {
    "duration": 123,
    "start_time": "2022-05-03T14:57:10.611Z"
   },
   {
    "duration": 9,
    "start_time": "2022-05-03T14:57:30.472Z"
   },
   {
    "duration": 11,
    "start_time": "2022-05-03T14:57:32.544Z"
   },
   {
    "duration": 93,
    "start_time": "2022-05-03T14:57:45.916Z"
   },
   {
    "duration": 31,
    "start_time": "2022-05-03T14:58:18.407Z"
   },
   {
    "duration": 30,
    "start_time": "2022-05-03T14:58:38.427Z"
   },
   {
    "duration": 23,
    "start_time": "2022-05-03T14:59:01.194Z"
   },
   {
    "duration": 78,
    "start_time": "2022-05-03T15:02:40.171Z"
   },
   {
    "duration": 59,
    "start_time": "2022-05-03T15:02:41.781Z"
   },
   {
    "duration": 87,
    "start_time": "2022-05-03T15:02:51.520Z"
   },
   {
    "duration": 59,
    "start_time": "2022-05-03T15:02:53.492Z"
   },
   {
    "duration": 1363,
    "start_time": "2022-05-03T15:03:11.686Z"
   },
   {
    "duration": 961,
    "start_time": "2022-05-03T15:03:13.051Z"
   },
   {
    "duration": 23,
    "start_time": "2022-05-03T15:03:14.014Z"
   },
   {
    "duration": 397,
    "start_time": "2022-05-03T15:03:14.040Z"
   },
   {
    "duration": 605,
    "start_time": "2022-05-03T15:03:14.440Z"
   },
   {
    "duration": 94,
    "start_time": "2022-05-03T15:03:15.047Z"
   },
   {
    "duration": 267,
    "start_time": "2022-05-03T15:03:15.143Z"
   },
   {
    "duration": 248,
    "start_time": "2022-05-03T15:03:15.411Z"
   },
   {
    "duration": 56,
    "start_time": "2022-05-03T15:03:15.660Z"
   },
   {
    "duration": 106,
    "start_time": "2022-05-03T15:03:15.719Z"
   },
   {
    "duration": 64,
    "start_time": "2022-05-03T15:03:15.827Z"
   },
   {
    "duration": 647,
    "start_time": "2022-05-03T15:03:15.893Z"
   },
   {
    "duration": 148,
    "start_time": "2022-05-03T15:05:35.531Z"
   },
   {
    "duration": 146,
    "start_time": "2022-05-03T15:06:06.764Z"
   },
   {
    "duration": 1517,
    "start_time": "2022-05-03T15:06:15.096Z"
   },
   {
    "duration": 947,
    "start_time": "2022-05-03T15:06:16.614Z"
   },
   {
    "duration": 24,
    "start_time": "2022-05-03T15:06:17.563Z"
   },
   {
    "duration": 432,
    "start_time": "2022-05-03T15:06:17.589Z"
   },
   {
    "duration": 565,
    "start_time": "2022-05-03T15:06:18.023Z"
   },
   {
    "duration": 93,
    "start_time": "2022-05-03T15:06:18.590Z"
   },
   {
    "duration": 269,
    "start_time": "2022-05-03T15:06:18.684Z"
   },
   {
    "duration": 236,
    "start_time": "2022-05-03T15:06:18.954Z"
   },
   {
    "duration": 230,
    "start_time": "2022-05-03T15:06:19.192Z"
   },
   {
    "duration": 49,
    "start_time": "2022-05-03T15:06:19.425Z"
   },
   {
    "duration": 106,
    "start_time": "2022-05-03T15:06:19.476Z"
   },
   {
    "duration": 60,
    "start_time": "2022-05-03T15:06:19.583Z"
   },
   {
    "duration": 643,
    "start_time": "2022-05-03T15:06:19.645Z"
   },
   {
    "duration": 1412,
    "start_time": "2022-05-03T15:07:13.962Z"
   },
   {
    "duration": 941,
    "start_time": "2022-05-03T15:07:15.376Z"
   },
   {
    "duration": 22,
    "start_time": "2022-05-03T15:07:16.318Z"
   },
   {
    "duration": 382,
    "start_time": "2022-05-03T15:07:16.342Z"
   },
   {
    "duration": 570,
    "start_time": "2022-05-03T15:07:16.725Z"
   },
   {
    "duration": 99,
    "start_time": "2022-05-03T15:07:17.297Z"
   },
   {
    "duration": 271,
    "start_time": "2022-05-03T15:07:17.397Z"
   },
   {
    "duration": 233,
    "start_time": "2022-05-03T15:07:17.672Z"
   },
   {
    "duration": 46,
    "start_time": "2022-05-03T15:07:17.907Z"
   },
   {
    "duration": 107,
    "start_time": "2022-05-03T15:07:17.955Z"
   },
   {
    "duration": 63,
    "start_time": "2022-05-03T15:07:18.064Z"
   },
   {
    "duration": 624,
    "start_time": "2022-05-03T15:07:18.129Z"
   },
   {
    "duration": 60,
    "start_time": "2022-05-03T15:09:53.719Z"
   },
   {
    "duration": 505,
    "start_time": "2022-05-03T15:12:01.402Z"
   },
   {
    "duration": 100,
    "start_time": "2022-05-03T15:13:22.836Z"
   },
   {
    "duration": 4,
    "start_time": "2022-05-03T15:13:30.385Z"
   },
   {
    "duration": 60,
    "start_time": "2022-05-03T15:13:32.087Z"
   },
   {
    "duration": 447,
    "start_time": "2022-05-03T15:13:53.671Z"
   },
   {
    "duration": 455,
    "start_time": "2022-05-03T15:13:57.057Z"
   },
   {
    "duration": 441,
    "start_time": "2022-05-03T15:14:17.510Z"
   },
   {
    "duration": 66,
    "start_time": "2022-05-03T15:14:34.328Z"
   },
   {
    "duration": 16,
    "start_time": "2022-05-03T15:15:23.669Z"
   },
   {
    "duration": 22,
    "start_time": "2022-05-03T15:15:30.127Z"
   },
   {
    "duration": 1448,
    "start_time": "2022-05-03T15:16:23.451Z"
   },
   {
    "duration": 1025,
    "start_time": "2022-05-03T15:16:24.901Z"
   },
   {
    "duration": 24,
    "start_time": "2022-05-03T15:16:25.928Z"
   },
   {
    "duration": 461,
    "start_time": "2022-05-03T15:16:25.954Z"
   },
   {
    "duration": 578,
    "start_time": "2022-05-03T15:16:26.416Z"
   },
   {
    "duration": 113,
    "start_time": "2022-05-03T15:16:26.996Z"
   },
   {
    "duration": 270,
    "start_time": "2022-05-03T15:16:27.111Z"
   },
   {
    "duration": 250,
    "start_time": "2022-05-03T15:16:27.383Z"
   },
   {
    "duration": 57,
    "start_time": "2022-05-03T15:16:27.636Z"
   },
   {
    "duration": 110,
    "start_time": "2022-05-03T15:16:27.696Z"
   },
   {
    "duration": 68,
    "start_time": "2022-05-03T15:16:27.809Z"
   },
   {
    "duration": 633,
    "start_time": "2022-05-03T15:16:27.879Z"
   },
   {
    "duration": 22,
    "start_time": "2022-05-03T15:16:28.514Z"
   },
   {
    "duration": 443,
    "start_time": "2022-05-03T15:17:25.351Z"
   },
   {
    "duration": 17,
    "start_time": "2022-05-03T15:17:38.088Z"
   },
   {
    "duration": 16,
    "start_time": "2022-05-03T15:17:57.995Z"
   },
   {
    "duration": 104,
    "start_time": "2022-05-03T15:18:10.221Z"
   },
   {
    "duration": 170,
    "start_time": "2022-05-03T15:18:12.701Z"
   },
   {
    "duration": 474,
    "start_time": "2022-05-03T15:19:21.098Z"
   },
   {
    "duration": 103,
    "start_time": "2022-05-03T15:22:07.694Z"
   },
   {
    "duration": 28,
    "start_time": "2022-05-03T15:22:23.680Z"
   },
   {
    "duration": 14,
    "start_time": "2022-05-03T15:22:27.265Z"
   },
   {
    "duration": 474,
    "start_time": "2022-05-03T15:22:30.633Z"
   },
   {
    "duration": 282,
    "start_time": "2022-05-03T15:22:32.259Z"
   },
   {
    "duration": 215,
    "start_time": "2022-05-03T15:22:39.637Z"
   },
   {
    "duration": 13,
    "start_time": "2022-05-03T15:24:22.536Z"
   },
   {
    "duration": 13,
    "start_time": "2022-05-03T15:24:26.365Z"
   },
   {
    "duration": 20246,
    "start_time": "2022-05-03T15:24:30.129Z"
   },
   {
    "duration": 160,
    "start_time": "2022-05-03T15:26:04.649Z"
   },
   {
    "duration": 4,
    "start_time": "2022-05-03T15:27:03.691Z"
   },
   {
    "duration": 1381,
    "start_time": "2022-05-03T15:27:08.907Z"
   },
   {
    "duration": 987,
    "start_time": "2022-05-03T15:27:10.290Z"
   },
   {
    "duration": 23,
    "start_time": "2022-05-03T15:27:11.279Z"
   },
   {
    "duration": 406,
    "start_time": "2022-05-03T15:27:11.305Z"
   },
   {
    "duration": 563,
    "start_time": "2022-05-03T15:27:11.713Z"
   },
   {
    "duration": 104,
    "start_time": "2022-05-03T15:27:12.277Z"
   },
   {
    "duration": 263,
    "start_time": "2022-05-03T15:27:12.383Z"
   },
   {
    "duration": 330,
    "start_time": "2022-05-03T15:27:12.647Z"
   },
   {
    "duration": 46,
    "start_time": "2022-05-03T15:27:12.979Z"
   },
   {
    "duration": 108,
    "start_time": "2022-05-03T15:27:13.027Z"
   },
   {
    "duration": 65,
    "start_time": "2022-05-03T15:27:13.137Z"
   },
   {
    "duration": 543,
    "start_time": "2022-05-03T15:27:13.204Z"
   },
   {
    "duration": 498,
    "start_time": "2022-05-03T15:27:13.749Z"
   },
   {
    "duration": 279,
    "start_time": "2022-05-03T15:27:14.249Z"
   },
   {
    "duration": 15751,
    "start_time": "2022-05-03T15:27:14.529Z"
   },
   {
    "duration": 16010,
    "start_time": "2022-05-03T15:27:56.070Z"
   },
   {
    "duration": 110,
    "start_time": "2022-05-03T15:30:08.994Z"
   },
   {
    "duration": 4,
    "start_time": "2022-05-03T15:30:15.817Z"
   },
   {
    "duration": 486,
    "start_time": "2022-05-03T15:30:20.384Z"
   },
   {
    "duration": 496,
    "start_time": "2022-05-03T15:30:38.155Z"
   },
   {
    "duration": 442,
    "start_time": "2022-05-03T15:30:45.210Z"
   },
   {
    "duration": 32,
    "start_time": "2022-05-03T15:30:51.730Z"
   },
   {
    "duration": 72,
    "start_time": "2022-05-03T15:30:54.112Z"
   },
   {
    "duration": 60,
    "start_time": "2022-05-03T15:31:37.917Z"
   },
   {
    "duration": 55,
    "start_time": "2022-05-03T15:36:00.635Z"
   },
   {
    "duration": 37,
    "start_time": "2022-05-03T15:36:23.514Z"
   },
   {
    "duration": 39,
    "start_time": "2022-05-03T15:36:25.900Z"
   },
   {
    "duration": 69,
    "start_time": "2022-05-03T15:36:27.813Z"
   },
   {
    "duration": 1420,
    "start_time": "2022-05-03T15:36:34.228Z"
   },
   {
    "duration": 1017,
    "start_time": "2022-05-03T15:36:35.650Z"
   },
   {
    "duration": 30,
    "start_time": "2022-05-03T15:36:36.669Z"
   },
   {
    "duration": 402,
    "start_time": "2022-05-03T15:36:36.701Z"
   },
   {
    "duration": 554,
    "start_time": "2022-05-03T15:36:37.106Z"
   },
   {
    "duration": 116,
    "start_time": "2022-05-03T15:36:37.661Z"
   },
   {
    "duration": 281,
    "start_time": "2022-05-03T15:36:37.779Z"
   },
   {
    "duration": 349,
    "start_time": "2022-05-03T15:36:38.063Z"
   },
   {
    "duration": 47,
    "start_time": "2022-05-03T15:36:38.414Z"
   },
   {
    "duration": 124,
    "start_time": "2022-05-03T15:36:38.463Z"
   },
   {
    "duration": 61,
    "start_time": "2022-05-03T15:36:38.589Z"
   },
   {
    "duration": 574,
    "start_time": "2022-05-03T15:36:38.653Z"
   },
   {
    "duration": 134,
    "start_time": "2022-05-03T15:36:39.229Z"
   },
   {
    "duration": 0,
    "start_time": "2022-05-03T15:36:39.365Z"
   },
   {
    "duration": 0,
    "start_time": "2022-05-03T15:36:39.380Z"
   },
   {
    "duration": 0,
    "start_time": "2022-05-03T15:36:39.382Z"
   },
   {
    "duration": 20,
    "start_time": "2022-05-03T15:36:53.611Z"
   },
   {
    "duration": 519,
    "start_time": "2022-05-03T15:36:57.939Z"
   },
   {
    "duration": 285,
    "start_time": "2022-05-03T15:37:00.566Z"
   },
   {
    "duration": 23128,
    "start_time": "2022-05-03T15:37:02.269Z"
   },
   {
    "duration": 30,
    "start_time": "2022-05-03T15:38:19.990Z"
   },
   {
    "duration": 23914,
    "start_time": "2022-05-03T15:38:32.766Z"
   },
   {
    "duration": 3,
    "start_time": "2022-05-03T15:40:42.291Z"
   },
   {
    "duration": 27893,
    "start_time": "2022-05-03T15:40:58.087Z"
   },
   {
    "duration": 2747,
    "start_time": "2022-05-03T15:44:08.000Z"
   },
   {
    "duration": 31127,
    "start_time": "2022-05-03T15:45:11.451Z"
   },
   {
    "duration": 2768,
    "start_time": "2022-05-03T15:49:06.464Z"
   },
   {
    "duration": 101114,
    "start_time": "2022-05-03T15:49:14.587Z"
   },
   {
    "duration": 459,
    "start_time": "2022-05-03T15:51:55.069Z"
   },
   {
    "duration": 33,
    "start_time": "2022-05-03T15:52:06.601Z"
   },
   {
    "duration": 23,
    "start_time": "2022-05-03T15:52:36.235Z"
   },
   {
    "duration": 3,
    "start_time": "2022-05-03T15:52:45.029Z"
   },
   {
    "duration": 3135,
    "start_time": "2022-05-03T15:54:44.207Z"
   },
   {
    "duration": 36,
    "start_time": "2022-05-03T15:55:04.645Z"
   },
   {
    "duration": 31,
    "start_time": "2022-05-03T15:55:06.344Z"
   },
   {
    "duration": 1529,
    "start_time": "2022-05-03T15:55:28.827Z"
   },
   {
    "duration": 1034,
    "start_time": "2022-05-03T15:55:30.358Z"
   },
   {
    "duration": 26,
    "start_time": "2022-05-03T15:55:31.394Z"
   },
   {
    "duration": 398,
    "start_time": "2022-05-03T15:55:31.422Z"
   },
   {
    "duration": 731,
    "start_time": "2022-05-03T15:55:31.823Z"
   },
   {
    "duration": 108,
    "start_time": "2022-05-03T15:55:32.556Z"
   },
   {
    "duration": 267,
    "start_time": "2022-05-03T15:55:32.673Z"
   },
   {
    "duration": 242,
    "start_time": "2022-05-03T15:55:32.942Z"
   },
   {
    "duration": 48,
    "start_time": "2022-05-03T15:55:33.186Z"
   },
   {
    "duration": 114,
    "start_time": "2022-05-03T15:55:33.235Z"
   },
   {
    "duration": 64,
    "start_time": "2022-05-03T15:55:33.350Z"
   },
   {
    "duration": 587,
    "start_time": "2022-05-03T15:55:33.416Z"
   },
   {
    "duration": 538,
    "start_time": "2022-05-03T15:55:34.005Z"
   },
   {
    "duration": 3,
    "start_time": "2022-05-03T15:55:34.546Z"
   },
   {
    "duration": 296,
    "start_time": "2022-05-03T15:55:34.550Z"
   },
   {
    "duration": 3,
    "start_time": "2022-05-03T15:55:34.848Z"
   },
   {
    "duration": 16,
    "start_time": "2022-05-03T15:55:34.853Z"
   },
   {
    "duration": 12,
    "start_time": "2022-05-03T15:55:34.873Z"
   },
   {
    "duration": 6,
    "start_time": "2022-05-03T15:55:34.887Z"
   },
   {
    "duration": 32,
    "start_time": "2022-05-03T15:55:34.895Z"
   },
   {
    "duration": 233,
    "start_time": "2022-05-03T15:55:34.928Z"
   },
   {
    "duration": 126,
    "start_time": "2022-05-03T15:55:35.163Z"
   },
   {
    "duration": 23,
    "start_time": "2022-05-03T15:55:48.466Z"
   },
   {
    "duration": 71,
    "start_time": "2022-05-03T15:56:25.911Z"
   },
   {
    "duration": 57,
    "start_time": "2022-05-03T15:56:28.510Z"
   },
   {
    "duration": 1873,
    "start_time": "2022-05-03T15:56:29.933Z"
   },
   {
    "duration": 4,
    "start_time": "2022-05-03T15:57:35.921Z"
   },
   {
    "duration": 2163,
    "start_time": "2022-05-03T15:58:22.033Z"
   },
   {
    "duration": 6117,
    "start_time": "2022-05-03T15:58:53.034Z"
   },
   {
    "duration": 6198,
    "start_time": "2022-05-03T16:00:37.751Z"
   },
   {
    "duration": 6162,
    "start_time": "2022-05-03T16:00:49.718Z"
   },
   {
    "duration": 2,
    "start_time": "2022-05-03T16:01:14.075Z"
   },
   {
    "duration": 70,
    "start_time": "2022-05-03T16:01:16.760Z"
   },
   {
    "duration": 6256,
    "start_time": "2022-05-03T16:06:59.608Z"
   },
   {
    "duration": 10,
    "start_time": "2022-05-03T16:11:12.086Z"
   },
   {
    "duration": 327,
    "start_time": "2022-05-03T16:11:22.162Z"
   },
   {
    "duration": 10,
    "start_time": "2022-05-03T16:11:24.238Z"
   },
   {
    "duration": 12,
    "start_time": "2022-05-03T16:12:08.052Z"
   },
   {
    "duration": 10,
    "start_time": "2022-05-03T16:12:10.610Z"
   },
   {
    "duration": 146,
    "start_time": "2022-05-03T16:12:18.087Z"
   },
   {
    "duration": 172,
    "start_time": "2022-05-03T16:12:25.138Z"
   },
   {
    "duration": 101,
    "start_time": "2022-05-03T16:13:30.886Z"
   },
   {
    "duration": 177,
    "start_time": "2022-05-03T16:13:36.106Z"
   },
   {
    "duration": 186,
    "start_time": "2022-05-03T16:13:38.767Z"
   },
   {
    "duration": 176,
    "start_time": "2022-05-03T16:13:41.993Z"
   },
   {
    "duration": 187,
    "start_time": "2022-05-03T16:13:50.120Z"
   },
   {
    "duration": 1570,
    "start_time": "2022-05-03T16:13:59.557Z"
   },
   {
    "duration": 995,
    "start_time": "2022-05-03T16:14:01.129Z"
   },
   {
    "duration": 25,
    "start_time": "2022-05-03T16:14:02.126Z"
   },
   {
    "duration": 443,
    "start_time": "2022-05-03T16:14:02.154Z"
   },
   {
    "duration": 683,
    "start_time": "2022-05-03T16:14:02.599Z"
   },
   {
    "duration": 103,
    "start_time": "2022-05-03T16:14:03.284Z"
   },
   {
    "duration": 276,
    "start_time": "2022-05-03T16:14:03.389Z"
   },
   {
    "duration": 249,
    "start_time": "2022-05-03T16:14:03.666Z"
   },
   {
    "duration": 58,
    "start_time": "2022-05-03T16:14:03.917Z"
   },
   {
    "duration": 113,
    "start_time": "2022-05-03T16:14:03.979Z"
   },
   {
    "duration": 58,
    "start_time": "2022-05-03T16:14:04.094Z"
   },
   {
    "duration": 597,
    "start_time": "2022-05-03T16:14:04.154Z"
   },
   {
    "duration": 566,
    "start_time": "2022-05-03T16:14:04.753Z"
   },
   {
    "duration": 3,
    "start_time": "2022-05-03T16:14:05.321Z"
   },
   {
    "duration": 286,
    "start_time": "2022-05-03T16:14:05.325Z"
   },
   {
    "duration": 3,
    "start_time": "2022-05-03T16:14:05.612Z"
   },
   {
    "duration": 7,
    "start_time": "2022-05-03T16:14:05.617Z"
   },
   {
    "duration": 5,
    "start_time": "2022-05-03T16:14:05.626Z"
   },
   {
    "duration": 6,
    "start_time": "2022-05-03T16:14:05.633Z"
   },
   {
    "duration": 7,
    "start_time": "2022-05-03T16:14:05.641Z"
   },
   {
    "duration": 83,
    "start_time": "2022-05-03T16:14:05.650Z"
   },
   {
    "duration": 62,
    "start_time": "2022-05-03T16:14:05.734Z"
   },
   {
    "duration": 6563,
    "start_time": "2022-05-03T16:14:05.798Z"
   },
   {
    "duration": 590,
    "start_time": "2022-05-03T16:14:12.363Z"
   },
   {
    "duration": 766,
    "start_time": "2022-05-03T16:14:48.301Z"
   },
   {
    "duration": 515,
    "start_time": "2022-05-03T16:14:59.656Z"
   },
   {
    "duration": 574,
    "start_time": "2022-05-03T16:16:07.175Z"
   },
   {
    "duration": 528,
    "start_time": "2022-05-03T16:16:16.284Z"
   },
   {
    "duration": 26,
    "start_time": "2022-05-03T16:19:18.963Z"
   },
   {
    "duration": 39,
    "start_time": "2022-05-03T16:20:46.297Z"
   },
   {
    "duration": 12141,
    "start_time": "2022-05-03T16:22:06.839Z"
   },
   {
    "duration": 4,
    "start_time": "2022-05-03T16:24:18.279Z"
   },
   {
    "duration": 3,
    "start_time": "2022-05-03T16:26:30.355Z"
   },
   {
    "duration": 386788,
    "start_time": "2022-05-03T16:27:33.282Z"
   },
   {
    "duration": 386094,
    "start_time": "2022-05-03T16:34:49.865Z"
   },
   {
    "duration": 75,
    "start_time": "2022-05-04T09:51:50.787Z"
   },
   {
    "duration": 11,
    "start_time": "2022-05-04T09:52:47.095Z"
   },
   {
    "duration": 2354,
    "start_time": "2022-05-04T09:52:54.767Z"
   },
   {
    "duration": 1304,
    "start_time": "2022-05-04T09:52:57.124Z"
   },
   {
    "duration": 33,
    "start_time": "2022-05-04T09:52:58.430Z"
   },
   {
    "duration": 622,
    "start_time": "2022-05-04T09:52:58.466Z"
   },
   {
    "duration": 956,
    "start_time": "2022-05-04T09:52:59.091Z"
   },
   {
    "duration": 160,
    "start_time": "2022-05-04T09:53:00.050Z"
   },
   {
    "duration": 354,
    "start_time": "2022-05-04T09:53:00.212Z"
   },
   {
    "duration": 365,
    "start_time": "2022-05-04T09:53:00.568Z"
   },
   {
    "duration": 55,
    "start_time": "2022-05-04T09:53:00.935Z"
   },
   {
    "duration": 180,
    "start_time": "2022-05-04T09:53:00.992Z"
   },
   {
    "duration": 77,
    "start_time": "2022-05-04T09:53:01.174Z"
   },
   {
    "duration": 1080,
    "start_time": "2022-05-04T09:53:01.253Z"
   },
   {
    "duration": 959,
    "start_time": "2022-05-04T09:53:02.335Z"
   },
   {
    "duration": 4,
    "start_time": "2022-05-04T09:53:03.298Z"
   },
   {
    "duration": 358,
    "start_time": "2022-05-04T09:53:03.304Z"
   },
   {
    "duration": 5,
    "start_time": "2022-05-04T09:53:03.664Z"
   },
   {
    "duration": 18,
    "start_time": "2022-05-04T09:53:03.671Z"
   },
   {
    "duration": 16,
    "start_time": "2022-05-04T09:53:03.692Z"
   },
   {
    "duration": 17,
    "start_time": "2022-05-04T09:53:03.710Z"
   },
   {
    "duration": 10,
    "start_time": "2022-05-04T09:53:03.730Z"
   },
   {
    "duration": 97,
    "start_time": "2022-05-04T09:53:03.743Z"
   },
   {
    "duration": 117,
    "start_time": "2022-05-04T09:53:03.842Z"
   },
   {
    "duration": 14698,
    "start_time": "2022-05-04T09:53:03.961Z"
   },
   {
    "duration": 952,
    "start_time": "2022-05-04T09:53:18.661Z"
   },
   {
    "duration": 59,
    "start_time": "2022-05-04T09:53:19.615Z"
   },
   {
    "duration": 8356,
    "start_time": "2022-05-04T09:53:19.676Z"
   },
   {
    "duration": 4,
    "start_time": "2022-05-04T09:53:28.035Z"
   },
   {
    "duration": 2995,
    "start_time": "2022-05-04T10:00:38.613Z"
   },
   {
    "duration": 1401,
    "start_time": "2022-05-04T10:00:41.611Z"
   },
   {
    "duration": 43,
    "start_time": "2022-05-04T10:00:43.014Z"
   },
   {
    "duration": 590,
    "start_time": "2022-05-04T10:00:43.062Z"
   },
   {
    "duration": 1044,
    "start_time": "2022-05-04T10:00:43.654Z"
   },
   {
    "duration": 153,
    "start_time": "2022-05-04T10:00:44.701Z"
   },
   {
    "duration": 670,
    "start_time": "2022-05-04T10:00:44.857Z"
   },
   {
    "duration": 867,
    "start_time": "2022-05-04T10:00:45.531Z"
   },
   {
    "duration": 927,
    "start_time": "2022-05-04T10:00:46.401Z"
   },
   {
    "duration": 813,
    "start_time": "2022-05-04T10:00:47.334Z"
   },
   {
    "duration": 3,
    "start_time": "2022-05-04T10:00:48.150Z"
   },
   {
    "duration": 352,
    "start_time": "2022-05-04T10:00:48.155Z"
   },
   {
    "duration": 5,
    "start_time": "2022-05-04T10:00:48.509Z"
   },
   {
    "duration": 9,
    "start_time": "2022-05-04T10:00:48.525Z"
   },
   {
    "duration": 7,
    "start_time": "2022-05-04T10:00:48.536Z"
   },
   {
    "duration": 6,
    "start_time": "2022-05-04T10:00:48.546Z"
   },
   {
    "duration": 12,
    "start_time": "2022-05-04T10:00:48.554Z"
   },
   {
    "duration": 119,
    "start_time": "2022-05-04T10:00:48.568Z"
   },
   {
    "duration": 124,
    "start_time": "2022-05-04T10:00:48.689Z"
   },
   {
    "duration": 15891,
    "start_time": "2022-05-04T10:00:48.817Z"
   },
   {
    "duration": 1040,
    "start_time": "2022-05-04T10:01:04.711Z"
   },
   {
    "duration": 90,
    "start_time": "2022-05-04T10:01:05.754Z"
   },
   {
    "duration": 2487,
    "start_time": "2022-05-04T10:05:31.545Z"
   },
   {
    "duration": 2148,
    "start_time": "2022-05-04T10:05:34.036Z"
   },
   {
    "duration": 44,
    "start_time": "2022-05-04T10:05:36.186Z"
   },
   {
    "duration": 581,
    "start_time": "2022-05-04T10:05:36.232Z"
   },
   {
    "duration": 1025,
    "start_time": "2022-05-04T10:05:36.823Z"
   },
   {
    "duration": 160,
    "start_time": "2022-05-04T10:05:37.850Z"
   },
   {
    "duration": 411,
    "start_time": "2022-05-04T10:05:38.013Z"
   },
   {
    "duration": 613,
    "start_time": "2022-05-04T10:05:38.426Z"
   },
   {
    "duration": 873,
    "start_time": "2022-05-04T10:05:39.041Z"
   },
   {
    "duration": 951,
    "start_time": "2022-05-04T10:05:39.924Z"
   },
   {
    "duration": 3,
    "start_time": "2022-05-04T10:05:40.878Z"
   },
   {
    "duration": 391,
    "start_time": "2022-05-04T10:05:40.884Z"
   },
   {
    "duration": 6,
    "start_time": "2022-05-04T10:05:41.277Z"
   },
   {
    "duration": 6,
    "start_time": "2022-05-04T10:05:41.287Z"
   },
   {
    "duration": 29,
    "start_time": "2022-05-04T10:05:41.295Z"
   },
   {
    "duration": 10,
    "start_time": "2022-05-04T10:05:41.327Z"
   },
   {
    "duration": 6,
    "start_time": "2022-05-04T10:05:41.338Z"
   },
   {
    "duration": 8,
    "start_time": "2022-05-04T10:05:41.347Z"
   },
   {
    "duration": 117,
    "start_time": "2022-05-04T10:05:41.357Z"
   },
   {
    "duration": 125,
    "start_time": "2022-05-04T10:05:41.476Z"
   },
   {
    "duration": 30491,
    "start_time": "2022-05-04T10:05:41.603Z"
   },
   {
    "duration": 1728,
    "start_time": "2022-05-04T10:06:12.097Z"
   },
   {
    "duration": 75,
    "start_time": "2022-05-04T10:06:13.828Z"
   },
   {
    "duration": 231305,
    "start_time": "2022-05-04T10:06:13.926Z"
   },
   {
    "duration": 5,
    "start_time": "2022-05-04T10:10:05.233Z"
   },
   {
    "duration": 3284,
    "start_time": "2022-05-04T15:32:09.406Z"
   },
   {
    "duration": 1510,
    "start_time": "2022-05-04T15:32:12.692Z"
   },
   {
    "duration": 47,
    "start_time": "2022-05-04T15:32:14.204Z"
   },
   {
    "duration": 519,
    "start_time": "2022-05-04T15:32:14.253Z"
   },
   {
    "duration": 787,
    "start_time": "2022-05-04T15:32:14.774Z"
   },
   {
    "duration": 103,
    "start_time": "2022-05-04T15:32:15.563Z"
   },
   {
    "duration": 290,
    "start_time": "2022-05-04T15:32:15.668Z"
   },
   {
    "duration": 381,
    "start_time": "2022-05-04T15:32:15.960Z"
   },
   {
    "duration": 528,
    "start_time": "2022-05-04T15:32:16.347Z"
   },
   {
    "duration": 663,
    "start_time": "2022-05-04T15:32:16.878Z"
   },
   {
    "duration": 3,
    "start_time": "2022-05-04T15:32:17.548Z"
   },
   {
    "duration": 275,
    "start_time": "2022-05-04T15:32:17.553Z"
   },
   {
    "duration": 4,
    "start_time": "2022-05-04T15:32:17.829Z"
   },
   {
    "duration": 2,
    "start_time": "2022-05-04T15:32:17.848Z"
   },
   {
    "duration": 1612,
    "start_time": "2022-05-04T16:06:13.498Z"
   },
   {
    "duration": 1014,
    "start_time": "2022-05-04T16:06:15.112Z"
   },
   {
    "duration": 36,
    "start_time": "2022-05-04T16:06:16.128Z"
   },
   {
    "duration": 413,
    "start_time": "2022-05-04T16:06:16.166Z"
   },
   {
    "duration": 708,
    "start_time": "2022-05-04T16:06:16.581Z"
   },
   {
    "duration": 110,
    "start_time": "2022-05-04T16:06:17.291Z"
   },
   {
    "duration": 288,
    "start_time": "2022-05-04T16:06:17.402Z"
   },
   {
    "duration": 425,
    "start_time": "2022-05-04T16:06:17.692Z"
   },
   {
    "duration": 590,
    "start_time": "2022-05-04T16:06:18.119Z"
   },
   {
    "duration": 505,
    "start_time": "2022-05-04T16:06:18.712Z"
   },
   {
    "duration": 273,
    "start_time": "2022-05-04T16:06:19.219Z"
   },
   {
    "duration": 4,
    "start_time": "2022-05-04T16:06:19.493Z"
   },
   {
    "duration": 6,
    "start_time": "2022-05-04T16:06:19.499Z"
   },
   {
    "duration": 1823,
    "start_time": "2022-05-04T16:27:59.695Z"
   },
   {
    "duration": 936,
    "start_time": "2022-05-04T16:28:01.520Z"
   },
   {
    "duration": 24,
    "start_time": "2022-05-04T16:28:02.458Z"
   },
   {
    "duration": 504,
    "start_time": "2022-05-04T16:28:02.486Z"
   },
   {
    "duration": 626,
    "start_time": "2022-05-04T16:28:02.993Z"
   },
   {
    "duration": 149,
    "start_time": "2022-05-04T16:28:03.621Z"
   },
   {
    "duration": 280,
    "start_time": "2022-05-04T16:28:03.773Z"
   },
   {
    "duration": 357,
    "start_time": "2022-05-04T16:28:04.055Z"
   },
   {
    "duration": 701,
    "start_time": "2022-05-04T16:28:04.413Z"
   },
   {
    "duration": 521,
    "start_time": "2022-05-04T16:28:05.116Z"
   },
   {
    "duration": 355,
    "start_time": "2022-05-04T16:28:05.639Z"
   },
   {
    "duration": 3,
    "start_time": "2022-05-04T16:28:05.996Z"
   },
   {
    "duration": 20767,
    "start_time": "2022-05-04T16:28:06.001Z"
   },
   {
    "duration": 3599,
    "start_time": "2022-05-04T16:28:26.773Z"
   },
   {
    "duration": 125037,
    "start_time": "2022-05-04T16:28:30.374Z"
   },
   {
    "duration": 97,
    "start_time": "2022-05-04T16:30:35.413Z"
   },
   {
    "duration": 71,
    "start_time": "2022-05-04T16:30:35.512Z"
   },
   {
    "duration": 7613,
    "start_time": "2022-05-04T16:30:35.584Z"
   },
   {
    "duration": 1141,
    "start_time": "2022-05-04T16:30:43.199Z"
   },
   {
    "duration": 63,
    "start_time": "2022-05-04T16:30:44.347Z"
   },
   {
    "duration": 531056,
    "start_time": "2022-05-04T16:30:44.412Z"
   },
   {
    "duration": 293,
    "start_time": "2022-05-04T16:43:33.665Z"
   },
   {
    "duration": 528,
    "start_time": "2022-05-04T16:43:38.628Z"
   },
   {
    "duration": 512,
    "start_time": "2022-05-04T16:44:04.851Z"
   },
   {
    "duration": 262986,
    "start_time": "2022-05-04T16:44:23.564Z"
   },
   {
    "duration": 789704,
    "start_time": "2022-05-04T16:50:02.487Z"
   },
   {
    "duration": 401095,
    "start_time": "2022-05-04T17:03:12.192Z"
   },
   {
    "duration": 3453,
    "start_time": "2022-05-04T17:09:53.289Z"
   },
   {
    "duration": 3170,
    "start_time": "2022-05-04T17:11:27.134Z"
   },
   {
    "duration": 4,
    "start_time": "2022-05-04T17:11:51.706Z"
   },
   {
    "duration": 1001,
    "start_time": "2022-05-04T17:11:51.712Z"
   },
   {
    "duration": 21,
    "start_time": "2022-05-04T17:11:52.715Z"
   },
   {
    "duration": 395,
    "start_time": "2022-05-04T17:11:52.738Z"
   },
   {
    "duration": 667,
    "start_time": "2022-05-04T17:11:53.135Z"
   },
   {
    "duration": 123,
    "start_time": "2022-05-04T17:11:53.804Z"
   },
   {
    "duration": 451,
    "start_time": "2022-05-04T17:11:53.929Z"
   },
   {
    "duration": 597,
    "start_time": "2022-05-04T17:11:54.382Z"
   },
   {
    "duration": 765,
    "start_time": "2022-05-04T17:11:54.981Z"
   },
   {
    "duration": 546,
    "start_time": "2022-05-04T17:11:55.750Z"
   },
   {
    "duration": 342,
    "start_time": "2022-05-04T17:11:56.298Z"
   },
   {
    "duration": 3,
    "start_time": "2022-05-04T17:11:56.647Z"
   },
   {
    "duration": 17502,
    "start_time": "2022-05-04T17:11:56.652Z"
   },
   {
    "duration": 2718,
    "start_time": "2022-05-04T17:12:14.156Z"
   },
   {
    "duration": 103725,
    "start_time": "2022-05-04T17:12:16.875Z"
   },
   {
    "duration": 78,
    "start_time": "2022-05-04T17:14:00.602Z"
   },
   {
    "duration": 46,
    "start_time": "2022-05-04T17:14:00.682Z"
   },
   {
    "duration": 1418,
    "start_time": "2022-05-04T17:14:20.706Z"
   },
   {
    "duration": 1016,
    "start_time": "2022-05-04T17:14:22.126Z"
   },
   {
    "duration": 28,
    "start_time": "2022-05-04T17:14:23.151Z"
   },
   {
    "duration": 395,
    "start_time": "2022-05-04T17:14:23.181Z"
   },
   {
    "duration": 634,
    "start_time": "2022-05-04T17:14:23.579Z"
   },
   {
    "duration": 123,
    "start_time": "2022-05-04T17:14:24.215Z"
   },
   {
    "duration": 322,
    "start_time": "2022-05-04T17:14:24.340Z"
   },
   {
    "duration": 423,
    "start_time": "2022-05-04T17:14:24.664Z"
   },
   {
    "duration": 570,
    "start_time": "2022-05-04T17:14:25.089Z"
   },
   {
    "duration": 530,
    "start_time": "2022-05-04T17:14:25.664Z"
   },
   {
    "duration": 332,
    "start_time": "2022-05-04T17:14:26.196Z"
   },
   {
    "duration": 3,
    "start_time": "2022-05-04T17:14:26.529Z"
   },
   {
    "duration": 17214,
    "start_time": "2022-05-04T17:14:26.534Z"
   },
   {
    "duration": 2777,
    "start_time": "2022-05-04T17:14:43.754Z"
   },
   {
    "duration": 110158,
    "start_time": "2022-05-04T17:14:46.533Z"
   },
   {
    "duration": 87,
    "start_time": "2022-05-04T17:16:36.693Z"
   },
   {
    "duration": 50,
    "start_time": "2022-05-04T17:16:36.782Z"
   },
   {
    "duration": 6423,
    "start_time": "2022-05-04T17:16:36.834Z"
   },
   {
    "duration": 714,
    "start_time": "2022-05-04T17:16:43.260Z"
   },
   {
    "duration": 40,
    "start_time": "2022-05-04T17:16:43.976Z"
   },
   {
    "duration": 14055,
    "start_time": "2022-05-04T17:16:44.017Z"
   },
   {
    "duration": 5778,
    "start_time": "2022-05-04T17:16:58.073Z"
   },
   {
    "duration": 4403,
    "start_time": "2022-05-05T14:23:41.407Z"
   },
   {
    "duration": 1271,
    "start_time": "2022-05-05T14:23:45.812Z"
   },
   {
    "duration": 48,
    "start_time": "2022-05-05T14:23:47.086Z"
   },
   {
    "duration": 506,
    "start_time": "2022-05-05T14:23:47.137Z"
   },
   {
    "duration": 1060,
    "start_time": "2022-05-05T14:23:47.645Z"
   },
   {
    "duration": 148,
    "start_time": "2022-05-05T14:23:48.707Z"
   },
   {
    "duration": 351,
    "start_time": "2022-05-05T14:23:48.857Z"
   },
   {
    "duration": 588,
    "start_time": "2022-05-05T14:23:49.210Z"
   },
   {
    "duration": 898,
    "start_time": "2022-05-05T14:23:49.801Z"
   },
   {
    "duration": 515,
    "start_time": "2022-05-05T14:23:50.703Z"
   },
   {
    "duration": 339,
    "start_time": "2022-05-05T14:23:51.225Z"
   },
   {
    "duration": 5,
    "start_time": "2022-05-05T14:23:51.566Z"
   },
   {
    "duration": 19553,
    "start_time": "2022-05-05T14:23:51.573Z"
   },
   {
    "duration": 3194,
    "start_time": "2022-05-05T14:24:11.131Z"
   },
   {
    "duration": 134923,
    "start_time": "2022-05-05T14:24:14.328Z"
   },
   {
    "duration": 102,
    "start_time": "2022-05-05T14:26:29.253Z"
   },
   {
    "duration": 120,
    "start_time": "2022-05-05T14:26:29.357Z"
   },
   {
    "duration": 2477,
    "start_time": "2022-05-06T12:17:21.778Z"
   },
   {
    "duration": 1888,
    "start_time": "2022-05-06T12:17:24.259Z"
   },
   {
    "duration": 81,
    "start_time": "2022-05-06T12:17:26.150Z"
   },
   {
    "duration": 777,
    "start_time": "2022-05-06T12:17:26.235Z"
   },
   {
    "duration": 1447,
    "start_time": "2022-05-06T12:17:27.015Z"
   },
   {
    "duration": 236,
    "start_time": "2022-05-06T12:17:28.464Z"
   },
   {
    "duration": 583,
    "start_time": "2022-05-06T12:17:28.702Z"
   },
   {
    "duration": 749,
    "start_time": "2022-05-06T12:17:29.287Z"
   },
   {
    "duration": 869,
    "start_time": "2022-05-06T12:17:30.039Z"
   },
   {
    "duration": 1171,
    "start_time": "2022-05-06T12:17:30.913Z"
   },
   {
    "duration": 669,
    "start_time": "2022-05-06T12:17:32.087Z"
   },
   {
    "duration": 5,
    "start_time": "2022-05-06T12:17:32.758Z"
   },
   {
    "duration": 170,
    "start_time": "2022-05-06T12:17:32.765Z"
   },
   {
    "duration": 0,
    "start_time": "2022-05-06T12:17:32.937Z"
   },
   {
    "duration": 0,
    "start_time": "2022-05-06T12:17:32.939Z"
   },
   {
    "duration": 0,
    "start_time": "2022-05-06T12:17:32.941Z"
   },
   {
    "duration": 0,
    "start_time": "2022-05-06T12:17:32.944Z"
   },
   {
    "duration": 0,
    "start_time": "2022-05-06T12:17:32.947Z"
   },
   {
    "duration": 0,
    "start_time": "2022-05-06T12:17:32.949Z"
   },
   {
    "duration": 0,
    "start_time": "2022-05-06T12:17:32.951Z"
   },
   {
    "duration": 0,
    "start_time": "2022-05-06T12:17:32.953Z"
   },
   {
    "duration": 0,
    "start_time": "2022-05-06T12:17:32.955Z"
   },
   {
    "duration": 0,
    "start_time": "2022-05-06T12:17:32.957Z"
   },
   {
    "duration": 0,
    "start_time": "2022-05-06T12:17:32.959Z"
   },
   {
    "duration": 0,
    "start_time": "2022-05-06T12:17:32.961Z"
   },
   {
    "duration": 0,
    "start_time": "2022-05-06T12:17:32.963Z"
   },
   {
    "duration": 2836,
    "start_time": "2022-05-06T12:18:01.986Z"
   },
   {
    "duration": 1317,
    "start_time": "2022-05-06T12:18:04.825Z"
   },
   {
    "duration": 50,
    "start_time": "2022-05-06T12:18:06.145Z"
   },
   {
    "duration": 534,
    "start_time": "2022-05-06T12:18:06.198Z"
   },
   {
    "duration": 965,
    "start_time": "2022-05-06T12:18:06.734Z"
   },
   {
    "duration": 142,
    "start_time": "2022-05-06T12:18:07.701Z"
   },
   {
    "duration": 353,
    "start_time": "2022-05-06T12:18:07.845Z"
   },
   {
    "duration": 596,
    "start_time": "2022-05-06T12:18:08.200Z"
   },
   {
    "duration": 853,
    "start_time": "2022-05-06T12:18:08.798Z"
   },
   {
    "duration": 1280,
    "start_time": "2022-05-06T12:18:09.655Z"
   },
   {
    "duration": 671,
    "start_time": "2022-05-06T12:18:10.938Z"
   },
   {
    "duration": 4,
    "start_time": "2022-05-06T12:18:11.612Z"
   },
   {
    "duration": 25062,
    "start_time": "2022-05-06T12:18:11.619Z"
   },
   {
    "duration": 24799,
    "start_time": "2022-05-06T12:18:36.684Z"
   },
   {
    "duration": 2994,
    "start_time": "2022-05-06T12:19:01.487Z"
   },
   {
    "duration": 129713,
    "start_time": "2022-05-06T12:19:04.484Z"
   },
   {
    "duration": 119,
    "start_time": "2022-05-06T12:21:14.199Z"
   },
   {
    "duration": 142,
    "start_time": "2022-05-06T12:21:14.320Z"
   },
   {
    "duration": 18284,
    "start_time": "2022-05-06T12:21:14.465Z"
   },
   {
    "duration": 1906,
    "start_time": "2022-05-06T12:21:32.752Z"
   },
   {
    "duration": 89,
    "start_time": "2022-05-06T12:21:34.661Z"
   },
   {
    "duration": 631,
    "start_time": "2022-05-06T12:21:34.753Z"
   },
   {
    "duration": 29069,
    "start_time": "2022-05-06T12:21:35.387Z"
   },
   {
    "duration": 402458,
    "start_time": "2022-05-06T12:22:04.458Z"
   },
   {
    "duration": 126565,
    "start_time": "2022-05-06T12:28:46.919Z"
   },
   {
    "duration": 114,
    "start_time": "2022-05-06T12:30:53.490Z"
   },
   {
    "duration": 2830,
    "start_time": "2022-05-06T12:36:35.024Z"
   },
   {
    "duration": 11498,
    "start_time": "2022-05-06T12:36:37.857Z"
   },
   {
    "duration": 43,
    "start_time": "2022-05-06T12:36:49.358Z"
   },
   {
    "duration": 510,
    "start_time": "2022-05-06T12:36:49.404Z"
   },
   {
    "duration": 1012,
    "start_time": "2022-05-06T12:36:49.916Z"
   },
   {
    "duration": 150,
    "start_time": "2022-05-06T12:36:50.930Z"
   },
   {
    "duration": 353,
    "start_time": "2022-05-06T12:36:51.082Z"
   },
   {
    "duration": 722,
    "start_time": "2022-05-06T12:36:51.437Z"
   },
   {
    "duration": 1040,
    "start_time": "2022-05-06T12:36:52.161Z"
   },
   {
    "duration": 1132,
    "start_time": "2022-05-06T12:36:53.205Z"
   },
   {
    "duration": 782,
    "start_time": "2022-05-06T12:36:54.339Z"
   },
   {
    "duration": 5,
    "start_time": "2022-05-06T12:36:55.124Z"
   },
   {
    "duration": 26752,
    "start_time": "2022-05-06T12:36:55.131Z"
   },
   {
    "duration": 25108,
    "start_time": "2022-05-06T12:37:21.887Z"
   },
   {
    "duration": 285,
    "start_time": "2022-05-06T12:37:46.998Z"
   },
   {
    "duration": 221,
    "start_time": "2022-05-06T12:37:47.285Z"
   },
   {
    "duration": 16993,
    "start_time": "2022-05-06T12:37:47.509Z"
   },
   {
    "duration": 1979,
    "start_time": "2022-05-06T12:38:04.504Z"
   },
   {
    "duration": 113,
    "start_time": "2022-05-06T12:38:06.486Z"
   },
   {
    "duration": 346,
    "start_time": "2022-05-06T12:38:06.601Z"
   },
   {
    "duration": 14964,
    "start_time": "2022-05-06T12:38:06.949Z"
   },
   {
    "duration": 281297,
    "start_time": "2022-05-06T12:38:21.915Z"
   },
   {
    "duration": 94604,
    "start_time": "2022-05-06T12:43:03.215Z"
   },
   {
    "duration": 1691,
    "start_time": "2022-05-06T18:56:24.543Z"
   },
   {
    "duration": 865,
    "start_time": "2022-05-06T18:56:26.236Z"
   },
   {
    "duration": 33,
    "start_time": "2022-05-06T18:56:27.103Z"
   },
   {
    "duration": 419,
    "start_time": "2022-05-06T18:56:27.138Z"
   },
   {
    "duration": 594,
    "start_time": "2022-05-06T18:56:27.559Z"
   },
   {
    "duration": 96,
    "start_time": "2022-05-06T18:56:28.155Z"
   },
   {
    "duration": 295,
    "start_time": "2022-05-06T18:56:28.254Z"
   },
   {
    "duration": 345,
    "start_time": "2022-05-06T18:56:28.552Z"
   },
   {
    "duration": 532,
    "start_time": "2022-05-06T18:56:28.900Z"
   },
   {
    "duration": 136,
    "start_time": "2022-05-06T18:56:29.435Z"
   },
   {
    "duration": 0,
    "start_time": "2022-05-06T18:56:29.573Z"
   },
   {
    "duration": 0,
    "start_time": "2022-05-06T18:56:29.574Z"
   },
   {
    "duration": 0,
    "start_time": "2022-05-06T18:56:29.575Z"
   },
   {
    "duration": 0,
    "start_time": "2022-05-06T18:56:29.576Z"
   },
   {
    "duration": 0,
    "start_time": "2022-05-06T18:56:29.577Z"
   },
   {
    "duration": 0,
    "start_time": "2022-05-06T18:56:29.578Z"
   },
   {
    "duration": 0,
    "start_time": "2022-05-06T18:56:29.579Z"
   },
   {
    "duration": 0,
    "start_time": "2022-05-06T18:56:29.580Z"
   },
   {
    "duration": 0,
    "start_time": "2022-05-06T18:56:29.581Z"
   },
   {
    "duration": 0,
    "start_time": "2022-05-06T18:56:29.581Z"
   },
   {
    "duration": 0,
    "start_time": "2022-05-06T18:56:29.582Z"
   },
   {
    "duration": 0,
    "start_time": "2022-05-06T18:56:29.583Z"
   },
   {
    "duration": 0,
    "start_time": "2022-05-06T18:56:29.584Z"
   },
   {
    "duration": 0,
    "start_time": "2022-05-06T18:56:29.586Z"
   },
   {
    "duration": 0,
    "start_time": "2022-05-06T18:56:29.587Z"
   },
   {
    "duration": 0,
    "start_time": "2022-05-06T18:56:29.587Z"
   },
   {
    "duration": 0,
    "start_time": "2022-05-06T18:56:29.589Z"
   },
   {
    "duration": 0,
    "start_time": "2022-05-06T18:56:29.589Z"
   },
   {
    "duration": 0,
    "start_time": "2022-05-06T18:56:29.590Z"
   },
   {
    "duration": 0,
    "start_time": "2022-05-06T18:56:29.624Z"
   },
   {
    "duration": 0,
    "start_time": "2022-05-06T18:56:29.625Z"
   },
   {
    "duration": 1,
    "start_time": "2022-05-06T18:56:29.626Z"
   },
   {
    "duration": 0,
    "start_time": "2022-05-06T18:56:29.628Z"
   },
   {
    "duration": 0,
    "start_time": "2022-05-06T18:56:29.629Z"
   },
   {
    "duration": 0,
    "start_time": "2022-05-06T18:56:29.630Z"
   },
   {
    "duration": 27,
    "start_time": "2022-05-06T18:57:06.362Z"
   },
   {
    "duration": 742,
    "start_time": "2022-05-06T18:58:24.248Z"
   },
   {
    "duration": 1971,
    "start_time": "2022-05-06T18:59:03.102Z"
   },
   {
    "duration": 970,
    "start_time": "2022-05-06T18:59:05.075Z"
   },
   {
    "duration": 34,
    "start_time": "2022-05-06T18:59:06.052Z"
   },
   {
    "duration": 535,
    "start_time": "2022-05-06T18:59:06.088Z"
   },
   {
    "duration": 900,
    "start_time": "2022-05-06T18:59:06.626Z"
   },
   {
    "duration": 136,
    "start_time": "2022-05-06T18:59:07.528Z"
   },
   {
    "duration": 240,
    "start_time": "2022-05-06T18:59:07.666Z"
   },
   {
    "duration": 331,
    "start_time": "2022-05-06T18:59:07.908Z"
   },
   {
    "duration": 518,
    "start_time": "2022-05-06T18:59:08.242Z"
   },
   {
    "duration": 745,
    "start_time": "2022-05-06T18:59:08.761Z"
   },
   {
    "duration": 498,
    "start_time": "2022-05-06T18:59:09.508Z"
   },
   {
    "duration": 3,
    "start_time": "2022-05-06T18:59:10.008Z"
   },
   {
    "duration": 17800,
    "start_time": "2022-05-06T18:59:10.024Z"
   },
   {
    "duration": 18275,
    "start_time": "2022-05-06T18:59:27.851Z"
   },
   {
    "duration": 127,
    "start_time": "2022-05-06T18:59:46.128Z"
   },
   {
    "duration": 200,
    "start_time": "2022-05-06T18:59:46.325Z"
   },
   {
    "duration": 198,
    "start_time": "2022-05-06T18:59:46.527Z"
   },
   {
    "duration": 119,
    "start_time": "2022-05-06T18:59:46.727Z"
   },
   {
    "duration": 8265,
    "start_time": "2022-05-06T18:59:46.847Z"
   },
   {
    "duration": 71,
    "start_time": "2022-05-06T18:59:55.114Z"
   },
   {
    "duration": 116,
    "start_time": "2022-05-06T18:59:55.187Z"
   },
   {
    "duration": 1205,
    "start_time": "2022-05-06T18:59:55.305Z"
   },
   {
    "duration": 112,
    "start_time": "2022-05-06T18:59:56.512Z"
   },
   {
    "duration": 236,
    "start_time": "2022-05-06T18:59:56.626Z"
   },
   {
    "duration": 10,
    "start_time": "2022-05-06T18:59:56.864Z"
   },
   {
    "duration": 11,
    "start_time": "2022-05-06T18:59:56.875Z"
   },
   {
    "duration": 18276,
    "start_time": "2022-05-06T18:59:56.890Z"
   },
   {
    "duration": 264,
    "start_time": "2022-05-06T19:00:15.169Z"
   },
   {
    "duration": 260,
    "start_time": "2022-05-06T19:00:15.435Z"
   },
   {
    "duration": 801042,
    "start_time": "2022-05-06T19:00:15.698Z"
   },
   {
    "duration": 585,
    "start_time": "2022-05-06T19:13:36.742Z"
   },
   {
    "duration": 517,
    "start_time": "2022-05-06T19:13:37.329Z"
   },
   {
    "duration": 317580,
    "start_time": "2022-05-06T19:13:37.849Z"
   },
   {
    "duration": 316,
    "start_time": "2022-05-06T19:18:55.431Z"
   },
   {
    "duration": 376,
    "start_time": "2022-05-06T19:18:55.749Z"
   },
   {
    "duration": 267,
    "start_time": "2022-05-06T19:19:35.607Z"
   },
   {
    "duration": 108,
    "start_time": "2022-05-06T19:21:24.584Z"
   },
   {
    "duration": 1628,
    "start_time": "2022-05-06T19:23:57.322Z"
   },
   {
    "duration": 872,
    "start_time": "2022-05-06T19:23:58.952Z"
   },
   {
    "duration": 21,
    "start_time": "2022-05-06T19:23:59.826Z"
   },
   {
    "duration": 410,
    "start_time": "2022-05-06T19:23:59.849Z"
   },
   {
    "duration": 822,
    "start_time": "2022-05-06T19:24:00.261Z"
   },
   {
    "duration": 142,
    "start_time": "2022-05-06T19:24:01.085Z"
   },
   {
    "duration": 261,
    "start_time": "2022-05-06T19:24:01.230Z"
   },
   {
    "duration": 350,
    "start_time": "2022-05-06T19:24:01.494Z"
   },
   {
    "duration": 519,
    "start_time": "2022-05-06T19:24:01.846Z"
   },
   {
    "duration": 808,
    "start_time": "2022-05-06T19:24:02.369Z"
   },
   {
    "duration": 513,
    "start_time": "2022-05-06T19:24:03.179Z"
   },
   {
    "duration": 4,
    "start_time": "2022-05-06T19:24:03.694Z"
   },
   {
    "duration": 16535,
    "start_time": "2022-05-06T19:24:03.700Z"
   },
   {
    "duration": 16394,
    "start_time": "2022-05-06T19:24:20.237Z"
   },
   {
    "duration": 194,
    "start_time": "2022-05-06T19:24:36.633Z"
   },
   {
    "duration": 213,
    "start_time": "2022-05-06T19:24:36.829Z"
   },
   {
    "duration": 286,
    "start_time": "2022-05-06T19:24:37.045Z"
   },
   {
    "duration": 115,
    "start_time": "2022-05-06T19:24:37.333Z"
   },
   {
    "duration": 6294,
    "start_time": "2022-05-06T19:24:37.449Z"
   },
   {
    "duration": 70,
    "start_time": "2022-05-06T19:24:43.744Z"
   },
   {
    "duration": 72,
    "start_time": "2022-05-06T19:24:43.816Z"
   },
   {
    "duration": 745,
    "start_time": "2022-05-06T19:24:43.890Z"
   },
   {
    "duration": 91,
    "start_time": "2022-05-06T19:24:44.637Z"
   },
   {
    "duration": 252,
    "start_time": "2022-05-06T19:24:44.729Z"
   },
   {
    "duration": 9,
    "start_time": "2022-05-06T19:24:44.983Z"
   },
   {
    "duration": 30,
    "start_time": "2022-05-06T19:24:44.994Z"
   },
   {
    "duration": 14750,
    "start_time": "2022-05-06T19:24:45.025Z"
   },
   {
    "duration": 255,
    "start_time": "2022-05-06T19:24:59.779Z"
   },
   {
    "duration": 256,
    "start_time": "2022-05-06T19:25:00.036Z"
   },
   {
    "duration": 190150,
    "start_time": "2022-05-06T19:25:00.294Z"
   },
   {
    "duration": 579,
    "start_time": "2022-05-06T19:28:10.446Z"
   },
   {
    "duration": 523,
    "start_time": "2022-05-06T19:28:11.027Z"
   },
   {
    "duration": 130479,
    "start_time": "2022-05-06T19:28:11.552Z"
   },
   {
    "duration": 318,
    "start_time": "2022-05-06T19:30:22.033Z"
   },
   {
    "duration": 306,
    "start_time": "2022-05-06T19:30:22.353Z"
   },
   {
    "duration": 110,
    "start_time": "2022-05-06T19:48:05.109Z"
   },
   {
    "duration": 10,
    "start_time": "2022-05-06T19:48:17.921Z"
   },
   {
    "duration": 10,
    "start_time": "2022-05-06T19:48:22.369Z"
   },
   {
    "duration": 9,
    "start_time": "2022-05-06T19:48:42.683Z"
   },
   {
    "duration": 10,
    "start_time": "2022-05-06T19:48:57.310Z"
   },
   {
    "duration": 4,
    "start_time": "2022-05-06T19:49:08.381Z"
   },
   {
    "duration": 42,
    "start_time": "2022-05-06T19:49:12.320Z"
   },
   {
    "duration": 25,
    "start_time": "2022-05-06T19:50:14.116Z"
   },
   {
    "duration": 29,
    "start_time": "2022-05-06T19:50:28.082Z"
   },
   {
    "duration": 29,
    "start_time": "2022-05-06T19:50:39.392Z"
   },
   {
    "duration": 36,
    "start_time": "2022-05-06T19:50:49.612Z"
   },
   {
    "duration": 27,
    "start_time": "2022-05-06T19:50:57.264Z"
   },
   {
    "duration": 28,
    "start_time": "2022-05-06T19:51:14.355Z"
   }
  ],
  "kernelspec": {
   "display_name": "Python 3 (ipykernel)",
   "language": "python",
   "name": "python3"
  },
  "language_info": {
   "codemirror_mode": {
    "name": "ipython",
    "version": 3
   },
   "file_extension": ".py",
   "mimetype": "text/x-python",
   "name": "python",
   "nbconvert_exporter": "python",
   "pygments_lexer": "ipython3",
   "version": "3.9.12"
  },
  "toc": {
   "base_numbering": 1,
   "nav_menu": {},
   "number_sections": true,
   "sideBar": true,
   "skip_h1_title": true,
   "title_cell": "Table of Contents",
   "title_sidebar": "Contents",
   "toc_cell": false,
   "toc_position": {},
   "toc_section_display": true,
   "toc_window_display": true
  }
 },
 "nbformat": 4,
 "nbformat_minor": 2
}
