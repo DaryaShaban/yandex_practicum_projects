{
 "cells": [
  {
   "cell_type": "markdown",
   "metadata": {},
   "source": [
    "# Online store comments policy"
   ]
  },
  {
   "cell_type": "markdown",
   "metadata": {},
   "source": [
    "Users of an online store can edit and supplement product descriptions. The store needs to filter toxic comments in order to submit them for moderation. The project is to train the model which will classify comments into positive and negative. At our disposal is a dataset with markup on the toxicity of edits.\n",
    "\n",
    "Metrics is *F1* and it should not be less than  0.75. "
   ]
  },
  {
   "cell_type": "markdown",
   "metadata": {},
   "source": [
    "## Contents\n",
    "\n",
    "<div class=\"toc\"><ul class=\"toc-item\"><li><span><a href=\"#Data-preprocessing\" data-toc-modified-id=\"Data-preprocessing-1\"><span class=\"toc-item-num\">1&nbsp;&nbsp;</span>Data preprocessing</a></span><ul class=\"toc-item\"><li><span><a href=\"#Conclusions\" data-toc-modified-id=\"Conclusions-1.1\"><span class=\"toc-item-num\">1.1&nbsp;&nbsp;</span>Conclusions</a></span></li></ul></li><li><span><a href=\"#Machine-learning\" data-toc-modified-id=\"Machine-learning-2\"><span class=\"toc-item-num\">2&nbsp;&nbsp;</span>Machine learning</a></span><ul class=\"toc-item\"><li><span><a href=\"#Conclusions_2\" data-toc-modified-id=\"Conclusions_2-2.1\"><span class=\"toc-item-num\">2.1&nbsp;&nbsp;</span>Conclusions_2</a></span></li></ul></li><li><span><a href=\"#Summary\" data-toc-modified-id=\"Summary-3\"><span class=\"toc-item-num\">3&nbsp;&nbsp;</span>Summary</a></span></li></ul></div>"
   ]
  },
  {
   "cell_type": "markdown",
   "metadata": {},
   "source": [
    "## Data preprocessing"
   ]
  },
  {
   "cell_type": "code",
   "execution_count": 19,
   "metadata": {},
   "outputs": [],
   "source": [
    "#imports\n",
    "\n",
    "import pandas as pd\n",
    "\n",
    "import re\n",
    "import nltk\n",
    "from nltk.stem import WordNetLemmatizer\n",
    "from sklearn.feature_extraction.text import CountVectorizer\n",
    "from nltk.corpus import stopwords as nltk_stopwords\n",
    "from sklearn.feature_extraction.text import TfidfVectorizer\n",
    "\n",
    "from sklearn.model_selection import train_test_split\n",
    "from sklearn.linear_model import LogisticRegression\n",
    "from sklearn.ensemble import RandomForestClassifier\n",
    "from sklearn.tree import DecisionTreeClassifier\n",
    "from sklearn.linear_model import SGDClassifier\n",
    "from catboost import CatBoostClassifier\n",
    "import lightgbm as lgb\n",
    "from sklearn.svm import LinearSVC\n",
    "\n",
    "from sklearn.metrics import f1_score"
   ]
  },
  {
   "cell_type": "code",
   "execution_count": 21,
   "metadata": {
    "scrolled": true
   },
   "outputs": [
    {
     "name": "stdout",
     "output_type": "stream",
     "text": [
      "<class 'pandas.core.frame.DataFrame'>\n",
      "RangeIndex: 159571 entries, 0 to 159570\n",
      "Data columns (total 2 columns):\n",
      " #   Column  Non-Null Count   Dtype \n",
      "---  ------  --------------   ----- \n",
      " 0   text    159571 non-null  object\n",
      " 1   toxic   159571 non-null  int64 \n",
      "dtypes: int64(1), object(1)\n",
      "memory usage: 2.4+ MB\n"
     ]
    },
    {
     "data": {
      "text/html": [
       "<div>\n",
       "<style scoped>\n",
       "    .dataframe tbody tr th:only-of-type {\n",
       "        vertical-align: middle;\n",
       "    }\n",
       "\n",
       "    .dataframe tbody tr th {\n",
       "        vertical-align: top;\n",
       "    }\n",
       "\n",
       "    .dataframe thead th {\n",
       "        text-align: right;\n",
       "    }\n",
       "</style>\n",
       "<table border=\"1\" class=\"dataframe\">\n",
       "  <thead>\n",
       "    <tr style=\"text-align: right;\">\n",
       "      <th></th>\n",
       "      <th>text</th>\n",
       "      <th>toxic</th>\n",
       "    </tr>\n",
       "  </thead>\n",
       "  <tbody>\n",
       "    <tr>\n",
       "      <th>0</th>\n",
       "      <td>Explanation\\nWhy the edits made under my usern...</td>\n",
       "      <td>0</td>\n",
       "    </tr>\n",
       "    <tr>\n",
       "      <th>1</th>\n",
       "      <td>D'aww! He matches this background colour I'm s...</td>\n",
       "      <td>0</td>\n",
       "    </tr>\n",
       "    <tr>\n",
       "      <th>2</th>\n",
       "      <td>Hey man, I'm really not trying to edit war. It...</td>\n",
       "      <td>0</td>\n",
       "    </tr>\n",
       "    <tr>\n",
       "      <th>3</th>\n",
       "      <td>\"\\nMore\\nI can't make any real suggestions on ...</td>\n",
       "      <td>0</td>\n",
       "    </tr>\n",
       "    <tr>\n",
       "      <th>4</th>\n",
       "      <td>You, sir, are my hero. Any chance you remember...</td>\n",
       "      <td>0</td>\n",
       "    </tr>\n",
       "  </tbody>\n",
       "</table>\n",
       "</div>"
      ],
      "text/plain": [
       "                                                text  toxic\n",
       "0  Explanation\\nWhy the edits made under my usern...      0\n",
       "1  D'aww! He matches this background colour I'm s...      0\n",
       "2  Hey man, I'm really not trying to edit war. It...      0\n",
       "3  \"\\nMore\\nI can't make any real suggestions on ...      0\n",
       "4  You, sir, are my hero. Any chance you remember...      0"
      ]
     },
     "execution_count": 21,
     "metadata": {},
     "output_type": "execute_result"
    }
   ],
   "source": [
    "df = pd.read_csv('/datasets/toxic_comments.csv')\n",
    "df.info()\n",
    "df.head()"
   ]
  },
  {
   "cell_type": "code",
   "execution_count": 22,
   "metadata": {
    "scrolled": true
   },
   "outputs": [
    {
     "data": {
      "text/html": [
       "<div>\n",
       "<style scoped>\n",
       "    .dataframe tbody tr th:only-of-type {\n",
       "        vertical-align: middle;\n",
       "    }\n",
       "\n",
       "    .dataframe tbody tr th {\n",
       "        vertical-align: top;\n",
       "    }\n",
       "\n",
       "    .dataframe thead th {\n",
       "        text-align: right;\n",
       "    }\n",
       "</style>\n",
       "<table border=\"1\" class=\"dataframe\">\n",
       "  <thead>\n",
       "    <tr style=\"text-align: right;\">\n",
       "      <th></th>\n",
       "      <th>text</th>\n",
       "    </tr>\n",
       "    <tr>\n",
       "      <th>toxic</th>\n",
       "      <th></th>\n",
       "    </tr>\n",
       "  </thead>\n",
       "  <tbody>\n",
       "    <tr>\n",
       "      <th>0</th>\n",
       "      <td>143346</td>\n",
       "    </tr>\n",
       "    <tr>\n",
       "      <th>1</th>\n",
       "      <td>16225</td>\n",
       "    </tr>\n",
       "  </tbody>\n",
       "</table>\n",
       "</div>"
      ],
      "text/plain": [
       "         text\n",
       "toxic        \n",
       "0      143346\n",
       "1       16225"
      ]
     },
     "execution_count": 22,
     "metadata": {},
     "output_type": "execute_result"
    }
   ],
   "source": [
    "df.groupby('toxic').count()"
   ]
  },
  {
   "cell_type": "markdown",
   "metadata": {},
   "source": [
    "The data is text marked up for toxic and non-toxic comments. Markup (`toxic`) is a **target** where class imbalance occurs: class 0 is present in ~90% of cases. It is proposed to take this factor into account at the model building stage, through the `class_weight = 'balanced'` argument.\n",
    "To create features from text, the following steps will be performed:\n",
    "\n",
    "1) Word lemmas will be found; <br/>\n",
    "2) The features will be encoded by specifying the word weight via Tfidf."
   ]
  },
  {
   "cell_type": "code",
   "execution_count": 23,
   "metadata": {},
   "outputs": [],
   "source": [
    "lemmatizer = WordNetLemmatizer()\n",
    "\n",
    "def lemmatize_text(text):\n",
    "    text_tokenized = nltk.word_tokenize(text)\n",
    "    return ' '.join([lemmatizer.lemmatize(w) for w in text_tokenized])\n",
    "df['text_lemma'] = df['text'].apply(lemmatize_text)"
   ]
  },
  {
   "cell_type": "code",
   "execution_count": 5,
   "metadata": {},
   "outputs": [
    {
     "data": {
      "text/html": [
       "<div>\n",
       "<style scoped>\n",
       "    .dataframe tbody tr th:only-of-type {\n",
       "        vertical-align: middle;\n",
       "    }\n",
       "\n",
       "    .dataframe tbody tr th {\n",
       "        vertical-align: top;\n",
       "    }\n",
       "\n",
       "    .dataframe thead th {\n",
       "        text-align: right;\n",
       "    }\n",
       "</style>\n",
       "<table border=\"1\" class=\"dataframe\">\n",
       "  <thead>\n",
       "    <tr style=\"text-align: right;\">\n",
       "      <th></th>\n",
       "      <th>text</th>\n",
       "      <th>toxic</th>\n",
       "      <th>text_lemma</th>\n",
       "    </tr>\n",
       "  </thead>\n",
       "  <tbody>\n",
       "    <tr>\n",
       "      <th>0</th>\n",
       "      <td>Explanation\\nWhy the edits made under my usern...</td>\n",
       "      <td>0</td>\n",
       "      <td>Explanation Why the edits made under my userna...</td>\n",
       "    </tr>\n",
       "    <tr>\n",
       "      <th>1</th>\n",
       "      <td>D'aww! He matches this background colour I'm s...</td>\n",
       "      <td>0</td>\n",
       "      <td>D'aww ! He match this background colour I 'm s...</td>\n",
       "    </tr>\n",
       "    <tr>\n",
       "      <th>2</th>\n",
       "      <td>Hey man, I'm really not trying to edit war. It...</td>\n",
       "      <td>0</td>\n",
       "      <td>Hey man , I 'm really not trying to edit war ....</td>\n",
       "    </tr>\n",
       "    <tr>\n",
       "      <th>3</th>\n",
       "      <td>\"\\nMore\\nI can't make any real suggestions on ...</td>\n",
       "      <td>0</td>\n",
       "      <td>`` More I ca n't make any real suggestion on i...</td>\n",
       "    </tr>\n",
       "    <tr>\n",
       "      <th>4</th>\n",
       "      <td>You, sir, are my hero. Any chance you remember...</td>\n",
       "      <td>0</td>\n",
       "      <td>You , sir , are my hero . Any chance you remem...</td>\n",
       "    </tr>\n",
       "  </tbody>\n",
       "</table>\n",
       "</div>"
      ],
      "text/plain": [
       "                                                text  toxic  \\\n",
       "0  Explanation\\nWhy the edits made under my usern...      0   \n",
       "1  D'aww! He matches this background colour I'm s...      0   \n",
       "2  Hey man, I'm really not trying to edit war. It...      0   \n",
       "3  \"\\nMore\\nI can't make any real suggestions on ...      0   \n",
       "4  You, sir, are my hero. Any chance you remember...      0   \n",
       "\n",
       "                                          text_lemma  \n",
       "0  Explanation Why the edits made under my userna...  \n",
       "1  D'aww ! He match this background colour I 'm s...  \n",
       "2  Hey man , I 'm really not trying to edit war ....  \n",
       "3  `` More I ca n't make any real suggestion on i...  \n",
       "4  You , sir , are my hero . Any chance you remem...  "
      ]
     },
     "execution_count": 5,
     "metadata": {},
     "output_type": "execute_result"
    }
   ],
   "source": [
    "df.head()"
   ]
  },
  {
   "cell_type": "code",
   "execution_count": 24,
   "metadata": {},
   "outputs": [],
   "source": [
    "x = df['text_lemma']\n",
    "y = df['toxic']\n",
    "x_train, x_valid, y_train, y_valid = train_test_split(x, y, test_size=0.25, random_state=12345)"
   ]
  },
  {
   "cell_type": "code",
   "execution_count": 25,
   "metadata": {},
   "outputs": [
    {
     "name": "stderr",
     "output_type": "stream",
     "text": [
      "[nltk_data] Downloading package stopwords to /home/jovyan/nltk_data...\n",
      "[nltk_data]   Package stopwords is already up-to-date!\n"
     ]
    }
   ],
   "source": [
    "nltk.download('stopwords')\n",
    "stopwords = set(nltk_stopwords.words('english'))\n",
    "\n",
    "count_tf_idf = TfidfVectorizer(stop_words=stopwords, min_df = 0.00001)\n",
    "tf_idf = count_tf_idf.fit(x_train)"
   ]
  },
  {
   "cell_type": "code",
   "execution_count": 8,
   "metadata": {},
   "outputs": [
    {
     "data": {
      "text/plain": [
       "TfidfVectorizer(min_df=1e-05,\n",
       "                stop_words={'a', 'about', 'above', 'after', 'again', 'against',\n",
       "                            'ain', 'all', 'am', 'an', 'and', 'any', 'are',\n",
       "                            'aren', \"aren't\", 'as', 'at', 'be', 'because',\n",
       "                            'been', 'before', 'being', 'below', 'between',\n",
       "                            'both', 'but', 'by', 'can', 'couldn', \"couldn't\", ...})"
      ]
     },
     "execution_count": 8,
     "metadata": {},
     "output_type": "execute_result"
    }
   ],
   "source": [
    "tf_idf"
   ]
  },
  {
   "cell_type": "code",
   "execution_count": 9,
   "metadata": {},
   "outputs": [
    {
     "data": {
      "text/plain": [
       "(119678, 60670)"
      ]
     },
     "execution_count": 9,
     "metadata": {},
     "output_type": "execute_result"
    }
   ],
   "source": [
    "x_train = tf_idf.transform(x_train)\n",
    "x_train.shape #sample size check"
   ]
  },
  {
   "cell_type": "code",
   "execution_count": 10,
   "metadata": {},
   "outputs": [
    {
     "data": {
      "text/plain": [
       "(39893, 60670)"
      ]
     },
     "execution_count": 10,
     "metadata": {},
     "output_type": "execute_result"
    }
   ],
   "source": [
    "x_valid = tf_idf.transform(x_valid)\n",
    "x_valid.shape #sample size check"
   ]
  },
  {
   "cell_type": "markdown",
   "metadata": {},
   "source": [
    "### Conclusions\n",
    "At the first step, the data was uploaded, preprocessed and prepared for loading into the model: lemmatization and vectorization using Tfidf with stop words was done."
   ]
  },
  {
   "cell_type": "markdown",
   "metadata": {},
   "source": [
    "## Machine learning"
   ]
  },
  {
   "cell_type": "code",
   "execution_count": 11,
   "metadata": {},
   "outputs": [
    {
     "name": "stdout",
     "output_type": "stream",
     "text": [
      "CPU times: user 16.5 s, sys: 21.8 s, total: 38.3 s\n",
      "Wall time: 38.3 s\n"
     ]
    },
    {
     "name": "stderr",
     "output_type": "stream",
     "text": [
      "/opt/conda/lib/python3.9/site-packages/sklearn/linear_model/_logistic.py:763: ConvergenceWarning: lbfgs failed to converge (status=1):\n",
      "STOP: TOTAL NO. of ITERATIONS REACHED LIMIT.\n",
      "\n",
      "Increase the number of iterations (max_iter) or scale the data as shown in:\n",
      "    https://scikit-learn.org/stable/modules/preprocessing.html\n",
      "Please also refer to the documentation for alternative solver options:\n",
      "    https://scikit-learn.org/stable/modules/linear_model.html#logistic-regression\n",
      "  n_iter_i = _check_optimize_result(\n"
     ]
    },
    {
     "data": {
      "text/plain": [
       "0.7374153664998528"
      ]
     },
     "execution_count": 11,
     "metadata": {},
     "output_type": "execute_result"
    }
   ],
   "source": [
    "%%time\n",
    "model = LogisticRegression()\n",
    "model.fit(x_train, y_train)\n",
    "predictions = model.predict(x_valid)\n",
    "f1_score(y_valid, predictions)"
   ]
  },
  {
   "cell_type": "code",
   "execution_count": 12,
   "metadata": {
    "scrolled": true
   },
   "outputs": [
    {
     "name": "stdout",
     "output_type": "stream",
     "text": [
      "CPU times: user 15.6 s, sys: 20.1 s, total: 35.6 s\n",
      "Wall time: 35.6 s\n"
     ]
    },
    {
     "data": {
      "text/plain": [
       "0.7508305647840532"
      ]
     },
     "execution_count": 12,
     "metadata": {},
     "output_type": "execute_result"
    }
   ],
   "source": [
    "%%time\n",
    "model = LogisticRegression(class_weight = 'balanced')\n",
    "model.fit(x_train, y_train)\n",
    "predictions = model.predict(x_valid)\n",
    "f1_score(y_valid, predictions)"
   ]
  },
  {
   "cell_type": "code",
   "execution_count": 19,
   "metadata": {},
   "outputs": [
    {
     "name": "stdout",
     "output_type": "stream",
     "text": [
      "CPU times: user 468 ms, sys: 117 ms, total: 585 ms\n",
      "Wall time: 586 ms\n"
     ]
    },
    {
     "data": {
      "text/plain": [
       "0.7363173525668223"
      ]
     },
     "execution_count": 19,
     "metadata": {},
     "output_type": "execute_result"
    }
   ],
   "source": [
    "%%time\n",
    "model = SGDClassifier(class_weight = 'balanced', random_state = 12345)\n",
    "model.fit(x_train, y_train)\n",
    "predictions = model.predict(x_valid)\n",
    "f1_score(y_valid, predictions)"
   ]
  },
  {
   "cell_type": "code",
   "execution_count": 18,
   "metadata": {},
   "outputs": [
    {
     "name": "stdout",
     "output_type": "stream",
     "text": [
      "CPU times: user 1min 28s, sys: 147 ms, total: 1min 28s\n",
      "Wall time: 1min 28s\n"
     ]
    },
    {
     "data": {
      "text/plain": [
       "0.7187743443261491"
      ]
     },
     "execution_count": 18,
     "metadata": {},
     "output_type": "execute_result"
    }
   ],
   "source": [
    "%%time\n",
    "model = DecisionTreeClassifier(random_state = 12345, max_depth = 200)\n",
    "model.fit(x_train, y_train)\n",
    "predictions = model.predict(x_valid)\n",
    "f1_score(y_valid, predictions)"
   ]
  },
  {
   "cell_type": "code",
   "execution_count": 15,
   "metadata": {},
   "outputs": [
    {
     "name": "stdout",
     "output_type": "stream",
     "text": [
      "0:\tlearn: 0.5494211\ttotal: 3.63s\tremaining: 5m 59s\n",
      "10:\tlearn: 0.3775858\ttotal: 24.3s\tremaining: 3m 16s\n",
      "20:\tlearn: 0.3271049\ttotal: 44.7s\tremaining: 2m 48s\n",
      "30:\tlearn: 0.2942124\ttotal: 1m 4s\tremaining: 2m 23s\n",
      "40:\tlearn: 0.2743270\ttotal: 1m 24s\tremaining: 2m 1s\n",
      "50:\tlearn: 0.2572384\ttotal: 1m 43s\tremaining: 1m 39s\n",
      "60:\tlearn: 0.2451524\ttotal: 2m 2s\tremaining: 1m 18s\n",
      "70:\tlearn: 0.2344070\ttotal: 2m 22s\tremaining: 58.1s\n",
      "80:\tlearn: 0.2259313\ttotal: 2m 41s\tremaining: 38s\n",
      "90:\tlearn: 0.2168320\ttotal: 3m 2s\tremaining: 18s\n",
      "99:\tlearn: 0.2111894\ttotal: 3m 20s\tremaining: 0us\n",
      "CPU times: user 3min 34s, sys: 2.45 s, total: 3min 36s\n",
      "Wall time: 3min 37s\n"
     ]
    },
    {
     "data": {
      "text/plain": [
       "0.7216428341038599"
      ]
     },
     "execution_count": 15,
     "metadata": {},
     "output_type": "execute_result"
    }
   ],
   "source": [
    "%%time\n",
    "model = CatBoostClassifier(iterations=100, verbose=10, learning_rate=0.7, auto_class_weights = 'Balanced')\n",
    "model.fit(x_train, y_train)\n",
    "predictions = model.predict(x_valid)\n",
    "f1_score(y_valid, predictions)"
   ]
  },
  {
   "cell_type": "code",
   "execution_count": 16,
   "metadata": {},
   "outputs": [
    {
     "name": "stdout",
     "output_type": "stream",
     "text": [
      "CPU times: user 9min 9s, sys: 2.54 s, total: 9min 12s\n",
      "Wall time: 9min 15s\n"
     ]
    },
    {
     "data": {
      "text/plain": [
       "0.7257886609309507"
      ]
     },
     "execution_count": 16,
     "metadata": {},
     "output_type": "execute_result"
    }
   ],
   "source": [
    "%%time\n",
    "model = lgb.LGBMClassifier(class_weight = 'balanced', random_state = 12345)\n",
    "model.fit(x_train, y_train)\n",
    "predictions = model.predict(x_valid)\n",
    "f1_score(y_valid, predictions)"
   ]
  },
  {
   "cell_type": "code",
   "execution_count": 17,
   "metadata": {},
   "outputs": [
    {
     "name": "stdout",
     "output_type": "stream",
     "text": [
      "CPU times: user 3.2 s, sys: 42 ms, total: 3.24 s\n",
      "Wall time: 3.26 s\n"
     ]
    },
    {
     "data": {
      "text/plain": [
       "0.7499442337720277"
      ]
     },
     "execution_count": 17,
     "metadata": {},
     "output_type": "execute_result"
    }
   ],
   "source": [
    "%%time\n",
    "model = LinearSVC(class_weight = 'balanced', random_state = 12345)\n",
    "model.fit(x_train, y_train)\n",
    "predictions = model.predict(x_valid)\n",
    "f1_score(y_valid, predictions)"
   ]
  },
  {
   "cell_type": "markdown",
   "metadata": {},
   "source": [
    "### Conclusions_2\n",
    "The best F1 score on the test data was shown by the Logistic Regression model with class balancing."
   ]
  },
  {
   "cell_type": "markdown",
   "metadata": {},
   "source": [
    "## Summary"
   ]
  },
  {
   "cell_type": "markdown",
   "metadata": {},
   "source": [
    "| Model | F1 | Learning and prediction time, minutes  \n",
    "| --- | --- | --- |\n",
    "| Logistic Regression () | 0.737 | 0.6 | \n",
    "| Logistic Regression (class-weight) | **0.751** | 0.6 | \n",
    "| SGDClassifier | 0.736 | <0.1 | \n",
    "| Decision Tree | 0.719 | 1.5 | \n",
    "| CatBoostClassifier | 0.722 | 3.6 | \n",
    "| LGBMClassifier | 0.726 | 9.2 | \n",
    "| LinearSVC | 0.75 | <0.1 |"
   ]
  },
  {
   "cell_type": "markdown",
   "metadata": {},
   "source": [
    "The highest value of the F1 metric was shown by the **Logistic Regression (class_weight = balanced)** model. Besides, the value of the metric exceeds 0.75. Additionally, the running time of the model (training and prediction) was calculated. The model showed one of the highest speeds - less than 1 minute (35 seconds) total time.\n",
    "\n",
    "Initially, there is a class imbalance in the data: positive comments make up approximately 90% of the population. This complicated the search for negative comments for the model and affected the final distribution of classes on the test data. \n",
    "\n",
    "Please see below."
   ]
  },
  {
   "cell_type": "code",
   "execution_count": 22,
   "metadata": {},
   "outputs": [
    {
     "data": {
      "text/plain": [
       "array([1, 0, 0, ..., 0, 0, 0])"
      ]
     },
     "execution_count": 22,
     "metadata": {},
     "output_type": "execute_result"
    }
   ],
   "source": [
    "model = LogisticRegression(class_weight = 'balanced')\n",
    "model.fit(x_train, y_train)\n",
    "predictions = model.predict(x_valid)\n",
    "predictions"
   ]
  },
  {
   "cell_type": "code",
   "execution_count": 94,
   "metadata": {
    "scrolled": true
   },
   "outputs": [
    {
     "data": {
      "image/png": "[encoded data removed]",
      "text/plain": [
       "<Figure size 432x288 with 1 Axes>"
      ]
     },
     "metadata": {},
     "output_type": "display_data"
    }
   ],
   "source": [
    "import matplotlib.pyplot as plt\n",
    "\n",
    "mycolors = [\"hotpink\", \"b\",]\n",
    "label_target = ['0_target', '1_target']\n",
    "label_pred = ['0_pred', '1_pred']        \n",
    "myexplode = [0, 0.1]\n",
    "myexplode_1 = [0, 0.2]\n",
    "\n",
    "plt.pie(y_valid.value_counts(), labels = label_target, explode = myexplode)\n",
    "plt.pie(pd.Series(predictions).value_counts(), colors = mycolors, labels = label_pred, explode = myexplode_1)\n",
    "\n",
    "plt.show()"
   ]
  }
 ],
 "metadata": {
  "ExecuteTimeLog": [
   {
    "duration": 809,
    "start_time": "2022-05-20T09:46:21.268Z"
   },
   {
    "duration": 3078,
    "start_time": "2022-05-20T09:46:52.882Z"
   },
   {
    "duration": 16,
    "start_time": "2022-05-20T09:47:50.589Z"
   },
   {
    "duration": 6,
    "start_time": "2022-05-20T09:48:05.624Z"
   },
   {
    "duration": 92,
    "start_time": "2022-05-20T09:48:11.884Z"
   },
   {
    "duration": 10,
    "start_time": "2022-05-20T09:48:21.341Z"
   },
   {
    "duration": 8,
    "start_time": "2022-05-20T09:48:28.965Z"
   },
   {
    "duration": 9,
    "start_time": "2022-05-20T09:48:40.053Z"
   },
   {
    "duration": 11,
    "start_time": "2022-05-20T09:48:48.714Z"
   },
   {
    "duration": 7,
    "start_time": "2022-05-20T09:48:55.692Z"
   },
   {
    "duration": 45,
    "start_time": "2022-05-20T09:49:04.376Z"
   },
   {
    "duration": 2,
    "start_time": "2022-05-20T09:49:51.596Z"
   },
   {
    "duration": 10,
    "start_time": "2022-05-20T09:51:03.634Z"
   },
   {
    "duration": 9,
    "start_time": "2022-05-20T09:51:07.804Z"
   },
   {
    "duration": 8,
    "start_time": "2022-05-20T09:51:37.128Z"
   },
   {
    "duration": 14,
    "start_time": "2022-05-20T09:51:42.829Z"
   },
   {
    "duration": 2010,
    "start_time": "2022-05-20T09:52:27.408Z"
   },
   {
    "duration": 827,
    "start_time": "2022-05-20T09:52:56.839Z"
   },
   {
    "duration": 3207,
    "start_time": "2022-05-20T09:52:57.668Z"
   },
   {
    "duration": 37,
    "start_time": "2022-05-20T09:53:00.876Z"
   },
   {
    "duration": 1897,
    "start_time": "2022-05-20T09:53:00.915Z"
   },
   {
    "duration": 145,
    "start_time": "2022-05-20T09:54:24.557Z"
   },
   {
    "duration": 3,
    "start_time": "2022-05-20T09:54:37.117Z"
   },
   {
    "duration": 146,
    "start_time": "2022-05-20T09:55:05.150Z"
   },
   {
    "duration": 20,
    "start_time": "2022-05-20T09:55:38.001Z"
   },
   {
    "duration": 14,
    "start_time": "2022-05-20T09:55:43.503Z"
   },
   {
    "duration": 734,
    "start_time": "2022-05-20T09:57:43.844Z"
   },
   {
    "duration": 34,
    "start_time": "2022-05-20T09:57:54.545Z"
   },
   {
    "duration": 17,
    "start_time": "2022-05-20T09:58:04.812Z"
   },
   {
    "duration": 4,
    "start_time": "2022-05-20T09:58:38.278Z"
   },
   {
    "duration": 763,
    "start_time": "2022-05-20T09:59:31.035Z"
   },
   {
    "duration": 4,
    "start_time": "2022-05-20T09:59:52.551Z"
   },
   {
    "duration": 4,
    "start_time": "2022-05-20T09:59:56.809Z"
   },
   {
    "duration": 739,
    "start_time": "2022-05-20T10:00:09.970Z"
   },
   {
    "duration": 801,
    "start_time": "2022-05-20T10:01:33.380Z"
   },
   {
    "duration": 829,
    "start_time": "2022-05-20T10:01:34.183Z"
   },
   {
    "duration": 34,
    "start_time": "2022-05-20T10:01:35.014Z"
   },
   {
    "duration": 1866,
    "start_time": "2022-05-20T10:01:35.050Z"
   },
   {
    "duration": 9,
    "start_time": "2022-05-20T10:01:36.918Z"
   },
   {
    "duration": 6,
    "start_time": "2022-05-20T10:01:36.928Z"
   },
   {
    "duration": 99,
    "start_time": "2022-05-20T10:01:36.935Z"
   },
   {
    "duration": 2,
    "start_time": "2022-05-20T10:01:43.388Z"
   },
   {
    "duration": 713,
    "start_time": "2022-05-20T10:01:45.251Z"
   },
   {
    "duration": 1147,
    "start_time": "2022-05-20T10:03:36.421Z"
   },
   {
    "duration": 3,
    "start_time": "2022-05-20T10:03:40.088Z"
   },
   {
    "duration": 2,
    "start_time": "2022-05-20T10:03:59.622Z"
   },
   {
    "duration": 2,
    "start_time": "2022-05-20T10:05:43.120Z"
   },
   {
    "duration": 108,
    "start_time": "2022-05-20T10:05:56.254Z"
   },
   {
    "duration": 9,
    "start_time": "2022-05-20T10:05:59.626Z"
   },
   {
    "duration": 986,
    "start_time": "2022-05-20T10:06:06.692Z"
   },
   {
    "duration": 3159,
    "start_time": "2022-05-20T10:06:07.680Z"
   },
   {
    "duration": 41,
    "start_time": "2022-05-20T10:06:10.841Z"
   },
   {
    "duration": 1925,
    "start_time": "2022-05-20T10:06:10.883Z"
   },
   {
    "duration": 18,
    "start_time": "2022-05-20T10:06:12.810Z"
   },
   {
    "duration": 25,
    "start_time": "2022-05-20T10:06:12.830Z"
   },
   {
    "duration": 9026,
    "start_time": "2022-05-20T10:06:12.857Z"
   },
   {
    "duration": 11652,
    "start_time": "2022-05-20T10:07:00.926Z"
   },
   {
    "duration": 3,
    "start_time": "2022-05-20T10:07:19.008Z"
   },
   {
    "duration": 3,
    "start_time": "2022-05-20T10:08:57.767Z"
   },
   {
    "duration": 60,
    "start_time": "2022-05-20T10:09:39.831Z"
   },
   {
    "duration": 3,
    "start_time": "2022-05-20T10:10:06.742Z"
   },
   {
    "duration": 57580,
    "start_time": "2022-05-20T10:11:08.716Z"
   },
   {
    "duration": 4,
    "start_time": "2022-05-20T10:13:14.064Z"
   },
   {
    "duration": 3,
    "start_time": "2022-05-20T10:13:55.841Z"
   },
   {
    "duration": 161,
    "start_time": "2022-05-20T10:14:12.816Z"
   },
   {
    "duration": 4,
    "start_time": "2022-05-20T10:14:48.718Z"
   },
   {
    "duration": 1098,
    "start_time": "2022-05-20T10:19:31.169Z"
   },
   {
    "duration": 975,
    "start_time": "2022-05-20T10:19:32.269Z"
   },
   {
    "duration": 47,
    "start_time": "2022-05-20T10:19:33.246Z"
   },
   {
    "duration": 1984,
    "start_time": "2022-05-20T10:19:33.296Z"
   },
   {
    "duration": 24,
    "start_time": "2022-05-20T10:19:35.282Z"
   },
   {
    "duration": 10,
    "start_time": "2022-05-20T10:19:35.308Z"
   },
   {
    "duration": 147,
    "start_time": "2022-05-20T10:19:35.320Z"
   },
   {
    "duration": 0,
    "start_time": "2022-05-20T10:19:35.468Z"
   },
   {
    "duration": 0,
    "start_time": "2022-05-20T10:19:35.470Z"
   },
   {
    "duration": 0,
    "start_time": "2022-05-20T10:19:35.471Z"
   },
   {
    "duration": 0,
    "start_time": "2022-05-20T10:19:35.472Z"
   },
   {
    "duration": 0,
    "start_time": "2022-05-20T10:19:35.484Z"
   },
   {
    "duration": 1,
    "start_time": "2022-05-20T10:19:35.491Z"
   },
   {
    "duration": 16,
    "start_time": "2022-05-20T10:19:50.916Z"
   },
   {
    "duration": 1050,
    "start_time": "2022-05-20T14:23:18.510Z"
   },
   {
    "duration": 3200,
    "start_time": "2022-05-20T14:23:19.562Z"
   },
   {
    "duration": 41,
    "start_time": "2022-05-20T14:23:22.763Z"
   },
   {
    "duration": 1294,
    "start_time": "2022-05-20T14:23:22.806Z"
   },
   {
    "duration": 0,
    "start_time": "2022-05-20T14:23:24.102Z"
   },
   {
    "duration": 0,
    "start_time": "2022-05-20T14:23:24.103Z"
   },
   {
    "duration": 0,
    "start_time": "2022-05-20T14:23:24.104Z"
   },
   {
    "duration": 0,
    "start_time": "2022-05-20T14:23:24.105Z"
   },
   {
    "duration": 588,
    "start_time": "2022-05-20T14:29:37.073Z"
   },
   {
    "duration": 659,
    "start_time": "2022-05-20T14:35:39.909Z"
   },
   {
    "duration": 3,
    "start_time": "2022-05-20T14:37:48.990Z"
   },
   {
    "duration": 8,
    "start_time": "2022-05-20T14:38:19.619Z"
   },
   {
    "duration": 5,
    "start_time": "2022-05-20T14:38:55.395Z"
   },
   {
    "duration": 3,
    "start_time": "2022-05-20T14:41:14.971Z"
   },
   {
    "duration": 31458,
    "start_time": "2022-05-20T14:41:59.625Z"
   },
   {
    "duration": 9,
    "start_time": "2022-05-20T14:42:50.374Z"
   },
   {
    "duration": 1258,
    "start_time": "2022-05-20T14:45:02.073Z"
   },
   {
    "duration": 14,
    "start_time": "2022-05-20T14:45:10.873Z"
   },
   {
    "duration": 4,
    "start_time": "2022-05-20T14:46:37.565Z"
   },
   {
    "duration": 2,
    "start_time": "2022-05-20T14:46:58.665Z"
   },
   {
    "duration": 3,
    "start_time": "2022-05-20T14:47:06.421Z"
   },
   {
    "duration": 470,
    "start_time": "2022-05-20T14:47:08.942Z"
   },
   {
    "duration": 8,
    "start_time": "2022-05-20T14:47:12.300Z"
   },
   {
    "duration": 594,
    "start_time": "2022-05-20T14:47:19.828Z"
   },
   {
    "duration": 8,
    "start_time": "2022-05-20T14:47:22.562Z"
   },
   {
    "duration": 1479,
    "start_time": "2022-05-20T14:49:05.240Z"
   },
   {
    "duration": 7,
    "start_time": "2022-05-20T14:49:09.122Z"
   },
   {
    "duration": 8,
    "start_time": "2022-05-20T14:49:11.036Z"
   },
   {
    "duration": 7,
    "start_time": "2022-05-20T14:49:12.009Z"
   },
   {
    "duration": 15,
    "start_time": "2022-05-20T14:49:12.926Z"
   },
   {
    "duration": 1506,
    "start_time": "2022-05-20T14:49:51.144Z"
   },
   {
    "duration": 1488,
    "start_time": "2022-05-20T14:49:57.703Z"
   },
   {
    "duration": 9,
    "start_time": "2022-05-20T14:51:12.373Z"
   },
   {
    "duration": 6284,
    "start_time": "2022-05-20T14:51:29.456Z"
   },
   {
    "duration": 165,
    "start_time": "2022-05-20T14:51:39.230Z"
   },
   {
    "duration": 1114,
    "start_time": "2022-05-20T14:53:49.483Z"
   },
   {
    "duration": 3138,
    "start_time": "2022-05-20T14:53:50.599Z"
   },
   {
    "duration": 35,
    "start_time": "2022-05-20T14:53:53.738Z"
   },
   {
    "duration": 5590,
    "start_time": "2022-05-20T14:53:53.775Z"
   },
   {
    "duration": 1056,
    "start_time": "2022-05-20T14:54:39.266Z"
   },
   {
    "duration": 3264,
    "start_time": "2022-05-20T14:54:40.324Z"
   },
   {
    "duration": 38,
    "start_time": "2022-05-20T14:54:43.590Z"
   },
   {
    "duration": 5722,
    "start_time": "2022-05-20T14:54:43.629Z"
   },
   {
    "duration": 27213,
    "start_time": "2022-05-20T14:54:49.352Z"
   },
   {
    "duration": 14,
    "start_time": "2022-05-20T14:55:16.567Z"
   },
   {
    "duration": 470,
    "start_time": "2022-05-20T14:55:16.583Z"
   },
   {
    "duration": 0,
    "start_time": "2022-05-20T14:55:17.054Z"
   },
   {
    "duration": 0,
    "start_time": "2022-05-20T14:55:17.055Z"
   },
   {
    "duration": 0,
    "start_time": "2022-05-20T14:55:17.056Z"
   },
   {
    "duration": 10,
    "start_time": "2022-05-20T14:59:35.610Z"
   },
   {
    "duration": 22,
    "start_time": "2022-05-20T15:01:33.629Z"
   },
   {
    "duration": 5,
    "start_time": "2022-05-20T15:02:06.168Z"
   },
   {
    "duration": 3,
    "start_time": "2022-05-20T15:02:46.543Z"
   },
   {
    "duration": 117592,
    "start_time": "2022-05-20T15:03:19.594Z"
   },
   {
    "duration": 7,
    "start_time": "2022-05-20T15:06:14.939Z"
   },
   {
    "duration": 3,
    "start_time": "2022-05-20T15:09:15.150Z"
   },
   {
    "duration": 7274,
    "start_time": "2022-05-20T15:10:16.780Z"
   },
   {
    "duration": 4,
    "start_time": "2022-05-20T15:10:33.581Z"
   },
   {
    "duration": 29,
    "start_time": "2022-05-20T15:11:30.306Z"
   },
   {
    "duration": 17,
    "start_time": "2022-05-20T15:12:06.006Z"
   },
   {
    "duration": 21,
    "start_time": "2022-05-20T15:12:21.166Z"
   },
   {
    "duration": 18,
    "start_time": "2022-05-20T15:12:27.736Z"
   },
   {
    "duration": 1063,
    "start_time": "2022-05-20T15:12:49.148Z"
   },
   {
    "duration": 867,
    "start_time": "2022-05-20T15:12:50.213Z"
   },
   {
    "duration": 34,
    "start_time": "2022-05-20T15:12:51.082Z"
   },
   {
    "duration": 117257,
    "start_time": "2022-05-20T15:12:51.118Z"
   },
   {
    "duration": 8,
    "start_time": "2022-05-20T15:14:48.377Z"
   },
   {
    "duration": 34,
    "start_time": "2022-05-20T15:14:48.387Z"
   },
   {
    "duration": 357,
    "start_time": "2022-05-20T15:14:48.423Z"
   },
   {
    "duration": 0,
    "start_time": "2022-05-20T15:14:48.782Z"
   },
   {
    "duration": 10,
    "start_time": "2022-05-20T15:15:32.710Z"
   },
   {
    "duration": 10,
    "start_time": "2022-05-20T15:15:36.312Z"
   },
   {
    "duration": 5087,
    "start_time": "2022-05-20T15:16:15.055Z"
   },
   {
    "duration": 5,
    "start_time": "2022-05-20T15:16:28.603Z"
   },
   {
    "duration": 69,
    "start_time": "2022-05-21T17:36:42.371Z"
   },
   {
    "duration": 1499,
    "start_time": "2022-05-21T17:36:50.707Z"
   },
   {
    "duration": 2608,
    "start_time": "2022-05-21T17:36:52.208Z"
   },
   {
    "duration": 49,
    "start_time": "2022-05-21T17:36:54.818Z"
   },
   {
    "duration": 128815,
    "start_time": "2022-05-21T17:36:54.869Z"
   },
   {
    "duration": 7,
    "start_time": "2022-05-21T17:39:03.687Z"
   },
   {
    "duration": 46,
    "start_time": "2022-05-21T17:39:03.695Z"
   },
   {
    "duration": 5956,
    "start_time": "2022-05-21T17:39:03.743Z"
   },
   {
    "duration": 6,
    "start_time": "2022-05-21T17:39:09.701Z"
   },
   {
    "duration": 5496,
    "start_time": "2022-05-21T17:39:09.708Z"
   },
   {
    "duration": 45843,
    "start_time": "2022-05-21T17:39:15.205Z"
   },
   {
    "duration": 1778,
    "start_time": "2022-05-21T17:40:04.133Z"
   },
   {
    "duration": 21,
    "start_time": "2022-05-21T17:40:14.287Z"
   },
   {
    "duration": 13,
    "start_time": "2022-05-21T17:40:29.587Z"
   },
   {
    "duration": 1053,
    "start_time": "2022-05-21T17:40:53.318Z"
   },
   {
    "duration": 894,
    "start_time": "2022-05-21T17:40:54.373Z"
   },
   {
    "duration": 35,
    "start_time": "2022-05-21T17:40:55.269Z"
   },
   {
    "duration": 129459,
    "start_time": "2022-05-21T17:40:55.305Z"
   },
   {
    "duration": 8,
    "start_time": "2022-05-21T17:43:04.766Z"
   },
   {
    "duration": 46,
    "start_time": "2022-05-21T17:43:04.776Z"
   },
   {
    "duration": 5911,
    "start_time": "2022-05-21T17:43:04.828Z"
   },
   {
    "duration": 7,
    "start_time": "2022-05-21T17:43:10.740Z"
   },
   {
    "duration": 5263,
    "start_time": "2022-05-21T17:43:10.749Z"
   },
   {
    "duration": 1818,
    "start_time": "2022-05-21T17:43:16.014Z"
   },
   {
    "duration": 46415,
    "start_time": "2022-05-21T17:43:17.833Z"
   },
   {
    "duration": 53,
    "start_time": "2022-05-21T17:45:27.990Z"
   },
   {
    "duration": 31,
    "start_time": "2022-05-21T17:45:33.418Z"
   },
   {
    "duration": 688408,
    "start_time": "2022-05-21T17:47:22.248Z"
   },
   {
    "duration": 52217,
    "start_time": "2022-05-21T18:01:24.448Z"
   },
   {
    "duration": 5,
    "start_time": "2022-05-21T18:05:41.227Z"
   },
   {
    "duration": 416,
    "start_time": "2022-05-21T18:05:58.097Z"
   },
   {
    "duration": 583,
    "start_time": "2022-05-21T18:06:20.858Z"
   },
   {
    "duration": 557,
    "start_time": "2022-05-21T18:06:32.034Z"
   },
   {
    "duration": 212,
    "start_time": "2022-05-21T18:07:14.356Z"
   },
   {
    "duration": 16,
    "start_time": "2022-05-21T18:07:30.287Z"
   },
   {
    "duration": 25,
    "start_time": "2022-05-21T18:07:45.015Z"
   },
   {
    "duration": 524,
    "start_time": "2022-05-21T18:07:50.447Z"
   },
   {
    "duration": 585,
    "start_time": "2022-05-21T18:08:45.943Z"
   },
   {
    "duration": 548,
    "start_time": "2022-05-21T18:08:49.967Z"
   },
   {
    "duration": 558,
    "start_time": "2022-05-21T18:08:55.088Z"
   },
   {
    "duration": 1124,
    "start_time": "2022-05-21T18:08:59.568Z"
   },
   {
    "duration": 541,
    "start_time": "2022-05-21T18:09:03.519Z"
   },
   {
    "duration": 576,
    "start_time": "2022-05-21T18:09:06.508Z"
   },
   {
    "duration": 929,
    "start_time": "2022-05-21T18:09:10.147Z"
   },
   {
    "duration": 1084,
    "start_time": "2022-05-21T18:09:14.109Z"
   },
   {
    "duration": 867,
    "start_time": "2022-05-21T18:09:17.989Z"
   },
   {
    "duration": 591,
    "start_time": "2022-05-21T18:09:21.867Z"
   },
   {
    "duration": 623,
    "start_time": "2022-05-21T18:09:27.647Z"
   },
   {
    "duration": 878,
    "start_time": "2022-05-21T18:09:30.347Z"
   },
   {
    "duration": 454,
    "start_time": "2022-05-21T18:09:42.651Z"
   },
   {
    "duration": 755,
    "start_time": "2022-05-21T18:09:46.808Z"
   },
   {
    "duration": 891,
    "start_time": "2022-05-21T18:09:49.807Z"
   },
   {
    "duration": 825,
    "start_time": "2022-05-21T18:09:55.847Z"
   },
   {
    "duration": 697,
    "start_time": "2022-05-21T18:09:58.869Z"
   },
   {
    "duration": 857,
    "start_time": "2022-05-21T18:10:01.968Z"
   },
   {
    "duration": 855,
    "start_time": "2022-05-21T18:10:35.147Z"
   },
   {
    "duration": 850,
    "start_time": "2022-05-21T18:10:41.329Z"
   },
   {
    "duration": 5,
    "start_time": "2022-05-21T18:11:21.801Z"
   },
   {
    "duration": 132676,
    "start_time": "2022-05-21T18:11:33.808Z"
   },
   {
    "duration": 401225,
    "start_time": "2022-05-21T18:13:54.449Z"
   },
   {
    "duration": 3310,
    "start_time": "2022-05-21T18:20:55.711Z"
   },
   {
    "duration": 4833,
    "start_time": "2022-05-21T18:21:10.750Z"
   },
   {
    "duration": 7016,
    "start_time": "2022-05-21T18:21:34.648Z"
   },
   {
    "duration": 15501,
    "start_time": "2022-05-21T18:21:53.810Z"
   },
   {
    "duration": 57640,
    "start_time": "2022-05-21T18:22:16.611Z"
   },
   {
    "duration": 106518,
    "start_time": "2022-05-21T18:23:20.387Z"
   },
   {
    "duration": 1178439,
    "start_time": "2022-05-21T18:28:11.610Z"
   },
   {
    "duration": 1345,
    "start_time": "2022-05-23T14:20:45.157Z"
   },
   {
    "duration": 2720,
    "start_time": "2022-05-23T14:20:46.505Z"
   },
   {
    "duration": 47,
    "start_time": "2022-05-23T14:20:49.227Z"
   },
   {
    "duration": 136233,
    "start_time": "2022-05-23T14:20:49.277Z"
   },
   {
    "duration": 11,
    "start_time": "2022-05-23T14:23:05.512Z"
   },
   {
    "duration": 36,
    "start_time": "2022-05-23T14:23:05.524Z"
   },
   {
    "duration": 6062,
    "start_time": "2022-05-23T14:23:05.562Z"
   },
   {
    "duration": 8,
    "start_time": "2022-05-23T14:23:11.625Z"
   },
   {
    "duration": 6051,
    "start_time": "2022-05-23T14:23:11.635Z"
   },
   {
    "duration": 1945,
    "start_time": "2022-05-23T14:23:17.688Z"
   },
   {
    "duration": 50095,
    "start_time": "2022-05-23T14:23:19.636Z"
   },
   {
    "duration": 802338,
    "start_time": "2022-05-23T14:24:09.734Z"
   },
   {
    "duration": 60359,
    "start_time": "2022-05-23T14:37:32.073Z"
   },
   {
    "duration": 114647,
    "start_time": "2022-05-23T14:38:32.435Z"
   },
   {
    "duration": 1227,
    "start_time": "2022-05-23T14:52:20.150Z"
   },
   {
    "duration": 1023,
    "start_time": "2022-05-23T14:52:21.379Z"
   },
   {
    "duration": 54,
    "start_time": "2022-05-23T14:52:22.403Z"
   },
   {
    "duration": 139396,
    "start_time": "2022-05-23T14:52:22.458Z"
   },
   {
    "duration": 7,
    "start_time": "2022-05-23T14:54:41.856Z"
   },
   {
    "duration": 39,
    "start_time": "2022-05-23T14:54:41.865Z"
   },
   {
    "duration": 6280,
    "start_time": "2022-05-23T14:54:41.905Z"
   },
   {
    "duration": 8,
    "start_time": "2022-05-23T14:54:48.187Z"
   },
   {
    "duration": 5884,
    "start_time": "2022-05-23T14:54:48.197Z"
   },
   {
    "duration": 1818,
    "start_time": "2022-05-23T14:54:54.082Z"
   },
   {
    "duration": 50044,
    "start_time": "2022-05-23T14:54:55.902Z"
   },
   {
    "duration": 56985,
    "start_time": "2022-05-23T14:55:45.948Z"
   },
   {
    "duration": 662,
    "start_time": "2022-05-23T14:56:42.935Z"
   },
   {
    "duration": 111797,
    "start_time": "2022-05-23T14:56:43.601Z"
   },
   {
    "duration": 1346,
    "start_time": "2022-05-24T09:29:29.082Z"
   },
   {
    "duration": 3469,
    "start_time": "2022-05-24T09:29:30.430Z"
   },
   {
    "duration": 38,
    "start_time": "2022-05-24T09:29:33.900Z"
   },
   {
    "duration": 133445,
    "start_time": "2022-05-24T09:29:33.941Z"
   },
   {
    "duration": 8,
    "start_time": "2022-05-24T09:31:47.388Z"
   },
   {
    "duration": 46,
    "start_time": "2022-05-24T09:31:47.398Z"
   },
   {
    "duration": 5852,
    "start_time": "2022-05-24T09:31:47.446Z"
   },
   {
    "duration": 13,
    "start_time": "2022-05-24T09:31:53.300Z"
   },
   {
    "duration": 5297,
    "start_time": "2022-05-24T09:31:53.315Z"
   },
   {
    "duration": 1737,
    "start_time": "2022-05-24T09:31:58.615Z"
   },
   {
    "duration": 47794,
    "start_time": "2022-05-24T09:32:00.354Z"
   },
   {
    "duration": 53492,
    "start_time": "2022-05-24T09:32:48.149Z"
   },
   {
    "duration": 785,
    "start_time": "2022-05-24T09:33:41.642Z"
   },
   {
    "duration": 111874,
    "start_time": "2022-05-24T09:33:42.429Z"
   },
   {
    "duration": 1335,
    "start_time": "2022-05-24T09:42:10.632Z"
   },
   {
    "duration": 926,
    "start_time": "2022-05-24T09:42:11.969Z"
   },
   {
    "duration": 53,
    "start_time": "2022-05-24T09:42:12.897Z"
   },
   {
    "duration": 137093,
    "start_time": "2022-05-24T09:42:12.952Z"
   },
   {
    "duration": 8,
    "start_time": "2022-05-24T09:44:30.047Z"
   },
   {
    "duration": 44,
    "start_time": "2022-05-24T09:44:30.056Z"
   },
   {
    "duration": 6683,
    "start_time": "2022-05-24T09:44:30.101Z"
   },
   {
    "duration": 6,
    "start_time": "2022-05-24T09:44:36.786Z"
   },
   {
    "duration": 5986,
    "start_time": "2022-05-24T09:44:36.794Z"
   },
   {
    "duration": 1877,
    "start_time": "2022-05-24T09:44:42.783Z"
   },
   {
    "duration": 42671,
    "start_time": "2022-05-24T09:44:44.662Z"
   },
   {
    "duration": 49406,
    "start_time": "2022-05-24T09:45:27.335Z"
   },
   {
    "duration": 619,
    "start_time": "2022-05-24T09:46:16.743Z"
   },
   {
    "duration": 110472,
    "start_time": "2022-05-24T09:46:17.363Z"
   },
   {
    "duration": 1431,
    "start_time": "2022-05-24T10:04:35.393Z"
   },
   {
    "duration": 917,
    "start_time": "2022-05-24T10:04:36.826Z"
   },
   {
    "duration": 40,
    "start_time": "2022-05-24T10:04:37.745Z"
   },
   {
    "duration": 131424,
    "start_time": "2022-05-24T10:04:37.788Z"
   },
   {
    "duration": 8,
    "start_time": "2022-05-24T10:06:49.214Z"
   },
   {
    "duration": 40,
    "start_time": "2022-05-24T10:06:49.223Z"
   },
   {
    "duration": 5773,
    "start_time": "2022-05-24T10:06:49.265Z"
   },
   {
    "duration": 7,
    "start_time": "2022-05-24T10:06:55.040Z"
   },
   {
    "duration": 5417,
    "start_time": "2022-05-24T10:06:55.049Z"
   },
   {
    "duration": 2021,
    "start_time": "2022-05-24T10:07:00.468Z"
   },
   {
    "duration": 46626,
    "start_time": "2022-05-24T10:07:02.491Z"
   },
   {
    "duration": 54601,
    "start_time": "2022-05-24T10:07:49.119Z"
   },
   {
    "duration": 621,
    "start_time": "2022-05-24T10:08:43.721Z"
   },
   {
    "duration": 104257,
    "start_time": "2022-05-24T10:08:44.343Z"
   },
   {
    "duration": 13,
    "start_time": "2022-05-24T10:10:28.602Z"
   },
   {
    "duration": 1133,
    "start_time": "2022-05-24T10:11:52.957Z"
   },
   {
    "duration": 259644,
    "start_time": "2022-05-24T10:14:16.179Z"
   },
   {
    "duration": 276543,
    "start_time": "2022-05-24T10:20:37.664Z"
   },
   {
    "duration": 272841,
    "start_time": "2022-05-24T10:25:26.602Z"
   },
   {
    "duration": 5316,
    "start_time": "2022-05-24T10:48:20.229Z"
   },
   {
    "duration": 1315,
    "start_time": "2022-05-24T10:48:25.548Z"
   },
   {
    "duration": 39,
    "start_time": "2022-05-24T10:48:26.865Z"
   },
   {
    "duration": 129581,
    "start_time": "2022-05-24T10:48:26.906Z"
   },
   {
    "duration": 7,
    "start_time": "2022-05-24T10:50:36.490Z"
   },
   {
    "duration": 510,
    "start_time": "2022-05-24T10:50:36.499Z"
   },
   {
    "duration": 6229,
    "start_time": "2022-05-24T10:50:37.010Z"
   },
   {
    "duration": 8,
    "start_time": "2022-05-24T10:50:43.241Z"
   },
   {
    "duration": 5296,
    "start_time": "2022-05-24T10:50:43.251Z"
   },
   {
    "duration": 1852,
    "start_time": "2022-05-24T10:50:48.548Z"
   },
   {
    "duration": 51043,
    "start_time": "2022-05-24T10:50:50.401Z"
   },
   {
    "duration": 56009,
    "start_time": "2022-05-24T10:51:41.455Z"
   },
   {
    "duration": 727,
    "start_time": "2022-05-24T10:52:37.470Z"
   },
   {
    "duration": 120191,
    "start_time": "2022-05-24T10:52:38.199Z"
   },
   {
    "duration": 274416,
    "start_time": "2022-05-24T10:54:38.392Z"
   },
   {
    "duration": 103,
    "start_time": "2022-05-24T11:02:11.795Z"
   },
   {
    "duration": 178024,
    "start_time": "2022-05-24T11:12:00.527Z"
   },
   {
    "duration": 338367,
    "start_time": "2022-05-24T11:41:56.866Z"
   },
   {
    "duration": 6,
    "start_time": "2022-05-24T11:47:35.236Z"
   },
   {
    "duration": 1220,
    "start_time": "2022-05-24T12:36:19.203Z"
   },
   {
    "duration": 949,
    "start_time": "2022-05-24T12:36:20.426Z"
   },
   {
    "duration": 54,
    "start_time": "2022-05-24T12:36:21.376Z"
   },
   {
    "duration": 128189,
    "start_time": "2022-05-24T12:36:21.432Z"
   },
   {
    "duration": 8,
    "start_time": "2022-05-24T12:38:29.623Z"
   },
   {
    "duration": 36,
    "start_time": "2022-05-24T12:38:29.633Z"
   },
   {
    "duration": 5568,
    "start_time": "2022-05-24T12:38:29.671Z"
   },
   {
    "duration": 5,
    "start_time": "2022-05-24T12:38:35.241Z"
   },
   {
    "duration": 5158,
    "start_time": "2022-05-24T12:38:35.248Z"
   },
   {
    "duration": 1687,
    "start_time": "2022-05-24T12:38:40.412Z"
   },
   {
    "duration": 43529,
    "start_time": "2022-05-24T12:38:42.101Z"
   },
   {
    "duration": 50688,
    "start_time": "2022-05-24T12:39:25.632Z"
   },
   {
    "duration": 552,
    "start_time": "2022-05-24T12:40:16.322Z"
   },
   {
    "duration": 98818,
    "start_time": "2022-05-24T12:40:16.876Z"
   },
   {
    "duration": 256508,
    "start_time": "2022-05-24T12:41:55.696Z"
   },
   {
    "duration": 204860,
    "start_time": "2022-05-24T12:46:12.213Z"
   },
   {
    "duration": 1166,
    "start_time": "2022-05-24T13:19:04.155Z"
   },
   {
    "duration": 955,
    "start_time": "2022-05-24T13:19:05.322Z"
   },
   {
    "duration": 45,
    "start_time": "2022-05-24T13:19:06.279Z"
   },
   {
    "duration": 119317,
    "start_time": "2022-05-24T13:19:06.326Z"
   },
   {
    "duration": 7,
    "start_time": "2022-05-24T13:21:05.645Z"
   },
   {
    "duration": 40,
    "start_time": "2022-05-24T13:21:05.654Z"
   },
   {
    "duration": 5163,
    "start_time": "2022-05-24T13:21:05.696Z"
   },
   {
    "duration": 0,
    "start_time": "2022-05-24T13:21:10.861Z"
   },
   {
    "duration": 0,
    "start_time": "2022-05-24T13:21:10.862Z"
   },
   {
    "duration": 0,
    "start_time": "2022-05-24T13:21:10.863Z"
   },
   {
    "duration": 0,
    "start_time": "2022-05-24T13:21:10.864Z"
   },
   {
    "duration": 0,
    "start_time": "2022-05-24T13:21:10.865Z"
   },
   {
    "duration": 0,
    "start_time": "2022-05-24T13:21:10.865Z"
   },
   {
    "duration": 0,
    "start_time": "2022-05-24T13:21:10.866Z"
   },
   {
    "duration": 0,
    "start_time": "2022-05-24T13:21:10.867Z"
   },
   {
    "duration": 0,
    "start_time": "2022-05-24T13:21:10.868Z"
   },
   {
    "duration": 0,
    "start_time": "2022-05-24T13:21:10.869Z"
   },
   {
    "duration": 5038,
    "start_time": "2022-05-24T13:26:03.370Z"
   },
   {
    "duration": 1240,
    "start_time": "2022-05-24T13:26:18.183Z"
   },
   {
    "duration": 924,
    "start_time": "2022-05-24T13:26:19.425Z"
   },
   {
    "duration": 39,
    "start_time": "2022-05-24T13:26:20.350Z"
   },
   {
    "duration": 120191,
    "start_time": "2022-05-24T13:26:20.391Z"
   },
   {
    "duration": 6,
    "start_time": "2022-05-24T13:28:20.584Z"
   },
   {
    "duration": 43,
    "start_time": "2022-05-24T13:28:20.592Z"
   },
   {
    "duration": 5059,
    "start_time": "2022-05-24T13:28:20.636Z"
   },
   {
    "duration": 15,
    "start_time": "2022-05-24T13:28:25.697Z"
   },
   {
    "duration": 4194,
    "start_time": "2022-05-24T13:28:25.714Z"
   },
   {
    "duration": 1372,
    "start_time": "2022-05-24T13:28:29.912Z"
   },
   {
    "duration": 485,
    "start_time": "2022-05-24T13:28:31.285Z"
   },
   {
    "duration": 274,
    "start_time": "2022-05-24T13:28:31.771Z"
   },
   {
    "duration": 222,
    "start_time": "2022-05-24T13:28:32.046Z"
   },
   {
    "duration": 8115,
    "start_time": "2022-05-24T13:28:32.270Z"
   },
   {
    "duration": 6108,
    "start_time": "2022-05-24T13:28:40.388Z"
   },
   {
    "duration": 8337,
    "start_time": "2022-05-24T13:28:46.498Z"
   },
   {
    "duration": 133,
    "start_time": "2022-05-24T13:30:12.049Z"
   },
   {
    "duration": 1284,
    "start_time": "2022-05-24T13:30:25.067Z"
   },
   {
    "duration": 990,
    "start_time": "2022-05-24T13:30:26.353Z"
   },
   {
    "duration": 42,
    "start_time": "2022-05-24T13:30:27.345Z"
   },
   {
    "duration": 124737,
    "start_time": "2022-05-24T13:30:27.389Z"
   },
   {
    "duration": 7,
    "start_time": "2022-05-24T13:32:32.128Z"
   },
   {
    "duration": 36,
    "start_time": "2022-05-24T13:32:32.137Z"
   },
   {
    "duration": 5502,
    "start_time": "2022-05-24T13:32:32.175Z"
   },
   {
    "duration": 5,
    "start_time": "2022-05-24T13:32:37.679Z"
   },
   {
    "duration": 4509,
    "start_time": "2022-05-24T13:32:37.685Z"
   },
   {
    "duration": 1425,
    "start_time": "2022-05-24T13:32:42.196Z"
   },
   {
    "duration": 1158,
    "start_time": "2022-05-24T13:32:43.622Z"
   },
   {
    "duration": 1277,
    "start_time": "2022-05-24T13:32:44.781Z"
   },
   {
    "duration": 331,
    "start_time": "2022-05-24T13:32:46.059Z"
   },
   {
    "duration": 53778,
    "start_time": "2022-05-24T13:32:46.392Z"
   },
   {
    "duration": 57142,
    "start_time": "2022-05-24T13:33:40.172Z"
   },
   {
    "duration": 66618,
    "start_time": "2022-05-24T13:34:37.316Z"
   },
   {
    "duration": 1135,
    "start_time": "2022-05-24T13:52:28.963Z"
   },
   {
    "duration": 922,
    "start_time": "2022-05-24T13:52:30.100Z"
   },
   {
    "duration": 38,
    "start_time": "2022-05-24T13:52:31.023Z"
   },
   {
    "duration": 120986,
    "start_time": "2022-05-24T13:52:31.062Z"
   },
   {
    "duration": 7,
    "start_time": "2022-05-24T13:54:32.050Z"
   },
   {
    "duration": 37,
    "start_time": "2022-05-24T13:54:32.059Z"
   },
   {
    "duration": 5802,
    "start_time": "2022-05-24T13:54:32.098Z"
   },
   {
    "duration": 11,
    "start_time": "2022-05-24T13:54:37.901Z"
   },
   {
    "duration": 4705,
    "start_time": "2022-05-24T13:54:37.914Z"
   },
   {
    "duration": 1521,
    "start_time": "2022-05-24T13:54:42.621Z"
   },
   {
    "duration": 1298,
    "start_time": "2022-05-24T13:54:44.143Z"
   },
   {
    "duration": 1735,
    "start_time": "2022-05-24T13:54:45.443Z"
   },
   {
    "duration": 355,
    "start_time": "2022-05-24T13:54:47.179Z"
   },
   {
    "duration": 73057,
    "start_time": "2022-05-24T13:54:47.535Z"
   },
   {
    "duration": 133171,
    "start_time": "2022-05-24T13:56:00.594Z"
   },
   {
    "duration": 216574,
    "start_time": "2022-05-24T13:58:13.766Z"
   },
   {
    "duration": 1206,
    "start_time": "2022-05-24T14:04:40.008Z"
   },
   {
    "duration": 988,
    "start_time": "2022-05-24T14:04:41.216Z"
   },
   {
    "duration": 40,
    "start_time": "2022-05-24T14:04:42.212Z"
   },
   {
    "duration": 119525,
    "start_time": "2022-05-24T14:04:42.254Z"
   },
   {
    "duration": 7,
    "start_time": "2022-05-24T14:06:41.781Z"
   },
   {
    "duration": 58,
    "start_time": "2022-05-24T14:06:41.789Z"
   },
   {
    "duration": 5187,
    "start_time": "2022-05-24T14:06:41.848Z"
   },
   {
    "duration": 5,
    "start_time": "2022-05-24T14:06:47.037Z"
   },
   {
    "duration": 4798,
    "start_time": "2022-05-24T14:06:47.043Z"
   },
   {
    "duration": 1490,
    "start_time": "2022-05-24T14:06:51.843Z"
   },
   {
    "duration": 21285,
    "start_time": "2022-05-24T14:06:53.334Z"
   },
   {
    "duration": 34795,
    "start_time": "2022-05-24T14:07:14.621Z"
   },
   {
    "duration": 512,
    "start_time": "2022-05-24T14:07:49.418Z"
   },
   {
    "duration": 78540,
    "start_time": "2022-05-24T14:07:49.932Z"
   },
   {
    "duration": 181478,
    "start_time": "2022-05-24T14:09:08.473Z"
   },
   {
    "duration": 1235,
    "start_time": "2022-05-24T14:15:37.286Z"
   },
   {
    "duration": 944,
    "start_time": "2022-05-24T14:15:38.523Z"
   },
   {
    "duration": 52,
    "start_time": "2022-05-24T14:15:39.469Z"
   },
   {
    "duration": 121884,
    "start_time": "2022-05-24T14:15:39.524Z"
   },
   {
    "duration": 9,
    "start_time": "2022-05-24T14:17:41.410Z"
   },
   {
    "duration": 63,
    "start_time": "2022-05-24T14:17:41.421Z"
   },
   {
    "duration": 5187,
    "start_time": "2022-05-24T14:17:41.487Z"
   },
   {
    "duration": 7,
    "start_time": "2022-05-24T14:17:46.675Z"
   },
   {
    "duration": 5043,
    "start_time": "2022-05-24T14:17:46.684Z"
   },
   {
    "duration": 1595,
    "start_time": "2022-05-24T14:17:51.729Z"
   },
   {
    "duration": 34493,
    "start_time": "2022-05-24T14:17:53.326Z"
   },
   {
    "duration": 35992,
    "start_time": "2022-05-24T14:18:27.822Z"
   },
   {
    "duration": 640,
    "start_time": "2022-05-24T14:19:03.816Z"
   },
   {
    "duration": 85716,
    "start_time": "2022-05-24T14:19:04.458Z"
   },
   {
    "duration": 214020,
    "start_time": "2022-05-24T14:20:30.175Z"
   },
   {
    "duration": 612344,
    "start_time": "2022-05-24T14:24:04.197Z"
   },
   {
    "duration": 1247,
    "start_time": "2022-05-24T14:44:10.986Z"
   },
   {
    "duration": 932,
    "start_time": "2022-05-24T14:44:12.234Z"
   },
   {
    "duration": 47,
    "start_time": "2022-05-24T14:44:13.167Z"
   },
   {
    "duration": 122446,
    "start_time": "2022-05-24T14:44:13.216Z"
   },
   {
    "duration": 8,
    "start_time": "2022-05-24T14:46:15.664Z"
   },
   {
    "duration": 43,
    "start_time": "2022-05-24T14:46:15.673Z"
   },
   {
    "duration": 5294,
    "start_time": "2022-05-24T14:46:15.718Z"
   },
   {
    "duration": 6,
    "start_time": "2022-05-24T14:46:21.014Z"
   },
   {
    "duration": 4902,
    "start_time": "2022-05-24T14:46:21.022Z"
   },
   {
    "duration": 1677,
    "start_time": "2022-05-24T14:46:25.925Z"
   },
   {
    "duration": 35228,
    "start_time": "2022-05-24T14:46:27.603Z"
   },
   {
    "duration": 34690,
    "start_time": "2022-05-24T14:47:02.834Z"
   },
   {
    "duration": 553,
    "start_time": "2022-05-24T14:47:37.526Z"
   },
   {
    "duration": 34,
    "start_time": "2022-05-24T14:47:38.082Z"
   },
   {
    "duration": 0,
    "start_time": "2022-05-24T14:47:38.117Z"
   },
   {
    "duration": 0,
    "start_time": "2022-05-24T14:47:38.119Z"
   },
   {
    "duration": 0,
    "start_time": "2022-05-24T14:47:38.119Z"
   },
   {
    "duration": 1228,
    "start_time": "2022-05-24T14:50:56.863Z"
   },
   {
    "duration": 977,
    "start_time": "2022-05-24T14:50:58.092Z"
   },
   {
    "duration": 53,
    "start_time": "2022-05-24T14:50:59.071Z"
   },
   {
    "duration": 122426,
    "start_time": "2022-05-24T14:50:59.127Z"
   },
   {
    "duration": 10,
    "start_time": "2022-05-24T14:53:01.556Z"
   },
   {
    "duration": 78,
    "start_time": "2022-05-24T14:53:01.568Z"
   },
   {
    "duration": 5528,
    "start_time": "2022-05-24T14:53:01.648Z"
   },
   {
    "duration": 5,
    "start_time": "2022-05-24T14:53:07.178Z"
   },
   {
    "duration": 5229,
    "start_time": "2022-05-24T14:53:07.185Z"
   },
   {
    "duration": 1676,
    "start_time": "2022-05-24T14:53:12.417Z"
   },
   {
    "duration": 38332,
    "start_time": "2022-05-24T14:53:14.094Z"
   },
   {
    "duration": 35703,
    "start_time": "2022-05-24T14:53:52.512Z"
   },
   {
    "duration": 504,
    "start_time": "2022-05-24T14:54:28.218Z"
   },
   {
    "duration": 319536,
    "start_time": "2022-05-24T14:54:28.724Z"
   },
   {
    "duration": 217122,
    "start_time": "2022-05-24T14:59:48.262Z"
   },
   {
    "duration": 555541,
    "start_time": "2022-05-24T15:03:25.386Z"
   },
   {
    "duration": 3264,
    "start_time": "2022-05-24T15:12:40.929Z"
   },
   {
    "duration": 88742,
    "start_time": "2022-05-24T15:14:54.988Z"
   },
   {
    "duration": 591,
    "start_time": "2022-05-24T15:17:36.292Z"
   },
   {
    "duration": 0,
    "start_time": "2022-05-24T15:19:32.538Z"
   },
   {
    "duration": 37449,
    "start_time": "2022-05-24T15:23:48.972Z"
   },
   {
    "duration": 38330,
    "start_time": "2022-05-24T15:24:41.598Z"
   },
   {
    "duration": 12,
    "start_time": "2022-05-24T15:26:05.108Z"
   },
   {
    "duration": 10,
    "start_time": "2022-05-24T15:30:04.489Z"
   },
   {
    "duration": 11,
    "start_time": "2022-05-24T15:30:10.126Z"
   },
   {
    "duration": 11,
    "start_time": "2022-05-24T15:30:31.796Z"
   },
   {
    "duration": 25,
    "start_time": "2022-05-24T15:30:40.773Z"
   },
   {
    "duration": 12,
    "start_time": "2022-05-24T15:30:50.265Z"
   },
   {
    "duration": 12,
    "start_time": "2022-05-24T15:30:57.865Z"
   },
   {
    "duration": 5,
    "start_time": "2022-05-24T15:31:05.238Z"
   },
   {
    "duration": 4,
    "start_time": "2022-05-24T15:31:12.234Z"
   },
   {
    "duration": 14,
    "start_time": "2022-05-24T15:31:46.901Z"
   },
   {
    "duration": 15,
    "start_time": "2022-05-24T15:31:52.910Z"
   },
   {
    "duration": 10,
    "start_time": "2022-05-24T15:32:02.567Z"
   },
   {
    "duration": 646,
    "start_time": "2022-05-24T15:32:19.405Z"
   },
   {
    "duration": 653,
    "start_time": "2022-05-24T15:32:43.166Z"
   },
   {
    "duration": 622,
    "start_time": "2022-05-24T15:33:44.171Z"
   },
   {
    "duration": 135622,
    "start_time": "2022-05-24T15:33:52.308Z"
   },
   {
    "duration": 6,
    "start_time": "2022-05-24T15:37:08.870Z"
   },
   {
    "duration": 3,
    "start_time": "2022-05-24T15:37:30.569Z"
   },
   {
    "duration": 36,
    "start_time": "2022-05-24T15:42:42.781Z"
   },
   {
    "duration": 0,
    "start_time": "2022-05-24T15:42:42.820Z"
   },
   {
    "duration": 5,
    "start_time": "2022-05-24T15:43:17.005Z"
   },
   {
    "duration": 11,
    "start_time": "2022-05-24T15:43:33.223Z"
   },
   {
    "duration": 12,
    "start_time": "2022-05-24T15:43:44.981Z"
   },
   {
    "duration": 5,
    "start_time": "2022-05-24T15:43:49.677Z"
   },
   {
    "duration": 10,
    "start_time": "2022-05-24T15:43:58.164Z"
   },
   {
    "duration": 4,
    "start_time": "2022-05-24T15:44:05.583Z"
   },
   {
    "duration": 10,
    "start_time": "2022-05-24T15:44:13.830Z"
   },
   {
    "duration": 4,
    "start_time": "2022-05-24T15:44:18.976Z"
   },
   {
    "duration": 13,
    "start_time": "2022-05-24T15:44:26.567Z"
   },
   {
    "duration": 16,
    "start_time": "2022-05-24T15:44:31.653Z"
   },
   {
    "duration": 7,
    "start_time": "2022-05-24T15:44:38.772Z"
   },
   {
    "duration": 6,
    "start_time": "2022-05-24T15:45:16.978Z"
   },
   {
    "duration": 5,
    "start_time": "2022-05-24T15:45:55.429Z"
   },
   {
    "duration": 9,
    "start_time": "2022-05-24T15:46:31.511Z"
   },
   {
    "duration": 97,
    "start_time": "2022-05-24T15:46:43.762Z"
   },
   {
    "duration": 70,
    "start_time": "2022-05-24T15:47:05.964Z"
   },
   {
    "duration": 80,
    "start_time": "2022-05-24T15:47:46.482Z"
   },
   {
    "duration": 72,
    "start_time": "2022-05-24T15:48:17.605Z"
   },
   {
    "duration": 85,
    "start_time": "2022-05-24T15:49:10.451Z"
   },
   {
    "duration": 159,
    "start_time": "2022-05-24T15:49:56.108Z"
   },
   {
    "duration": 147,
    "start_time": "2022-05-24T15:50:02.757Z"
   },
   {
    "duration": 155,
    "start_time": "2022-05-24T15:51:19.862Z"
   },
   {
    "duration": 143,
    "start_time": "2022-05-24T15:51:24.206Z"
   },
   {
    "duration": 153,
    "start_time": "2022-05-24T15:51:28.505Z"
   },
   {
    "duration": 143,
    "start_time": "2022-05-24T15:51:33.123Z"
   },
   {
    "duration": 153,
    "start_time": "2022-05-24T15:52:09.876Z"
   },
   {
    "duration": 216,
    "start_time": "2022-05-24T15:52:28.057Z"
   },
   {
    "duration": 176,
    "start_time": "2022-05-24T15:53:28.608Z"
   },
   {
    "duration": 214,
    "start_time": "2022-05-24T15:54:32.009Z"
   },
   {
    "duration": 77,
    "start_time": "2022-05-24T15:54:53.124Z"
   },
   {
    "duration": 113,
    "start_time": "2022-05-24T15:55:25.118Z"
   },
   {
    "duration": 101,
    "start_time": "2022-05-24T15:55:31.580Z"
   },
   {
    "duration": 80,
    "start_time": "2022-05-24T15:56:26.276Z"
   },
   {
    "duration": 72,
    "start_time": "2022-05-24T15:56:37.256Z"
   },
   {
    "duration": 81,
    "start_time": "2022-05-24T15:56:41.439Z"
   },
   {
    "duration": 15,
    "start_time": "2022-05-24T15:57:32.096Z"
   },
   {
    "duration": 69,
    "start_time": "2022-05-24T15:57:37.228Z"
   },
   {
    "duration": 130,
    "start_time": "2022-05-24T15:58:20.095Z"
   },
   {
    "duration": 166,
    "start_time": "2022-05-24T15:58:31.668Z"
   },
   {
    "duration": 224,
    "start_time": "2022-05-24T15:59:06.054Z"
   },
   {
    "duration": 69,
    "start_time": "2022-05-24T15:59:23.557Z"
   },
   {
    "duration": 66,
    "start_time": "2022-05-24T16:00:24.322Z"
   },
   {
    "duration": 74,
    "start_time": "2022-05-24T16:00:39.743Z"
   },
   {
    "duration": 67,
    "start_time": "2022-05-24T16:00:49.486Z"
   },
   {
    "duration": 65,
    "start_time": "2022-05-24T16:01:00.841Z"
   },
   {
    "duration": 92,
    "start_time": "2022-05-24T16:01:18.742Z"
   },
   {
    "duration": 97,
    "start_time": "2022-05-24T16:04:12.602Z"
   },
   {
    "duration": 100,
    "start_time": "2022-05-24T16:04:25.833Z"
   },
   {
    "duration": 92,
    "start_time": "2022-05-24T16:04:46.099Z"
   },
   {
    "duration": 95,
    "start_time": "2022-05-24T16:04:58.933Z"
   },
   {
    "duration": 97,
    "start_time": "2022-05-24T16:06:06.926Z"
   },
   {
    "duration": 130,
    "start_time": "2022-05-24T16:07:00.443Z"
   },
   {
    "duration": 107,
    "start_time": "2022-05-24T16:07:09.498Z"
   },
   {
    "duration": 108,
    "start_time": "2022-05-24T16:07:20.530Z"
   },
   {
    "duration": 133,
    "start_time": "2022-05-24T16:07:35.268Z"
   },
   {
    "duration": 1247,
    "start_time": "2022-05-24T16:49:18.193Z"
   },
   {
    "duration": 2707,
    "start_time": "2022-05-24T16:49:19.442Z"
   },
   {
    "duration": 69896,
    "start_time": "2022-05-24T16:49:22.151Z"
   },
   {
    "duration": 3,
    "start_time": "2022-05-24T16:50:33.944Z"
   },
   {
    "duration": 4,
    "start_time": "2022-05-24T16:50:51.212Z"
   },
   {
    "duration": 4,
    "start_time": "2022-05-24T16:50:54.287Z"
   },
   {
    "duration": 4,
    "start_time": "2022-05-24T16:50:57.004Z"
   },
   {
    "duration": 4,
    "start_time": "2022-05-24T16:54:43.040Z"
   },
   {
    "duration": 4,
    "start_time": "2022-05-24T16:54:44.900Z"
   },
   {
    "duration": 4,
    "start_time": "2022-05-24T16:54:48.006Z"
   },
   {
    "duration": 4,
    "start_time": "2022-05-24T16:54:59.328Z"
   },
   {
    "duration": 3,
    "start_time": "2022-05-24T16:55:01.545Z"
   },
   {
    "duration": 3,
    "start_time": "2022-05-24T16:55:18.109Z"
   },
   {
    "duration": 3,
    "start_time": "2022-05-24T16:55:20.114Z"
   },
   {
    "duration": 4,
    "start_time": "2022-05-24T16:55:25.281Z"
   },
   {
    "duration": 4,
    "start_time": "2022-05-24T16:55:48.274Z"
   },
   {
    "duration": 4,
    "start_time": "2022-05-24T16:55:59.868Z"
   },
   {
    "duration": 3,
    "start_time": "2022-05-24T16:56:02.895Z"
   },
   {
    "duration": 3,
    "start_time": "2022-05-24T16:56:27.421Z"
   },
   {
    "duration": 897,
    "start_time": "2022-05-24T16:56:30.706Z"
   },
   {
    "duration": 857,
    "start_time": "2022-05-24T16:56:33.300Z"
   },
   {
    "duration": 43,
    "start_time": "2022-05-24T16:56:34.166Z"
   },
   {
    "duration": 769,
    "start_time": "2022-05-24T16:56:42.006Z"
   },
   {
    "duration": 9,
    "start_time": "2022-05-24T16:56:50.670Z"
   },
   {
    "duration": 233,
    "start_time": "2022-05-24T16:56:56.788Z"
   }
  ],
  "kernelspec": {
   "display_name": "Python 3 (ipykernel)",
   "language": "python",
   "name": "python3"
  },
  "language_info": {
   "codemirror_mode": {
    "name": "ipython",
    "version": 3
   },
   "file_extension": ".py",
   "mimetype": "text/x-python",
   "name": "python",
   "nbconvert_exporter": "python",
   "pygments_lexer": "ipython3",
   "version": "3.9.12"
  },
  "toc": {
   "base_numbering": 1,
   "nav_menu": {},
   "number_sections": true,
   "sideBar": true,
   "skip_h1_title": true,
   "title_cell": "Содержание",
   "title_sidebar": "Contents",
   "toc_cell": true,
   "toc_position": {
    "height": "calc(100% - 180px)",
    "left": "10px",
    "top": "150px",
    "width": "302.391px"
   },
   "toc_section_display": true,
   "toc_window_display": false
  }
 },
 "nbformat": 4,
 "nbformat_minor": 2
}
