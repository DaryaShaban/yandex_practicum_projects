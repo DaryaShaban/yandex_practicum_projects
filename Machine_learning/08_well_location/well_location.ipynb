{
 "cells": [
  {
   "cell_type": "markdown",
   "metadata": {},
   "source": [
    "# Choosing a location for a well"
   ]
  },
  {
   "cell_type": "markdown",
   "metadata": {},
   "source": [
    "The client is a mining company. The task is to decide where to drill a new well.\n",
    "\n",
    "The data is oil samples in three regions: there are 10,000 oilfields in each, where the quality of oil and the volume of its reserves have been measured. The task is to build a machine learning model to help determine the region where mining will bring in the most profit. There is also a task to analyze possible profits and risks using the *Bootstrap* technique\n",
    "\n",
    "Steps to choose a location are the following:\n",
    "\n",
    "- In the selected region, they are looking for oilfields, for each, the values of the parameters are determined;\n",
    "- Build a model and estimate the volume of reserves;\n",
    "- Select the wells with the highest value estimates. The number of wells depends on the company's budget and the cost of developing one well;\n",
    "- The profit is equal to the total profit of the selected wells."
   ]
  },
  {
   "cell_type": "markdown",
   "metadata": {},
   "source": [
    "**Task conditions**: \n",
    "\n",
    "1) Only linear regression is suitable for training the model (the rest are not predictable enough).\n",
    "\n",
    "2) During the exploration of the region, 500 wells are explored, from which, using machine learning, the best 200 are selected for development.\n",
    "\n",
    "3) The budget for the development of wells in the region is 10 billion rubles.\n",
    "\n",
    "4) One barrel of raw materials brings 450 rubles of income (at current prices). The income from each unit of the product is 450 thousand rubles, since the volume is indicated in thousands of barrels.\n",
    "\n",
    "5) After assessing the risks, only those regions, where the probability of losses is less than 2.5%, are left. Among them, the region with the highest average profit is chosen."
   ]
  },
  {
   "cell_type": "markdown",
   "metadata": {},
   "source": [
    "**Contents**<br/>\n",
    "\n",
    "<a href='#first'>1) Data preprocessing</a> <br/>\n",
    "<a href='#second'>2) Train and validate the models</a> <br/>\n",
    "<a href='#third'>3) Profit calculation preparation</a> <br/>\n",
    "<a href='#fourth'>4) Profit and risks calculation</a> <br/>\n",
    "<a href='#fifth'>5) Summary</a>"
   ]
  },
  {
   "cell_type": "markdown",
   "metadata": {},
   "source": [
    "<a id='first'></a>\n",
    "## 1. Data preprocessing"
   ]
  },
  {
   "cell_type": "code",
   "execution_count": 1,
   "metadata": {},
   "outputs": [],
   "source": [
    "import pandas as pd\n",
    "import numpy as np\n",
    "import seaborn as sn\n",
    "from sklearn.model_selection import train_test_split\n",
    "from sklearn.linear_model import LinearRegression\n",
    "from sklearn.metrics import mean_squared_error\n"
   ]
  },
  {
   "cell_type": "code",
   "execution_count": 2,
   "metadata": {
    "scrolled": true
   },
   "outputs": [
    {
     "name": "stdout",
     "output_type": "stream",
     "text": [
      "<class 'pandas.core.frame.DataFrame'>\n",
      "RangeIndex: 100000 entries, 0 to 99999\n",
      "Data columns (total 5 columns):\n",
      " #   Column   Non-Null Count   Dtype  \n",
      "---  ------   --------------   -----  \n",
      " 0   id       100000 non-null  object \n",
      " 1   f0       100000 non-null  float64\n",
      " 2   f1       100000 non-null  float64\n",
      " 3   f2       100000 non-null  float64\n",
      " 4   product  100000 non-null  float64\n",
      "dtypes: float64(4), object(1)\n",
      "memory usage: 3.8+ MB\n",
      "\n"
     ]
    },
    {
     "data": {
      "text/html": [
       "<div>\n",
       "<style scoped>\n",
       "    .dataframe tbody tr th:only-of-type {\n",
       "        vertical-align: middle;\n",
       "    }\n",
       "\n",
       "    .dataframe tbody tr th {\n",
       "        vertical-align: top;\n",
       "    }\n",
       "\n",
       "    .dataframe thead th {\n",
       "        text-align: right;\n",
       "    }\n",
       "</style>\n",
       "<table border=\"1\" class=\"dataframe\">\n",
       "  <thead>\n",
       "    <tr style=\"text-align: right;\">\n",
       "      <th></th>\n",
       "      <th>id</th>\n",
       "      <th>f0</th>\n",
       "      <th>f1</th>\n",
       "      <th>f2</th>\n",
       "      <th>product</th>\n",
       "    </tr>\n",
       "  </thead>\n",
       "  <tbody>\n",
       "    <tr>\n",
       "      <th>0</th>\n",
       "      <td>txEyH</td>\n",
       "      <td>0.705745</td>\n",
       "      <td>-0.497823</td>\n",
       "      <td>1.221170</td>\n",
       "      <td>105.280062</td>\n",
       "    </tr>\n",
       "    <tr>\n",
       "      <th>1</th>\n",
       "      <td>2acmU</td>\n",
       "      <td>1.334711</td>\n",
       "      <td>-0.340164</td>\n",
       "      <td>4.365080</td>\n",
       "      <td>73.037750</td>\n",
       "    </tr>\n",
       "    <tr>\n",
       "      <th>2</th>\n",
       "      <td>409Wp</td>\n",
       "      <td>1.022732</td>\n",
       "      <td>0.151990</td>\n",
       "      <td>1.419926</td>\n",
       "      <td>85.265647</td>\n",
       "    </tr>\n",
       "    <tr>\n",
       "      <th>3</th>\n",
       "      <td>iJLyR</td>\n",
       "      <td>-0.032172</td>\n",
       "      <td>0.139033</td>\n",
       "      <td>2.978566</td>\n",
       "      <td>168.620776</td>\n",
       "    </tr>\n",
       "    <tr>\n",
       "      <th>4</th>\n",
       "      <td>Xdl7t</td>\n",
       "      <td>1.988431</td>\n",
       "      <td>0.155413</td>\n",
       "      <td>4.751769</td>\n",
       "      <td>154.036647</td>\n",
       "    </tr>\n",
       "  </tbody>\n",
       "</table>\n",
       "</div>"
      ],
      "text/plain": [
       "      id        f0        f1        f2     product\n",
       "0  txEyH  0.705745 -0.497823  1.221170  105.280062\n",
       "1  2acmU  1.334711 -0.340164  4.365080   73.037750\n",
       "2  409Wp  1.022732  0.151990  1.419926   85.265647\n",
       "3  iJLyR -0.032172  0.139033  2.978566  168.620776\n",
       "4  Xdl7t  1.988431  0.155413  4.751769  154.036647"
      ]
     },
     "metadata": {},
     "output_type": "display_data"
    },
    {
     "name": "stdout",
     "output_type": "stream",
     "text": [
      "<class 'pandas.core.frame.DataFrame'>\n",
      "RangeIndex: 100000 entries, 0 to 99999\n",
      "Data columns (total 5 columns):\n",
      " #   Column   Non-Null Count   Dtype  \n",
      "---  ------   --------------   -----  \n",
      " 0   id       100000 non-null  object \n",
      " 1   f0       100000 non-null  float64\n",
      " 2   f1       100000 non-null  float64\n",
      " 3   f2       100000 non-null  float64\n",
      " 4   product  100000 non-null  float64\n",
      "dtypes: float64(4), object(1)\n",
      "memory usage: 3.8+ MB\n",
      "\n"
     ]
    },
    {
     "data": {
      "text/html": [
       "<div>\n",
       "<style scoped>\n",
       "    .dataframe tbody tr th:only-of-type {\n",
       "        vertical-align: middle;\n",
       "    }\n",
       "\n",
       "    .dataframe tbody tr th {\n",
       "        vertical-align: top;\n",
       "    }\n",
       "\n",
       "    .dataframe thead th {\n",
       "        text-align: right;\n",
       "    }\n",
       "</style>\n",
       "<table border=\"1\" class=\"dataframe\">\n",
       "  <thead>\n",
       "    <tr style=\"text-align: right;\">\n",
       "      <th></th>\n",
       "      <th>id</th>\n",
       "      <th>f0</th>\n",
       "      <th>f1</th>\n",
       "      <th>f2</th>\n",
       "      <th>product</th>\n",
       "    </tr>\n",
       "  </thead>\n",
       "  <tbody>\n",
       "    <tr>\n",
       "      <th>0</th>\n",
       "      <td>kBEdx</td>\n",
       "      <td>-15.001348</td>\n",
       "      <td>-8.276000</td>\n",
       "      <td>-0.005876</td>\n",
       "      <td>3.179103</td>\n",
       "    </tr>\n",
       "    <tr>\n",
       "      <th>1</th>\n",
       "      <td>62mP7</td>\n",
       "      <td>14.272088</td>\n",
       "      <td>-3.475083</td>\n",
       "      <td>0.999183</td>\n",
       "      <td>26.953261</td>\n",
       "    </tr>\n",
       "    <tr>\n",
       "      <th>2</th>\n",
       "      <td>vyE1P</td>\n",
       "      <td>6.263187</td>\n",
       "      <td>-5.948386</td>\n",
       "      <td>5.001160</td>\n",
       "      <td>134.766305</td>\n",
       "    </tr>\n",
       "    <tr>\n",
       "      <th>3</th>\n",
       "      <td>KcrkZ</td>\n",
       "      <td>-13.081196</td>\n",
       "      <td>-11.506057</td>\n",
       "      <td>4.999415</td>\n",
       "      <td>137.945408</td>\n",
       "    </tr>\n",
       "    <tr>\n",
       "      <th>4</th>\n",
       "      <td>AHL4O</td>\n",
       "      <td>12.702195</td>\n",
       "      <td>-8.147433</td>\n",
       "      <td>5.004363</td>\n",
       "      <td>134.766305</td>\n",
       "    </tr>\n",
       "  </tbody>\n",
       "</table>\n",
       "</div>"
      ],
      "text/plain": [
       "      id         f0         f1        f2     product\n",
       "0  kBEdx -15.001348  -8.276000 -0.005876    3.179103\n",
       "1  62mP7  14.272088  -3.475083  0.999183   26.953261\n",
       "2  vyE1P   6.263187  -5.948386  5.001160  134.766305\n",
       "3  KcrkZ -13.081196 -11.506057  4.999415  137.945408\n",
       "4  AHL4O  12.702195  -8.147433  5.004363  134.766305"
      ]
     },
     "metadata": {},
     "output_type": "display_data"
    },
    {
     "name": "stdout",
     "output_type": "stream",
     "text": [
      "<class 'pandas.core.frame.DataFrame'>\n",
      "RangeIndex: 100000 entries, 0 to 99999\n",
      "Data columns (total 5 columns):\n",
      " #   Column   Non-Null Count   Dtype  \n",
      "---  ------   --------------   -----  \n",
      " 0   id       100000 non-null  object \n",
      " 1   f0       100000 non-null  float64\n",
      " 2   f1       100000 non-null  float64\n",
      " 3   f2       100000 non-null  float64\n",
      " 4   product  100000 non-null  float64\n",
      "dtypes: float64(4), object(1)\n",
      "memory usage: 3.8+ MB\n",
      "\n"
     ]
    },
    {
     "data": {
      "text/html": [
       "<div>\n",
       "<style scoped>\n",
       "    .dataframe tbody tr th:only-of-type {\n",
       "        vertical-align: middle;\n",
       "    }\n",
       "\n",
       "    .dataframe tbody tr th {\n",
       "        vertical-align: top;\n",
       "    }\n",
       "\n",
       "    .dataframe thead th {\n",
       "        text-align: right;\n",
       "    }\n",
       "</style>\n",
       "<table border=\"1\" class=\"dataframe\">\n",
       "  <thead>\n",
       "    <tr style=\"text-align: right;\">\n",
       "      <th></th>\n",
       "      <th>id</th>\n",
       "      <th>f0</th>\n",
       "      <th>f1</th>\n",
       "      <th>f2</th>\n",
       "      <th>product</th>\n",
       "    </tr>\n",
       "  </thead>\n",
       "  <tbody>\n",
       "    <tr>\n",
       "      <th>0</th>\n",
       "      <td>fwXo0</td>\n",
       "      <td>-1.146987</td>\n",
       "      <td>0.963328</td>\n",
       "      <td>-0.828965</td>\n",
       "      <td>27.758673</td>\n",
       "    </tr>\n",
       "    <tr>\n",
       "      <th>1</th>\n",
       "      <td>WJtFt</td>\n",
       "      <td>0.262778</td>\n",
       "      <td>0.269839</td>\n",
       "      <td>-2.530187</td>\n",
       "      <td>56.069697</td>\n",
       "    </tr>\n",
       "    <tr>\n",
       "      <th>2</th>\n",
       "      <td>ovLUW</td>\n",
       "      <td>0.194587</td>\n",
       "      <td>0.289035</td>\n",
       "      <td>-5.586433</td>\n",
       "      <td>62.871910</td>\n",
       "    </tr>\n",
       "    <tr>\n",
       "      <th>3</th>\n",
       "      <td>q6cA6</td>\n",
       "      <td>2.236060</td>\n",
       "      <td>-0.553760</td>\n",
       "      <td>0.930038</td>\n",
       "      <td>114.572842</td>\n",
       "    </tr>\n",
       "    <tr>\n",
       "      <th>4</th>\n",
       "      <td>WPMUX</td>\n",
       "      <td>-0.515993</td>\n",
       "      <td>1.716266</td>\n",
       "      <td>5.899011</td>\n",
       "      <td>149.600746</td>\n",
       "    </tr>\n",
       "  </tbody>\n",
       "</table>\n",
       "</div>"
      ],
      "text/plain": [
       "      id        f0        f1        f2     product\n",
       "0  fwXo0 -1.146987  0.963328 -0.828965   27.758673\n",
       "1  WJtFt  0.262778  0.269839 -2.530187   56.069697\n",
       "2  ovLUW  0.194587  0.289035 -5.586433   62.871910\n",
       "3  q6cA6  2.236060 -0.553760  0.930038  114.572842\n",
       "4  WPMUX -0.515993  1.716266  5.899011  149.600746"
      ]
     },
     "metadata": {},
     "output_type": "display_data"
    }
   ],
   "source": [
    "df_0 = pd.read_csv('/datasets/geo_data_0.csv')\n",
    "df_1 = pd.read_csv('/datasets/geo_data_1.csv')\n",
    "df_2 = pd.read_csv('/datasets/geo_data_2.csv')\n",
    "\n",
    "dfs = [df_0, df_1, df_2]\n",
    "for df in dfs:\n",
    "    df.info()\n",
    "    print()\n",
    "    display(df.head())"
   ]
  },
  {
   "cell_type": "code",
   "execution_count": 3,
   "metadata": {},
   "outputs": [
    {
     "data": {
      "text/plain": [
       "<AxesSubplot:>"
      ]
     },
     "execution_count": 3,
     "metadata": {},
     "output_type": "execute_result"
    },
    {
     "data": {
      "image/png": "[encoded data removed]",
      "text/plain": [
       "<Figure size 432x288 with 2 Axes>"
      ]
     },
     "metadata": {
      "needs_background": "light"
     },
     "output_type": "display_data"
    }
   ],
   "source": [
    "corr_matrix_0 = df_0.drop('product',1).corr()\n",
    "sn.heatmap(corr_matrix_0, annot=True)"
   ]
  },
  {
   "cell_type": "code",
   "execution_count": 4,
   "metadata": {},
   "outputs": [
    {
     "data": {
      "text/plain": [
       "<AxesSubplot:>"
      ]
     },
     "execution_count": 4,
     "metadata": {},
     "output_type": "execute_result"
    },
    {
     "data": {
      "image/png": "[encoded data removed]",
      "text/plain": [
       "<Figure size 432x288 with 2 Axes>"
      ]
     },
     "metadata": {
      "needs_background": "light"
     },
     "output_type": "display_data"
    }
   ],
   "source": [
    "corr_matrix_1 = df_1.drop('product',1).corr()\n",
    "sn.heatmap(corr_matrix_1, annot=True)"
   ]
  },
  {
   "cell_type": "code",
   "execution_count": 5,
   "metadata": {},
   "outputs": [
    {
     "data": {
      "text/plain": [
       "<AxesSubplot:>"
      ]
     },
     "execution_count": 5,
     "metadata": {},
     "output_type": "execute_result"
    },
    {
     "data": {
      "image/png": "[encoded data removed]",
      "text/plain": [
       "<Figure size 432x288 with 2 Axes>"
      ]
     },
     "metadata": {
      "needs_background": "light"
     },
     "output_type": "display_data"
    }
   ],
   "source": [
    "corr_matrix_2 = df_2.drop('product',1).corr()\n",
    "sn.heatmap(corr_matrix_2, annot=True)"
   ]
  },
  {
   "cell_type": "markdown",
   "metadata": {},
   "source": [
    "### Conclusion\n",
    "\n",
    "The dataframes were researched at the first step. Each of them already has correct data types, does not contain missed values. The multocollinearity check was conducted - no high correlation was observed.\n",
    "The features for learning are `f0`, `f1` and `f2`. The target feature is `product`."
   ]
  },
  {
   "cell_type": "markdown",
   "metadata": {},
   "source": [
    "<a id='second'></a>\n",
    "## 2. Train and validate the models"
   ]
  },
  {
   "cell_type": "code",
   "execution_count": 6,
   "metadata": {},
   "outputs": [],
   "source": [
    "#function for calculating the average and rmse\n",
    "def rmse(target, predicted):\n",
    "    mse = mean_squared_error(target, predicted)\n",
    "    rmse = mse**(1/2)\n",
    "    print(\"Average predicted raw materials stock\", predicted.mean())\n",
    "    print(\"Model mean square error\", rmse)\n",
    "    print()"
   ]
  },
  {
   "cell_type": "code",
   "execution_count": 7,
   "metadata": {},
   "outputs": [
    {
     "name": "stdout",
     "output_type": "stream",
     "text": [
      "Sample shape: 75000 25000\n",
      "Average predicted raw materials stock 92.59256778438035\n",
      "Model mean square error 37.5794217150813\n",
      "\n"
     ]
    }
   ],
   "source": [
    "#save predictions and targets in separate variables and print rmse and mean value\n",
    "features_0 = df_0.drop(['id','product'],1)\n",
    "target_0 = df_0['product']\n",
    "features_train_0, features_valid_0, target_train_0, target_valid_0 = train_test_split(features_0, target_0, test_size=0.25, random_state=12345)\n",
    "print(\"Sample shape:\", features_train_0.shape[0], features_valid_0.shape[0])\n",
    "model = LinearRegression()\n",
    "model.fit(features_train_0, target_train_0)\n",
    "predicted_valid_0 = model.predict(features_valid_0)\n",
    "\n",
    "rmse(target_valid_0, predicted_valid_0)"
   ]
  },
  {
   "cell_type": "code",
   "execution_count": 8,
   "metadata": {},
   "outputs": [
    {
     "name": "stdout",
     "output_type": "stream",
     "text": [
      "Average predicted raw materials stock 68.728546895446\n",
      "Model mean square error 0.893099286775617\n",
      "\n"
     ]
    }
   ],
   "source": [
    "features_1 = df_1.drop(['id','product'],1)\n",
    "target_1 = df_1['product']\n",
    "features_train_1, features_valid_1, target_train_1, target_valid_1 = train_test_split(features_1, target_1, test_size=0.25, random_state=12345)\n",
    "model = LinearRegression()\n",
    "model.fit(features_train_1, target_train_1)\n",
    "predicted_valid_1 = model.predict(features_valid_1)\n",
    "\n",
    "rmse(target_valid_1, predicted_valid_1)"
   ]
  },
  {
   "cell_type": "code",
   "execution_count": 9,
   "metadata": {},
   "outputs": [
    {
     "name": "stdout",
     "output_type": "stream",
     "text": [
      "Average predicted raw materials stock 94.96504596800489\n",
      "Model mean square error 40.02970873393434\n",
      "\n"
     ]
    }
   ],
   "source": [
    "features_2 = df_2.drop(['id','product'],1)\n",
    "target_2 = df_2['product']\n",
    "features_train_2, features_valid_2, target_train_2, target_valid_2 = train_test_split(features_2, target_2, test_size=0.25, random_state=12345)\n",
    "model = LinearRegression()\n",
    "model.fit(features_train_2, target_train_2)\n",
    "predicted_valid_2 = model.predict(features_valid_2)\n",
    "\n",
    "rmse(target_valid_2, predicted_valid_2)"
   ]
  },
  {
   "cell_type": "markdown",
   "metadata": {},
   "source": [
    "### Conclusion\n",
    "\n",
    "A linear regression model was built for each region at the second step.\n",
    "The model for the second region demonstrated the highest `accuracy` - the root mean square error was only 0.89, while the error for the first and third regions was 37.57 and 40, respectively. The root mean square error in this case shows how much the model is wrong (in thousand barrels). With averages of 93 and 95 thousand barrels, an error of 38 and 40 thousand barrels may indicate that the true values will have a large spread."
   ]
  },
  {
   "cell_type": "markdown",
   "metadata": {},
   "source": [
    "<a id='third'></a>\n",
    "## Profit calculation preparation"
   ]
  },
  {
   "cell_type": "code",
   "execution_count": 10,
   "metadata": {},
   "outputs": [
    {
     "data": {
      "text/plain": [
       "111.11111111111111"
      ]
     },
     "execution_count": 10,
     "metadata": {},
     "output_type": "execute_result"
    }
   ],
   "source": [
    "barrel_price = 450 # revenue of 1 barrel\n",
    "costs = 10000000 #10 million, since the number of wells is in thousand, thus, the proceeds will be given in thousand rubles\n",
    "well_explore = 500 #number of wells for the research\n",
    "well_develop = 200 #number of wells to develop\n",
    "\n",
    "#costs = barrel_price*well_develop*product_breakeven - breakeven point formula\n",
    "product_breakeven = costs/(barrel_price*well_develop) #calculate breakeven point\n",
    "product_breakeven"
   ]
  },
  {
   "cell_type": "markdown",
   "metadata": {},
   "source": [
    "### Conclusion\n",
    "\n",
    "Preparatory work for the profit calculation has been done at this step.\n",
    "In order to reach the break-even point, it is necessary to produce an average of 111 thousand barrels per well. This value exceeds the average reserve of one well, however, since the best wells for development are selected, there is a chance that the development will be able to break even."
   ]
  },
  {
   "cell_type": "markdown",
   "metadata": {},
   "source": [
    "<a id='fourth'></a>\n",
    "## 4. Profit and risks calculation"
   ]
  },
  {
   "cell_type": "code",
   "execution_count": 11,
   "metadata": {},
   "outputs": [],
   "source": [
    "#breakeven point formula\n",
    "def profit(target, predictions, count):\n",
    "    predictions_sorted = predictions.sort_values(ascending=False)\n",
    "    selected = target[predictions_sorted.index][:count]\n",
    "    return (barrel_price*selected.sum() - costs) "
   ]
  },
  {
   "cell_type": "code",
   "execution_count": 12,
   "metadata": {},
   "outputs": [],
   "source": [
    "#risk and rewards calculation function using the bootstrap\n",
    "def bootstrap(target, predictions):\n",
    "    state = np.random.RandomState(12345)\n",
    "    values = []\n",
    "    values_negative = [] \n",
    "    target = target.reset_index(drop=True)\n",
    "    predictions = pd.Series(predictions)\n",
    "    for i in range(1000):\n",
    "        target_subsample = target.sample(n=well_explore, replace=True, random_state = state)\n",
    "        probabilities_subsample = predictions[target_subsample.index]\n",
    "        profit_oil = profit(target_subsample, probabilities_subsample, well_develop)\n",
    "        values.append(profit_oil)\n",
    "        if profit_oil<0:\n",
    "            values_negative.append(profit_oil)\n",
    "    \n",
    "    values = pd.Series(values)\n",
    "    values_negative = pd.Series(values_negative)\n",
    "    \n",
    "    mean = values.mean()\n",
    "    lower = values.quantile(0.025)\n",
    "    upper = values.quantile(0.975)\n",
    "    loss = values_negative.count()/values.count()\n",
    "    \n",
    "    print(f\"Average profit: {mean:,.0f} thou.rub.\")\n",
    "    print(f\"95% confidence interval: {lower:,.0f} thou.rub. : {upper:,.0f} thou.rub.\")\n",
    "    print(f\"Loss risk: {loss:.1%}\")\n",
    "    sn.distplot(values)"
   ]
  },
  {
   "cell_type": "code",
   "execution_count": 13,
   "metadata": {},
   "outputs": [
    {
     "name": "stdout",
     "output_type": "stream",
     "text": [
      "Average profit: 425,939 thou.rub.\n",
      "95% confidence interval: -102,090 thou.rub. : 947,976 thou.rub.\n",
      "Loss risk: 6.0%\n"
     ]
    },
    {
     "name": "stderr",
     "output_type": "stream",
     "text": [
      "/opt/conda/lib/python3.9/site-packages/seaborn/distributions.py:2557: FutureWarning: `distplot` is a deprecated function and will be removed in a future version. Please adapt your code to use either `displot` (a figure-level function with similar flexibility) or `histplot` (an axes-level function for histograms).\n",
      "  warnings.warn(msg, FutureWarning)\n"
     ]
    },
    {
     "data": {
      "image/png": "[encoded data removed]",
      "text/plain": [
       "<Figure size 432x288 with 1 Axes>"
      ]
     },
     "metadata": {
      "needs_background": "light"
     },
     "output_type": "display_data"
    }
   ],
   "source": [
    "#risk and profits calculation region wise\n",
    "bootstrap(target_valid_0, predicted_valid_0)"
   ]
  },
  {
   "cell_type": "code",
   "execution_count": 14,
   "metadata": {},
   "outputs": [
    {
     "name": "stdout",
     "output_type": "stream",
     "text": [
      "Average profit: 515,223 thou.rub.\n",
      "95% confidence interval: 68,873 thou.rub. : 931,548 thou.rub.\n",
      "Loss risk: 1.0%\n"
     ]
    },
    {
     "name": "stderr",
     "output_type": "stream",
     "text": [
      "/opt/conda/lib/python3.9/site-packages/seaborn/distributions.py:2557: FutureWarning: `distplot` is a deprecated function and will be removed in a future version. Please adapt your code to use either `displot` (a figure-level function with similar flexibility) or `histplot` (an axes-level function for histograms).\n",
      "  warnings.warn(msg, FutureWarning)\n"
     ]
    },
    {
     "data": {
      "image/png": "[encoded data removed]",
      "text/plain": [
       "<Figure size 432x288 with 1 Axes>"
      ]
     },
     "metadata": {
      "needs_background": "light"
     },
     "output_type": "display_data"
    }
   ],
   "source": [
    "#risk and profits calculation region wise\n",
    "bootstrap(target_valid_1, predicted_valid_1)"
   ]
  },
  {
   "cell_type": "code",
   "execution_count": 15,
   "metadata": {
    "scrolled": true
   },
   "outputs": [
    {
     "name": "stdout",
     "output_type": "stream",
     "text": [
      "Average profit: 435,008 thou.rub.\n",
      "95% confidence interval: -128,881 thou.rub. : 969,707 thou.rub.\n",
      "Loss risk: 6.4%\n"
     ]
    },
    {
     "name": "stderr",
     "output_type": "stream",
     "text": [
      "/opt/conda/lib/python3.9/site-packages/seaborn/distributions.py:2557: FutureWarning: `distplot` is a deprecated function and will be removed in a future version. Please adapt your code to use either `displot` (a figure-level function with similar flexibility) or `histplot` (an axes-level function for histograms).\n",
      "  warnings.warn(msg, FutureWarning)\n"
     ]
    },
    {
     "data": {
      "image/png": "[encoded data removed]",
      "text/plain": [
       "<Figure size 432x288 with 1 Axes>"
      ]
     },
     "metadata": {
      "needs_background": "light"
     },
     "output_type": "display_data"
    }
   ],
   "source": [
    "#risk and profits calculation region wise\n",
    "bootstrap(target_valid_2, predicted_valid_2)"
   ]
  },
  {
   "cell_type": "markdown",
   "metadata": {},
   "source": [
    "### Conclusion\n",
    "\n",
    "The last step was dedicated to the profit calculation using the *Bootstrap* technique: calculation of the average profit, 95% interval and the risk of a loss for each region. Profit distribution graphs were also displayed, the distribution in all regions corresponds to the normal.\n",
    "\n",
    "The second region has shown the highest figures - on average, profit is 515 million rubles, against 426 and 435 million rubles in other regions, the risk of loss is 1% versus 6% and 6.4% in the other two regions, the 95% confidence interval includes positive values. The graph shows that the minimum value in the second region is also lower (-250 million rubles, against - 500 million rubles in other regions)."
   ]
  },
  {
   "cell_type": "markdown",
   "metadata": {},
   "source": [
    "<a id='fifth'></a>\n",
    "## 5. Summary\n",
    "\n",
    "Based on the data obtained after the *Bootsrtap* technique application, the **second region** is the most attractive region for the well development. With 95% certainty, it can be argued that the break-even point will be reached. At the same time, the region showed the highest rate of profitability on average, as well as the lowest risk of losses. It was also the only region where the probability of loss is less than 2.5%, which is in line with the target of the task."
   ]
  }
 ],
 "metadata": {
  "ExecuteTimeLog": [
   {
    "duration": 527,
    "start_time": "2022-03-20T19:02:52.055Z"
   },
   {
    "duration": 452,
    "start_time": "2022-03-20T19:05:26.360Z"
   },
   {
    "duration": 449,
    "start_time": "2022-03-20T19:06:17.671Z"
   },
   {
    "duration": 483,
    "start_time": "2022-03-20T19:06:23.798Z"
   },
   {
    "duration": 672,
    "start_time": "2022-03-20T19:06:32.279Z"
   },
   {
    "duration": 459,
    "start_time": "2022-03-20T19:06:52.036Z"
   },
   {
    "duration": 487,
    "start_time": "2022-03-20T19:07:08.201Z"
   },
   {
    "duration": 535,
    "start_time": "2022-03-20T19:07:28.827Z"
   },
   {
    "duration": 627,
    "start_time": "2022-03-20T19:07:31.489Z"
   },
   {
    "duration": 465,
    "start_time": "2022-03-20T19:07:42.307Z"
   },
   {
    "duration": 472,
    "start_time": "2022-03-20T19:07:45.111Z"
   },
   {
    "duration": 495,
    "start_time": "2022-03-20T19:07:55.874Z"
   },
   {
    "duration": 468,
    "start_time": "2022-03-20T19:08:06.320Z"
   },
   {
    "duration": 474,
    "start_time": "2022-03-20T19:08:09.150Z"
   },
   {
    "duration": 445,
    "start_time": "2022-03-20T19:08:15.272Z"
   },
   {
    "duration": 469,
    "start_time": "2022-03-20T19:08:22.788Z"
   },
   {
    "duration": 452,
    "start_time": "2022-03-20T19:09:25.917Z"
   },
   {
    "duration": 453,
    "start_time": "2022-03-20T19:09:29.858Z"
   },
   {
    "duration": 473,
    "start_time": "2022-03-20T19:10:14.984Z"
   },
   {
    "duration": 610,
    "start_time": "2022-03-20T19:10:36.027Z"
   },
   {
    "duration": 447,
    "start_time": "2022-03-20T19:10:45.152Z"
   },
   {
    "duration": 446,
    "start_time": "2022-03-20T19:10:47.645Z"
   },
   {
    "duration": 454,
    "start_time": "2022-03-20T19:10:51.718Z"
   },
   {
    "duration": 520,
    "start_time": "2022-03-20T19:10:59.451Z"
   },
   {
    "duration": 441,
    "start_time": "2022-03-20T19:11:11.860Z"
   },
   {
    "duration": 435,
    "start_time": "2022-03-20T19:11:25.381Z"
   },
   {
    "duration": 609,
    "start_time": "2022-03-20T19:11:31.254Z"
   },
   {
    "duration": 674,
    "start_time": "2022-03-20T19:11:34.563Z"
   },
   {
    "duration": 416,
    "start_time": "2022-03-20T19:11:42.118Z"
   },
   {
    "duration": 441,
    "start_time": "2022-03-20T19:11:51.831Z"
   },
   {
    "duration": 452,
    "start_time": "2022-03-20T19:11:57.770Z"
   },
   {
    "duration": 478,
    "start_time": "2022-03-20T19:12:00.752Z"
   },
   {
    "duration": 483,
    "start_time": "2022-03-20T19:12:10.345Z"
   },
   {
    "duration": 457,
    "start_time": "2022-03-20T19:12:15.287Z"
   },
   {
    "duration": 683,
    "start_time": "2022-03-20T19:12:21.929Z"
   },
   {
    "duration": 716,
    "start_time": "2022-03-20T19:16:23.797Z"
   },
   {
    "duration": 483,
    "start_time": "2022-03-20T19:16:40.567Z"
   },
   {
    "duration": 471,
    "start_time": "2022-03-20T19:16:46.611Z"
   },
   {
    "duration": 541,
    "start_time": "2022-03-20T19:17:17.296Z"
   },
   {
    "duration": 1363,
    "start_time": "2022-03-20T19:21:06.324Z"
   },
   {
    "duration": 62,
    "start_time": "2022-03-20T19:22:14.193Z"
   },
   {
    "duration": 713,
    "start_time": "2022-03-20T19:22:25.740Z"
   },
   {
    "duration": 478,
    "start_time": "2022-03-20T19:22:28.892Z"
   },
   {
    "duration": 657,
    "start_time": "2022-03-20T19:23:03.589Z"
   },
   {
    "duration": 55,
    "start_time": "2022-03-20T19:23:46.597Z"
   },
   {
    "duration": 795,
    "start_time": "2022-03-20T19:23:59.881Z"
   },
   {
    "duration": 366,
    "start_time": "2022-03-20T19:24:36.661Z"
   },
   {
    "duration": 362,
    "start_time": "2022-03-20T19:25:28.724Z"
   },
   {
    "duration": 35,
    "start_time": "2022-03-20T19:25:34.185Z"
   },
   {
    "duration": 34,
    "start_time": "2022-03-20T19:25:39.427Z"
   },
   {
    "duration": 35,
    "start_time": "2022-03-20T19:25:45.149Z"
   },
   {
    "duration": 34,
    "start_time": "2022-03-20T19:25:46.743Z"
   },
   {
    "duration": 638,
    "start_time": "2022-03-20T19:25:55.752Z"
   },
   {
    "duration": 795,
    "start_time": "2022-03-20T19:26:42.717Z"
   },
   {
    "duration": 29,
    "start_time": "2022-03-20T19:26:56.505Z"
   },
   {
    "duration": 607,
    "start_time": "2022-03-20T19:27:26.752Z"
   },
   {
    "duration": 636,
    "start_time": "2022-03-20T19:27:57.427Z"
   },
   {
    "duration": 845,
    "start_time": "2022-03-20T19:28:22.393Z"
   },
   {
    "duration": 716,
    "start_time": "2022-03-20T19:28:38.667Z"
   },
   {
    "duration": 409,
    "start_time": "2022-03-20T19:29:16.713Z"
   },
   {
    "duration": 750,
    "start_time": "2022-03-20T19:29:44.520Z"
   },
   {
    "duration": 376,
    "start_time": "2022-03-20T19:29:52.635Z"
   },
   {
    "duration": 361,
    "start_time": "2022-03-20T19:29:58.738Z"
   },
   {
    "duration": 355,
    "start_time": "2022-03-20T19:30:05.365Z"
   },
   {
    "duration": 18,
    "start_time": "2022-03-20T19:32:00.164Z"
   },
   {
    "duration": 19,
    "start_time": "2022-03-20T19:32:17.482Z"
   },
   {
    "duration": 21,
    "start_time": "2022-03-20T19:32:29.786Z"
   },
   {
    "duration": 14,
    "start_time": "2022-03-20T19:32:39.652Z"
   },
   {
    "duration": 13,
    "start_time": "2022-03-20T19:32:50.491Z"
   },
   {
    "duration": 18,
    "start_time": "2022-03-20T19:38:48.983Z"
   },
   {
    "duration": 6,
    "start_time": "2022-03-20T19:39:55.341Z"
   },
   {
    "duration": 20,
    "start_time": "2022-03-20T19:39:59.294Z"
   },
   {
    "duration": 21,
    "start_time": "2022-03-20T19:40:13.333Z"
   },
   {
    "duration": 30,
    "start_time": "2022-03-20T19:40:34.946Z"
   },
   {
    "duration": 35,
    "start_time": "2022-03-20T19:40:44.588Z"
   },
   {
    "duration": 29,
    "start_time": "2022-03-20T19:41:06.545Z"
   },
   {
    "duration": 29,
    "start_time": "2022-03-20T19:41:08.888Z"
   },
   {
    "duration": 542,
    "start_time": "2022-03-20T19:41:46.943Z"
   },
   {
    "duration": 419,
    "start_time": "2022-03-20T19:41:58.059Z"
   },
   {
    "duration": 421,
    "start_time": "2022-03-20T19:47:19.157Z"
   },
   {
    "duration": 393,
    "start_time": "2022-03-20T20:13:03.386Z"
   },
   {
    "duration": 388,
    "start_time": "2022-03-20T20:13:21.493Z"
   },
   {
    "duration": 386,
    "start_time": "2022-03-20T20:14:05.390Z"
   },
   {
    "duration": 543,
    "start_time": "2022-03-20T20:15:17.626Z"
   },
   {
    "duration": 378,
    "start_time": "2022-03-20T20:15:32.105Z"
   },
   {
    "duration": 31,
    "start_time": "2022-03-20T20:16:22.986Z"
   },
   {
    "duration": 388,
    "start_time": "2022-03-20T20:16:39.491Z"
   },
   {
    "duration": 29,
    "start_time": "2022-03-20T20:17:00.251Z"
   },
   {
    "duration": 28,
    "start_time": "2022-03-20T20:17:08.709Z"
   },
   {
    "duration": 427,
    "start_time": "2022-03-20T20:17:17.152Z"
   },
   {
    "duration": 424,
    "start_time": "2022-03-20T20:17:24.753Z"
   },
   {
    "duration": 552,
    "start_time": "2022-03-20T20:17:50.716Z"
   },
   {
    "duration": 4,
    "start_time": "2022-03-20T20:27:13.591Z"
   },
   {
    "duration": 7,
    "start_time": "2022-03-20T20:30:08.645Z"
   },
   {
    "duration": 8,
    "start_time": "2022-03-20T20:31:00.200Z"
   },
   {
    "duration": 14,
    "start_time": "2022-03-21T20:45:40.711Z"
   },
   {
    "duration": 4,
    "start_time": "2022-03-21T20:45:45.288Z"
   },
   {
    "duration": 3,
    "start_time": "2022-03-21T21:03:27.994Z"
   },
   {
    "duration": 4,
    "start_time": "2022-03-21T21:04:13.222Z"
   },
   {
    "duration": 46,
    "start_time": "2022-03-21T21:04:16.035Z"
   },
   {
    "duration": 1959,
    "start_time": "2022-03-21T21:04:26.913Z"
   },
   {
    "duration": 500,
    "start_time": "2022-03-21T21:04:28.874Z"
   },
   {
    "duration": 405,
    "start_time": "2022-03-21T21:04:29.375Z"
   },
   {
    "duration": 325,
    "start_time": "2022-03-21T21:04:29.783Z"
   },
   {
    "duration": 329,
    "start_time": "2022-03-21T21:04:30.110Z"
   },
   {
    "duration": 408,
    "start_time": "2022-03-21T21:04:30.441Z"
   },
   {
    "duration": 7,
    "start_time": "2022-03-21T21:04:30.933Z"
   },
   {
    "duration": 20,
    "start_time": "2022-03-21T21:04:31.032Z"
   },
   {
    "duration": 134,
    "start_time": "2022-03-21T21:04:31.054Z"
   },
   {
    "duration": 6,
    "start_time": "2022-03-21T21:05:17.139Z"
   },
   {
    "duration": 4,
    "start_time": "2022-03-21T21:06:45.899Z"
   },
   {
    "duration": 16,
    "start_time": "2022-03-21T21:06:49.015Z"
   },
   {
    "duration": 5,
    "start_time": "2022-03-21T21:07:07.813Z"
   },
   {
    "duration": 6,
    "start_time": "2022-03-21T21:07:17.262Z"
   },
   {
    "duration": 6,
    "start_time": "2022-03-21T21:07:31.418Z"
   },
   {
    "duration": 6,
    "start_time": "2022-03-21T21:08:09.286Z"
   },
   {
    "duration": 3,
    "start_time": "2022-03-21T21:10:06.091Z"
   },
   {
    "duration": 6,
    "start_time": "2022-03-21T21:10:23.997Z"
   },
   {
    "duration": 6,
    "start_time": "2022-03-21T21:10:30.510Z"
   },
   {
    "duration": 6,
    "start_time": "2022-03-21T21:10:34.118Z"
   },
   {
    "duration": 10,
    "start_time": "2022-03-21T21:10:45.032Z"
   },
   {
    "duration": 6,
    "start_time": "2022-03-21T21:10:53.811Z"
   },
   {
    "duration": 4,
    "start_time": "2022-03-21T21:11:31.396Z"
   },
   {
    "duration": 21,
    "start_time": "2022-03-21T21:11:32.947Z"
   },
   {
    "duration": 7,
    "start_time": "2022-03-21T21:12:22.162Z"
   },
   {
    "duration": 10,
    "start_time": "2022-03-21T21:12:35.361Z"
   },
   {
    "duration": 14,
    "start_time": "2022-03-21T21:12:43.349Z"
   },
   {
    "duration": 13,
    "start_time": "2022-03-21T21:12:52.206Z"
   },
   {
    "duration": 8,
    "start_time": "2022-03-21T21:13:01.362Z"
   },
   {
    "duration": 8,
    "start_time": "2022-03-21T21:13:05.531Z"
   },
   {
    "duration": 6,
    "start_time": "2022-03-21T21:13:10.658Z"
   },
   {
    "duration": 4,
    "start_time": "2022-03-21T21:16:33.732Z"
   },
   {
    "duration": 12,
    "start_time": "2022-03-21T21:16:44.665Z"
   },
   {
    "duration": 1550,
    "start_time": "2022-03-21T21:26:08.367Z"
   },
   {
    "duration": 446,
    "start_time": "2022-03-21T21:26:09.919Z"
   },
   {
    "duration": 138,
    "start_time": "2022-03-21T21:26:10.367Z"
   },
   {
    "duration": 0,
    "start_time": "2022-03-21T21:26:10.507Z"
   },
   {
    "duration": 0,
    "start_time": "2022-03-21T21:26:10.510Z"
   },
   {
    "duration": 0,
    "start_time": "2022-03-21T21:26:10.511Z"
   },
   {
    "duration": 0,
    "start_time": "2022-03-21T21:26:10.513Z"
   },
   {
    "duration": 0,
    "start_time": "2022-03-21T21:26:10.514Z"
   },
   {
    "duration": 0,
    "start_time": "2022-03-21T21:26:10.515Z"
   },
   {
    "duration": 2350,
    "start_time": "2022-03-21T21:26:25.019Z"
   },
   {
    "duration": 463,
    "start_time": "2022-03-21T21:26:27.370Z"
   },
   {
    "duration": 322,
    "start_time": "2022-03-21T21:26:27.838Z"
   },
   {
    "duration": 298,
    "start_time": "2022-03-21T21:26:28.162Z"
   },
   {
    "duration": 290,
    "start_time": "2022-03-21T21:26:28.461Z"
   },
   {
    "duration": 387,
    "start_time": "2022-03-21T21:26:28.752Z"
   },
   {
    "duration": 198,
    "start_time": "2022-03-21T21:26:29.142Z"
   },
   {
    "duration": 90,
    "start_time": "2022-03-21T21:26:29.344Z"
   },
   {
    "duration": 94,
    "start_time": "2022-03-21T21:26:29.438Z"
   },
   {
    "duration": 1569,
    "start_time": "2022-03-21T21:30:31.969Z"
   },
   {
    "duration": 459,
    "start_time": "2022-03-21T21:30:33.540Z"
   },
   {
    "duration": 339,
    "start_time": "2022-03-21T21:30:34.001Z"
   },
   {
    "duration": 280,
    "start_time": "2022-03-21T21:30:34.342Z"
   },
   {
    "duration": 312,
    "start_time": "2022-03-21T21:30:34.632Z"
   },
   {
    "duration": 394,
    "start_time": "2022-03-21T21:30:34.946Z"
   },
   {
    "duration": 206,
    "start_time": "2022-03-21T21:30:35.343Z"
   },
   {
    "duration": 194,
    "start_time": "2022-03-21T21:30:35.553Z"
   },
   {
    "duration": 198,
    "start_time": "2022-03-21T21:30:35.750Z"
   },
   {
    "duration": 83,
    "start_time": "2022-03-21T21:30:35.952Z"
   },
   {
    "duration": 107,
    "start_time": "2022-03-21T21:30:36.037Z"
   },
   {
    "duration": 10,
    "start_time": "2022-03-21T21:33:15.995Z"
   },
   {
    "duration": 10,
    "start_time": "2022-03-21T21:33:46.378Z"
   },
   {
    "duration": 10,
    "start_time": "2022-03-21T21:34:01.898Z"
   },
   {
    "duration": 10,
    "start_time": "2022-03-21T21:34:06.369Z"
   },
   {
    "duration": 4,
    "start_time": "2022-03-21T21:36:00.168Z"
   },
   {
    "duration": 114,
    "start_time": "2022-03-21T22:00:20.770Z"
   },
   {
    "duration": 3,
    "start_time": "2022-03-21T22:01:34.875Z"
   },
   {
    "duration": 4,
    "start_time": "2022-03-21T22:01:42.246Z"
   },
   {
    "duration": 1328,
    "start_time": "2022-03-21T22:01:44.271Z"
   },
   {
    "duration": 1211,
    "start_time": "2022-03-21T22:07:28.185Z"
   },
   {
    "duration": 1270,
    "start_time": "2022-03-21T22:07:50.953Z"
   },
   {
    "duration": 1416,
    "start_time": "2022-03-21T22:09:13.074Z"
   },
   {
    "duration": 1549,
    "start_time": "2022-03-21T22:09:44.155Z"
   },
   {
    "duration": 1461,
    "start_time": "2022-03-21T22:10:03.747Z"
   },
   {
    "duration": 1440,
    "start_time": "2022-03-21T22:28:38.237Z"
   },
   {
    "duration": 4,
    "start_time": "2022-03-22T18:10:55.948Z"
   },
   {
    "duration": 3,
    "start_time": "2022-03-22T18:12:04.420Z"
   },
   {
    "duration": 1204,
    "start_time": "2022-03-22T18:12:40.897Z"
   },
   {
    "duration": 392,
    "start_time": "2022-03-22T18:12:42.103Z"
   },
   {
    "duration": 309,
    "start_time": "2022-03-22T18:12:42.497Z"
   },
   {
    "duration": 298,
    "start_time": "2022-03-22T18:12:42.808Z"
   },
   {
    "duration": 292,
    "start_time": "2022-03-22T18:12:43.108Z"
   },
   {
    "duration": 3,
    "start_time": "2022-03-22T18:12:43.402Z"
   },
   {
    "duration": 81,
    "start_time": "2022-03-22T18:12:43.406Z"
   },
   {
    "duration": 120,
    "start_time": "2022-03-22T18:12:43.534Z"
   },
   {
    "duration": 193,
    "start_time": "2022-03-22T18:12:43.656Z"
   },
   {
    "duration": 83,
    "start_time": "2022-03-22T18:12:43.852Z"
   },
   {
    "duration": 106,
    "start_time": "2022-03-22T18:12:43.937Z"
   },
   {
    "duration": 3513,
    "start_time": "2022-03-22T18:12:44.044Z"
   },
   {
    "duration": 7,
    "start_time": "2022-03-22T18:30:20.688Z"
   },
   {
    "duration": 989,
    "start_time": "2022-03-22T18:32:39.993Z"
   },
   {
    "duration": 6,
    "start_time": "2022-03-22T18:33:05.793Z"
   },
   {
    "duration": 4771,
    "start_time": "2022-03-22T18:33:08.160Z"
   },
   {
    "duration": 6,
    "start_time": "2022-03-22T18:33:53.459Z"
   },
   {
    "duration": 3368,
    "start_time": "2022-03-22T18:33:55.634Z"
   },
   {
    "duration": 8,
    "start_time": "2022-03-22T18:34:09.286Z"
   },
   {
    "duration": 3256,
    "start_time": "2022-03-22T18:34:11.289Z"
   },
   {
    "duration": 3414,
    "start_time": "2022-03-22T18:35:13.832Z"
   },
   {
    "duration": 3541,
    "start_time": "2022-03-22T18:35:30.304Z"
   },
   {
    "duration": 6,
    "start_time": "2022-03-22T19:57:52.752Z"
   },
   {
    "duration": 3679,
    "start_time": "2022-03-22T19:57:55.240Z"
   },
   {
    "duration": 6,
    "start_time": "2022-03-22T19:58:13.795Z"
   },
   {
    "duration": 5147,
    "start_time": "2022-03-22T19:58:16.359Z"
   },
   {
    "duration": 6,
    "start_time": "2022-03-22T20:00:06.945Z"
   },
   {
    "duration": 3293,
    "start_time": "2022-03-22T20:00:08.604Z"
   },
   {
    "duration": 5,
    "start_time": "2022-03-22T20:04:14.514Z"
   },
   {
    "duration": 3727,
    "start_time": "2022-03-22T20:04:16.398Z"
   },
   {
    "duration": 5,
    "start_time": "2022-03-22T20:05:10.260Z"
   },
   {
    "duration": 3611,
    "start_time": "2022-03-22T20:05:12.150Z"
   },
   {
    "duration": 77,
    "start_time": "2022-03-22T20:07:03.655Z"
   },
   {
    "duration": 5,
    "start_time": "2022-03-22T20:07:07.229Z"
   },
   {
    "duration": 3397,
    "start_time": "2022-03-22T20:07:09.021Z"
   },
   {
    "duration": 5,
    "start_time": "2022-03-22T20:07:21.805Z"
   },
   {
    "duration": 3290,
    "start_time": "2022-03-22T20:07:23.650Z"
   },
   {
    "duration": 112,
    "start_time": "2022-03-22T20:08:17.682Z"
   },
   {
    "duration": 4055,
    "start_time": "2022-03-22T20:08:19.333Z"
   },
   {
    "duration": 6,
    "start_time": "2022-03-22T20:08:31.349Z"
   },
   {
    "duration": 65,
    "start_time": "2022-03-22T20:10:13.838Z"
   },
   {
    "duration": 59,
    "start_time": "2022-03-22T20:10:17.379Z"
   },
   {
    "duration": 53,
    "start_time": "2022-03-22T20:10:25.725Z"
   },
   {
    "duration": 451,
    "start_time": "2022-03-22T20:14:00.992Z"
   },
   {
    "duration": 7,
    "start_time": "2022-03-22T20:15:26.200Z"
   },
   {
    "duration": 3485,
    "start_time": "2022-03-22T20:15:28.348Z"
   },
   {
    "duration": 10,
    "start_time": "2022-03-22T20:15:39.751Z"
   },
   {
    "duration": 5611,
    "start_time": "2022-03-22T20:15:42.613Z"
   },
   {
    "duration": 5,
    "start_time": "2022-03-22T20:17:40.766Z"
   },
   {
    "duration": 3359,
    "start_time": "2022-03-22T20:17:42.680Z"
   },
   {
    "duration": 65,
    "start_time": "2022-03-22T20:22:13.907Z"
   },
   {
    "duration": 56,
    "start_time": "2022-03-22T20:22:16.563Z"
   },
   {
    "duration": 420,
    "start_time": "2022-03-22T20:22:28.845Z"
   },
   {
    "duration": 5,
    "start_time": "2022-03-22T20:22:35.895Z"
   },
   {
    "duration": 6,
    "start_time": "2022-03-22T20:23:17.894Z"
   },
   {
    "duration": 3777,
    "start_time": "2022-03-22T20:23:20.661Z"
   },
   {
    "duration": 5,
    "start_time": "2022-03-22T20:24:56.749Z"
   },
   {
    "duration": 3354,
    "start_time": "2022-03-22T20:24:59.480Z"
   },
   {
    "duration": 6,
    "start_time": "2022-03-22T20:28:46.514Z"
   },
   {
    "duration": 3630,
    "start_time": "2022-03-22T20:28:48.770Z"
   },
   {
    "duration": 6,
    "start_time": "2022-03-22T20:29:00.258Z"
   },
   {
    "duration": 3278,
    "start_time": "2022-03-22T20:29:01.774Z"
   },
   {
    "duration": 6,
    "start_time": "2022-03-22T20:29:15.658Z"
   },
   {
    "duration": 3457,
    "start_time": "2022-03-22T20:29:17.712Z"
   },
   {
    "duration": 5,
    "start_time": "2022-03-22T20:29:33.886Z"
   },
   {
    "duration": 3299,
    "start_time": "2022-03-22T20:29:35.450Z"
   },
   {
    "duration": 5,
    "start_time": "2022-03-22T20:30:01.248Z"
   },
   {
    "duration": 6,
    "start_time": "2022-03-22T20:30:05.806Z"
   },
   {
    "duration": 3534,
    "start_time": "2022-03-22T20:30:07.205Z"
   },
   {
    "duration": 5,
    "start_time": "2022-03-22T20:30:38.549Z"
   },
   {
    "duration": 3294,
    "start_time": "2022-03-22T20:30:40.472Z"
   },
   {
    "duration": 6,
    "start_time": "2022-03-22T20:31:28.098Z"
   },
   {
    "duration": 3417,
    "start_time": "2022-03-22T20:31:29.997Z"
   },
   {
    "duration": 6,
    "start_time": "2022-03-22T20:32:13.923Z"
   },
   {
    "duration": 3293,
    "start_time": "2022-03-22T20:32:15.477Z"
   },
   {
    "duration": 95,
    "start_time": "2022-03-22T20:32:28.215Z"
   },
   {
    "duration": 3444,
    "start_time": "2022-03-22T20:32:29.940Z"
   },
   {
    "duration": 5,
    "start_time": "2022-03-22T20:32:36.217Z"
   },
   {
    "duration": 3275,
    "start_time": "2022-03-22T20:32:37.919Z"
   },
   {
    "duration": 5,
    "start_time": "2022-03-22T20:33:11.367Z"
   },
   {
    "duration": 3,
    "start_time": "2022-03-22T20:33:49.221Z"
   },
   {
    "duration": 168,
    "start_time": "2022-03-22T20:34:18.673Z"
   },
   {
    "duration": 4,
    "start_time": "2022-03-22T20:34:29.837Z"
   },
   {
    "duration": 4,
    "start_time": "2022-03-22T20:34:44.388Z"
   },
   {
    "duration": 3,
    "start_time": "2022-03-22T20:34:49.661Z"
   },
   {
    "duration": 5,
    "start_time": "2022-03-22T20:35:09.009Z"
   },
   {
    "duration": 3248,
    "start_time": "2022-03-22T20:35:10.766Z"
   },
   {
    "duration": 5,
    "start_time": "2022-03-22T20:36:44.735Z"
   },
   {
    "duration": 3385,
    "start_time": "2022-03-22T20:36:46.048Z"
   },
   {
    "duration": 6,
    "start_time": "2022-03-22T20:37:13.558Z"
   },
   {
    "duration": 3277,
    "start_time": "2022-03-22T20:37:15.348Z"
   },
   {
    "duration": 1161,
    "start_time": "2022-03-22T20:37:33.833Z"
   },
   {
    "duration": 400,
    "start_time": "2022-03-22T20:37:34.996Z"
   },
   {
    "duration": 321,
    "start_time": "2022-03-22T20:37:35.398Z"
   },
   {
    "duration": 299,
    "start_time": "2022-03-22T20:37:35.721Z"
   },
   {
    "duration": 311,
    "start_time": "2022-03-22T20:37:36.022Z"
   },
   {
    "duration": 3,
    "start_time": "2022-03-22T20:37:36.334Z"
   },
   {
    "duration": 36,
    "start_time": "2022-03-22T20:37:36.339Z"
   },
   {
    "duration": 171,
    "start_time": "2022-03-22T20:37:36.378Z"
   },
   {
    "duration": 196,
    "start_time": "2022-03-22T20:37:36.552Z"
   },
   {
    "duration": 84,
    "start_time": "2022-03-22T20:37:36.751Z"
   },
   {
    "duration": 104,
    "start_time": "2022-03-22T20:37:36.838Z"
   },
   {
    "duration": 9,
    "start_time": "2022-03-22T20:37:36.944Z"
   },
   {
    "duration": 3269,
    "start_time": "2022-03-22T20:37:36.955Z"
   },
   {
    "duration": 3421,
    "start_time": "2022-03-22T20:37:40.226Z"
   },
   {
    "duration": 3297,
    "start_time": "2022-03-22T20:37:43.648Z"
   },
   {
    "duration": 1104,
    "start_time": "2022-03-22T20:47:14.386Z"
   },
   {
    "duration": 399,
    "start_time": "2022-03-22T20:47:15.492Z"
   },
   {
    "duration": 308,
    "start_time": "2022-03-22T20:47:15.897Z"
   },
   {
    "duration": 286,
    "start_time": "2022-03-22T20:47:16.206Z"
   },
   {
    "duration": 296,
    "start_time": "2022-03-22T20:47:16.493Z"
   },
   {
    "duration": 3,
    "start_time": "2022-03-22T20:47:16.792Z"
   },
   {
    "duration": 136,
    "start_time": "2022-03-22T20:47:16.798Z"
   },
   {
    "duration": 120,
    "start_time": "2022-03-22T20:47:16.938Z"
   },
   {
    "duration": 120,
    "start_time": "2022-03-22T20:47:17.136Z"
   },
   {
    "duration": 77,
    "start_time": "2022-03-22T20:47:17.258Z"
   },
   {
    "duration": 99,
    "start_time": "2022-03-22T20:47:17.338Z"
   },
   {
    "duration": 6,
    "start_time": "2022-03-22T20:47:17.439Z"
   },
   {
    "duration": 3342,
    "start_time": "2022-03-22T20:47:17.447Z"
   },
   {
    "duration": 3892,
    "start_time": "2022-03-22T20:47:20.790Z"
   },
   {
    "duration": 3259,
    "start_time": "2022-03-22T20:47:24.683Z"
   },
   {
    "duration": 1358,
    "start_time": "2022-09-07T18:20:54.142Z"
   },
   {
    "duration": 1806,
    "start_time": "2022-09-07T18:20:55.502Z"
   },
   {
    "duration": 352,
    "start_time": "2022-09-07T18:20:57.311Z"
   },
   {
    "duration": 264,
    "start_time": "2022-09-07T18:20:57.665Z"
   },
   {
    "duration": 273,
    "start_time": "2022-09-07T18:20:57.931Z"
   },
   {
    "duration": 3,
    "start_time": "2022-09-07T18:20:58.205Z"
   },
   {
    "duration": 54,
    "start_time": "2022-09-07T18:20:58.209Z"
   },
   {
    "duration": 190,
    "start_time": "2022-09-07T18:20:58.265Z"
   },
   {
    "duration": 107,
    "start_time": "2022-09-07T18:20:58.457Z"
   },
   {
    "duration": 5,
    "start_time": "2022-09-07T18:20:58.565Z"
   },
   {
    "duration": 186,
    "start_time": "2022-09-07T18:20:58.571Z"
   },
   {
    "duration": 14,
    "start_time": "2022-09-07T18:20:58.760Z"
   },
   {
    "duration": 1381,
    "start_time": "2022-09-07T18:20:58.776Z"
   },
   {
    "duration": 1467,
    "start_time": "2022-09-07T18:21:00.159Z"
   },
   {
    "duration": 1412,
    "start_time": "2022-09-07T18:21:01.628Z"
   }
  ],
  "kernelspec": {
   "display_name": "Python 3 (ipykernel)",
   "language": "python",
   "name": "python3"
  },
  "language_info": {
   "codemirror_mode": {
    "name": "ipython",
    "version": 3
   },
   "file_extension": ".py",
   "mimetype": "text/x-python",
   "name": "python",
   "nbconvert_exporter": "python",
   "pygments_lexer": "ipython3",
   "version": "3.9.12"
  },
  "toc": {
   "base_numbering": 1,
   "nav_menu": {},
   "number_sections": true,
   "sideBar": true,
   "skip_h1_title": true,
   "title_cell": "Table of Contents",
   "title_sidebar": "Contents",
   "toc_cell": false,
   "toc_position": {},
   "toc_section_display": true,
   "toc_window_display": false
  }
 },
 "nbformat": 4,
 "nbformat_minor": 2
}
