{
 "cells": [
  {
   "cell_type": "markdown",
   "metadata": {},
   "source": [
    "# Console gaming industry research"
   ]
  },
  {
   "cell_type": "markdown",
   "metadata": {},
   "source": [
    "**Project aim:** to identify patterns that determine the success of the console game. <br/>\n",
    "**The project is being implemented** for an online store, which sells computer games all over the world. The project is carried out to plan advertising campaigns for 2017. <br/>\n",
    "**Primary data:** historical data on game sales, user and expert ratings, genres and platforms (such as Xbox or PlayStation) from open sources up to 2016.\n",
    "\n",
    "**Project contents**<br/>\n",
    "\n",
    "<a href='#first'>1) Examine the data</a> <br/>\n",
    "<a href='#second'>2) Data preprocesing</a> <br/>\n",
    "<a href='#third'>3) Exploratory Data Analysis</a> <br/>\n",
    "<a href='#fourth'>4) User portrait by region</a> <br/>\n",
    "<a href='#fifth'>5) Hypothesis testing</a> <br/>\n",
    "<a href='#sixth'>6) Summary</a>"
   ]
  },
  {
   "cell_type": "markdown",
   "metadata": {},
   "source": [
    "<a id='first'></a>\n",
    "## 1. Examine the data"
   ]
  },
  {
   "cell_type": "code",
   "execution_count": 1,
   "metadata": {},
   "outputs": [
    {
     "data": {
      "text/html": [
       "<div>\n",
       "<style scoped>\n",
       "    .dataframe tbody tr th:only-of-type {\n",
       "        vertical-align: middle;\n",
       "    }\n",
       "\n",
       "    .dataframe tbody tr th {\n",
       "        vertical-align: top;\n",
       "    }\n",
       "\n",
       "    .dataframe thead th {\n",
       "        text-align: right;\n",
       "    }\n",
       "</style>\n",
       "<table border=\"1\" class=\"dataframe\">\n",
       "  <thead>\n",
       "    <tr style=\"text-align: right;\">\n",
       "      <th></th>\n",
       "      <th>Name</th>\n",
       "      <th>Platform</th>\n",
       "      <th>Year_of_Release</th>\n",
       "      <th>Genre</th>\n",
       "      <th>NA_sales</th>\n",
       "      <th>EU_sales</th>\n",
       "      <th>JP_sales</th>\n",
       "      <th>Other_sales</th>\n",
       "      <th>Critic_Score</th>\n",
       "      <th>User_Score</th>\n",
       "      <th>Rating</th>\n",
       "    </tr>\n",
       "  </thead>\n",
       "  <tbody>\n",
       "    <tr>\n",
       "      <th>0</th>\n",
       "      <td>Wii Sports</td>\n",
       "      <td>Wii</td>\n",
       "      <td>2006.0</td>\n",
       "      <td>Sports</td>\n",
       "      <td>41.36</td>\n",
       "      <td>28.96</td>\n",
       "      <td>3.77</td>\n",
       "      <td>8.45</td>\n",
       "      <td>76.0</td>\n",
       "      <td>8</td>\n",
       "      <td>E</td>\n",
       "    </tr>\n",
       "    <tr>\n",
       "      <th>1</th>\n",
       "      <td>Super Mario Bros.</td>\n",
       "      <td>NES</td>\n",
       "      <td>1985.0</td>\n",
       "      <td>Platform</td>\n",
       "      <td>29.08</td>\n",
       "      <td>3.58</td>\n",
       "      <td>6.81</td>\n",
       "      <td>0.77</td>\n",
       "      <td>NaN</td>\n",
       "      <td>NaN</td>\n",
       "      <td>NaN</td>\n",
       "    </tr>\n",
       "    <tr>\n",
       "      <th>2</th>\n",
       "      <td>Mario Kart Wii</td>\n",
       "      <td>Wii</td>\n",
       "      <td>2008.0</td>\n",
       "      <td>Racing</td>\n",
       "      <td>15.68</td>\n",
       "      <td>12.76</td>\n",
       "      <td>3.79</td>\n",
       "      <td>3.29</td>\n",
       "      <td>82.0</td>\n",
       "      <td>8.3</td>\n",
       "      <td>E</td>\n",
       "    </tr>\n",
       "    <tr>\n",
       "      <th>3</th>\n",
       "      <td>Wii Sports Resort</td>\n",
       "      <td>Wii</td>\n",
       "      <td>2009.0</td>\n",
       "      <td>Sports</td>\n",
       "      <td>15.61</td>\n",
       "      <td>10.93</td>\n",
       "      <td>3.28</td>\n",
       "      <td>2.95</td>\n",
       "      <td>80.0</td>\n",
       "      <td>8</td>\n",
       "      <td>E</td>\n",
       "    </tr>\n",
       "    <tr>\n",
       "      <th>4</th>\n",
       "      <td>Pokemon Red/Pokemon Blue</td>\n",
       "      <td>GB</td>\n",
       "      <td>1996.0</td>\n",
       "      <td>Role-Playing</td>\n",
       "      <td>11.27</td>\n",
       "      <td>8.89</td>\n",
       "      <td>10.22</td>\n",
       "      <td>1.00</td>\n",
       "      <td>NaN</td>\n",
       "      <td>NaN</td>\n",
       "      <td>NaN</td>\n",
       "    </tr>\n",
       "  </tbody>\n",
       "</table>\n",
       "</div>"
      ],
      "text/plain": [
       "                       Name Platform  Year_of_Release         Genre  NA_sales  \\\n",
       "0                Wii Sports      Wii           2006.0        Sports     41.36   \n",
       "1         Super Mario Bros.      NES           1985.0      Platform     29.08   \n",
       "2            Mario Kart Wii      Wii           2008.0        Racing     15.68   \n",
       "3         Wii Sports Resort      Wii           2009.0        Sports     15.61   \n",
       "4  Pokemon Red/Pokemon Blue       GB           1996.0  Role-Playing     11.27   \n",
       "\n",
       "   EU_sales  JP_sales  Other_sales  Critic_Score User_Score Rating  \n",
       "0     28.96      3.77         8.45          76.0          8      E  \n",
       "1      3.58      6.81         0.77           NaN        NaN    NaN  \n",
       "2     12.76      3.79         3.29          82.0        8.3      E  \n",
       "3     10.93      3.28         2.95          80.0          8      E  \n",
       "4      8.89     10.22         1.00           NaN        NaN    NaN  "
      ]
     },
     "metadata": {},
     "output_type": "display_data"
    },
    {
     "name": "stdout",
     "output_type": "stream",
     "text": [
      "<class 'pandas.core.frame.DataFrame'>\n",
      "RangeIndex: 16715 entries, 0 to 16714\n",
      "Data columns (total 11 columns):\n",
      " #   Column           Non-Null Count  Dtype  \n",
      "---  ------           --------------  -----  \n",
      " 0   Name             16713 non-null  object \n",
      " 1   Platform         16715 non-null  object \n",
      " 2   Year_of_Release  16446 non-null  float64\n",
      " 3   Genre            16713 non-null  object \n",
      " 4   NA_sales         16715 non-null  float64\n",
      " 5   EU_sales         16715 non-null  float64\n",
      " 6   JP_sales         16715 non-null  float64\n",
      " 7   Other_sales      16715 non-null  float64\n",
      " 8   Critic_Score     8137 non-null   float64\n",
      " 9   User_Score       10014 non-null  object \n",
      " 10  Rating           9949 non-null   object \n",
      "dtypes: float64(6), object(5)\n",
      "memory usage: 1.4+ MB\n"
     ]
    }
   ],
   "source": [
    "import pandas as pd \n",
    "import matplotlib.pyplot as plt \n",
    "import seaborn as sns \n",
    "from scipy import stats as st  \n",
    "\n",
    "data = pd.read_csv('/datasets/games.csv') \n",
    "display(data.head()) \n",
    "data.info() "
   ]
  },
  {
   "cell_type": "markdown",
   "metadata": {},
   "source": [
    "The data is a table with 16,715 rows and 11 columns.\n",
    "Issues with the data are the following:\n",
    "1) The name of the columns misses the \"snake case\" (lower case) - it is recommended to change it. In addition, a unit of measurement will be added to the column name (for sales by region columns).\n",
    "\n",
    "2) There are gaps in the data. The following strategy is proposed for them: <br/>\n",
    "2.1) Gaps in `name` and `genre` will be analyzed: like see the rows above and below the gaps, use queries for similar years and platforms. If it is not possible to identify any patterns, it is proposed to delete the gaps; <br/>\n",
    "2.2) Evaluation of critics `critic_score` and users `user_score` - to begin with, distribution histograms will be built and the characteristics of these columns (mean, median) studied, as well as the mean and median in the context of genres and platforms. It is also possible to look at the correlation between the sales and an estimate - it is expected that the higher the estimate, the more sales will be there, and, therefore, the correlation is expected to be high. After that, the decision will be made whether to replace the gaps in the columns or deleted. Omissions are unintentional and can be predicted for replacement; <br/>\n",
    "2.3) The rating will most likely depend on the genre - therefore, to begin with, it is proposed to analyze which ratings belong to which genres and then decide what to replace the gaps in `rating` with - or leave the gaps unchanged; <br/>\n",
    "2.4) Year of release `year_of_release` is difficult to compare with other variables. The mean and median are not optimal. Most likely, the omissions in the year of issue are intentional - it is proposed not to replace the omissions and delete them - because, in a further study, only certain years will be useful, so rows with gaps in years are automatically excluded from the study.\n",
    "\n",
    "3) Data types correspond to the essence of the columns in all cases except for `user_score` and `year_of_release` - it is proposed to replace them with int after filling in (or removing) the gaps."
   ]
  },
  {
   "cell_type": "markdown",
   "metadata": {},
   "source": [
    "### Conclusion\n",
    "The first step was to read and examine the data file."
   ]
  },
  {
   "cell_type": "markdown",
   "metadata": {},
   "source": [
    "<a id='second'></a>\n",
    "## Data preprocessing"
   ]
  },
  {
   "cell_type": "code",
   "execution_count": 2,
   "metadata": {},
   "outputs": [
    {
     "data": {
      "text/html": [
       "<div>\n",
       "<style scoped>\n",
       "    .dataframe tbody tr th:only-of-type {\n",
       "        vertical-align: middle;\n",
       "    }\n",
       "\n",
       "    .dataframe tbody tr th {\n",
       "        vertical-align: top;\n",
       "    }\n",
       "\n",
       "    .dataframe thead th {\n",
       "        text-align: right;\n",
       "    }\n",
       "</style>\n",
       "<table border=\"1\" class=\"dataframe\">\n",
       "  <thead>\n",
       "    <tr style=\"text-align: right;\">\n",
       "      <th></th>\n",
       "      <th>Name</th>\n",
       "      <th>Platform</th>\n",
       "      <th>Year_of_Release</th>\n",
       "      <th>Genre</th>\n",
       "      <th>NA_sales</th>\n",
       "      <th>EU_sales</th>\n",
       "      <th>JP_sales</th>\n",
       "      <th>Other_sales</th>\n",
       "      <th>Critic_Score</th>\n",
       "      <th>User_Score</th>\n",
       "      <th>Rating</th>\n",
       "      <th>sales_total_mln</th>\n",
       "    </tr>\n",
       "  </thead>\n",
       "  <tbody>\n",
       "    <tr>\n",
       "      <th>0</th>\n",
       "      <td>Wii Sports</td>\n",
       "      <td>Wii</td>\n",
       "      <td>2006.0</td>\n",
       "      <td>Sports</td>\n",
       "      <td>41.36</td>\n",
       "      <td>28.96</td>\n",
       "      <td>3.77</td>\n",
       "      <td>8.45</td>\n",
       "      <td>76.0</td>\n",
       "      <td>8</td>\n",
       "      <td>E</td>\n",
       "      <td>82.54</td>\n",
       "    </tr>\n",
       "    <tr>\n",
       "      <th>1</th>\n",
       "      <td>Super Mario Bros.</td>\n",
       "      <td>NES</td>\n",
       "      <td>1985.0</td>\n",
       "      <td>Platform</td>\n",
       "      <td>29.08</td>\n",
       "      <td>3.58</td>\n",
       "      <td>6.81</td>\n",
       "      <td>0.77</td>\n",
       "      <td>NaN</td>\n",
       "      <td>NaN</td>\n",
       "      <td>NaN</td>\n",
       "      <td>40.24</td>\n",
       "    </tr>\n",
       "    <tr>\n",
       "      <th>2</th>\n",
       "      <td>Mario Kart Wii</td>\n",
       "      <td>Wii</td>\n",
       "      <td>2008.0</td>\n",
       "      <td>Racing</td>\n",
       "      <td>15.68</td>\n",
       "      <td>12.76</td>\n",
       "      <td>3.79</td>\n",
       "      <td>3.29</td>\n",
       "      <td>82.0</td>\n",
       "      <td>8.3</td>\n",
       "      <td>E</td>\n",
       "      <td>35.52</td>\n",
       "    </tr>\n",
       "    <tr>\n",
       "      <th>3</th>\n",
       "      <td>Wii Sports Resort</td>\n",
       "      <td>Wii</td>\n",
       "      <td>2009.0</td>\n",
       "      <td>Sports</td>\n",
       "      <td>15.61</td>\n",
       "      <td>10.93</td>\n",
       "      <td>3.28</td>\n",
       "      <td>2.95</td>\n",
       "      <td>80.0</td>\n",
       "      <td>8</td>\n",
       "      <td>E</td>\n",
       "      <td>32.77</td>\n",
       "    </tr>\n",
       "    <tr>\n",
       "      <th>4</th>\n",
       "      <td>Pokemon Red/Pokemon Blue</td>\n",
       "      <td>GB</td>\n",
       "      <td>1996.0</td>\n",
       "      <td>Role-Playing</td>\n",
       "      <td>11.27</td>\n",
       "      <td>8.89</td>\n",
       "      <td>10.22</td>\n",
       "      <td>1.00</td>\n",
       "      <td>NaN</td>\n",
       "      <td>NaN</td>\n",
       "      <td>NaN</td>\n",
       "      <td>31.38</td>\n",
       "    </tr>\n",
       "  </tbody>\n",
       "</table>\n",
       "</div>"
      ],
      "text/plain": [
       "                       Name Platform  Year_of_Release         Genre  NA_sales  \\\n",
       "0                Wii Sports      Wii           2006.0        Sports     41.36   \n",
       "1         Super Mario Bros.      NES           1985.0      Platform     29.08   \n",
       "2            Mario Kart Wii      Wii           2008.0        Racing     15.68   \n",
       "3         Wii Sports Resort      Wii           2009.0        Sports     15.61   \n",
       "4  Pokemon Red/Pokemon Blue       GB           1996.0  Role-Playing     11.27   \n",
       "\n",
       "   EU_sales  JP_sales  Other_sales  Critic_Score User_Score Rating  \\\n",
       "0     28.96      3.77         8.45          76.0          8      E   \n",
       "1      3.58      6.81         0.77           NaN        NaN    NaN   \n",
       "2     12.76      3.79         3.29          82.0        8.3      E   \n",
       "3     10.93      3.28         2.95          80.0          8      E   \n",
       "4      8.89     10.22         1.00           NaN        NaN    NaN   \n",
       "\n",
       "   sales_total_mln  \n",
       "0            82.54  \n",
       "1            40.24  \n",
       "2            35.52  \n",
       "3            32.77  \n",
       "4            31.38  "
      ]
     },
     "execution_count": 2,
     "metadata": {},
     "output_type": "execute_result"
    }
   ],
   "source": [
    "#0\n",
    "#Sales total column \n",
    "data['sales_total_mln'] = data['NA_sales']+data['EU_sales']+data['JP_sales']+data['Other_sales'] \n",
    "data.head() #check"
   ]
  },
  {
   "cell_type": "code",
   "execution_count": 3,
   "metadata": {},
   "outputs": [
    {
     "data": {
      "text/html": [
       "<div>\n",
       "<style scoped>\n",
       "    .dataframe tbody tr th:only-of-type {\n",
       "        vertical-align: middle;\n",
       "    }\n",
       "\n",
       "    .dataframe tbody tr th {\n",
       "        vertical-align: top;\n",
       "    }\n",
       "\n",
       "    .dataframe thead th {\n",
       "        text-align: right;\n",
       "    }\n",
       "</style>\n",
       "<table border=\"1\" class=\"dataframe\">\n",
       "  <thead>\n",
       "    <tr style=\"text-align: right;\">\n",
       "      <th></th>\n",
       "      <th>name</th>\n",
       "      <th>platform</th>\n",
       "      <th>year_of_release</th>\n",
       "      <th>genre</th>\n",
       "      <th>na_sales_mln</th>\n",
       "      <th>eu_sales_mln</th>\n",
       "      <th>jp_sales_mln</th>\n",
       "      <th>other_sales_mln</th>\n",
       "      <th>critic_score</th>\n",
       "      <th>user_score</th>\n",
       "      <th>rating</th>\n",
       "      <th>sales_total_mln</th>\n",
       "    </tr>\n",
       "  </thead>\n",
       "  <tbody>\n",
       "    <tr>\n",
       "      <th>0</th>\n",
       "      <td>Wii Sports</td>\n",
       "      <td>Wii</td>\n",
       "      <td>2006.0</td>\n",
       "      <td>Sports</td>\n",
       "      <td>41.36</td>\n",
       "      <td>28.96</td>\n",
       "      <td>3.77</td>\n",
       "      <td>8.45</td>\n",
       "      <td>76.0</td>\n",
       "      <td>8</td>\n",
       "      <td>E</td>\n",
       "      <td>82.54</td>\n",
       "    </tr>\n",
       "  </tbody>\n",
       "</table>\n",
       "</div>"
      ],
      "text/plain": [
       "         name platform  year_of_release   genre  na_sales_mln  eu_sales_mln  \\\n",
       "0  Wii Sports      Wii           2006.0  Sports         41.36         28.96   \n",
       "\n",
       "   jp_sales_mln  other_sales_mln  critic_score user_score rating  \\\n",
       "0          3.77             8.45          76.0          8      E   \n",
       "\n",
       "   sales_total_mln  \n",
       "0            82.54  "
      ]
     },
     "execution_count": 3,
     "metadata": {},
     "output_type": "execute_result"
    }
   ],
   "source": [
    "#2.1\n",
    "#Column names change\n",
    "data = data.rename(columns = str.lower) \n",
    "data = data.rename(columns ={'na_sales':'na_sales_mln', 'eu_sales':'eu_sales_mln', 'jp_sales':'jp_sales_mln', 'other_sales':'other_sales_mln'}) #add mln to the column name\n",
    "data.head(1) #check"
   ]
  },
  {
   "cell_type": "code",
   "execution_count": 4,
   "metadata": {},
   "outputs": [
    {
     "data": {
      "text/html": [
       "<div>\n",
       "<style scoped>\n",
       "    .dataframe tbody tr th:only-of-type {\n",
       "        vertical-align: middle;\n",
       "    }\n",
       "\n",
       "    .dataframe tbody tr th {\n",
       "        vertical-align: top;\n",
       "    }\n",
       "\n",
       "    .dataframe thead th {\n",
       "        text-align: right;\n",
       "    }\n",
       "</style>\n",
       "<table border=\"1\" class=\"dataframe\">\n",
       "  <thead>\n",
       "    <tr style=\"text-align: right;\">\n",
       "      <th></th>\n",
       "      <th>name</th>\n",
       "      <th>platform</th>\n",
       "      <th>year_of_release</th>\n",
       "      <th>genre</th>\n",
       "      <th>na_sales_mln</th>\n",
       "      <th>eu_sales_mln</th>\n",
       "      <th>jp_sales_mln</th>\n",
       "      <th>other_sales_mln</th>\n",
       "      <th>critic_score</th>\n",
       "      <th>user_score</th>\n",
       "      <th>rating</th>\n",
       "      <th>sales_total_mln</th>\n",
       "    </tr>\n",
       "  </thead>\n",
       "  <tbody>\n",
       "    <tr>\n",
       "      <th>659</th>\n",
       "      <td>NaN</td>\n",
       "      <td>GEN</td>\n",
       "      <td>1993.0</td>\n",
       "      <td>NaN</td>\n",
       "      <td>1.78</td>\n",
       "      <td>0.53</td>\n",
       "      <td>0.00</td>\n",
       "      <td>0.08</td>\n",
       "      <td>NaN</td>\n",
       "      <td>NaN</td>\n",
       "      <td>NaN</td>\n",
       "      <td>2.39</td>\n",
       "    </tr>\n",
       "    <tr>\n",
       "      <th>14244</th>\n",
       "      <td>NaN</td>\n",
       "      <td>GEN</td>\n",
       "      <td>1993.0</td>\n",
       "      <td>NaN</td>\n",
       "      <td>0.00</td>\n",
       "      <td>0.00</td>\n",
       "      <td>0.03</td>\n",
       "      <td>0.00</td>\n",
       "      <td>NaN</td>\n",
       "      <td>NaN</td>\n",
       "      <td>NaN</td>\n",
       "      <td>0.03</td>\n",
       "    </tr>\n",
       "  </tbody>\n",
       "</table>\n",
       "</div>"
      ],
      "text/plain": [
       "      name platform  year_of_release genre  na_sales_mln  eu_sales_mln  \\\n",
       "659    NaN      GEN           1993.0   NaN          1.78          0.53   \n",
       "14244  NaN      GEN           1993.0   NaN          0.00          0.00   \n",
       "\n",
       "       jp_sales_mln  other_sales_mln  critic_score user_score rating  \\\n",
       "659            0.00             0.08           NaN        NaN    NaN   \n",
       "14244          0.03             0.00           NaN        NaN    NaN   \n",
       "\n",
       "       sales_total_mln  \n",
       "659               2.39  \n",
       "14244             0.03  "
      ]
     },
     "execution_count": 4,
     "metadata": {},
     "output_type": "execute_result"
    }
   ],
   "source": [
    "#2.2\n",
    "#Work with gaps\n",
    "data[data['name'].isna()] "
   ]
  },
  {
   "cell_type": "markdown",
   "metadata": {},
   "source": [
    "Since the rows below and above the gaps do not contain the same platform or year - accordingly, the rows with gaps are not duplicates of one of these rows (by name and genre). <br/>\n",
    "At the same time, the year the game was released - 1993 - most likely the information will be irrelevant for further analysis. <br/>\n",
    "Therefore, it is proposed to remove the rows with gaps. As well as remove gaps in `year_of_release` below."
   ]
  },
  {
   "cell_type": "code",
   "execution_count": 5,
   "metadata": {},
   "outputs": [
    {
     "data": {
      "text/plain": [
       "(16444, 12)"
      ]
     },
     "execution_count": 5,
     "metadata": {},
     "output_type": "execute_result"
    }
   ],
   "source": [
    "data = data.dropna(subset=['name']) \n",
    "data = data.dropna(subset=['genre']) \n",
    "data = data.dropna(subset=['year_of_release']) \n",
    "\n",
    "data.shape #check"
   ]
  },
  {
   "cell_type": "code",
   "execution_count": 6,
   "metadata": {
    "scrolled": true
   },
   "outputs": [
    {
     "data": {
      "text/plain": [
       "count    7983.000000\n",
       "mean       68.994363\n",
       "std        13.920060\n",
       "min        13.000000\n",
       "25%        60.000000\n",
       "50%        71.000000\n",
       "75%        79.000000\n",
       "max        98.000000\n",
       "Name: critic_score, dtype: float64"
      ]
     },
     "metadata": {},
     "output_type": "display_data"
    },
    {
     "data": {
      "text/plain": [
       "0.2453488454741138"
      ]
     },
     "execution_count": 6,
     "metadata": {},
     "output_type": "execute_result"
    },
    {
     "data": {
      "image/png": "[encoded data removed]",
      "text/plain": [
       "<Figure size 432x288 with 1 Axes>"
      ]
     },
     "metadata": {
      "needs_background": "light"
     },
     "output_type": "display_data"
    }
   ],
   "source": [
    "data['critic_score'].hist() #histogram for critic_score\n",
    "display(data['critic_score'].describe()) #statistics for critic_score\n",
    "corr_critic_sales = data['critic_score'].corr(data['sales_total_mln']) #corr critic_score - total sales\n",
    "corr_critic_sales "
   ]
  },
  {
   "cell_type": "markdown",
   "metadata": {},
   "source": [
    "The distribution of ratings is close to normal with a skew to the left - there are more ratings above the average in the sample. The same information can be obtained from the fact that the median is greater than the mean. The correlation with sales is low - therefore, it is not recommended to replace gaps by any correlation equations. Below is an average of the ratings by genre and platform."
   ]
  },
  {
   "cell_type": "code",
   "execution_count": 7,
   "metadata": {
    "scrolled": true
   },
   "outputs": [
    {
     "data": {
      "text/plain": [
       "genre\n",
       "Action          66.676931\n",
       "Adventure       65.268750\n",
       "Fighting        69.155556\n",
       "Misc            66.648330\n",
       "Platform        68.124490\n",
       "Puzzle          67.231818\n",
       "Racing          68.006897\n",
       "Role-Playing    72.655267\n",
       "Shooter         70.260022\n",
       "Simulation      68.609195\n",
       "Sports          71.993133\n",
       "Strategy        72.158784\n",
       "Name: critic_score, dtype: float64"
      ]
     },
     "metadata": {},
     "output_type": "display_data"
    },
    {
     "data": {
      "text/plain": [
       "platform\n",
       "2600          NaN\n",
       "3DO           NaN\n",
       "3DS     67.156627\n",
       "DC      87.357143\n",
       "DS      63.728814\n",
       "GB            NaN\n",
       "GBA     67.311628\n",
       "GC      69.601831\n",
       "GEN           NaN\n",
       "GG            NaN\n",
       "N64           NaN\n",
       "NES           NaN\n",
       "NG            NaN\n",
       "PC      75.927039\n",
       "PCFX          NaN\n",
       "PS      71.586735\n",
       "PS2     68.714510\n",
       "PS3     70.468905\n",
       "PS4     72.091270\n",
       "PSP     67.535088\n",
       "PSV     70.731092\n",
       "SAT           NaN\n",
       "SCD           NaN\n",
       "SNES          NaN\n",
       "TG16          NaN\n",
       "WS            NaN\n",
       "Wii     62.778169\n",
       "WiiU    70.733333\n",
       "X360    68.685682\n",
       "XB      69.912181\n",
       "XOne    73.325444\n",
       "Name: critic_score, dtype: float64"
      ]
     },
     "execution_count": 7,
     "metadata": {},
     "output_type": "execute_result"
    }
   ],
   "source": [
    "display(data.groupby('genre')['critic_score'].mean()) \n",
    "data.groupby('platform')['critic_score'].mean() \n"
   ]
  },
  {
   "cell_type": "markdown",
   "metadata": {},
   "source": [
    "Since some platform values do not contain any scores and it is not possible to replace the gaps with the average/median per platform, the gaps will be replaced with the average per genre. The mean is chosen because the mean is less than the median for the entire sample, thus, it is a more conservative approach."
   ]
  },
  {
   "cell_type": "code",
   "execution_count": 8,
   "metadata": {
    "scrolled": true
   },
   "outputs": [
    {
     "data": {
      "text/html": [
       "<div>\n",
       "<style scoped>\n",
       "    .dataframe tbody tr th:only-of-type {\n",
       "        vertical-align: middle;\n",
       "    }\n",
       "\n",
       "    .dataframe tbody tr th {\n",
       "        vertical-align: top;\n",
       "    }\n",
       "\n",
       "    .dataframe thead th {\n",
       "        text-align: right;\n",
       "    }\n",
       "</style>\n",
       "<table border=\"1\" class=\"dataframe\">\n",
       "  <thead>\n",
       "    <tr style=\"text-align: right;\">\n",
       "      <th></th>\n",
       "      <th>critic_score</th>\n",
       "    </tr>\n",
       "    <tr>\n",
       "      <th>genre</th>\n",
       "      <th></th>\n",
       "    </tr>\n",
       "  </thead>\n",
       "  <tbody>\n",
       "    <tr>\n",
       "      <th>Action</th>\n",
       "      <td>66.676931</td>\n",
       "    </tr>\n",
       "    <tr>\n",
       "      <th>Adventure</th>\n",
       "      <td>65.268750</td>\n",
       "    </tr>\n",
       "    <tr>\n",
       "      <th>Fighting</th>\n",
       "      <td>69.155556</td>\n",
       "    </tr>\n",
       "    <tr>\n",
       "      <th>Misc</th>\n",
       "      <td>66.648330</td>\n",
       "    </tr>\n",
       "    <tr>\n",
       "      <th>Platform</th>\n",
       "      <td>68.124490</td>\n",
       "    </tr>\n",
       "    <tr>\n",
       "      <th>Puzzle</th>\n",
       "      <td>67.231818</td>\n",
       "    </tr>\n",
       "    <tr>\n",
       "      <th>Racing</th>\n",
       "      <td>68.006897</td>\n",
       "    </tr>\n",
       "    <tr>\n",
       "      <th>Role-Playing</th>\n",
       "      <td>72.655267</td>\n",
       "    </tr>\n",
       "    <tr>\n",
       "      <th>Shooter</th>\n",
       "      <td>70.260022</td>\n",
       "    </tr>\n",
       "    <tr>\n",
       "      <th>Simulation</th>\n",
       "      <td>68.609195</td>\n",
       "    </tr>\n",
       "    <tr>\n",
       "      <th>Sports</th>\n",
       "      <td>71.993133</td>\n",
       "    </tr>\n",
       "    <tr>\n",
       "      <th>Strategy</th>\n",
       "      <td>72.158784</td>\n",
       "    </tr>\n",
       "  </tbody>\n",
       "</table>\n",
       "</div>"
      ],
      "text/plain": [
       "              critic_score\n",
       "genre                     \n",
       "Action           66.676931\n",
       "Adventure        65.268750\n",
       "Fighting         69.155556\n",
       "Misc             66.648330\n",
       "Platform         68.124490\n",
       "Puzzle           67.231818\n",
       "Racing           68.006897\n",
       "Role-Playing     72.655267\n",
       "Shooter          70.260022\n",
       "Simulation       68.609195\n",
       "Sports           71.993133\n",
       "Strategy         72.158784"
      ]
     },
     "execution_count": 8,
     "metadata": {},
     "output_type": "execute_result"
    }
   ],
   "source": [
    "data_genre = data.pivot_table(index='genre', values='critic_score')\n",
    "data_genre "
   ]
  },
  {
   "cell_type": "code",
   "execution_count": 9,
   "metadata": {},
   "outputs": [
    {
     "data": {
      "text/html": [
       "<div>\n",
       "<style scoped>\n",
       "    .dataframe tbody tr th:only-of-type {\n",
       "        vertical-align: middle;\n",
       "    }\n",
       "\n",
       "    .dataframe tbody tr th {\n",
       "        vertical-align: top;\n",
       "    }\n",
       "\n",
       "    .dataframe thead th {\n",
       "        text-align: right;\n",
       "    }\n",
       "</style>\n",
       "<table border=\"1\" class=\"dataframe\">\n",
       "  <thead>\n",
       "    <tr style=\"text-align: right;\">\n",
       "      <th></th>\n",
       "      <th>name</th>\n",
       "      <th>platform</th>\n",
       "      <th>year_of_release</th>\n",
       "      <th>genre</th>\n",
       "      <th>na_sales_mln</th>\n",
       "      <th>eu_sales_mln</th>\n",
       "      <th>jp_sales_mln</th>\n",
       "      <th>other_sales_mln</th>\n",
       "      <th>critic_score_x</th>\n",
       "      <th>user_score</th>\n",
       "      <th>rating</th>\n",
       "      <th>sales_total_mln</th>\n",
       "      <th>critic_score_y</th>\n",
       "    </tr>\n",
       "  </thead>\n",
       "  <tbody>\n",
       "    <tr>\n",
       "      <th>0</th>\n",
       "      <td>Wii Sports</td>\n",
       "      <td>Wii</td>\n",
       "      <td>2006.0</td>\n",
       "      <td>Sports</td>\n",
       "      <td>41.36</td>\n",
       "      <td>28.96</td>\n",
       "      <td>3.77</td>\n",
       "      <td>8.45</td>\n",
       "      <td>76.0</td>\n",
       "      <td>8</td>\n",
       "      <td>E</td>\n",
       "      <td>82.54</td>\n",
       "      <td>71.993133</td>\n",
       "    </tr>\n",
       "    <tr>\n",
       "      <th>1</th>\n",
       "      <td>Super Mario Bros.</td>\n",
       "      <td>NES</td>\n",
       "      <td>1985.0</td>\n",
       "      <td>Platform</td>\n",
       "      <td>29.08</td>\n",
       "      <td>3.58</td>\n",
       "      <td>6.81</td>\n",
       "      <td>0.77</td>\n",
       "      <td>NaN</td>\n",
       "      <td>NaN</td>\n",
       "      <td>NaN</td>\n",
       "      <td>40.24</td>\n",
       "      <td>68.124490</td>\n",
       "    </tr>\n",
       "    <tr>\n",
       "      <th>2</th>\n",
       "      <td>Mario Kart Wii</td>\n",
       "      <td>Wii</td>\n",
       "      <td>2008.0</td>\n",
       "      <td>Racing</td>\n",
       "      <td>15.68</td>\n",
       "      <td>12.76</td>\n",
       "      <td>3.79</td>\n",
       "      <td>3.29</td>\n",
       "      <td>82.0</td>\n",
       "      <td>8.3</td>\n",
       "      <td>E</td>\n",
       "      <td>35.52</td>\n",
       "      <td>68.006897</td>\n",
       "    </tr>\n",
       "    <tr>\n",
       "      <th>3</th>\n",
       "      <td>Wii Sports Resort</td>\n",
       "      <td>Wii</td>\n",
       "      <td>2009.0</td>\n",
       "      <td>Sports</td>\n",
       "      <td>15.61</td>\n",
       "      <td>10.93</td>\n",
       "      <td>3.28</td>\n",
       "      <td>2.95</td>\n",
       "      <td>80.0</td>\n",
       "      <td>8</td>\n",
       "      <td>E</td>\n",
       "      <td>32.77</td>\n",
       "      <td>71.993133</td>\n",
       "    </tr>\n",
       "    <tr>\n",
       "      <th>4</th>\n",
       "      <td>Pokemon Red/Pokemon Blue</td>\n",
       "      <td>GB</td>\n",
       "      <td>1996.0</td>\n",
       "      <td>Role-Playing</td>\n",
       "      <td>11.27</td>\n",
       "      <td>8.89</td>\n",
       "      <td>10.22</td>\n",
       "      <td>1.00</td>\n",
       "      <td>NaN</td>\n",
       "      <td>NaN</td>\n",
       "      <td>NaN</td>\n",
       "      <td>31.38</td>\n",
       "      <td>72.655267</td>\n",
       "    </tr>\n",
       "  </tbody>\n",
       "</table>\n",
       "</div>"
      ],
      "text/plain": [
       "                       name platform  year_of_release         genre  \\\n",
       "0                Wii Sports      Wii           2006.0        Sports   \n",
       "1         Super Mario Bros.      NES           1985.0      Platform   \n",
       "2            Mario Kart Wii      Wii           2008.0        Racing   \n",
       "3         Wii Sports Resort      Wii           2009.0        Sports   \n",
       "4  Pokemon Red/Pokemon Blue       GB           1996.0  Role-Playing   \n",
       "\n",
       "   na_sales_mln  eu_sales_mln  jp_sales_mln  other_sales_mln  critic_score_x  \\\n",
       "0         41.36         28.96          3.77             8.45            76.0   \n",
       "1         29.08          3.58          6.81             0.77             NaN   \n",
       "2         15.68         12.76          3.79             3.29            82.0   \n",
       "3         15.61         10.93          3.28             2.95            80.0   \n",
       "4         11.27          8.89         10.22             1.00             NaN   \n",
       "\n",
       "  user_score rating  sales_total_mln  critic_score_y  \n",
       "0          8      E            82.54       71.993133  \n",
       "1        NaN    NaN            40.24       68.124490  \n",
       "2        8.3      E            35.52       68.006897  \n",
       "3          8      E            32.77       71.993133  \n",
       "4        NaN    NaN            31.38       72.655267  "
      ]
     },
     "execution_count": 9,
     "metadata": {},
     "output_type": "execute_result"
    }
   ],
   "source": [
    "data = data.merge(data_genre, on='genre', how='left') #add pivot values to the data table via merge, keeping all data rows\n",
    "data.head() #check"
   ]
  },
  {
   "cell_type": "code",
   "execution_count": 10,
   "metadata": {
    "scrolled": true
   },
   "outputs": [
    {
     "data": {
      "text/html": [
       "<div>\n",
       "<style scoped>\n",
       "    .dataframe tbody tr th:only-of-type {\n",
       "        vertical-align: middle;\n",
       "    }\n",
       "\n",
       "    .dataframe tbody tr th {\n",
       "        vertical-align: top;\n",
       "    }\n",
       "\n",
       "    .dataframe thead th {\n",
       "        text-align: right;\n",
       "    }\n",
       "</style>\n",
       "<table border=\"1\" class=\"dataframe\">\n",
       "  <thead>\n",
       "    <tr style=\"text-align: right;\">\n",
       "      <th></th>\n",
       "      <th>name</th>\n",
       "      <th>platform</th>\n",
       "      <th>year_of_release</th>\n",
       "      <th>genre</th>\n",
       "      <th>na_sales_mln</th>\n",
       "      <th>eu_sales_mln</th>\n",
       "      <th>jp_sales_mln</th>\n",
       "      <th>other_sales_mln</th>\n",
       "      <th>critic_score_x</th>\n",
       "      <th>user_score</th>\n",
       "      <th>rating</th>\n",
       "      <th>sales_total_mln</th>\n",
       "      <th>critic_score_y</th>\n",
       "    </tr>\n",
       "  </thead>\n",
       "  <tbody>\n",
       "    <tr>\n",
       "      <th>0</th>\n",
       "      <td>Wii Sports</td>\n",
       "      <td>Wii</td>\n",
       "      <td>2006.0</td>\n",
       "      <td>Sports</td>\n",
       "      <td>41.36</td>\n",
       "      <td>28.96</td>\n",
       "      <td>3.77</td>\n",
       "      <td>8.45</td>\n",
       "      <td>76.000000</td>\n",
       "      <td>8</td>\n",
       "      <td>E</td>\n",
       "      <td>82.54</td>\n",
       "      <td>71.993133</td>\n",
       "    </tr>\n",
       "    <tr>\n",
       "      <th>1</th>\n",
       "      <td>Super Mario Bros.</td>\n",
       "      <td>NES</td>\n",
       "      <td>1985.0</td>\n",
       "      <td>Platform</td>\n",
       "      <td>29.08</td>\n",
       "      <td>3.58</td>\n",
       "      <td>6.81</td>\n",
       "      <td>0.77</td>\n",
       "      <td>68.124490</td>\n",
       "      <td>NaN</td>\n",
       "      <td>NaN</td>\n",
       "      <td>40.24</td>\n",
       "      <td>68.124490</td>\n",
       "    </tr>\n",
       "    <tr>\n",
       "      <th>2</th>\n",
       "      <td>Mario Kart Wii</td>\n",
       "      <td>Wii</td>\n",
       "      <td>2008.0</td>\n",
       "      <td>Racing</td>\n",
       "      <td>15.68</td>\n",
       "      <td>12.76</td>\n",
       "      <td>3.79</td>\n",
       "      <td>3.29</td>\n",
       "      <td>82.000000</td>\n",
       "      <td>8.3</td>\n",
       "      <td>E</td>\n",
       "      <td>35.52</td>\n",
       "      <td>68.006897</td>\n",
       "    </tr>\n",
       "    <tr>\n",
       "      <th>3</th>\n",
       "      <td>Wii Sports Resort</td>\n",
       "      <td>Wii</td>\n",
       "      <td>2009.0</td>\n",
       "      <td>Sports</td>\n",
       "      <td>15.61</td>\n",
       "      <td>10.93</td>\n",
       "      <td>3.28</td>\n",
       "      <td>2.95</td>\n",
       "      <td>80.000000</td>\n",
       "      <td>8</td>\n",
       "      <td>E</td>\n",
       "      <td>32.77</td>\n",
       "      <td>71.993133</td>\n",
       "    </tr>\n",
       "    <tr>\n",
       "      <th>4</th>\n",
       "      <td>Pokemon Red/Pokemon Blue</td>\n",
       "      <td>GB</td>\n",
       "      <td>1996.0</td>\n",
       "      <td>Role-Playing</td>\n",
       "      <td>11.27</td>\n",
       "      <td>8.89</td>\n",
       "      <td>10.22</td>\n",
       "      <td>1.00</td>\n",
       "      <td>72.655267</td>\n",
       "      <td>NaN</td>\n",
       "      <td>NaN</td>\n",
       "      <td>31.38</td>\n",
       "      <td>72.655267</td>\n",
       "    </tr>\n",
       "  </tbody>\n",
       "</table>\n",
       "</div>"
      ],
      "text/plain": [
       "                       name platform  year_of_release         genre  \\\n",
       "0                Wii Sports      Wii           2006.0        Sports   \n",
       "1         Super Mario Bros.      NES           1985.0      Platform   \n",
       "2            Mario Kart Wii      Wii           2008.0        Racing   \n",
       "3         Wii Sports Resort      Wii           2009.0        Sports   \n",
       "4  Pokemon Red/Pokemon Blue       GB           1996.0  Role-Playing   \n",
       "\n",
       "   na_sales_mln  eu_sales_mln  jp_sales_mln  other_sales_mln  critic_score_x  \\\n",
       "0         41.36         28.96          3.77             8.45       76.000000   \n",
       "1         29.08          3.58          6.81             0.77       68.124490   \n",
       "2         15.68         12.76          3.79             3.29       82.000000   \n",
       "3         15.61         10.93          3.28             2.95       80.000000   \n",
       "4         11.27          8.89         10.22             1.00       72.655267   \n",
       "\n",
       "  user_score rating  sales_total_mln  critic_score_y  \n",
       "0          8      E            82.54       71.993133  \n",
       "1        NaN    NaN            40.24       68.124490  \n",
       "2        8.3      E            35.52       68.006897  \n",
       "3          8      E            32.77       71.993133  \n",
       "4        NaN    NaN            31.38       72.655267  "
      ]
     },
     "execution_count": 10,
     "metadata": {},
     "output_type": "execute_result"
    }
   ],
   "source": [
    "data['critic_score_x'] = data['critic_score_x'].where(data['critic_score_x'].notna(),data['critic_score_y']) #replace gaps in critic_score with mean values from critic_score genre by genre\n",
    "data.head() #check"
   ]
  },
  {
   "cell_type": "code",
   "execution_count": 11,
   "metadata": {
    "scrolled": true
   },
   "outputs": [
    {
     "data": {
      "text/plain": [
       "array(['8', nan, '8.3', '8.5', '6.6', '8.4', '8.6', '7.7', '6.3', '7.4',\n",
       "       '8.2', '9', '7.9', '8.1', '8.7', '7.1', '3.4', '5.3', '4.8', '3.2',\n",
       "       '8.9', '6.4', '7.8', '7.5', '2.6', '7.2', '9.2', '7', '7.3', '4.3',\n",
       "       '7.6', '5.7', '5', '9.1', '6.5', 'tbd', '8.8', '6.9', '9.4', '6.8',\n",
       "       '6.1', '6.7', '5.4', '4', '4.9', '4.5', '9.3', '6.2', '4.2', '6',\n",
       "       '3.7', '4.1', '5.8', '5.6', '5.5', '4.4', '4.6', '5.9', '3.9',\n",
       "       '3.1', '2.9', '5.2', '3.3', '4.7', '5.1', '3.5', '2.5', '1.9', '3',\n",
       "       '2.7', '2.2', '2', '9.5', '2.1', '3.6', '2.8', '1.8', '3.8', '0',\n",
       "       '1.6', '9.6', '2.4', '1.7', '1.1', '0.3', '1.5', '0.7', '1.2',\n",
       "       '2.3', '0.5', '1.3', '0.2', '0.6', '1.4', '0.9', '1', '9.7'],\n",
       "      dtype=object)"
      ]
     },
     "execution_count": 11,
     "metadata": {},
     "output_type": "execute_result"
    }
   ],
   "source": [
    "data['user_score'].unique() #check"
   ]
  },
  {
   "cell_type": "markdown",
   "metadata": {},
   "source": [
    "The strategy for dealing with gaps in user_score will be similar to the critic_score strategy. However, due to the `object` data type, and therefore the impossibility of calculating the average by genre, the sequence of steps will be different. To begin with, the gaps and the value of tbd (to be determined - an analogue of the gap) will be replaced by 10 - an estimate that is not in the sample. Then the data type will be replaced with float and then the pivot of the average by genre will be built in the user_scores without a value of 10. Further steps are similar to the steps of replacing gaps in critic_score (replacing the value 10 with the values of the average genre)."
   ]
  },
  {
   "cell_type": "code",
   "execution_count": 12,
   "metadata": {},
   "outputs": [
    {
     "data": {
      "text/plain": [
       "count     16444\n",
       "unique       96\n",
       "top          10\n",
       "freq       8981\n",
       "Name: user_score, dtype: int64"
      ]
     },
     "execution_count": 12,
     "metadata": {},
     "output_type": "execute_result"
    }
   ],
   "source": [
    "data['user_score'] = data['user_score'].where(data['user_score'].notna(),10) \n",
    "data['user_score'] = data['user_score'].where(data['user_score']!='tbd',10) \n",
    "data['user_score'].describe() "
   ]
  },
  {
   "cell_type": "code",
   "execution_count": 13,
   "metadata": {
    "scrolled": true
   },
   "outputs": [
    {
     "name": "stdout",
     "output_type": "stream",
     "text": [
      "<class 'pandas.core.frame.DataFrame'>\n",
      "Int64Index: 7463 entries, 0 to 16434\n",
      "Data columns (total 1 columns):\n",
      " #   Column      Non-Null Count  Dtype  \n",
      "---  ------      --------------  -----  \n",
      " 0   user_score  7463 non-null   float64\n",
      "dtypes: float64(1)\n",
      "memory usage: 116.6 KB\n"
     ]
    },
    {
     "name": "stderr",
     "output_type": "stream",
     "text": [
      "/tmp/ipykernel_48/1168643239.py:2: SettingWithCopyWarning: \n",
      "A value is trying to be set on a copy of a slice from a DataFrame.\n",
      "Try using .loc[row_indexer,col_indexer] = value instead\n",
      "\n",
      "See the caveats in the documentation: https://pandas.pydata.org/pandas-docs/stable/user_guide/indexing.html#returning-a-view-versus-a-copy\n",
      "  data_user['user_score'] = pd.to_numeric(data_user['user_score']) #поменять тип данных на float\n"
     ]
    },
    {
     "data": {
      "text/html": [
       "<div>\n",
       "<style scoped>\n",
       "    .dataframe tbody tr th:only-of-type {\n",
       "        vertical-align: middle;\n",
       "    }\n",
       "\n",
       "    .dataframe tbody tr th {\n",
       "        vertical-align: top;\n",
       "    }\n",
       "\n",
       "    .dataframe thead th {\n",
       "        text-align: right;\n",
       "    }\n",
       "</style>\n",
       "<table border=\"1\" class=\"dataframe\">\n",
       "  <thead>\n",
       "    <tr style=\"text-align: right;\">\n",
       "      <th></th>\n",
       "      <th>user_score</th>\n",
       "    </tr>\n",
       "    <tr>\n",
       "      <th>genre</th>\n",
       "      <th></th>\n",
       "    </tr>\n",
       "  </thead>\n",
       "  <tbody>\n",
       "    <tr>\n",
       "      <th>Action</th>\n",
       "      <td>7.058129</td>\n",
       "    </tr>\n",
       "    <tr>\n",
       "      <th>Adventure</th>\n",
       "      <td>7.139597</td>\n",
       "    </tr>\n",
       "    <tr>\n",
       "      <th>Fighting</th>\n",
       "      <td>7.295949</td>\n",
       "    </tr>\n",
       "    <tr>\n",
       "      <th>Misc</th>\n",
       "      <td>6.805828</td>\n",
       "    </tr>\n",
       "    <tr>\n",
       "      <th>Platform</th>\n",
       "      <td>7.305896</td>\n",
       "    </tr>\n",
       "    <tr>\n",
       "      <th>Puzzle</th>\n",
       "      <td>7.138400</td>\n",
       "    </tr>\n",
       "    <tr>\n",
       "      <th>Racing</th>\n",
       "      <td>7.040859</td>\n",
       "    </tr>\n",
       "    <tr>\n",
       "      <th>Role-Playing</th>\n",
       "      <td>7.624423</td>\n",
       "    </tr>\n",
       "    <tr>\n",
       "      <th>Shooter</th>\n",
       "      <td>7.053260</td>\n",
       "    </tr>\n",
       "    <tr>\n",
       "      <th>Simulation</th>\n",
       "      <td>7.132153</td>\n",
       "    </tr>\n",
       "    <tr>\n",
       "      <th>Sports</th>\n",
       "      <td>6.951434</td>\n",
       "    </tr>\n",
       "    <tr>\n",
       "      <th>Strategy</th>\n",
       "      <td>7.294426</td>\n",
       "    </tr>\n",
       "  </tbody>\n",
       "</table>\n",
       "</div>"
      ],
      "text/plain": [
       "              user_score\n",
       "genre                   \n",
       "Action          7.058129\n",
       "Adventure       7.139597\n",
       "Fighting        7.295949\n",
       "Misc            6.805828\n",
       "Platform        7.305896\n",
       "Puzzle          7.138400\n",
       "Racing          7.040859\n",
       "Role-Playing    7.624423\n",
       "Shooter         7.053260\n",
       "Simulation      7.132153\n",
       "Sports          6.951434\n",
       "Strategy        7.294426"
      ]
     },
     "execution_count": 13,
     "metadata": {},
     "output_type": "execute_result"
    }
   ],
   "source": [
    "data_user = data[data['user_score']!=10] #\n",
    "data_user['user_score'] = pd.to_numeric(data_user['user_score']) #change type to float\n",
    "data_user.loc[:,['user_score']].info() #check\n",
    "data_user_pivot = data_user.pivot_table(index='genre', values='user_score') #pivot genre by genre for the user_score\n",
    "data_user_pivot "
   ]
  },
  {
   "cell_type": "code",
   "execution_count": 14,
   "metadata": {},
   "outputs": [
    {
     "data": {
      "text/html": [
       "<div>\n",
       "<style scoped>\n",
       "    .dataframe tbody tr th:only-of-type {\n",
       "        vertical-align: middle;\n",
       "    }\n",
       "\n",
       "    .dataframe tbody tr th {\n",
       "        vertical-align: top;\n",
       "    }\n",
       "\n",
       "    .dataframe thead th {\n",
       "        text-align: right;\n",
       "    }\n",
       "</style>\n",
       "<table border=\"1\" class=\"dataframe\">\n",
       "  <thead>\n",
       "    <tr style=\"text-align: right;\">\n",
       "      <th></th>\n",
       "      <th>name</th>\n",
       "      <th>platform</th>\n",
       "      <th>year_of_release</th>\n",
       "      <th>genre</th>\n",
       "      <th>na_sales_mln</th>\n",
       "      <th>eu_sales_mln</th>\n",
       "      <th>jp_sales_mln</th>\n",
       "      <th>other_sales_mln</th>\n",
       "      <th>critic_score_x</th>\n",
       "      <th>user_score_x</th>\n",
       "      <th>rating</th>\n",
       "      <th>sales_total_mln</th>\n",
       "      <th>critic_score_y</th>\n",
       "      <th>user_score_y</th>\n",
       "    </tr>\n",
       "  </thead>\n",
       "  <tbody>\n",
       "    <tr>\n",
       "      <th>0</th>\n",
       "      <td>Wii Sports</td>\n",
       "      <td>Wii</td>\n",
       "      <td>2006.0</td>\n",
       "      <td>Sports</td>\n",
       "      <td>41.36</td>\n",
       "      <td>28.96</td>\n",
       "      <td>3.77</td>\n",
       "      <td>8.45</td>\n",
       "      <td>76.000000</td>\n",
       "      <td>8</td>\n",
       "      <td>E</td>\n",
       "      <td>82.54</td>\n",
       "      <td>71.993133</td>\n",
       "      <td>6.951434</td>\n",
       "    </tr>\n",
       "    <tr>\n",
       "      <th>1</th>\n",
       "      <td>Super Mario Bros.</td>\n",
       "      <td>NES</td>\n",
       "      <td>1985.0</td>\n",
       "      <td>Platform</td>\n",
       "      <td>29.08</td>\n",
       "      <td>3.58</td>\n",
       "      <td>6.81</td>\n",
       "      <td>0.77</td>\n",
       "      <td>68.124490</td>\n",
       "      <td>10</td>\n",
       "      <td>NaN</td>\n",
       "      <td>40.24</td>\n",
       "      <td>68.124490</td>\n",
       "      <td>7.305896</td>\n",
       "    </tr>\n",
       "    <tr>\n",
       "      <th>2</th>\n",
       "      <td>Mario Kart Wii</td>\n",
       "      <td>Wii</td>\n",
       "      <td>2008.0</td>\n",
       "      <td>Racing</td>\n",
       "      <td>15.68</td>\n",
       "      <td>12.76</td>\n",
       "      <td>3.79</td>\n",
       "      <td>3.29</td>\n",
       "      <td>82.000000</td>\n",
       "      <td>8.3</td>\n",
       "      <td>E</td>\n",
       "      <td>35.52</td>\n",
       "      <td>68.006897</td>\n",
       "      <td>7.040859</td>\n",
       "    </tr>\n",
       "    <tr>\n",
       "      <th>3</th>\n",
       "      <td>Wii Sports Resort</td>\n",
       "      <td>Wii</td>\n",
       "      <td>2009.0</td>\n",
       "      <td>Sports</td>\n",
       "      <td>15.61</td>\n",
       "      <td>10.93</td>\n",
       "      <td>3.28</td>\n",
       "      <td>2.95</td>\n",
       "      <td>80.000000</td>\n",
       "      <td>8</td>\n",
       "      <td>E</td>\n",
       "      <td>32.77</td>\n",
       "      <td>71.993133</td>\n",
       "      <td>6.951434</td>\n",
       "    </tr>\n",
       "    <tr>\n",
       "      <th>4</th>\n",
       "      <td>Pokemon Red/Pokemon Blue</td>\n",
       "      <td>GB</td>\n",
       "      <td>1996.0</td>\n",
       "      <td>Role-Playing</td>\n",
       "      <td>11.27</td>\n",
       "      <td>8.89</td>\n",
       "      <td>10.22</td>\n",
       "      <td>1.00</td>\n",
       "      <td>72.655267</td>\n",
       "      <td>10</td>\n",
       "      <td>NaN</td>\n",
       "      <td>31.38</td>\n",
       "      <td>72.655267</td>\n",
       "      <td>7.624423</td>\n",
       "    </tr>\n",
       "  </tbody>\n",
       "</table>\n",
       "</div>"
      ],
      "text/plain": [
       "                       name platform  year_of_release         genre  \\\n",
       "0                Wii Sports      Wii           2006.0        Sports   \n",
       "1         Super Mario Bros.      NES           1985.0      Platform   \n",
       "2            Mario Kart Wii      Wii           2008.0        Racing   \n",
       "3         Wii Sports Resort      Wii           2009.0        Sports   \n",
       "4  Pokemon Red/Pokemon Blue       GB           1996.0  Role-Playing   \n",
       "\n",
       "   na_sales_mln  eu_sales_mln  jp_sales_mln  other_sales_mln  critic_score_x  \\\n",
       "0         41.36         28.96          3.77             8.45       76.000000   \n",
       "1         29.08          3.58          6.81             0.77       68.124490   \n",
       "2         15.68         12.76          3.79             3.29       82.000000   \n",
       "3         15.61         10.93          3.28             2.95       80.000000   \n",
       "4         11.27          8.89         10.22             1.00       72.655267   \n",
       "\n",
       "  user_score_x rating  sales_total_mln  critic_score_y  user_score_y  \n",
       "0            8      E            82.54       71.993133      6.951434  \n",
       "1           10    NaN            40.24       68.124490      7.305896  \n",
       "2          8.3      E            35.52       68.006897      7.040859  \n",
       "3            8      E            32.77       71.993133      6.951434  \n",
       "4           10    NaN            31.38       72.655267      7.624423  "
      ]
     },
     "execution_count": 14,
     "metadata": {},
     "output_type": "execute_result"
    }
   ],
   "source": [
    "data = data.merge(data_user_pivot, on='genre', how='left')#add pivot values to the data table via merge, keeping all data rows\n",
    "data.head() #check"
   ]
  },
  {
   "cell_type": "code",
   "execution_count": 15,
   "metadata": {},
   "outputs": [
    {
     "data": {
      "text/html": [
       "<div>\n",
       "<style scoped>\n",
       "    .dataframe tbody tr th:only-of-type {\n",
       "        vertical-align: middle;\n",
       "    }\n",
       "\n",
       "    .dataframe tbody tr th {\n",
       "        vertical-align: top;\n",
       "    }\n",
       "\n",
       "    .dataframe thead th {\n",
       "        text-align: right;\n",
       "    }\n",
       "</style>\n",
       "<table border=\"1\" class=\"dataframe\">\n",
       "  <thead>\n",
       "    <tr style=\"text-align: right;\">\n",
       "      <th></th>\n",
       "      <th>name</th>\n",
       "      <th>platform</th>\n",
       "      <th>year_of_release</th>\n",
       "      <th>genre</th>\n",
       "      <th>na_sales_mln</th>\n",
       "      <th>eu_sales_mln</th>\n",
       "      <th>jp_sales_mln</th>\n",
       "      <th>other_sales_mln</th>\n",
       "      <th>critic_score_x</th>\n",
       "      <th>user_score_x</th>\n",
       "      <th>rating</th>\n",
       "      <th>sales_total_mln</th>\n",
       "      <th>critic_score_y</th>\n",
       "      <th>user_score_y</th>\n",
       "    </tr>\n",
       "  </thead>\n",
       "  <tbody>\n",
       "    <tr>\n",
       "      <th>0</th>\n",
       "      <td>Wii Sports</td>\n",
       "      <td>Wii</td>\n",
       "      <td>2006.0</td>\n",
       "      <td>Sports</td>\n",
       "      <td>41.36</td>\n",
       "      <td>28.96</td>\n",
       "      <td>3.77</td>\n",
       "      <td>8.45</td>\n",
       "      <td>76.000000</td>\n",
       "      <td>8</td>\n",
       "      <td>E</td>\n",
       "      <td>82.54</td>\n",
       "      <td>71.993133</td>\n",
       "      <td>6.951434</td>\n",
       "    </tr>\n",
       "    <tr>\n",
       "      <th>1</th>\n",
       "      <td>Super Mario Bros.</td>\n",
       "      <td>NES</td>\n",
       "      <td>1985.0</td>\n",
       "      <td>Platform</td>\n",
       "      <td>29.08</td>\n",
       "      <td>3.58</td>\n",
       "      <td>6.81</td>\n",
       "      <td>0.77</td>\n",
       "      <td>68.124490</td>\n",
       "      <td>7.305896</td>\n",
       "      <td>NaN</td>\n",
       "      <td>40.24</td>\n",
       "      <td>68.124490</td>\n",
       "      <td>7.305896</td>\n",
       "    </tr>\n",
       "    <tr>\n",
       "      <th>2</th>\n",
       "      <td>Mario Kart Wii</td>\n",
       "      <td>Wii</td>\n",
       "      <td>2008.0</td>\n",
       "      <td>Racing</td>\n",
       "      <td>15.68</td>\n",
       "      <td>12.76</td>\n",
       "      <td>3.79</td>\n",
       "      <td>3.29</td>\n",
       "      <td>82.000000</td>\n",
       "      <td>8.3</td>\n",
       "      <td>E</td>\n",
       "      <td>35.52</td>\n",
       "      <td>68.006897</td>\n",
       "      <td>7.040859</td>\n",
       "    </tr>\n",
       "    <tr>\n",
       "      <th>3</th>\n",
       "      <td>Wii Sports Resort</td>\n",
       "      <td>Wii</td>\n",
       "      <td>2009.0</td>\n",
       "      <td>Sports</td>\n",
       "      <td>15.61</td>\n",
       "      <td>10.93</td>\n",
       "      <td>3.28</td>\n",
       "      <td>2.95</td>\n",
       "      <td>80.000000</td>\n",
       "      <td>8</td>\n",
       "      <td>E</td>\n",
       "      <td>32.77</td>\n",
       "      <td>71.993133</td>\n",
       "      <td>6.951434</td>\n",
       "    </tr>\n",
       "    <tr>\n",
       "      <th>4</th>\n",
       "      <td>Pokemon Red/Pokemon Blue</td>\n",
       "      <td>GB</td>\n",
       "      <td>1996.0</td>\n",
       "      <td>Role-Playing</td>\n",
       "      <td>11.27</td>\n",
       "      <td>8.89</td>\n",
       "      <td>10.22</td>\n",
       "      <td>1.00</td>\n",
       "      <td>72.655267</td>\n",
       "      <td>7.624423</td>\n",
       "      <td>NaN</td>\n",
       "      <td>31.38</td>\n",
       "      <td>72.655267</td>\n",
       "      <td>7.624423</td>\n",
       "    </tr>\n",
       "  </tbody>\n",
       "</table>\n",
       "</div>"
      ],
      "text/plain": [
       "                       name platform  year_of_release         genre  \\\n",
       "0                Wii Sports      Wii           2006.0        Sports   \n",
       "1         Super Mario Bros.      NES           1985.0      Platform   \n",
       "2            Mario Kart Wii      Wii           2008.0        Racing   \n",
       "3         Wii Sports Resort      Wii           2009.0        Sports   \n",
       "4  Pokemon Red/Pokemon Blue       GB           1996.0  Role-Playing   \n",
       "\n",
       "   na_sales_mln  eu_sales_mln  jp_sales_mln  other_sales_mln  critic_score_x  \\\n",
       "0         41.36         28.96          3.77             8.45       76.000000   \n",
       "1         29.08          3.58          6.81             0.77       68.124490   \n",
       "2         15.68         12.76          3.79             3.29       82.000000   \n",
       "3         15.61         10.93          3.28             2.95       80.000000   \n",
       "4         11.27          8.89         10.22             1.00       72.655267   \n",
       "\n",
       "  user_score_x rating  sales_total_mln  critic_score_y  user_score_y  \n",
       "0            8      E            82.54       71.993133      6.951434  \n",
       "1     7.305896    NaN            40.24       68.124490      7.305896  \n",
       "2          8.3      E            35.52       68.006897      7.040859  \n",
       "3            8      E            32.77       71.993133      6.951434  \n",
       "4     7.624423    NaN            31.38       72.655267      7.624423  "
      ]
     },
     "execution_count": 15,
     "metadata": {},
     "output_type": "execute_result"
    }
   ],
   "source": [
    "data['user_score_x'] = data['user_score_x'].where(data['user_score_x']!=10,data['user_score_y']) #replace \"gaps\" (value 10) in user_score with average values from user_score by genre\n",
    "data.head() #check"
   ]
  },
  {
   "cell_type": "code",
   "execution_count": 16,
   "metadata": {},
   "outputs": [
    {
     "name": "stdout",
     "output_type": "stream",
     "text": [
      "<class 'pandas.core.frame.DataFrame'>\n",
      "Int64Index: 16444 entries, 0 to 16443\n",
      "Data columns (total 14 columns):\n",
      " #   Column           Non-Null Count  Dtype  \n",
      "---  ------           --------------  -----  \n",
      " 0   name             16444 non-null  object \n",
      " 1   platform         16444 non-null  object \n",
      " 2   year_of_release  16444 non-null  int64  \n",
      " 3   genre            16444 non-null  object \n",
      " 4   na_sales_mln     16444 non-null  float64\n",
      " 5   eu_sales_mln     16444 non-null  float64\n",
      " 6   jp_sales_mln     16444 non-null  float64\n",
      " 7   other_sales_mln  16444 non-null  float64\n",
      " 8   critic_score_x   16444 non-null  int64  \n",
      " 9   user_score_x     16444 non-null  float64\n",
      " 10  rating           9768 non-null   object \n",
      " 11  sales_total_mln  16444 non-null  float64\n",
      " 12  critic_score_y   16444 non-null  float64\n",
      " 13  user_score_y     16444 non-null  float64\n",
      "dtypes: float64(8), int64(2), object(4)\n",
      "memory usage: 1.9+ MB\n"
     ]
    }
   ],
   "source": [
    "#2.3\n",
    "#Data type changes\n",
    "data['critic_score_x'] = data['critic_score_x'].astype('int') #INT for critic_score_x, as initial scores are whole numbers\n",
    "data['user_score_x'] = pd.to_numeric(data['user_score_x']) \n",
    "data['year_of_release'] = data['year_of_release'].astype('int') \n",
    "data.info() "
   ]
  },
  {
   "cell_type": "code",
   "execution_count": 17,
   "metadata": {
    "scrolled": true
   },
   "outputs": [
    {
     "data": {
      "text/plain": [
       "array(['E', nan, 'M', 'T', 'E10+', 'K-A', 'AO', 'EC', 'RP'], dtype=object)"
      ]
     },
     "metadata": {},
     "output_type": "display_data"
    },
    {
     "data": {
      "text/html": [
       "<div>\n",
       "<style scoped>\n",
       "    .dataframe tbody tr th:only-of-type {\n",
       "        vertical-align: middle;\n",
       "    }\n",
       "\n",
       "    .dataframe tbody tr th {\n",
       "        vertical-align: top;\n",
       "    }\n",
       "\n",
       "    .dataframe thead th {\n",
       "        text-align: right;\n",
       "    }\n",
       "</style>\n",
       "<table border=\"1\" class=\"dataframe\">\n",
       "  <thead>\n",
       "    <tr style=\"text-align: right;\">\n",
       "      <th></th>\n",
       "      <th></th>\n",
       "      <th>name</th>\n",
       "    </tr>\n",
       "    <tr>\n",
       "      <th>rating</th>\n",
       "      <th>genre</th>\n",
       "      <th></th>\n",
       "    </tr>\n",
       "  </thead>\n",
       "  <tbody>\n",
       "    <tr>\n",
       "      <th>AO</th>\n",
       "      <th>Action</th>\n",
       "      <td>1</td>\n",
       "    </tr>\n",
       "    <tr>\n",
       "      <th rowspan=\"12\" valign=\"top\">E</th>\n",
       "      <th>Action</th>\n",
       "      <td>410</td>\n",
       "    </tr>\n",
       "    <tr>\n",
       "      <th>Adventure</th>\n",
       "      <td>159</td>\n",
       "    </tr>\n",
       "    <tr>\n",
       "      <th>Fighting</th>\n",
       "      <td>8</td>\n",
       "    </tr>\n",
       "    <tr>\n",
       "      <th>Misc</th>\n",
       "      <td>449</td>\n",
       "    </tr>\n",
       "    <tr>\n",
       "      <th>Platform</th>\n",
       "      <td>354</td>\n",
       "    </tr>\n",
       "    <tr>\n",
       "      <th>Puzzle</th>\n",
       "      <td>284</td>\n",
       "    </tr>\n",
       "    <tr>\n",
       "      <th>Racing</th>\n",
       "      <td>576</td>\n",
       "    </tr>\n",
       "    <tr>\n",
       "      <th>Role-Playing</th>\n",
       "      <td>83</td>\n",
       "    </tr>\n",
       "    <tr>\n",
       "      <th>Shooter</th>\n",
       "      <td>47</td>\n",
       "    </tr>\n",
       "    <tr>\n",
       "      <th>Simulation</th>\n",
       "      <td>321</td>\n",
       "    </tr>\n",
       "    <tr>\n",
       "      <th>Sports</th>\n",
       "      <td>1162</td>\n",
       "    </tr>\n",
       "    <tr>\n",
       "      <th>Strategy</th>\n",
       "      <td>68</td>\n",
       "    </tr>\n",
       "    <tr>\n",
       "      <th rowspan=\"12\" valign=\"top\">E10+</th>\n",
       "      <th>Action</th>\n",
       "      <td>468</td>\n",
       "    </tr>\n",
       "    <tr>\n",
       "      <th>Adventure</th>\n",
       "      <td>67</td>\n",
       "    </tr>\n",
       "    <tr>\n",
       "      <th>Fighting</th>\n",
       "      <td>19</td>\n",
       "    </tr>\n",
       "    <tr>\n",
       "      <th>Misc</th>\n",
       "      <td>166</td>\n",
       "    </tr>\n",
       "    <tr>\n",
       "      <th>Platform</th>\n",
       "      <td>141</td>\n",
       "    </tr>\n",
       "    <tr>\n",
       "      <th>Puzzle</th>\n",
       "      <td>42</td>\n",
       "    </tr>\n",
       "    <tr>\n",
       "      <th>Racing</th>\n",
       "      <td>95</td>\n",
       "    </tr>\n",
       "    <tr>\n",
       "      <th>Role-Playing</th>\n",
       "      <td>111</td>\n",
       "    </tr>\n",
       "    <tr>\n",
       "      <th>Shooter</th>\n",
       "      <td>56</td>\n",
       "    </tr>\n",
       "    <tr>\n",
       "      <th>Simulation</th>\n",
       "      <td>47</td>\n",
       "    </tr>\n",
       "    <tr>\n",
       "      <th>Sports</th>\n",
       "      <td>105</td>\n",
       "    </tr>\n",
       "    <tr>\n",
       "      <th>Strategy</th>\n",
       "      <td>76</td>\n",
       "    </tr>\n",
       "    <tr>\n",
       "      <th rowspan=\"3\" valign=\"top\">EC</th>\n",
       "      <th>Action</th>\n",
       "      <td>1</td>\n",
       "    </tr>\n",
       "    <tr>\n",
       "      <th>Adventure</th>\n",
       "      <td>2</td>\n",
       "    </tr>\n",
       "    <tr>\n",
       "      <th>Misc</th>\n",
       "      <td>5</td>\n",
       "    </tr>\n",
       "    <tr>\n",
       "      <th rowspan=\"2\" valign=\"top\">K-A</th>\n",
       "      <th>Misc</th>\n",
       "      <td>1</td>\n",
       "    </tr>\n",
       "    <tr>\n",
       "      <th>Strategy</th>\n",
       "      <td>2</td>\n",
       "    </tr>\n",
       "    <tr>\n",
       "      <th rowspan=\"11\" valign=\"top\">M</th>\n",
       "      <th>Action</th>\n",
       "      <td>596</td>\n",
       "    </tr>\n",
       "    <tr>\n",
       "      <th>Adventure</th>\n",
       "      <td>98</td>\n",
       "    </tr>\n",
       "    <tr>\n",
       "      <th>Fighting</th>\n",
       "      <td>48</td>\n",
       "    </tr>\n",
       "    <tr>\n",
       "      <th>Misc</th>\n",
       "      <td>13</td>\n",
       "    </tr>\n",
       "    <tr>\n",
       "      <th>Platform</th>\n",
       "      <td>3</td>\n",
       "    </tr>\n",
       "    <tr>\n",
       "      <th>Racing</th>\n",
       "      <td>18</td>\n",
       "    </tr>\n",
       "    <tr>\n",
       "      <th>Role-Playing</th>\n",
       "      <td>161</td>\n",
       "    </tr>\n",
       "    <tr>\n",
       "      <th>Shooter</th>\n",
       "      <td>553</td>\n",
       "    </tr>\n",
       "    <tr>\n",
       "      <th>Simulation</th>\n",
       "      <td>5</td>\n",
       "    </tr>\n",
       "    <tr>\n",
       "      <th>Sports</th>\n",
       "      <td>16</td>\n",
       "    </tr>\n",
       "    <tr>\n",
       "      <th>Strategy</th>\n",
       "      <td>25</td>\n",
       "    </tr>\n",
       "    <tr>\n",
       "      <th>RP</th>\n",
       "      <th>Strategy</th>\n",
       "      <td>1</td>\n",
       "    </tr>\n",
       "    <tr>\n",
       "      <th rowspan=\"12\" valign=\"top\">T</th>\n",
       "      <th>Action</th>\n",
       "      <td>670</td>\n",
       "    </tr>\n",
       "    <tr>\n",
       "      <th>Adventure</th>\n",
       "      <td>114</td>\n",
       "    </tr>\n",
       "    <tr>\n",
       "      <th>Fighting</th>\n",
       "      <td>357</td>\n",
       "    </tr>\n",
       "    <tr>\n",
       "      <th>Misc</th>\n",
       "      <td>228</td>\n",
       "    </tr>\n",
       "    <tr>\n",
       "      <th>Platform</th>\n",
       "      <td>63</td>\n",
       "    </tr>\n",
       "    <tr>\n",
       "      <th>Puzzle</th>\n",
       "      <td>10</td>\n",
       "    </tr>\n",
       "    <tr>\n",
       "      <th>Racing</th>\n",
       "      <td>167</td>\n",
       "    </tr>\n",
       "    <tr>\n",
       "      <th>Role-Playing</th>\n",
       "      <td>415</td>\n",
       "    </tr>\n",
       "    <tr>\n",
       "      <th>Shooter</th>\n",
       "      <td>340</td>\n",
       "    </tr>\n",
       "    <tr>\n",
       "      <th>Simulation</th>\n",
       "      <td>186</td>\n",
       "    </tr>\n",
       "    <tr>\n",
       "      <th>Sports</th>\n",
       "      <td>195</td>\n",
       "    </tr>\n",
       "    <tr>\n",
       "      <th>Strategy</th>\n",
       "      <td>160</td>\n",
       "    </tr>\n",
       "  </tbody>\n",
       "</table>\n",
       "</div>"
      ],
      "text/plain": [
       "                     name\n",
       "rating genre             \n",
       "AO     Action           1\n",
       "E      Action         410\n",
       "       Adventure      159\n",
       "       Fighting         8\n",
       "       Misc           449\n",
       "       Platform       354\n",
       "       Puzzle         284\n",
       "       Racing         576\n",
       "       Role-Playing    83\n",
       "       Shooter         47\n",
       "       Simulation     321\n",
       "       Sports        1162\n",
       "       Strategy        68\n",
       "E10+   Action         468\n",
       "       Adventure       67\n",
       "       Fighting        19\n",
       "       Misc           166\n",
       "       Platform       141\n",
       "       Puzzle          42\n",
       "       Racing          95\n",
       "       Role-Playing   111\n",
       "       Shooter         56\n",
       "       Simulation      47\n",
       "       Sports         105\n",
       "       Strategy        76\n",
       "EC     Action           1\n",
       "       Adventure        2\n",
       "       Misc             5\n",
       "K-A    Misc             1\n",
       "       Strategy         2\n",
       "M      Action         596\n",
       "       Adventure       98\n",
       "       Fighting        48\n",
       "       Misc            13\n",
       "       Platform         3\n",
       "       Racing          18\n",
       "       Role-Playing   161\n",
       "       Shooter        553\n",
       "       Simulation       5\n",
       "       Sports          16\n",
       "       Strategy        25\n",
       "RP     Strategy         1\n",
       "T      Action         670\n",
       "       Adventure      114\n",
       "       Fighting       357\n",
       "       Misc           228\n",
       "       Platform        63\n",
       "       Puzzle          10\n",
       "       Racing         167\n",
       "       Role-Playing   415\n",
       "       Shooter        340\n",
       "       Simulation     186\n",
       "       Sports         195\n",
       "       Strategy       160"
      ]
     },
     "execution_count": 17,
     "metadata": {},
     "output_type": "execute_result"
    }
   ],
   "source": [
    "display(data['rating'].unique()) #unique rating\n",
    "data.pivot_table(index=['rating', 'genre'], values='name', aggfunc='count') "
   ]
  },
  {
   "cell_type": "code",
   "execution_count": 18,
   "metadata": {},
   "outputs": [
    {
     "data": {
      "text/plain": [
       "array(['Platform', 'Role-Playing', 'Puzzle', 'Shooter', 'Simulation',\n",
       "       'Action', 'Adventure', 'Racing', 'Misc', 'Sports', 'Fighting',\n",
       "       'Strategy'], dtype=object)"
      ]
     },
     "execution_count": 18,
     "metadata": {},
     "output_type": "execute_result"
    }
   ],
   "source": [
    "data[data['rating'].isna()]['genre'].unique() #unique genre in gaps for rating "
   ]
  },
  {
   "cell_type": "markdown",
   "metadata": {},
   "source": [
    "Because one type of genre corresponds to several types of age rating and vice versa - it will not work to replace gaps in the rating with some correlating value of genres. Therefore, it is proposed to leave the gaps and rename them to `unknown`. Most likely, the omissions in the age rating are intentional - the games were not evaluated for age or there is no data. There is a possibility that the omissions mean that there is no rating and the games are suitable for everyone. However, there are gaps in the Shooter genre, where the restriction most likely should exist."
   ]
  },
  {
   "cell_type": "code",
   "execution_count": 19,
   "metadata": {},
   "outputs": [
    {
     "data": {
      "text/html": [
       "<div>\n",
       "<style scoped>\n",
       "    .dataframe tbody tr th:only-of-type {\n",
       "        vertical-align: middle;\n",
       "    }\n",
       "\n",
       "    .dataframe tbody tr th {\n",
       "        vertical-align: top;\n",
       "    }\n",
       "\n",
       "    .dataframe thead th {\n",
       "        text-align: right;\n",
       "    }\n",
       "</style>\n",
       "<table border=\"1\" class=\"dataframe\">\n",
       "  <thead>\n",
       "    <tr style=\"text-align: right;\">\n",
       "      <th></th>\n",
       "      <th>name</th>\n",
       "      <th>platform</th>\n",
       "      <th>year_of_release</th>\n",
       "      <th>genre</th>\n",
       "      <th>na_sales_mln</th>\n",
       "      <th>eu_sales_mln</th>\n",
       "      <th>jp_sales_mln</th>\n",
       "      <th>other_sales_mln</th>\n",
       "      <th>critic_score_x</th>\n",
       "      <th>user_score_x</th>\n",
       "      <th>rating</th>\n",
       "      <th>sales_total_mln</th>\n",
       "      <th>critic_score_y</th>\n",
       "      <th>user_score_y</th>\n",
       "    </tr>\n",
       "  </thead>\n",
       "  <tbody>\n",
       "    <tr>\n",
       "      <th>0</th>\n",
       "      <td>Wii Sports</td>\n",
       "      <td>Wii</td>\n",
       "      <td>2006</td>\n",
       "      <td>Sports</td>\n",
       "      <td>41.36</td>\n",
       "      <td>28.96</td>\n",
       "      <td>3.77</td>\n",
       "      <td>8.45</td>\n",
       "      <td>76</td>\n",
       "      <td>8.000000</td>\n",
       "      <td>E</td>\n",
       "      <td>82.54</td>\n",
       "      <td>71.993133</td>\n",
       "      <td>6.951434</td>\n",
       "    </tr>\n",
       "    <tr>\n",
       "      <th>1</th>\n",
       "      <td>Super Mario Bros.</td>\n",
       "      <td>NES</td>\n",
       "      <td>1985</td>\n",
       "      <td>Platform</td>\n",
       "      <td>29.08</td>\n",
       "      <td>3.58</td>\n",
       "      <td>6.81</td>\n",
       "      <td>0.77</td>\n",
       "      <td>68</td>\n",
       "      <td>7.305896</td>\n",
       "      <td>Unknown</td>\n",
       "      <td>40.24</td>\n",
       "      <td>68.124490</td>\n",
       "      <td>7.305896</td>\n",
       "    </tr>\n",
       "    <tr>\n",
       "      <th>2</th>\n",
       "      <td>Mario Kart Wii</td>\n",
       "      <td>Wii</td>\n",
       "      <td>2008</td>\n",
       "      <td>Racing</td>\n",
       "      <td>15.68</td>\n",
       "      <td>12.76</td>\n",
       "      <td>3.79</td>\n",
       "      <td>3.29</td>\n",
       "      <td>82</td>\n",
       "      <td>8.300000</td>\n",
       "      <td>E</td>\n",
       "      <td>35.52</td>\n",
       "      <td>68.006897</td>\n",
       "      <td>7.040859</td>\n",
       "    </tr>\n",
       "    <tr>\n",
       "      <th>3</th>\n",
       "      <td>Wii Sports Resort</td>\n",
       "      <td>Wii</td>\n",
       "      <td>2009</td>\n",
       "      <td>Sports</td>\n",
       "      <td>15.61</td>\n",
       "      <td>10.93</td>\n",
       "      <td>3.28</td>\n",
       "      <td>2.95</td>\n",
       "      <td>80</td>\n",
       "      <td>8.000000</td>\n",
       "      <td>E</td>\n",
       "      <td>32.77</td>\n",
       "      <td>71.993133</td>\n",
       "      <td>6.951434</td>\n",
       "    </tr>\n",
       "    <tr>\n",
       "      <th>4</th>\n",
       "      <td>Pokemon Red/Pokemon Blue</td>\n",
       "      <td>GB</td>\n",
       "      <td>1996</td>\n",
       "      <td>Role-Playing</td>\n",
       "      <td>11.27</td>\n",
       "      <td>8.89</td>\n",
       "      <td>10.22</td>\n",
       "      <td>1.00</td>\n",
       "      <td>72</td>\n",
       "      <td>7.624423</td>\n",
       "      <td>Unknown</td>\n",
       "      <td>31.38</td>\n",
       "      <td>72.655267</td>\n",
       "      <td>7.624423</td>\n",
       "    </tr>\n",
       "  </tbody>\n",
       "</table>\n",
       "</div>"
      ],
      "text/plain": [
       "                       name platform  year_of_release         genre  \\\n",
       "0                Wii Sports      Wii             2006        Sports   \n",
       "1         Super Mario Bros.      NES             1985      Platform   \n",
       "2            Mario Kart Wii      Wii             2008        Racing   \n",
       "3         Wii Sports Resort      Wii             2009        Sports   \n",
       "4  Pokemon Red/Pokemon Blue       GB             1996  Role-Playing   \n",
       "\n",
       "   na_sales_mln  eu_sales_mln  jp_sales_mln  other_sales_mln  critic_score_x  \\\n",
       "0         41.36         28.96          3.77             8.45              76   \n",
       "1         29.08          3.58          6.81             0.77              68   \n",
       "2         15.68         12.76          3.79             3.29              82   \n",
       "3         15.61         10.93          3.28             2.95              80   \n",
       "4         11.27          8.89         10.22             1.00              72   \n",
       "\n",
       "   user_score_x   rating  sales_total_mln  critic_score_y  user_score_y  \n",
       "0      8.000000        E            82.54       71.993133      6.951434  \n",
       "1      7.305896  Unknown            40.24       68.124490      7.305896  \n",
       "2      8.300000        E            35.52       68.006897      7.040859  \n",
       "3      8.000000        E            32.77       71.993133      6.951434  \n",
       "4      7.624423  Unknown            31.38       72.655267      7.624423  "
      ]
     },
     "execution_count": 19,
     "metadata": {},
     "output_type": "execute_result"
    }
   ],
   "source": [
    "data['rating'] = data['rating'].where(data['rating'].notna(),'Unknown') \n",
    "data.head() #check"
   ]
  },
  {
   "cell_type": "markdown",
   "metadata": {},
   "source": [
    "### Conclusion\n",
    "The column names and types were changed, the gaps have been filled or removed during the second step."
   ]
  },
  {
   "cell_type": "markdown",
   "metadata": {},
   "source": [
    "<a id='third'></a>\n",
    "## Exploratory Data Analysis"
   ]
  },
  {
   "cell_type": "code",
   "execution_count": 20,
   "metadata": {
    "scrolled": true
   },
   "outputs": [
    {
     "data": {
      "text/html": [
       "<div>\n",
       "<style scoped>\n",
       "    .dataframe tbody tr th:only-of-type {\n",
       "        vertical-align: middle;\n",
       "    }\n",
       "\n",
       "    .dataframe tbody tr th {\n",
       "        vertical-align: top;\n",
       "    }\n",
       "\n",
       "    .dataframe thead th {\n",
       "        text-align: right;\n",
       "    }\n",
       "</style>\n",
       "<table border=\"1\" class=\"dataframe\">\n",
       "  <thead>\n",
       "    <tr style=\"text-align: right;\">\n",
       "      <th></th>\n",
       "      <th>name</th>\n",
       "    </tr>\n",
       "    <tr>\n",
       "      <th>year_of_release</th>\n",
       "      <th></th>\n",
       "    </tr>\n",
       "  </thead>\n",
       "  <tbody>\n",
       "    <tr>\n",
       "      <th>2008</th>\n",
       "      <td>1427</td>\n",
       "    </tr>\n",
       "    <tr>\n",
       "      <th>2009</th>\n",
       "      <td>1426</td>\n",
       "    </tr>\n",
       "    <tr>\n",
       "      <th>2010</th>\n",
       "      <td>1255</td>\n",
       "    </tr>\n",
       "    <tr>\n",
       "      <th>2007</th>\n",
       "      <td>1197</td>\n",
       "    </tr>\n",
       "    <tr>\n",
       "      <th>2011</th>\n",
       "      <td>1136</td>\n",
       "    </tr>\n",
       "    <tr>\n",
       "      <th>2006</th>\n",
       "      <td>1006</td>\n",
       "    </tr>\n",
       "    <tr>\n",
       "      <th>2005</th>\n",
       "      <td>939</td>\n",
       "    </tr>\n",
       "    <tr>\n",
       "      <th>2002</th>\n",
       "      <td>829</td>\n",
       "    </tr>\n",
       "    <tr>\n",
       "      <th>2003</th>\n",
       "      <td>775</td>\n",
       "    </tr>\n",
       "    <tr>\n",
       "      <th>2004</th>\n",
       "      <td>762</td>\n",
       "    </tr>\n",
       "    <tr>\n",
       "      <th>2012</th>\n",
       "      <td>653</td>\n",
       "    </tr>\n",
       "    <tr>\n",
       "      <th>2015</th>\n",
       "      <td>606</td>\n",
       "    </tr>\n",
       "    <tr>\n",
       "      <th>2014</th>\n",
       "      <td>581</td>\n",
       "    </tr>\n",
       "    <tr>\n",
       "      <th>2013</th>\n",
       "      <td>544</td>\n",
       "    </tr>\n",
       "    <tr>\n",
       "      <th>2016</th>\n",
       "      <td>502</td>\n",
       "    </tr>\n",
       "    <tr>\n",
       "      <th>2001</th>\n",
       "      <td>482</td>\n",
       "    </tr>\n",
       "    <tr>\n",
       "      <th>1998</th>\n",
       "      <td>379</td>\n",
       "    </tr>\n",
       "    <tr>\n",
       "      <th>2000</th>\n",
       "      <td>350</td>\n",
       "    </tr>\n",
       "    <tr>\n",
       "      <th>1999</th>\n",
       "      <td>338</td>\n",
       "    </tr>\n",
       "    <tr>\n",
       "      <th>1997</th>\n",
       "      <td>289</td>\n",
       "    </tr>\n",
       "    <tr>\n",
       "      <th>1996</th>\n",
       "      <td>263</td>\n",
       "    </tr>\n",
       "    <tr>\n",
       "      <th>1995</th>\n",
       "      <td>219</td>\n",
       "    </tr>\n",
       "    <tr>\n",
       "      <th>1994</th>\n",
       "      <td>121</td>\n",
       "    </tr>\n",
       "    <tr>\n",
       "      <th>1993</th>\n",
       "      <td>60</td>\n",
       "    </tr>\n",
       "    <tr>\n",
       "      <th>1981</th>\n",
       "      <td>46</td>\n",
       "    </tr>\n",
       "    <tr>\n",
       "      <th>1992</th>\n",
       "      <td>43</td>\n",
       "    </tr>\n",
       "    <tr>\n",
       "      <th>1991</th>\n",
       "      <td>41</td>\n",
       "    </tr>\n",
       "    <tr>\n",
       "      <th>1982</th>\n",
       "      <td>36</td>\n",
       "    </tr>\n",
       "    <tr>\n",
       "      <th>1986</th>\n",
       "      <td>21</td>\n",
       "    </tr>\n",
       "    <tr>\n",
       "      <th>1989</th>\n",
       "      <td>17</td>\n",
       "    </tr>\n",
       "    <tr>\n",
       "      <th>1983</th>\n",
       "      <td>17</td>\n",
       "    </tr>\n",
       "    <tr>\n",
       "      <th>1990</th>\n",
       "      <td>16</td>\n",
       "    </tr>\n",
       "    <tr>\n",
       "      <th>1987</th>\n",
       "      <td>16</td>\n",
       "    </tr>\n",
       "    <tr>\n",
       "      <th>1988</th>\n",
       "      <td>15</td>\n",
       "    </tr>\n",
       "    <tr>\n",
       "      <th>1985</th>\n",
       "      <td>14</td>\n",
       "    </tr>\n",
       "    <tr>\n",
       "      <th>1984</th>\n",
       "      <td>14</td>\n",
       "    </tr>\n",
       "    <tr>\n",
       "      <th>1980</th>\n",
       "      <td>9</td>\n",
       "    </tr>\n",
       "  </tbody>\n",
       "</table>\n",
       "</div>"
      ],
      "text/plain": [
       "                 name\n",
       "year_of_release      \n",
       "2008             1427\n",
       "2009             1426\n",
       "2010             1255\n",
       "2007             1197\n",
       "2011             1136\n",
       "2006             1006\n",
       "2005              939\n",
       "2002              829\n",
       "2003              775\n",
       "2004              762\n",
       "2012              653\n",
       "2015              606\n",
       "2014              581\n",
       "2013              544\n",
       "2016              502\n",
       "2001              482\n",
       "1998              379\n",
       "2000              350\n",
       "1999              338\n",
       "1997              289\n",
       "1996              263\n",
       "1995              219\n",
       "1994              121\n",
       "1993               60\n",
       "1981               46\n",
       "1992               43\n",
       "1991               41\n",
       "1982               36\n",
       "1986               21\n",
       "1989               17\n",
       "1983               17\n",
       "1990               16\n",
       "1987               16\n",
       "1988               15\n",
       "1985               14\n",
       "1984               14\n",
       "1980                9"
      ]
     },
     "execution_count": 20,
     "metadata": {},
     "output_type": "execute_result"
    }
   ],
   "source": [
    "#3.1\n",
    "data.pivot_table(index='year_of_release', values='name', aggfunc='count').sort_values(by='name', ascending=False) #Pivot by number of unique games by years in descending order"
   ]
  },
  {
   "cell_type": "code",
   "execution_count": 21,
   "metadata": {},
   "outputs": [
    {
     "data": {
      "text/plain": [
       "<AxesSubplot:xlabel='year_of_release'>"
      ]
     },
     "execution_count": 21,
     "metadata": {},
     "output_type": "execute_result"
    },
    {
     "data": {
      "image/png": "[encoded data removed]",
      "text/plain": [
       "<Figure size 576x288 with 1 Axes>"
      ]
     },
     "metadata": {
      "needs_background": "light"
     },
     "output_type": "display_data"
    }
   ],
   "source": [
    "data.pivot_table(index='year_of_release', values='name', aggfunc='count').plot(kind='bar', figsize =(8,4)) "
   ]
  },
  {
   "cell_type": "markdown",
   "metadata": {},
   "source": [
    "The largest number of games was produced in 2006-2011 - more than a thousand. In the 80-90s, the minimum number of games was released, moreover, these periods are very far from the date of analysis - they will be irrelevant for further analysis. Games in 2012-2016 were released about 500-650 pieces yearly, which is less than in the years before, however, these periods are close to the date of the analysis and will be relevant."
   ]
  },
  {
   "cell_type": "code",
   "execution_count": 22,
   "metadata": {
    "scrolled": true
   },
   "outputs": [
    {
     "data": {
      "text/html": [
       "<div>\n",
       "<style scoped>\n",
       "    .dataframe tbody tr th:only-of-type {\n",
       "        vertical-align: middle;\n",
       "    }\n",
       "\n",
       "    .dataframe tbody tr th {\n",
       "        vertical-align: top;\n",
       "    }\n",
       "\n",
       "    .dataframe thead th {\n",
       "        text-align: right;\n",
       "    }\n",
       "</style>\n",
       "<table border=\"1\" class=\"dataframe\">\n",
       "  <thead>\n",
       "    <tr style=\"text-align: right;\">\n",
       "      <th></th>\n",
       "      <th>sales_total_mln</th>\n",
       "    </tr>\n",
       "    <tr>\n",
       "      <th>platform</th>\n",
       "      <th></th>\n",
       "    </tr>\n",
       "  </thead>\n",
       "  <tbody>\n",
       "    <tr>\n",
       "      <th>PS2</th>\n",
       "      <td>1233.56</td>\n",
       "    </tr>\n",
       "    <tr>\n",
       "      <th>X360</th>\n",
       "      <td>961.24</td>\n",
       "    </tr>\n",
       "    <tr>\n",
       "      <th>PS3</th>\n",
       "      <td>931.34</td>\n",
       "    </tr>\n",
       "    <tr>\n",
       "      <th>Wii</th>\n",
       "      <td>891.18</td>\n",
       "    </tr>\n",
       "    <tr>\n",
       "      <th>DS</th>\n",
       "      <td>802.78</td>\n",
       "    </tr>\n",
       "    <tr>\n",
       "      <th>PS</th>\n",
       "      <td>727.58</td>\n",
       "    </tr>\n",
       "    <tr>\n",
       "      <th>PS4</th>\n",
       "      <td>314.14</td>\n",
       "    </tr>\n",
       "    <tr>\n",
       "      <th>GBA</th>\n",
       "      <td>312.88</td>\n",
       "    </tr>\n",
       "    <tr>\n",
       "      <th>PSP</th>\n",
       "      <td>289.53</td>\n",
       "    </tr>\n",
       "    <tr>\n",
       "      <th>3DS</th>\n",
       "      <td>257.81</td>\n",
       "    </tr>\n",
       "    <tr>\n",
       "      <th>PC</th>\n",
       "      <td>255.76</td>\n",
       "    </tr>\n",
       "    <tr>\n",
       "      <th>GB</th>\n",
       "      <td>254.43</td>\n",
       "    </tr>\n",
       "    <tr>\n",
       "      <th>XB</th>\n",
       "      <td>251.57</td>\n",
       "    </tr>\n",
       "    <tr>\n",
       "      <th>NES</th>\n",
       "      <td>251.05</td>\n",
       "    </tr>\n",
       "    <tr>\n",
       "      <th>N64</th>\n",
       "      <td>218.01</td>\n",
       "    </tr>\n",
       "    <tr>\n",
       "      <th>SNES</th>\n",
       "      <td>200.04</td>\n",
       "    </tr>\n",
       "    <tr>\n",
       "      <th>GC</th>\n",
       "      <td>196.73</td>\n",
       "    </tr>\n",
       "    <tr>\n",
       "      <th>XOne</th>\n",
       "      <td>159.32</td>\n",
       "    </tr>\n",
       "    <tr>\n",
       "      <th>2600</th>\n",
       "      <td>86.48</td>\n",
       "    </tr>\n",
       "    <tr>\n",
       "      <th>WiiU</th>\n",
       "      <td>82.19</td>\n",
       "    </tr>\n",
       "    <tr>\n",
       "      <th>PSV</th>\n",
       "      <td>53.81</td>\n",
       "    </tr>\n",
       "    <tr>\n",
       "      <th>SAT</th>\n",
       "      <td>33.59</td>\n",
       "    </tr>\n",
       "    <tr>\n",
       "      <th>GEN</th>\n",
       "      <td>28.35</td>\n",
       "    </tr>\n",
       "    <tr>\n",
       "      <th>DC</th>\n",
       "      <td>15.95</td>\n",
       "    </tr>\n",
       "    <tr>\n",
       "      <th>SCD</th>\n",
       "      <td>1.86</td>\n",
       "    </tr>\n",
       "    <tr>\n",
       "      <th>NG</th>\n",
       "      <td>1.44</td>\n",
       "    </tr>\n",
       "    <tr>\n",
       "      <th>WS</th>\n",
       "      <td>1.42</td>\n",
       "    </tr>\n",
       "    <tr>\n",
       "      <th>TG16</th>\n",
       "      <td>0.16</td>\n",
       "    </tr>\n",
       "    <tr>\n",
       "      <th>3DO</th>\n",
       "      <td>0.10</td>\n",
       "    </tr>\n",
       "    <tr>\n",
       "      <th>GG</th>\n",
       "      <td>0.04</td>\n",
       "    </tr>\n",
       "    <tr>\n",
       "      <th>PCFX</th>\n",
       "      <td>0.03</td>\n",
       "    </tr>\n",
       "  </tbody>\n",
       "</table>\n",
       "</div>"
      ],
      "text/plain": [
       "          sales_total_mln\n",
       "platform                 \n",
       "PS2               1233.56\n",
       "X360               961.24\n",
       "PS3                931.34\n",
       "Wii                891.18\n",
       "DS                 802.78\n",
       "PS                 727.58\n",
       "PS4                314.14\n",
       "GBA                312.88\n",
       "PSP                289.53\n",
       "3DS                257.81\n",
       "PC                 255.76\n",
       "GB                 254.43\n",
       "XB                 251.57\n",
       "NES                251.05\n",
       "N64                218.01\n",
       "SNES               200.04\n",
       "GC                 196.73\n",
       "XOne               159.32\n",
       "2600                86.48\n",
       "WiiU                82.19\n",
       "PSV                 53.81\n",
       "SAT                 33.59\n",
       "GEN                 28.35\n",
       "DC                  15.95\n",
       "SCD                  1.86\n",
       "NG                   1.44\n",
       "WS                   1.42\n",
       "TG16                 0.16\n",
       "3DO                  0.10\n",
       "GG                   0.04\n",
       "PCFX                 0.03"
      ]
     },
     "execution_count": 22,
     "metadata": {},
     "output_type": "execute_result"
    }
   ],
   "source": [
    "#3.2\n",
    "data.pivot_table(index='platform', values='sales_total_mln', aggfunc='sum').sort_values(by='sales_total_mln', ascending=False) #pivot by total sales by platform descending"
   ]
  },
  {
   "cell_type": "code",
   "execution_count": 23,
   "metadata": {},
   "outputs": [
    {
     "data": {
      "text/plain": [
       "<AxesSubplot:xlabel='platform'>"
      ]
     },
     "execution_count": 23,
     "metadata": {},
     "output_type": "execute_result"
    },
    {
     "data": {
      "image/png": "[encoded data removed]",
      "text/plain": [
       "<Figure size 576x288 with 1 Axes>"
      ]
     },
     "metadata": {
      "needs_background": "light"
     },
     "output_type": "display_data"
    }
   ],
   "source": [
    "data.pivot_table(index='platform', values='sales_total_mln', aggfunc='sum').sort_values(by='sales_total_mln', ascending = False).plot(kind='bar', figsize =(8,4)) "
   ]
  },
  {
   "cell_type": "code",
   "execution_count": 24,
   "metadata": {},
   "outputs": [
    {
     "data": {
      "text/plain": [
       "<AxesSubplot:xlabel='year_of_release'>"
      ]
     },
     "execution_count": 24,
     "metadata": {},
     "output_type": "execute_result"
    },
    {
     "data": {
      "image/png": "[encoded data removed]",
      "text/plain": [
       "<Figure size 432x288 with 1 Axes>"
      ]
     },
     "metadata": {
      "needs_background": "light"
     },
     "output_type": "display_data"
    }
   ],
   "source": [
    "data_top_platforms = data.loc[(data['platform']=='PS2') | (data['platform']=='PS3') | (data['platform']=='X360') | (data['platform']=='Wii') | (data['platform']=='DS') ] #platforms with biggest sales\n",
    "data_top_platforms_pivot = data_top_platforms.pivot_table(index='year_of_release', columns='platform', values='sales_total_mln', aggfunc='sum') #most popular platforms year by year\n",
    "data_top_platforms_pivot.plot(kind='bar') #distribution of cost by platforms by years"
   ]
  },
  {
   "cell_type": "markdown",
   "metadata": {},
   "source": [
    "The most popular platforms are PS2, X360, PS3. However, from the graph of sales by years, it can be seen that the PS2 platform has been popular since the beginning of the 2000s with a peak in 2004, but it began to be gradually replaced by PS3 since 2007, which is obvious from the name of the platforms. The X360 platform is also losing sales - most likely due to the beginning of the XOne era. The DS and Wii platforms have also peaked already and are in the decline. New platforms have been replacing the old ones for about 4-5 years since 2006, going through stages of growth, peak and decline in popularity."
   ]
  },
  {
   "cell_type": "code",
   "execution_count": 25,
   "metadata": {},
   "outputs": [
    {
     "name": "stdout",
     "output_type": "stream",
     "text": [
      "<class 'pandas.core.frame.DataFrame'>\n",
      "Int64Index: 1689 entries, 31 to 16443\n",
      "Data columns (total 14 columns):\n",
      " #   Column           Non-Null Count  Dtype  \n",
      "---  ------           --------------  -----  \n",
      " 0   name             1689 non-null   object \n",
      " 1   platform         1689 non-null   object \n",
      " 2   year_of_release  1689 non-null   int64  \n",
      " 3   genre            1689 non-null   object \n",
      " 4   na_sales_mln     1689 non-null   float64\n",
      " 5   eu_sales_mln     1689 non-null   float64\n",
      " 6   jp_sales_mln     1689 non-null   float64\n",
      " 7   other_sales_mln  1689 non-null   float64\n",
      " 8   critic_score_x   1689 non-null   int64  \n",
      " 9   user_score_x     1689 non-null   float64\n",
      " 10  rating           1689 non-null   object \n",
      " 11  sales_total_mln  1689 non-null   float64\n",
      " 12  critic_score_y   1689 non-null   float64\n",
      " 13  user_score_y     1689 non-null   float64\n",
      "dtypes: float64(8), int64(2), object(4)\n",
      "memory usage: 197.9+ KB\n"
     ]
    }
   ],
   "source": [
    "#3.3\n",
    "#3.4\n",
    "df=data[data['year_of_release']>2013] #save only relevant years -from 2014 \n",
    "df.info() "
   ]
  },
  {
   "cell_type": "markdown",
   "metadata": {},
   "source": [
    "Despite the fact that the largest number of sales occurred in 2008-2009 and earlier (2006-2007), in these years, the most sales were on platforms that have lost their relevance (PS2, Wii). Since the PC games industry is quite dynamic, it is suggested to take a short time frame of 3 years (2014-2016). In addition to the fact that 3 years is an adequate period for forecasting in business, starting from 2014, the sales trend is changing - sales of PS3 and X360, popular back in 2013, are falling sharply, which may indicate the emergence of new versions of platforms."
   ]
  },
  {
   "cell_type": "code",
   "execution_count": 26,
   "metadata": {},
   "outputs": [
    {
     "data": {
      "text/html": [
       "<div>\n",
       "<style scoped>\n",
       "    .dataframe tbody tr th:only-of-type {\n",
       "        vertical-align: middle;\n",
       "    }\n",
       "\n",
       "    .dataframe tbody tr th {\n",
       "        vertical-align: top;\n",
       "    }\n",
       "\n",
       "    .dataframe thead th {\n",
       "        text-align: right;\n",
       "    }\n",
       "</style>\n",
       "<table border=\"1\" class=\"dataframe\">\n",
       "  <thead>\n",
       "    <tr style=\"text-align: right;\">\n",
       "      <th></th>\n",
       "      <th>sales_total_mln</th>\n",
       "    </tr>\n",
       "    <tr>\n",
       "      <th>platform</th>\n",
       "      <th></th>\n",
       "    </tr>\n",
       "  </thead>\n",
       "  <tbody>\n",
       "    <tr>\n",
       "      <th>PS4</th>\n",
       "      <td>288.15</td>\n",
       "    </tr>\n",
       "    <tr>\n",
       "      <th>XOne</th>\n",
       "      <td>140.36</td>\n",
       "    </tr>\n",
       "    <tr>\n",
       "      <th>3DS</th>\n",
       "      <td>86.68</td>\n",
       "    </tr>\n",
       "    <tr>\n",
       "      <th>PS3</th>\n",
       "      <td>68.18</td>\n",
       "    </tr>\n",
       "    <tr>\n",
       "      <th>X360</th>\n",
       "      <td>48.22</td>\n",
       "    </tr>\n",
       "    <tr>\n",
       "      <th>WiiU</th>\n",
       "      <td>42.98</td>\n",
       "    </tr>\n",
       "    <tr>\n",
       "      <th>PC</th>\n",
       "      <td>27.05</td>\n",
       "    </tr>\n",
       "    <tr>\n",
       "      <th>PSV</th>\n",
       "      <td>22.40</td>\n",
       "    </tr>\n",
       "    <tr>\n",
       "      <th>Wii</th>\n",
       "      <td>5.07</td>\n",
       "    </tr>\n",
       "    <tr>\n",
       "      <th>PSP</th>\n",
       "      <td>0.36</td>\n",
       "    </tr>\n",
       "  </tbody>\n",
       "</table>\n",
       "</div>"
      ],
      "text/plain": [
       "          sales_total_mln\n",
       "platform                 \n",
       "PS4                288.15\n",
       "XOne               140.36\n",
       "3DS                 86.68\n",
       "PS3                 68.18\n",
       "X360                48.22\n",
       "WiiU                42.98\n",
       "PC                  27.05\n",
       "PSV                 22.40\n",
       "Wii                  5.07\n",
       "PSP                  0.36"
      ]
     },
     "execution_count": 26,
     "metadata": {},
     "output_type": "execute_result"
    }
   ],
   "source": [
    "#3.5\n",
    "df_platform_pivot = df.pivot_table(index='platform', values='sales_total_mln', aggfunc='sum').sort_values(by='sales_total_mln', ascending=False) #pivot by total sale by platform descending\n",
    "df_platform_pivot "
   ]
  },
  {
   "cell_type": "code",
   "execution_count": 27,
   "metadata": {},
   "outputs": [
    {
     "data": {
      "text/plain": [
       "<AxesSubplot:xlabel='year_of_release'>"
      ]
     },
     "execution_count": 27,
     "metadata": {},
     "output_type": "execute_result"
    },
    {
     "data": {
      "image/png": "[encoded data removed]",
      "text/plain": [
       "<Figure size 432x288 with 1 Axes>"
      ]
     },
     "metadata": {
      "needs_background": "light"
     },
     "output_type": "display_data"
    }
   ],
   "source": [
    "data_other_platforms = df.loc[(df['platform']=='PS4') | (df['platform']=='3DS') | (df['platform']=='XOne') ] #popular platforms, not previously selected, for analysis\n",
    "data_other_platforms_pivot = data_other_platforms.pivot_table(index='year_of_release', columns='platform', values='sales_total_mln', aggfunc='sum') #other popular platforms year by year\n",
    "data_other_platforms_pivot.plot(kind='bar') #distribution of cost by platforms by years"
   ]
  },
  {
   "cell_type": "markdown",
   "metadata": {},
   "source": [
    "The most profitable platforms are **PS4, XOne, 3DS, PS3 and X360**. Graph analysis showed that the PS3, 3DS and X360 platforms are falling, while the PS4 and Xone are growing (growth slows down in 2016, which may be due to the fact that the data for 2016 is not fully updated). Thus, potentially profitable platforms are **PS4, XOne**."
   ]
  },
  {
   "cell_type": "code",
   "execution_count": 28,
   "metadata": {},
   "outputs": [
    {
     "data": {
      "image/png": "[encoded data removed]",
      "text/plain": [
       "<Figure size 432x288 with 1 Axes>"
      ]
     },
     "metadata": {
      "needs_background": "light"
     },
     "output_type": "display_data"
    }
   ],
   "source": [
    "#3.6\n",
    "df_platform_pivot.boxplot('sales_total_mln') #boxplot for sales_total_mln by platform\n",
    "plt.show() "
   ]
  },
  {
   "cell_type": "markdown",
   "metadata": {},
   "source": [
    "The boxplot shows that almost all platform sales values are within the \"whisker range\" - that is, they are normal values. The median is around **50** million copies, the value of the outliers is around **300** million copies. Values above the median have lower density (greater spread) than less popular platforms."
   ]
  },
  {
   "cell_type": "code",
   "execution_count": 29,
   "metadata": {
    "scrolled": false
   },
   "outputs": [
    {
     "name": "stdout",
     "output_type": "stream",
     "text": [
      "Corelation critics - PS4 sales: 0.3514077901256115\n",
      "Corelation users - PS4 sales: -0.052810732078792146\n"
     ]
    },
    {
     "data": {
      "image/png": "[encoded data removed]",
      "text/plain": [
       "<Figure size 432x288 with 1 Axes>"
      ]
     },
     "metadata": {
      "needs_background": "light"
     },
     "output_type": "display_data"
    },
    {
     "data": {
      "image/png": "[encoded data removed]",
      "text/plain": [
       "<Figure size 432x288 with 1 Axes>"
      ]
     },
     "metadata": {
      "needs_background": "light"
     },
     "output_type": "display_data"
    }
   ],
   "source": [
    "#3.7\n",
    "ps4 = df[df['platform']=='PS4'] #most popular platform\n",
    "ax1 = ps4.plot(kind='scatter', x='sales_total_mln', y='critic_score_x', alpha=0.6) #scatterplot for sales-critics \n",
    "ax2 = ps4.plot(kind='scatter', x='sales_total_mln', y='user_score_x', alpha=0.6) #scatterplot for sales-users  \n",
    "ax1\n",
    "ax2\n",
    "print(\"Corelation critics - PS4 sales:\", ps4['critic_score_x'].corr(ps4['sales_total_mln'])) \n",
    "print(\"Corelation users - PS4 sales:\", ps4['user_score_x'].corr(ps4['sales_total_mln'])) \n"
   ]
  },
  {
   "cell_type": "markdown",
   "metadata": {},
   "source": [
    "The charts show that the top-selling games on PS4 have higher critical ratings: of 65 or higher. An unambiguous conclusion that the number of sales grows with the growth of critics' ratings cannot be made, because there are outliers on the graphs. The correlation between the parameters, although positive, is relatively low and amounts to 35%.\n",
    "At the same time, there is no correlation between user ratings and game sales, the correlation is even negative: -5%."
   ]
  },
  {
   "cell_type": "code",
   "execution_count": 30,
   "metadata": {},
   "outputs": [
    {
     "name": "stdout",
     "output_type": "stream",
     "text": [
      "Corelation critics - sales other platforms: 0.24851519196503916\n",
      "Corelation users - sales other platforms: -0.0472569090961724\n"
     ]
    },
    {
     "data": {
      "image/png": "[encoded data removed]",
      "text/plain": [
       "<Figure size 432x288 with 1 Axes>"
      ]
     },
     "metadata": {
      "needs_background": "light"
     },
     "output_type": "display_data"
    },
    {
     "data": {
      "image/png": "[encoded data removed]",
      "text/plain": [
       "<Figure size 432x288 with 1 Axes>"
      ]
     },
     "metadata": {
      "needs_background": "light"
     },
     "output_type": "display_data"
    }
   ],
   "source": [
    "#3.8\n",
    "not_ps4 = df[df['platform']!='PS4'] #other platforms (apart from PS4)\n",
    "ax1 = ps4.plot(kind='scatter', x='sales_total_mln', y='critic_score_x', alpha=0.9) #scatterplot sales-critics ps4 \n",
    "ax2 = ps4.plot(kind='scatter', x='sales_total_mln', y='user_score_x', alpha=0.9) #scatterplot sales-users ps4\n",
    "\n",
    "not_ps4.plot(kind='scatter', x='sales_total_mln', y='critic_score_x', alpha=0.2, color='pink', ax=ax1) # scatterplot sales-critics on PS4 axis\n",
    "not_ps4.plot(kind='scatter', x='sales_total_mln', y='user_score_x', alpha=0.2, color='yellow', ax=ax2) #scatterplot sales-users on PS4 axis\n",
    "print(\"Corelation critics - sales other platforms:\", not_ps4['critic_score_x'].corr(not_ps4['sales_total_mln'])) \n",
    "print(\"Corelation users - sales other platforms:\", not_ps4['user_score_x'].corr(not_ps4['sales_total_mln'])) "
   ]
  },
  {
   "cell_type": "markdown",
   "metadata": {},
   "source": [
    "The trend noted in step 3.7 can be alsp seen in comparison with other platforms and critics' ratings. User ratings are more unevenly distributed (there are games with low ratings and high sales), as in the case of the PS4 platform, which is reflected in the correlation. The correlation remains with the same signs as for the PS4 platform, but is even lower: 25% for critics and -4.7% for users."
   ]
  },
  {
   "cell_type": "code",
   "execution_count": 31,
   "metadata": {
    "scrolled": true
   },
   "outputs": [
    {
     "data": {
      "text/html": [
       "<div>\n",
       "<style scoped>\n",
       "    .dataframe tbody tr th:only-of-type {\n",
       "        vertical-align: middle;\n",
       "    }\n",
       "\n",
       "    .dataframe tbody tr th {\n",
       "        vertical-align: top;\n",
       "    }\n",
       "\n",
       "    .dataframe thead th {\n",
       "        text-align: right;\n",
       "    }\n",
       "</style>\n",
       "<table border=\"1\" class=\"dataframe\">\n",
       "  <thead>\n",
       "    <tr style=\"text-align: right;\">\n",
       "      <th></th>\n",
       "      <th>name</th>\n",
       "    </tr>\n",
       "    <tr>\n",
       "      <th>genre</th>\n",
       "      <th></th>\n",
       "    </tr>\n",
       "  </thead>\n",
       "  <tbody>\n",
       "    <tr>\n",
       "      <th>Action</th>\n",
       "      <td>619</td>\n",
       "    </tr>\n",
       "    <tr>\n",
       "      <th>Role-Playing</th>\n",
       "      <td>221</td>\n",
       "    </tr>\n",
       "    <tr>\n",
       "      <th>Adventure</th>\n",
       "      <td>185</td>\n",
       "    </tr>\n",
       "    <tr>\n",
       "      <th>Sports</th>\n",
       "      <td>161</td>\n",
       "    </tr>\n",
       "    <tr>\n",
       "      <th>Shooter</th>\n",
       "      <td>128</td>\n",
       "    </tr>\n",
       "    <tr>\n",
       "      <th>Misc</th>\n",
       "      <td>113</td>\n",
       "    </tr>\n",
       "    <tr>\n",
       "      <th>Racing</th>\n",
       "      <td>69</td>\n",
       "    </tr>\n",
       "    <tr>\n",
       "      <th>Fighting</th>\n",
       "      <td>60</td>\n",
       "    </tr>\n",
       "    <tr>\n",
       "      <th>Simulation</th>\n",
       "      <td>44</td>\n",
       "    </tr>\n",
       "    <tr>\n",
       "      <th>Platform</th>\n",
       "      <td>38</td>\n",
       "    </tr>\n",
       "    <tr>\n",
       "      <th>Strategy</th>\n",
       "      <td>37</td>\n",
       "    </tr>\n",
       "    <tr>\n",
       "      <th>Puzzle</th>\n",
       "      <td>14</td>\n",
       "    </tr>\n",
       "  </tbody>\n",
       "</table>\n",
       "</div>"
      ],
      "text/plain": [
       "              name\n",
       "genre             \n",
       "Action         619\n",
       "Role-Playing   221\n",
       "Adventure      185\n",
       "Sports         161\n",
       "Shooter        128\n",
       "Misc           113\n",
       "Racing          69\n",
       "Fighting        60\n",
       "Simulation      44\n",
       "Platform        38\n",
       "Strategy        37\n",
       "Puzzle          14"
      ]
     },
     "metadata": {},
     "output_type": "display_data"
    },
    {
     "data": {
      "text/html": [
       "<div>\n",
       "<style scoped>\n",
       "    .dataframe tbody tr th:only-of-type {\n",
       "        vertical-align: middle;\n",
       "    }\n",
       "\n",
       "    .dataframe tbody tr th {\n",
       "        vertical-align: top;\n",
       "    }\n",
       "\n",
       "    .dataframe thead th {\n",
       "        text-align: right;\n",
       "    }\n",
       "</style>\n",
       "<table border=\"1\" class=\"dataframe\">\n",
       "  <thead>\n",
       "    <tr style=\"text-align: right;\">\n",
       "      <th></th>\n",
       "      <th>sales_total_mln</th>\n",
       "    </tr>\n",
       "    <tr>\n",
       "      <th>genre</th>\n",
       "      <th></th>\n",
       "    </tr>\n",
       "  </thead>\n",
       "  <tbody>\n",
       "    <tr>\n",
       "      <th>Shooter</th>\n",
       "      <td>0.515</td>\n",
       "    </tr>\n",
       "    <tr>\n",
       "      <th>Sports</th>\n",
       "      <td>0.180</td>\n",
       "    </tr>\n",
       "    <tr>\n",
       "      <th>Platform</th>\n",
       "      <td>0.140</td>\n",
       "    </tr>\n",
       "    <tr>\n",
       "      <th>Fighting</th>\n",
       "      <td>0.125</td>\n",
       "    </tr>\n",
       "    <tr>\n",
       "      <th>Role-Playing</th>\n",
       "      <td>0.110</td>\n",
       "    </tr>\n",
       "    <tr>\n",
       "      <th>Simulation</th>\n",
       "      <td>0.100</td>\n",
       "    </tr>\n",
       "    <tr>\n",
       "      <th>Action</th>\n",
       "      <td>0.090</td>\n",
       "    </tr>\n",
       "    <tr>\n",
       "      <th>Misc</th>\n",
       "      <td>0.090</td>\n",
       "    </tr>\n",
       "    <tr>\n",
       "      <th>Racing</th>\n",
       "      <td>0.090</td>\n",
       "    </tr>\n",
       "    <tr>\n",
       "      <th>Strategy</th>\n",
       "      <td>0.060</td>\n",
       "    </tr>\n",
       "    <tr>\n",
       "      <th>Puzzle</th>\n",
       "      <td>0.045</td>\n",
       "    </tr>\n",
       "    <tr>\n",
       "      <th>Adventure</th>\n",
       "      <td>0.030</td>\n",
       "    </tr>\n",
       "  </tbody>\n",
       "</table>\n",
       "</div>"
      ],
      "text/plain": [
       "              sales_total_mln\n",
       "genre                        \n",
       "Shooter                 0.515\n",
       "Sports                  0.180\n",
       "Platform                0.140\n",
       "Fighting                0.125\n",
       "Role-Playing            0.110\n",
       "Simulation              0.100\n",
       "Action                  0.090\n",
       "Misc                    0.090\n",
       "Racing                  0.090\n",
       "Strategy                0.060\n",
       "Puzzle                  0.045\n",
       "Adventure               0.030"
      ]
     },
     "execution_count": 31,
     "metadata": {},
     "output_type": "execute_result"
    }
   ],
   "source": [
    "#3.9\n",
    "display(df.pivot_table(index='genre', values='name', aggfunc='count').sort_values(by='name', ascending=False)) #pivot by number of games by genre - descending\n",
    "df.pivot_table(index='genre', values='sales_total_mln', aggfunc='median').sort_values(by='sales_total_mln', ascending=False) #pivot by median sales by genre - descending"
   ]
  },
  {
   "cell_type": "code",
   "execution_count": 32,
   "metadata": {},
   "outputs": [
    {
     "data": {
      "text/plain": [
       "<AxesSubplot:xlabel='genre'>"
      ]
     },
     "execution_count": 32,
     "metadata": {},
     "output_type": "execute_result"
    },
    {
     "data": {
      "image/png": "[encoded data removed]",
      "text/plain": [
       "<Figure size 432x216 with 1 Axes>"
      ]
     },
     "metadata": {
      "needs_background": "light"
     },
     "output_type": "display_data"
    },
    {
     "data": {
      "image/png": "[encoded data removed]",
      "text/plain": [
       "<Figure size 432x216 with 1 Axes>"
      ]
     },
     "metadata": {
      "needs_background": "light"
     },
     "output_type": "display_data"
    }
   ],
   "source": [
    "df.pivot_table(index='genre', values='name', aggfunc='count').sort_values(by='name', ascending=False).plot(kind='bar', figsize=(6,3)) \n",
    "df.pivot_table(index='genre', values='sales_total_mln', aggfunc='median').sort_values(by='sales_total_mln', ascending=False).plot(kind='bar', figsize=(6,3)) "
   ]
  },
  {
   "cell_type": "markdown",
   "metadata": {},
   "source": [
    "As for the genres, the most popular ones in terms of games released are **Action** (600+ games) and **Role-Playing, Adventure, Sports** (160-220 games). Surprisingly, the highest and most stable sales (analysis is based on the median sales) are in the genre that closes the top 5 in terms of the number of games - the **Shooter** genre. Another surprising fact is that the Action and Adventure genres have low sales, but many games (Adventure - even the lowest sales)."
   ]
  },
  {
   "cell_type": "markdown",
   "metadata": {},
   "source": [
    "### Conclusion\n",
    "The third step is dedicated to the exploratory data analysis. Individual conclusions are formed above."
   ]
  },
  {
   "cell_type": "markdown",
   "metadata": {},
   "source": [
    "<a id='fourth'></a>\n",
    "## User portrait by region"
   ]
  },
  {
   "cell_type": "code",
   "execution_count": 33,
   "metadata": {
    "scrolled": false
   },
   "outputs": [
    {
     "data": {
      "text/html": [
       "<div>\n",
       "<style scoped>\n",
       "    .dataframe tbody tr th:only-of-type {\n",
       "        vertical-align: middle;\n",
       "    }\n",
       "\n",
       "    .dataframe tbody tr th {\n",
       "        vertical-align: top;\n",
       "    }\n",
       "\n",
       "    .dataframe thead th {\n",
       "        text-align: right;\n",
       "    }\n",
       "</style>\n",
       "<table border=\"1\" class=\"dataframe\">\n",
       "  <thead>\n",
       "    <tr style=\"text-align: right;\">\n",
       "      <th></th>\n",
       "      <th>na_sales_mln</th>\n",
       "      <th>share</th>\n",
       "    </tr>\n",
       "    <tr>\n",
       "      <th>platform</th>\n",
       "      <th></th>\n",
       "      <th></th>\n",
       "    </tr>\n",
       "  </thead>\n",
       "  <tbody>\n",
       "    <tr>\n",
       "      <th>PS4</th>\n",
       "      <td>98.61</td>\n",
       "      <td>0.347145</td>\n",
       "    </tr>\n",
       "    <tr>\n",
       "      <th>XOne</th>\n",
       "      <td>81.27</td>\n",
       "      <td>0.286102</td>\n",
       "    </tr>\n",
       "    <tr>\n",
       "      <th>X360</th>\n",
       "      <td>28.30</td>\n",
       "      <td>0.099627</td>\n",
       "    </tr>\n",
       "    <tr>\n",
       "      <th>3DS</th>\n",
       "      <td>22.64</td>\n",
       "      <td>0.079701</td>\n",
       "    </tr>\n",
       "    <tr>\n",
       "      <th>PS3</th>\n",
       "      <td>22.05</td>\n",
       "      <td>0.077624</td>\n",
       "    </tr>\n",
       "  </tbody>\n",
       "</table>\n",
       "</div>"
      ],
      "text/plain": [
       "          na_sales_mln     share\n",
       "platform                        \n",
       "PS4              98.61  0.347145\n",
       "XOne             81.27  0.286102\n",
       "X360             28.30  0.099627\n",
       "3DS              22.64  0.079701\n",
       "PS3              22.05  0.077624"
      ]
     },
     "metadata": {},
     "output_type": "display_data"
    },
    {
     "name": "stderr",
     "output_type": "stream",
     "text": [
      "/opt/conda/lib/python3.9/site-packages/pandas/plotting/_matplotlib/core.py:1583: MatplotlibDeprecationWarning: normalize=None does not normalize if the sum is less than 1 but this behavior is deprecated since 3.3 until two minor releases later. After the deprecation period the default value will be normalize=True. To prevent normalization pass normalize=False \n",
      "  results = ax.pie(y, labels=blabels, **kwds)\n"
     ]
    },
    {
     "data": {
      "text/html": [
       "<div>\n",
       "<style scoped>\n",
       "    .dataframe tbody tr th:only-of-type {\n",
       "        vertical-align: middle;\n",
       "    }\n",
       "\n",
       "    .dataframe tbody tr th {\n",
       "        vertical-align: top;\n",
       "    }\n",
       "\n",
       "    .dataframe thead th {\n",
       "        text-align: right;\n",
       "    }\n",
       "</style>\n",
       "<table border=\"1\" class=\"dataframe\">\n",
       "  <thead>\n",
       "    <tr style=\"text-align: right;\">\n",
       "      <th></th>\n",
       "      <th>eu_sales_mln</th>\n",
       "      <th>share</th>\n",
       "    </tr>\n",
       "    <tr>\n",
       "      <th>platform</th>\n",
       "      <th></th>\n",
       "      <th></th>\n",
       "    </tr>\n",
       "  </thead>\n",
       "  <tbody>\n",
       "    <tr>\n",
       "      <th>PS4</th>\n",
       "      <td>130.04</td>\n",
       "      <td>0.480420</td>\n",
       "    </tr>\n",
       "    <tr>\n",
       "      <th>XOne</th>\n",
       "      <td>46.25</td>\n",
       "      <td>0.170866</td>\n",
       "    </tr>\n",
       "    <tr>\n",
       "      <th>PS3</th>\n",
       "      <td>25.54</td>\n",
       "      <td>0.094355</td>\n",
       "    </tr>\n",
       "    <tr>\n",
       "      <th>PC</th>\n",
       "      <td>17.97</td>\n",
       "      <td>0.066388</td>\n",
       "    </tr>\n",
       "    <tr>\n",
       "      <th>3DS</th>\n",
       "      <td>16.12</td>\n",
       "      <td>0.059554</td>\n",
       "    </tr>\n",
       "  </tbody>\n",
       "</table>\n",
       "</div>"
      ],
      "text/plain": [
       "          eu_sales_mln     share\n",
       "platform                        \n",
       "PS4             130.04  0.480420\n",
       "XOne             46.25  0.170866\n",
       "PS3              25.54  0.094355\n",
       "PC               17.97  0.066388\n",
       "3DS              16.12  0.059554"
      ]
     },
     "metadata": {},
     "output_type": "display_data"
    },
    {
     "name": "stderr",
     "output_type": "stream",
     "text": [
      "/opt/conda/lib/python3.9/site-packages/pandas/plotting/_matplotlib/core.py:1583: MatplotlibDeprecationWarning: normalize=None does not normalize if the sum is less than 1 but this behavior is deprecated since 3.3 until two minor releases later. After the deprecation period the default value will be normalize=True. To prevent normalization pass normalize=False \n",
      "  results = ax.pie(y, labels=blabels, **kwds)\n"
     ]
    },
    {
     "data": {
      "text/html": [
       "<div>\n",
       "<style scoped>\n",
       "    .dataframe tbody tr th:only-of-type {\n",
       "        vertical-align: middle;\n",
       "    }\n",
       "\n",
       "    .dataframe tbody tr th {\n",
       "        vertical-align: top;\n",
       "    }\n",
       "\n",
       "    .dataframe thead th {\n",
       "        text-align: right;\n",
       "    }\n",
       "</style>\n",
       "<table border=\"1\" class=\"dataframe\">\n",
       "  <thead>\n",
       "    <tr style=\"text-align: right;\">\n",
       "      <th></th>\n",
       "      <th>jp_sales_mln</th>\n",
       "      <th>share</th>\n",
       "    </tr>\n",
       "    <tr>\n",
       "      <th>platform</th>\n",
       "      <th></th>\n",
       "      <th></th>\n",
       "    </tr>\n",
       "  </thead>\n",
       "  <tbody>\n",
       "    <tr>\n",
       "      <th>3DS</th>\n",
       "      <td>44.24</td>\n",
       "      <td>0.475239</td>\n",
       "    </tr>\n",
       "    <tr>\n",
       "      <th>PS4</th>\n",
       "      <td>15.02</td>\n",
       "      <td>0.161349</td>\n",
       "    </tr>\n",
       "    <tr>\n",
       "      <th>PSV</th>\n",
       "      <td>14.54</td>\n",
       "      <td>0.156193</td>\n",
       "    </tr>\n",
       "    <tr>\n",
       "      <th>PS3</th>\n",
       "      <td>11.22</td>\n",
       "      <td>0.120529</td>\n",
       "    </tr>\n",
       "    <tr>\n",
       "      <th>WiiU</th>\n",
       "      <td>7.31</td>\n",
       "      <td>0.078526</td>\n",
       "    </tr>\n",
       "  </tbody>\n",
       "</table>\n",
       "</div>"
      ],
      "text/plain": [
       "          jp_sales_mln     share\n",
       "platform                        \n",
       "3DS              44.24  0.475239\n",
       "PS4              15.02  0.161349\n",
       "PSV              14.54  0.156193\n",
       "PS3              11.22  0.120529\n",
       "WiiU              7.31  0.078526"
      ]
     },
     "metadata": {},
     "output_type": "display_data"
    },
    {
     "name": "stderr",
     "output_type": "stream",
     "text": [
      "/opt/conda/lib/python3.9/site-packages/pandas/plotting/_matplotlib/core.py:1583: MatplotlibDeprecationWarning: normalize=None does not normalize if the sum is less than 1 but this behavior is deprecated since 3.3 until two minor releases later. After the deprecation period the default value will be normalize=True. To prevent normalization pass normalize=False \n",
      "  results = ax.pie(y, labels=blabels, **kwds)\n"
     ]
    },
    {
     "data": {
      "image/png": "[encoded data removed]",
      "text/plain": [
       "<Figure size 432x288 with 1 Axes>"
      ]
     },
     "metadata": {},
     "output_type": "display_data"
    },
    {
     "data": {
      "image/png": "[encoded data removed]",
      "text/plain": [
       "<Figure size 432x288 with 1 Axes>"
      ]
     },
     "metadata": {
      "needs_background": "light"
     },
     "output_type": "display_data"
    },
    {
     "data": {
      "image/png": "[encoded data removed]",
      "text/plain": [
       "<Figure size 432x288 with 1 Axes>"
      ]
     },
     "metadata": {},
     "output_type": "display_data"
    },
    {
     "data": {
      "image/png": "[encoded data removed]",
      "text/plain": [
       "<Figure size 432x288 with 1 Axes>"
      ]
     },
     "metadata": {
      "needs_background": "light"
     },
     "output_type": "display_data"
    },
    {
     "data": {
      "image/png": "[encoded data removed]",
      "text/plain": [
       "<Figure size 432x288 with 1 Axes>"
      ]
     },
     "metadata": {},
     "output_type": "display_data"
    },
    {
     "data": {
      "image/png": "[encoded data removed]",
      "text/plain": [
       "<Figure size 432x288 with 1 Axes>"
      ]
     },
     "metadata": {
      "needs_background": "light"
     },
     "output_type": "display_data"
    }
   ],
   "source": [
    "#4.1\n",
    "columns=['na_sales_mln', 'eu_sales_mln', 'jp_sales_mln'] \n",
    "for column in columns: \n",
    "    region_top_sales=df.pivot_table(index='platform', values=column, aggfunc='sum').sort_values(by=column, ascending=False) #pivot by platform with column value and sum, sort in descending order\n",
    "    region_top_sales['share'] = region_top_sales[column]/region_top_sales[column].sum() #add share: value divide by total\n",
    "    region_top_sales_top5 = region_top_sales.head() #top 5\n",
    "    display(region_top_sales_top5) \n",
    "    region_top_sales_top5.plot(y='share', kind='pie', autopct='%1.1f%%') #graphically -  pie\n",
    "    region_top_sales_top5.plot(y=column, kind='bar') #graphically - bar"
   ]
  },
  {
   "cell_type": "markdown",
   "metadata": {},
   "source": [
    "The most popular platforms in North America and Europe are PS4 and XOne, with a combined share of 64%, while in Europe the advantage of PS4 is more pronounced - 48% share versus 35% in America. In Japan, almost half of the market is occupied by 3DS, PS4 is in second place with 16%. The platform with third-fifth place in the West has up to 10%, in Japan 3rd place is held by PSV with 15.6%, fourth place for PS3 with 12.1%. In Japan, the top 5 platforms occupy about 100% of the market, in the West - about 90% of the market."
   ]
  },
  {
   "cell_type": "code",
   "execution_count": 34,
   "metadata": {
    "scrolled": false
   },
   "outputs": [
    {
     "data": {
      "text/html": [
       "<div>\n",
       "<style scoped>\n",
       "    .dataframe tbody tr th:only-of-type {\n",
       "        vertical-align: middle;\n",
       "    }\n",
       "\n",
       "    .dataframe tbody tr th {\n",
       "        vertical-align: top;\n",
       "    }\n",
       "\n",
       "    .dataframe thead th {\n",
       "        text-align: right;\n",
       "    }\n",
       "</style>\n",
       "<table border=\"1\" class=\"dataframe\">\n",
       "  <thead>\n",
       "    <tr style=\"text-align: right;\">\n",
       "      <th></th>\n",
       "      <th>na_sales_mln</th>\n",
       "      <th>share</th>\n",
       "    </tr>\n",
       "    <tr>\n",
       "      <th>genre</th>\n",
       "      <th></th>\n",
       "      <th></th>\n",
       "    </tr>\n",
       "  </thead>\n",
       "  <tbody>\n",
       "    <tr>\n",
       "      <th>Shooter</th>\n",
       "      <td>79.02</td>\n",
       "      <td>0.278181</td>\n",
       "    </tr>\n",
       "    <tr>\n",
       "      <th>Action</th>\n",
       "      <td>72.53</td>\n",
       "      <td>0.255333</td>\n",
       "    </tr>\n",
       "    <tr>\n",
       "      <th>Sports</th>\n",
       "      <td>46.13</td>\n",
       "      <td>0.162395</td>\n",
       "    </tr>\n",
       "    <tr>\n",
       "      <th>Role-Playing</th>\n",
       "      <td>33.47</td>\n",
       "      <td>0.117827</td>\n",
       "    </tr>\n",
       "    <tr>\n",
       "      <th>Misc</th>\n",
       "      <td>15.05</td>\n",
       "      <td>0.052982</td>\n",
       "    </tr>\n",
       "  </tbody>\n",
       "</table>\n",
       "</div>"
      ],
      "text/plain": [
       "              na_sales_mln     share\n",
       "genre                               \n",
       "Shooter              79.02  0.278181\n",
       "Action               72.53  0.255333\n",
       "Sports               46.13  0.162395\n",
       "Role-Playing         33.47  0.117827\n",
       "Misc                 15.05  0.052982"
      ]
     },
     "metadata": {},
     "output_type": "display_data"
    },
    {
     "name": "stderr",
     "output_type": "stream",
     "text": [
      "/opt/conda/lib/python3.9/site-packages/pandas/plotting/_matplotlib/core.py:1583: MatplotlibDeprecationWarning: normalize=None does not normalize if the sum is less than 1 but this behavior is deprecated since 3.3 until two minor releases later. After the deprecation period the default value will be normalize=True. To prevent normalization pass normalize=False \n",
      "  results = ax.pie(y, labels=blabels, **kwds)\n"
     ]
    },
    {
     "data": {
      "text/html": [
       "<div>\n",
       "<style scoped>\n",
       "    .dataframe tbody tr th:only-of-type {\n",
       "        vertical-align: middle;\n",
       "    }\n",
       "\n",
       "    .dataframe tbody tr th {\n",
       "        vertical-align: top;\n",
       "    }\n",
       "\n",
       "    .dataframe thead th {\n",
       "        text-align: right;\n",
       "    }\n",
       "</style>\n",
       "<table border=\"1\" class=\"dataframe\">\n",
       "  <thead>\n",
       "    <tr style=\"text-align: right;\">\n",
       "      <th></th>\n",
       "      <th>eu_sales_mln</th>\n",
       "      <th>share</th>\n",
       "    </tr>\n",
       "    <tr>\n",
       "      <th>genre</th>\n",
       "      <th></th>\n",
       "      <th></th>\n",
       "    </tr>\n",
       "  </thead>\n",
       "  <tbody>\n",
       "    <tr>\n",
       "      <th>Action</th>\n",
       "      <td>74.68</td>\n",
       "      <td>0.275898</td>\n",
       "    </tr>\n",
       "    <tr>\n",
       "      <th>Shooter</th>\n",
       "      <td>65.52</td>\n",
       "      <td>0.242057</td>\n",
       "    </tr>\n",
       "    <tr>\n",
       "      <th>Sports</th>\n",
       "      <td>45.73</td>\n",
       "      <td>0.168945</td>\n",
       "    </tr>\n",
       "    <tr>\n",
       "      <th>Role-Playing</th>\n",
       "      <td>28.17</td>\n",
       "      <td>0.104071</td>\n",
       "    </tr>\n",
       "    <tr>\n",
       "      <th>Racing</th>\n",
       "      <td>14.13</td>\n",
       "      <td>0.052202</td>\n",
       "    </tr>\n",
       "  </tbody>\n",
       "</table>\n",
       "</div>"
      ],
      "text/plain": [
       "              eu_sales_mln     share\n",
       "genre                               \n",
       "Action               74.68  0.275898\n",
       "Shooter              65.52  0.242057\n",
       "Sports               45.73  0.168945\n",
       "Role-Playing         28.17  0.104071\n",
       "Racing               14.13  0.052202"
      ]
     },
     "metadata": {},
     "output_type": "display_data"
    },
    {
     "name": "stderr",
     "output_type": "stream",
     "text": [
      "/opt/conda/lib/python3.9/site-packages/pandas/plotting/_matplotlib/core.py:1583: MatplotlibDeprecationWarning: normalize=None does not normalize if the sum is less than 1 but this behavior is deprecated since 3.3 until two minor releases later. After the deprecation period the default value will be normalize=True. To prevent normalization pass normalize=False \n",
      "  results = ax.pie(y, labels=blabels, **kwds)\n"
     ]
    },
    {
     "data": {
      "text/html": [
       "<div>\n",
       "<style scoped>\n",
       "    .dataframe tbody tr th:only-of-type {\n",
       "        vertical-align: middle;\n",
       "    }\n",
       "\n",
       "    .dataframe tbody tr th {\n",
       "        vertical-align: top;\n",
       "    }\n",
       "\n",
       "    .dataframe thead th {\n",
       "        text-align: right;\n",
       "    }\n",
       "</style>\n",
       "<table border=\"1\" class=\"dataframe\">\n",
       "  <thead>\n",
       "    <tr style=\"text-align: right;\">\n",
       "      <th></th>\n",
       "      <th>jp_sales_mln</th>\n",
       "      <th>share</th>\n",
       "    </tr>\n",
       "    <tr>\n",
       "      <th>genre</th>\n",
       "      <th></th>\n",
       "      <th></th>\n",
       "    </tr>\n",
       "  </thead>\n",
       "  <tbody>\n",
       "    <tr>\n",
       "      <th>Role-Playing</th>\n",
       "      <td>31.16</td>\n",
       "      <td>0.334730</td>\n",
       "    </tr>\n",
       "    <tr>\n",
       "      <th>Action</th>\n",
       "      <td>29.58</td>\n",
       "      <td>0.317757</td>\n",
       "    </tr>\n",
       "    <tr>\n",
       "      <th>Fighting</th>\n",
       "      <td>6.37</td>\n",
       "      <td>0.068428</td>\n",
       "    </tr>\n",
       "    <tr>\n",
       "      <th>Misc</th>\n",
       "      <td>5.61</td>\n",
       "      <td>0.060264</td>\n",
       "    </tr>\n",
       "    <tr>\n",
       "      <th>Shooter</th>\n",
       "      <td>4.87</td>\n",
       "      <td>0.052315</td>\n",
       "    </tr>\n",
       "  </tbody>\n",
       "</table>\n",
       "</div>"
      ],
      "text/plain": [
       "              jp_sales_mln     share\n",
       "genre                               \n",
       "Role-Playing         31.16  0.334730\n",
       "Action               29.58  0.317757\n",
       "Fighting              6.37  0.068428\n",
       "Misc                  5.61  0.060264\n",
       "Shooter               4.87  0.052315"
      ]
     },
     "metadata": {},
     "output_type": "display_data"
    },
    {
     "name": "stderr",
     "output_type": "stream",
     "text": [
      "/opt/conda/lib/python3.9/site-packages/pandas/plotting/_matplotlib/core.py:1583: MatplotlibDeprecationWarning: normalize=None does not normalize if the sum is less than 1 but this behavior is deprecated since 3.3 until two minor releases later. After the deprecation period the default value will be normalize=True. To prevent normalization pass normalize=False \n",
      "  results = ax.pie(y, labels=blabels, **kwds)\n"
     ]
    },
    {
     "data": {
      "image/png": "[encoded data removed]",
      "text/plain": [
       "<Figure size 432x288 with 1 Axes>"
      ]
     },
     "metadata": {},
     "output_type": "display_data"
    },
    {
     "data": {
      "image/png": "[encoded data removed]",
      "text/plain": [
       "<Figure size 432x288 with 1 Axes>"
      ]
     },
     "metadata": {
      "needs_background": "light"
     },
     "output_type": "display_data"
    },
    {
     "data": {
      "image/png": "[encoded data removed]",
      "text/plain": [
       "<Figure size 432x288 with 1 Axes>"
      ]
     },
     "metadata": {},
     "output_type": "display_data"
    },
    {
     "data": {
      "image/png": "[encoded data removed]",
      "text/plain": [
       "<Figure size 432x288 with 1 Axes>"
      ]
     },
     "metadata": {
      "needs_background": "light"
     },
     "output_type": "display_data"
    },
    {
     "data": {
      "image/png": "[encoded data removed]",
      "text/plain": [
       "<Figure size 432x288 with 1 Axes>"
      ]
     },
     "metadata": {},
     "output_type": "display_data"
    },
    {
     "data": {
      "image/png": "[encoded data removed]",
      "text/plain": [
       "<Figure size 432x288 with 1 Axes>"
      ]
     },
     "metadata": {
      "needs_background": "light"
     },
     "output_type": "display_data"
    }
   ],
   "source": [
    "#4.2\n",
    "for column in columns:  \n",
    "    region_genre_top_sales=df.pivot_table(index='genre', values=column, aggfunc='sum').sort_values(by=column, ascending=False) #pivot by genre with column value and sum, sort in descending order\n",
    "    region_genre_top_sales['share'] = region_genre_top_sales[column]/region_genre_top_sales[column].sum() #add share: value divide by total\n",
    "    region_genre_top_sales_top5 = region_genre_top_sales.head() #top 5\n",
    "    display(region_genre_top_sales_top5) \n",
    "    region_genre_top_sales_top5.plot(y='share', kind='pie', autopct='%1.1f%%') \n",
    "    region_genre_top_sales_top5.plot(y=column, kind='bar') "
   ]
  },
  {
   "cell_type": "markdown",
   "metadata": {},
   "source": [
    "The most popular genres in North America and Europe are almost identical, the shares are also close: the first 2 positions are for Shooter and Action with shares of 28%-25% and 24%-28%, respectively. The Sports genre takes 3rd place and 16-17% of the market. In Japan, more than a third of the market is occupied by the Role-Playing genre, another third of the market belongs to Action - 32%, genres in third or fifth place have less than 7% share. Popular in the west, Shooter and Sport are far behind in Japan: Shooter took 5th place and a share of 5%, Sport did not make it into the top 5. In each region, the top 5 genres occupy about 83% of the market."
   ]
  },
  {
   "cell_type": "code",
   "execution_count": 35,
   "metadata": {
    "scrolled": true
   },
   "outputs": [
    {
     "data": {
      "text/plain": [
       "array(['Unknown', 'M', 'E', 'T', 'E10+'], dtype=object)"
      ]
     },
     "metadata": {},
     "output_type": "display_data"
    },
    {
     "name": "stderr",
     "output_type": "stream",
     "text": [
      "/tmp/ipykernel_48/2750167886.py:4: SettingWithCopyWarning: \n",
      "A value is trying to be set on a copy of a slice from a DataFrame.\n",
      "Try using .loc[row_indexer,col_indexer] = value instead\n",
      "\n",
      "See the caveats in the documentation: https://pandas.pydata.org/pandas-docs/stable/user_guide/indexing.html#returning-a-view-versus-a-copy\n",
      "  df['min_age'] = df['rating'].map(min_age) #заполнить колонку min_age значениями из словаря min_age\n"
     ]
    },
    {
     "data": {
      "text/plain": [
       "<AxesSubplot:xlabel='min_age', ylabel='jp_sales_mln'>"
      ]
     },
     "execution_count": 35,
     "metadata": {},
     "output_type": "execute_result"
    },
    {
     "data": {
      "image/png": "[encoded data removed]",
      "text/plain": [
       "<Figure size 432x288 with 1 Axes>"
      ]
     },
     "metadata": {
      "needs_background": "light"
     },
     "output_type": "display_data"
    }
   ],
   "source": [
    "#4.3\n",
    "display(df['rating'].unique()) \n",
    "min_age = {'E': 0, 'EC': 3, 'E10+': 10, 'M': 17, 'T': 13, 'Unknown': 21} #rating - min age\n",
    "df['min_age'] = df['rating'].map(min_age) #fill min_age \n",
    "df_ratings = df.dropna(subset=['min_age']) \n",
    "\n",
    "ax1=df_ratings.plot(kind='scatter', x='min_age', y='na_sales_mln', alpha=0.7) \n",
    "df_ratings.plot(kind='scatter', x='min_age', y='eu_sales_mln', alpha=0.2, ax=ax1, color='yellow') \n",
    "df_ratings.plot(kind='scatter', x='min_age', y='jp_sales_mln', alpha=0.1, ax=ax1, color='green') "
   ]
  },
  {
   "cell_type": "code",
   "execution_count": 36,
   "metadata": {},
   "outputs": [
    {
     "data": {
      "text/plain": [
       "<AxesSubplot:xlabel='min_age', ylabel='jp_sales_mln'>"
      ]
     },
     "execution_count": 36,
     "metadata": {},
     "output_type": "execute_result"
    },
    {
     "data": {
      "image/png": "[encoded data removed]",
      "text/plain": [
       "<Figure size 432x288 with 1 Axes>"
      ]
     },
     "metadata": {
      "needs_background": "light"
     },
     "output_type": "display_data"
    },
    {
     "data": {
      "image/png": "[encoded data removed]",
      "text/plain": [
       "<Figure size 432x288 with 1 Axes>"
      ]
     },
     "metadata": {
      "needs_background": "light"
     },
     "output_type": "display_data"
    },
    {
     "data": {
      "image/png": "[encoded data removed]",
      "text/plain": [
       "<Figure size 432x288 with 1 Axes>"
      ]
     },
     "metadata": {
      "needs_background": "light"
     },
     "output_type": "display_data"
    }
   ],
   "source": [
    "df_ratings.plot(kind='scatter', x='min_age', y='na_sales_mln', alpha=0.7) #separately\n",
    "df_ratings.plot(kind='scatter', x='min_age', y='eu_sales_mln', alpha=0.2, color='yellow') \n",
    "df_ratings.plot(kind='scatter', x='min_age', y='jp_sales_mln', alpha=0.1, color='green')  "
   ]
  },
  {
   "cell_type": "markdown",
   "metadata": {},
   "source": [
    "For clarity, the Unknown rating was assigned with the age limit of 21 years. According to the distribution graph, it is clear that the highest sales are in the rating of over 17 and unknown, while the age limit of 0 (suitable for all ages) also has a high density, but not the highest sales (excluding Europe). The age limit of 10 and 13 years old has approximately the same distribution, which indicates approximately equal popularity of such games. Thus, the age rating affects the number of sales - the higher the minimum age - the more sales there are. Differences by region are observed: this rule works to a lesser extent in Japan - games without an age limit are more popular there. At the same time, it should be taken into account that many games could not be properly analyzed, because, as age limit is not specified (rating Unknown)."
   ]
  },
  {
   "cell_type": "markdown",
   "metadata": {},
   "source": [
    "### Conclusion\n",
    "A user portrait by region was built and analyzed at the fourth step."
   ]
  },
  {
   "cell_type": "markdown",
   "metadata": {},
   "source": [
    "<a id='fifth'></a>\n",
    "## 5. Hypothesis testing"
   ]
  },
  {
   "cell_type": "markdown",
   "metadata": {},
   "source": [
    "Two hypotheses need to be tested:\n",
    "\n",
    "1) The average user ratings of the Xbox One and PC platforms are the same; <br/>\n",
    "2) The average user ratings of the genres Action and Sports are different.\n",
    "\n",
    "The following null and alternative hypotheses are proposed for the verification: <br/>\n",
    "1)<br/>\n",
    "H0: \"Average user rating for Xbox One platforms **equals** to average user rating for PC platform\" <br/>\n",
    "H1: \"Average user rating for Xbox One platforms **does not equal** to average user rating for PC platform\" <br/>\n",
    "\n",
    "2)<br />\n",
    "H0: \"Average user rating for the Action genre **equals** to the average user rating for the Sports genre\" <br/>\n",
    "H1: \"Average user rating for the Action genre **does not equal** to the average user rating for the Sports genre\" <br/>\n",
    "\n",
    "The alternative hypothesis was formulated this way, since there is no condition for the direction of the rating (should it be higher or lower), therefore, the hypothesis can remain two-sided.\n",
    "\n",
    "The alpha threshold is set to 5%.\n",
    "The equal_var parameter is planned to be set to False, since the samples are of different sizes and it can be assumed that the variances of the populations of platforms / genres are also different."
   ]
  },
  {
   "cell_type": "code",
   "execution_count": 37,
   "metadata": {},
   "outputs": [
    {
     "name": "stdout",
     "output_type": "stream",
     "text": [
      "p-value: 0.06469891690556567\n",
      "Average user rating of the Xbox One platform : 6.72986193513391\n",
      "Average user rating of the PC platform: 6.451972343877577\n",
      "It is not possible to reject the null hypothesis\n"
     ]
    }
   ],
   "source": [
    "#5.1\n",
    "alpha = .05 \n",
    "xone= df[df['platform']=='XOne']\n",
    "pc= df[df['platform']=='PC']\n",
    "\n",
    "\n",
    "hypothesis_1 = st.ttest_ind(xone['user_score_x'], pc['user_score_x'], equal_var=False) #ttest \n",
    "print('p-value:', hypothesis_1.pvalue) \n",
    "print('Average user rating of the Xbox One platform :', xone['user_score_x'].mean()) \n",
    "print('Average user rating of the PC platform:', pc['user_score_x'].mean()) \n",
    "\n",
    "\n",
    "if hypothesis_1.pvalue < alpha: \n",
    "    print('Rejecting the null hypothesis') \n",
    "else: \n",
    "    print('It is not possible to reject the null hypothesis') "
   ]
  },
  {
   "cell_type": "code",
   "execution_count": 38,
   "metadata": {},
   "outputs": [
    {
     "name": "stdout",
     "output_type": "stream",
     "text": [
      "p-value: 2.0176397088509323e-16\n",
      "Average user rating - genre Action: 6.91537575873148\n",
      "Average user rating - genre Sports: 5.589743796002091\n",
      "Rejecting the null hypothesis\n"
     ]
    }
   ],
   "source": [
    "#5.2\n",
    "action= df[df['genre']=='Action']\n",
    "sports= df[df['genre']=='Sports']\n",
    "\n",
    "\n",
    "hypothesis_2 = st.ttest_ind(action['user_score_x'], sports['user_score_x'], equal_var=False) #ttest \n",
    "print('p-value:', hypothesis_2.pvalue) \n",
    "print('Average user rating - genre Action:', action['user_score_x'].mean()) \n",
    "print('Average user rating - genre Sports:', sports['user_score_x'].mean()) \n",
    "\n",
    "if hypothesis_2.pvalue < alpha: \n",
    "    print('Rejecting the null hypothesis')  \n",
    "else: \n",
    "    print('It is not possible to reject the null hypothesis') "
   ]
  },
  {
   "cell_type": "markdown",
   "metadata": {},
   "source": [
    "### Conclusion\n",
    "At the fifth step, two hypotheses were tested and the following conclusions were drawn:\n",
    "\n",
    "1) Average user ratings for Xbox One and PC platforms are the **same**; <br/>\n",
    "2) Average user ratings for Action and Sports genres **vary**.\n",
    "\n",
    "The resulting p-value indicates the probability of getting such a difference or higher by chance. In the first case, **the probability is above the critical level, it is impossible to conclude that there is a significant difference between user ratings**. In the second case - the value is very small - below the critical level - therefore, a choice is made in favor of an alternative hypothesis about the inequality of ratings."
   ]
  },
  {
   "cell_type": "markdown",
   "metadata": {},
   "source": [
    "<a id='sixth'></a>\n",
    "## Summary"
   ]
  },
  {
   "cell_type": "markdown",
   "metadata": {},
   "source": [
    "In order to forecast ad campaigns for 2017, it makes sense to bet on growing platforms. The study showed that those are PS4 and XOne. At the same time, one should not ignore the most popular PS3 and X360 platforms today - as they are the leaders in the sales overall.\n",
    "the genres that dominate in terms of the number of sales and have consistently high sales should also be taken into account, especially the Shooter genre.\n",
    "It is important to take into account the differences across regions. If the behavior of users in the region of North America and Europe is similar in terms of the choice of genres, platforms, games by age limit - in Japan, the preferences differ.\n",
    "The study also showed that game ratings do not differ critically by genre, while there is a slight correlation between critic ratings and sales, there is no correlation with user ratings.\n",
    "Also, 2 hypotheses were tested in the study, and it was concluded that the user rating of the Action genre differs from the rating of the Sports genre. At the same time, it was not possible to reject the hypothesis about the equality of user ratings for XOne and PC."
   ]
  }
 ],
 "metadata": {
  "ExecuteTimeLog": [
   {
    "duration": 770,
    "start_time": "2022-01-24T17:24:37.872Z"
   },
   {
    "duration": 46,
    "start_time": "2022-01-24T17:25:19.124Z"
   },
   {
    "duration": 46,
    "start_time": "2022-01-24T17:25:43.012Z"
   },
   {
    "duration": 43,
    "start_time": "2022-01-24T17:26:16.464Z"
   },
   {
    "duration": 61,
    "start_time": "2022-01-24T17:26:28.259Z"
   },
   {
    "duration": 2,
    "start_time": "2022-01-24T17:51:17.337Z"
   },
   {
    "duration": 15,
    "start_time": "2022-01-24T17:55:34.854Z"
   },
   {
    "duration": 18,
    "start_time": "2022-01-24T17:58:45.895Z"
   },
   {
    "duration": 304,
    "start_time": "2022-01-24T17:58:55.338Z"
   },
   {
    "duration": 280,
    "start_time": "2022-01-24T17:59:04.858Z"
   },
   {
    "duration": 13,
    "start_time": "2022-01-24T17:59:09.410Z"
   },
   {
    "duration": 9,
    "start_time": "2022-01-24T17:59:16.304Z"
   },
   {
    "duration": 9,
    "start_time": "2022-01-24T17:59:20.153Z"
   },
   {
    "duration": 9,
    "start_time": "2022-01-24T17:59:36.795Z"
   },
   {
    "duration": 9,
    "start_time": "2022-01-24T17:59:43.178Z"
   },
   {
    "duration": 16,
    "start_time": "2022-01-24T18:00:02.999Z"
   },
   {
    "duration": 17,
    "start_time": "2022-01-24T18:00:46.215Z"
   },
   {
    "duration": 2,
    "start_time": "2022-01-24T18:00:48.350Z"
   },
   {
    "duration": 247,
    "start_time": "2022-01-24T18:01:46.651Z"
   },
   {
    "duration": 14,
    "start_time": "2022-01-24T18:02:10.527Z"
   },
   {
    "duration": 15,
    "start_time": "2022-01-24T18:02:16.191Z"
   },
   {
    "duration": 424,
    "start_time": "2022-01-24T18:02:27.596Z"
   },
   {
    "duration": 250,
    "start_time": "2022-01-24T18:02:50.583Z"
   },
   {
    "duration": 286,
    "start_time": "2022-01-24T18:03:19.462Z"
   },
   {
    "duration": 12,
    "start_time": "2022-01-24T18:04:07.782Z"
   },
   {
    "duration": 3,
    "start_time": "2022-01-24T18:04:25.581Z"
   },
   {
    "duration": 3,
    "start_time": "2022-01-24T18:04:26.529Z"
   },
   {
    "duration": 14,
    "start_time": "2022-01-24T18:05:14.076Z"
   },
   {
    "duration": 5,
    "start_time": "2022-01-24T18:05:42.384Z"
   },
   {
    "duration": 5,
    "start_time": "2022-01-24T18:05:52.275Z"
   },
   {
    "duration": 10,
    "start_time": "2022-01-24T18:06:40.870Z"
   },
   {
    "duration": 9,
    "start_time": "2022-01-24T18:06:45.579Z"
   },
   {
    "duration": 23,
    "start_time": "2022-01-24T18:06:49.386Z"
   },
   {
    "duration": 20,
    "start_time": "2022-01-24T18:07:17.427Z"
   },
   {
    "duration": 20,
    "start_time": "2022-01-24T18:07:38.990Z"
   },
   {
    "duration": 1371,
    "start_time": "2022-01-24T18:08:07.160Z"
   },
   {
    "duration": 271,
    "start_time": "2022-01-24T18:09:52.185Z"
   },
   {
    "duration": 256,
    "start_time": "2022-01-24T18:09:58.229Z"
   },
   {
    "duration": 80,
    "start_time": "2022-01-24T18:10:13.220Z"
   },
   {
    "duration": 264,
    "start_time": "2022-01-24T18:10:21.304Z"
   },
   {
    "duration": 20,
    "start_time": "2022-01-24T18:10:42.484Z"
   },
   {
    "duration": 271,
    "start_time": "2022-01-24T18:11:03.858Z"
   },
   {
    "duration": 330,
    "start_time": "2022-01-24T18:11:23.292Z"
   },
   {
    "duration": 14,
    "start_time": "2022-01-24T18:11:40.509Z"
   },
   {
    "duration": 13,
    "start_time": "2022-01-24T18:12:07.841Z"
   },
   {
    "duration": 26,
    "start_time": "2022-01-24T18:12:32.051Z"
   },
   {
    "duration": 20,
    "start_time": "2022-01-24T18:15:20.670Z"
   },
   {
    "duration": 23,
    "start_time": "2022-01-24T18:16:09.579Z"
   },
   {
    "duration": 24,
    "start_time": "2022-01-24T18:16:25.143Z"
   },
   {
    "duration": 22,
    "start_time": "2022-01-24T18:17:46.852Z"
   },
   {
    "duration": 549,
    "start_time": "2022-01-26T17:23:51.085Z"
   },
   {
    "duration": 868,
    "start_time": "2022-01-26T17:24:06.178Z"
   },
   {
    "duration": 37,
    "start_time": "2022-01-26T17:24:07.049Z"
   },
   {
    "duration": 20,
    "start_time": "2022-01-26T17:24:07.089Z"
   },
   {
    "duration": 74,
    "start_time": "2022-01-26T17:24:07.112Z"
   },
   {
    "duration": 23,
    "start_time": "2022-01-26T17:24:07.189Z"
   },
   {
    "duration": 50,
    "start_time": "2022-01-26T17:24:07.215Z"
   },
   {
    "duration": 19,
    "start_time": "2022-01-26T17:24:53.868Z"
   },
   {
    "duration": 16,
    "start_time": "2022-01-26T17:27:12.462Z"
   },
   {
    "duration": 18,
    "start_time": "2022-01-26T17:27:37.080Z"
   },
   {
    "duration": 455,
    "start_time": "2022-01-26T17:27:59.023Z"
   },
   {
    "duration": 930,
    "start_time": "2022-01-26T17:29:23.188Z"
   },
   {
    "duration": 35,
    "start_time": "2022-01-26T17:29:24.122Z"
   },
   {
    "duration": 23,
    "start_time": "2022-01-26T17:29:24.161Z"
   },
   {
    "duration": 73,
    "start_time": "2022-01-26T17:29:24.187Z"
   },
   {
    "duration": 17,
    "start_time": "2022-01-26T17:29:24.263Z"
   },
   {
    "duration": 614,
    "start_time": "2022-01-26T17:29:24.282Z"
   },
   {
    "duration": 29,
    "start_time": "2022-01-26T17:29:24.899Z"
   },
   {
    "duration": 42,
    "start_time": "2022-01-26T17:29:39.827Z"
   },
   {
    "duration": 32,
    "start_time": "2022-01-26T17:29:54.579Z"
   },
   {
    "duration": 7,
    "start_time": "2022-01-26T17:30:14.101Z"
   },
   {
    "duration": 315,
    "start_time": "2022-01-26T17:30:34.806Z"
   },
   {
    "duration": 9425,
    "start_time": "2022-01-26T17:33:52.596Z"
   },
   {
    "duration": 7546,
    "start_time": "2022-01-26T17:34:52.521Z"
   },
   {
    "duration": 903,
    "start_time": "2022-01-26T17:35:14.524Z"
   },
   {
    "duration": 28,
    "start_time": "2022-01-26T17:35:15.430Z"
   },
   {
    "duration": 27,
    "start_time": "2022-01-26T17:35:15.463Z"
   },
   {
    "duration": 21,
    "start_time": "2022-01-26T17:35:15.494Z"
   },
   {
    "duration": 44,
    "start_time": "2022-01-26T17:35:15.550Z"
   },
   {
    "duration": 15,
    "start_time": "2022-01-26T17:35:15.597Z"
   },
   {
    "duration": 8206,
    "start_time": "2022-01-26T17:35:15.614Z"
   },
   {
    "duration": -221,
    "start_time": "2022-01-26T17:35:24.043Z"
   },
   {
    "duration": 299,
    "start_time": "2022-01-26T17:37:22.452Z"
   },
   {
    "duration": 970,
    "start_time": "2022-01-26T17:38:46.072Z"
   },
   {
    "duration": 653,
    "start_time": "2022-01-26T17:40:33.903Z"
   },
   {
    "duration": 669,
    "start_time": "2022-01-26T17:41:05.357Z"
   },
   {
    "duration": 577,
    "start_time": "2022-01-26T17:42:12.338Z"
   },
   {
    "duration": 330,
    "start_time": "2022-01-26T17:42:33.001Z"
   },
   {
    "duration": 303,
    "start_time": "2022-01-26T17:42:53.308Z"
   },
   {
    "duration": 331,
    "start_time": "2022-01-26T17:44:22.199Z"
   },
   {
    "duration": 306,
    "start_time": "2022-01-26T17:44:36.712Z"
   },
   {
    "duration": 295,
    "start_time": "2022-01-26T17:45:04.802Z"
   },
   {
    "duration": 297,
    "start_time": "2022-01-26T17:45:11.335Z"
   },
   {
    "duration": 893,
    "start_time": "2022-01-26T17:46:52.650Z"
   },
   {
    "duration": 12,
    "start_time": "2022-01-26T17:47:31.339Z"
   },
   {
    "duration": 37,
    "start_time": "2022-01-26T17:48:44.586Z"
   },
   {
    "duration": 41,
    "start_time": "2022-01-26T17:49:09.306Z"
   },
   {
    "duration": 28,
    "start_time": "2022-01-26T17:52:24.548Z"
   },
   {
    "duration": 312,
    "start_time": "2022-01-26T17:53:08.063Z"
   },
   {
    "duration": 363,
    "start_time": "2022-01-26T17:53:16.891Z"
   },
   {
    "duration": 399,
    "start_time": "2022-01-26T17:53:23.798Z"
   },
   {
    "duration": 310,
    "start_time": "2022-01-26T17:53:30.642Z"
   },
   {
    "duration": 316,
    "start_time": "2022-01-26T17:53:42.026Z"
   },
   {
    "duration": 23,
    "start_time": "2022-01-26T17:55:41.602Z"
   },
   {
    "duration": 24,
    "start_time": "2022-01-26T17:55:51.190Z"
   },
   {
    "duration": 24,
    "start_time": "2022-01-26T17:55:56.645Z"
   },
   {
    "duration": 849,
    "start_time": "2022-01-26T17:56:04.532Z"
   },
   {
    "duration": 24,
    "start_time": "2022-01-26T17:56:05.384Z"
   },
   {
    "duration": 55,
    "start_time": "2022-01-26T17:56:05.412Z"
   },
   {
    "duration": 21,
    "start_time": "2022-01-26T17:56:05.471Z"
   },
   {
    "duration": 59,
    "start_time": "2022-01-26T17:56:05.494Z"
   },
   {
    "duration": 16,
    "start_time": "2022-01-26T17:56:05.556Z"
   },
   {
    "duration": 430,
    "start_time": "2022-01-26T17:56:05.574Z"
   },
   {
    "duration": 23,
    "start_time": "2022-01-26T17:56:06.008Z"
   },
   {
    "duration": 39,
    "start_time": "2022-01-26T17:56:06.048Z"
   },
   {
    "duration": 8,
    "start_time": "2022-01-26T17:56:06.090Z"
   },
   {
    "duration": 282,
    "start_time": "2022-01-26T17:57:36.084Z"
   },
   {
    "duration": 874,
    "start_time": "2022-01-26T17:58:02.079Z"
   },
   {
    "duration": 25,
    "start_time": "2022-01-26T17:58:02.956Z"
   },
   {
    "duration": 30,
    "start_time": "2022-01-26T17:58:02.985Z"
   },
   {
    "duration": 47,
    "start_time": "2022-01-26T17:58:03.019Z"
   },
   {
    "duration": 38,
    "start_time": "2022-01-26T17:58:03.069Z"
   },
   {
    "duration": 46,
    "start_time": "2022-01-26T17:58:03.110Z"
   },
   {
    "duration": 552,
    "start_time": "2022-01-26T17:58:03.159Z"
   },
   {
    "duration": 39,
    "start_time": "2022-01-26T17:58:03.715Z"
   },
   {
    "duration": 66,
    "start_time": "2022-01-26T17:58:03.758Z"
   },
   {
    "duration": 64,
    "start_time": "2022-01-26T17:58:03.828Z"
   },
   {
    "duration": 43,
    "start_time": "2022-01-26T17:59:10.867Z"
   },
   {
    "duration": 32,
    "start_time": "2022-01-26T17:59:17.526Z"
   },
   {
    "duration": 813,
    "start_time": "2022-01-26T17:59:30.396Z"
   },
   {
    "duration": 42,
    "start_time": "2022-01-26T17:59:31.212Z"
   },
   {
    "duration": 27,
    "start_time": "2022-01-26T17:59:31.257Z"
   },
   {
    "duration": 20,
    "start_time": "2022-01-26T17:59:31.287Z"
   },
   {
    "duration": 71,
    "start_time": "2022-01-26T17:59:31.309Z"
   },
   {
    "duration": 17,
    "start_time": "2022-01-26T17:59:31.383Z"
   },
   {
    "duration": 456,
    "start_time": "2022-01-26T17:59:31.404Z"
   },
   {
    "duration": 23,
    "start_time": "2022-01-26T17:59:31.867Z"
   },
   {
    "duration": 67,
    "start_time": "2022-01-26T17:59:31.893Z"
   },
   {
    "duration": 6,
    "start_time": "2022-01-26T17:59:31.963Z"
   },
   {
    "duration": 26,
    "start_time": "2022-01-26T17:59:45.533Z"
   },
   {
    "duration": 381,
    "start_time": "2022-01-26T18:01:39.717Z"
   },
   {
    "duration": 11,
    "start_time": "2022-01-26T18:01:47.053Z"
   },
   {
    "duration": 10,
    "start_time": "2022-01-26T18:01:58.007Z"
   },
   {
    "duration": 10,
    "start_time": "2022-01-26T18:02:05.503Z"
   },
   {
    "duration": 9,
    "start_time": "2022-01-26T18:02:14.219Z"
   },
   {
    "duration": 10,
    "start_time": "2022-01-26T18:02:20.531Z"
   },
   {
    "duration": 843,
    "start_time": "2022-01-26T18:02:38.028Z"
   },
   {
    "duration": 24,
    "start_time": "2022-01-26T18:02:38.874Z"
   },
   {
    "duration": 55,
    "start_time": "2022-01-26T18:02:38.902Z"
   },
   {
    "duration": 21,
    "start_time": "2022-01-26T18:02:38.961Z"
   },
   {
    "duration": 63,
    "start_time": "2022-01-26T18:02:38.985Z"
   },
   {
    "duration": 18,
    "start_time": "2022-01-26T18:02:39.051Z"
   },
   {
    "duration": 420,
    "start_time": "2022-01-26T18:02:39.072Z"
   },
   {
    "duration": 11,
    "start_time": "2022-01-26T18:02:39.495Z"
   },
   {
    "duration": 49,
    "start_time": "2022-01-26T18:02:39.509Z"
   },
   {
    "duration": 7,
    "start_time": "2022-01-26T18:02:39.561Z"
   },
   {
    "duration": 10,
    "start_time": "2022-01-26T18:03:04.701Z"
   },
   {
    "duration": 13,
    "start_time": "2022-01-26T18:03:32.334Z"
   },
   {
    "duration": 26,
    "start_time": "2022-01-26T18:03:46.677Z"
   },
   {
    "duration": 392,
    "start_time": "2022-01-26T18:04:10.429Z"
   },
   {
    "duration": 11,
    "start_time": "2022-01-26T18:04:13.666Z"
   },
   {
    "duration": 10,
    "start_time": "2022-01-26T18:04:21.191Z"
   },
   {
    "duration": 13,
    "start_time": "2022-01-26T18:04:27.367Z"
   },
   {
    "duration": 13,
    "start_time": "2022-01-26T18:05:46.490Z"
   },
   {
    "duration": 28,
    "start_time": "2022-01-26T18:06:01.272Z"
   },
   {
    "duration": 798,
    "start_time": "2022-01-26T18:06:20.102Z"
   },
   {
    "duration": 44,
    "start_time": "2022-01-26T18:06:20.904Z"
   },
   {
    "duration": 28,
    "start_time": "2022-01-26T18:06:20.952Z"
   },
   {
    "duration": 19,
    "start_time": "2022-01-26T18:06:20.984Z"
   },
   {
    "duration": 73,
    "start_time": "2022-01-26T18:06:21.006Z"
   },
   {
    "duration": 26,
    "start_time": "2022-01-26T18:06:21.081Z"
   },
   {
    "duration": 433,
    "start_time": "2022-01-26T18:06:21.109Z"
   },
   {
    "duration": 10,
    "start_time": "2022-01-26T18:06:21.549Z"
   },
   {
    "duration": 26,
    "start_time": "2022-01-26T18:06:21.562Z"
   },
   {
    "duration": 7,
    "start_time": "2022-01-26T18:06:21.590Z"
   },
   {
    "duration": 599,
    "start_time": "2022-01-26T18:07:37.921Z"
   },
   {
    "duration": 19,
    "start_time": "2022-01-26T18:07:41.924Z"
   },
   {
    "duration": 23,
    "start_time": "2022-01-26T18:08:09.055Z"
   },
   {
    "duration": 35,
    "start_time": "2022-01-26T18:09:05.561Z"
   },
   {
    "duration": 54,
    "start_time": "2022-01-26T18:09:16.145Z"
   },
   {
    "duration": 424,
    "start_time": "2022-01-26T18:09:53.305Z"
   },
   {
    "duration": 14,
    "start_time": "2022-01-26T18:09:57.956Z"
   },
   {
    "duration": 16,
    "start_time": "2022-01-26T18:10:35.148Z"
   },
   {
    "duration": 7,
    "start_time": "2022-01-26T18:14:10.402Z"
   },
   {
    "duration": 29,
    "start_time": "2022-01-26T18:16:52.086Z"
   },
   {
    "duration": 399,
    "start_time": "2022-01-26T18:19:41.754Z"
   },
   {
    "duration": 313,
    "start_time": "2022-01-26T18:20:30.323Z"
   },
   {
    "duration": 312,
    "start_time": "2022-01-26T18:20:59.897Z"
   },
   {
    "duration": 296,
    "start_time": "2022-01-26T18:22:19.134Z"
   },
   {
    "duration": 44,
    "start_time": "2022-01-26T18:22:26.104Z"
   },
   {
    "duration": 49,
    "start_time": "2022-01-26T18:22:54.238Z"
   },
   {
    "duration": 48,
    "start_time": "2022-01-26T18:23:06.588Z"
   },
   {
    "duration": 7522,
    "start_time": "2022-01-26T18:23:25.526Z"
   },
   {
    "duration": 58,
    "start_time": "2022-01-26T18:24:05.759Z"
   },
   {
    "duration": 7989,
    "start_time": "2022-01-26T18:25:05.204Z"
   },
   {
    "duration": 51,
    "start_time": "2022-01-26T18:25:29.592Z"
   },
   {
    "duration": 50,
    "start_time": "2022-01-26T18:26:56.976Z"
   },
   {
    "duration": 912,
    "start_time": "2022-01-26T18:27:05.835Z"
   },
   {
    "duration": 28,
    "start_time": "2022-01-26T18:27:06.750Z"
   },
   {
    "duration": 29,
    "start_time": "2022-01-26T18:27:06.781Z"
   },
   {
    "duration": 47,
    "start_time": "2022-01-26T18:27:06.813Z"
   },
   {
    "duration": 58,
    "start_time": "2022-01-26T18:27:06.863Z"
   },
   {
    "duration": 33,
    "start_time": "2022-01-26T18:27:06.924Z"
   },
   {
    "duration": 488,
    "start_time": "2022-01-26T18:27:06.960Z"
   },
   {
    "duration": 18,
    "start_time": "2022-01-26T18:27:07.452Z"
   },
   {
    "duration": 24,
    "start_time": "2022-01-26T18:27:07.473Z"
   },
   {
    "duration": 89,
    "start_time": "2022-01-26T18:27:07.500Z"
   },
   {
    "duration": 8,
    "start_time": "2022-01-26T18:27:07.591Z"
   },
   {
    "duration": 8565,
    "start_time": "2022-01-26T18:27:07.602Z"
   },
   {
    "duration": 48,
    "start_time": "2022-01-26T18:27:37.068Z"
   },
   {
    "duration": 7525,
    "start_time": "2022-01-26T18:27:40.392Z"
   },
   {
    "duration": 336,
    "start_time": "2022-01-26T18:29:22.240Z"
   },
   {
    "duration": 57,
    "start_time": "2022-01-26T18:29:38.962Z"
   },
   {
    "duration": 48,
    "start_time": "2022-01-26T18:29:43.866Z"
   },
   {
    "duration": 830,
    "start_time": "2022-01-26T18:30:05.771Z"
   },
   {
    "duration": 25,
    "start_time": "2022-01-26T18:30:06.605Z"
   },
   {
    "duration": 26,
    "start_time": "2022-01-26T18:30:06.649Z"
   },
   {
    "duration": 22,
    "start_time": "2022-01-26T18:30:06.678Z"
   },
   {
    "duration": 76,
    "start_time": "2022-01-26T18:30:06.703Z"
   },
   {
    "duration": 20,
    "start_time": "2022-01-26T18:30:06.782Z"
   },
   {
    "duration": 451,
    "start_time": "2022-01-26T18:30:06.804Z"
   },
   {
    "duration": 16,
    "start_time": "2022-01-26T18:30:07.259Z"
   },
   {
    "duration": 34,
    "start_time": "2022-01-26T18:30:07.279Z"
   },
   {
    "duration": 63,
    "start_time": "2022-01-26T18:30:07.315Z"
   },
   {
    "duration": 4,
    "start_time": "2022-01-26T18:30:07.380Z"
   },
   {
    "duration": 21,
    "start_time": "2022-01-26T18:30:07.387Z"
   },
   {
    "duration": 8337,
    "start_time": "2022-01-26T18:30:07.411Z"
   },
   {
    "duration": 28,
    "start_time": "2022-01-26T18:30:25.244Z"
   },
   {
    "duration": 369,
    "start_time": "2022-01-26T18:32:04.076Z"
   },
   {
    "duration": 381,
    "start_time": "2022-01-26T18:32:30.240Z"
   },
   {
    "duration": 24,
    "start_time": "2022-01-26T18:33:07.144Z"
   },
   {
    "duration": 28,
    "start_time": "2022-01-26T18:33:30.071Z"
   },
   {
    "duration": 822,
    "start_time": "2022-01-26T18:33:46.115Z"
   },
   {
    "duration": 23,
    "start_time": "2022-01-26T18:33:46.940Z"
   },
   {
    "duration": 25,
    "start_time": "2022-01-26T18:33:46.966Z"
   },
   {
    "duration": 27,
    "start_time": "2022-01-26T18:33:46.995Z"
   },
   {
    "duration": 63,
    "start_time": "2022-01-26T18:33:47.024Z"
   },
   {
    "duration": 19,
    "start_time": "2022-01-26T18:33:47.089Z"
   },
   {
    "duration": 428,
    "start_time": "2022-01-26T18:33:47.110Z"
   },
   {
    "duration": 23,
    "start_time": "2022-01-26T18:33:47.542Z"
   },
   {
    "duration": 19,
    "start_time": "2022-01-26T18:33:47.568Z"
   },
   {
    "duration": 66,
    "start_time": "2022-01-26T18:33:47.589Z"
   },
   {
    "duration": 23,
    "start_time": "2022-01-26T18:33:47.658Z"
   },
   {
    "duration": 29,
    "start_time": "2022-01-26T18:33:47.684Z"
   },
   {
    "duration": 33,
    "start_time": "2022-01-26T18:33:47.715Z"
   },
   {
    "duration": 29,
    "start_time": "2022-01-26T18:34:00.306Z"
   },
   {
    "duration": 1087,
    "start_time": "2022-01-26T18:34:15.193Z"
   },
   {
    "duration": 29,
    "start_time": "2022-01-26T18:34:16.283Z"
   },
   {
    "duration": 55,
    "start_time": "2022-01-26T18:34:16.316Z"
   },
   {
    "duration": 28,
    "start_time": "2022-01-26T18:34:16.374Z"
   },
   {
    "duration": 81,
    "start_time": "2022-01-26T18:34:16.410Z"
   },
   {
    "duration": 19,
    "start_time": "2022-01-26T18:34:16.494Z"
   },
   {
    "duration": 524,
    "start_time": "2022-01-26T18:34:16.516Z"
   },
   {
    "duration": 21,
    "start_time": "2022-01-26T18:34:17.051Z"
   },
   {
    "duration": 38,
    "start_time": "2022-01-26T18:34:17.076Z"
   },
   {
    "duration": 77,
    "start_time": "2022-01-26T18:34:17.117Z"
   },
   {
    "duration": 55,
    "start_time": "2022-01-26T18:34:17.196Z"
   },
   {
    "duration": 35,
    "start_time": "2022-01-26T18:34:17.254Z"
   },
   {
    "duration": 3,
    "start_time": "2022-01-26T18:34:17.292Z"
   },
   {
    "duration": 377,
    "start_time": "2022-01-26T18:34:55.801Z"
   },
   {
    "duration": 17,
    "start_time": "2022-01-26T18:35:01.153Z"
   },
   {
    "duration": 26,
    "start_time": "2022-01-26T18:35:21.904Z"
   },
   {
    "duration": 25,
    "start_time": "2022-01-26T18:35:31.258Z"
   },
   {
    "duration": 26,
    "start_time": "2022-01-26T18:35:33.092Z"
   },
   {
    "duration": 25,
    "start_time": "2022-01-26T18:35:33.299Z"
   },
   {
    "duration": 26,
    "start_time": "2022-01-26T18:35:33.497Z"
   },
   {
    "duration": 25,
    "start_time": "2022-01-26T18:35:33.689Z"
   },
   {
    "duration": 867,
    "start_time": "2022-01-26T18:35:45.878Z"
   },
   {
    "duration": 25,
    "start_time": "2022-01-26T18:35:46.748Z"
   },
   {
    "duration": 30,
    "start_time": "2022-01-26T18:35:46.777Z"
   },
   {
    "duration": 45,
    "start_time": "2022-01-26T18:35:46.810Z"
   },
   {
    "duration": 53,
    "start_time": "2022-01-26T18:35:46.858Z"
   },
   {
    "duration": 40,
    "start_time": "2022-01-26T18:35:46.915Z"
   },
   {
    "duration": 543,
    "start_time": "2022-01-26T18:35:46.958Z"
   },
   {
    "duration": 16,
    "start_time": "2022-01-26T18:35:47.504Z"
   },
   {
    "duration": 42,
    "start_time": "2022-01-26T18:35:47.524Z"
   },
   {
    "duration": 79,
    "start_time": "2022-01-26T18:35:47.570Z"
   },
   {
    "duration": 28,
    "start_time": "2022-01-26T18:35:47.652Z"
   },
   {
    "duration": 37,
    "start_time": "2022-01-26T18:35:47.683Z"
   },
   {
    "duration": 27,
    "start_time": "2022-01-26T18:35:47.750Z"
   },
   {
    "duration": 4,
    "start_time": "2022-01-26T18:35:47.780Z"
   },
   {
    "duration": 17,
    "start_time": "2022-01-26T18:36:05.526Z"
   },
   {
    "duration": 9,
    "start_time": "2022-01-26T18:36:34.037Z"
   },
   {
    "duration": 826,
    "start_time": "2022-01-26T18:36:49.925Z"
   },
   {
    "duration": 25,
    "start_time": "2022-01-26T18:36:50.754Z"
   },
   {
    "duration": 26,
    "start_time": "2022-01-26T18:36:50.783Z"
   },
   {
    "duration": 53,
    "start_time": "2022-01-26T18:36:50.813Z"
   },
   {
    "duration": 40,
    "start_time": "2022-01-26T18:36:50.869Z"
   },
   {
    "duration": 49,
    "start_time": "2022-01-26T18:36:50.912Z"
   },
   {
    "duration": 416,
    "start_time": "2022-01-26T18:36:50.964Z"
   },
   {
    "duration": 17,
    "start_time": "2022-01-26T18:36:51.385Z"
   },
   {
    "duration": 52,
    "start_time": "2022-01-26T18:36:51.405Z"
   },
   {
    "duration": 35,
    "start_time": "2022-01-26T18:36:51.459Z"
   },
   {
    "duration": 24,
    "start_time": "2022-01-26T18:36:51.497Z"
   },
   {
    "duration": 8,
    "start_time": "2022-01-26T18:36:51.550Z"
   },
   {
    "duration": 35,
    "start_time": "2022-01-26T18:36:51.560Z"
   },
   {
    "duration": 26,
    "start_time": "2022-01-26T18:36:51.597Z"
   },
   {
    "duration": 22,
    "start_time": "2022-01-26T18:36:51.626Z"
   },
   {
    "duration": 40,
    "start_time": "2022-01-26T18:38:42.102Z"
   },
   {
    "duration": 852,
    "start_time": "2022-01-26T18:38:55.266Z"
   },
   {
    "duration": 31,
    "start_time": "2022-01-26T18:38:56.121Z"
   },
   {
    "duration": 24,
    "start_time": "2022-01-26T18:38:56.155Z"
   },
   {
    "duration": 24,
    "start_time": "2022-01-26T18:38:56.182Z"
   },
   {
    "duration": 72,
    "start_time": "2022-01-26T18:38:56.209Z"
   },
   {
    "duration": 18,
    "start_time": "2022-01-26T18:38:56.284Z"
   },
   {
    "duration": 443,
    "start_time": "2022-01-26T18:38:56.305Z"
   },
   {
    "duration": 17,
    "start_time": "2022-01-26T18:38:56.752Z"
   },
   {
    "duration": 19,
    "start_time": "2022-01-26T18:38:56.772Z"
   },
   {
    "duration": 70,
    "start_time": "2022-01-26T18:38:56.794Z"
   },
   {
    "duration": 24,
    "start_time": "2022-01-26T18:38:56.867Z"
   },
   {
    "duration": 8,
    "start_time": "2022-01-26T18:38:56.893Z"
   },
   {
    "duration": 55,
    "start_time": "2022-01-26T18:38:56.903Z"
   },
   {
    "duration": 16,
    "start_time": "2022-01-26T18:38:56.961Z"
   },
   {
    "duration": 37,
    "start_time": "2022-01-26T18:38:56.979Z"
   },
   {
    "duration": 30,
    "start_time": "2022-01-26T18:38:57.018Z"
   },
   {
    "duration": 382,
    "start_time": "2022-01-26T18:39:27.220Z"
   },
   {
    "duration": 289,
    "start_time": "2022-01-26T18:39:33.848Z"
   },
   {
    "duration": 7,
    "start_time": "2022-01-26T18:39:41.391Z"
   },
   {
    "duration": 1893,
    "start_time": "2022-01-26T18:42:09.047Z"
   },
   {
    "duration": 305,
    "start_time": "2022-01-26T18:42:25.155Z"
   },
   {
    "duration": 312,
    "start_time": "2022-01-26T18:42:42.634Z"
   },
   {
    "duration": 316,
    "start_time": "2022-01-26T18:44:04.484Z"
   },
   {
    "duration": 14,
    "start_time": "2022-01-26T18:44:14.218Z"
   },
   {
    "duration": 15,
    "start_time": "2022-01-26T18:44:45.178Z"
   },
   {
    "duration": 12,
    "start_time": "2022-01-26T18:45:21.428Z"
   },
   {
    "duration": 13,
    "start_time": "2022-01-26T18:45:53.985Z"
   },
   {
    "duration": 43,
    "start_time": "2022-01-26T18:45:59.766Z"
   },
   {
    "duration": 20,
    "start_time": "2022-01-26T18:46:13.265Z"
   },
   {
    "duration": 30,
    "start_time": "2022-01-26T18:47:03.062Z"
   },
   {
    "duration": 35,
    "start_time": "2022-01-26T18:47:12.487Z"
   },
   {
    "duration": 45,
    "start_time": "2022-01-26T18:48:37.085Z"
   },
   {
    "duration": 27,
    "start_time": "2022-01-26T18:49:31.710Z"
   },
   {
    "duration": 23,
    "start_time": "2022-01-26T18:49:42.394Z"
   },
   {
    "duration": 22,
    "start_time": "2022-01-26T18:52:01.596Z"
   },
   {
    "duration": 22,
    "start_time": "2022-01-26T18:54:49.407Z"
   },
   {
    "duration": 21,
    "start_time": "2022-01-26T18:56:01.677Z"
   },
   {
    "duration": 342,
    "start_time": "2022-01-26T18:56:42.625Z"
   },
   {
    "duration": 23,
    "start_time": "2022-01-26T18:57:08.315Z"
   },
   {
    "duration": 324,
    "start_time": "2022-01-26T18:57:47.427Z"
   },
   {
    "duration": 336,
    "start_time": "2022-01-26T18:57:53.617Z"
   },
   {
    "duration": 23,
    "start_time": "2022-01-26T18:58:01.184Z"
   },
   {
    "duration": 25,
    "start_time": "2022-01-26T18:58:06.866Z"
   },
   {
    "duration": 21,
    "start_time": "2022-01-26T18:58:17.892Z"
   },
   {
    "duration": 299,
    "start_time": "2022-01-26T18:59:21.397Z"
   },
   {
    "duration": 6853,
    "start_time": "2022-01-26T19:01:51.464Z"
   },
   {
    "duration": 348,
    "start_time": "2022-01-26T19:02:26.138Z"
   },
   {
    "duration": 25,
    "start_time": "2022-01-26T19:04:17.107Z"
   },
   {
    "duration": 68,
    "start_time": "2022-01-26T19:05:00.940Z"
   },
   {
    "duration": 23,
    "start_time": "2022-01-26T19:05:53.047Z"
   },
   {
    "duration": 30,
    "start_time": "2022-01-26T19:06:37.522Z"
   },
   {
    "duration": 303,
    "start_time": "2022-01-26T19:06:52.178Z"
   },
   {
    "duration": 332,
    "start_time": "2022-01-26T19:07:27.933Z"
   },
   {
    "duration": 499,
    "start_time": "2022-01-26T19:08:22.299Z"
   },
   {
    "duration": 30,
    "start_time": "2022-01-26T19:09:37.233Z"
   },
   {
    "duration": 494,
    "start_time": "2022-01-26T19:10:05.343Z"
   },
   {
    "duration": 26,
    "start_time": "2022-01-26T19:10:39.920Z"
   },
   {
    "duration": 318,
    "start_time": "2022-01-26T19:10:51.631Z"
   },
   {
    "duration": 25,
    "start_time": "2022-01-26T19:11:30.765Z"
   },
   {
    "duration": 27,
    "start_time": "2022-01-26T19:11:44.577Z"
   },
   {
    "duration": 24,
    "start_time": "2022-01-26T19:12:00.355Z"
   },
   {
    "duration": 24,
    "start_time": "2022-01-26T19:12:11.107Z"
   },
   {
    "duration": 27,
    "start_time": "2022-01-26T19:12:31.293Z"
   },
   {
    "duration": 99,
    "start_time": "2022-01-26T19:12:45.414Z"
   },
   {
    "duration": 39,
    "start_time": "2022-01-26T19:12:52.703Z"
   },
   {
    "duration": 39,
    "start_time": "2022-01-26T19:12:57.767Z"
   },
   {
    "duration": 32,
    "start_time": "2022-01-26T19:14:04.233Z"
   },
   {
    "duration": 30,
    "start_time": "2022-01-26T19:15:00.624Z"
   },
   {
    "duration": 398,
    "start_time": "2022-01-26T19:15:15.713Z"
   },
   {
    "duration": 29,
    "start_time": "2022-01-26T19:17:01.718Z"
   },
   {
    "duration": 30,
    "start_time": "2022-01-26T19:17:13.521Z"
   },
   {
    "duration": 31,
    "start_time": "2022-01-26T19:17:21.841Z"
   },
   {
    "duration": 74,
    "start_time": "2022-01-26T19:17:53.698Z"
   },
   {
    "duration": 41,
    "start_time": "2022-01-26T19:18:25.111Z"
   },
   {
    "duration": 32,
    "start_time": "2022-01-26T19:19:06.811Z"
   },
   {
    "duration": 67,
    "start_time": "2022-01-26T19:20:37.229Z"
   },
   {
    "duration": 318,
    "start_time": "2022-01-26T19:22:46.675Z"
   },
   {
    "duration": 425,
    "start_time": "2022-01-26T19:22:57.961Z"
   },
   {
    "duration": 650,
    "start_time": "2022-01-26T19:23:30.430Z"
   },
   {
    "duration": 65,
    "start_time": "2022-01-26T19:24:25.661Z"
   },
   {
    "duration": 8623,
    "start_time": "2022-01-26T19:24:30.852Z"
   },
   {
    "duration": 8646,
    "start_time": "2022-01-26T19:24:44.246Z"
   },
   {
    "duration": 496,
    "start_time": "2022-01-26T19:25:09.132Z"
   },
   {
    "duration": 8703,
    "start_time": "2022-01-26T19:26:35.680Z"
   },
   {
    "duration": 492,
    "start_time": "2022-01-26T19:26:49.873Z"
   },
   {
    "duration": 764,
    "start_time": "2022-01-26T19:26:59.151Z"
   },
   {
    "duration": 342,
    "start_time": "2022-01-26T19:27:20.373Z"
   },
   {
    "duration": 669,
    "start_time": "2022-01-26T19:27:24.416Z"
   },
   {
    "duration": 13,
    "start_time": "2022-01-26T19:29:28.407Z"
   },
   {
    "duration": 16,
    "start_time": "2022-01-26T19:29:44.709Z"
   },
   {
    "duration": 15,
    "start_time": "2022-01-26T19:29:50.628Z"
   },
   {
    "duration": 17,
    "start_time": "2022-01-26T19:29:58.174Z"
   },
   {
    "duration": 23,
    "start_time": "2022-01-26T19:32:16.895Z"
   },
   {
    "duration": 14,
    "start_time": "2022-01-26T19:32:54.165Z"
   },
   {
    "duration": 20,
    "start_time": "2022-01-26T19:32:57.218Z"
   },
   {
    "duration": 770,
    "start_time": "2022-01-26T20:47:20.490Z"
   },
   {
    "duration": 31,
    "start_time": "2022-01-26T20:47:21.264Z"
   },
   {
    "duration": 26,
    "start_time": "2022-01-26T20:47:21.299Z"
   },
   {
    "duration": 21,
    "start_time": "2022-01-26T20:47:21.348Z"
   },
   {
    "duration": 39,
    "start_time": "2022-01-26T20:47:21.371Z"
   },
   {
    "duration": 49,
    "start_time": "2022-01-26T20:47:21.412Z"
   },
   {
    "duration": 429,
    "start_time": "2022-01-26T20:47:21.464Z"
   },
   {
    "duration": 16,
    "start_time": "2022-01-26T20:47:21.897Z"
   },
   {
    "duration": 48,
    "start_time": "2022-01-26T20:47:21.915Z"
   },
   {
    "duration": 47,
    "start_time": "2022-01-26T20:47:21.966Z"
   },
   {
    "duration": 39,
    "start_time": "2022-01-26T20:47:22.015Z"
   },
   {
    "duration": 8,
    "start_time": "2022-01-26T20:47:22.056Z"
   },
   {
    "duration": 33,
    "start_time": "2022-01-26T20:47:22.066Z"
   },
   {
    "duration": 48,
    "start_time": "2022-01-26T20:47:22.101Z"
   },
   {
    "duration": 40,
    "start_time": "2022-01-26T20:47:22.151Z"
   },
   {
    "duration": 62,
    "start_time": "2022-01-26T20:47:22.194Z"
   },
   {
    "duration": 25,
    "start_time": "2022-01-26T20:47:22.259Z"
   },
   {
    "duration": 26,
    "start_time": "2022-01-26T20:47:22.287Z"
   },
   {
    "duration": 25,
    "start_time": "2022-01-26T20:47:22.348Z"
   },
   {
    "duration": 25,
    "start_time": "2022-01-26T20:47:22.376Z"
   },
   {
    "duration": 76,
    "start_time": "2022-01-26T20:47:22.403Z"
   },
   {
    "duration": 706,
    "start_time": "2022-01-26T20:47:22.482Z"
   },
   {
    "duration": 16,
    "start_time": "2022-01-26T20:47:23.193Z"
   },
   {
    "duration": 47,
    "start_time": "2022-01-26T20:47:23.212Z"
   },
   {
    "duration": 15,
    "start_time": "2022-01-26T20:47:40.971Z"
   },
   {
    "duration": 30,
    "start_time": "2022-01-26T20:47:49.010Z"
   },
   {
    "duration": 735,
    "start_time": "2022-01-26T20:50:44.574Z"
   },
   {
    "duration": 860,
    "start_time": "2022-01-26T20:51:07.654Z"
   },
   {
    "duration": 988,
    "start_time": "2022-01-26T20:53:19.149Z"
   },
   {
    "duration": 383,
    "start_time": "2022-01-26T20:55:17.539Z"
   },
   {
    "duration": 5,
    "start_time": "2022-01-26T20:55:51.578Z"
   },
   {
    "duration": 6,
    "start_time": "2022-01-26T20:56:40.436Z"
   },
   {
    "duration": 957,
    "start_time": "2022-01-26T20:57:18.972Z"
   },
   {
    "duration": 554,
    "start_time": "2022-01-26T20:58:17.352Z"
   },
   {
    "duration": 558,
    "start_time": "2022-01-26T21:00:02.085Z"
   },
   {
    "duration": 22,
    "start_time": "2022-01-26T21:01:09.333Z"
   },
   {
    "duration": 497,
    "start_time": "2022-01-26T21:01:46.078Z"
   },
   {
    "duration": 77,
    "start_time": "2022-01-26T21:03:26.143Z"
   },
   {
    "duration": 205,
    "start_time": "2022-01-26T21:04:28.092Z"
   },
   {
    "duration": 228,
    "start_time": "2022-01-26T21:09:13.876Z"
   },
   {
    "duration": 7559,
    "start_time": "2022-01-26T21:09:36.208Z"
   },
   {
    "duration": 969,
    "start_time": "2022-01-26T21:09:52.693Z"
   },
   {
    "duration": 43,
    "start_time": "2022-01-26T21:09:53.665Z"
   },
   {
    "duration": 57,
    "start_time": "2022-01-26T21:09:53.712Z"
   },
   {
    "duration": 31,
    "start_time": "2022-01-26T21:09:53.772Z"
   },
   {
    "duration": 64,
    "start_time": "2022-01-26T21:09:53.805Z"
   },
   {
    "duration": 21,
    "start_time": "2022-01-26T21:09:53.872Z"
   },
   {
    "duration": 365,
    "start_time": "2022-01-26T21:09:53.896Z"
   },
   {
    "duration": 17,
    "start_time": "2022-01-26T21:09:54.265Z"
   },
   {
    "duration": 21,
    "start_time": "2022-01-26T21:09:54.285Z"
   },
   {
    "duration": 39,
    "start_time": "2022-01-26T21:09:54.349Z"
   },
   {
    "duration": 27,
    "start_time": "2022-01-26T21:09:54.392Z"
   },
   {
    "duration": 32,
    "start_time": "2022-01-26T21:09:54.422Z"
   },
   {
    "duration": 28,
    "start_time": "2022-01-26T21:09:54.457Z"
   },
   {
    "duration": 17,
    "start_time": "2022-01-26T21:09:54.488Z"
   },
   {
    "duration": 79,
    "start_time": "2022-01-26T21:09:54.508Z"
   },
   {
    "duration": 67,
    "start_time": "2022-01-26T21:09:54.590Z"
   },
   {
    "duration": 26,
    "start_time": "2022-01-26T21:09:54.661Z"
   },
   {
    "duration": 58,
    "start_time": "2022-01-26T21:09:54.690Z"
   },
   {
    "duration": 25,
    "start_time": "2022-01-26T21:09:54.752Z"
   },
   {
    "duration": 26,
    "start_time": "2022-01-26T21:09:54.781Z"
   },
   {
    "duration": 76,
    "start_time": "2022-01-26T21:09:54.809Z"
   },
   {
    "duration": 785,
    "start_time": "2022-01-26T21:09:54.888Z"
   },
   {
    "duration": 15,
    "start_time": "2022-01-26T21:09:55.680Z"
   },
   {
    "duration": 21,
    "start_time": "2022-01-26T21:09:55.698Z"
   },
   {
    "duration": 534,
    "start_time": "2022-01-26T21:09:55.722Z"
   },
   {
    "duration": 259,
    "start_time": "2022-01-26T21:09:56.258Z"
   },
   {
    "duration": 363,
    "start_time": "2022-01-26T21:11:28.678Z"
   },
   {
    "duration": 354,
    "start_time": "2022-01-26T21:12:27.997Z"
   },
   {
    "duration": 29,
    "start_time": "2022-01-26T21:12:33.925Z"
   },
   {
    "duration": 202,
    "start_time": "2022-01-26T21:13:41.798Z"
   },
   {
    "duration": 49,
    "start_time": "2022-01-26T21:14:16.495Z"
   },
   {
    "duration": 237,
    "start_time": "2022-01-26T21:15:02.901Z"
   },
   {
    "duration": 318,
    "start_time": "2022-01-26T21:15:20.817Z"
   },
   {
    "duration": 955,
    "start_time": "2022-01-26T21:17:26.548Z"
   },
   {
    "duration": 29,
    "start_time": "2022-01-26T21:17:27.506Z"
   },
   {
    "duration": 26,
    "start_time": "2022-01-26T21:17:27.549Z"
   },
   {
    "duration": 20,
    "start_time": "2022-01-26T21:17:27.578Z"
   },
   {
    "duration": 65,
    "start_time": "2022-01-26T21:17:27.600Z"
   },
   {
    "duration": 18,
    "start_time": "2022-01-26T21:17:27.668Z"
   },
   {
    "duration": 346,
    "start_time": "2022-01-26T21:17:27.689Z"
   },
   {
    "duration": 24,
    "start_time": "2022-01-26T21:17:28.038Z"
   },
   {
    "duration": 19,
    "start_time": "2022-01-26T21:17:28.068Z"
   },
   {
    "duration": 74,
    "start_time": "2022-01-26T21:17:28.091Z"
   },
   {
    "duration": 28,
    "start_time": "2022-01-26T21:17:28.168Z"
   },
   {
    "duration": 9,
    "start_time": "2022-01-26T21:17:28.199Z"
   },
   {
    "duration": 60,
    "start_time": "2022-01-26T21:17:28.211Z"
   },
   {
    "duration": 18,
    "start_time": "2022-01-26T21:17:28.274Z"
   },
   {
    "duration": 75,
    "start_time": "2022-01-26T21:17:28.295Z"
   },
   {
    "duration": 41,
    "start_time": "2022-01-26T21:17:28.373Z"
   },
   {
    "duration": 51,
    "start_time": "2022-01-26T21:17:28.417Z"
   },
   {
    "duration": 24,
    "start_time": "2022-01-26T21:17:28.470Z"
   },
   {
    "duration": 61,
    "start_time": "2022-01-26T21:17:28.497Z"
   },
   {
    "duration": 25,
    "start_time": "2022-01-26T21:17:28.561Z"
   },
   {
    "duration": 77,
    "start_time": "2022-01-26T21:17:28.590Z"
   },
   {
    "duration": 682,
    "start_time": "2022-01-26T21:17:28.669Z"
   },
   {
    "duration": 15,
    "start_time": "2022-01-26T21:17:29.354Z"
   },
   {
    "duration": 20,
    "start_time": "2022-01-26T21:17:29.372Z"
   },
   {
    "duration": 464,
    "start_time": "2022-01-26T21:17:29.395Z"
   },
   {
    "duration": 231,
    "start_time": "2022-01-26T21:17:29.861Z"
   },
   {
    "duration": 714,
    "start_time": "2022-01-26T21:18:02.384Z"
   },
   {
    "duration": 671,
    "start_time": "2022-01-26T21:19:11.244Z"
   },
   {
    "duration": 99,
    "start_time": "2022-01-26T21:24:44.057Z"
   },
   {
    "duration": 8797,
    "start_time": "2022-01-26T21:25:15.396Z"
   },
   {
    "duration": 95,
    "start_time": "2022-01-26T21:26:43.050Z"
   },
   {
    "duration": 4530,
    "start_time": "2022-01-26T21:26:49.433Z"
   },
   {
    "duration": 643,
    "start_time": "2022-01-26T21:27:05.186Z"
   },
   {
    "duration": 220,
    "start_time": "2022-01-26T21:29:20.285Z"
   },
   {
    "duration": 247,
    "start_time": "2022-01-26T21:29:30.874Z"
   },
   {
    "duration": 779,
    "start_time": "2022-01-26T21:31:39.641Z"
   },
   {
    "duration": 344,
    "start_time": "2022-01-26T21:33:21.420Z"
   },
   {
    "duration": 10,
    "start_time": "2022-01-26T21:33:59.360Z"
   },
   {
    "duration": 12,
    "start_time": "2022-01-26T21:34:12.533Z"
   },
   {
    "duration": 3,
    "start_time": "2022-01-26T21:36:40.939Z"
   },
   {
    "duration": 7,
    "start_time": "2022-01-26T21:37:28.209Z"
   },
   {
    "duration": 41,
    "start_time": "2022-01-26T21:37:31.565Z"
   },
   {
    "duration": 859,
    "start_time": "2022-01-26T21:38:25.380Z"
   },
   {
    "duration": 576,
    "start_time": "2022-01-26T21:42:04.875Z"
   },
   {
    "duration": 1291,
    "start_time": "2022-01-26T21:42:44.339Z"
   },
   {
    "duration": 1307,
    "start_time": "2022-01-26T21:42:52.177Z"
   },
   {
    "duration": 102,
    "start_time": "2022-01-26T21:45:27.047Z"
   },
   {
    "duration": 98,
    "start_time": "2022-01-26T21:46:32.530Z"
   },
   {
    "duration": 512,
    "start_time": "2022-01-26T21:46:51.736Z"
   },
   {
    "duration": 740,
    "start_time": "2022-01-26T21:47:56.432Z"
   },
   {
    "duration": 1080,
    "start_time": "2022-01-26T21:50:10.362Z"
   },
   {
    "duration": 1507,
    "start_time": "2022-01-26T21:54:30.779Z"
   },
   {
    "duration": 23,
    "start_time": "2022-01-26T21:54:32.289Z"
   },
   {
    "duration": 54,
    "start_time": "2022-01-26T21:54:32.315Z"
   },
   {
    "duration": 20,
    "start_time": "2022-01-26T21:54:32.372Z"
   },
   {
    "duration": 55,
    "start_time": "2022-01-26T21:54:32.395Z"
   },
   {
    "duration": 19,
    "start_time": "2022-01-26T21:54:32.453Z"
   },
   {
    "duration": 369,
    "start_time": "2022-01-26T21:54:32.475Z"
   },
   {
    "duration": 17,
    "start_time": "2022-01-26T21:54:32.849Z"
   },
   {
    "duration": 19,
    "start_time": "2022-01-26T21:54:32.869Z"
   },
   {
    "duration": 72,
    "start_time": "2022-01-26T21:54:32.891Z"
   },
   {
    "duration": 24,
    "start_time": "2022-01-26T21:54:32.966Z"
   },
   {
    "duration": 7,
    "start_time": "2022-01-26T21:54:32.993Z"
   },
   {
    "duration": 53,
    "start_time": "2022-01-26T21:54:33.002Z"
   },
   {
    "duration": 17,
    "start_time": "2022-01-26T21:54:33.057Z"
   },
   {
    "duration": 38,
    "start_time": "2022-01-26T21:54:33.076Z"
   },
   {
    "duration": 34,
    "start_time": "2022-01-26T21:54:33.149Z"
   },
   {
    "duration": 423,
    "start_time": "2022-01-26T21:54:33.186Z"
   },
   {
    "duration": 21,
    "start_time": "2022-01-26T21:54:33.612Z"
   },
   {
    "duration": 21,
    "start_time": "2022-01-26T21:54:33.636Z"
   },
   {
    "duration": 19,
    "start_time": "2022-01-26T21:54:33.659Z"
   },
   {
    "duration": 838,
    "start_time": "2022-01-26T21:54:33.680Z"
   },
   {
    "duration": 27,
    "start_time": "2022-01-26T21:54:34.521Z"
   },
   {
    "duration": 18,
    "start_time": "2022-01-26T21:54:34.553Z"
   },
   {
    "duration": 357,
    "start_time": "2022-01-26T21:54:34.573Z"
   },
   {
    "duration": 223,
    "start_time": "2022-01-26T21:54:34.934Z"
   },
   {
    "duration": 4,
    "start_time": "2022-01-26T21:54:35.160Z"
   },
   {
    "duration": 776,
    "start_time": "2022-01-26T21:54:35.167Z"
   },
   {
    "duration": 894,
    "start_time": "2022-01-26T21:54:35.946Z"
   },
   {
    "duration": 7,
    "start_time": "2022-01-26T21:54:36.842Z"
   },
   {
    "duration": 33,
    "start_time": "2022-01-26T21:56:32.548Z"
   },
   {
    "duration": 33,
    "start_time": "2022-01-26T21:56:47.511Z"
   },
   {
    "duration": 420,
    "start_time": "2022-01-26T22:07:29.503Z"
   },
   {
    "duration": 371,
    "start_time": "2022-01-26T22:07:38.189Z"
   },
   {
    "duration": 21,
    "start_time": "2022-01-26T22:07:59.639Z"
   },
   {
    "duration": 20,
    "start_time": "2022-01-26T22:08:16.779Z"
   },
   {
    "duration": 20,
    "start_time": "2022-01-26T22:08:30.735Z"
   },
   {
    "duration": 302,
    "start_time": "2022-01-26T22:08:41.242Z"
   },
   {
    "duration": 21,
    "start_time": "2022-01-26T22:12:22.768Z"
   },
   {
    "duration": 300,
    "start_time": "2022-01-26T22:12:57.628Z"
   },
   {
    "duration": 47,
    "start_time": "2022-01-26T22:13:06.677Z"
   },
   {
    "duration": 20,
    "start_time": "2022-01-26T22:16:37.748Z"
   },
   {
    "duration": 92,
    "start_time": "2022-01-26T22:16:58.379Z"
   },
   {
    "duration": 21,
    "start_time": "2022-01-26T22:17:09.165Z"
   },
   {
    "duration": 20,
    "start_time": "2022-01-26T22:17:16.129Z"
   },
   {
    "duration": 17,
    "start_time": "2022-01-26T22:17:31.843Z"
   },
   {
    "duration": 18,
    "start_time": "2022-01-26T22:18:10.028Z"
   },
   {
    "duration": 22,
    "start_time": "2022-01-26T22:18:15.483Z"
   },
   {
    "duration": 25,
    "start_time": "2022-01-26T22:18:32.192Z"
   },
   {
    "duration": 23,
    "start_time": "2022-01-26T22:19:08.908Z"
   },
   {
    "duration": 35,
    "start_time": "2022-01-26T22:21:21.396Z"
   },
   {
    "duration": 52,
    "start_time": "2022-01-26T22:21:33.450Z"
   },
   {
    "duration": 24,
    "start_time": "2022-01-26T22:21:59.861Z"
   },
   {
    "duration": 56,
    "start_time": "2022-01-26T22:23:51.338Z"
   },
   {
    "duration": 58,
    "start_time": "2022-01-26T22:25:06.282Z"
   },
   {
    "duration": 20,
    "start_time": "2022-01-26T22:28:48.741Z"
   },
   {
    "duration": 8,
    "start_time": "2022-01-26T22:29:52.522Z"
   },
   {
    "duration": 6,
    "start_time": "2022-01-26T22:30:20.412Z"
   },
   {
    "duration": 6,
    "start_time": "2022-01-26T22:30:35.927Z"
   },
   {
    "duration": 69,
    "start_time": "2022-01-26T22:31:51.507Z"
   },
   {
    "duration": 70,
    "start_time": "2022-01-26T22:32:19.866Z"
   },
   {
    "duration": 66,
    "start_time": "2022-01-26T22:32:44.619Z"
   },
   {
    "duration": 1514,
    "start_time": "2022-01-26T22:33:07.663Z"
   },
   {
    "duration": 23,
    "start_time": "2022-01-26T22:33:09.180Z"
   },
   {
    "duration": 47,
    "start_time": "2022-01-26T22:33:09.206Z"
   },
   {
    "duration": 20,
    "start_time": "2022-01-26T22:33:09.256Z"
   },
   {
    "duration": 37,
    "start_time": "2022-01-26T22:33:09.279Z"
   },
   {
    "duration": 20,
    "start_time": "2022-01-26T22:33:09.349Z"
   },
   {
    "duration": 330,
    "start_time": "2022-01-26T22:33:09.372Z"
   },
   {
    "duration": 19,
    "start_time": "2022-01-26T22:33:09.705Z"
   },
   {
    "duration": 20,
    "start_time": "2022-01-26T22:33:09.748Z"
   },
   {
    "duration": 35,
    "start_time": "2022-01-26T22:33:09.770Z"
   },
   {
    "duration": 59,
    "start_time": "2022-01-26T22:33:09.808Z"
   },
   {
    "duration": 9,
    "start_time": "2022-01-26T22:33:09.870Z"
   },
   {
    "duration": 31,
    "start_time": "2022-01-26T22:33:09.882Z"
   },
   {
    "duration": 37,
    "start_time": "2022-01-26T22:33:09.915Z"
   },
   {
    "duration": 39,
    "start_time": "2022-01-26T22:33:09.954Z"
   },
   {
    "duration": 63,
    "start_time": "2022-01-26T22:33:09.995Z"
   },
   {
    "duration": 24,
    "start_time": "2022-01-26T22:33:10.060Z"
   },
   {
    "duration": 22,
    "start_time": "2022-01-26T22:33:10.086Z"
   },
   {
    "duration": 90,
    "start_time": "2022-01-26T22:33:10.110Z"
   },
   {
    "duration": 21,
    "start_time": "2022-01-26T22:33:10.203Z"
   },
   {
    "duration": 41,
    "start_time": "2022-01-26T22:33:10.226Z"
   },
   {
    "duration": 700,
    "start_time": "2022-01-26T22:33:10.270Z"
   },
   {
    "duration": 15,
    "start_time": "2022-01-26T22:33:10.973Z"
   },
   {
    "duration": 20,
    "start_time": "2022-01-26T22:33:10.990Z"
   },
   {
    "duration": 375,
    "start_time": "2022-01-26T22:33:11.013Z"
   },
   {
    "duration": 238,
    "start_time": "2022-01-26T22:33:11.390Z"
   },
   {
    "duration": 3,
    "start_time": "2022-01-26T22:33:11.633Z"
   },
   {
    "duration": 852,
    "start_time": "2022-01-26T22:33:11.638Z"
   },
   {
    "duration": 978,
    "start_time": "2022-01-26T22:33:12.493Z"
   },
   {
    "duration": 34,
    "start_time": "2022-01-26T22:33:13.474Z"
   },
   {
    "duration": 86,
    "start_time": "2022-01-26T22:33:13.510Z"
   },
   {
    "duration": 144,
    "start_time": "2022-01-26T22:33:13.598Z"
   },
   {
    "duration": 97,
    "start_time": "2022-01-26T22:34:02.223Z"
   },
   {
    "duration": 36,
    "start_time": "2022-01-26T22:34:05.977Z"
   },
   {
    "duration": 39,
    "start_time": "2022-01-26T22:34:31.915Z"
   },
   {
    "duration": 39,
    "start_time": "2022-01-26T22:35:15.393Z"
   },
   {
    "duration": 44,
    "start_time": "2022-01-26T22:35:51.467Z"
   },
   {
    "duration": 6,
    "start_time": "2022-01-26T22:37:44.871Z"
   },
   {
    "duration": 114,
    "start_time": "2022-01-26T22:42:52.041Z"
   },
   {
    "duration": 43,
    "start_time": "2022-01-26T22:44:01.192Z"
   },
   {
    "duration": 30,
    "start_time": "2022-01-26T22:44:33.783Z"
   },
   {
    "duration": -750,
    "start_time": "2022-01-26T22:46:36.915Z"
   },
   {
    "duration": 312,
    "start_time": "2022-01-26T22:50:05.450Z"
   },
   {
    "duration": 42,
    "start_time": "2022-01-26T22:51:07.286Z"
   },
   {
    "duration": 32,
    "start_time": "2022-01-26T22:51:19.340Z"
   },
   {
    "duration": 40,
    "start_time": "2022-01-26T22:52:44.250Z"
   },
   {
    "duration": 38,
    "start_time": "2022-01-26T22:53:01.929Z"
   },
   {
    "duration": 518,
    "start_time": "2022-01-26T22:53:33.094Z"
   },
   {
    "duration": 44,
    "start_time": "2022-01-26T22:56:36.774Z"
   },
   {
    "duration": 471,
    "start_time": "2022-01-26T22:56:44.748Z"
   },
   {
    "duration": 601,
    "start_time": "2022-01-26T22:58:30.231Z"
   },
   {
    "duration": 619,
    "start_time": "2022-01-26T22:58:40.601Z"
   },
   {
    "duration": 566,
    "start_time": "2022-01-26T22:58:45.939Z"
   },
   {
    "duration": 588,
    "start_time": "2022-01-26T22:58:53.131Z"
   },
   {
    "duration": 526,
    "start_time": "2022-01-26T22:59:02.791Z"
   },
   {
    "duration": 574,
    "start_time": "2022-01-26T22:59:10.243Z"
   },
   {
    "duration": 657,
    "start_time": "2022-01-26T22:59:39.581Z"
   },
   {
    "duration": 673,
    "start_time": "2022-01-26T22:59:52.078Z"
   },
   {
    "duration": 290,
    "start_time": "2022-01-26T23:05:48.974Z"
   },
   {
    "duration": 73,
    "start_time": "2022-01-26T23:06:20.440Z"
   },
   {
    "duration": 72,
    "start_time": "2022-01-26T23:06:52.817Z"
   },
   {
    "duration": 73,
    "start_time": "2022-01-26T23:06:56.527Z"
   },
   {
    "duration": 12,
    "start_time": "2022-01-26T23:07:02.138Z"
   },
   {
    "duration": 14,
    "start_time": "2022-01-26T23:08:45.279Z"
   },
   {
    "duration": 1729,
    "start_time": "2022-01-26T23:09:12.787Z"
   },
   {
    "duration": 38,
    "start_time": "2022-01-26T23:09:14.519Z"
   },
   {
    "duration": 27,
    "start_time": "2022-01-26T23:09:14.561Z"
   },
   {
    "duration": 21,
    "start_time": "2022-01-26T23:09:14.591Z"
   },
   {
    "duration": 68,
    "start_time": "2022-01-26T23:09:14.614Z"
   },
   {
    "duration": 18,
    "start_time": "2022-01-26T23:09:14.685Z"
   },
   {
    "duration": 497,
    "start_time": "2022-01-26T23:09:14.706Z"
   },
   {
    "duration": 20,
    "start_time": "2022-01-26T23:09:15.207Z"
   },
   {
    "duration": 39,
    "start_time": "2022-01-26T23:09:15.231Z"
   },
   {
    "duration": 42,
    "start_time": "2022-01-26T23:09:15.274Z"
   },
   {
    "duration": 28,
    "start_time": "2022-01-26T23:09:15.349Z"
   },
   {
    "duration": 12,
    "start_time": "2022-01-26T23:09:15.381Z"
   },
   {
    "duration": 65,
    "start_time": "2022-01-26T23:09:15.395Z"
   },
   {
    "duration": 16,
    "start_time": "2022-01-26T23:09:15.463Z"
   },
   {
    "duration": 68,
    "start_time": "2022-01-26T23:09:15.482Z"
   },
   {
    "duration": 38,
    "start_time": "2022-01-26T23:09:15.553Z"
   },
   {
    "duration": 25,
    "start_time": "2022-01-26T23:09:15.593Z"
   },
   {
    "duration": 22,
    "start_time": "2022-01-26T23:09:15.648Z"
   },
   {
    "duration": 23,
    "start_time": "2022-01-26T23:09:15.673Z"
   },
   {
    "duration": 54,
    "start_time": "2022-01-26T23:09:15.698Z"
   },
   {
    "duration": 704,
    "start_time": "2022-01-26T23:09:15.755Z"
   },
   {
    "duration": 16,
    "start_time": "2022-01-26T23:09:16.463Z"
   },
   {
    "duration": 22,
    "start_time": "2022-01-26T23:09:16.482Z"
   },
   {
    "duration": 393,
    "start_time": "2022-01-26T23:09:16.507Z"
   },
   {
    "duration": 235,
    "start_time": "2022-01-26T23:09:16.903Z"
   },
   {
    "duration": 8,
    "start_time": "2022-01-26T23:09:17.140Z"
   },
   {
    "duration": 828,
    "start_time": "2022-01-26T23:09:17.154Z"
   },
   {
    "duration": 848,
    "start_time": "2022-01-26T23:09:17.985Z"
   },
   {
    "duration": 46,
    "start_time": "2022-01-26T23:09:18.836Z"
   },
   {
    "duration": 88,
    "start_time": "2022-01-26T23:09:18.884Z"
   },
   {
    "duration": 147,
    "start_time": "2022-01-26T23:09:18.975Z"
   },
   {
    "duration": 713,
    "start_time": "2022-01-26T23:09:19.124Z"
   },
   {
    "duration": 17,
    "start_time": "2022-01-26T23:09:19.840Z"
   },
   {
    "duration": 28,
    "start_time": "2022-01-26T23:09:19.860Z"
   },
   {
    "duration": 1189,
    "start_time": "2022-01-27T21:31:59.536Z"
   },
   {
    "duration": 16,
    "start_time": "2022-01-27T21:32:00.727Z"
   },
   {
    "duration": 20,
    "start_time": "2022-01-27T21:32:00.745Z"
   },
   {
    "duration": 39,
    "start_time": "2022-01-27T21:32:00.767Z"
   },
   {
    "duration": 29,
    "start_time": "2022-01-27T21:32:00.807Z"
   },
   {
    "duration": 14,
    "start_time": "2022-01-27T21:32:00.837Z"
   },
   {
    "duration": 246,
    "start_time": "2022-01-27T21:32:00.853Z"
   },
   {
    "duration": 13,
    "start_time": "2022-01-27T21:32:01.101Z"
   },
   {
    "duration": 17,
    "start_time": "2022-01-27T21:32:01.116Z"
   },
   {
    "duration": 26,
    "start_time": "2022-01-27T21:32:01.135Z"
   },
   {
    "duration": 44,
    "start_time": "2022-01-27T21:32:01.164Z"
   },
   {
    "duration": 5,
    "start_time": "2022-01-27T21:32:01.210Z"
   },
   {
    "duration": 29,
    "start_time": "2022-01-27T21:32:01.217Z"
   },
   {
    "duration": 16,
    "start_time": "2022-01-27T21:32:01.248Z"
   },
   {
    "duration": 57,
    "start_time": "2022-01-27T21:32:01.266Z"
   },
   {
    "duration": 26,
    "start_time": "2022-01-27T21:32:01.325Z"
   },
   {
    "duration": 19,
    "start_time": "2022-01-27T21:32:01.353Z"
   },
   {
    "duration": 40,
    "start_time": "2022-01-27T21:32:01.374Z"
   },
   {
    "duration": 53,
    "start_time": "2022-01-27T21:32:01.416Z"
   },
   {
    "duration": 72,
    "start_time": "2022-01-27T21:32:01.471Z"
   },
   {
    "duration": 497,
    "start_time": "2022-01-27T21:32:01.545Z"
   },
   {
    "duration": 9,
    "start_time": "2022-01-27T21:32:02.044Z"
   },
   {
    "duration": 17,
    "start_time": "2022-01-27T21:32:02.056Z"
   },
   {
    "duration": 250,
    "start_time": "2022-01-27T21:32:02.075Z"
   },
   {
    "duration": 143,
    "start_time": "2022-01-27T21:32:02.327Z"
   },
   {
    "duration": 2,
    "start_time": "2022-01-27T21:32:02.473Z"
   },
   {
    "duration": 495,
    "start_time": "2022-01-27T21:32:02.476Z"
   },
   {
    "duration": 658,
    "start_time": "2022-01-27T21:32:02.973Z"
   },
   {
    "duration": 27,
    "start_time": "2022-01-27T21:32:03.633Z"
   },
   {
    "duration": 62,
    "start_time": "2022-01-27T21:32:03.662Z"
   },
   {
    "duration": 143,
    "start_time": "2022-01-27T21:32:03.726Z"
   },
   {
    "duration": 512,
    "start_time": "2022-01-27T21:32:03.871Z"
   },
   {
    "duration": 13,
    "start_time": "2022-01-27T21:32:04.385Z"
   },
   {
    "duration": 9,
    "start_time": "2022-01-27T21:32:04.399Z"
   },
   {
    "duration": 263,
    "start_time": "2022-01-27T21:36:23.195Z"
   },
   {
    "duration": 25,
    "start_time": "2022-01-27T21:59:09.837Z"
   },
   {
    "duration": 1188,
    "start_time": "2022-01-27T22:00:25.437Z"
   },
   {
    "duration": 18,
    "start_time": "2022-01-27T22:00:26.627Z"
   },
   {
    "duration": 19,
    "start_time": "2022-01-27T22:00:26.647Z"
   },
   {
    "duration": 40,
    "start_time": "2022-01-27T22:00:26.668Z"
   },
   {
    "duration": 32,
    "start_time": "2022-01-27T22:00:26.709Z"
   },
   {
    "duration": 13,
    "start_time": "2022-01-27T22:00:26.743Z"
   },
   {
    "duration": 251,
    "start_time": "2022-01-27T22:00:26.757Z"
   },
   {
    "duration": 13,
    "start_time": "2022-01-27T22:00:27.011Z"
   },
   {
    "duration": 15,
    "start_time": "2022-01-27T22:00:27.026Z"
   },
   {
    "duration": 24,
    "start_time": "2022-01-27T22:00:27.043Z"
   },
   {
    "duration": 18,
    "start_time": "2022-01-27T22:00:27.098Z"
   },
   {
    "duration": 6,
    "start_time": "2022-01-27T22:00:27.118Z"
   },
   {
    "duration": 20,
    "start_time": "2022-01-27T22:00:27.126Z"
   },
   {
    "duration": 13,
    "start_time": "2022-01-27T22:00:27.147Z"
   },
   {
    "duration": 58,
    "start_time": "2022-01-27T22:00:27.161Z"
   },
   {
    "duration": 25,
    "start_time": "2022-01-27T22:00:27.221Z"
   },
   {
    "duration": 18,
    "start_time": "2022-01-27T22:00:27.248Z"
   },
   {
    "duration": 20,
    "start_time": "2022-01-27T22:00:27.296Z"
   },
   {
    "duration": 16,
    "start_time": "2022-01-27T22:00:27.318Z"
   },
   {
    "duration": 16,
    "start_time": "2022-01-27T22:00:27.336Z"
   },
   {
    "duration": 499,
    "start_time": "2022-01-27T22:00:27.354Z"
   },
   {
    "duration": 12,
    "start_time": "2022-01-27T22:00:27.855Z"
   },
   {
    "duration": 33,
    "start_time": "2022-01-27T22:00:27.871Z"
   },
   {
    "duration": 246,
    "start_time": "2022-01-27T22:00:27.907Z"
   },
   {
    "duration": 148,
    "start_time": "2022-01-27T22:00:28.155Z"
   },
   {
    "duration": 3,
    "start_time": "2022-01-27T22:00:28.305Z"
   },
   {
    "duration": 594,
    "start_time": "2022-01-27T22:00:28.309Z"
   },
   {
    "duration": 724,
    "start_time": "2022-01-27T22:00:28.905Z"
   },
   {
    "duration": 24,
    "start_time": "2022-01-27T22:00:29.631Z"
   },
   {
    "duration": 61,
    "start_time": "2022-01-27T22:00:29.657Z"
   },
   {
    "duration": 134,
    "start_time": "2022-01-27T22:00:29.719Z"
   },
   {
    "duration": 515,
    "start_time": "2022-01-27T22:00:29.855Z"
   },
   {
    "duration": 9,
    "start_time": "2022-01-27T22:00:30.372Z"
   },
   {
    "duration": 9,
    "start_time": "2022-01-27T22:00:30.397Z"
   },
   {
    "duration": 4446,
    "start_time": "2022-01-27T22:06:25.906Z"
   },
   {
    "duration": 1164,
    "start_time": "2022-01-27T22:06:37.706Z"
   },
   {
    "duration": 17,
    "start_time": "2022-01-27T22:06:38.872Z"
   },
   {
    "duration": 19,
    "start_time": "2022-01-27T22:06:38.893Z"
   },
   {
    "duration": 15,
    "start_time": "2022-01-27T22:06:38.914Z"
   },
   {
    "duration": 26,
    "start_time": "2022-01-27T22:06:38.931Z"
   },
   {
    "duration": 41,
    "start_time": "2022-01-27T22:06:38.959Z"
   },
   {
    "duration": 222,
    "start_time": "2022-01-27T22:06:39.003Z"
   },
   {
    "duration": 12,
    "start_time": "2022-01-27T22:06:39.227Z"
   },
   {
    "duration": 13,
    "start_time": "2022-01-27T22:06:39.241Z"
   },
   {
    "duration": 49,
    "start_time": "2022-01-27T22:06:39.255Z"
   },
   {
    "duration": 18,
    "start_time": "2022-01-27T22:06:39.306Z"
   },
   {
    "duration": 5,
    "start_time": "2022-01-27T22:06:39.326Z"
   },
   {
    "duration": 16,
    "start_time": "2022-01-27T22:06:39.333Z"
   },
   {
    "duration": 11,
    "start_time": "2022-01-27T22:06:39.350Z"
   },
   {
    "duration": 56,
    "start_time": "2022-01-27T22:06:39.363Z"
   },
   {
    "duration": 25,
    "start_time": "2022-01-27T22:06:39.421Z"
   },
   {
    "duration": 16,
    "start_time": "2022-01-27T22:06:39.448Z"
   },
   {
    "duration": 44,
    "start_time": "2022-01-27T22:06:39.466Z"
   },
   {
    "duration": 14,
    "start_time": "2022-01-27T22:06:39.512Z"
   },
   {
    "duration": 14,
    "start_time": "2022-01-27T22:06:39.528Z"
   },
   {
    "duration": 456,
    "start_time": "2022-01-27T22:06:39.543Z"
   },
   {
    "duration": 10,
    "start_time": "2022-01-27T22:06:40.003Z"
   },
   {
    "duration": 14,
    "start_time": "2022-01-27T22:06:40.015Z"
   },
   {
    "duration": 240,
    "start_time": "2022-01-27T22:06:40.031Z"
   },
   {
    "duration": 141,
    "start_time": "2022-01-27T22:06:40.273Z"
   },
   {
    "duration": 2,
    "start_time": "2022-01-27T22:06:40.416Z"
   },
   {
    "duration": 522,
    "start_time": "2022-01-27T22:06:40.419Z"
   },
   {
    "duration": 561,
    "start_time": "2022-01-27T22:06:40.943Z"
   },
   {
    "duration": 23,
    "start_time": "2022-01-27T22:06:41.506Z"
   },
   {
    "duration": 36,
    "start_time": "2022-01-27T22:06:41.530Z"
   },
   {
    "duration": 145,
    "start_time": "2022-01-27T22:06:41.567Z"
   },
   {
    "duration": 478,
    "start_time": "2022-01-27T22:06:41.714Z"
   },
   {
    "duration": 9,
    "start_time": "2022-01-27T22:06:42.197Z"
   },
   {
    "duration": 9,
    "start_time": "2022-01-27T22:06:42.208Z"
   },
   {
    "duration": 292,
    "start_time": "2022-01-27T22:21:36.279Z"
   },
   {
    "duration": 182,
    "start_time": "2022-01-27T22:21:59.855Z"
   },
   {
    "duration": 15,
    "start_time": "2022-01-27T22:22:09.759Z"
   },
   {
    "duration": 42,
    "start_time": "2022-01-27T22:22:21.327Z"
   },
   {
    "duration": 29,
    "start_time": "2022-01-27T22:22:37.467Z"
   },
   {
    "duration": 1158,
    "start_time": "2022-01-27T23:05:17.245Z"
   },
   {
    "duration": 16,
    "start_time": "2022-01-27T23:05:18.405Z"
   },
   {
    "duration": 19,
    "start_time": "2022-01-27T23:05:18.423Z"
   },
   {
    "duration": 14,
    "start_time": "2022-01-27T23:05:18.443Z"
   },
   {
    "duration": 50,
    "start_time": "2022-01-27T23:05:18.458Z"
   },
   {
    "duration": 14,
    "start_time": "2022-01-27T23:05:18.509Z"
   },
   {
    "duration": 216,
    "start_time": "2022-01-27T23:05:18.524Z"
   },
   {
    "duration": 11,
    "start_time": "2022-01-27T23:05:18.743Z"
   },
   {
    "duration": 13,
    "start_time": "2022-01-27T23:05:18.756Z"
   },
   {
    "duration": 40,
    "start_time": "2022-01-27T23:05:18.771Z"
   },
   {
    "duration": 15,
    "start_time": "2022-01-27T23:05:18.812Z"
   },
   {
    "duration": 5,
    "start_time": "2022-01-27T23:05:18.828Z"
   },
   {
    "duration": 15,
    "start_time": "2022-01-27T23:05:18.835Z"
   },
   {
    "duration": 332,
    "start_time": "2022-01-27T23:05:18.852Z"
   },
   {
    "duration": -40,
    "start_time": "2022-01-27T23:05:19.226Z"
   },
   {
    "duration": -42,
    "start_time": "2022-01-27T23:05:19.229Z"
   },
   {
    "duration": -44,
    "start_time": "2022-01-27T23:05:19.232Z"
   },
   {
    "duration": -44,
    "start_time": "2022-01-27T23:05:19.233Z"
   },
   {
    "duration": -44,
    "start_time": "2022-01-27T23:05:19.234Z"
   },
   {
    "duration": -45,
    "start_time": "2022-01-27T23:05:19.236Z"
   },
   {
    "duration": -44,
    "start_time": "2022-01-27T23:05:19.237Z"
   },
   {
    "duration": -45,
    "start_time": "2022-01-27T23:05:19.239Z"
   },
   {
    "duration": -46,
    "start_time": "2022-01-27T23:05:19.241Z"
   },
   {
    "duration": -46,
    "start_time": "2022-01-27T23:05:19.242Z"
   },
   {
    "duration": -57,
    "start_time": "2022-01-27T23:05:19.254Z"
   },
   {
    "duration": -58,
    "start_time": "2022-01-27T23:05:19.256Z"
   },
   {
    "duration": -59,
    "start_time": "2022-01-27T23:05:19.257Z"
   },
   {
    "duration": -62,
    "start_time": "2022-01-27T23:05:19.261Z"
   },
   {
    "duration": -64,
    "start_time": "2022-01-27T23:05:19.264Z"
   },
   {
    "duration": -64,
    "start_time": "2022-01-27T23:05:19.266Z"
   },
   {
    "duration": -65,
    "start_time": "2022-01-27T23:05:19.268Z"
   },
   {
    "duration": -65,
    "start_time": "2022-01-27T23:05:19.269Z"
   },
   {
    "duration": -65,
    "start_time": "2022-01-27T23:05:19.270Z"
   },
   {
    "duration": 25,
    "start_time": "2022-01-27T23:06:40.007Z"
   },
   {
    "duration": 1188,
    "start_time": "2022-01-27T23:07:29.921Z"
   },
   {
    "duration": 18,
    "start_time": "2022-01-27T23:07:31.112Z"
   },
   {
    "duration": 20,
    "start_time": "2022-01-27T23:07:31.133Z"
   },
   {
    "duration": 43,
    "start_time": "2022-01-27T23:07:31.156Z"
   },
   {
    "duration": 29,
    "start_time": "2022-01-27T23:07:31.201Z"
   },
   {
    "duration": 14,
    "start_time": "2022-01-27T23:07:31.232Z"
   },
   {
    "duration": 237,
    "start_time": "2022-01-27T23:07:31.248Z"
   },
   {
    "duration": 20,
    "start_time": "2022-01-27T23:07:31.487Z"
   },
   {
    "duration": 14,
    "start_time": "2022-01-27T23:07:31.510Z"
   },
   {
    "duration": 25,
    "start_time": "2022-01-27T23:07:31.527Z"
   },
   {
    "duration": 54,
    "start_time": "2022-01-27T23:07:31.554Z"
   },
   {
    "duration": 7,
    "start_time": "2022-01-27T23:07:31.610Z"
   },
   {
    "duration": 18,
    "start_time": "2022-01-27T23:07:31.619Z"
   },
   {
    "duration": 28,
    "start_time": "2022-01-27T23:07:31.640Z"
   },
   {
    "duration": 26,
    "start_time": "2022-01-27T23:07:31.697Z"
   },
   {
    "duration": 21,
    "start_time": "2022-01-27T23:07:31.726Z"
   },
   {
    "duration": 18,
    "start_time": "2022-01-27T23:07:31.749Z"
   },
   {
    "duration": 30,
    "start_time": "2022-01-27T23:07:31.798Z"
   },
   {
    "duration": 16,
    "start_time": "2022-01-27T23:07:31.830Z"
   },
   {
    "duration": 17,
    "start_time": "2022-01-27T23:07:31.848Z"
   },
   {
    "duration": 432,
    "start_time": "2022-01-27T23:07:31.898Z"
   },
   {
    "duration": 11,
    "start_time": "2022-01-27T23:07:32.332Z"
   },
   {
    "duration": 14,
    "start_time": "2022-01-27T23:07:32.344Z"
   },
   {
    "duration": 233,
    "start_time": "2022-01-27T23:07:32.360Z"
   },
   {
    "duration": 147,
    "start_time": "2022-01-27T23:07:32.595Z"
   },
   {
    "duration": 519,
    "start_time": "2022-01-27T23:07:32.744Z"
   },
   {
    "duration": 59,
    "start_time": "2022-01-27T23:07:33.266Z"
   },
   {
    "duration": 100,
    "start_time": "2022-01-27T23:07:33.397Z"
   },
   {
    "duration": 40,
    "start_time": "2022-01-27T23:07:33.499Z"
   },
   {
    "duration": 62,
    "start_time": "2022-01-27T23:07:33.541Z"
   },
   {
    "duration": 480,
    "start_time": "2022-01-27T23:07:33.605Z"
   },
   {
    "duration": 13,
    "start_time": "2022-01-27T23:07:34.087Z"
   },
   {
    "duration": 12,
    "start_time": "2022-01-27T23:07:34.101Z"
   },
   {
    "duration": 51,
    "start_time": "2022-01-27T23:08:04.981Z"
   },
   {
    "duration": 744,
    "start_time": "2022-01-27T23:09:04.874Z"
   },
   {
    "duration": 645,
    "start_time": "2022-01-27T23:09:28.174Z"
   },
   {
    "duration": 652,
    "start_time": "2022-01-27T23:09:38.565Z"
   },
   {
    "duration": 658,
    "start_time": "2022-01-27T23:09:49.136Z"
   },
   {
    "duration": 59,
    "start_time": "2022-01-27T23:10:22.041Z"
   },
   {
    "duration": 103,
    "start_time": "2022-01-27T23:10:24.396Z"
   },
   {
    "duration": 676,
    "start_time": "2022-01-27T23:10:38.775Z"
   },
   {
    "duration": 473,
    "start_time": "2022-01-27T23:11:40.865Z"
   },
   {
    "duration": 682,
    "start_time": "2022-01-27T23:11:51.043Z"
   },
   {
    "duration": 646,
    "start_time": "2022-01-27T23:11:59.158Z"
   },
   {
    "duration": 716,
    "start_time": "2022-01-27T23:12:11.403Z"
   },
   {
    "duration": 689,
    "start_time": "2022-01-27T23:12:23.032Z"
   },
   {
    "duration": 818,
    "start_time": "2022-01-27T23:12:29.691Z"
   },
   {
    "duration": 698,
    "start_time": "2022-01-27T23:12:34.516Z"
   },
   {
    "duration": 700,
    "start_time": "2022-01-27T23:12:39.790Z"
   },
   {
    "duration": 713,
    "start_time": "2022-01-27T23:12:46.895Z"
   },
   {
    "duration": 706,
    "start_time": "2022-01-27T23:12:51.494Z"
   },
   {
    "duration": 697,
    "start_time": "2022-01-27T23:12:59.181Z"
   },
   {
    "duration": 1553,
    "start_time": "2022-01-28T18:52:22.132Z"
   },
   {
    "duration": 23,
    "start_time": "2022-01-28T18:52:23.687Z"
   },
   {
    "duration": 46,
    "start_time": "2022-01-28T18:52:23.713Z"
   },
   {
    "duration": 20,
    "start_time": "2022-01-28T18:52:23.762Z"
   },
   {
    "duration": 63,
    "start_time": "2022-01-28T18:52:23.785Z"
   },
   {
    "duration": 19,
    "start_time": "2022-01-28T18:52:23.850Z"
   },
   {
    "duration": 339,
    "start_time": "2022-01-28T18:52:23.872Z"
   },
   {
    "duration": 35,
    "start_time": "2022-01-28T18:52:24.215Z"
   },
   {
    "duration": 19,
    "start_time": "2022-01-28T18:52:24.253Z"
   },
   {
    "duration": 35,
    "start_time": "2022-01-28T18:52:24.275Z"
   },
   {
    "duration": 55,
    "start_time": "2022-01-28T18:52:24.314Z"
   },
   {
    "duration": 8,
    "start_time": "2022-01-28T18:52:24.372Z"
   },
   {
    "duration": 24,
    "start_time": "2022-01-28T18:52:24.383Z"
   },
   {
    "duration": 69,
    "start_time": "2022-01-28T18:52:24.410Z"
   },
   {
    "duration": 66,
    "start_time": "2022-01-28T18:52:24.482Z"
   },
   {
    "duration": 29,
    "start_time": "2022-01-28T18:52:24.551Z"
   },
   {
    "duration": 23,
    "start_time": "2022-01-28T18:52:24.583Z"
   },
   {
    "duration": 69,
    "start_time": "2022-01-28T18:52:24.608Z"
   },
   {
    "duration": 22,
    "start_time": "2022-01-28T18:52:24.680Z"
   },
   {
    "duration": 50,
    "start_time": "2022-01-28T18:52:24.704Z"
   },
   {
    "duration": 794,
    "start_time": "2022-01-28T18:52:24.756Z"
   },
   {
    "duration": 14,
    "start_time": "2022-01-28T18:52:25.552Z"
   },
   {
    "duration": 20,
    "start_time": "2022-01-28T18:52:25.570Z"
   },
   {
    "duration": 369,
    "start_time": "2022-01-28T18:52:25.592Z"
   },
   {
    "duration": 236,
    "start_time": "2022-01-28T18:52:25.965Z"
   },
   {
    "duration": 856,
    "start_time": "2022-01-28T18:52:26.205Z"
   },
   {
    "duration": 1213,
    "start_time": "2022-01-28T18:52:27.065Z"
   },
   {
    "duration": 67,
    "start_time": "2022-01-28T18:52:28.281Z"
   },
   {
    "duration": 77,
    "start_time": "2022-01-28T18:52:28.351Z"
   },
   {
    "duration": 177,
    "start_time": "2022-01-28T18:52:28.450Z"
   },
   {
    "duration": 842,
    "start_time": "2022-01-28T18:52:28.630Z"
   },
   {
    "duration": 1232,
    "start_time": "2022-01-28T18:52:29.475Z"
   },
   {
    "duration": 12,
    "start_time": "2022-01-28T18:52:30.710Z"
   },
   {
    "duration": 29,
    "start_time": "2022-01-28T18:52:30.725Z"
   },
   {
    "duration": 1652,
    "start_time": "2022-01-28T19:13:56.655Z"
   },
   {
    "duration": 40,
    "start_time": "2022-01-28T19:13:58.309Z"
   },
   {
    "duration": 27,
    "start_time": "2022-01-28T19:13:58.352Z"
   },
   {
    "duration": 21,
    "start_time": "2022-01-28T19:13:58.382Z"
   },
   {
    "duration": 71,
    "start_time": "2022-01-28T19:13:58.406Z"
   },
   {
    "duration": 22,
    "start_time": "2022-01-28T19:13:58.481Z"
   },
   {
    "duration": 370,
    "start_time": "2022-01-28T19:13:58.506Z"
   },
   {
    "duration": 20,
    "start_time": "2022-01-28T19:13:58.880Z"
   },
   {
    "duration": 52,
    "start_time": "2022-01-28T19:13:58.904Z"
   },
   {
    "duration": 39,
    "start_time": "2022-01-28T19:13:58.959Z"
   },
   {
    "duration": 59,
    "start_time": "2022-01-28T19:13:59.001Z"
   },
   {
    "duration": 8,
    "start_time": "2022-01-28T19:13:59.063Z"
   },
   {
    "duration": 22,
    "start_time": "2022-01-28T19:13:59.074Z"
   },
   {
    "duration": 84,
    "start_time": "2022-01-28T19:13:59.099Z"
   },
   {
    "duration": 73,
    "start_time": "2022-01-28T19:13:59.186Z"
   },
   {
    "duration": 43,
    "start_time": "2022-01-28T19:13:59.263Z"
   },
   {
    "duration": 49,
    "start_time": "2022-01-28T19:13:59.309Z"
   },
   {
    "duration": 43,
    "start_time": "2022-01-28T19:13:59.361Z"
   },
   {
    "duration": 57,
    "start_time": "2022-01-28T19:13:59.406Z"
   },
   {
    "duration": 23,
    "start_time": "2022-01-28T19:13:59.466Z"
   },
   {
    "duration": 731,
    "start_time": "2022-01-28T19:13:59.492Z"
   },
   {
    "duration": 30,
    "start_time": "2022-01-28T19:14:00.226Z"
   },
   {
    "duration": 20,
    "start_time": "2022-01-28T19:14:00.261Z"
   },
   {
    "duration": 389,
    "start_time": "2022-01-28T19:14:00.284Z"
   },
   {
    "duration": 239,
    "start_time": "2022-01-28T19:14:00.676Z"
   },
   {
    "duration": 879,
    "start_time": "2022-01-28T19:14:00.918Z"
   },
   {
    "duration": 1233,
    "start_time": "2022-01-28T19:14:01.800Z"
   },
   {
    "duration": 62,
    "start_time": "2022-01-28T19:14:03.037Z"
   },
   {
    "duration": 114,
    "start_time": "2022-01-28T19:14:03.103Z"
   },
   {
    "duration": 217,
    "start_time": "2022-01-28T19:14:03.221Z"
   },
   {
    "duration": 920,
    "start_time": "2022-01-28T19:14:03.450Z"
   },
   {
    "duration": 1359,
    "start_time": "2022-01-28T19:14:04.373Z"
   },
   {
    "duration": 21,
    "start_time": "2022-01-28T19:14:05.734Z"
   },
   {
    "duration": 19,
    "start_time": "2022-01-28T19:14:05.758Z"
   },
   {
    "duration": 9,
    "start_time": "2022-01-28T19:30:24.361Z"
   },
   {
    "duration": 7,
    "start_time": "2022-01-28T19:30:29.439Z"
   },
   {
    "duration": 66,
    "start_time": "2022-01-28T19:30:41.830Z"
   },
   {
    "duration": 29,
    "start_time": "2022-01-28T19:31:12.358Z"
   },
   {
    "duration": 15,
    "start_time": "2022-01-28T19:31:57.559Z"
   },
   {
    "duration": 15,
    "start_time": "2022-01-28T19:32:35.032Z"
   },
   {
    "duration": 45,
    "start_time": "2022-01-28T19:33:06.975Z"
   },
   {
    "duration": 18,
    "start_time": "2022-01-28T19:33:17.884Z"
   },
   {
    "duration": 17,
    "start_time": "2022-01-28T19:33:23.637Z"
   },
   {
    "duration": 18,
    "start_time": "2022-01-28T19:33:29.193Z"
   },
   {
    "duration": 406,
    "start_time": "2022-01-28T19:33:40.865Z"
   },
   {
    "duration": 16,
    "start_time": "2022-01-28T19:33:46.272Z"
   },
   {
    "duration": 18,
    "start_time": "2022-01-28T19:36:10.553Z"
   },
   {
    "duration": 37,
    "start_time": "2022-01-28T19:36:38.401Z"
   },
   {
    "duration": 11,
    "start_time": "2022-01-28T19:36:55.303Z"
   },
   {
    "duration": 1621,
    "start_time": "2022-01-28T19:38:23.869Z"
   },
   {
    "duration": 26,
    "start_time": "2022-01-28T19:38:25.493Z"
   },
   {
    "duration": 27,
    "start_time": "2022-01-28T19:38:25.547Z"
   },
   {
    "duration": 19,
    "start_time": "2022-01-28T19:38:25.578Z"
   },
   {
    "duration": 50,
    "start_time": "2022-01-28T19:38:25.600Z"
   },
   {
    "duration": 315,
    "start_time": "2022-01-28T19:38:25.652Z"
   },
   {
    "duration": 15,
    "start_time": "2022-01-28T19:38:25.969Z"
   },
   {
    "duration": 18,
    "start_time": "2022-01-28T19:38:25.988Z"
   },
   {
    "duration": 66,
    "start_time": "2022-01-28T19:38:26.009Z"
   },
   {
    "duration": 24,
    "start_time": "2022-01-28T19:38:26.078Z"
   },
   {
    "duration": 7,
    "start_time": "2022-01-28T19:38:26.104Z"
   },
   {
    "duration": 52,
    "start_time": "2022-01-28T19:38:26.114Z"
   },
   {
    "duration": 52,
    "start_time": "2022-01-28T19:38:26.169Z"
   },
   {
    "duration": 58,
    "start_time": "2022-01-28T19:38:26.224Z"
   },
   {
    "duration": 29,
    "start_time": "2022-01-28T19:38:26.285Z"
   },
   {
    "duration": 50,
    "start_time": "2022-01-28T19:38:26.317Z"
   },
   {
    "duration": 33,
    "start_time": "2022-01-28T19:38:26.370Z"
   },
   {
    "duration": 44,
    "start_time": "2022-01-28T19:38:26.406Z"
   },
   {
    "duration": 25,
    "start_time": "2022-01-28T19:38:26.453Z"
   },
   {
    "duration": 21,
    "start_time": "2022-01-28T19:38:26.481Z"
   },
   {
    "duration": 734,
    "start_time": "2022-01-28T19:38:26.505Z"
   },
   {
    "duration": 15,
    "start_time": "2022-01-28T19:38:27.249Z"
   },
   {
    "duration": 21,
    "start_time": "2022-01-28T19:38:27.269Z"
   },
   {
    "duration": 374,
    "start_time": "2022-01-28T19:38:27.293Z"
   },
   {
    "duration": 239,
    "start_time": "2022-01-28T19:38:27.669Z"
   },
   {
    "duration": 841,
    "start_time": "2022-01-28T19:38:27.911Z"
   },
   {
    "duration": 1231,
    "start_time": "2022-01-28T19:38:28.754Z"
   },
   {
    "duration": 65,
    "start_time": "2022-01-28T19:38:29.988Z"
   },
   {
    "duration": 61,
    "start_time": "2022-01-28T19:38:30.055Z"
   },
   {
    "duration": 171,
    "start_time": "2022-01-28T19:38:30.119Z"
   },
   {
    "duration": 789,
    "start_time": "2022-01-28T19:38:30.293Z"
   },
   {
    "duration": 1450,
    "start_time": "2022-01-28T19:38:31.085Z"
   },
   {
    "duration": 21,
    "start_time": "2022-01-28T19:38:32.537Z"
   },
   {
    "duration": 22,
    "start_time": "2022-01-28T19:38:32.561Z"
   },
   {
    "duration": 1176,
    "start_time": "2022-02-06T11:59:58.168Z"
   },
   {
    "duration": 15,
    "start_time": "2022-02-06T11:59:59.346Z"
   },
   {
    "duration": 16,
    "start_time": "2022-02-06T11:59:59.363Z"
   },
   {
    "duration": 12,
    "start_time": "2022-02-06T11:59:59.381Z"
   },
   {
    "duration": 14,
    "start_time": "2022-02-06T11:59:59.394Z"
   },
   {
    "duration": 207,
    "start_time": "2022-02-06T11:59:59.410Z"
   },
   {
    "duration": 11,
    "start_time": "2022-02-06T11:59:59.618Z"
   },
   {
    "duration": 28,
    "start_time": "2022-02-06T11:59:59.631Z"
   },
   {
    "duration": 21,
    "start_time": "2022-02-06T11:59:59.662Z"
   },
   {
    "duration": 15,
    "start_time": "2022-02-06T11:59:59.685Z"
   },
   {
    "duration": 5,
    "start_time": "2022-02-06T11:59:59.702Z"
   },
   {
    "duration": 14,
    "start_time": "2022-02-06T11:59:59.708Z"
   },
   {
    "duration": 54,
    "start_time": "2022-02-06T11:59:59.723Z"
   },
   {
    "duration": 21,
    "start_time": "2022-02-06T11:59:59.778Z"
   },
   {
    "duration": 16,
    "start_time": "2022-02-06T11:59:59.800Z"
   },
   {
    "duration": 15,
    "start_time": "2022-02-06T11:59:59.818Z"
   },
   {
    "duration": 39,
    "start_time": "2022-02-06T11:59:59.835Z"
   },
   {
    "duration": 6,
    "start_time": "2022-02-06T11:59:59.876Z"
   },
   {
    "duration": 14,
    "start_time": "2022-02-06T11:59:59.883Z"
   },
   {
    "duration": 14,
    "start_time": "2022-02-06T11:59:59.898Z"
   },
   {
    "duration": 456,
    "start_time": "2022-02-06T11:59:59.913Z"
   },
   {
    "duration": 11,
    "start_time": "2022-02-06T12:00:00.371Z"
   },
   {
    "duration": 28,
    "start_time": "2022-02-06T12:00:00.386Z"
   },
   {
    "duration": 229,
    "start_time": "2022-02-06T12:00:00.416Z"
   },
   {
    "duration": 146,
    "start_time": "2022-02-06T12:00:00.647Z"
   },
   {
    "duration": 610,
    "start_time": "2022-02-06T12:00:00.794Z"
   },
   {
    "duration": 683,
    "start_time": "2022-02-06T12:00:01.406Z"
   },
   {
    "duration": 26,
    "start_time": "2022-02-06T12:00:02.091Z"
   },
   {
    "duration": 60,
    "start_time": "2022-02-06T12:00:02.119Z"
   },
   {
    "duration": 126,
    "start_time": "2022-02-06T12:00:02.181Z"
   },
   {
    "duration": 521,
    "start_time": "2022-02-06T12:00:02.309Z"
   },
   {
    "duration": 891,
    "start_time": "2022-02-06T12:00:02.833Z"
   },
   {
    "duration": 10,
    "start_time": "2022-02-06T12:00:03.726Z"
   },
   {
    "duration": 82,
    "start_time": "2022-02-06T12:00:03.738Z"
   },
   {
    "duration": 315,
    "start_time": "2022-02-09T17:24:36.182Z"
   },
   {
    "duration": 1508,
    "start_time": "2022-02-09T17:24:49.362Z"
   },
   {
    "duration": 21,
    "start_time": "2022-02-09T17:24:50.873Z"
   },
   {
    "duration": 49,
    "start_time": "2022-02-09T17:24:50.897Z"
   },
   {
    "duration": 19,
    "start_time": "2022-02-09T17:24:50.949Z"
   },
   {
    "duration": 25,
    "start_time": "2022-02-09T17:24:50.970Z"
   },
   {
    "duration": 451,
    "start_time": "2022-02-09T17:24:50.997Z"
   },
   {
    "duration": 15,
    "start_time": "2022-02-09T17:24:51.450Z"
   },
   {
    "duration": 28,
    "start_time": "2022-02-09T17:24:51.469Z"
   },
   {
    "duration": 38,
    "start_time": "2022-02-09T17:24:51.532Z"
   },
   {
    "duration": 59,
    "start_time": "2022-02-09T17:24:51.573Z"
   },
   {
    "duration": 8,
    "start_time": "2022-02-09T17:24:51.635Z"
   },
   {
    "duration": 25,
    "start_time": "2022-02-09T17:24:51.646Z"
   },
   {
    "duration": 86,
    "start_time": "2022-02-09T17:24:51.674Z"
   },
   {
    "duration": 38,
    "start_time": "2022-02-09T17:24:51.764Z"
   },
   {
    "duration": 31,
    "start_time": "2022-02-09T17:24:51.833Z"
   },
   {
    "duration": 25,
    "start_time": "2022-02-09T17:24:51.867Z"
   },
   {
    "duration": 65,
    "start_time": "2022-02-09T17:24:51.895Z"
   },
   {
    "duration": 10,
    "start_time": "2022-02-09T17:24:51.962Z"
   },
   {
    "duration": 63,
    "start_time": "2022-02-09T17:24:51.974Z"
   },
   {
    "duration": 23,
    "start_time": "2022-02-09T17:24:52.039Z"
   },
   {
    "duration": 818,
    "start_time": "2022-02-09T17:24:52.065Z"
   },
   {
    "duration": 14,
    "start_time": "2022-02-09T17:24:52.885Z"
   },
   {
    "duration": 45,
    "start_time": "2022-02-09T17:24:52.904Z"
   },
   {
    "duration": 368,
    "start_time": "2022-02-09T17:24:52.952Z"
   },
   {
    "duration": 239,
    "start_time": "2022-02-09T17:24:53.323Z"
   },
   {
    "duration": 774,
    "start_time": "2022-02-09T17:24:53.565Z"
   },
   {
    "duration": 995,
    "start_time": "2022-02-09T17:24:54.341Z"
   },
   {
    "duration": 33,
    "start_time": "2022-02-09T17:24:55.339Z"
   },
   {
    "duration": 167,
    "start_time": "2022-02-09T17:24:55.374Z"
   },
   {
    "duration": 54,
    "start_time": "2022-02-09T17:24:55.544Z"
   },
   {
    "duration": 852,
    "start_time": "2022-02-09T17:24:55.601Z"
   },
   {
    "duration": 1368,
    "start_time": "2022-02-09T17:24:56.456Z"
   },
   {
    "duration": 15,
    "start_time": "2022-02-09T17:24:57.831Z"
   },
   {
    "duration": 17,
    "start_time": "2022-02-09T17:24:57.849Z"
   },
   {
    "duration": 27,
    "start_time": "2022-02-09T17:26:47.837Z"
   },
   {
    "duration": 19,
    "start_time": "2022-02-09T17:27:34.533Z"
   },
   {
    "duration": 313,
    "start_time": "2022-02-09T17:28:53.601Z"
   },
   {
    "duration": 456,
    "start_time": "2022-02-09T17:29:27.714Z"
   },
   {
    "duration": 551,
    "start_time": "2022-02-09T17:29:48.331Z"
   },
   {
    "duration": 548,
    "start_time": "2022-02-09T17:36:07.221Z"
   },
   {
    "duration": 544,
    "start_time": "2022-02-09T17:36:14.483Z"
   },
   {
    "duration": 634,
    "start_time": "2022-02-09T17:36:22.636Z"
   },
   {
    "duration": 649,
    "start_time": "2022-02-09T17:36:29.648Z"
   },
   {
    "duration": 510,
    "start_time": "2022-02-09T17:36:54.185Z"
   },
   {
    "duration": 488,
    "start_time": "2022-02-09T17:37:25.663Z"
   },
   {
    "duration": 507,
    "start_time": "2022-02-09T17:37:39.685Z"
   },
   {
    "duration": 1974,
    "start_time": "2022-02-09T17:43:30.475Z"
   },
   {
    "duration": 35,
    "start_time": "2022-02-09T17:43:32.453Z"
   },
   {
    "duration": 67,
    "start_time": "2022-02-09T17:43:32.493Z"
   },
   {
    "duration": 29,
    "start_time": "2022-02-09T17:43:32.564Z"
   },
   {
    "duration": 60,
    "start_time": "2022-02-09T17:43:32.596Z"
   },
   {
    "duration": 472,
    "start_time": "2022-02-09T17:43:32.660Z"
   },
   {
    "duration": 24,
    "start_time": "2022-02-09T17:43:33.135Z"
   },
   {
    "duration": 28,
    "start_time": "2022-02-09T17:43:33.162Z"
   },
   {
    "duration": 50,
    "start_time": "2022-02-09T17:43:33.236Z"
   },
   {
    "duration": 67,
    "start_time": "2022-02-09T17:43:33.290Z"
   },
   {
    "duration": 10,
    "start_time": "2022-02-09T17:43:33.360Z"
   },
   {
    "duration": 26,
    "start_time": "2022-02-09T17:43:33.373Z"
   },
   {
    "duration": 47,
    "start_time": "2022-02-09T17:43:33.433Z"
   },
   {
    "duration": 84,
    "start_time": "2022-02-09T17:43:33.482Z"
   },
   {
    "duration": 27,
    "start_time": "2022-02-09T17:43:33.569Z"
   },
   {
    "duration": 60,
    "start_time": "2022-02-09T17:43:33.599Z"
   },
   {
    "duration": 35,
    "start_time": "2022-02-09T17:43:33.663Z"
   },
   {
    "duration": 44,
    "start_time": "2022-02-09T17:43:33.701Z"
   },
   {
    "duration": 34,
    "start_time": "2022-02-09T17:43:33.749Z"
   },
   {
    "duration": 69,
    "start_time": "2022-02-09T17:43:33.786Z"
   },
   {
    "duration": 653,
    "start_time": "2022-02-09T17:43:33.857Z"
   },
   {
    "duration": 40,
    "start_time": "2022-02-09T17:43:34.512Z"
   },
   {
    "duration": 596,
    "start_time": "2022-02-09T17:43:34.555Z"
   },
   {
    "duration": 1052,
    "start_time": "2022-02-09T17:43:35.154Z"
   },
   {
    "duration": 30,
    "start_time": "2022-02-09T17:43:36.210Z"
   },
   {
    "duration": 21,
    "start_time": "2022-02-09T17:43:36.243Z"
   },
   {
    "duration": 329,
    "start_time": "2022-02-09T17:43:36.270Z"
   },
   {
    "duration": 407,
    "start_time": "2022-02-09T17:43:36.603Z"
   },
   {
    "duration": 790,
    "start_time": "2022-02-09T17:43:37.012Z"
   },
   {
    "duration": 1073,
    "start_time": "2022-02-09T17:43:37.804Z"
   },
   {
    "duration": 54,
    "start_time": "2022-02-09T17:43:38.880Z"
   },
   {
    "duration": 97,
    "start_time": "2022-02-09T17:43:38.937Z"
   },
   {
    "duration": 98,
    "start_time": "2022-02-09T17:43:39.037Z"
   },
   {
    "duration": 676,
    "start_time": "2022-02-09T17:43:39.138Z"
   },
   {
    "duration": 1358,
    "start_time": "2022-02-09T17:43:39.818Z"
   },
   {
    "duration": 11,
    "start_time": "2022-02-09T17:43:41.179Z"
   },
   {
    "duration": 42,
    "start_time": "2022-02-09T17:43:41.193Z"
   },
   {
    "duration": 853,
    "start_time": "2022-02-09T17:49:20.564Z"
   },
   {
    "duration": 1162,
    "start_time": "2022-02-09T17:56:42.370Z"
   },
   {
    "duration": 359,
    "start_time": "2022-02-09T18:08:03.161Z"
   },
   {
    "duration": 49,
    "start_time": "2022-02-09T18:08:26.597Z"
   },
   {
    "duration": 777,
    "start_time": "2022-02-09T18:08:56.837Z"
   },
   {
    "duration": 654,
    "start_time": "2022-02-09T18:13:05.698Z"
   },
   {
    "duration": 41,
    "start_time": "2022-02-09T18:13:16.697Z"
   },
   {
    "duration": 42,
    "start_time": "2022-02-09T18:17:42.304Z"
   },
   {
    "duration": 484,
    "start_time": "2022-02-09T18:20:36.224Z"
   },
   {
    "duration": 741,
    "start_time": "2022-02-09T18:21:03.068Z"
   },
   {
    "duration": 569,
    "start_time": "2022-02-09T18:22:16.682Z"
   },
   {
    "duration": 1269,
    "start_time": "2022-02-09T18:24:41.814Z"
   },
   {
    "duration": 1395,
    "start_time": "2022-02-09T18:25:36.826Z"
   },
   {
    "duration": 1312,
    "start_time": "2022-02-09T18:29:02.927Z"
   },
   {
    "duration": 79,
    "start_time": "2022-02-09T18:40:11.282Z"
   },
   {
    "duration": 15,
    "start_time": "2022-02-09T18:40:25.714Z"
   },
   {
    "duration": 13,
    "start_time": "2022-02-09T18:42:08.477Z"
   },
   {
    "duration": 12,
    "start_time": "2022-02-09T18:43:34.907Z"
   },
   {
    "duration": 16,
    "start_time": "2022-02-09T18:45:06.452Z"
   },
   {
    "duration": 595,
    "start_time": "2022-02-09T18:45:56.991Z"
   },
   {
    "duration": 1324,
    "start_time": "2022-02-09T18:46:04.326Z"
   },
   {
    "duration": 1737,
    "start_time": "2022-02-09T18:47:21.221Z"
   },
   {
    "duration": 80,
    "start_time": "2022-02-09T19:00:27.245Z"
   },
   {
    "duration": 18,
    "start_time": "2022-02-09T19:08:26.932Z"
   },
   {
    "duration": 26,
    "start_time": "2022-02-09T19:08:45.104Z"
   },
   {
    "duration": 1618,
    "start_time": "2022-02-09T19:18:02.186Z"
   },
   {
    "duration": 38,
    "start_time": "2022-02-09T19:18:03.807Z"
   },
   {
    "duration": 31,
    "start_time": "2022-02-09T19:18:03.848Z"
   },
   {
    "duration": 52,
    "start_time": "2022-02-09T19:18:03.882Z"
   },
   {
    "duration": 26,
    "start_time": "2022-02-09T19:18:03.936Z"
   },
   {
    "duration": 353,
    "start_time": "2022-02-09T19:18:03.965Z"
   },
   {
    "duration": 24,
    "start_time": "2022-02-09T19:18:04.321Z"
   },
   {
    "duration": 20,
    "start_time": "2022-02-09T19:18:04.348Z"
   },
   {
    "duration": 77,
    "start_time": "2022-02-09T19:18:04.372Z"
   },
   {
    "duration": 25,
    "start_time": "2022-02-09T19:18:04.452Z"
   },
   {
    "duration": 8,
    "start_time": "2022-02-09T19:18:04.479Z"
   },
   {
    "duration": 60,
    "start_time": "2022-02-09T19:18:04.491Z"
   },
   {
    "duration": 87,
    "start_time": "2022-02-09T19:18:04.554Z"
   },
   {
    "duration": 55,
    "start_time": "2022-02-09T19:18:04.644Z"
   },
   {
    "duration": 58,
    "start_time": "2022-02-09T19:18:04.702Z"
   },
   {
    "duration": 27,
    "start_time": "2022-02-09T19:18:04.762Z"
   },
   {
    "duration": 68,
    "start_time": "2022-02-09T19:18:04.792Z"
   },
   {
    "duration": 10,
    "start_time": "2022-02-09T19:18:04.863Z"
   },
   {
    "duration": 75,
    "start_time": "2022-02-09T19:18:04.876Z"
   },
   {
    "duration": 25,
    "start_time": "2022-02-09T19:18:04.955Z"
   },
   {
    "duration": 621,
    "start_time": "2022-02-09T19:18:04.983Z"
   },
   {
    "duration": 36,
    "start_time": "2022-02-09T19:18:05.607Z"
   },
   {
    "duration": 541,
    "start_time": "2022-02-09T19:18:05.645Z"
   },
   {
    "duration": 720,
    "start_time": "2022-02-09T19:18:06.189Z"
   },
   {
    "duration": 26,
    "start_time": "2022-02-09T19:18:06.912Z"
   },
   {
    "duration": 20,
    "start_time": "2022-02-09T19:18:06.940Z"
   },
   {
    "duration": 345,
    "start_time": "2022-02-09T19:18:06.966Z"
   },
   {
    "duration": 310,
    "start_time": "2022-02-09T19:18:07.314Z"
   },
   {
    "duration": 882,
    "start_time": "2022-02-09T19:18:07.627Z"
   },
   {
    "duration": 1266,
    "start_time": "2022-02-09T19:18:08.512Z"
   },
   {
    "duration": 73,
    "start_time": "2022-02-09T19:18:09.781Z"
   },
   {
    "duration": 682,
    "start_time": "2022-02-09T19:18:09.857Z"
   },
   {
    "duration": 1355,
    "start_time": "2022-02-09T19:18:10.541Z"
   },
   {
    "duration": 1733,
    "start_time": "2022-02-09T19:18:11.899Z"
   },
   {
    "duration": 1031,
    "start_time": "2022-02-09T19:18:13.635Z"
   },
   {
    "duration": 1307,
    "start_time": "2022-02-09T19:18:14.668Z"
   },
   {
    "duration": 14,
    "start_time": "2022-02-09T19:18:15.978Z"
   },
   {
    "duration": 48,
    "start_time": "2022-02-09T19:18:15.995Z"
   },
   {
    "duration": 79,
    "start_time": "2022-02-09T19:28:58.111Z"
   },
   {
    "duration": 88,
    "start_time": "2022-02-09T19:29:11.471Z"
   },
   {
    "duration": 79,
    "start_time": "2022-02-09T19:29:16.476Z"
   },
   {
    "duration": 1545,
    "start_time": "2022-02-09T19:36:22.585Z"
   },
   {
    "duration": 25,
    "start_time": "2022-02-09T19:36:24.133Z"
   },
   {
    "duration": 28,
    "start_time": "2022-02-09T19:36:24.161Z"
   },
   {
    "duration": 51,
    "start_time": "2022-02-09T19:36:24.192Z"
   },
   {
    "duration": 45,
    "start_time": "2022-02-09T19:36:24.246Z"
   },
   {
    "duration": 341,
    "start_time": "2022-02-09T19:36:24.294Z"
   },
   {
    "duration": 15,
    "start_time": "2022-02-09T19:36:24.637Z"
   },
   {
    "duration": 19,
    "start_time": "2022-02-09T19:36:24.656Z"
   },
   {
    "duration": 73,
    "start_time": "2022-02-09T19:36:24.678Z"
   },
   {
    "duration": 26,
    "start_time": "2022-02-09T19:36:24.753Z"
   },
   {
    "duration": 8,
    "start_time": "2022-02-09T19:36:24.781Z"
   },
   {
    "duration": 48,
    "start_time": "2022-02-09T19:36:24.792Z"
   },
   {
    "duration": 39,
    "start_time": "2022-02-09T19:36:24.843Z"
   },
   {
    "duration": 73,
    "start_time": "2022-02-09T19:36:24.885Z"
   },
   {
    "duration": 30,
    "start_time": "2022-02-09T19:36:24.961Z"
   },
   {
    "duration": 56,
    "start_time": "2022-02-09T19:36:24.994Z"
   },
   {
    "duration": 76,
    "start_time": "2022-02-09T19:36:25.053Z"
   },
   {
    "duration": 10,
    "start_time": "2022-02-09T19:36:25.132Z"
   },
   {
    "duration": 40,
    "start_time": "2022-02-09T19:36:25.144Z"
   },
   {
    "duration": 21,
    "start_time": "2022-02-09T19:36:25.187Z"
   },
   {
    "duration": 631,
    "start_time": "2022-02-09T19:36:25.210Z"
   },
   {
    "duration": 26,
    "start_time": "2022-02-09T19:36:25.843Z"
   },
   {
    "duration": 557,
    "start_time": "2022-02-09T19:36:25.875Z"
   },
   {
    "duration": 778,
    "start_time": "2022-02-09T19:36:26.435Z"
   },
   {
    "duration": 23,
    "start_time": "2022-02-09T19:36:27.216Z"
   },
   {
    "duration": 21,
    "start_time": "2022-02-09T19:36:27.242Z"
   },
   {
    "duration": 352,
    "start_time": "2022-02-09T19:36:27.265Z"
   },
   {
    "duration": 287,
    "start_time": "2022-02-09T19:36:27.631Z"
   },
   {
    "duration": 903,
    "start_time": "2022-02-09T19:36:27.920Z"
   },
   {
    "duration": 1155,
    "start_time": "2022-02-09T19:36:28.825Z"
   },
   {
    "duration": 51,
    "start_time": "2022-02-09T19:36:29.983Z"
   },
   {
    "duration": 705,
    "start_time": "2022-02-09T19:36:30.036Z"
   },
   {
    "duration": 1447,
    "start_time": "2022-02-09T19:36:30.744Z"
   },
   {
    "duration": 1605,
    "start_time": "2022-02-09T19:36:32.195Z"
   },
   {
    "duration": 640,
    "start_time": "2022-02-09T19:36:33.802Z"
   },
   {
    "duration": 1457,
    "start_time": "2022-02-09T19:36:34.445Z"
   },
   {
    "duration": 14,
    "start_time": "2022-02-09T19:36:35.905Z"
   },
   {
    "duration": 19,
    "start_time": "2022-02-09T19:36:35.933Z"
   },
   {
    "duration": 1518,
    "start_time": "2022-02-09T19:41:39.164Z"
   },
   {
    "duration": 48,
    "start_time": "2022-02-09T19:41:40.686Z"
   },
   {
    "duration": 27,
    "start_time": "2022-02-09T19:41:40.738Z"
   },
   {
    "duration": 30,
    "start_time": "2022-02-09T19:41:40.768Z"
   },
   {
    "duration": 59,
    "start_time": "2022-02-09T19:41:40.801Z"
   },
   {
    "duration": 332,
    "start_time": "2022-02-09T19:41:40.864Z"
   },
   {
    "duration": 15,
    "start_time": "2022-02-09T19:41:41.199Z"
   },
   {
    "duration": 21,
    "start_time": "2022-02-09T19:41:41.234Z"
   },
   {
    "duration": 38,
    "start_time": "2022-02-09T19:41:41.259Z"
   },
   {
    "duration": 54,
    "start_time": "2022-02-09T19:41:41.299Z"
   },
   {
    "duration": 8,
    "start_time": "2022-02-09T19:41:41.356Z"
   },
   {
    "duration": 30,
    "start_time": "2022-02-09T19:41:41.366Z"
   },
   {
    "duration": 69,
    "start_time": "2022-02-09T19:41:41.399Z"
   },
   {
    "duration": 74,
    "start_time": "2022-02-09T19:41:41.471Z"
   },
   {
    "duration": 41,
    "start_time": "2022-02-09T19:41:41.548Z"
   },
   {
    "duration": 53,
    "start_time": "2022-02-09T19:41:41.592Z"
   },
   {
    "duration": 38,
    "start_time": "2022-02-09T19:41:41.649Z"
   },
   {
    "duration": 42,
    "start_time": "2022-02-09T19:41:41.690Z"
   },
   {
    "duration": 26,
    "start_time": "2022-02-09T19:41:41.735Z"
   },
   {
    "duration": 31,
    "start_time": "2022-02-09T19:41:41.764Z"
   },
   {
    "duration": 668,
    "start_time": "2022-02-09T19:41:41.798Z"
   },
   {
    "duration": 22,
    "start_time": "2022-02-09T19:41:42.468Z"
   },
   {
    "duration": 524,
    "start_time": "2022-02-09T19:41:42.495Z"
   },
   {
    "duration": 702,
    "start_time": "2022-02-09T19:41:43.023Z"
   },
   {
    "duration": 13,
    "start_time": "2022-02-09T19:41:43.732Z"
   },
   {
    "duration": 22,
    "start_time": "2022-02-09T19:41:43.748Z"
   },
   {
    "duration": 328,
    "start_time": "2022-02-09T19:41:43.773Z"
   },
   {
    "duration": 290,
    "start_time": "2022-02-09T19:41:44.104Z"
   },
   {
    "duration": 825,
    "start_time": "2022-02-09T19:41:44.397Z"
   },
   {
    "duration": 1028,
    "start_time": "2022-02-09T19:41:45.225Z"
   },
   {
    "duration": 34,
    "start_time": "2022-02-09T19:41:46.256Z"
   },
   {
    "duration": 1069,
    "start_time": "2022-02-09T19:41:46.293Z"
   },
   {
    "duration": 1900,
    "start_time": "2022-02-09T19:41:47.365Z"
   },
   {
    "duration": 1673,
    "start_time": "2022-02-09T19:41:49.268Z"
   },
   {
    "duration": 643,
    "start_time": "2022-02-09T19:41:50.944Z"
   },
   {
    "duration": 1157,
    "start_time": "2022-02-09T19:41:51.591Z"
   },
   {
    "duration": 13,
    "start_time": "2022-02-09T19:41:52.752Z"
   },
   {
    "duration": 20,
    "start_time": "2022-02-09T19:41:52.768Z"
   },
   {
    "duration": 1470,
    "start_time": "2022-02-10T19:57:23.592Z"
   },
   {
    "duration": 23,
    "start_time": "2022-02-10T19:57:25.064Z"
   },
   {
    "duration": 26,
    "start_time": "2022-02-10T19:57:25.090Z"
   },
   {
    "duration": 46,
    "start_time": "2022-02-10T19:57:25.120Z"
   },
   {
    "duration": 24,
    "start_time": "2022-02-10T19:57:25.169Z"
   },
   {
    "duration": 347,
    "start_time": "2022-02-10T19:57:25.196Z"
   },
   {
    "duration": 17,
    "start_time": "2022-02-10T19:57:25.545Z"
   },
   {
    "duration": 19,
    "start_time": "2022-02-10T19:57:25.566Z"
   },
   {
    "duration": 70,
    "start_time": "2022-02-10T19:57:25.588Z"
   },
   {
    "duration": 25,
    "start_time": "2022-02-10T19:57:25.660Z"
   },
   {
    "duration": 7,
    "start_time": "2022-02-10T19:57:25.688Z"
   },
   {
    "duration": 20,
    "start_time": "2022-02-10T19:57:25.698Z"
   },
   {
    "duration": 35,
    "start_time": "2022-02-10T19:57:25.749Z"
   },
   {
    "duration": 65,
    "start_time": "2022-02-10T19:57:25.787Z"
   },
   {
    "duration": 30,
    "start_time": "2022-02-10T19:57:25.855Z"
   },
   {
    "duration": 60,
    "start_time": "2022-02-10T19:57:25.888Z"
   },
   {
    "duration": 32,
    "start_time": "2022-02-10T19:57:25.951Z"
   },
   {
    "duration": 10,
    "start_time": "2022-02-10T19:57:25.985Z"
   },
   {
    "duration": 58,
    "start_time": "2022-02-10T19:57:25.997Z"
   },
   {
    "duration": 22,
    "start_time": "2022-02-10T19:57:26.058Z"
   },
   {
    "duration": 575,
    "start_time": "2022-02-10T19:57:26.082Z"
   },
   {
    "duration": 23,
    "start_time": "2022-02-10T19:57:26.659Z"
   },
   {
    "duration": 546,
    "start_time": "2022-02-10T19:57:26.687Z"
   },
   {
    "duration": 736,
    "start_time": "2022-02-10T19:57:27.236Z"
   },
   {
    "duration": 13,
    "start_time": "2022-02-10T19:57:27.975Z"
   },
   {
    "duration": 28,
    "start_time": "2022-02-10T19:57:27.991Z"
   },
   {
    "duration": 360,
    "start_time": "2022-02-10T19:57:28.021Z"
   },
   {
    "duration": 452,
    "start_time": "2022-02-10T19:57:28.384Z"
   },
   {
    "duration": 1149,
    "start_time": "2022-02-10T19:57:28.839Z"
   },
   {
    "duration": 1404,
    "start_time": "2022-02-10T19:57:29.991Z"
   },
   {
    "duration": 66,
    "start_time": "2022-02-10T19:57:31.399Z"
   },
   {
    "duration": 1132,
    "start_time": "2022-02-10T19:57:31.468Z"
   },
   {
    "duration": 1448,
    "start_time": "2022-02-10T19:57:32.603Z"
   },
   {
    "duration": 1844,
    "start_time": "2022-02-10T19:57:34.053Z"
   },
   {
    "duration": 599,
    "start_time": "2022-02-10T19:57:35.900Z"
   },
   {
    "duration": 1254,
    "start_time": "2022-02-10T19:57:36.502Z"
   },
   {
    "duration": 17,
    "start_time": "2022-02-10T19:57:37.759Z"
   },
   {
    "duration": 41,
    "start_time": "2022-02-10T19:57:37.778Z"
   },
   {
    "duration": 1367,
    "start_time": "2022-09-06T16:31:43.767Z"
   },
   {
    "duration": 15,
    "start_time": "2022-09-06T16:31:45.136Z"
   },
   {
    "duration": 16,
    "start_time": "2022-09-06T16:31:45.153Z"
   },
   {
    "duration": 13,
    "start_time": "2022-09-06T16:31:45.171Z"
   },
   {
    "duration": 12,
    "start_time": "2022-09-06T16:31:45.185Z"
   },
   {
    "duration": 143,
    "start_time": "2022-09-06T16:31:45.199Z"
   },
   {
    "duration": 18,
    "start_time": "2022-09-06T16:31:45.344Z"
   },
   {
    "duration": 12,
    "start_time": "2022-09-06T16:31:45.363Z"
   },
   {
    "duration": 20,
    "start_time": "2022-09-06T16:31:45.376Z"
   },
   {
    "duration": 14,
    "start_time": "2022-09-06T16:31:45.399Z"
   },
   {
    "duration": 4,
    "start_time": "2022-09-06T16:31:45.415Z"
   },
   {
    "duration": 38,
    "start_time": "2022-09-06T16:31:45.421Z"
   },
   {
    "duration": 24,
    "start_time": "2022-09-06T16:31:45.460Z"
   },
   {
    "duration": 20,
    "start_time": "2022-09-06T16:31:45.485Z"
   },
   {
    "duration": 16,
    "start_time": "2022-09-06T16:31:45.507Z"
   },
   {
    "duration": 44,
    "start_time": "2022-09-06T16:31:45.524Z"
   },
   {
    "duration": 19,
    "start_time": "2022-09-06T16:31:45.569Z"
   },
   {
    "duration": 6,
    "start_time": "2022-09-06T16:31:45.589Z"
   },
   {
    "duration": 15,
    "start_time": "2022-09-06T16:31:45.596Z"
   },
   {
    "duration": 10,
    "start_time": "2022-09-06T16:31:45.613Z"
   },
   {
    "duration": 308,
    "start_time": "2022-09-06T16:31:45.625Z"
   },
   {
    "duration": 14,
    "start_time": "2022-09-06T16:31:45.934Z"
   },
   {
    "duration": 241,
    "start_time": "2022-09-06T16:31:45.954Z"
   },
   {
    "duration": 344,
    "start_time": "2022-09-06T16:31:46.197Z"
   },
   {
    "duration": 18,
    "start_time": "2022-09-06T16:31:46.543Z"
   },
   {
    "duration": 12,
    "start_time": "2022-09-06T16:31:46.562Z"
   },
   {
    "duration": 157,
    "start_time": "2022-09-06T16:31:46.575Z"
   },
   {
    "duration": 176,
    "start_time": "2022-09-06T16:31:46.736Z"
   },
   {
    "duration": 261,
    "start_time": "2022-09-06T16:31:46.913Z"
   },
   {
    "duration": 338,
    "start_time": "2022-09-06T16:31:47.176Z"
   },
   {
    "duration": 19,
    "start_time": "2022-09-06T16:31:47.516Z"
   },
   {
    "duration": 319,
    "start_time": "2022-09-06T16:31:47.536Z"
   },
   {
    "duration": 815,
    "start_time": "2022-09-06T16:31:47.856Z"
   },
   {
    "duration": 861,
    "start_time": "2022-09-06T16:31:48.672Z"
   },
   {
    "duration": 240,
    "start_time": "2022-09-06T16:31:49.535Z"
   },
   {
    "duration": 332,
    "start_time": "2022-09-06T16:31:49.777Z"
   },
   {
    "duration": 8,
    "start_time": "2022-09-06T16:31:50.111Z"
   },
   {
    "duration": 12,
    "start_time": "2022-09-06T16:31:50.120Z"
   }
  ],
  "kernelspec": {
   "display_name": "Python 3 (ipykernel)",
   "language": "python",
   "name": "python3"
  },
  "language_info": {
   "codemirror_mode": {
    "name": "ipython",
    "version": 3
   },
   "file_extension": ".py",
   "mimetype": "text/x-python",
   "name": "python",
   "nbconvert_exporter": "python",
   "pygments_lexer": "ipython3",
   "version": "3.9.12"
  },
  "toc": {
   "base_numbering": 1,
   "nav_menu": {},
   "number_sections": true,
   "sideBar": true,
   "skip_h1_title": true,
   "title_cell": "Table of Contents",
   "title_sidebar": "Contents",
   "toc_cell": false,
   "toc_position": {},
   "toc_section_display": true,
   "toc_window_display": false
  }
 },
 "nbformat": 4,
 "nbformat_minor": 2
}
