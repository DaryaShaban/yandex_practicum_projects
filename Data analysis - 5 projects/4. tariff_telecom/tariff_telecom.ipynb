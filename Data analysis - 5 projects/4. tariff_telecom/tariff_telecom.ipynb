{
 "cells": [
  {
   "cell_type": "markdown",
   "metadata": {},
   "source": [
    "# Prospective tariff determination for a telecom company\n",
    "\n",
    "The goal of the project is to determine which of a Mobile telecom company's tariffs brings in more money.\n",
    "\n",
    "The task was set by the commercial department in order to adjust the advertising budget. The company is a federal mobile operator. Clients are offered two tariff plans: \"Smart\" and \"Ultra\".\n",
    "\n",
    "A preliminary analysis of tariffs will be performed on a small sample of customers. The data of 500 users is available: who they are, where they are from, what tariff they use, how many calls they made, MB of Internet spent and messages sent by each of them in 2018. The task of the project is to analyze the behavior of customers, test two hypotheses and draw a conclusion.\n",
    "\n",
    "The hypotheses are:\n",
    "the average revenue of users of the \"Ultra\" and \"Smart\" tariffs differ;\n",
    "the average revenue of users from Moscow differs from the revenue of users from other regions."
   ]
  },
  {
   "cell_type": "markdown",
   "metadata": {},
   "source": [
    "<h1>Contents<span class=\"tocSkip\"></span></h1>\n",
    "\n",
    "<a href='#first'> 1. Examine the data<br/>\n",
    "\n",
    "<a href='#second'> 2. Data preprocessing<br/>\n",
    "\n",
    "<a href='#third'> 3. Data analysis </a> <br/>\n",
    "    \n",
    "<a href='#fourth'> 4. Hypothesis testing </a> <br/>\n",
    "    \n",
    "<a href='#fifth'> 5. Final conclusion </a> <br/>"
   ]
  },
  {
   "cell_type": "markdown",
   "metadata": {},
   "source": [
    "<a id='first'></a>\n",
    "## 1. Examine the data"
   ]
  },
  {
   "cell_type": "code",
   "execution_count": 1,
   "metadata": {},
   "outputs": [
    {
     "data": {
      "text/html": [
       "<div>\n",
       "<style scoped>\n",
       "    .dataframe tbody tr th:only-of-type {\n",
       "        vertical-align: middle;\n",
       "    }\n",
       "\n",
       "    .dataframe tbody tr th {\n",
       "        vertical-align: top;\n",
       "    }\n",
       "\n",
       "    .dataframe thead th {\n",
       "        text-align: right;\n",
       "    }\n",
       "</style>\n",
       "<table border=\"1\" class=\"dataframe\">\n",
       "  <thead>\n",
       "    <tr style=\"text-align: right;\">\n",
       "      <th></th>\n",
       "      <th>id</th>\n",
       "      <th>call_date</th>\n",
       "      <th>duration</th>\n",
       "      <th>user_id</th>\n",
       "    </tr>\n",
       "  </thead>\n",
       "  <tbody>\n",
       "    <tr>\n",
       "      <th>0</th>\n",
       "      <td>1000_0</td>\n",
       "      <td>2018-07-25</td>\n",
       "      <td>0.00</td>\n",
       "      <td>1000</td>\n",
       "    </tr>\n",
       "    <tr>\n",
       "      <th>1</th>\n",
       "      <td>1000_1</td>\n",
       "      <td>2018-08-17</td>\n",
       "      <td>0.00</td>\n",
       "      <td>1000</td>\n",
       "    </tr>\n",
       "    <tr>\n",
       "      <th>2</th>\n",
       "      <td>1000_2</td>\n",
       "      <td>2018-06-11</td>\n",
       "      <td>2.85</td>\n",
       "      <td>1000</td>\n",
       "    </tr>\n",
       "    <tr>\n",
       "      <th>3</th>\n",
       "      <td>1000_3</td>\n",
       "      <td>2018-09-21</td>\n",
       "      <td>13.80</td>\n",
       "      <td>1000</td>\n",
       "    </tr>\n",
       "    <tr>\n",
       "      <th>4</th>\n",
       "      <td>1000_4</td>\n",
       "      <td>2018-12-15</td>\n",
       "      <td>5.18</td>\n",
       "      <td>1000</td>\n",
       "    </tr>\n",
       "  </tbody>\n",
       "</table>\n",
       "</div>"
      ],
      "text/plain": [
       "       id   call_date  duration  user_id\n",
       "0  1000_0  2018-07-25      0.00     1000\n",
       "1  1000_1  2018-08-17      0.00     1000\n",
       "2  1000_2  2018-06-11      2.85     1000\n",
       "3  1000_3  2018-09-21     13.80     1000\n",
       "4  1000_4  2018-12-15      5.18     1000"
      ]
     },
     "metadata": {},
     "output_type": "display_data"
    },
    {
     "name": "stdout",
     "output_type": "stream",
     "text": [
      "<class 'pandas.core.frame.DataFrame'>\n",
      "RangeIndex: 202607 entries, 0 to 202606\n",
      "Data columns (total 4 columns):\n",
      " #   Column     Non-Null Count   Dtype  \n",
      "---  ------     --------------   -----  \n",
      " 0   id         202607 non-null  object \n",
      " 1   call_date  202607 non-null  object \n",
      " 2   duration   202607 non-null  float64\n",
      " 3   user_id    202607 non-null  int64  \n",
      "dtypes: float64(1), int64(1), object(2)\n",
      "memory usage: 6.2+ MB\n",
      "None\n"
     ]
    },
    {
     "data": {
      "text/html": [
       "<div>\n",
       "<style scoped>\n",
       "    .dataframe tbody tr th:only-of-type {\n",
       "        vertical-align: middle;\n",
       "    }\n",
       "\n",
       "    .dataframe tbody tr th {\n",
       "        vertical-align: top;\n",
       "    }\n",
       "\n",
       "    .dataframe thead th {\n",
       "        text-align: right;\n",
       "    }\n",
       "</style>\n",
       "<table border=\"1\" class=\"dataframe\">\n",
       "  <thead>\n",
       "    <tr style=\"text-align: right;\">\n",
       "      <th></th>\n",
       "      <th>Unnamed: 0</th>\n",
       "      <th>id</th>\n",
       "      <th>mb_used</th>\n",
       "      <th>session_date</th>\n",
       "      <th>user_id</th>\n",
       "    </tr>\n",
       "  </thead>\n",
       "  <tbody>\n",
       "    <tr>\n",
       "      <th>0</th>\n",
       "      <td>0</td>\n",
       "      <td>1000_0</td>\n",
       "      <td>112.95</td>\n",
       "      <td>2018-11-25</td>\n",
       "      <td>1000</td>\n",
       "    </tr>\n",
       "    <tr>\n",
       "      <th>1</th>\n",
       "      <td>1</td>\n",
       "      <td>1000_1</td>\n",
       "      <td>1052.81</td>\n",
       "      <td>2018-09-07</td>\n",
       "      <td>1000</td>\n",
       "    </tr>\n",
       "    <tr>\n",
       "      <th>2</th>\n",
       "      <td>2</td>\n",
       "      <td>1000_2</td>\n",
       "      <td>1197.26</td>\n",
       "      <td>2018-06-25</td>\n",
       "      <td>1000</td>\n",
       "    </tr>\n",
       "    <tr>\n",
       "      <th>3</th>\n",
       "      <td>3</td>\n",
       "      <td>1000_3</td>\n",
       "      <td>550.27</td>\n",
       "      <td>2018-08-22</td>\n",
       "      <td>1000</td>\n",
       "    </tr>\n",
       "    <tr>\n",
       "      <th>4</th>\n",
       "      <td>4</td>\n",
       "      <td>1000_4</td>\n",
       "      <td>302.56</td>\n",
       "      <td>2018-09-24</td>\n",
       "      <td>1000</td>\n",
       "    </tr>\n",
       "  </tbody>\n",
       "</table>\n",
       "</div>"
      ],
      "text/plain": [
       "   Unnamed: 0      id  mb_used session_date  user_id\n",
       "0           0  1000_0   112.95   2018-11-25     1000\n",
       "1           1  1000_1  1052.81   2018-09-07     1000\n",
       "2           2  1000_2  1197.26   2018-06-25     1000\n",
       "3           3  1000_3   550.27   2018-08-22     1000\n",
       "4           4  1000_4   302.56   2018-09-24     1000"
      ]
     },
     "metadata": {},
     "output_type": "display_data"
    },
    {
     "name": "stdout",
     "output_type": "stream",
     "text": [
      "<class 'pandas.core.frame.DataFrame'>\n",
      "RangeIndex: 149396 entries, 0 to 149395\n",
      "Data columns (total 5 columns):\n",
      " #   Column        Non-Null Count   Dtype  \n",
      "---  ------        --------------   -----  \n",
      " 0   Unnamed: 0    149396 non-null  int64  \n",
      " 1   id            149396 non-null  object \n",
      " 2   mb_used       149396 non-null  float64\n",
      " 3   session_date  149396 non-null  object \n",
      " 4   user_id       149396 non-null  int64  \n",
      "dtypes: float64(1), int64(2), object(2)\n",
      "memory usage: 5.7+ MB\n",
      "None\n"
     ]
    },
    {
     "data": {
      "text/html": [
       "<div>\n",
       "<style scoped>\n",
       "    .dataframe tbody tr th:only-of-type {\n",
       "        vertical-align: middle;\n",
       "    }\n",
       "\n",
       "    .dataframe tbody tr th {\n",
       "        vertical-align: top;\n",
       "    }\n",
       "\n",
       "    .dataframe thead th {\n",
       "        text-align: right;\n",
       "    }\n",
       "</style>\n",
       "<table border=\"1\" class=\"dataframe\">\n",
       "  <thead>\n",
       "    <tr style=\"text-align: right;\">\n",
       "      <th></th>\n",
       "      <th>id</th>\n",
       "      <th>message_date</th>\n",
       "      <th>user_id</th>\n",
       "    </tr>\n",
       "  </thead>\n",
       "  <tbody>\n",
       "    <tr>\n",
       "      <th>0</th>\n",
       "      <td>1000_0</td>\n",
       "      <td>2018-06-27</td>\n",
       "      <td>1000</td>\n",
       "    </tr>\n",
       "    <tr>\n",
       "      <th>1</th>\n",
       "      <td>1000_1</td>\n",
       "      <td>2018-10-08</td>\n",
       "      <td>1000</td>\n",
       "    </tr>\n",
       "    <tr>\n",
       "      <th>2</th>\n",
       "      <td>1000_2</td>\n",
       "      <td>2018-08-04</td>\n",
       "      <td>1000</td>\n",
       "    </tr>\n",
       "    <tr>\n",
       "      <th>3</th>\n",
       "      <td>1000_3</td>\n",
       "      <td>2018-06-16</td>\n",
       "      <td>1000</td>\n",
       "    </tr>\n",
       "    <tr>\n",
       "      <th>4</th>\n",
       "      <td>1000_4</td>\n",
       "      <td>2018-12-05</td>\n",
       "      <td>1000</td>\n",
       "    </tr>\n",
       "  </tbody>\n",
       "</table>\n",
       "</div>"
      ],
      "text/plain": [
       "       id message_date  user_id\n",
       "0  1000_0   2018-06-27     1000\n",
       "1  1000_1   2018-10-08     1000\n",
       "2  1000_2   2018-08-04     1000\n",
       "3  1000_3   2018-06-16     1000\n",
       "4  1000_4   2018-12-05     1000"
      ]
     },
     "metadata": {},
     "output_type": "display_data"
    },
    {
     "name": "stdout",
     "output_type": "stream",
     "text": [
      "<class 'pandas.core.frame.DataFrame'>\n",
      "RangeIndex: 123036 entries, 0 to 123035\n",
      "Data columns (total 3 columns):\n",
      " #   Column        Non-Null Count   Dtype \n",
      "---  ------        --------------   ----- \n",
      " 0   id            123036 non-null  object\n",
      " 1   message_date  123036 non-null  object\n",
      " 2   user_id       123036 non-null  int64 \n",
      "dtypes: int64(1), object(2)\n",
      "memory usage: 2.8+ MB\n",
      "None\n"
     ]
    },
    {
     "data": {
      "text/html": [
       "<div>\n",
       "<style scoped>\n",
       "    .dataframe tbody tr th:only-of-type {\n",
       "        vertical-align: middle;\n",
       "    }\n",
       "\n",
       "    .dataframe tbody tr th {\n",
       "        vertical-align: top;\n",
       "    }\n",
       "\n",
       "    .dataframe thead th {\n",
       "        text-align: right;\n",
       "    }\n",
       "</style>\n",
       "<table border=\"1\" class=\"dataframe\">\n",
       "  <thead>\n",
       "    <tr style=\"text-align: right;\">\n",
       "      <th></th>\n",
       "      <th>messages_included</th>\n",
       "      <th>mb_per_month_included</th>\n",
       "      <th>minutes_included</th>\n",
       "      <th>rub_monthly_fee</th>\n",
       "      <th>rub_per_gb</th>\n",
       "      <th>rub_per_message</th>\n",
       "      <th>rub_per_minute</th>\n",
       "      <th>tariff_name</th>\n",
       "    </tr>\n",
       "  </thead>\n",
       "  <tbody>\n",
       "    <tr>\n",
       "      <th>0</th>\n",
       "      <td>50</td>\n",
       "      <td>15360</td>\n",
       "      <td>500</td>\n",
       "      <td>550</td>\n",
       "      <td>200</td>\n",
       "      <td>3</td>\n",
       "      <td>3</td>\n",
       "      <td>smart</td>\n",
       "    </tr>\n",
       "    <tr>\n",
       "      <th>1</th>\n",
       "      <td>1000</td>\n",
       "      <td>30720</td>\n",
       "      <td>3000</td>\n",
       "      <td>1950</td>\n",
       "      <td>150</td>\n",
       "      <td>1</td>\n",
       "      <td>1</td>\n",
       "      <td>ultra</td>\n",
       "    </tr>\n",
       "  </tbody>\n",
       "</table>\n",
       "</div>"
      ],
      "text/plain": [
       "   messages_included  mb_per_month_included  minutes_included  \\\n",
       "0                 50                  15360               500   \n",
       "1               1000                  30720              3000   \n",
       "\n",
       "   rub_monthly_fee  rub_per_gb  rub_per_message  rub_per_minute tariff_name  \n",
       "0              550         200                3               3       smart  \n",
       "1             1950         150                1               1       ultra  "
      ]
     },
     "metadata": {},
     "output_type": "display_data"
    },
    {
     "name": "stdout",
     "output_type": "stream",
     "text": [
      "<class 'pandas.core.frame.DataFrame'>\n",
      "RangeIndex: 2 entries, 0 to 1\n",
      "Data columns (total 8 columns):\n",
      " #   Column                 Non-Null Count  Dtype \n",
      "---  ------                 --------------  ----- \n",
      " 0   messages_included      2 non-null      int64 \n",
      " 1   mb_per_month_included  2 non-null      int64 \n",
      " 2   minutes_included       2 non-null      int64 \n",
      " 3   rub_monthly_fee        2 non-null      int64 \n",
      " 4   rub_per_gb             2 non-null      int64 \n",
      " 5   rub_per_message        2 non-null      int64 \n",
      " 6   rub_per_minute         2 non-null      int64 \n",
      " 7   tariff_name            2 non-null      object\n",
      "dtypes: int64(7), object(1)\n",
      "memory usage: 256.0+ bytes\n",
      "None\n"
     ]
    },
    {
     "data": {
      "text/html": [
       "<div>\n",
       "<style scoped>\n",
       "    .dataframe tbody tr th:only-of-type {\n",
       "        vertical-align: middle;\n",
       "    }\n",
       "\n",
       "    .dataframe tbody tr th {\n",
       "        vertical-align: top;\n",
       "    }\n",
       "\n",
       "    .dataframe thead th {\n",
       "        text-align: right;\n",
       "    }\n",
       "</style>\n",
       "<table border=\"1\" class=\"dataframe\">\n",
       "  <thead>\n",
       "    <tr style=\"text-align: right;\">\n",
       "      <th></th>\n",
       "      <th>user_id</th>\n",
       "      <th>age</th>\n",
       "      <th>churn_date</th>\n",
       "      <th>city</th>\n",
       "      <th>first_name</th>\n",
       "      <th>last_name</th>\n",
       "      <th>reg_date</th>\n",
       "      <th>tariff</th>\n",
       "    </tr>\n",
       "  </thead>\n",
       "  <tbody>\n",
       "    <tr>\n",
       "      <th>0</th>\n",
       "      <td>1000</td>\n",
       "      <td>52</td>\n",
       "      <td>NaN</td>\n",
       "      <td>Краснодар</td>\n",
       "      <td>Рафаил</td>\n",
       "      <td>Верещагин</td>\n",
       "      <td>2018-05-25</td>\n",
       "      <td>ultra</td>\n",
       "    </tr>\n",
       "    <tr>\n",
       "      <th>1</th>\n",
       "      <td>1001</td>\n",
       "      <td>41</td>\n",
       "      <td>NaN</td>\n",
       "      <td>Москва</td>\n",
       "      <td>Иван</td>\n",
       "      <td>Ежов</td>\n",
       "      <td>2018-11-01</td>\n",
       "      <td>smart</td>\n",
       "    </tr>\n",
       "    <tr>\n",
       "      <th>2</th>\n",
       "      <td>1002</td>\n",
       "      <td>59</td>\n",
       "      <td>NaN</td>\n",
       "      <td>Стерлитамак</td>\n",
       "      <td>Евгений</td>\n",
       "      <td>Абрамович</td>\n",
       "      <td>2018-06-17</td>\n",
       "      <td>smart</td>\n",
       "    </tr>\n",
       "    <tr>\n",
       "      <th>3</th>\n",
       "      <td>1003</td>\n",
       "      <td>23</td>\n",
       "      <td>NaN</td>\n",
       "      <td>Москва</td>\n",
       "      <td>Белла</td>\n",
       "      <td>Белякова</td>\n",
       "      <td>2018-08-17</td>\n",
       "      <td>ultra</td>\n",
       "    </tr>\n",
       "    <tr>\n",
       "      <th>4</th>\n",
       "      <td>1004</td>\n",
       "      <td>68</td>\n",
       "      <td>NaN</td>\n",
       "      <td>Новокузнецк</td>\n",
       "      <td>Татьяна</td>\n",
       "      <td>Авдеенко</td>\n",
       "      <td>2018-05-14</td>\n",
       "      <td>ultra</td>\n",
       "    </tr>\n",
       "  </tbody>\n",
       "</table>\n",
       "</div>"
      ],
      "text/plain": [
       "   user_id  age churn_date         city first_name  last_name    reg_date  \\\n",
       "0     1000   52        NaN    Краснодар     Рафаил  Верещагин  2018-05-25   \n",
       "1     1001   41        NaN       Москва       Иван       Ежов  2018-11-01   \n",
       "2     1002   59        NaN  Стерлитамак    Евгений  Абрамович  2018-06-17   \n",
       "3     1003   23        NaN       Москва      Белла   Белякова  2018-08-17   \n",
       "4     1004   68        NaN  Новокузнецк    Татьяна   Авдеенко  2018-05-14   \n",
       "\n",
       "  tariff  \n",
       "0  ultra  \n",
       "1  smart  \n",
       "2  smart  \n",
       "3  ultra  \n",
       "4  ultra  "
      ]
     },
     "metadata": {},
     "output_type": "display_data"
    },
    {
     "name": "stdout",
     "output_type": "stream",
     "text": [
      "<class 'pandas.core.frame.DataFrame'>\n",
      "RangeIndex: 500 entries, 0 to 499\n",
      "Data columns (total 8 columns):\n",
      " #   Column      Non-Null Count  Dtype \n",
      "---  ------      --------------  ----- \n",
      " 0   user_id     500 non-null    int64 \n",
      " 1   age         500 non-null    int64 \n",
      " 2   churn_date  38 non-null     object\n",
      " 3   city        500 non-null    object\n",
      " 4   first_name  500 non-null    object\n",
      " 5   last_name   500 non-null    object\n",
      " 6   reg_date    500 non-null    object\n",
      " 7   tariff      500 non-null    object\n",
      "dtypes: int64(2), object(6)\n",
      "memory usage: 31.4+ KB\n",
      "None\n"
     ]
    }
   ],
   "source": [
    "import pandas as pd \n",
    "import numpy as np \n",
    "from scipy import stats as st  \n",
    "\n",
    "data_calls = pd.read_csv('/datasets/calls.csv') \n",
    "data_net = pd.read_csv('/datasets/internet.csv') \n",
    "data_msgs = pd.read_csv('/datasets/messages.csv') \n",
    "data_tariffs = pd.read_csv('/datasets/tariffs.csv') \n",
    "data_users = pd.read_csv('/datasets/users.csv') \n",
    "\n",
    "data = [data_calls, data_net, data_msgs, data_tariffs, data_users] \n",
    "for i in data: \n",
    "    display(i.head()) \n",
    "    print(i.info()) "
   ]
  },
  {
   "cell_type": "code",
   "execution_count": 2,
   "metadata": {},
   "outputs": [
    {
     "data": {
      "text/plain": [
       "array(['Архангельск', 'Астрахань', 'Балашиха', 'Барнаул', 'Белгород',\n",
       "       'Брянск', 'Владивосток', 'Владикавказ', 'Владимир', 'Волгоград',\n",
       "       'Волжский', 'Вологда', 'Воронеж', 'Грозный', 'Екатеринбург',\n",
       "       'Иваново', 'Ижевск', 'Иркутск', 'Казань', 'Калининград', 'Калуга',\n",
       "       'Кемерово', 'Киров', 'Кострома', 'Краснодар', 'Красноярск',\n",
       "       'Курган', 'Курск', 'Липецк', 'Магнитогорск', 'Махачкала', 'Москва',\n",
       "       'Мурманск', 'Набережные Челны', 'Нижневартовск', 'Нижний Новгород',\n",
       "       'Нижний Тагил', 'Новокузнецк', 'Новороссийск', 'Новосибирск',\n",
       "       'Омск', 'Оренбург', 'Орёл', 'Пенза', 'Пермь', 'Петрозаводск',\n",
       "       'Подольск', 'Ростов-на-Дону', 'Рязань', 'Самара',\n",
       "       'Санкт-Петербург', 'Саранск', 'Саратов', 'Севастополь', 'Смоленск',\n",
       "       'Сочи', 'Ставрополь', 'Стерлитамак', 'Сургут', 'Тамбов', 'Тверь',\n",
       "       'Тольятти', 'Томск', 'Тула', 'Тюмень', 'Улан-Удэ', 'Ульяновск',\n",
       "       'Уфа', 'Хабаровск', 'Химки', 'Чебоксары', 'Челябинск', 'Череповец',\n",
       "       'Чита', 'Якутск', 'Ярославль'], dtype=object)"
      ]
     },
     "execution_count": 2,
     "metadata": {},
     "output_type": "execute_result"
    }
   ],
   "source": [
    "data_users.sort_values(by = 'city')['city'].unique() #check unique cities "
   ]
  },
  {
   "cell_type": "markdown",
   "metadata": {},
   "source": [
    "### Conclusion\n",
    "\n",
    "Data tables were opened and examined.\n",
    "Among the data types that need to be replaced:\n",
    "1) The date in all tables (call, message, etc.) is in the Object format - it is recommended to convert it to the Datetime format. <br/>\n",
    "2) The duration of the minutes of the conversation has the Float data type - the operator takes into account whole minutes with rounding up - so there is a need to cast the data to the Int type with rounding up. <br/>\n",
    "3) The duration of the Internet session has the Float data type - the operator takes into account whole gigabytes with rounding up - therefore, it is necessary to convert the data to the Int type with rounding up. This step will be done after grouping the data by months (because the operator rounds the data for the month, and not for a separate Internet session). <br/>\n",
    "\n",
    "Regarding data errors: as mentioned above, the operator considers the use of the Internet in GB. At the same time, the data_tariffs table shows data in GB. It is proposed to translate them into GB (15 - smart tariff and 30 - ultra tariff). There is an unnamed column in the data_net table - it is not yet clear how it will be used, and therefore it is proposed not to delete it.\n",
    "\n",
    "The city names were checked for the duplicates (for the further test of the hypothesis) - city names are unique and do not repeat."
   ]
  },
  {
   "cell_type": "markdown",
   "metadata": {},
   "source": [
    "<a id='second'></a>\n",
    "## 2. Data preprocessing"
   ]
  },
  {
   "cell_type": "code",
   "execution_count": 3,
   "metadata": {},
   "outputs": [],
   "source": [
    "#Type changes\n",
    "data_calls['call_date']= pd.to_datetime(data_calls['call_date'], format='%Y-%m-%d') \n",
    "data_net['session_date']= pd.to_datetime(data_net['session_date'], format='%Y-%m-%d') \n",
    "data_msgs['message_date']= pd.to_datetime(data_msgs['message_date'], format='%Y-%m-%d') \n",
    "data_users['reg_date']= pd.to_datetime(data_users['reg_date'], format='%Y-%m-%d') \n",
    "data_users['churn_date']= pd.to_datetime(data_users['churn_date'], format='%Y-%m-%d') "
   ]
  },
  {
   "cell_type": "code",
   "execution_count": 4,
   "metadata": {
    "scrolled": true
   },
   "outputs": [
    {
     "data": {
      "text/html": [
       "<div>\n",
       "<style scoped>\n",
       "    .dataframe tbody tr th:only-of-type {\n",
       "        vertical-align: middle;\n",
       "    }\n",
       "\n",
       "    .dataframe tbody tr th {\n",
       "        vertical-align: top;\n",
       "    }\n",
       "\n",
       "    .dataframe thead th {\n",
       "        text-align: right;\n",
       "    }\n",
       "</style>\n",
       "<table border=\"1\" class=\"dataframe\">\n",
       "  <thead>\n",
       "    <tr style=\"text-align: right;\">\n",
       "      <th></th>\n",
       "      <th>id</th>\n",
       "      <th>call_date</th>\n",
       "      <th>duration</th>\n",
       "      <th>user_id</th>\n",
       "    </tr>\n",
       "  </thead>\n",
       "  <tbody>\n",
       "    <tr>\n",
       "      <th>0</th>\n",
       "      <td>1000_0</td>\n",
       "      <td>2018-07-25</td>\n",
       "      <td>0</td>\n",
       "      <td>1000</td>\n",
       "    </tr>\n",
       "    <tr>\n",
       "      <th>1</th>\n",
       "      <td>1000_1</td>\n",
       "      <td>2018-08-17</td>\n",
       "      <td>0</td>\n",
       "      <td>1000</td>\n",
       "    </tr>\n",
       "    <tr>\n",
       "      <th>2</th>\n",
       "      <td>1000_2</td>\n",
       "      <td>2018-06-11</td>\n",
       "      <td>3</td>\n",
       "      <td>1000</td>\n",
       "    </tr>\n",
       "    <tr>\n",
       "      <th>3</th>\n",
       "      <td>1000_3</td>\n",
       "      <td>2018-09-21</td>\n",
       "      <td>14</td>\n",
       "      <td>1000</td>\n",
       "    </tr>\n",
       "    <tr>\n",
       "      <th>4</th>\n",
       "      <td>1000_4</td>\n",
       "      <td>2018-12-15</td>\n",
       "      <td>6</td>\n",
       "      <td>1000</td>\n",
       "    </tr>\n",
       "  </tbody>\n",
       "</table>\n",
       "</div>"
      ],
      "text/plain": [
       "       id  call_date  duration  user_id\n",
       "0  1000_0 2018-07-25         0     1000\n",
       "1  1000_1 2018-08-17         0     1000\n",
       "2  1000_2 2018-06-11         3     1000\n",
       "3  1000_3 2018-09-21        14     1000\n",
       "4  1000_4 2018-12-15         6     1000"
      ]
     },
     "execution_count": 4,
     "metadata": {},
     "output_type": "execute_result"
    }
   ],
   "source": [
    "#Rounding up and type changes duration of calls\n",
    "data_calls['duration'] = data_calls['duration'].apply(np.ceil) \n",
    "data_calls['duration'] = data_calls['duration'].astype('int') \n",
    "data_calls.head() #check"
   ]
  },
  {
   "cell_type": "code",
   "execution_count": 5,
   "metadata": {},
   "outputs": [],
   "source": [
    "#Columns for the further analysis\n",
    "data_calls['call_month'] = pd.DatetimeIndex(data_calls['call_date']).month \n",
    "data_net['session_month'] = pd.DatetimeIndex(data_net['session_date']).month \n",
    "data_msgs['message_month'] = pd.DatetimeIndex(data_msgs['message_date']).month \n",
    "data_tariffs['gb_included'] = [15,30] "
   ]
  },
  {
   "cell_type": "code",
   "execution_count": 6,
   "metadata": {
    "scrolled": true
   },
   "outputs": [
    {
     "data": {
      "text/html": [
       "<div>\n",
       "<style scoped>\n",
       "    .dataframe tbody tr th:only-of-type {\n",
       "        vertical-align: middle;\n",
       "    }\n",
       "\n",
       "    .dataframe tbody tr th {\n",
       "        vertical-align: top;\n",
       "    }\n",
       "\n",
       "    .dataframe thead th {\n",
       "        text-align: right;\n",
       "    }\n",
       "</style>\n",
       "<table border=\"1\" class=\"dataframe\">\n",
       "  <thead>\n",
       "    <tr style=\"text-align: right;\">\n",
       "      <th></th>\n",
       "      <th></th>\n",
       "      <th>calls_total</th>\n",
       "      <th>calls_duration</th>\n",
       "    </tr>\n",
       "    <tr>\n",
       "      <th>user_id</th>\n",
       "      <th>call_month</th>\n",
       "      <th></th>\n",
       "      <th></th>\n",
       "    </tr>\n",
       "  </thead>\n",
       "  <tbody>\n",
       "    <tr>\n",
       "      <th rowspan=\"5\" valign=\"top\">1000</th>\n",
       "      <th>5</th>\n",
       "      <td>22</td>\n",
       "      <td>159</td>\n",
       "    </tr>\n",
       "    <tr>\n",
       "      <th>6</th>\n",
       "      <td>43</td>\n",
       "      <td>172</td>\n",
       "    </tr>\n",
       "    <tr>\n",
       "      <th>7</th>\n",
       "      <td>47</td>\n",
       "      <td>340</td>\n",
       "    </tr>\n",
       "    <tr>\n",
       "      <th>8</th>\n",
       "      <td>52</td>\n",
       "      <td>408</td>\n",
       "    </tr>\n",
       "    <tr>\n",
       "      <th>9</th>\n",
       "      <td>58</td>\n",
       "      <td>466</td>\n",
       "    </tr>\n",
       "  </tbody>\n",
       "</table>\n",
       "</div>"
      ],
      "text/plain": [
       "                    calls_total  calls_duration\n",
       "user_id call_month                             \n",
       "1000    5                    22             159\n",
       "        6                    43             172\n",
       "        7                    47             340\n",
       "        8                    52             408\n",
       "        9                    58             466"
      ]
     },
     "metadata": {},
     "output_type": "display_data"
    },
    {
     "name": "stdout",
     "output_type": "stream",
     "text": [
      "<class 'pandas.core.frame.DataFrame'>\n",
      "MultiIndex: 3174 entries, (1000, 5) to (1499, 12)\n",
      "Data columns (total 2 columns):\n",
      " #   Column          Non-Null Count  Dtype\n",
      "---  ------          --------------  -----\n",
      " 0   calls_total     3174 non-null   int64\n",
      " 1   calls_duration  3174 non-null   int64\n",
      "dtypes: int64(2)\n",
      "memory usage: 62.9 KB\n"
     ]
    },
    {
     "data": {
      "text/html": [
       "<div>\n",
       "<style scoped>\n",
       "    .dataframe tbody tr th:only-of-type {\n",
       "        vertical-align: middle;\n",
       "    }\n",
       "\n",
       "    .dataframe tbody tr th {\n",
       "        vertical-align: top;\n",
       "    }\n",
       "\n",
       "    .dataframe thead th {\n",
       "        text-align: right;\n",
       "    }\n",
       "</style>\n",
       "<table border=\"1\" class=\"dataframe\">\n",
       "  <thead>\n",
       "    <tr style=\"text-align: right;\">\n",
       "      <th></th>\n",
       "      <th></th>\n",
       "      <th>msgs_total</th>\n",
       "    </tr>\n",
       "    <tr>\n",
       "      <th>user_id</th>\n",
       "      <th>message_month</th>\n",
       "      <th></th>\n",
       "    </tr>\n",
       "  </thead>\n",
       "  <tbody>\n",
       "    <tr>\n",
       "      <th rowspan=\"5\" valign=\"top\">1000</th>\n",
       "      <th>5</th>\n",
       "      <td>22</td>\n",
       "    </tr>\n",
       "    <tr>\n",
       "      <th>6</th>\n",
       "      <td>60</td>\n",
       "    </tr>\n",
       "    <tr>\n",
       "      <th>7</th>\n",
       "      <td>75</td>\n",
       "    </tr>\n",
       "    <tr>\n",
       "      <th>8</th>\n",
       "      <td>81</td>\n",
       "    </tr>\n",
       "    <tr>\n",
       "      <th>9</th>\n",
       "      <td>57</td>\n",
       "    </tr>\n",
       "  </tbody>\n",
       "</table>\n",
       "</div>"
      ],
      "text/plain": [
       "                       msgs_total\n",
       "user_id message_month            \n",
       "1000    5                      22\n",
       "        6                      60\n",
       "        7                      75\n",
       "        8                      81\n",
       "        9                      57"
      ]
     },
     "metadata": {},
     "output_type": "display_data"
    },
    {
     "name": "stdout",
     "output_type": "stream",
     "text": [
      "<class 'pandas.core.frame.DataFrame'>\n",
      "MultiIndex: 2717 entries, (1000, 5) to (1499, 12)\n",
      "Data columns (total 1 columns):\n",
      " #   Column      Non-Null Count  Dtype\n",
      "---  ------      --------------  -----\n",
      " 0   msgs_total  2717 non-null   int64\n",
      "dtypes: int64(1)\n",
      "memory usage: 32.7 KB\n"
     ]
    },
    {
     "data": {
      "text/html": [
       "<div>\n",
       "<style scoped>\n",
       "    .dataframe tbody tr th:only-of-type {\n",
       "        vertical-align: middle;\n",
       "    }\n",
       "\n",
       "    .dataframe tbody tr th {\n",
       "        vertical-align: top;\n",
       "    }\n",
       "\n",
       "    .dataframe thead th {\n",
       "        text-align: right;\n",
       "    }\n",
       "</style>\n",
       "<table border=\"1\" class=\"dataframe\">\n",
       "  <thead>\n",
       "    <tr style=\"text-align: right;\">\n",
       "      <th></th>\n",
       "      <th></th>\n",
       "      <th>mb_used</th>\n",
       "    </tr>\n",
       "    <tr>\n",
       "      <th>user_id</th>\n",
       "      <th>session_month</th>\n",
       "      <th></th>\n",
       "    </tr>\n",
       "  </thead>\n",
       "  <tbody>\n",
       "    <tr>\n",
       "      <th rowspan=\"5\" valign=\"top\">1000</th>\n",
       "      <th>5</th>\n",
       "      <td>2253.49</td>\n",
       "    </tr>\n",
       "    <tr>\n",
       "      <th>6</th>\n",
       "      <td>23233.77</td>\n",
       "    </tr>\n",
       "    <tr>\n",
       "      <th>7</th>\n",
       "      <td>14003.64</td>\n",
       "    </tr>\n",
       "    <tr>\n",
       "      <th>8</th>\n",
       "      <td>14055.93</td>\n",
       "    </tr>\n",
       "    <tr>\n",
       "      <th>9</th>\n",
       "      <td>14568.91</td>\n",
       "    </tr>\n",
       "  </tbody>\n",
       "</table>\n",
       "</div>"
      ],
      "text/plain": [
       "                        mb_used\n",
       "user_id session_month          \n",
       "1000    5               2253.49\n",
       "        6              23233.77\n",
       "        7              14003.64\n",
       "        8              14055.93\n",
       "        9              14568.91"
      ]
     },
     "metadata": {},
     "output_type": "display_data"
    },
    {
     "data": {
      "text/html": [
       "<div>\n",
       "<style scoped>\n",
       "    .dataframe tbody tr th:only-of-type {\n",
       "        vertical-align: middle;\n",
       "    }\n",
       "\n",
       "    .dataframe tbody tr th {\n",
       "        vertical-align: top;\n",
       "    }\n",
       "\n",
       "    .dataframe thead th {\n",
       "        text-align: right;\n",
       "    }\n",
       "</style>\n",
       "<table border=\"1\" class=\"dataframe\">\n",
       "  <thead>\n",
       "    <tr style=\"text-align: right;\">\n",
       "      <th></th>\n",
       "      <th></th>\n",
       "      <th>gb_used</th>\n",
       "    </tr>\n",
       "    <tr>\n",
       "      <th>user_id</th>\n",
       "      <th>session_month</th>\n",
       "      <th></th>\n",
       "    </tr>\n",
       "  </thead>\n",
       "  <tbody>\n",
       "    <tr>\n",
       "      <th rowspan=\"5\" valign=\"top\">1000</th>\n",
       "      <th>5</th>\n",
       "      <td>3.0</td>\n",
       "    </tr>\n",
       "    <tr>\n",
       "      <th>6</th>\n",
       "      <td>24.0</td>\n",
       "    </tr>\n",
       "    <tr>\n",
       "      <th>7</th>\n",
       "      <td>15.0</td>\n",
       "    </tr>\n",
       "    <tr>\n",
       "      <th>8</th>\n",
       "      <td>15.0</td>\n",
       "    </tr>\n",
       "    <tr>\n",
       "      <th>9</th>\n",
       "      <td>15.0</td>\n",
       "    </tr>\n",
       "  </tbody>\n",
       "</table>\n",
       "</div>"
      ],
      "text/plain": [
       "                       gb_used\n",
       "user_id session_month         \n",
       "1000    5                  3.0\n",
       "        6                 24.0\n",
       "        7                 15.0\n",
       "        8                 15.0\n",
       "        9                 15.0"
      ]
     },
     "metadata": {},
     "output_type": "display_data"
    },
    {
     "name": "stdout",
     "output_type": "stream",
     "text": [
      "<class 'pandas.core.frame.DataFrame'>\n",
      "MultiIndex: 3203 entries, (1000, 5) to (1499, 12)\n",
      "Data columns (total 1 columns):\n",
      " #   Column   Non-Null Count  Dtype  \n",
      "---  ------   --------------  -----  \n",
      " 0   gb_used  3203 non-null   float64\n",
      "dtypes: float64(1)\n",
      "memory usage: 38.5 KB\n"
     ]
    }
   ],
   "source": [
    "# Aggregation for the further analysis\n",
    "# 2.1_Number and duration of user calls by months\n",
    "pivot_calls = data_calls.pivot_table(index=('user_id','call_month'), values='duration', aggfunc=('count', 'sum')) \n",
    "pivot_calls = pivot_calls.rename(columns = {'count' : 'calls_total', 'sum' : 'calls_duration'}) \n",
    "display(pivot_calls.head()) \n",
    "pivot_calls.info() \n",
    "\n",
    "# 2.2_Number of SMS of users by month\n",
    "pivot_msgs = data_msgs.pivot_table(index=('user_id','message_month'), values='id', aggfunc='count') \n",
    "pivot_msgs = pivot_msgs.rename(columns = {'id' : 'msgs_total'}) \n",
    "display(pivot_msgs.head())\n",
    "pivot_msgs.info()\n",
    "\n",
    "# 2.3_The volume of Internet traffic of users by months\n",
    "pivot_net = data_net.pivot_table(index=('user_id', 'session_month'), values='mb_used', aggfunc='sum') \n",
    "display(pivot_net.head()) \n",
    "pivot_net = pivot_net/1000 #divide the traffic by 1000 (MB to GB)\n",
    "pivot_net = pivot_net.apply(np.ceil) #round down GB\n",
    "pivot_net = pivot_net.rename(columns = {'mb_used' : 'gb_used'}) \n",
    "display(pivot_net.head()) \n",
    "pivot_net.info()"
   ]
  },
  {
   "cell_type": "code",
   "execution_count": 7,
   "metadata": {},
   "outputs": [
    {
     "name": "stdout",
     "output_type": "stream",
     "text": [
      "<class 'pandas.core.frame.DataFrame'>\n",
      "MultiIndex: 3214 entries, (1000, 5) to (1446, 8)\n",
      "Data columns (total 4 columns):\n",
      " #   Column          Non-Null Count  Dtype  \n",
      "---  ------          --------------  -----  \n",
      " 0   gb_used         3203 non-null   float64\n",
      " 1   msgs_total      2717 non-null   float64\n",
      " 2   calls_total     3174 non-null   float64\n",
      " 3   calls_duration  3174 non-null   float64\n",
      "dtypes: float64(4)\n",
      "memory usage: 130.4 KB\n"
     ]
    }
   ],
   "source": [
    "#Tables merge\n",
    "data = pivot_net.join(pivot_msgs, how='outer', on=('user_id','session_month')) #merge tables, include data that is in at least one table\n",
    "data = data.join(pivot_calls, how='outer', on=('user_id','session_month')) #merge tables, include data that is in at least one table\n",
    "\n",
    "data.info() "
   ]
  },
  {
   "cell_type": "markdown",
   "metadata": {},
   "source": [
    "Since there are gaps after joining the tables, it is proposed to replace them with 0 (because a gap means that the Client did not use the Internet / messages / calls in a given month)."
   ]
  },
  {
   "cell_type": "code",
   "execution_count": 8,
   "metadata": {
    "scrolled": true
   },
   "outputs": [
    {
     "name": "stdout",
     "output_type": "stream",
     "text": [
      "<class 'pandas.core.frame.DataFrame'>\n",
      "MultiIndex: 3214 entries, (1000, 5) to (1446, 8)\n",
      "Data columns (total 4 columns):\n",
      " #   Column          Non-Null Count  Dtype  \n",
      "---  ------          --------------  -----  \n",
      " 0   gb_used         3214 non-null   float64\n",
      " 1   msgs_total      3214 non-null   float64\n",
      " 2   calls_total     3214 non-null   float64\n",
      " 3   calls_duration  3214 non-null   float64\n",
      "dtypes: float64(4)\n",
      "memory usage: 130.4 KB\n"
     ]
    }
   ],
   "source": [
    "data = data.fillna(0) \n",
    "data.info()  "
   ]
  },
  {
   "cell_type": "code",
   "execution_count": 9,
   "metadata": {},
   "outputs": [
    {
     "data": {
      "text/html": [
       "<div>\n",
       "<style scoped>\n",
       "    .dataframe tbody tr th:only-of-type {\n",
       "        vertical-align: middle;\n",
       "    }\n",
       "\n",
       "    .dataframe tbody tr th {\n",
       "        vertical-align: top;\n",
       "    }\n",
       "\n",
       "    .dataframe thead th {\n",
       "        text-align: right;\n",
       "    }\n",
       "</style>\n",
       "<table border=\"1\" class=\"dataframe\">\n",
       "  <thead>\n",
       "    <tr style=\"text-align: right;\">\n",
       "      <th></th>\n",
       "      <th>user_id</th>\n",
       "      <th>session_month</th>\n",
       "      <th>gb_used</th>\n",
       "      <th>msgs_total</th>\n",
       "      <th>calls_total</th>\n",
       "      <th>calls_duration</th>\n",
       "    </tr>\n",
       "  </thead>\n",
       "  <tbody>\n",
       "    <tr>\n",
       "      <th>0</th>\n",
       "      <td>1000</td>\n",
       "      <td>5</td>\n",
       "      <td>3.0</td>\n",
       "      <td>22.0</td>\n",
       "      <td>22.0</td>\n",
       "      <td>159.0</td>\n",
       "    </tr>\n",
       "    <tr>\n",
       "      <th>1</th>\n",
       "      <td>1000</td>\n",
       "      <td>6</td>\n",
       "      <td>24.0</td>\n",
       "      <td>60.0</td>\n",
       "      <td>43.0</td>\n",
       "      <td>172.0</td>\n",
       "    </tr>\n",
       "    <tr>\n",
       "      <th>2</th>\n",
       "      <td>1000</td>\n",
       "      <td>7</td>\n",
       "      <td>15.0</td>\n",
       "      <td>75.0</td>\n",
       "      <td>47.0</td>\n",
       "      <td>340.0</td>\n",
       "    </tr>\n",
       "    <tr>\n",
       "      <th>3</th>\n",
       "      <td>1000</td>\n",
       "      <td>8</td>\n",
       "      <td>15.0</td>\n",
       "      <td>81.0</td>\n",
       "      <td>52.0</td>\n",
       "      <td>408.0</td>\n",
       "    </tr>\n",
       "    <tr>\n",
       "      <th>4</th>\n",
       "      <td>1000</td>\n",
       "      <td>9</td>\n",
       "      <td>15.0</td>\n",
       "      <td>57.0</td>\n",
       "      <td>58.0</td>\n",
       "      <td>466.0</td>\n",
       "    </tr>\n",
       "  </tbody>\n",
       "</table>\n",
       "</div>"
      ],
      "text/plain": [
       "   user_id  session_month  gb_used  msgs_total  calls_total  calls_duration\n",
       "0     1000              5      3.0        22.0         22.0           159.0\n",
       "1     1000              6     24.0        60.0         43.0           172.0\n",
       "2     1000              7     15.0        75.0         47.0           340.0\n",
       "3     1000              8     15.0        81.0         52.0           408.0\n",
       "4     1000              9     15.0        57.0         58.0           466.0"
      ]
     },
     "execution_count": 9,
     "metadata": {},
     "output_type": "execute_result"
    }
   ],
   "source": [
    "data.reset_index(drop=False, inplace=True) #reset index, but leave previous index\n",
    "data.head()"
   ]
  },
  {
   "cell_type": "code",
   "execution_count": 10,
   "metadata": {},
   "outputs": [
    {
     "data": {
      "text/html": [
       "<div>\n",
       "<style scoped>\n",
       "    .dataframe tbody tr th:only-of-type {\n",
       "        vertical-align: middle;\n",
       "    }\n",
       "\n",
       "    .dataframe tbody tr th {\n",
       "        vertical-align: top;\n",
       "    }\n",
       "\n",
       "    .dataframe thead th {\n",
       "        text-align: right;\n",
       "    }\n",
       "</style>\n",
       "<table border=\"1\" class=\"dataframe\">\n",
       "  <thead>\n",
       "    <tr style=\"text-align: right;\">\n",
       "      <th></th>\n",
       "      <th>user_id</th>\n",
       "      <th>session_month</th>\n",
       "      <th>gb_used</th>\n",
       "      <th>msgs_total</th>\n",
       "      <th>calls_total</th>\n",
       "      <th>calls_duration</th>\n",
       "      <th>tariff</th>\n",
       "      <th>city</th>\n",
       "      <th>messages_included</th>\n",
       "      <th>mb_per_month_included</th>\n",
       "      <th>minutes_included</th>\n",
       "      <th>rub_monthly_fee</th>\n",
       "      <th>rub_per_gb</th>\n",
       "      <th>rub_per_message</th>\n",
       "      <th>rub_per_minute</th>\n",
       "      <th>gb_included</th>\n",
       "    </tr>\n",
       "  </thead>\n",
       "  <tbody>\n",
       "    <tr>\n",
       "      <th>0</th>\n",
       "      <td>1000</td>\n",
       "      <td>5</td>\n",
       "      <td>3.0</td>\n",
       "      <td>22.0</td>\n",
       "      <td>22.0</td>\n",
       "      <td>159.0</td>\n",
       "      <td>ultra</td>\n",
       "      <td>Краснодар</td>\n",
       "      <td>1000</td>\n",
       "      <td>30720</td>\n",
       "      <td>3000</td>\n",
       "      <td>1950</td>\n",
       "      <td>150</td>\n",
       "      <td>1</td>\n",
       "      <td>1</td>\n",
       "      <td>30</td>\n",
       "    </tr>\n",
       "    <tr>\n",
       "      <th>1</th>\n",
       "      <td>1000</td>\n",
       "      <td>6</td>\n",
       "      <td>24.0</td>\n",
       "      <td>60.0</td>\n",
       "      <td>43.0</td>\n",
       "      <td>172.0</td>\n",
       "      <td>ultra</td>\n",
       "      <td>Краснодар</td>\n",
       "      <td>1000</td>\n",
       "      <td>30720</td>\n",
       "      <td>3000</td>\n",
       "      <td>1950</td>\n",
       "      <td>150</td>\n",
       "      <td>1</td>\n",
       "      <td>1</td>\n",
       "      <td>30</td>\n",
       "    </tr>\n",
       "    <tr>\n",
       "      <th>2</th>\n",
       "      <td>1000</td>\n",
       "      <td>7</td>\n",
       "      <td>15.0</td>\n",
       "      <td>75.0</td>\n",
       "      <td>47.0</td>\n",
       "      <td>340.0</td>\n",
       "      <td>ultra</td>\n",
       "      <td>Краснодар</td>\n",
       "      <td>1000</td>\n",
       "      <td>30720</td>\n",
       "      <td>3000</td>\n",
       "      <td>1950</td>\n",
       "      <td>150</td>\n",
       "      <td>1</td>\n",
       "      <td>1</td>\n",
       "      <td>30</td>\n",
       "    </tr>\n",
       "    <tr>\n",
       "      <th>3</th>\n",
       "      <td>1000</td>\n",
       "      <td>8</td>\n",
       "      <td>15.0</td>\n",
       "      <td>81.0</td>\n",
       "      <td>52.0</td>\n",
       "      <td>408.0</td>\n",
       "      <td>ultra</td>\n",
       "      <td>Краснодар</td>\n",
       "      <td>1000</td>\n",
       "      <td>30720</td>\n",
       "      <td>3000</td>\n",
       "      <td>1950</td>\n",
       "      <td>150</td>\n",
       "      <td>1</td>\n",
       "      <td>1</td>\n",
       "      <td>30</td>\n",
       "    </tr>\n",
       "    <tr>\n",
       "      <th>4</th>\n",
       "      <td>1000</td>\n",
       "      <td>9</td>\n",
       "      <td>15.0</td>\n",
       "      <td>57.0</td>\n",
       "      <td>58.0</td>\n",
       "      <td>466.0</td>\n",
       "      <td>ultra</td>\n",
       "      <td>Краснодар</td>\n",
       "      <td>1000</td>\n",
       "      <td>30720</td>\n",
       "      <td>3000</td>\n",
       "      <td>1950</td>\n",
       "      <td>150</td>\n",
       "      <td>1</td>\n",
       "      <td>1</td>\n",
       "      <td>30</td>\n",
       "    </tr>\n",
       "    <tr>\n",
       "      <th>...</th>\n",
       "      <td>...</td>\n",
       "      <td>...</td>\n",
       "      <td>...</td>\n",
       "      <td>...</td>\n",
       "      <td>...</td>\n",
       "      <td>...</td>\n",
       "      <td>...</td>\n",
       "      <td>...</td>\n",
       "      <td>...</td>\n",
       "      <td>...</td>\n",
       "      <td>...</td>\n",
       "      <td>...</td>\n",
       "      <td>...</td>\n",
       "      <td>...</td>\n",
       "      <td>...</td>\n",
       "      <td>...</td>\n",
       "    </tr>\n",
       "    <tr>\n",
       "      <th>3209</th>\n",
       "      <td>1499</td>\n",
       "      <td>9</td>\n",
       "      <td>2.0</td>\n",
       "      <td>11.0</td>\n",
       "      <td>9.0</td>\n",
       "      <td>70.0</td>\n",
       "      <td>smart</td>\n",
       "      <td>Пермь</td>\n",
       "      <td>50</td>\n",
       "      <td>15360</td>\n",
       "      <td>500</td>\n",
       "      <td>550</td>\n",
       "      <td>200</td>\n",
       "      <td>3</td>\n",
       "      <td>3</td>\n",
       "      <td>15</td>\n",
       "    </tr>\n",
       "    <tr>\n",
       "      <th>3210</th>\n",
       "      <td>1499</td>\n",
       "      <td>10</td>\n",
       "      <td>18.0</td>\n",
       "      <td>48.0</td>\n",
       "      <td>68.0</td>\n",
       "      <td>449.0</td>\n",
       "      <td>smart</td>\n",
       "      <td>Пермь</td>\n",
       "      <td>50</td>\n",
       "      <td>15360</td>\n",
       "      <td>500</td>\n",
       "      <td>550</td>\n",
       "      <td>200</td>\n",
       "      <td>3</td>\n",
       "      <td>3</td>\n",
       "      <td>15</td>\n",
       "    </tr>\n",
       "    <tr>\n",
       "      <th>3211</th>\n",
       "      <td>1499</td>\n",
       "      <td>11</td>\n",
       "      <td>18.0</td>\n",
       "      <td>59.0</td>\n",
       "      <td>74.0</td>\n",
       "      <td>612.0</td>\n",
       "      <td>smart</td>\n",
       "      <td>Пермь</td>\n",
       "      <td>50</td>\n",
       "      <td>15360</td>\n",
       "      <td>500</td>\n",
       "      <td>550</td>\n",
       "      <td>200</td>\n",
       "      <td>3</td>\n",
       "      <td>3</td>\n",
       "      <td>15</td>\n",
       "    </tr>\n",
       "    <tr>\n",
       "      <th>3212</th>\n",
       "      <td>1499</td>\n",
       "      <td>12</td>\n",
       "      <td>14.0</td>\n",
       "      <td>66.0</td>\n",
       "      <td>69.0</td>\n",
       "      <td>492.0</td>\n",
       "      <td>smart</td>\n",
       "      <td>Пермь</td>\n",
       "      <td>50</td>\n",
       "      <td>15360</td>\n",
       "      <td>500</td>\n",
       "      <td>550</td>\n",
       "      <td>200</td>\n",
       "      <td>3</td>\n",
       "      <td>3</td>\n",
       "      <td>15</td>\n",
       "    </tr>\n",
       "    <tr>\n",
       "      <th>3213</th>\n",
       "      <td>1446</td>\n",
       "      <td>8</td>\n",
       "      <td>0.0</td>\n",
       "      <td>1.0</td>\n",
       "      <td>4.0</td>\n",
       "      <td>50.0</td>\n",
       "      <td>smart</td>\n",
       "      <td>Липецк</td>\n",
       "      <td>50</td>\n",
       "      <td>15360</td>\n",
       "      <td>500</td>\n",
       "      <td>550</td>\n",
       "      <td>200</td>\n",
       "      <td>3</td>\n",
       "      <td>3</td>\n",
       "      <td>15</td>\n",
       "    </tr>\n",
       "  </tbody>\n",
       "</table>\n",
       "<p>3214 rows × 16 columns</p>\n",
       "</div>"
      ],
      "text/plain": [
       "      user_id  session_month  gb_used  msgs_total  calls_total  \\\n",
       "0        1000              5      3.0        22.0         22.0   \n",
       "1        1000              6     24.0        60.0         43.0   \n",
       "2        1000              7     15.0        75.0         47.0   \n",
       "3        1000              8     15.0        81.0         52.0   \n",
       "4        1000              9     15.0        57.0         58.0   \n",
       "...       ...            ...      ...         ...          ...   \n",
       "3209     1499              9      2.0        11.0          9.0   \n",
       "3210     1499             10     18.0        48.0         68.0   \n",
       "3211     1499             11     18.0        59.0         74.0   \n",
       "3212     1499             12     14.0        66.0         69.0   \n",
       "3213     1446              8      0.0         1.0          4.0   \n",
       "\n",
       "      calls_duration tariff       city  messages_included  \\\n",
       "0              159.0  ultra  Краснодар               1000   \n",
       "1              172.0  ultra  Краснодар               1000   \n",
       "2              340.0  ultra  Краснодар               1000   \n",
       "3              408.0  ultra  Краснодар               1000   \n",
       "4              466.0  ultra  Краснодар               1000   \n",
       "...              ...    ...        ...                ...   \n",
       "3209            70.0  smart      Пермь                 50   \n",
       "3210           449.0  smart      Пермь                 50   \n",
       "3211           612.0  smart      Пермь                 50   \n",
       "3212           492.0  smart      Пермь                 50   \n",
       "3213            50.0  smart     Липецк                 50   \n",
       "\n",
       "      mb_per_month_included  minutes_included  rub_monthly_fee  rub_per_gb  \\\n",
       "0                     30720              3000             1950         150   \n",
       "1                     30720              3000             1950         150   \n",
       "2                     30720              3000             1950         150   \n",
       "3                     30720              3000             1950         150   \n",
       "4                     30720              3000             1950         150   \n",
       "...                     ...               ...              ...         ...   \n",
       "3209                  15360               500              550         200   \n",
       "3210                  15360               500              550         200   \n",
       "3211                  15360               500              550         200   \n",
       "3212                  15360               500              550         200   \n",
       "3213                  15360               500              550         200   \n",
       "\n",
       "      rub_per_message  rub_per_minute  gb_included  \n",
       "0                   1               1           30  \n",
       "1                   1               1           30  \n",
       "2                   1               1           30  \n",
       "3                   1               1           30  \n",
       "4                   1               1           30  \n",
       "...               ...             ...          ...  \n",
       "3209                3               3           15  \n",
       "3210                3               3           15  \n",
       "3211                3               3           15  \n",
       "3212                3               3           15  \n",
       "3213                3               3           15  \n",
       "\n",
       "[3214 rows x 16 columns]"
      ]
     },
     "execution_count": 10,
     "metadata": {},
     "output_type": "execute_result"
    }
   ],
   "source": [
    "#Tables merge_2 - adding a tariff and its indicators\n",
    "merger = data_users.loc[:,['tariff','user_id', 'city']] \n",
    "data = data.merge(merger, on='user_id', how='left') #merge tables, include rows from data\n",
    "data_tariffs = data_tariffs.rename(columns = {'tariff_name' : 'tariff'}) \n",
    "data = data.merge(data_tariffs, on='tariff', how='inner') #merge tables, include rows from data\n",
    "\n",
    "data"
   ]
  },
  {
   "cell_type": "code",
   "execution_count": 11,
   "metadata": {},
   "outputs": [
    {
     "data": {
      "text/html": [
       "<div>\n",
       "<style scoped>\n",
       "    .dataframe tbody tr th:only-of-type {\n",
       "        vertical-align: middle;\n",
       "    }\n",
       "\n",
       "    .dataframe tbody tr th {\n",
       "        vertical-align: top;\n",
       "    }\n",
       "\n",
       "    .dataframe thead th {\n",
       "        text-align: right;\n",
       "    }\n",
       "</style>\n",
       "<table border=\"1\" class=\"dataframe\">\n",
       "  <thead>\n",
       "    <tr style=\"text-align: right;\">\n",
       "      <th></th>\n",
       "      <th>user_id</th>\n",
       "      <th>session_month</th>\n",
       "      <th>gb_used</th>\n",
       "      <th>msgs_total</th>\n",
       "      <th>calls_total</th>\n",
       "      <th>calls_duration</th>\n",
       "      <th>tariff</th>\n",
       "      <th>city</th>\n",
       "      <th>messages_included</th>\n",
       "      <th>mb_per_month_included</th>\n",
       "      <th>minutes_included</th>\n",
       "      <th>rub_monthly_fee</th>\n",
       "      <th>rub_per_gb</th>\n",
       "      <th>rub_per_message</th>\n",
       "      <th>rub_per_minute</th>\n",
       "      <th>gb_included</th>\n",
       "      <th>gb_overlimit</th>\n",
       "      <th>msgs_overlimit</th>\n",
       "      <th>minutes_overlimit</th>\n",
       "    </tr>\n",
       "  </thead>\n",
       "  <tbody>\n",
       "    <tr>\n",
       "      <th>0</th>\n",
       "      <td>1000</td>\n",
       "      <td>5</td>\n",
       "      <td>3.0</td>\n",
       "      <td>22.0</td>\n",
       "      <td>22.0</td>\n",
       "      <td>159.0</td>\n",
       "      <td>ultra</td>\n",
       "      <td>Краснодар</td>\n",
       "      <td>1000</td>\n",
       "      <td>30720</td>\n",
       "      <td>3000</td>\n",
       "      <td>1950</td>\n",
       "      <td>150</td>\n",
       "      <td>1</td>\n",
       "      <td>1</td>\n",
       "      <td>30</td>\n",
       "      <td>0.0</td>\n",
       "      <td>0.0</td>\n",
       "      <td>0.0</td>\n",
       "    </tr>\n",
       "    <tr>\n",
       "      <th>1</th>\n",
       "      <td>1000</td>\n",
       "      <td>6</td>\n",
       "      <td>24.0</td>\n",
       "      <td>60.0</td>\n",
       "      <td>43.0</td>\n",
       "      <td>172.0</td>\n",
       "      <td>ultra</td>\n",
       "      <td>Краснодар</td>\n",
       "      <td>1000</td>\n",
       "      <td>30720</td>\n",
       "      <td>3000</td>\n",
       "      <td>1950</td>\n",
       "      <td>150</td>\n",
       "      <td>1</td>\n",
       "      <td>1</td>\n",
       "      <td>30</td>\n",
       "      <td>0.0</td>\n",
       "      <td>0.0</td>\n",
       "      <td>0.0</td>\n",
       "    </tr>\n",
       "    <tr>\n",
       "      <th>2</th>\n",
       "      <td>1000</td>\n",
       "      <td>7</td>\n",
       "      <td>15.0</td>\n",
       "      <td>75.0</td>\n",
       "      <td>47.0</td>\n",
       "      <td>340.0</td>\n",
       "      <td>ultra</td>\n",
       "      <td>Краснодар</td>\n",
       "      <td>1000</td>\n",
       "      <td>30720</td>\n",
       "      <td>3000</td>\n",
       "      <td>1950</td>\n",
       "      <td>150</td>\n",
       "      <td>1</td>\n",
       "      <td>1</td>\n",
       "      <td>30</td>\n",
       "      <td>0.0</td>\n",
       "      <td>0.0</td>\n",
       "      <td>0.0</td>\n",
       "    </tr>\n",
       "    <tr>\n",
       "      <th>3</th>\n",
       "      <td>1000</td>\n",
       "      <td>8</td>\n",
       "      <td>15.0</td>\n",
       "      <td>81.0</td>\n",
       "      <td>52.0</td>\n",
       "      <td>408.0</td>\n",
       "      <td>ultra</td>\n",
       "      <td>Краснодар</td>\n",
       "      <td>1000</td>\n",
       "      <td>30720</td>\n",
       "      <td>3000</td>\n",
       "      <td>1950</td>\n",
       "      <td>150</td>\n",
       "      <td>1</td>\n",
       "      <td>1</td>\n",
       "      <td>30</td>\n",
       "      <td>0.0</td>\n",
       "      <td>0.0</td>\n",
       "      <td>0.0</td>\n",
       "    </tr>\n",
       "    <tr>\n",
       "      <th>4</th>\n",
       "      <td>1000</td>\n",
       "      <td>9</td>\n",
       "      <td>15.0</td>\n",
       "      <td>57.0</td>\n",
       "      <td>58.0</td>\n",
       "      <td>466.0</td>\n",
       "      <td>ultra</td>\n",
       "      <td>Краснодар</td>\n",
       "      <td>1000</td>\n",
       "      <td>30720</td>\n",
       "      <td>3000</td>\n",
       "      <td>1950</td>\n",
       "      <td>150</td>\n",
       "      <td>1</td>\n",
       "      <td>1</td>\n",
       "      <td>30</td>\n",
       "      <td>0.0</td>\n",
       "      <td>0.0</td>\n",
       "      <td>0.0</td>\n",
       "    </tr>\n",
       "  </tbody>\n",
       "</table>\n",
       "</div>"
      ],
      "text/plain": [
       "   user_id  session_month  gb_used  msgs_total  calls_total  calls_duration  \\\n",
       "0     1000              5      3.0        22.0         22.0           159.0   \n",
       "1     1000              6     24.0        60.0         43.0           172.0   \n",
       "2     1000              7     15.0        75.0         47.0           340.0   \n",
       "3     1000              8     15.0        81.0         52.0           408.0   \n",
       "4     1000              9     15.0        57.0         58.0           466.0   \n",
       "\n",
       "  tariff       city  messages_included  mb_per_month_included  \\\n",
       "0  ultra  Краснодар               1000                  30720   \n",
       "1  ultra  Краснодар               1000                  30720   \n",
       "2  ultra  Краснодар               1000                  30720   \n",
       "3  ultra  Краснодар               1000                  30720   \n",
       "4  ultra  Краснодар               1000                  30720   \n",
       "\n",
       "   minutes_included  rub_monthly_fee  rub_per_gb  rub_per_message  \\\n",
       "0              3000             1950         150                1   \n",
       "1              3000             1950         150                1   \n",
       "2              3000             1950         150                1   \n",
       "3              3000             1950         150                1   \n",
       "4              3000             1950         150                1   \n",
       "\n",
       "   rub_per_minute  gb_included  gb_overlimit  msgs_overlimit  \\\n",
       "0               1           30           0.0             0.0   \n",
       "1               1           30           0.0             0.0   \n",
       "2               1           30           0.0             0.0   \n",
       "3               1           30           0.0             0.0   \n",
       "4               1           30           0.0             0.0   \n",
       "\n",
       "   minutes_overlimit  \n",
       "0                0.0  \n",
       "1                0.0  \n",
       "2                0.0  \n",
       "3                0.0  \n",
       "4                0.0  "
      ]
     },
     "execution_count": 11,
     "metadata": {},
     "output_type": "execute_result"
    }
   ],
   "source": [
    "#Adding auxiliary columns\n",
    "data['gb_overlimit'] = data['gb_used'] - data['gb_included'] #GB above limit\n",
    "data['msgs_overlimit'] = data['msgs_total'] - data['messages_included'] #sms overlimit\n",
    "data['minutes_overlimit'] = data['calls_duration'] - data['minutes_included'] #minutes overlimit\n",
    "\n",
    "def remove_negatives(value): #delete negatives\n",
    "    if value <0: \n",
    "        return 0 \n",
    "    else: \n",
    "        return value \n",
    "data['gb_overlimit'] = data['gb_overlimit'].apply(remove_negatives) \n",
    "data['msgs_overlimit'] = data['msgs_overlimit'].apply(remove_negatives) \n",
    "data['minutes_overlimit'] = data['minutes_overlimit'].apply(remove_negatives) \n",
    "data.head()"
   ]
  },
  {
   "cell_type": "code",
   "execution_count": 12,
   "metadata": {},
   "outputs": [
    {
     "data": {
      "text/html": [
       "<div>\n",
       "<style scoped>\n",
       "    .dataframe tbody tr th:only-of-type {\n",
       "        vertical-align: middle;\n",
       "    }\n",
       "\n",
       "    .dataframe tbody tr th {\n",
       "        vertical-align: top;\n",
       "    }\n",
       "\n",
       "    .dataframe thead th {\n",
       "        text-align: right;\n",
       "    }\n",
       "</style>\n",
       "<table border=\"1\" class=\"dataframe\">\n",
       "  <thead>\n",
       "    <tr style=\"text-align: right;\">\n",
       "      <th></th>\n",
       "      <th>user_id</th>\n",
       "      <th>session_month</th>\n",
       "      <th>gb_used</th>\n",
       "      <th>msgs_total</th>\n",
       "      <th>calls_total</th>\n",
       "      <th>calls_duration</th>\n",
       "      <th>tariff</th>\n",
       "      <th>city</th>\n",
       "      <th>messages_included</th>\n",
       "      <th>mb_per_month_included</th>\n",
       "      <th>minutes_included</th>\n",
       "      <th>rub_monthly_fee</th>\n",
       "      <th>rub_per_gb</th>\n",
       "      <th>rub_per_message</th>\n",
       "      <th>rub_per_minute</th>\n",
       "      <th>gb_included</th>\n",
       "      <th>gb_overlimit</th>\n",
       "      <th>msgs_overlimit</th>\n",
       "      <th>minutes_overlimit</th>\n",
       "      <th>revenue</th>\n",
       "    </tr>\n",
       "  </thead>\n",
       "  <tbody>\n",
       "    <tr>\n",
       "      <th>3209</th>\n",
       "      <td>1499</td>\n",
       "      <td>9</td>\n",
       "      <td>2.0</td>\n",
       "      <td>11.0</td>\n",
       "      <td>9.0</td>\n",
       "      <td>70.0</td>\n",
       "      <td>smart</td>\n",
       "      <td>Пермь</td>\n",
       "      <td>50</td>\n",
       "      <td>15360</td>\n",
       "      <td>500</td>\n",
       "      <td>550</td>\n",
       "      <td>200</td>\n",
       "      <td>3</td>\n",
       "      <td>3</td>\n",
       "      <td>15</td>\n",
       "      <td>0.0</td>\n",
       "      <td>0.0</td>\n",
       "      <td>0.0</td>\n",
       "      <td>550.0</td>\n",
       "    </tr>\n",
       "    <tr>\n",
       "      <th>3210</th>\n",
       "      <td>1499</td>\n",
       "      <td>10</td>\n",
       "      <td>18.0</td>\n",
       "      <td>48.0</td>\n",
       "      <td>68.0</td>\n",
       "      <td>449.0</td>\n",
       "      <td>smart</td>\n",
       "      <td>Пермь</td>\n",
       "      <td>50</td>\n",
       "      <td>15360</td>\n",
       "      <td>500</td>\n",
       "      <td>550</td>\n",
       "      <td>200</td>\n",
       "      <td>3</td>\n",
       "      <td>3</td>\n",
       "      <td>15</td>\n",
       "      <td>3.0</td>\n",
       "      <td>0.0</td>\n",
       "      <td>0.0</td>\n",
       "      <td>1150.0</td>\n",
       "    </tr>\n",
       "    <tr>\n",
       "      <th>3211</th>\n",
       "      <td>1499</td>\n",
       "      <td>11</td>\n",
       "      <td>18.0</td>\n",
       "      <td>59.0</td>\n",
       "      <td>74.0</td>\n",
       "      <td>612.0</td>\n",
       "      <td>smart</td>\n",
       "      <td>Пермь</td>\n",
       "      <td>50</td>\n",
       "      <td>15360</td>\n",
       "      <td>500</td>\n",
       "      <td>550</td>\n",
       "      <td>200</td>\n",
       "      <td>3</td>\n",
       "      <td>3</td>\n",
       "      <td>15</td>\n",
       "      <td>3.0</td>\n",
       "      <td>9.0</td>\n",
       "      <td>112.0</td>\n",
       "      <td>1513.0</td>\n",
       "    </tr>\n",
       "    <tr>\n",
       "      <th>3212</th>\n",
       "      <td>1499</td>\n",
       "      <td>12</td>\n",
       "      <td>14.0</td>\n",
       "      <td>66.0</td>\n",
       "      <td>69.0</td>\n",
       "      <td>492.0</td>\n",
       "      <td>smart</td>\n",
       "      <td>Пермь</td>\n",
       "      <td>50</td>\n",
       "      <td>15360</td>\n",
       "      <td>500</td>\n",
       "      <td>550</td>\n",
       "      <td>200</td>\n",
       "      <td>3</td>\n",
       "      <td>3</td>\n",
       "      <td>15</td>\n",
       "      <td>0.0</td>\n",
       "      <td>16.0</td>\n",
       "      <td>0.0</td>\n",
       "      <td>598.0</td>\n",
       "    </tr>\n",
       "    <tr>\n",
       "      <th>3213</th>\n",
       "      <td>1446</td>\n",
       "      <td>8</td>\n",
       "      <td>0.0</td>\n",
       "      <td>1.0</td>\n",
       "      <td>4.0</td>\n",
       "      <td>50.0</td>\n",
       "      <td>smart</td>\n",
       "      <td>Липецк</td>\n",
       "      <td>50</td>\n",
       "      <td>15360</td>\n",
       "      <td>500</td>\n",
       "      <td>550</td>\n",
       "      <td>200</td>\n",
       "      <td>3</td>\n",
       "      <td>3</td>\n",
       "      <td>15</td>\n",
       "      <td>0.0</td>\n",
       "      <td>0.0</td>\n",
       "      <td>0.0</td>\n",
       "      <td>550.0</td>\n",
       "    </tr>\n",
       "  </tbody>\n",
       "</table>\n",
       "</div>"
      ],
      "text/plain": [
       "      user_id  session_month  gb_used  msgs_total  calls_total  \\\n",
       "3209     1499              9      2.0        11.0          9.0   \n",
       "3210     1499             10     18.0        48.0         68.0   \n",
       "3211     1499             11     18.0        59.0         74.0   \n",
       "3212     1499             12     14.0        66.0         69.0   \n",
       "3213     1446              8      0.0         1.0          4.0   \n",
       "\n",
       "      calls_duration tariff    city  messages_included  mb_per_month_included  \\\n",
       "3209            70.0  smart   Пермь                 50                  15360   \n",
       "3210           449.0  smart   Пермь                 50                  15360   \n",
       "3211           612.0  smart   Пермь                 50                  15360   \n",
       "3212           492.0  smart   Пермь                 50                  15360   \n",
       "3213            50.0  smart  Липецк                 50                  15360   \n",
       "\n",
       "      minutes_included  rub_monthly_fee  rub_per_gb  rub_per_message  \\\n",
       "3209               500              550         200                3   \n",
       "3210               500              550         200                3   \n",
       "3211               500              550         200                3   \n",
       "3212               500              550         200                3   \n",
       "3213               500              550         200                3   \n",
       "\n",
       "      rub_per_minute  gb_included  gb_overlimit  msgs_overlimit  \\\n",
       "3209               3           15           0.0             0.0   \n",
       "3210               3           15           3.0             0.0   \n",
       "3211               3           15           3.0             9.0   \n",
       "3212               3           15           0.0            16.0   \n",
       "3213               3           15           0.0             0.0   \n",
       "\n",
       "      minutes_overlimit  revenue  \n",
       "3209                0.0    550.0  \n",
       "3210                0.0   1150.0  \n",
       "3211              112.0   1513.0  \n",
       "3212                0.0    598.0  \n",
       "3213                0.0    550.0  "
      ]
     },
     "execution_count": 12,
     "metadata": {},
     "output_type": "execute_result"
    }
   ],
   "source": [
    "#2.4 Monthly revenue per customer\n",
    "data['revenue'] = data['rub_monthly_fee'] + data['gb_overlimit']*data['rub_per_gb'] + data['msgs_overlimit']*data['rub_per_message'] + data['minutes_overlimit']*data['rub_per_minute'] #calculate revenue\n",
    "data.tail()"
   ]
  },
  {
   "cell_type": "markdown",
   "metadata": {},
   "source": [
    "### Conclusion\n",
    "\n",
    "The data types have been changed.\n",
    "Auxiliary columns have also been added.\n",
    "\n",
    "For each customer, the following indicators were calculated and combined into one table, broken down by months:\n",
    "1) Number of calls made and minutes spent on conversation; <br/>\n",
    "2) The number of messages sent; <br/>\n",
    "3) The amount of Internet traffic used; <br/>\n",
    "4) Monthly revenue.<br/>\n",
    "\n",
    "The data above will be used for the further research."
   ]
  },
  {
   "cell_type": "markdown",
   "metadata": {},
   "source": [
    "<a id='third'></a>\n",
    "## 3. Data analysis"
   ]
  },
  {
   "cell_type": "code",
   "execution_count": 13,
   "metadata": {},
   "outputs": [
    {
     "name": "stdout",
     "output_type": "stream",
     "text": [
      "smart\n",
      "Mean calls_duration 417.9349484073576\n",
      "Variance: calls_duration 36203.06665209469\n",
      "Standard deviation: calls_duration 190.27103471651876\n",
      "\n",
      "Mean msgs_total 33.384028712427096\n",
      "Variance: msgs_total 796.455482917076\n",
      "Standard deviation: msgs_total 28.221542886898938\n",
      "\n",
      "Mean gb_used 16.695827725437415\n",
      "Variance: gb_used 34.528385463367684\n",
      "Standard deviation: gb_used 5.876085896527354\n",
      "\n",
      "ultra\n",
      "Mean calls_duration 526.6233502538071\n",
      "Variance: calls_duration 100771.2236172022\n",
      "Standard deviation: calls_duration 317.44483554974113\n",
      "\n",
      "Mean msgs_total 49.36345177664975\n",
      "Variance: msgs_total 2282.9460753948824\n",
      "Standard deviation: msgs_total 47.78018496610161\n",
      "\n",
      "Mean gb_used 19.965482233502538\n",
      "Variance: gb_used 101.92571207709551\n",
      "Standard deviation: gb_used 10.095826468253875\n",
      "\n"
     ]
    },
    {
     "data": {
      "image/png": "[encoded data removed]",
      "text/plain": [
       "<Figure size 432x288 with 1 Axes>"
      ]
     },
     "metadata": {
      "needs_background": "light"
     },
     "output_type": "display_data"
    },
    {
     "data": {
      "image/png": "[encoded data removed]",
      "text/plain": [
       "<Figure size 432x288 with 1 Axes>"
      ]
     },
     "metadata": {
      "needs_background": "light"
     },
     "output_type": "display_data"
    },
    {
     "data": {
      "image/png": "[encoded data removed]",
      "text/plain": [
       "<Figure size 432x288 with 1 Axes>"
      ]
     },
     "metadata": {
      "needs_background": "light"
     },
     "output_type": "display_data"
    },
    {
     "data": {
      "image/png": "[encoded data removed]",
      "text/plain": [
       "<Figure size 432x288 with 1 Axes>"
      ]
     },
     "metadata": {
      "needs_background": "light"
     },
     "output_type": "display_data"
    },
    {
     "data": {
      "image/png": "[encoded data removed]",
      "text/plain": [
       "<Figure size 432x288 with 1 Axes>"
      ]
     },
     "metadata": {
      "needs_background": "light"
     },
     "output_type": "display_data"
    },
    {
     "data": {
      "image/png": "[encoded data removed]",
      "text/plain": [
       "<Figure size 432x288 with 1 Axes>"
      ]
     },
     "metadata": {
      "needs_background": "light"
     },
     "output_type": "display_data"
    }
   ],
   "source": [
    "smart = data[data['tariff'] == 'smart'] \n",
    "ultra = data[data['tariff'] == 'ultra'] \n",
    "\n",
    "columns_cycle = ['calls_duration', 'msgs_total', 'gb_used'] \n",
    "dfs_cycle = [smart, ultra] \n",
    "for df in dfs_cycle: #for each df\n",
    "    print([x for x in globals() if globals()[x] is df][0]) #print df name\n",
    "    for column in columns_cycle: #for each column from columns_cycle\n",
    "        print('Mean', column, df[column].mean()) #get Mean\n",
    "        print('Variance:', column, np.var(df[column])) #get Variance\n",
    "        print('Standard deviation:', column, np.sqrt(np.var(df[column]))) #get Standard deviation\n",
    "        print()\n",
    "        df.hist(column) #get histograms\n",
    "        \n",
    "    "
   ]
  },
  {
   "cell_type": "code",
   "execution_count": 14,
   "metadata": {},
   "outputs": [
    {
     "data": {
      "text/plain": [
       "<AxesSubplot:ylabel='Frequency'>"
      ]
     },
     "execution_count": 14,
     "metadata": {},
     "output_type": "execute_result"
    },
    {
     "data": {
      "image/png": "[encoded data removed]",
      "text/plain": [
       "<Figure size 432x288 with 1 Axes>"
      ]
     },
     "metadata": {
      "needs_background": "light"
     },
     "output_type": "display_data"
    }
   ],
   "source": [
    "smart['calls_duration'].plot(kind='hist', bins=50, grid=True, density=True, alpha = 0.5)\n",
    "ultra['calls_duration'].plot(kind='hist', bins=50, grid=True, density=True, alpha = 0.5)"
   ]
  },
  {
   "cell_type": "markdown",
   "metadata": {},
   "source": [
    "### Conclusion\n",
    "\n",
    "After analyzing the graphs and indicators, the following conclusions can be drawn.\n",
    "\n",
    "Users using the Smart tariff make shorter calls  on average - 108 minutes, send 16 SMS less, and use 3 GB of Internet less. This can be explained by the fact that this tariff is chosen by users who, in general, plan to use mobile communications less, since fewer bonuses are included into the tariff. It is important to note that, on average, users exceed the limit of the Internet included in the tariff.\n",
    "\n",
    "At the same time, users of the Smart tariff differ less from each other in habits than users of the Ultra tariff - this can be estimated from the variance and standard deviation, which are higher for Ultra tariff users in all three cases. This again can be explained by the fact that users of the Smart tariff have fewer bonuses, thus, they are \"squeezed\" into a tighter framework when using tariffs.\n",
    "\n",
    "At the same time, according to the distribution graphs, it can be seen that in all cases the distribution is negatively skewed, while this skewness is more pronounced for the Ultra tariff. This suggests that more users use fewer minutes and GB of internet. Message generally correlate with each other - which indicates similar habits of users of both tariffs."
   ]
  },
  {
   "cell_type": "markdown",
   "metadata": {},
   "source": [
    "<a id='fourth'></a>\n",
    "## 4. Hypothesis testing"
   ]
  },
  {
   "cell_type": "markdown",
   "metadata": {},
   "source": [
    "Two hypotheses need to be tested:\n",
    "\n",
    "1) the average revenue of users of the \"Ultra\" and \"Smart\" tariffs differ; <br/>\n",
    "2) the average revenue of users from Moscow differs from the revenue of users from other regions\n",
    "\n",
    "The following formulations of the null and alternative hypotheses are proposed for the verification: <br/>\n",
    "1)<br/>\n",
    "H0: \"The average revenue of Ultra users is **equals** to the average revenue of Smart users\" <br/>\n",
    "H1: \"Average revenue of users of Ultra tariffs **does not equal** to average revenue of users of Smart tariffs\" <br/>\n",
    "\n",
    "2)<br />\n",
    "H0: \"The average revenue of users from Moscow **equals** the average revenue of users from other cities\" <br/>\n",
    "H1: \"The average revenue of users from Moscow **does not equal** to the average revenue of users from other cities\"\n",
    "\n",
    "The alternative hypothesis was formulated this way, since the conditions did not say anything about the direction of the revenue (more or less), therefore the hypothesis can remain two-sided.\n",
    "\n",
    "The alpha threshold will be set to 5%.\n",
    "The equal_var parameter is planned to be set to False, since the samples are of different sizes and it can be assumed that the variances of the populations of tariffs / cities are different."
   ]
  },
  {
   "cell_type": "code",
   "execution_count": 15,
   "metadata": {},
   "outputs": [
    {
     "name": "stdout",
     "output_type": "stream",
     "text": [
      "p-value: 9.070850352445897e-208\n",
      "Rejecting the null hypothesis\n"
     ]
    }
   ],
   "source": [
    "alpha = .05 \n",
    "\n",
    "hypothesis_1 = st.ttest_ind(smart['revenue'], ultra['revenue'], equal_var=False) #ttest revenue tariffs \n",
    "print('p-value:', hypothesis_1.pvalue) \n",
    "\n",
    "if hypothesis_1.pvalue < alpha: \n",
    "    print('Rejecting the null hypothesis') \n",
    "else: \n",
    "    print('It is not possible to reject the null hypothesis') "
   ]
  },
  {
   "cell_type": "code",
   "execution_count": 16,
   "metadata": {},
   "outputs": [
    {
     "name": "stdout",
     "output_type": "stream",
     "text": [
      "Mean revenue smart 1345.962763571108\n",
      "Mean revenue ultra 2089.340101522843\n",
      "Standard deviation smart: 854.8137537328399\n",
      "Standard deviation ultra: 413.3287810995853\n"
     ]
    }
   ],
   "source": [
    "print('Mean revenue smart', smart['revenue'].mean()) \n",
    "print('Mean revenue ultra', ultra['revenue'].mean()) \n",
    "print('Standard deviation smart:', np.std(smart['revenue'])) \n",
    "print('Standard deviation ultra:', np.std(ultra['revenue'])) "
   ]
  },
  {
   "cell_type": "code",
   "execution_count": 17,
   "metadata": {},
   "outputs": [
    {
     "data": {
      "text/html": [
       "<div>\n",
       "<style scoped>\n",
       "    .dataframe tbody tr th:only-of-type {\n",
       "        vertical-align: middle;\n",
       "    }\n",
       "\n",
       "    .dataframe tbody tr th {\n",
       "        vertical-align: top;\n",
       "    }\n",
       "\n",
       "    .dataframe thead th {\n",
       "        text-align: right;\n",
       "    }\n",
       "</style>\n",
       "<table border=\"1\" class=\"dataframe\">\n",
       "  <thead>\n",
       "    <tr style=\"text-align: right;\">\n",
       "      <th></th>\n",
       "      <th>user_id</th>\n",
       "      <th>session_month</th>\n",
       "      <th>gb_used</th>\n",
       "      <th>msgs_total</th>\n",
       "      <th>calls_total</th>\n",
       "      <th>calls_duration</th>\n",
       "      <th>tariff</th>\n",
       "      <th>city</th>\n",
       "      <th>messages_included</th>\n",
       "      <th>mb_per_month_included</th>\n",
       "      <th>minutes_included</th>\n",
       "      <th>rub_monthly_fee</th>\n",
       "      <th>rub_per_gb</th>\n",
       "      <th>rub_per_message</th>\n",
       "      <th>rub_per_minute</th>\n",
       "      <th>gb_included</th>\n",
       "      <th>gb_overlimit</th>\n",
       "      <th>msgs_overlimit</th>\n",
       "      <th>minutes_overlimit</th>\n",
       "      <th>revenue</th>\n",
       "    </tr>\n",
       "  </thead>\n",
       "  <tbody>\n",
       "    <tr>\n",
       "      <th>8</th>\n",
       "      <td>1003</td>\n",
       "      <td>8</td>\n",
       "      <td>9.0</td>\n",
       "      <td>37.0</td>\n",
       "      <td>55.0</td>\n",
       "      <td>380.0</td>\n",
       "      <td>ultra</td>\n",
       "      <td>Москва</td>\n",
       "      <td>1000</td>\n",
       "      <td>30720</td>\n",
       "      <td>3000</td>\n",
       "      <td>1950</td>\n",
       "      <td>150</td>\n",
       "      <td>1</td>\n",
       "      <td>1</td>\n",
       "      <td>30</td>\n",
       "      <td>0.0</td>\n",
       "      <td>0.0</td>\n",
       "      <td>0.0</td>\n",
       "      <td>1950.0</td>\n",
       "    </tr>\n",
       "    <tr>\n",
       "      <th>9</th>\n",
       "      <td>1003</td>\n",
       "      <td>9</td>\n",
       "      <td>13.0</td>\n",
       "      <td>91.0</td>\n",
       "      <td>134.0</td>\n",
       "      <td>961.0</td>\n",
       "      <td>ultra</td>\n",
       "      <td>Москва</td>\n",
       "      <td>1000</td>\n",
       "      <td>30720</td>\n",
       "      <td>3000</td>\n",
       "      <td>1950</td>\n",
       "      <td>150</td>\n",
       "      <td>1</td>\n",
       "      <td>1</td>\n",
       "      <td>30</td>\n",
       "      <td>0.0</td>\n",
       "      <td>0.0</td>\n",
       "      <td>0.0</td>\n",
       "      <td>1950.0</td>\n",
       "    </tr>\n",
       "    <tr>\n",
       "      <th>10</th>\n",
       "      <td>1003</td>\n",
       "      <td>10</td>\n",
       "      <td>15.0</td>\n",
       "      <td>83.0</td>\n",
       "      <td>108.0</td>\n",
       "      <td>855.0</td>\n",
       "      <td>ultra</td>\n",
       "      <td>Москва</td>\n",
       "      <td>1000</td>\n",
       "      <td>30720</td>\n",
       "      <td>3000</td>\n",
       "      <td>1950</td>\n",
       "      <td>150</td>\n",
       "      <td>1</td>\n",
       "      <td>1</td>\n",
       "      <td>30</td>\n",
       "      <td>0.0</td>\n",
       "      <td>0.0</td>\n",
       "      <td>0.0</td>\n",
       "      <td>1950.0</td>\n",
       "    </tr>\n",
       "    <tr>\n",
       "      <th>11</th>\n",
       "      <td>1003</td>\n",
       "      <td>11</td>\n",
       "      <td>12.0</td>\n",
       "      <td>94.0</td>\n",
       "      <td>115.0</td>\n",
       "      <td>824.0</td>\n",
       "      <td>ultra</td>\n",
       "      <td>Москва</td>\n",
       "      <td>1000</td>\n",
       "      <td>30720</td>\n",
       "      <td>3000</td>\n",
       "      <td>1950</td>\n",
       "      <td>150</td>\n",
       "      <td>1</td>\n",
       "      <td>1</td>\n",
       "      <td>30</td>\n",
       "      <td>0.0</td>\n",
       "      <td>0.0</td>\n",
       "      <td>0.0</td>\n",
       "      <td>1950.0</td>\n",
       "    </tr>\n",
       "    <tr>\n",
       "      <th>12</th>\n",
       "      <td>1003</td>\n",
       "      <td>12</td>\n",
       "      <td>11.0</td>\n",
       "      <td>75.0</td>\n",
       "      <td>108.0</td>\n",
       "      <td>802.0</td>\n",
       "      <td>ultra</td>\n",
       "      <td>Москва</td>\n",
       "      <td>1000</td>\n",
       "      <td>30720</td>\n",
       "      <td>3000</td>\n",
       "      <td>1950</td>\n",
       "      <td>150</td>\n",
       "      <td>1</td>\n",
       "      <td>1</td>\n",
       "      <td>30</td>\n",
       "      <td>0.0</td>\n",
       "      <td>0.0</td>\n",
       "      <td>0.0</td>\n",
       "      <td>1950.0</td>\n",
       "    </tr>\n",
       "  </tbody>\n",
       "</table>\n",
       "</div>"
      ],
      "text/plain": [
       "    user_id  session_month  gb_used  msgs_total  calls_total  calls_duration  \\\n",
       "8      1003              8      9.0        37.0         55.0           380.0   \n",
       "9      1003              9     13.0        91.0        134.0           961.0   \n",
       "10     1003             10     15.0        83.0        108.0           855.0   \n",
       "11     1003             11     12.0        94.0        115.0           824.0   \n",
       "12     1003             12     11.0        75.0        108.0           802.0   \n",
       "\n",
       "   tariff    city  messages_included  mb_per_month_included  minutes_included  \\\n",
       "8   ultra  Москва               1000                  30720              3000   \n",
       "9   ultra  Москва               1000                  30720              3000   \n",
       "10  ultra  Москва               1000                  30720              3000   \n",
       "11  ultra  Москва               1000                  30720              3000   \n",
       "12  ultra  Москва               1000                  30720              3000   \n",
       "\n",
       "    rub_monthly_fee  rub_per_gb  rub_per_message  rub_per_minute  gb_included  \\\n",
       "8              1950         150                1               1           30   \n",
       "9              1950         150                1               1           30   \n",
       "10             1950         150                1               1           30   \n",
       "11             1950         150                1               1           30   \n",
       "12             1950         150                1               1           30   \n",
       "\n",
       "    gb_overlimit  msgs_overlimit  minutes_overlimit  revenue  \n",
       "8            0.0             0.0                0.0   1950.0  \n",
       "9            0.0             0.0                0.0   1950.0  \n",
       "10           0.0             0.0                0.0   1950.0  \n",
       "11           0.0             0.0                0.0   1950.0  \n",
       "12           0.0             0.0                0.0   1950.0  "
      ]
     },
     "metadata": {},
     "output_type": "display_data"
    },
    {
     "data": {
      "text/plain": [
       "611"
      ]
     },
     "metadata": {},
     "output_type": "display_data"
    },
    {
     "data": {
      "text/html": [
       "<div>\n",
       "<style scoped>\n",
       "    .dataframe tbody tr th:only-of-type {\n",
       "        vertical-align: middle;\n",
       "    }\n",
       "\n",
       "    .dataframe tbody tr th {\n",
       "        vertical-align: top;\n",
       "    }\n",
       "\n",
       "    .dataframe thead th {\n",
       "        text-align: right;\n",
       "    }\n",
       "</style>\n",
       "<table border=\"1\" class=\"dataframe\">\n",
       "  <thead>\n",
       "    <tr style=\"text-align: right;\">\n",
       "      <th></th>\n",
       "      <th>user_id</th>\n",
       "      <th>session_month</th>\n",
       "      <th>gb_used</th>\n",
       "      <th>msgs_total</th>\n",
       "      <th>calls_total</th>\n",
       "      <th>calls_duration</th>\n",
       "      <th>tariff</th>\n",
       "      <th>city</th>\n",
       "      <th>messages_included</th>\n",
       "      <th>mb_per_month_included</th>\n",
       "      <th>minutes_included</th>\n",
       "      <th>rub_monthly_fee</th>\n",
       "      <th>rub_per_gb</th>\n",
       "      <th>rub_per_message</th>\n",
       "      <th>rub_per_minute</th>\n",
       "      <th>gb_included</th>\n",
       "      <th>gb_overlimit</th>\n",
       "      <th>msgs_overlimit</th>\n",
       "      <th>minutes_overlimit</th>\n",
       "      <th>revenue</th>\n",
       "    </tr>\n",
       "  </thead>\n",
       "  <tbody>\n",
       "    <tr>\n",
       "      <th>0</th>\n",
       "      <td>1000</td>\n",
       "      <td>5</td>\n",
       "      <td>3.0</td>\n",
       "      <td>22.0</td>\n",
       "      <td>22.0</td>\n",
       "      <td>159.0</td>\n",
       "      <td>ultra</td>\n",
       "      <td>Краснодар</td>\n",
       "      <td>1000</td>\n",
       "      <td>30720</td>\n",
       "      <td>3000</td>\n",
       "      <td>1950</td>\n",
       "      <td>150</td>\n",
       "      <td>1</td>\n",
       "      <td>1</td>\n",
       "      <td>30</td>\n",
       "      <td>0.0</td>\n",
       "      <td>0.0</td>\n",
       "      <td>0.0</td>\n",
       "      <td>1950.0</td>\n",
       "    </tr>\n",
       "    <tr>\n",
       "      <th>1</th>\n",
       "      <td>1000</td>\n",
       "      <td>6</td>\n",
       "      <td>24.0</td>\n",
       "      <td>60.0</td>\n",
       "      <td>43.0</td>\n",
       "      <td>172.0</td>\n",
       "      <td>ultra</td>\n",
       "      <td>Краснодар</td>\n",
       "      <td>1000</td>\n",
       "      <td>30720</td>\n",
       "      <td>3000</td>\n",
       "      <td>1950</td>\n",
       "      <td>150</td>\n",
       "      <td>1</td>\n",
       "      <td>1</td>\n",
       "      <td>30</td>\n",
       "      <td>0.0</td>\n",
       "      <td>0.0</td>\n",
       "      <td>0.0</td>\n",
       "      <td>1950.0</td>\n",
       "    </tr>\n",
       "    <tr>\n",
       "      <th>2</th>\n",
       "      <td>1000</td>\n",
       "      <td>7</td>\n",
       "      <td>15.0</td>\n",
       "      <td>75.0</td>\n",
       "      <td>47.0</td>\n",
       "      <td>340.0</td>\n",
       "      <td>ultra</td>\n",
       "      <td>Краснодар</td>\n",
       "      <td>1000</td>\n",
       "      <td>30720</td>\n",
       "      <td>3000</td>\n",
       "      <td>1950</td>\n",
       "      <td>150</td>\n",
       "      <td>1</td>\n",
       "      <td>1</td>\n",
       "      <td>30</td>\n",
       "      <td>0.0</td>\n",
       "      <td>0.0</td>\n",
       "      <td>0.0</td>\n",
       "      <td>1950.0</td>\n",
       "    </tr>\n",
       "    <tr>\n",
       "      <th>3</th>\n",
       "      <td>1000</td>\n",
       "      <td>8</td>\n",
       "      <td>15.0</td>\n",
       "      <td>81.0</td>\n",
       "      <td>52.0</td>\n",
       "      <td>408.0</td>\n",
       "      <td>ultra</td>\n",
       "      <td>Краснодар</td>\n",
       "      <td>1000</td>\n",
       "      <td>30720</td>\n",
       "      <td>3000</td>\n",
       "      <td>1950</td>\n",
       "      <td>150</td>\n",
       "      <td>1</td>\n",
       "      <td>1</td>\n",
       "      <td>30</td>\n",
       "      <td>0.0</td>\n",
       "      <td>0.0</td>\n",
       "      <td>0.0</td>\n",
       "      <td>1950.0</td>\n",
       "    </tr>\n",
       "    <tr>\n",
       "      <th>4</th>\n",
       "      <td>1000</td>\n",
       "      <td>9</td>\n",
       "      <td>15.0</td>\n",
       "      <td>57.0</td>\n",
       "      <td>58.0</td>\n",
       "      <td>466.0</td>\n",
       "      <td>ultra</td>\n",
       "      <td>Краснодар</td>\n",
       "      <td>1000</td>\n",
       "      <td>30720</td>\n",
       "      <td>3000</td>\n",
       "      <td>1950</td>\n",
       "      <td>150</td>\n",
       "      <td>1</td>\n",
       "      <td>1</td>\n",
       "      <td>30</td>\n",
       "      <td>0.0</td>\n",
       "      <td>0.0</td>\n",
       "      <td>0.0</td>\n",
       "      <td>1950.0</td>\n",
       "    </tr>\n",
       "  </tbody>\n",
       "</table>\n",
       "</div>"
      ],
      "text/plain": [
       "   user_id  session_month  gb_used  msgs_total  calls_total  calls_duration  \\\n",
       "0     1000              5      3.0        22.0         22.0           159.0   \n",
       "1     1000              6     24.0        60.0         43.0           172.0   \n",
       "2     1000              7     15.0        75.0         47.0           340.0   \n",
       "3     1000              8     15.0        81.0         52.0           408.0   \n",
       "4     1000              9     15.0        57.0         58.0           466.0   \n",
       "\n",
       "  tariff       city  messages_included  mb_per_month_included  \\\n",
       "0  ultra  Краснодар               1000                  30720   \n",
       "1  ultra  Краснодар               1000                  30720   \n",
       "2  ultra  Краснодар               1000                  30720   \n",
       "3  ultra  Краснодар               1000                  30720   \n",
       "4  ultra  Краснодар               1000                  30720   \n",
       "\n",
       "   minutes_included  rub_monthly_fee  rub_per_gb  rub_per_message  \\\n",
       "0              3000             1950         150                1   \n",
       "1              3000             1950         150                1   \n",
       "2              3000             1950         150                1   \n",
       "3              3000             1950         150                1   \n",
       "4              3000             1950         150                1   \n",
       "\n",
       "   rub_per_minute  gb_included  gb_overlimit  msgs_overlimit  \\\n",
       "0               1           30           0.0             0.0   \n",
       "1               1           30           0.0             0.0   \n",
       "2               1           30           0.0             0.0   \n",
       "3               1           30           0.0             0.0   \n",
       "4               1           30           0.0             0.0   \n",
       "\n",
       "   minutes_overlimit  revenue  \n",
       "0                0.0   1950.0  \n",
       "1                0.0   1950.0  \n",
       "2                0.0   1950.0  \n",
       "3                0.0   1950.0  \n",
       "4                0.0   1950.0  "
      ]
     },
     "metadata": {},
     "output_type": "display_data"
    },
    {
     "data": {
      "text/plain": [
       "2603"
      ]
     },
     "metadata": {},
     "output_type": "display_data"
    },
    {
     "name": "stdout",
     "output_type": "stream",
     "text": [
      "p-value: 0.5846845024565437\n",
      "It is not possible to reject the null hypothesis\n"
     ]
    }
   ],
   "source": [
    "moscow = data[data['city'] == 'Москва'] \n",
    "other_cities = data[data['city'] != 'Москва'] \n",
    "display(moscow.head(), moscow.shape[0]) #check\n",
    "display(other_cities.head(), other_cities.shape[0]) #check\n",
    "\n",
    "hypothesis_2 = st.ttest_ind(moscow['revenue'], other_cities['revenue'], equal_var=False) #ttest revenue cities\n",
    "print('p-value:', hypothesis_2.pvalue) \n",
    "\n",
    "if hypothesis_2.pvalue < alpha: \n",
    "    print('Rejecting the null hypothesis')  \n",
    "else: \n",
    "    print('It is not possible to reject the null hypothesis') "
   ]
  },
  {
   "cell_type": "code",
   "execution_count": 18,
   "metadata": {
    "scrolled": true
   },
   "outputs": [
    {
     "name": "stdout",
     "output_type": "stream",
     "text": [
      "Mean revenue Moscow 1589.430441898527\n",
      "Mean revenue Other cities 1570.1148674606225\n",
      "Standard deviation Moscow: 773.6007227389507\n",
      "Standard deviation Other cities: 833.5738084555883\n"
     ]
    }
   ],
   "source": [
    "print('Mean revenue Moscow', moscow['revenue'].mean()) \n",
    "print('Mean revenue Other cities', other_cities['revenue'].mean()) \n",
    "print('Standard deviation Moscow:', np.std(moscow['revenue'])) \n",
    "print('Standard deviation Other cities:', np.std(other_cities['revenue'])) "
   ]
  },
  {
   "cell_type": "markdown",
   "metadata": {},
   "source": [
    "### Conclusion\n",
    "\n",
    "1) Average revenue of Ultra and Smart tariff users **differs**; <br/>\n",
    "2) The average revenue of users from Moscow **does not differ** from the revenue of users from other regions\n",
    "\n",
    "The resulting p-value indicates the probability of getting such or higher difference by chance. In the first case, the value is very small - below the critical level - hence the choice is made in favor of an alternative hypothesis. In the second case, the probability is too high (58%) to conclude that there is a significant difference between average revenues."
   ]
  },
  {
   "cell_type": "markdown",
   "metadata": {},
   "source": [
    "<a id='fifth'></a>\n",
    "## 5. Final conclusion"
   ]
  },
  {
   "cell_type": "markdown",
   "metadata": {},
   "source": [
    "Based on the preliminary analysis, we can conclude that Ultra tariff users use cellular services more \"actively\", making more calls, consuming more Internet traffic and sending out more SMS. At the same time, these users differ more from each other in habits than users of the Smart tariff.\n",
    "\n",
    "Users of the Ultra tariff bring on average higher revenue than Smart tariff users. At the same time, the average revenue of tariff users differs, while the user's city of residence does not have a big impact.\n",
    "\n",
    "Based on the preliminary analysis, we can conclude that the Ultra tariff brings more money to the company."
   ]
  }
 ],
 "metadata": {
  "ExecuteTimeLog": [
   {
    "duration": 906,
    "start_time": "2022-01-16T13:15:18.984Z"
   },
   {
    "duration": 151,
    "start_time": "2022-01-16T13:15:52.087Z"
   },
   {
    "duration": 418,
    "start_time": "2022-01-16T13:16:20.200Z"
   },
   {
    "duration": 167,
    "start_time": "2022-01-16T13:16:28.607Z"
   },
   {
    "duration": 147,
    "start_time": "2022-01-16T13:17:18.002Z"
   },
   {
    "duration": 410,
    "start_time": "2022-01-16T13:19:38.056Z"
   },
   {
    "duration": 427,
    "start_time": "2022-01-16T13:20:07.326Z"
   },
   {
    "duration": 426,
    "start_time": "2022-01-16T13:20:13.313Z"
   },
   {
    "duration": 414,
    "start_time": "2022-01-16T13:20:17.673Z"
   },
   {
    "duration": 420,
    "start_time": "2022-01-16T13:21:33.038Z"
   },
   {
    "duration": 417,
    "start_time": "2022-01-16T13:22:04.465Z"
   },
   {
    "duration": 398,
    "start_time": "2022-01-16T13:22:17.651Z"
   },
   {
    "duration": 406,
    "start_time": "2022-01-16T13:22:29.276Z"
   },
   {
    "duration": 1002,
    "start_time": "2022-01-16T13:29:14.105Z"
   },
   {
    "duration": 458,
    "start_time": "2022-01-16T13:29:34.965Z"
   },
   {
    "duration": 524,
    "start_time": "2022-01-16T13:30:13.017Z"
   },
   {
    "duration": 494,
    "start_time": "2022-01-16T13:31:19.826Z"
   },
   {
    "duration": 214,
    "start_time": "2022-01-16T14:30:33.924Z"
   },
   {
    "duration": 53,
    "start_time": "2022-01-16T14:30:59.679Z"
   },
   {
    "duration": 285,
    "start_time": "2022-01-16T14:33:08.009Z"
   },
   {
    "duration": 17,
    "start_time": "2022-01-16T14:33:16.272Z"
   },
   {
    "duration": 284,
    "start_time": "2022-01-16T14:40:55.139Z"
   },
   {
    "duration": 255,
    "start_time": "2022-01-16T14:41:16.253Z"
   },
   {
    "duration": 375,
    "start_time": "2022-01-16T14:42:08.177Z"
   },
   {
    "duration": 256,
    "start_time": "2022-01-16T14:42:18.655Z"
   },
   {
    "duration": 18,
    "start_time": "2022-01-16T14:42:46.958Z"
   },
   {
    "duration": 19,
    "start_time": "2022-01-16T14:43:19.551Z"
   },
   {
    "duration": 117,
    "start_time": "2022-01-16T14:43:58.673Z"
   },
   {
    "duration": 429,
    "start_time": "2022-01-16T14:44:04.700Z"
   },
   {
    "duration": 1139,
    "start_time": "2022-01-16T14:46:32.676Z"
   },
   {
    "duration": 98,
    "start_time": "2022-01-16T14:46:33.817Z"
   },
   {
    "duration": 1109,
    "start_time": "2022-01-16T14:47:23.371Z"
   },
   {
    "duration": 93,
    "start_time": "2022-01-16T14:47:24.483Z"
   },
   {
    "duration": 15,
    "start_time": "2022-01-16T14:47:24.578Z"
   },
   {
    "duration": 70,
    "start_time": "2022-01-16T14:47:24.595Z"
   },
   {
    "duration": 528,
    "start_time": "2022-01-16T14:47:57.392Z"
   },
   {
    "duration": 85,
    "start_time": "2022-01-16T14:47:57.922Z"
   },
   {
    "duration": 7,
    "start_time": "2022-01-16T14:47:58.009Z"
   },
   {
    "duration": 27,
    "start_time": "2022-01-16T14:47:58.018Z"
   },
   {
    "duration": 22,
    "start_time": "2022-01-16T14:47:58.047Z"
   },
   {
    "duration": 70,
    "start_time": "2022-01-16T14:47:58.071Z"
   },
   {
    "duration": 324,
    "start_time": "2022-01-16T14:48:30.553Z"
   },
   {
    "duration": 24,
    "start_time": "2022-01-16T14:48:35.389Z"
   },
   {
    "duration": 20,
    "start_time": "2022-01-16T14:48:46.127Z"
   },
   {
    "duration": 524,
    "start_time": "2022-01-16T14:48:50.302Z"
   },
   {
    "duration": 92,
    "start_time": "2022-01-16T14:48:50.828Z"
   },
   {
    "duration": 28,
    "start_time": "2022-01-16T14:48:50.923Z"
   },
   {
    "duration": 18,
    "start_time": "2022-01-16T14:48:50.952Z"
   },
   {
    "duration": 34,
    "start_time": "2022-01-16T14:48:50.974Z"
   },
   {
    "duration": 70,
    "start_time": "2022-01-16T14:48:51.010Z"
   },
   {
    "duration": 19,
    "start_time": "2022-01-16T14:49:42.475Z"
   },
   {
    "duration": 506,
    "start_time": "2022-01-16T14:49:47.912Z"
   },
   {
    "duration": 124,
    "start_time": "2022-01-16T14:49:48.421Z"
   },
   {
    "duration": 24,
    "start_time": "2022-01-16T14:49:48.548Z"
   },
   {
    "duration": 12,
    "start_time": "2022-01-16T14:49:48.575Z"
   },
   {
    "duration": 20,
    "start_time": "2022-01-16T14:49:48.589Z"
   },
   {
    "duration": 86,
    "start_time": "2022-01-16T14:49:48.611Z"
   },
   {
    "duration": 11,
    "start_time": "2022-01-16T14:50:14.014Z"
   },
   {
    "duration": 12,
    "start_time": "2022-01-16T14:50:18.293Z"
   },
   {
    "duration": 20,
    "start_time": "2022-01-16T14:50:20.474Z"
   },
   {
    "duration": 497,
    "start_time": "2022-01-16T14:50:23.504Z"
   },
   {
    "duration": 105,
    "start_time": "2022-01-16T14:50:24.003Z"
   },
   {
    "duration": 14,
    "start_time": "2022-01-16T14:50:24.111Z"
   },
   {
    "duration": 16,
    "start_time": "2022-01-16T14:50:24.127Z"
   },
   {
    "duration": 42,
    "start_time": "2022-01-16T14:50:24.146Z"
   },
   {
    "duration": 52,
    "start_time": "2022-01-16T14:50:24.191Z"
   },
   {
    "duration": 254,
    "start_time": "2022-01-16T14:50:55.999Z"
   },
   {
    "duration": 110,
    "start_time": "2022-01-16T14:51:10.176Z"
   },
   {
    "duration": 5245,
    "start_time": "2022-01-16T14:51:12.190Z"
   },
   {
    "duration": 6,
    "start_time": "2022-01-16T14:51:56.518Z"
   },
   {
    "duration": 5,
    "start_time": "2022-01-16T14:52:08.392Z"
   },
   {
    "duration": 1100,
    "start_time": "2022-01-16T14:52:47.317Z"
   },
   {
    "duration": 87,
    "start_time": "2022-01-16T14:52:48.419Z"
   },
   {
    "duration": 13,
    "start_time": "2022-01-16T14:52:48.508Z"
   },
   {
    "duration": 10,
    "start_time": "2022-01-16T14:52:48.523Z"
   },
   {
    "duration": 22,
    "start_time": "2022-01-16T14:52:48.600Z"
   },
   {
    "duration": 15,
    "start_time": "2022-01-16T14:52:48.624Z"
   },
   {
    "duration": 55,
    "start_time": "2022-01-16T14:52:48.641Z"
   },
   {
    "duration": 28,
    "start_time": "2022-01-16T14:56:13.773Z"
   },
   {
    "duration": 26,
    "start_time": "2022-01-16T14:56:51.146Z"
   },
   {
    "duration": 21,
    "start_time": "2022-01-16T14:56:55.922Z"
   },
   {
    "duration": 1260,
    "start_time": "2022-01-16T14:57:16.439Z"
   },
   {
    "duration": 101,
    "start_time": "2022-01-16T14:57:17.701Z"
   },
   {
    "duration": 26,
    "start_time": "2022-01-16T14:57:17.804Z"
   },
   {
    "duration": 71,
    "start_time": "2022-01-16T14:57:17.832Z"
   },
   {
    "duration": 310,
    "start_time": "2022-01-16T15:13:36.983Z"
   },
   {
    "duration": 1132,
    "start_time": "2022-01-16T15:13:52.792Z"
   },
   {
    "duration": 92,
    "start_time": "2022-01-16T15:13:53.926Z"
   },
   {
    "duration": 345,
    "start_time": "2022-01-16T15:13:54.021Z"
   },
   {
    "duration": 202,
    "start_time": "2022-01-16T15:13:54.167Z"
   },
   {
    "duration": 1267,
    "start_time": "2022-01-16T15:15:35.764Z"
   },
   {
    "duration": 105,
    "start_time": "2022-01-16T15:15:37.033Z"
   },
   {
    "duration": 46,
    "start_time": "2022-01-16T15:15:37.140Z"
   },
   {
    "duration": 73,
    "start_time": "2022-01-16T15:15:37.188Z"
   },
   {
    "duration": 33,
    "start_time": "2022-01-16T15:20:13.252Z"
   },
   {
    "duration": 13,
    "start_time": "2022-01-16T15:20:38.013Z"
   },
   {
    "duration": 99,
    "start_time": "2022-01-16T15:21:35.272Z"
   },
   {
    "duration": 62,
    "start_time": "2022-01-16T15:21:40.471Z"
   },
   {
    "duration": 396,
    "start_time": "2022-01-16T15:23:45.891Z"
   },
   {
    "duration": 52,
    "start_time": "2022-01-16T15:23:56.398Z"
   },
   {
    "duration": 266,
    "start_time": "2022-01-16T15:24:11.458Z"
   },
   {
    "duration": 247,
    "start_time": "2022-01-16T15:24:29.246Z"
   },
   {
    "duration": 41,
    "start_time": "2022-01-16T15:24:56.123Z"
   },
   {
    "duration": 261,
    "start_time": "2022-01-16T15:26:22.761Z"
   },
   {
    "duration": 39,
    "start_time": "2022-01-16T15:26:59.239Z"
   },
   {
    "duration": 38,
    "start_time": "2022-01-16T15:27:12.693Z"
   },
   {
    "duration": 56,
    "start_time": "2022-01-16T15:27:16.608Z"
   },
   {
    "duration": 36,
    "start_time": "2022-01-16T15:27:21.231Z"
   },
   {
    "duration": 36,
    "start_time": "2022-01-16T15:28:58.919Z"
   },
   {
    "duration": 31,
    "start_time": "2022-01-16T15:30:06.948Z"
   },
   {
    "duration": 35,
    "start_time": "2022-01-16T15:30:19.265Z"
   },
   {
    "duration": 57,
    "start_time": "2022-01-16T15:30:44.627Z"
   },
   {
    "duration": 39,
    "start_time": "2022-01-16T15:30:47.645Z"
   },
   {
    "duration": 15,
    "start_time": "2022-01-16T15:42:57.521Z"
   },
   {
    "duration": 21,
    "start_time": "2022-01-16T15:43:22.406Z"
   },
   {
    "duration": 37,
    "start_time": "2022-01-16T15:45:11.906Z"
   },
   {
    "duration": 36,
    "start_time": "2022-01-16T15:45:23.221Z"
   },
   {
    "duration": 20,
    "start_time": "2022-01-16T15:45:25.833Z"
   },
   {
    "duration": 46,
    "start_time": "2022-01-16T15:48:32.920Z"
   },
   {
    "duration": 91,
    "start_time": "2022-01-16T15:49:14.007Z"
   },
   {
    "duration": 30,
    "start_time": "2022-01-16T15:49:19.609Z"
   },
   {
    "duration": 28,
    "start_time": "2022-01-16T15:49:26.911Z"
   },
   {
    "duration": 186,
    "start_time": "2022-01-16T15:52:37.049Z"
   },
   {
    "duration": 6726,
    "start_time": "2022-01-16T15:52:40.758Z"
   },
   {
    "duration": 6200,
    "start_time": "2022-01-16T15:52:53.432Z"
   },
   {
    "duration": 13,
    "start_time": "2022-01-16T15:53:46.876Z"
   },
   {
    "duration": 247,
    "start_time": "2022-01-16T15:53:59.482Z"
   },
   {
    "duration": 11,
    "start_time": "2022-01-16T15:54:04.254Z"
   },
   {
    "duration": 39,
    "start_time": "2022-01-16T15:54:44.431Z"
   },
   {
    "duration": 37,
    "start_time": "2022-01-16T15:54:53.278Z"
   },
   {
    "duration": 26,
    "start_time": "2022-01-16T15:55:03.858Z"
   },
   {
    "duration": 6,
    "start_time": "2022-01-16T15:55:08.005Z"
   },
   {
    "duration": 4724,
    "start_time": "2022-01-16T15:55:13.250Z"
   },
   {
    "duration": 5239,
    "start_time": "2022-01-16T15:55:30.585Z"
   },
   {
    "duration": 6385,
    "start_time": "2022-01-16T15:55:37.157Z"
   },
   {
    "duration": 6743,
    "start_time": "2022-01-16T15:55:44.502Z"
   },
   {
    "duration": 7604,
    "start_time": "2022-01-16T15:55:57.398Z"
   },
   {
    "duration": 651,
    "start_time": "2022-01-16T15:58:03.016Z"
   },
   {
    "duration": 22,
    "start_time": "2022-01-16T15:58:17.775Z"
   },
   {
    "duration": 334,
    "start_time": "2022-01-16T15:59:18.948Z"
   },
   {
    "duration": 266,
    "start_time": "2022-01-16T16:00:44.175Z"
   },
   {
    "duration": 261,
    "start_time": "2022-01-16T16:01:33.875Z"
   },
   {
    "duration": 20,
    "start_time": "2022-01-16T16:01:49.283Z"
   },
   {
    "duration": 24,
    "start_time": "2022-01-16T16:02:03.255Z"
   },
   {
    "duration": 30,
    "start_time": "2022-01-16T16:02:22.152Z"
   },
   {
    "duration": 42,
    "start_time": "2022-01-16T16:17:24.724Z"
   },
   {
    "duration": 370,
    "start_time": "2022-01-16T16:17:52.989Z"
   },
   {
    "duration": 43,
    "start_time": "2022-01-16T16:18:05.919Z"
   },
   {
    "duration": 29,
    "start_time": "2022-01-16T16:18:36.128Z"
   },
   {
    "duration": 15,
    "start_time": "2022-01-16T16:18:58.519Z"
   },
   {
    "duration": 10,
    "start_time": "2022-01-16T16:19:13.285Z"
   },
   {
    "duration": 10,
    "start_time": "2022-01-16T16:19:30.139Z"
   },
   {
    "duration": 1089,
    "start_time": "2022-01-16T16:19:46.896Z"
   },
   {
    "duration": 97,
    "start_time": "2022-01-16T16:19:47.987Z"
   },
   {
    "duration": 11,
    "start_time": "2022-01-16T16:19:48.087Z"
   },
   {
    "duration": 64,
    "start_time": "2022-01-16T16:19:48.100Z"
   },
   {
    "duration": 45,
    "start_time": "2022-01-16T16:19:48.167Z"
   },
   {
    "duration": 48,
    "start_time": "2022-01-16T16:19:48.213Z"
   },
   {
    "duration": 34,
    "start_time": "2022-01-16T16:19:48.264Z"
   },
   {
    "duration": 14,
    "start_time": "2022-01-16T16:19:48.300Z"
   },
   {
    "duration": 1152,
    "start_time": "2022-01-16T20:19:34.015Z"
   },
   {
    "duration": 80,
    "start_time": "2022-01-16T20:19:35.169Z"
   },
   {
    "duration": 19,
    "start_time": "2022-01-16T20:19:35.264Z"
   },
   {
    "duration": 55,
    "start_time": "2022-01-16T20:19:35.286Z"
   },
   {
    "duration": 61,
    "start_time": "2022-01-16T20:19:35.343Z"
   },
   {
    "duration": 31,
    "start_time": "2022-01-16T20:19:35.406Z"
   },
   {
    "duration": 53,
    "start_time": "2022-01-16T20:19:35.439Z"
   },
   {
    "duration": 14,
    "start_time": "2022-01-16T20:19:35.494Z"
   },
   {
    "duration": 23,
    "start_time": "2022-01-16T20:27:48.717Z"
   },
   {
    "duration": 24,
    "start_time": "2022-01-16T20:29:31.085Z"
   },
   {
    "duration": 21,
    "start_time": "2022-01-16T20:29:52.135Z"
   },
   {
    "duration": 18,
    "start_time": "2022-01-16T20:30:43.548Z"
   },
   {
    "duration": 20,
    "start_time": "2022-01-16T20:31:00.222Z"
   },
   {
    "duration": 29,
    "start_time": "2022-01-16T20:31:07.859Z"
   },
   {
    "duration": 93,
    "start_time": "2022-01-16T20:31:18.886Z"
   },
   {
    "duration": 27,
    "start_time": "2022-01-16T20:31:51.574Z"
   },
   {
    "duration": 61,
    "start_time": "2022-01-16T20:31:51.603Z"
   },
   {
    "duration": 10,
    "start_time": "2022-01-16T20:32:12.943Z"
   },
   {
    "duration": 37,
    "start_time": "2022-01-16T20:34:35.693Z"
   },
   {
    "duration": 117,
    "start_time": "2022-01-16T20:35:58.835Z"
   },
   {
    "duration": 35,
    "start_time": "2022-01-16T20:36:08.081Z"
   },
   {
    "duration": 34,
    "start_time": "2022-01-16T20:37:01.015Z"
   },
   {
    "duration": 35,
    "start_time": "2022-01-16T20:37:10.914Z"
   },
   {
    "duration": 31,
    "start_time": "2022-01-16T20:37:29.677Z"
   },
   {
    "duration": 12,
    "start_time": "2022-01-16T20:37:57.442Z"
   },
   {
    "duration": 14,
    "start_time": "2022-01-16T20:38:51.334Z"
   },
   {
    "duration": 18,
    "start_time": "2022-01-16T20:38:55.255Z"
   },
   {
    "duration": 501,
    "start_time": "2022-01-16T20:40:32.254Z"
   },
   {
    "duration": 14,
    "start_time": "2022-01-16T20:40:40.672Z"
   },
   {
    "duration": 17,
    "start_time": "2022-01-16T20:40:56.216Z"
   },
   {
    "duration": 29,
    "start_time": "2022-01-16T20:41:00.866Z"
   },
   {
    "duration": 8,
    "start_time": "2022-01-16T20:44:55.154Z"
   },
   {
    "duration": 7,
    "start_time": "2022-01-16T20:45:12.396Z"
   },
   {
    "duration": 19,
    "start_time": "2022-01-16T20:45:15.352Z"
   },
   {
    "duration": 249,
    "start_time": "2022-01-16T20:48:15.375Z"
   },
   {
    "duration": 256,
    "start_time": "2022-01-16T20:49:11.437Z"
   },
   {
    "duration": 38,
    "start_time": "2022-01-16T20:49:17.974Z"
   },
   {
    "duration": 33,
    "start_time": "2022-01-16T20:50:02.716Z"
   },
   {
    "duration": 20,
    "start_time": "2022-01-16T20:50:08.828Z"
   },
   {
    "duration": 74,
    "start_time": "2022-01-16T20:50:24.636Z"
   },
   {
    "duration": 247,
    "start_time": "2022-01-16T20:51:50.773Z"
   },
   {
    "duration": 254,
    "start_time": "2022-01-16T20:53:50.372Z"
   },
   {
    "duration": 251,
    "start_time": "2022-01-16T20:54:03.957Z"
   },
   {
    "duration": 345,
    "start_time": "2022-01-16T20:55:00.289Z"
   },
   {
    "duration": 262,
    "start_time": "2022-01-16T20:55:13.520Z"
   },
   {
    "duration": 261,
    "start_time": "2022-01-16T20:55:18.080Z"
   },
   {
    "duration": 23,
    "start_time": "2022-01-16T20:55:26.757Z"
   },
   {
    "duration": 30,
    "start_time": "2022-01-16T20:55:52.354Z"
   },
   {
    "duration": 1240,
    "start_time": "2022-01-16T20:56:23.061Z"
   },
   {
    "duration": 99,
    "start_time": "2022-01-16T20:56:24.304Z"
   },
   {
    "duration": 15,
    "start_time": "2022-01-16T20:56:24.406Z"
   },
   {
    "duration": 69,
    "start_time": "2022-01-16T20:56:24.424Z"
   },
   {
    "duration": 65,
    "start_time": "2022-01-16T20:56:24.495Z"
   },
   {
    "duration": 36,
    "start_time": "2022-01-16T20:56:24.563Z"
   },
   {
    "duration": 61,
    "start_time": "2022-01-16T20:56:24.601Z"
   },
   {
    "duration": 29,
    "start_time": "2022-01-16T20:56:24.665Z"
   },
   {
    "duration": 17,
    "start_time": "2022-01-16T20:56:24.696Z"
   },
   {
    "duration": 343,
    "start_time": "2022-01-16T20:56:24.715Z"
   },
   {
    "duration": 7060,
    "start_time": "2022-01-16T20:57:16.034Z"
   },
   {
    "duration": 6268,
    "start_time": "2022-01-16T20:57:31.508Z"
   },
   {
    "duration": 254,
    "start_time": "2022-01-16T20:57:53.459Z"
   },
   {
    "duration": 280,
    "start_time": "2022-01-16T20:58:00.381Z"
   },
   {
    "duration": 5,
    "start_time": "2022-01-16T20:58:09.444Z"
   },
   {
    "duration": 10,
    "start_time": "2022-01-16T20:59:07.968Z"
   },
   {
    "duration": 288,
    "start_time": "2022-01-16T21:01:47.138Z"
   },
   {
    "duration": 21,
    "start_time": "2022-01-16T21:01:55.211Z"
   },
   {
    "duration": 20,
    "start_time": "2022-01-16T21:02:18.662Z"
   },
   {
    "duration": 19,
    "start_time": "2022-01-16T21:02:21.753Z"
   },
   {
    "duration": 79,
    "start_time": "2022-01-16T21:02:45.449Z"
   },
   {
    "duration": 14,
    "start_time": "2022-01-16T21:02:50.662Z"
   },
   {
    "duration": 19,
    "start_time": "2022-01-16T21:03:03.593Z"
   },
   {
    "duration": 16,
    "start_time": "2022-01-16T21:04:29.192Z"
   },
   {
    "duration": 17,
    "start_time": "2022-01-16T21:04:56.457Z"
   },
   {
    "duration": 17,
    "start_time": "2022-01-16T21:05:03.715Z"
   },
   {
    "duration": 19,
    "start_time": "2022-01-16T21:05:17.321Z"
   },
   {
    "duration": 648,
    "start_time": "2022-01-16T21:06:07.295Z"
   },
   {
    "duration": 256,
    "start_time": "2022-01-16T21:06:12.431Z"
   },
   {
    "duration": 4,
    "start_time": "2022-01-16T21:06:28.872Z"
   },
   {
    "duration": 24,
    "start_time": "2022-01-16T21:06:45.903Z"
   },
   {
    "duration": 6361,
    "start_time": "2022-01-16T21:07:07.510Z"
   },
   {
    "duration": 26,
    "start_time": "2022-01-16T21:07:51.673Z"
   },
   {
    "duration": 18,
    "start_time": "2022-01-16T21:07:56.579Z"
   },
   {
    "duration": 18,
    "start_time": "2022-01-16T21:07:59.711Z"
   },
   {
    "duration": 1155,
    "start_time": "2022-01-16T21:08:07.007Z"
   },
   {
    "duration": 71,
    "start_time": "2022-01-16T21:08:08.165Z"
   },
   {
    "duration": 24,
    "start_time": "2022-01-16T21:08:08.238Z"
   },
   {
    "duration": 68,
    "start_time": "2022-01-16T21:08:08.264Z"
   },
   {
    "duration": 48,
    "start_time": "2022-01-16T21:08:08.334Z"
   },
   {
    "duration": 39,
    "start_time": "2022-01-16T21:08:08.383Z"
   },
   {
    "duration": 61,
    "start_time": "2022-01-16T21:08:08.425Z"
   },
   {
    "duration": 28,
    "start_time": "2022-01-16T21:08:08.488Z"
   },
   {
    "duration": 38,
    "start_time": "2022-01-16T21:08:08.518Z"
   },
   {
    "duration": 49,
    "start_time": "2022-01-16T21:08:08.558Z"
   },
   {
    "duration": 27,
    "start_time": "2022-01-16T21:08:08.609Z"
   },
   {
    "duration": 348,
    "start_time": "2022-01-16T21:09:21.303Z"
   },
   {
    "duration": 16,
    "start_time": "2022-01-16T21:09:25.030Z"
   },
   {
    "duration": 1096,
    "start_time": "2022-01-16T21:09:32.679Z"
   },
   {
    "duration": 89,
    "start_time": "2022-01-16T21:09:33.777Z"
   },
   {
    "duration": 11,
    "start_time": "2022-01-16T21:09:33.868Z"
   },
   {
    "duration": 49,
    "start_time": "2022-01-16T21:09:33.881Z"
   },
   {
    "duration": 66,
    "start_time": "2022-01-16T21:09:33.931Z"
   },
   {
    "duration": 37,
    "start_time": "2022-01-16T21:09:33.999Z"
   },
   {
    "duration": 59,
    "start_time": "2022-01-16T21:09:34.038Z"
   },
   {
    "duration": 29,
    "start_time": "2022-01-16T21:09:34.100Z"
   },
   {
    "duration": 43,
    "start_time": "2022-01-16T21:09:34.131Z"
   },
   {
    "duration": 36,
    "start_time": "2022-01-16T21:09:34.176Z"
   },
   {
    "duration": 15,
    "start_time": "2022-01-16T21:09:34.213Z"
   },
   {
    "duration": 16,
    "start_time": "2022-01-16T21:11:02.785Z"
   },
   {
    "duration": 15,
    "start_time": "2022-01-16T21:11:08.872Z"
   },
   {
    "duration": 18,
    "start_time": "2022-01-16T21:11:21.540Z"
   },
   {
    "duration": 18,
    "start_time": "2022-01-16T21:11:27.271Z"
   },
   {
    "duration": 326,
    "start_time": "2022-01-16T21:11:35.662Z"
   },
   {
    "duration": 262,
    "start_time": "2022-01-16T21:12:24.123Z"
   },
   {
    "duration": 293,
    "start_time": "2022-01-16T21:13:14.147Z"
   },
   {
    "duration": 278,
    "start_time": "2022-01-16T21:13:27.615Z"
   },
   {
    "duration": 1103,
    "start_time": "2022-01-16T21:13:42.906Z"
   },
   {
    "duration": 96,
    "start_time": "2022-01-16T21:13:44.011Z"
   },
   {
    "duration": 11,
    "start_time": "2022-01-16T21:13:44.110Z"
   },
   {
    "duration": 65,
    "start_time": "2022-01-16T21:13:44.123Z"
   },
   {
    "duration": 51,
    "start_time": "2022-01-16T21:13:44.190Z"
   },
   {
    "duration": 58,
    "start_time": "2022-01-16T21:13:44.243Z"
   },
   {
    "duration": 59,
    "start_time": "2022-01-16T21:13:44.302Z"
   },
   {
    "duration": 33,
    "start_time": "2022-01-16T21:13:44.364Z"
   },
   {
    "duration": 8,
    "start_time": "2022-01-16T21:13:44.399Z"
   },
   {
    "duration": 59,
    "start_time": "2022-01-16T21:13:44.409Z"
   },
   {
    "duration": 326,
    "start_time": "2022-01-16T21:13:44.470Z"
   },
   {
    "duration": 1134,
    "start_time": "2022-01-16T21:14:03.726Z"
   },
   {
    "duration": 72,
    "start_time": "2022-01-16T21:14:04.863Z"
   },
   {
    "duration": 28,
    "start_time": "2022-01-16T21:14:04.937Z"
   },
   {
    "duration": 53,
    "start_time": "2022-01-16T21:14:04.967Z"
   },
   {
    "duration": 63,
    "start_time": "2022-01-16T21:14:05.021Z"
   },
   {
    "duration": 36,
    "start_time": "2022-01-16T21:14:05.086Z"
   },
   {
    "duration": 61,
    "start_time": "2022-01-16T21:14:05.123Z"
   },
   {
    "duration": 29,
    "start_time": "2022-01-16T21:14:05.186Z"
   },
   {
    "duration": 27,
    "start_time": "2022-01-16T21:14:05.217Z"
   },
   {
    "duration": 35,
    "start_time": "2022-01-16T21:14:05.246Z"
   },
   {
    "duration": 314,
    "start_time": "2022-01-16T21:14:12.506Z"
   },
   {
    "duration": 249,
    "start_time": "2022-01-16T21:14:25.555Z"
   },
   {
    "duration": 267,
    "start_time": "2022-01-16T21:14:33.492Z"
   },
   {
    "duration": 486,
    "start_time": "2022-01-16T21:14:37.164Z"
   },
   {
    "duration": 71,
    "start_time": "2022-01-16T21:14:37.652Z"
   },
   {
    "duration": 13,
    "start_time": "2022-01-16T21:14:37.725Z"
   },
   {
    "duration": 67,
    "start_time": "2022-01-16T21:14:37.741Z"
   },
   {
    "duration": 59,
    "start_time": "2022-01-16T21:14:37.810Z"
   },
   {
    "duration": 33,
    "start_time": "2022-01-16T21:14:37.871Z"
   },
   {
    "duration": 33,
    "start_time": "2022-01-16T21:14:37.905Z"
   },
   {
    "duration": 27,
    "start_time": "2022-01-16T21:14:37.962Z"
   },
   {
    "duration": 19,
    "start_time": "2022-01-16T21:14:37.991Z"
   },
   {
    "duration": 52,
    "start_time": "2022-01-16T21:14:38.011Z"
   },
   {
    "duration": 6,
    "start_time": "2022-01-16T21:14:59.746Z"
   },
   {
    "duration": 251,
    "start_time": "2022-01-16T21:15:03.568Z"
   },
   {
    "duration": 306,
    "start_time": "2022-01-16T21:15:14.184Z"
   },
   {
    "duration": 1120,
    "start_time": "2022-01-16T21:15:24.040Z"
   },
   {
    "duration": 74,
    "start_time": "2022-01-16T21:15:25.161Z"
   },
   {
    "duration": 25,
    "start_time": "2022-01-16T21:15:25.237Z"
   },
   {
    "duration": 55,
    "start_time": "2022-01-16T21:15:25.264Z"
   },
   {
    "duration": 69,
    "start_time": "2022-01-16T21:15:25.321Z"
   },
   {
    "duration": 36,
    "start_time": "2022-01-16T21:15:25.391Z"
   },
   {
    "duration": 59,
    "start_time": "2022-01-16T21:15:25.429Z"
   },
   {
    "duration": 28,
    "start_time": "2022-01-16T21:15:25.491Z"
   },
   {
    "duration": 21,
    "start_time": "2022-01-16T21:15:25.521Z"
   },
   {
    "duration": 13,
    "start_time": "2022-01-16T21:15:25.560Z"
   },
   {
    "duration": 37,
    "start_time": "2022-01-16T21:15:25.575Z"
   },
   {
    "duration": 320,
    "start_time": "2022-01-16T21:16:05.685Z"
   },
   {
    "duration": 255,
    "start_time": "2022-01-16T21:16:14.146Z"
   },
   {
    "duration": 22,
    "start_time": "2022-01-16T21:16:34.482Z"
   },
   {
    "duration": 18,
    "start_time": "2022-01-16T21:17:01.992Z"
   },
   {
    "duration": 18,
    "start_time": "2022-01-16T21:17:07.566Z"
   },
   {
    "duration": 18,
    "start_time": "2022-01-16T21:17:22.773Z"
   },
   {
    "duration": 17,
    "start_time": "2022-01-16T21:17:28.173Z"
   },
   {
    "duration": 18,
    "start_time": "2022-01-16T21:17:44.367Z"
   },
   {
    "duration": 18,
    "start_time": "2022-01-16T21:17:49.971Z"
   },
   {
    "duration": 6704,
    "start_time": "2022-01-16T21:18:37.607Z"
   },
   {
    "duration": 252,
    "start_time": "2022-01-16T21:18:53.907Z"
   },
   {
    "duration": 295,
    "start_time": "2022-01-16T21:19:00.485Z"
   },
   {
    "duration": 15,
    "start_time": "2022-01-16T21:19:29.996Z"
   },
   {
    "duration": 26,
    "start_time": "2022-01-16T21:19:45.256Z"
   },
   {
    "duration": 23,
    "start_time": "2022-01-16T21:20:02.050Z"
   },
   {
    "duration": 18,
    "start_time": "2022-01-16T21:20:34.255Z"
   },
   {
    "duration": 16,
    "start_time": "2022-01-16T21:21:24.981Z"
   },
   {
    "duration": 4,
    "start_time": "2022-01-16T21:23:48.173Z"
   },
   {
    "duration": 19,
    "start_time": "2022-01-16T21:23:51.232Z"
   },
   {
    "duration": 260,
    "start_time": "2022-01-16T21:25:13.401Z"
   },
   {
    "duration": 265,
    "start_time": "2022-01-16T21:25:24.278Z"
   },
   {
    "duration": 8,
    "start_time": "2022-01-16T21:26:38.186Z"
   },
   {
    "duration": 40,
    "start_time": "2022-01-16T21:26:41.234Z"
   },
   {
    "duration": 39,
    "start_time": "2022-01-16T21:26:59.652Z"
   },
   {
    "duration": 536,
    "start_time": "2022-01-16T21:27:04.093Z"
   },
   {
    "duration": 98,
    "start_time": "2022-01-16T21:27:04.632Z"
   },
   {
    "duration": 11,
    "start_time": "2022-01-16T21:27:04.732Z"
   },
   {
    "duration": 70,
    "start_time": "2022-01-16T21:27:04.745Z"
   },
   {
    "duration": 63,
    "start_time": "2022-01-16T21:27:04.817Z"
   },
   {
    "duration": 33,
    "start_time": "2022-01-16T21:27:04.882Z"
   },
   {
    "duration": 53,
    "start_time": "2022-01-16T21:27:04.917Z"
   },
   {
    "duration": 30,
    "start_time": "2022-01-16T21:27:04.973Z"
   },
   {
    "duration": 20,
    "start_time": "2022-01-16T21:27:05.005Z"
   },
   {
    "duration": 45,
    "start_time": "2022-01-16T21:27:05.026Z"
   },
   {
    "duration": 11,
    "start_time": "2022-01-16T21:27:05.073Z"
   },
   {
    "duration": 46,
    "start_time": "2022-01-16T21:27:05.087Z"
   },
   {
    "duration": 43,
    "start_time": "2022-01-16T21:27:05.135Z"
   },
   {
    "duration": 56,
    "start_time": "2022-01-16T21:28:08.652Z"
   },
   {
    "duration": 526,
    "start_time": "2022-01-16T21:28:15.168Z"
   },
   {
    "duration": 94,
    "start_time": "2022-01-16T21:28:15.696Z"
   },
   {
    "duration": 11,
    "start_time": "2022-01-16T21:28:15.792Z"
   },
   {
    "duration": 68,
    "start_time": "2022-01-16T21:28:15.805Z"
   },
   {
    "duration": 42,
    "start_time": "2022-01-16T21:28:15.875Z"
   },
   {
    "duration": 56,
    "start_time": "2022-01-16T21:28:15.919Z"
   },
   {
    "duration": 33,
    "start_time": "2022-01-16T21:28:15.978Z"
   },
   {
    "duration": 51,
    "start_time": "2022-01-16T21:28:16.013Z"
   },
   {
    "duration": 23,
    "start_time": "2022-01-16T21:28:16.067Z"
   },
   {
    "duration": 40,
    "start_time": "2022-01-16T21:28:16.092Z"
   },
   {
    "duration": 44,
    "start_time": "2022-01-16T21:28:16.134Z"
   },
   {
    "duration": 41,
    "start_time": "2022-01-16T21:28:16.180Z"
   },
   {
    "duration": 26,
    "start_time": "2022-01-16T21:28:16.222Z"
   },
   {
    "duration": 534,
    "start_time": "2022-01-16T21:29:09.072Z"
   },
   {
    "duration": 101,
    "start_time": "2022-01-16T21:29:09.608Z"
   },
   {
    "duration": 12,
    "start_time": "2022-01-16T21:29:09.712Z"
   },
   {
    "duration": 73,
    "start_time": "2022-01-16T21:29:09.726Z"
   },
   {
    "duration": 43,
    "start_time": "2022-01-16T21:29:09.801Z"
   },
   {
    "duration": 39,
    "start_time": "2022-01-16T21:29:09.861Z"
   },
   {
    "duration": 62,
    "start_time": "2022-01-16T21:29:09.902Z"
   },
   {
    "duration": 32,
    "start_time": "2022-01-16T21:29:09.967Z"
   },
   {
    "duration": 19,
    "start_time": "2022-01-16T21:29:10.001Z"
   },
   {
    "duration": 49,
    "start_time": "2022-01-16T21:29:10.022Z"
   },
   {
    "duration": 11,
    "start_time": "2022-01-16T21:29:10.074Z"
   },
   {
    "duration": 18,
    "start_time": "2022-01-16T21:29:10.087Z"
   },
   {
    "duration": 23,
    "start_time": "2022-01-16T21:29:10.107Z"
   },
   {
    "duration": 21,
    "start_time": "2022-01-16T21:33:34.831Z"
   },
   {
    "duration": 262,
    "start_time": "2022-01-16T21:35:13.487Z"
   },
   {
    "duration": 151,
    "start_time": "2022-01-16T21:36:01.734Z"
   },
   {
    "duration": 1213,
    "start_time": "2022-01-16T21:39:11.599Z"
   },
   {
    "duration": 22,
    "start_time": "2022-01-16T21:40:45.177Z"
   },
   {
    "duration": 22,
    "start_time": "2022-01-16T21:41:04.846Z"
   },
   {
    "duration": 107,
    "start_time": "2022-01-16T21:42:17.812Z"
   },
   {
    "duration": 29,
    "start_time": "2022-01-16T21:42:59.094Z"
   },
   {
    "duration": 36,
    "start_time": "2022-01-16T21:45:24.450Z"
   },
   {
    "duration": 29,
    "start_time": "2022-01-16T21:51:32.023Z"
   },
   {
    "duration": 34,
    "start_time": "2022-01-16T21:51:59.651Z"
   },
   {
    "duration": 108,
    "start_time": "2022-01-16T22:00:37.813Z"
   },
   {
    "duration": 423,
    "start_time": "2022-01-16T22:02:17.541Z"
   },
   {
    "duration": 1166,
    "start_time": "2022-01-16T22:02:35.403Z"
   },
   {
    "duration": 116,
    "start_time": "2022-01-16T22:02:36.571Z"
   },
   {
    "duration": 13,
    "start_time": "2022-01-16T22:02:36.690Z"
   },
   {
    "duration": 86,
    "start_time": "2022-01-16T22:02:36.704Z"
   },
   {
    "duration": 145,
    "start_time": "2022-01-16T22:02:36.793Z"
   },
   {
    "duration": 36,
    "start_time": "2022-01-16T22:02:36.941Z"
   },
   {
    "duration": 9,
    "start_time": "2022-01-16T22:02:36.980Z"
   },
   {
    "duration": 31,
    "start_time": "2022-01-16T22:02:36.993Z"
   },
   {
    "duration": 52,
    "start_time": "2022-01-16T22:02:37.027Z"
   },
   {
    "duration": 35,
    "start_time": "2022-01-16T22:02:37.081Z"
   },
   {
    "duration": 7286,
    "start_time": "2022-01-16T22:02:37.118Z"
   },
   {
    "duration": -402,
    "start_time": "2022-01-16T22:02:44.808Z"
   },
   {
    "duration": 1195,
    "start_time": "2022-01-16T22:03:06.433Z"
   },
   {
    "duration": 105,
    "start_time": "2022-01-16T22:03:07.630Z"
   },
   {
    "duration": 10,
    "start_time": "2022-01-16T22:03:07.737Z"
   },
   {
    "duration": 64,
    "start_time": "2022-01-16T22:03:07.761Z"
   },
   {
    "duration": 126,
    "start_time": "2022-01-16T22:03:07.827Z"
   },
   {
    "duration": 21,
    "start_time": "2022-01-16T22:03:07.961Z"
   },
   {
    "duration": 38,
    "start_time": "2022-01-16T22:03:07.984Z"
   },
   {
    "duration": 27,
    "start_time": "2022-01-16T22:03:08.025Z"
   },
   {
    "duration": 68,
    "start_time": "2022-01-16T22:03:08.054Z"
   },
   {
    "duration": 30,
    "start_time": "2022-01-16T22:03:08.123Z"
   },
   {
    "duration": 57,
    "start_time": "2022-01-16T22:03:08.155Z"
   },
   {
    "duration": 27,
    "start_time": "2022-01-16T22:04:11.772Z"
   },
   {
    "duration": 19,
    "start_time": "2022-01-16T22:06:07.574Z"
   },
   {
    "duration": 18,
    "start_time": "2022-01-16T22:06:17.818Z"
   },
   {
    "duration": 1244,
    "start_time": "2022-01-16T22:09:26.458Z"
   },
   {
    "duration": 109,
    "start_time": "2022-01-16T22:09:27.704Z"
   },
   {
    "duration": 13,
    "start_time": "2022-01-16T22:09:27.816Z"
   },
   {
    "duration": 75,
    "start_time": "2022-01-16T22:09:27.831Z"
   },
   {
    "duration": 163,
    "start_time": "2022-01-16T22:09:27.908Z"
   },
   {
    "duration": 28,
    "start_time": "2022-01-16T22:09:28.073Z"
   },
   {
    "duration": 6,
    "start_time": "2022-01-16T22:09:28.103Z"
   },
   {
    "duration": 12,
    "start_time": "2022-01-16T22:09:28.111Z"
   },
   {
    "duration": 68,
    "start_time": "2022-01-16T22:09:28.125Z"
   },
   {
    "duration": 26,
    "start_time": "2022-01-16T22:09:28.195Z"
   },
   {
    "duration": 38,
    "start_time": "2022-01-16T22:09:28.223Z"
   },
   {
    "duration": 24,
    "start_time": "2022-01-16T22:12:11.959Z"
   },
   {
    "duration": 7782,
    "start_time": "2022-01-16T22:13:51.807Z"
   },
   {
    "duration": 19,
    "start_time": "2022-01-16T22:15:49.800Z"
   },
   {
    "duration": 260,
    "start_time": "2022-01-16T22:21:10.641Z"
   },
   {
    "duration": 633,
    "start_time": "2022-01-16T22:22:51.484Z"
   },
   {
    "duration": 1196,
    "start_time": "2022-01-16T22:23:46.759Z"
   },
   {
    "duration": 1159,
    "start_time": "2022-01-16T22:28:23.146Z"
   },
   {
    "duration": 1241,
    "start_time": "2022-01-16T22:29:02.468Z"
   },
   {
    "duration": 1095,
    "start_time": "2022-01-16T22:30:49.478Z"
   },
   {
    "duration": 1132,
    "start_time": "2022-01-16T22:31:35.236Z"
   },
   {
    "duration": 1209,
    "start_time": "2022-01-16T22:31:55.339Z"
   },
   {
    "duration": 261,
    "start_time": "2022-01-16T22:36:39.628Z"
   },
   {
    "duration": 96,
    "start_time": "2022-01-16T22:40:07.204Z"
   },
   {
    "duration": 90,
    "start_time": "2022-01-16T22:40:42.326Z"
   },
   {
    "duration": 1341,
    "start_time": "2022-01-16T22:41:00.687Z"
   },
   {
    "duration": 1520,
    "start_time": "2022-01-16T22:41:17.972Z"
   },
   {
    "duration": 1147,
    "start_time": "2022-01-16T22:42:26.773Z"
   },
   {
    "duration": 1165,
    "start_time": "2022-01-16T22:43:49.899Z"
   },
   {
    "duration": 1419,
    "start_time": "2022-01-16T22:43:58.287Z"
   },
   {
    "duration": 1274,
    "start_time": "2022-01-16T22:47:17.749Z"
   },
   {
    "duration": 1193,
    "start_time": "2022-01-16T22:47:26.358Z"
   },
   {
    "duration": 88,
    "start_time": "2022-01-16T22:48:37.753Z"
   },
   {
    "duration": 1275,
    "start_time": "2022-01-16T22:48:56.232Z"
   },
   {
    "duration": 140,
    "start_time": "2022-01-16T22:50:54.455Z"
   },
   {
    "duration": 108,
    "start_time": "2022-01-16T22:52:28.601Z"
   },
   {
    "duration": 319,
    "start_time": "2022-01-16T22:53:05.902Z"
   },
   {
    "duration": 1150,
    "start_time": "2022-01-16T22:53:25.018Z"
   },
   {
    "duration": 1143,
    "start_time": "2022-01-16T22:53:42.049Z"
   },
   {
    "duration": 1315,
    "start_time": "2022-01-16T22:54:05.907Z"
   },
   {
    "duration": 1124,
    "start_time": "2022-01-16T22:54:21.525Z"
   },
   {
    "duration": 439,
    "start_time": "2022-01-16T22:56:51.856Z"
   },
   {
    "duration": 1270,
    "start_time": "2022-01-16T22:57:01.482Z"
   },
   {
    "duration": 1087,
    "start_time": "2022-01-16T22:57:17.085Z"
   },
   {
    "duration": 1121,
    "start_time": "2022-01-16T22:58:31.569Z"
   },
   {
    "duration": 1354,
    "start_time": "2022-01-16T22:58:48.014Z"
   },
   {
    "duration": 1079,
    "start_time": "2022-01-16T22:58:58.073Z"
   },
   {
    "duration": 1122,
    "start_time": "2022-01-16T22:59:21.292Z"
   },
   {
    "duration": 1303,
    "start_time": "2022-01-16T22:59:33.978Z"
   },
   {
    "duration": 1090,
    "start_time": "2022-01-16T23:01:27.486Z"
   },
   {
    "duration": 1277,
    "start_time": "2022-01-16T23:01:36.446Z"
   },
   {
    "duration": 1128,
    "start_time": "2022-01-16T23:02:10.705Z"
   },
   {
    "duration": 1083,
    "start_time": "2022-01-16T23:02:22.113Z"
   },
   {
    "duration": -333,
    "start_time": "2022-01-16T23:02:44.006Z"
   },
   {
    "duration": 255,
    "start_time": "2022-01-16T23:02:51.449Z"
   },
   {
    "duration": 270,
    "start_time": "2022-01-16T23:03:01.435Z"
   },
   {
    "duration": 708,
    "start_time": "2022-01-16T23:04:53.519Z"
   },
   {
    "duration": 1372,
    "start_time": "2022-01-16T23:05:00.442Z"
   },
   {
    "duration": 1117,
    "start_time": "2022-01-16T23:06:54.068Z"
   },
   {
    "duration": 1081,
    "start_time": "2022-01-16T23:06:58.616Z"
   },
   {
    "duration": 264,
    "start_time": "2022-01-16T23:07:39.407Z"
   },
   {
    "duration": 1302,
    "start_time": "2022-01-16T23:08:17.323Z"
   },
   {
    "duration": 1127,
    "start_time": "2022-01-16T23:08:59.678Z"
   },
   {
    "duration": 1274,
    "start_time": "2022-01-16T23:09:03.830Z"
   },
   {
    "duration": 86,
    "start_time": "2022-01-16T23:09:55.873Z"
   },
   {
    "duration": 1159,
    "start_time": "2022-01-16T23:10:11.063Z"
   },
   {
    "duration": 1218,
    "start_time": "2022-01-16T23:10:48.701Z"
   },
   {
    "duration": 90,
    "start_time": "2022-01-16T23:13:17.320Z"
   },
   {
    "duration": 1307,
    "start_time": "2022-01-16T23:13:20.727Z"
   },
   {
    "duration": 1113,
    "start_time": "2022-01-16T23:14:05.059Z"
   },
   {
    "duration": 1168,
    "start_time": "2022-01-16T23:15:00.187Z"
   },
   {
    "duration": 1068,
    "start_time": "2022-01-16T23:16:44.012Z"
   },
   {
    "duration": 83,
    "start_time": "2022-01-16T23:16:45.082Z"
   },
   {
    "duration": 12,
    "start_time": "2022-01-16T23:16:45.167Z"
   },
   {
    "duration": 52,
    "start_time": "2022-01-16T23:16:45.180Z"
   },
   {
    "duration": 148,
    "start_time": "2022-01-16T23:16:45.234Z"
   },
   {
    "duration": 18,
    "start_time": "2022-01-16T23:16:45.384Z"
   },
   {
    "duration": 6,
    "start_time": "2022-01-16T23:16:45.404Z"
   },
   {
    "duration": 28,
    "start_time": "2022-01-16T23:16:45.412Z"
   },
   {
    "duration": 38,
    "start_time": "2022-01-16T23:16:45.442Z"
   },
   {
    "duration": 23,
    "start_time": "2022-01-16T23:16:45.482Z"
   },
   {
    "duration": 27,
    "start_time": "2022-01-16T23:16:45.507Z"
   },
   {
    "duration": 1231,
    "start_time": "2022-01-16T23:16:45.536Z"
   },
   {
    "duration": 2083,
    "start_time": "2022-01-17T20:34:56.221Z"
   },
   {
    "duration": 132,
    "start_time": "2022-01-17T20:34:58.307Z"
   },
   {
    "duration": 18,
    "start_time": "2022-01-17T20:34:58.442Z"
   },
   {
    "duration": 101,
    "start_time": "2022-01-17T20:34:58.463Z"
   },
   {
    "duration": 219,
    "start_time": "2022-01-17T20:34:58.567Z"
   },
   {
    "duration": 47,
    "start_time": "2022-01-17T20:34:58.789Z"
   },
   {
    "duration": 12,
    "start_time": "2022-01-17T20:34:58.841Z"
   },
   {
    "duration": 36,
    "start_time": "2022-01-17T20:34:58.858Z"
   },
   {
    "duration": 67,
    "start_time": "2022-01-17T20:34:58.897Z"
   },
   {
    "duration": 37,
    "start_time": "2022-01-17T20:34:58.967Z"
   },
   {
    "duration": 54,
    "start_time": "2022-01-17T20:34:59.007Z"
   },
   {
    "duration": 2283,
    "start_time": "2022-01-17T20:34:59.063Z"
   },
   {
    "duration": 11,
    "start_time": "2022-01-17T20:39:05.148Z"
   },
   {
    "duration": 3717,
    "start_time": "2022-01-17T20:39:32.270Z"
   },
   {
    "duration": 2239,
    "start_time": "2022-01-17T20:40:02.084Z"
   },
   {
    "duration": 382,
    "start_time": "2022-01-17T20:45:21.188Z"
   },
   {
    "duration": 10,
    "start_time": "2022-01-17T20:45:37.383Z"
   },
   {
    "duration": 297,
    "start_time": "2022-01-17T20:47:06.731Z"
   },
   {
    "duration": 2096,
    "start_time": "2022-01-17T20:47:20.681Z"
   },
   {
    "duration": 22,
    "start_time": "2022-01-17T20:47:22.787Z"
   },
   {
    "duration": 223,
    "start_time": "2022-01-17T20:47:22.815Z"
   },
   {
    "duration": 25,
    "start_time": "2022-01-17T20:47:23.042Z"
   },
   {
    "duration": 102,
    "start_time": "2022-01-17T20:47:23.076Z"
   },
   {
    "duration": 257,
    "start_time": "2022-01-17T20:47:23.183Z"
   },
   {
    "duration": 39,
    "start_time": "2022-01-17T20:47:23.444Z"
   },
   {
    "duration": 11,
    "start_time": "2022-01-17T20:47:23.486Z"
   },
   {
    "duration": 23,
    "start_time": "2022-01-17T20:47:23.533Z"
   },
   {
    "duration": 91,
    "start_time": "2022-01-17T20:47:23.560Z"
   },
   {
    "duration": 52,
    "start_time": "2022-01-17T20:47:23.661Z"
   },
   {
    "duration": 52,
    "start_time": "2022-01-17T20:47:23.716Z"
   },
   {
    "duration": 2571,
    "start_time": "2022-01-17T20:47:23.770Z"
   },
   {
    "duration": 14,
    "start_time": "2022-01-17T20:47:26.345Z"
   },
   {
    "duration": 10,
    "start_time": "2022-01-17T20:51:54.782Z"
   },
   {
    "duration": 73,
    "start_time": "2022-01-17T20:54:10.701Z"
   },
   {
    "duration": 52,
    "start_time": "2022-01-17T20:55:29.939Z"
   },
   {
    "duration": 10,
    "start_time": "2022-01-17T20:56:43.645Z"
   },
   {
    "duration": 8,
    "start_time": "2022-01-17T21:03:39.380Z"
   },
   {
    "duration": 7,
    "start_time": "2022-01-17T21:03:48.969Z"
   },
   {
    "duration": 8,
    "start_time": "2022-01-17T21:03:57.090Z"
   },
   {
    "duration": 60,
    "start_time": "2022-01-17T21:04:34.948Z"
   },
   {
    "duration": 53,
    "start_time": "2022-01-17T21:25:44.851Z"
   },
   {
    "duration": 58,
    "start_time": "2022-01-17T21:25:51.983Z"
   },
   {
    "duration": 54,
    "start_time": "2022-01-17T21:26:10.534Z"
   },
   {
    "duration": 56,
    "start_time": "2022-01-17T21:26:16.601Z"
   },
   {
    "duration": 1874,
    "start_time": "2022-01-21T07:37:16.238Z"
   },
   {
    "duration": 8,
    "start_time": "2022-01-21T07:37:18.115Z"
   },
   {
    "duration": 130,
    "start_time": "2022-01-21T07:37:18.127Z"
   },
   {
    "duration": 19,
    "start_time": "2022-01-21T07:37:18.260Z"
   },
   {
    "duration": 88,
    "start_time": "2022-01-21T07:37:18.281Z"
   },
   {
    "duration": 168,
    "start_time": "2022-01-21T07:37:19.001Z"
   },
   {
    "duration": 27,
    "start_time": "2022-01-21T07:37:19.171Z"
   },
   {
    "duration": 10,
    "start_time": "2022-01-21T07:37:19.200Z"
   },
   {
    "duration": 18,
    "start_time": "2022-01-21T07:37:19.259Z"
   },
   {
    "duration": 44,
    "start_time": "2022-01-21T07:37:19.445Z"
   },
   {
    "duration": 37,
    "start_time": "2022-01-21T07:37:19.780Z"
   },
   {
    "duration": 30,
    "start_time": "2022-01-21T07:37:19.964Z"
   },
   {
    "duration": 3142,
    "start_time": "2022-01-21T07:37:20.621Z"
   },
   {
    "duration": 979,
    "start_time": "2022-01-21T07:37:23.766Z"
   },
   {
    "duration": 758,
    "start_time": "2022-01-21T07:37:55.820Z"
   },
   {
    "duration": 2007,
    "start_time": "2022-09-05T20:11:43.621Z"
   },
   {
    "duration": 5,
    "start_time": "2022-09-05T20:11:45.631Z"
   },
   {
    "duration": 100,
    "start_time": "2022-09-05T20:11:45.638Z"
   },
   {
    "duration": 12,
    "start_time": "2022-09-05T20:11:45.739Z"
   },
   {
    "duration": 49,
    "start_time": "2022-09-05T20:11:45.770Z"
   },
   {
    "duration": 131,
    "start_time": "2022-09-05T20:11:45.821Z"
   },
   {
    "duration": 101,
    "start_time": "2022-09-05T20:11:45.968Z"
   },
   {
    "duration": 0,
    "start_time": "2022-09-05T20:11:46.071Z"
   },
   {
    "duration": 0,
    "start_time": "2022-09-05T20:11:46.072Z"
   },
   {
    "duration": 0,
    "start_time": "2022-09-05T20:11:46.073Z"
   },
   {
    "duration": 0,
    "start_time": "2022-09-05T20:11:46.074Z"
   },
   {
    "duration": 0,
    "start_time": "2022-09-05T20:11:46.075Z"
   },
   {
    "duration": 0,
    "start_time": "2022-09-05T20:11:46.076Z"
   },
   {
    "duration": 0,
    "start_time": "2022-09-05T20:11:46.077Z"
   },
   {
    "duration": 0,
    "start_time": "2022-09-05T20:11:46.078Z"
   },
   {
    "duration": 0,
    "start_time": "2022-09-05T20:11:46.079Z"
   },
   {
    "duration": 0,
    "start_time": "2022-09-05T20:11:46.080Z"
   },
   {
    "duration": 0,
    "start_time": "2022-09-05T20:11:46.080Z"
   },
   {
    "duration": 21,
    "start_time": "2022-09-05T20:12:14.543Z"
   },
   {
    "duration": 1387,
    "start_time": "2022-09-05T20:12:21.508Z"
   },
   {
    "duration": 5,
    "start_time": "2022-09-05T20:12:22.898Z"
   },
   {
    "duration": 111,
    "start_time": "2022-09-05T20:12:22.905Z"
   },
   {
    "duration": 11,
    "start_time": "2022-09-05T20:12:23.018Z"
   },
   {
    "duration": 70,
    "start_time": "2022-09-05T20:12:23.032Z"
   },
   {
    "duration": 136,
    "start_time": "2022-09-05T20:12:23.103Z"
   },
   {
    "duration": 40,
    "start_time": "2022-09-05T20:12:23.240Z"
   },
   {
    "duration": 10,
    "start_time": "2022-09-05T20:12:23.282Z"
   },
   {
    "duration": 12,
    "start_time": "2022-09-05T20:12:23.294Z"
   },
   {
    "duration": 31,
    "start_time": "2022-09-05T20:12:23.308Z"
   },
   {
    "duration": 52,
    "start_time": "2022-09-05T20:12:23.341Z"
   },
   {
    "duration": 22,
    "start_time": "2022-09-05T20:12:23.395Z"
   },
   {
    "duration": 1418,
    "start_time": "2022-09-05T20:12:23.419Z"
   },
   {
    "duration": 297,
    "start_time": "2022-09-05T20:12:24.840Z"
   },
   {
    "duration": 6,
    "start_time": "2022-09-05T20:12:25.139Z"
   },
   {
    "duration": 22,
    "start_time": "2022-09-05T20:12:25.147Z"
   },
   {
    "duration": 40,
    "start_time": "2022-09-05T20:12:25.171Z"
   },
   {
    "duration": 7,
    "start_time": "2022-09-05T20:12:25.213Z"
   }
  ],
  "kernelspec": {
   "display_name": "Python 3 (ipykernel)",
   "language": "python",
   "name": "python3"
  },
  "language_info": {
   "codemirror_mode": {
    "name": "ipython",
    "version": 3
   },
   "file_extension": ".py",
   "mimetype": "text/x-python",
   "name": "python",
   "nbconvert_exporter": "python",
   "pygments_lexer": "ipython3",
   "version": "3.9.12"
  },
  "toc": {
   "base_numbering": 1,
   "nav_menu": {},
   "number_sections": true,
   "sideBar": true,
   "skip_h1_title": true,
   "title_cell": "Table of Contents",
   "title_sidebar": "Contents",
   "toc_cell": false,
   "toc_position": {},
   "toc_section_display": true,
   "toc_window_display": false
  }
 },
 "nbformat": 4,
 "nbformat_minor": 2
}
