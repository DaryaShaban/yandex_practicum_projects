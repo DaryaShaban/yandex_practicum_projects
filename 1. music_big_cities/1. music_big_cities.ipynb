{
 "cells": [
  {
   "cell_type": "markdown",
   "metadata": {
    "id": "E0vqbgi9ay0H"
   },
   "source": [
    "# Music_of_big_cities"
   ]
  },
  {
   "cell_type": "markdown",
   "metadata": {
    "id": "VUC88oWjTJw2"
   },
   "source": [
    "There are two cities, participating in this research:\n",
    " \n",
    " * City M — considered to be a subject to the rigid rhythm of the working week;;\n",
    " * City P — considered to be cultural, with its particular tastes.\n",
    "\n",
    "**Research Purpose** - Test three hypotheses:\n",
    "1. User activity depends on the day of the week. It shows itself differently in City M and City P.\n",
    "2. On Monday morning, certain genres prevail in City M, while others prevail in City P. Similarly, Friday evenings are dominated by different genres, depending on the city.\n",
    "3. City M and City P prefer different genres of music. In City M, they listen to pop music more often, in City P - Russian rap.\n",
    "\n",
    "**Research Progress**\n",
    "\n",
    "Data is presented in a rough format - nothing is known about its quality. Data will be checked on errors and omissions.\n",
    "\n",
    "Thus, the study will take place in three stages:\n",
    " 1. Data review.\n",
    " 2. Data preprocessing.\n",
    " 3. Hypothesis testing."
   ]
  },
  {
   "cell_type": "markdown",
   "metadata": {
    "id": "Ml1hmfXC_Zcs"
   },
   "source": [
    "## Data review"
   ]
  },
  {
   "cell_type": "code",
   "execution_count": 1,
   "metadata": {
    "id": "AXN7PHPN_Zcs"
   },
   "outputs": [],
   "source": [
    "import pandas as pd "
   ]
  },
  {
   "cell_type": "code",
   "execution_count": 2,
   "metadata": {
    "id": "fFVu7vqh_Zct"
   },
   "outputs": [],
   "source": [
    "df = pd.read_csv('/datasets/yandex_music_project.csv') "
   ]
  },
  {
   "cell_type": "code",
   "execution_count": 3,
   "metadata": {
    "id": "oWTVX3gW_Zct"
   },
   "outputs": [
    {
     "data": {
      "text/html": [
       "<div>\n",
       "<style scoped>\n",
       "    .dataframe tbody tr th:only-of-type {\n",
       "        vertical-align: middle;\n",
       "    }\n",
       "\n",
       "    .dataframe tbody tr th {\n",
       "        vertical-align: top;\n",
       "    }\n",
       "\n",
       "    .dataframe thead th {\n",
       "        text-align: right;\n",
       "    }\n",
       "</style>\n",
       "<table border=\"1\" class=\"dataframe\">\n",
       "  <thead>\n",
       "    <tr style=\"text-align: right;\">\n",
       "      <th></th>\n",
       "      <th>userID</th>\n",
       "      <th>Track</th>\n",
       "      <th>artist</th>\n",
       "      <th>genre</th>\n",
       "      <th>City</th>\n",
       "      <th>time</th>\n",
       "      <th>Day</th>\n",
       "    </tr>\n",
       "  </thead>\n",
       "  <tbody>\n",
       "    <tr>\n",
       "      <td>0</td>\n",
       "      <td>FFB692EC</td>\n",
       "      <td>Kamigata To Boots</td>\n",
       "      <td>The Mass Missile</td>\n",
       "      <td>rock</td>\n",
       "      <td>Saint-Petersburg</td>\n",
       "      <td>20:28:33</td>\n",
       "      <td>Wednesday</td>\n",
       "    </tr>\n",
       "    <tr>\n",
       "      <td>1</td>\n",
       "      <td>55204538</td>\n",
       "      <td>Delayed Because of Accident</td>\n",
       "      <td>Andreas Rönnberg</td>\n",
       "      <td>rock</td>\n",
       "      <td>Moscow</td>\n",
       "      <td>14:07:09</td>\n",
       "      <td>Friday</td>\n",
       "    </tr>\n",
       "    <tr>\n",
       "      <td>2</td>\n",
       "      <td>20EC38</td>\n",
       "      <td>Funiculì funiculà</td>\n",
       "      <td>Mario Lanza</td>\n",
       "      <td>pop</td>\n",
       "      <td>Saint-Petersburg</td>\n",
       "      <td>20:58:07</td>\n",
       "      <td>Wednesday</td>\n",
       "    </tr>\n",
       "    <tr>\n",
       "      <td>3</td>\n",
       "      <td>A3DD03C9</td>\n",
       "      <td>Dragons in the Sunset</td>\n",
       "      <td>Fire + Ice</td>\n",
       "      <td>folk</td>\n",
       "      <td>Saint-Petersburg</td>\n",
       "      <td>08:37:09</td>\n",
       "      <td>Monday</td>\n",
       "    </tr>\n",
       "    <tr>\n",
       "      <td>4</td>\n",
       "      <td>E2DC1FAE</td>\n",
       "      <td>Soul People</td>\n",
       "      <td>Space Echo</td>\n",
       "      <td>dance</td>\n",
       "      <td>Moscow</td>\n",
       "      <td>08:34:34</td>\n",
       "      <td>Monday</td>\n",
       "    </tr>\n",
       "    <tr>\n",
       "      <td>5</td>\n",
       "      <td>842029A1</td>\n",
       "      <td>Преданная</td>\n",
       "      <td>IMPERVTOR</td>\n",
       "      <td>rusrap</td>\n",
       "      <td>Saint-Petersburg</td>\n",
       "      <td>13:09:41</td>\n",
       "      <td>Friday</td>\n",
       "    </tr>\n",
       "    <tr>\n",
       "      <td>6</td>\n",
       "      <td>4CB90AA5</td>\n",
       "      <td>True</td>\n",
       "      <td>Roman Messer</td>\n",
       "      <td>dance</td>\n",
       "      <td>Moscow</td>\n",
       "      <td>13:00:07</td>\n",
       "      <td>Wednesday</td>\n",
       "    </tr>\n",
       "    <tr>\n",
       "      <td>7</td>\n",
       "      <td>F03E1C1F</td>\n",
       "      <td>Feeling This Way</td>\n",
       "      <td>Polina Griffith</td>\n",
       "      <td>dance</td>\n",
       "      <td>Moscow</td>\n",
       "      <td>20:47:49</td>\n",
       "      <td>Wednesday</td>\n",
       "    </tr>\n",
       "    <tr>\n",
       "      <td>8</td>\n",
       "      <td>8FA1D3BE</td>\n",
       "      <td>И вновь продолжается бой</td>\n",
       "      <td>NaN</td>\n",
       "      <td>ruspop</td>\n",
       "      <td>Moscow</td>\n",
       "      <td>09:17:40</td>\n",
       "      <td>Friday</td>\n",
       "    </tr>\n",
       "    <tr>\n",
       "      <td>9</td>\n",
       "      <td>E772D5C0</td>\n",
       "      <td>Pessimist</td>\n",
       "      <td>NaN</td>\n",
       "      <td>dance</td>\n",
       "      <td>Saint-Petersburg</td>\n",
       "      <td>21:20:49</td>\n",
       "      <td>Wednesday</td>\n",
       "    </tr>\n",
       "  </tbody>\n",
       "</table>\n",
       "</div>"
      ],
      "text/plain": [
       "     userID                        Track            artist   genre  \\\n",
       "0  FFB692EC            Kamigata To Boots  The Mass Missile    rock   \n",
       "1  55204538  Delayed Because of Accident  Andreas Rönnberg    rock   \n",
       "2    20EC38            Funiculì funiculà       Mario Lanza     pop   \n",
       "3  A3DD03C9        Dragons in the Sunset        Fire + Ice    folk   \n",
       "4  E2DC1FAE                  Soul People        Space Echo   dance   \n",
       "5  842029A1                    Преданная         IMPERVTOR  rusrap   \n",
       "6  4CB90AA5                         True      Roman Messer   dance   \n",
       "7  F03E1C1F             Feeling This Way   Polina Griffith   dance   \n",
       "8  8FA1D3BE     И вновь продолжается бой               NaN  ruspop   \n",
       "9  E772D5C0                    Pessimist               NaN   dance   \n",
       "\n",
       "             City        time        Day  \n",
       "0  Saint-Petersburg  20:28:33  Wednesday  \n",
       "1            Moscow  14:07:09     Friday  \n",
       "2  Saint-Petersburg  20:58:07  Wednesday  \n",
       "3  Saint-Petersburg  08:37:09     Monday  \n",
       "4            Moscow  08:34:34     Monday  \n",
       "5  Saint-Petersburg  13:09:41     Friday  \n",
       "6            Moscow  13:00:07  Wednesday  \n",
       "7            Moscow  20:47:49  Wednesday  \n",
       "8            Moscow  09:17:40     Friday  \n",
       "9  Saint-Petersburg  21:20:49  Wednesday  "
      ]
     },
     "execution_count": 3,
     "metadata": {},
     "output_type": "execute_result"
    }
   ],
   "source": [
    "df.head(10)"
   ]
  },
  {
   "cell_type": "code",
   "execution_count": 4,
   "metadata": {
    "id": "DSf2kIb-_Zct"
   },
   "outputs": [
    {
     "name": "stdout",
     "output_type": "stream",
     "text": [
      "<class 'pandas.core.frame.DataFrame'>\n",
      "RangeIndex: 65079 entries, 0 to 65078\n",
      "Data columns (total 7 columns):\n",
      "  userID    65079 non-null object\n",
      "Track       63848 non-null object\n",
      "artist      57876 non-null object\n",
      "genre       63881 non-null object\n",
      "  City      65079 non-null object\n",
      "time        65079 non-null object\n",
      "Day         65079 non-null object\n",
      "dtypes: object(7)\n",
      "memory usage: 3.5+ MB\n"
     ]
    }
   ],
   "source": [
    "df.info() "
   ]
  },
  {
   "cell_type": "markdown",
   "metadata": {
    "id": "MCB6-dXG_Zct"
   },
   "source": [
    "**Conclusions**\n",
    "\n",
    "Each line of the table contains data about the track. Some of the columns describe the composition itself: title, artist and genre. The rest of the data tells about the user: what city he is from, when he listened to music.\n",
    "\n",
    "Preliminarily, it can be argued that there is enough data to test hypotheses. But the data has gaps, besides - discrepancies in the names of the columns (lowercase combined with uppercase; gaps; not in \"snake case\").\n",
    "\n",
    "To move forward, these problems in the data will be fixed."
   ]
  },
  {
   "cell_type": "markdown",
   "metadata": {
    "id": "SjYF6Ub9_Zct"
   },
   "source": [
    "## Data preprocessing."
   ]
  },
  {
   "cell_type": "markdown",
   "metadata": {
    "id": "dIaKXr29_Zct"
   },
   "source": [
    "### Heading style"
   ]
  },
  {
   "cell_type": "code",
   "execution_count": 5,
   "metadata": {
    "id": "oKOTdF_Q_Zct"
   },
   "outputs": [
    {
     "data": {
      "text/plain": [
       "Index(['  userID', 'Track', 'artist', 'genre', '  City  ', 'time', 'Day'], dtype='object')"
      ]
     },
     "execution_count": 5,
     "metadata": {},
     "output_type": "execute_result"
    }
   ],
   "source": [
    "df.columns "
   ]
  },
  {
   "cell_type": "code",
   "execution_count": 6,
   "metadata": {
    "id": "ISlFqs5y_Zct"
   },
   "outputs": [],
   "source": [
    "df = df.rename(columns = {'  userID':'user_id', 'Track':'track', '  City  ':'city', 'Day':'day'}) # renaming columns"
   ]
  },
  {
   "cell_type": "code",
   "execution_count": 7,
   "metadata": {
    "id": "d4NOAmTW_Zct"
   },
   "outputs": [
    {
     "data": {
      "text/plain": [
       "Index(['user_id', 'track', 'artist', 'genre', 'city', 'time', 'day'], dtype='object')"
      ]
     },
     "execution_count": 7,
     "metadata": {},
     "output_type": "execute_result"
    }
   ],
   "source": [
    "df.columns # check "
   ]
  },
  {
   "cell_type": "markdown",
   "metadata": {
    "id": "5ISfbcfY_Zct"
   },
   "source": [
    "### Missing data"
   ]
  },
  {
   "cell_type": "markdown",
   "metadata": {
    "id": "fSv2laPA_Zct"
   },
   "source": [
    "The missing values in the `track`, `artist` and `genre` columns will be replaced with the string `'unknown'`"
   ]
  },
  {
   "cell_type": "code",
   "execution_count": 9,
   "metadata": {
    "id": "KplB5qWs_Zct"
   },
   "outputs": [],
   "source": [
    "columns_to_replace = ['track','artist','genre'] \n",
    "for column in columns_to_replace:  \n",
    "    df[column] = df[column].fillna('unknown') "
   ]
  },
  {
   "cell_type": "code",
   "execution_count": 10,
   "metadata": {
    "id": "Tq4nYRX4_Zct"
   },
   "outputs": [
    {
     "data": {
      "text/plain": [
       "user_id    0\n",
       "track      0\n",
       "artist     0\n",
       "genre      0\n",
       "city       0\n",
       "time       0\n",
       "day        0\n",
       "dtype: int64"
      ]
     },
     "execution_count": 10,
     "metadata": {},
     "output_type": "execute_result"
    }
   ],
   "source": [
    "df.isna().sum() # missing data count"
   ]
  },
  {
   "cell_type": "markdown",
   "metadata": {
    "id": "BWKRtBJ3_Zct"
   },
   "source": [
    "### Duplicates"
   ]
  },
  {
   "cell_type": "code",
   "execution_count": 11,
   "metadata": {
    "id": "36eES_S0_Zct"
   },
   "outputs": [
    {
     "data": {
      "text/plain": [
       "3826"
      ]
     },
     "execution_count": 11,
     "metadata": {},
     "output_type": "execute_result"
    }
   ],
   "source": [
    "df.duplicated().sum() "
   ]
  },
  {
   "cell_type": "markdown",
   "metadata": {
    "id": "Ot25h6XR_Zct"
   },
   "source": [
    "Complete duplicates will be deleted. "
   ]
  },
  {
   "cell_type": "code",
   "execution_count": 12,
   "metadata": {
    "id": "exFHq6tt_Zct"
   },
   "outputs": [],
   "source": [
    "df = df.drop_duplicates().reset_index(drop = True) "
   ]
  },
  {
   "cell_type": "code",
   "execution_count": 13,
   "metadata": {
    "id": "-8PuNWQ0_Zct"
   },
   "outputs": [
    {
     "data": {
      "text/plain": [
       "0"
      ]
     },
     "execution_count": 13,
     "metadata": {},
     "output_type": "execute_result"
    }
   ],
   "source": [
    "df.duplicated().sum() # check"
   ]
  },
  {
   "cell_type": "markdown",
   "metadata": {
    "id": "QlFBsxAr_Zct"
   },
   "source": [
    "Below is a check on implicit duplicates in `genre`. "
   ]
  },
  {
   "cell_type": "code",
   "execution_count": 14,
   "metadata": {
    "id": "JIUcqzZN_Zct"
   },
   "outputs": [
    {
     "data": {
      "text/plain": [
       "array(['acid', 'acoustic', 'action', 'adult', 'africa', 'afrikaans',\n",
       "       'alternative', 'alternativepunk', 'ambient', 'americana',\n",
       "       'animated', 'anime', 'arabesk', 'arabic', 'arena',\n",
       "       'argentinetango', 'art', 'audiobook', 'author', 'avantgarde',\n",
       "       'axé', 'baile', 'balkan', 'beats', 'bigroom', 'black', 'bluegrass',\n",
       "       'blues', 'bollywood', 'bossa', 'brazilian', 'breakbeat', 'breaks',\n",
       "       'broadway', 'cantautori', 'cantopop', 'canzone', 'caribbean',\n",
       "       'caucasian', 'celtic', 'chamber', 'chanson', 'children', 'chill',\n",
       "       'chinese', 'choral', 'christian', 'christmas', 'classical',\n",
       "       'classicmetal', 'club', 'colombian', 'comedy', 'conjazz',\n",
       "       'contemporary', 'country', 'cuban', 'dance', 'dancehall',\n",
       "       'dancepop', 'dark', 'death', 'deep', 'deutschrock', 'deutschspr',\n",
       "       'dirty', 'disco', 'dnb', 'documentary', 'downbeat', 'downtempo',\n",
       "       'drum', 'dub', 'dubstep', 'eastern', 'easy', 'electronic',\n",
       "       'electropop', 'emo', 'entehno', 'epicmetal', 'estrada', 'ethnic',\n",
       "       'eurofolk', 'european', 'experimental', 'extrememetal', 'fado',\n",
       "       'fairytail', 'film', 'fitness', 'flamenco', 'folk', 'folklore',\n",
       "       'folkmetal', 'folkrock', 'folktronica', 'forró', 'frankreich',\n",
       "       'französisch', 'french', 'funk', 'future', 'gangsta', 'garage',\n",
       "       'german', 'ghazal', 'gitarre', 'glitch', 'gospel', 'gothic',\n",
       "       'grime', 'grunge', 'gypsy', 'handsup', \"hard'n'heavy\", 'hardcore',\n",
       "       'hardstyle', 'hardtechno', 'hip', 'hip-hop', 'hiphop',\n",
       "       'historisch', 'holiday', 'hop', 'horror', 'house', 'hymn', 'idm',\n",
       "       'independent', 'indian', 'indie', 'indipop', 'industrial',\n",
       "       'inspirational', 'instrumental', 'international', 'irish', 'jam',\n",
       "       'japanese', 'jazz', 'jewish', 'jpop', 'jungle', 'k-pop',\n",
       "       'karadeniz', 'karaoke', 'kayokyoku', 'korean', 'laiko', 'latin',\n",
       "       'latino', 'leftfield', 'local', 'lounge', 'loungeelectronic',\n",
       "       'lovers', 'malaysian', 'mandopop', 'marschmusik', 'meditative',\n",
       "       'mediterranean', 'melodic', 'metal', 'metalcore', 'mexican',\n",
       "       'middle', 'minimal', 'miscellaneous', 'modern', 'mood', 'mpb',\n",
       "       'muslim', 'native', 'neoklassik', 'neue', 'new', 'newage',\n",
       "       'newwave', 'nu', 'nujazz', 'numetal', 'oceania', 'old', 'opera',\n",
       "       'orchestral', 'other', 'piano', 'podcasts', 'pop', 'popdance',\n",
       "       'popelectronic', 'popeurodance', 'poprussian', 'post',\n",
       "       'posthardcore', 'postrock', 'power', 'progmetal', 'progressive',\n",
       "       'psychedelic', 'punjabi', 'punk', 'quebecois', 'ragga', 'ram',\n",
       "       'rancheras', 'rap', 'rave', 'reggae', 'reggaeton', 'regional',\n",
       "       'relax', 'religious', 'retro', 'rhythm', 'rnb', 'rnr', 'rock',\n",
       "       'rockabilly', 'rockalternative', 'rockindie', 'rockother',\n",
       "       'romance', 'roots', 'ruspop', 'rusrap', 'rusrock', 'russian',\n",
       "       'salsa', 'samba', 'scenic', 'schlager', 'self', 'sertanejo',\n",
       "       'shanson', 'shoegazing', 'showtunes', 'singer', 'ska', 'skarock',\n",
       "       'slow', 'smooth', 'soft', 'soul', 'soulful', 'sound', 'soundtrack',\n",
       "       'southern', 'specialty', 'speech', 'spiritual', 'sport',\n",
       "       'stonerrock', 'surf', 'swing', 'synthpop', 'synthrock',\n",
       "       'sängerportrait', 'tango', 'tanzorchester', 'taraftar', 'tatar',\n",
       "       'tech', 'techno', 'teen', 'thrash', 'top', 'traditional',\n",
       "       'tradjazz', 'trance', 'tribal', 'trip', 'triphop', 'tropical',\n",
       "       'türk', 'türkçe', 'ukrrock', 'unknown', 'urban', 'uzbek',\n",
       "       'variété', 'vi', 'videogame', 'vocal', 'western', 'world',\n",
       "       'worldbeat', 'ïîï', 'электроника'], dtype=object)"
      ]
     },
     "execution_count": 14,
     "metadata": {},
     "output_type": "execute_result"
    }
   ],
   "source": [
    "df['genre'].sort_values().unique() #sort unique values in 'genre'"
   ]
  },
  {
   "cell_type": "markdown",
   "metadata": {
    "id": "qej-Qmuo_Zct"
   },
   "source": [
    "Implicit duplicates of `hiphop`:\n",
    "* *hip*,\n",
    "* *hop*,\n",
    "* *hip-hop*\n",
    "\n",
    "Implicit duplicates of `french`:\n",
    "\n",
    "* *frankreich*,\n",
    "* *franzosisch*\n",
    "\n",
    "As well as `electronic`:\n",
    "* *electronics*."
   ]
  },
  {
   "cell_type": "code",
   "execution_count": 15,
   "metadata": {
    "id": "ErNDkmns_Zct"
   },
   "outputs": [],
   "source": [
    "def replace_wrong_genres(wrong_genres, correct_genre): # function to change value names\n",
    "    for wrong_genre in wrong_genres: \n",
    "        df['genre'] = df['genre'].replace(wrong_genre,correct_genre) "
   ]
  },
  {
   "cell_type": "code",
   "execution_count": 16,
   "metadata": {
    "id": "YN5i2hpmSo09"
   },
   "outputs": [],
   "source": [
    "duplicated_genres = ['hip','hop','hip-hop'] \n",
    "new_genre = 'hiphop' \n",
    "replace_wrong_genres(duplicated_genres, new_genre) "
   ]
  },
  {
   "cell_type": "code",
   "execution_count": 17,
   "metadata": {},
   "outputs": [],
   "source": [
    "duplicated_genres = ['frankreich','französisch'] \n",
    "new_genre = 'french' \n",
    "replace_wrong_genres(duplicated_genres, new_genre) "
   ]
  },
  {
   "cell_type": "code",
   "execution_count": 18,
   "metadata": {},
   "outputs": [],
   "source": [
    "replace_wrong_genres(['электроника'], 'electronic') "
   ]
  },
  {
   "cell_type": "code",
   "execution_count": 19,
   "metadata": {
    "id": "wvixALnFG15m"
   },
   "outputs": [
    {
     "data": {
      "text/plain": [
       "array(['acid', 'acoustic', 'action', 'adult', 'africa', 'afrikaans',\n",
       "       'alternative', 'alternativepunk', 'ambient', 'americana',\n",
       "       'animated', 'anime', 'arabesk', 'arabic', 'arena',\n",
       "       'argentinetango', 'art', 'audiobook', 'author', 'avantgarde',\n",
       "       'axé', 'baile', 'balkan', 'beats', 'bigroom', 'black', 'bluegrass',\n",
       "       'blues', 'bollywood', 'bossa', 'brazilian', 'breakbeat', 'breaks',\n",
       "       'broadway', 'cantautori', 'cantopop', 'canzone', 'caribbean',\n",
       "       'caucasian', 'celtic', 'chamber', 'chanson', 'children', 'chill',\n",
       "       'chinese', 'choral', 'christian', 'christmas', 'classical',\n",
       "       'classicmetal', 'club', 'colombian', 'comedy', 'conjazz',\n",
       "       'contemporary', 'country', 'cuban', 'dance', 'dancehall',\n",
       "       'dancepop', 'dark', 'death', 'deep', 'deutschrock', 'deutschspr',\n",
       "       'dirty', 'disco', 'dnb', 'documentary', 'downbeat', 'downtempo',\n",
       "       'drum', 'dub', 'dubstep', 'eastern', 'easy', 'electronic',\n",
       "       'electropop', 'emo', 'entehno', 'epicmetal', 'estrada', 'ethnic',\n",
       "       'eurofolk', 'european', 'experimental', 'extrememetal', 'fado',\n",
       "       'fairytail', 'film', 'fitness', 'flamenco', 'folk', 'folklore',\n",
       "       'folkmetal', 'folkrock', 'folktronica', 'forró', 'french', 'funk',\n",
       "       'future', 'gangsta', 'garage', 'german', 'ghazal', 'gitarre',\n",
       "       'glitch', 'gospel', 'gothic', 'grime', 'grunge', 'gypsy',\n",
       "       'handsup', \"hard'n'heavy\", 'hardcore', 'hardstyle', 'hardtechno',\n",
       "       'hiphop', 'historisch', 'holiday', 'horror', 'house', 'hymn',\n",
       "       'idm', 'independent', 'indian', 'indie', 'indipop', 'industrial',\n",
       "       'inspirational', 'instrumental', 'international', 'irish', 'jam',\n",
       "       'japanese', 'jazz', 'jewish', 'jpop', 'jungle', 'k-pop',\n",
       "       'karadeniz', 'karaoke', 'kayokyoku', 'korean', 'laiko', 'latin',\n",
       "       'latino', 'leftfield', 'local', 'lounge', 'loungeelectronic',\n",
       "       'lovers', 'malaysian', 'mandopop', 'marschmusik', 'meditative',\n",
       "       'mediterranean', 'melodic', 'metal', 'metalcore', 'mexican',\n",
       "       'middle', 'minimal', 'miscellaneous', 'modern', 'mood', 'mpb',\n",
       "       'muslim', 'native', 'neoklassik', 'neue', 'new', 'newage',\n",
       "       'newwave', 'nu', 'nujazz', 'numetal', 'oceania', 'old', 'opera',\n",
       "       'orchestral', 'other', 'piano', 'podcasts', 'pop', 'popdance',\n",
       "       'popelectronic', 'popeurodance', 'poprussian', 'post',\n",
       "       'posthardcore', 'postrock', 'power', 'progmetal', 'progressive',\n",
       "       'psychedelic', 'punjabi', 'punk', 'quebecois', 'ragga', 'ram',\n",
       "       'rancheras', 'rap', 'rave', 'reggae', 'reggaeton', 'regional',\n",
       "       'relax', 'religious', 'retro', 'rhythm', 'rnb', 'rnr', 'rock',\n",
       "       'rockabilly', 'rockalternative', 'rockindie', 'rockother',\n",
       "       'romance', 'roots', 'ruspop', 'rusrap', 'rusrock', 'russian',\n",
       "       'salsa', 'samba', 'scenic', 'schlager', 'self', 'sertanejo',\n",
       "       'shanson', 'shoegazing', 'showtunes', 'singer', 'ska', 'skarock',\n",
       "       'slow', 'smooth', 'soft', 'soul', 'soulful', 'sound', 'soundtrack',\n",
       "       'southern', 'specialty', 'speech', 'spiritual', 'sport',\n",
       "       'stonerrock', 'surf', 'swing', 'synthpop', 'synthrock',\n",
       "       'sängerportrait', 'tango', 'tanzorchester', 'taraftar', 'tatar',\n",
       "       'tech', 'techno', 'teen', 'thrash', 'top', 'traditional',\n",
       "       'tradjazz', 'trance', 'tribal', 'trip', 'triphop', 'tropical',\n",
       "       'türk', 'türkçe', 'ukrrock', 'unknown', 'urban', 'uzbek',\n",
       "       'variété', 'vi', 'videogame', 'vocal', 'western', 'world',\n",
       "       'worldbeat', 'ïîï'], dtype=object)"
      ]
     },
     "execution_count": 19,
     "metadata": {},
     "output_type": "execute_result"
    }
   ],
   "source": [
    "df['genre'].sort_values().unique() # Check"
   ]
  },
  {
   "cell_type": "markdown",
   "metadata": {
    "id": "jz6a9-7HQUDd"
   },
   "source": [
    "**Conclusions**\n",
    "\n",
    "Preprocessing found three problems in the data:\n",
    "\n",
    " - heading style violations\n",
    " - missing values\n",
    " - duplicates - explicit and implicit.\n",
    "\n",
    "The problems were fixed - next step will be hypothesis testing."
   ]
  },
  {
   "cell_type": "markdown",
   "metadata": {
    "id": "WttZHXH0SqKk"
   },
   "source": [
    "## Hypothesis testing"
   ]
  },
  {
   "cell_type": "markdown",
   "metadata": {
    "id": "Im936VVi_Zcu"
   },
   "source": [
    "### 1. User activity depends on the day of the week. It shows itself differently in City M and City P."
   ]
  },
  {
   "cell_type": "code",
   "execution_count": 20,
   "metadata": {
    "id": "0_Qs96oh_Zcu"
   },
   "outputs": [
    {
     "data": {
      "text/plain": [
       "city\n",
       "Moscow              42741\n",
       "Saint-Petersburg    18512\n",
       "Name: user_id, dtype: int64"
      ]
     },
     "execution_count": 20,
     "metadata": {},
     "output_type": "execute_result"
    }
   ],
   "source": [
    "df.groupby('city')['user_id'].count() "
   ]
  },
  {
   "cell_type": "markdown",
   "metadata": {
    "id": "dzli3w8o_Zcu"
   },
   "source": [
    "There are more listenings in City M than in City P. It does not necessarily mean that M. users listen to music more often -  there are simply more users in City M."
   ]
  },
  {
   "cell_type": "code",
   "execution_count": 21,
   "metadata": {
    "id": "uZMKjiJz_Zcu"
   },
   "outputs": [
    {
     "data": {
      "text/plain": [
       "day\n",
       "Friday       21840\n",
       "Monday       21354\n",
       "Wednesday    18059\n",
       "Name: user_id, dtype: int64"
      ]
     },
     "execution_count": 21,
     "metadata": {},
     "output_type": "execute_result"
    }
   ],
   "source": [
    "df.groupby('day')['user_id'].count() # group by day"
   ]
  },
  {
   "cell_type": "markdown",
   "metadata": {
    "id": "cC2tNrlL_Zcu"
   },
   "source": [
    "On average, users from the two cities are less active on Wednesdays. But the picture may change if each city is considered separately."
   ]
  },
  {
   "cell_type": "code",
   "execution_count": 22,
   "metadata": {
    "id": "Nz3GdQB1_Zcu"
   },
   "outputs": [],
   "source": [
    "# Function for counting plays for a specific city and day\n",
    "def number_tracks(day, city): \n",
    "    track_list = df[df['day'] == day] \n",
    "    track_list = track_list[track_list['city'] == city] \n",
    "    track_list_count = track_list['user_id'].count() \n",
    "    return (track_list_count) "
   ]
  },
  {
   "cell_type": "code",
   "execution_count": 23,
   "metadata": {
    "id": "rJcRATNQ_Zcu"
   },
   "outputs": [
    {
     "data": {
      "text/plain": [
       "15740"
      ]
     },
     "execution_count": 23,
     "metadata": {},
     "output_type": "execute_result"
    }
   ],
   "source": [
    "monday_moscow = number_tracks('Monday', 'Moscow') \n",
    "monday_moscow"
   ]
  },
  {
   "cell_type": "code",
   "execution_count": 24,
   "metadata": {
    "id": "hq_ncZ5T_Zcu"
   },
   "outputs": [
    {
     "data": {
      "text/plain": [
       "5614"
      ]
     },
     "execution_count": 24,
     "metadata": {},
     "output_type": "execute_result"
    }
   ],
   "source": [
    "monday_spb = number_tracks('Monday', 'Saint-Petersburg') \n",
    "monday_spb"
   ]
  },
  {
   "cell_type": "code",
   "execution_count": 25,
   "metadata": {
    "id": "_NTy2VPU_Zcu"
   },
   "outputs": [
    {
     "data": {
      "text/plain": [
       "11056"
      ]
     },
     "execution_count": 25,
     "metadata": {},
     "output_type": "execute_result"
    }
   ],
   "source": [
    "wednesday_moscow = number_tracks('Wednesday', 'Moscow') \n",
    "wednesday_moscow"
   ]
  },
  {
   "cell_type": "code",
   "execution_count": 26,
   "metadata": {
    "id": "j2y3TAwo_Zcu"
   },
   "outputs": [
    {
     "data": {
      "text/plain": [
       "7003"
      ]
     },
     "execution_count": 26,
     "metadata": {},
     "output_type": "execute_result"
    }
   ],
   "source": [
    "wednesday_spb = number_tracks('Wednesday', 'Saint-Petersburg') \n",
    "wednesday_spb"
   ]
  },
  {
   "cell_type": "code",
   "execution_count": 27,
   "metadata": {
    "id": "vYDw5u_K_Zcu"
   },
   "outputs": [
    {
     "data": {
      "text/plain": [
       "15945"
      ]
     },
     "execution_count": 27,
     "metadata": {},
     "output_type": "execute_result"
    }
   ],
   "source": [
    "friday_moscow = number_tracks('Friday', 'Moscow') \n",
    "friday_moscow"
   ]
  },
  {
   "cell_type": "code",
   "execution_count": 28,
   "metadata": {
    "id": "8_yzFtW3_Zcu"
   },
   "outputs": [
    {
     "data": {
      "text/plain": [
       "5895"
      ]
     },
     "execution_count": 28,
     "metadata": {},
     "output_type": "execute_result"
    }
   ],
   "source": [
    "friday_spb = number_tracks('Friday', 'Saint-Petersburg') \n",
    "friday_spb"
   ]
  },
  {
   "cell_type": "markdown",
   "metadata": {
    "id": "7QXffbO-_Zcu"
   },
   "source": [
    "Below the results are presented in a table format."
   ]
  },
  {
   "cell_type": "code",
   "execution_count": 29,
   "metadata": {
    "id": "APAcLpOr_Zcu"
   },
   "outputs": [
    {
     "data": {
      "text/html": [
       "<div>\n",
       "<style scoped>\n",
       "    .dataframe tbody tr th:only-of-type {\n",
       "        vertical-align: middle;\n",
       "    }\n",
       "\n",
       "    .dataframe tbody tr th {\n",
       "        vertical-align: top;\n",
       "    }\n",
       "\n",
       "    .dataframe thead th {\n",
       "        text-align: right;\n",
       "    }\n",
       "</style>\n",
       "<table border=\"1\" class=\"dataframe\">\n",
       "  <thead>\n",
       "    <tr style=\"text-align: right;\">\n",
       "      <th></th>\n",
       "      <th>city</th>\n",
       "      <th>monday</th>\n",
       "      <th>wednesday</th>\n",
       "      <th>friday</th>\n",
       "    </tr>\n",
       "  </thead>\n",
       "  <tbody>\n",
       "    <tr>\n",
       "      <td>0</td>\n",
       "      <td>Moscow</td>\n",
       "      <td>15740</td>\n",
       "      <td>11056</td>\n",
       "      <td>15945</td>\n",
       "    </tr>\n",
       "    <tr>\n",
       "      <td>1</td>\n",
       "      <td>Saint_Petersburg</td>\n",
       "      <td>5614</td>\n",
       "      <td>7003</td>\n",
       "      <td>5895</td>\n",
       "    </tr>\n",
       "  </tbody>\n",
       "</table>\n",
       "</div>"
      ],
      "text/plain": [
       "               city  monday  wednesday  friday\n",
       "0            Moscow   15740      11056   15945\n",
       "1  Saint_Petersburg    5614       7003    5895"
      ]
     },
     "execution_count": 29,
     "metadata": {},
     "output_type": "execute_result"
    }
   ],
   "source": [
    "columns = ['city', 'monday', 'wednesday', 'friday'] \n",
    "number_tracks_res = [['Moscow', monday_moscow, wednesday_moscow, friday_moscow],\n",
    "                ['Saint_Petersburg', monday_spb, wednesday_spb, friday_spb]]                      \n",
    "first_guess_result = pd.DataFrame(data = number_tracks_res, columns = columns) \n",
    "first_guess_result"
   ]
  },
  {
   "cell_type": "markdown",
   "metadata": {
    "id": "-EgPIHYu_Zcu"
   },
   "source": [
    "**Conclusions**\n",
    "\n",
    "Based on the data obtained, it is impossible to draw an unambiguous conclusion in favor of the first hypothesis, while it is also not possible to reject it.\n",
    "User activity really depends on the day of the week.\n",
    "At the same time, the activity of users in City M and City P manifests itself differently on Wednesdays only.\n",
    "\n",
    "The data shows the difference in user behavior:\n",
    "\n",
    "- In Moscow, the peak of listening is on Monday and Friday.\n",
    "- In St. Petersburg, on the contrary, they listen to music more on Wednesdays. Activity on Monday and Friday here is almost equally inferior to Wednesday.\n",
    "\n",
    "At the same time, there is a similarity in user behavior:\n",
    "- In both cities, about the same number of users listen to music on Mondays as on Fridays\n",
    "- In both cities there is a slight advantage towards Friday."
   ]
  },
  {
   "cell_type": "markdown",
   "metadata": {
    "id": "atZAxtq4_Zcu"
   },
   "source": [
    "### 2. On Monday morning, certain genres prevail in City M, while others prevail in City P. Similarly, Friday evenings are dominated by different genres, depending on the city."
   ]
  },
  {
   "cell_type": "code",
   "execution_count": 30,
   "metadata": {
    "id": "qeaFfM_P_Zcu"
   },
   "outputs": [],
   "source": [
    "moscow_general = df[df['city']=='Moscow'] "
   ]
  },
  {
   "cell_type": "code",
   "execution_count": 31,
   "metadata": {
    "id": "ORaVRKto_Zcu"
   },
   "outputs": [],
   "source": [
    "spb_general = df[df['city']=='Saint-Petersburg'] "
   ]
  },
  {
   "cell_type": "code",
   "execution_count": 32,
   "metadata": {
    "id": "laJT9BYl_Zcu"
   },
   "outputs": [],
   "source": [
    "# function, which returns information about the most popular genres on a given day at a given time (top 10)\n",
    "def genre_weekday(table, day, time1, time2): \n",
    "    \n",
    "    genre_df = table[table['day'] == day]  \n",
    "    genre_df = genre_df[genre_df['time'] > time1] \n",
    "    genre_df = genre_df[genre_df['time'] < time2] \n",
    "    genre_df_count = genre_df.groupby('genre')['user_id'].count()\n",
    "    genre_df_sorted = genre_df_count.sort_values(ascending = False)\n",
    "    return(genre_df_sorted.head(10))\n"
   ]
  },
  {
   "cell_type": "markdown",
   "metadata": {},
   "source": [
    "Monday morning comparison"
   ]
  },
  {
   "cell_type": "code",
   "execution_count": 33,
   "metadata": {
    "id": "yz7itPUQ_Zcu"
   },
   "outputs": [
    {
     "data": {
      "text/plain": [
       "genre\n",
       "pop            781\n",
       "dance          549\n",
       "electronic     480\n",
       "rock           474\n",
       "hiphop         286\n",
       "ruspop         186\n",
       "world          181\n",
       "rusrap         175\n",
       "alternative    164\n",
       "unknown        161\n",
       "Name: user_id, dtype: int64"
      ]
     },
     "execution_count": 33,
     "metadata": {},
     "output_type": "execute_result"
    }
   ],
   "source": [
    "genre_weekday(moscow_general, 'Monday', '07:00', '11:00') "
   ]
  },
  {
   "cell_type": "code",
   "execution_count": 34,
   "metadata": {
    "id": "kwUcHPdy_Zcu"
   },
   "outputs": [
    {
     "data": {
      "text/plain": [
       "genre\n",
       "pop            218\n",
       "dance          182\n",
       "rock           162\n",
       "electronic     147\n",
       "hiphop          80\n",
       "ruspop          64\n",
       "alternative     58\n",
       "rusrap          55\n",
       "jazz            44\n",
       "classical       40\n",
       "Name: user_id, dtype: int64"
      ]
     },
     "execution_count": 34,
     "metadata": {},
     "output_type": "execute_result"
    }
   ],
   "source": [
    "genre_weekday(spb_general, 'Monday', '07:00', '11:00') # вызов функции для утра понедельника в Петербурге (вместо df — таблица spb_general)"
   ]
  },
  {
   "cell_type": "markdown",
   "metadata": {},
   "source": [
    "Friday evening comparison"
   ]
  },
  {
   "cell_type": "code",
   "execution_count": 35,
   "metadata": {
    "id": "EzXVRE1o_Zcu",
    "scrolled": true
   },
   "outputs": [
    {
     "data": {
      "text/plain": [
       "genre\n",
       "pop            713\n",
       "rock           517\n",
       "dance          495\n",
       "electronic     482\n",
       "hiphop         273\n",
       "world          208\n",
       "ruspop         170\n",
       "alternative    163\n",
       "classical      163\n",
       "rusrap         142\n",
       "Name: user_id, dtype: int64"
      ]
     },
     "execution_count": 35,
     "metadata": {},
     "output_type": "execute_result"
    }
   ],
   "source": [
    "genre_weekday(moscow_general, 'Friday', '17:00', '23:00') "
   ]
  },
  {
   "cell_type": "code",
   "execution_count": 36,
   "metadata": {
    "id": "JZaEKu5v_Zcu"
   },
   "outputs": [
    {
     "data": {
      "text/plain": [
       "genre\n",
       "pop            256\n",
       "rock           216\n",
       "electronic     216\n",
       "dance          210\n",
       "hiphop          97\n",
       "alternative     63\n",
       "jazz            61\n",
       "classical       60\n",
       "rusrap          59\n",
       "world           54\n",
       "Name: user_id, dtype: int64"
      ]
     },
     "execution_count": 36,
     "metadata": {},
     "output_type": "execute_result"
    }
   ],
   "source": [
    "genre_weekday(spb_general, 'Friday', '17:00', '23:00') "
   ]
  },
  {
   "cell_type": "markdown",
   "metadata": {
    "id": "wrCe4MNX_Zcu"
   },
   "source": [
    "**Conclusions**\n",
    "\n",
    "If we compare the top 10 genres on Monday morning, we can draw the following conclusions:\n",
    "\n",
    "1. In City M and City P they listen to similar music. The only difference is that City M rating includes the “world” genre, while City P rating includes jazz and classical.\n",
    "\n",
    "2. Missing values in City M (`'unknown'`) took tenth place among the most popular genres. Missing values reduce the validity of the study. Even though, the impact of missing values is not expected to be critical, as top 10 ratings in both cities include mostly the same positions. Omissions can be a new genre or a combination of genres that would change the position of popular genres in the rankings.\n",
    "\n",
    "Friday night does not change this picture. Some genres rise a little higher, others go down, but overall the top 10 stays the same. \n",
    "\n",
    "Thus, the second hypothesis was not confirmed. The difference between City M and City P is not very pronounced. "
   ]
  },
  {
   "cell_type": "markdown",
   "metadata": {
    "id": "JolODAqr_Zcu"
   },
   "source": [
    "### 3. City M and City P prefer different genres of music. In City M, they listen to pop music more often, in City P - Russian rap."
   ]
  },
  {
   "cell_type": "code",
   "execution_count": 37,
   "metadata": {
    "id": "r19lIPke_Zcu"
   },
   "outputs": [],
   "source": [
    "moscow_genres = moscow_general.groupby('genre')['track'].count().sort_values(ascending=False)"
   ]
  },
  {
   "cell_type": "code",
   "execution_count": 38,
   "metadata": {
    "id": "WhCSooF8_Zcv"
   },
   "outputs": [
    {
     "data": {
      "text/plain": [
       "genre\n",
       "pop            5892\n",
       "dance          4435\n",
       "rock           3965\n",
       "electronic     3786\n",
       "hiphop         2096\n",
       "classical      1616\n",
       "world          1432\n",
       "alternative    1379\n",
       "ruspop         1372\n",
       "rusrap         1161\n",
       "Name: track, dtype: int64"
      ]
     },
     "execution_count": 38,
     "metadata": {},
     "output_type": "execute_result"
    }
   ],
   "source": [
    "moscow_genres.head(10) # first 10 rows moscow_genres"
   ]
  },
  {
   "cell_type": "code",
   "execution_count": 39,
   "metadata": {
    "id": "gluLIpE7_Zcv"
   },
   "outputs": [],
   "source": [
    "spb_genres = spb_general.groupby('genre')['track'].count().sort_values(ascending=False)"
   ]
  },
  {
   "cell_type": "code",
   "execution_count": 40,
   "metadata": {
    "id": "uaGJHjVU_Zcv"
   },
   "outputs": [
    {
     "data": {
      "text/plain": [
       "genre\n",
       "pop            2431\n",
       "dance          1932\n",
       "rock           1879\n",
       "electronic     1737\n",
       "hiphop          960\n",
       "alternative     649\n",
       "classical       646\n",
       "rusrap          564\n",
       "ruspop          538\n",
       "world           515\n",
       "Name: track, dtype: int64"
      ]
     },
     "execution_count": 40,
     "metadata": {},
     "output_type": "execute_result"
    }
   ],
   "source": [
    "spb_genres.head(10) # просмотр первых 10 строк spb_genres"
   ]
  },
  {
   "cell_type": "markdown",
   "metadata": {},
   "source": [
    "The place, that `rap` holds in both tops."
   ]
  },
  {
   "cell_type": "code",
   "execution_count": 41,
   "metadata": {
    "scrolled": true
   },
   "outputs": [
    {
     "data": {
      "text/plain": [
       "18"
      ]
     },
     "execution_count": 41,
     "metadata": {},
     "output_type": "execute_result"
    }
   ],
   "source": [
    "(moscow_genres[:'rap']).count() "
   ]
  },
  {
   "cell_type": "code",
   "execution_count": 42,
   "metadata": {},
   "outputs": [
    {
     "data": {
      "text/plain": [
       "15"
      ]
     },
     "execution_count": 42,
     "metadata": {},
     "output_type": "execute_result"
    }
   ],
   "source": [
    "(spb_genres[:'rap']).count() "
   ]
  },
  {
   "cell_type": "markdown",
   "metadata": {
    "id": "nVhnJEm__Zcv"
   },
   "source": [
    "**Conclusions**\n",
    "\n",
    "The hypothesis was partially confirmed:\n",
    "* Pop music is the most popular genre in City M, as the hypothesis suggested. Moreover, in the top 10 genres there is a close genre - Russian pop music.\n",
    "* Contrary to expectations, the rap genre (excluding Russian rap) is not in the top 10 popularity in City M and City P, ranking only 18th and 15th in popularity, respectively.\n",
    "* At the same time, Russian rap is equally popular in City M and City P, ranking 10th and 8th, respectively."
   ]
  },
  {
   "cell_type": "markdown",
   "metadata": {
    "id": "ykKQ0N65_Zcv"
   },
   "source": [
    "## Final conclusion"
   ]
  },
  {
   "cell_type": "markdown",
   "metadata": {
    "id": "tjUwbHb3_Zcv"
   },
   "source": [
    "The test of three hypotheses has shown the following:\n",
    "\n",
    "1. The first hypothesis was partially confirmed. Users in both cities tend to listen to music in approximately equal volumes on Mondays and Fridays, while the Wednesday affects them differently.\n",
    "\n",
    "2. The second hypothesis was not confirmed. Genres are almost the same for both cities for Monday morning and Friday evening.\n",
    "\n",
    "3. The third hypothesis was partially confirmed. In City M, they really prefer pop music to other genres. However, if there are differences in the preferences of residents of both cities, they are invisible to the majority of users."
   ]
  }
 ],
 "metadata": {
  "ExecuteTimeLog": [
   {
    "duration": 726,
    "start_time": "2021-11-30T17:41:35.203Z"
   },
   {
    "duration": 269,
    "start_time": "2021-11-30T17:42:57.028Z"
   },
   {
    "duration": 841,
    "start_time": "2021-11-30T17:43:01.134Z"
   },
   {
    "duration": 200,
    "start_time": "2021-11-30T17:43:41.225Z"
   },
   {
    "duration": 201,
    "start_time": "2021-11-30T17:43:43.279Z"
   },
   {
    "duration": 193,
    "start_time": "2021-11-30T17:43:44.756Z"
   },
   {
    "duration": 29,
    "start_time": "2021-11-30T17:43:48.208Z"
   },
   {
    "duration": 16,
    "start_time": "2021-11-30T17:44:01.723Z"
   },
   {
    "duration": 17,
    "start_time": "2021-11-30T17:44:12.494Z"
   },
   {
    "duration": 17,
    "start_time": "2021-11-30T17:44:38.192Z"
   },
   {
    "duration": 39,
    "start_time": "2021-11-30T17:44:46.571Z"
   },
   {
    "duration": 345,
    "start_time": "2021-11-30T17:50:00.815Z"
   },
   {
    "duration": 278,
    "start_time": "2021-11-30T17:50:15.475Z"
   },
   {
    "duration": 7,
    "start_time": "2021-11-30T17:50:42.653Z"
   },
   {
    "duration": 6,
    "start_time": "2021-11-30T17:55:42.072Z"
   },
   {
    "duration": 30,
    "start_time": "2021-11-30T17:55:46.631Z"
   },
   {
    "duration": 5,
    "start_time": "2021-11-30T17:55:51.000Z"
   },
   {
    "duration": 23,
    "start_time": "2021-11-30T17:56:02.589Z"
   },
   {
    "duration": 5,
    "start_time": "2021-11-30T17:56:05.497Z"
   },
   {
    "duration": 6,
    "start_time": "2021-11-30T17:56:11.383Z"
   },
   {
    "duration": 5,
    "start_time": "2021-11-30T17:57:22.314Z"
   },
   {
    "duration": 22,
    "start_time": "2021-11-30T17:57:26.305Z"
   },
   {
    "duration": 6,
    "start_time": "2021-11-30T17:57:29.544Z"
   },
   {
    "duration": 4,
    "start_time": "2021-11-30T17:57:48.983Z"
   },
   {
    "duration": 202,
    "start_time": "2021-11-30T17:57:48.989Z"
   },
   {
    "duration": 15,
    "start_time": "2021-11-30T17:57:49.194Z"
   },
   {
    "duration": 55,
    "start_time": "2021-11-30T17:57:49.212Z"
   },
   {
    "duration": 7,
    "start_time": "2021-11-30T17:57:49.270Z"
   },
   {
    "duration": 28,
    "start_time": "2021-11-30T17:57:49.279Z"
   },
   {
    "duration": 32,
    "start_time": "2021-11-30T17:58:56.813Z"
   },
   {
    "duration": 30,
    "start_time": "2021-11-30T17:59:23.356Z"
   },
   {
    "duration": 31,
    "start_time": "2021-11-30T18:02:24.580Z"
   },
   {
    "duration": 392,
    "start_time": "2021-11-30T18:02:27.665Z"
   },
   {
    "duration": 310,
    "start_time": "2021-11-30T18:04:06.003Z"
   },
   {
    "duration": 272,
    "start_time": "2021-11-30T18:05:43.230Z"
   },
   {
    "duration": 352,
    "start_time": "2021-11-30T18:06:29.943Z"
   },
   {
    "duration": 323,
    "start_time": "2021-11-30T18:06:36.140Z"
   },
   {
    "duration": 432,
    "start_time": "2021-11-30T18:08:05.988Z"
   },
   {
    "duration": 79,
    "start_time": "2021-11-30T18:10:46.746Z"
   },
   {
    "duration": 69,
    "start_time": "2021-11-30T18:10:49.197Z"
   },
   {
    "duration": 18,
    "start_time": "2021-11-30T18:10:51.305Z"
   },
   {
    "duration": 70,
    "start_time": "2021-11-30T18:11:26.122Z"
   },
   {
    "duration": 28,
    "start_time": "2021-11-30T18:11:28.014Z"
   },
   {
    "duration": 80,
    "start_time": "2021-11-30T18:11:39.799Z"
   },
   {
    "duration": 19,
    "start_time": "2021-11-30T18:11:41.857Z"
   },
   {
    "duration": 10,
    "start_time": "2021-11-30T18:11:48.175Z"
   },
   {
    "duration": 10,
    "start_time": "2021-11-30T18:11:59.705Z"
   },
   {
    "duration": 19,
    "start_time": "2021-11-30T18:12:04.926Z"
   },
   {
    "duration": 72,
    "start_time": "2021-11-30T18:12:58.783Z"
   },
   {
    "duration": 24,
    "start_time": "2021-11-30T18:13:01.463Z"
   },
   {
    "duration": 76,
    "start_time": "2021-11-30T18:13:05.787Z"
   },
   {
    "duration": 68,
    "start_time": "2021-11-30T18:13:06.690Z"
   },
   {
    "duration": 74,
    "start_time": "2021-11-30T18:13:07.343Z"
   },
   {
    "duration": 20,
    "start_time": "2021-11-30T18:13:09.168Z"
   },
   {
    "duration": 75,
    "start_time": "2021-11-30T18:13:15.029Z"
   },
   {
    "duration": 5,
    "start_time": "2021-11-30T18:13:38.521Z"
   },
   {
    "duration": 19,
    "start_time": "2021-11-30T18:13:44.164Z"
   },
   {
    "duration": 10,
    "start_time": "2021-11-30T18:13:55.091Z"
   },
   {
    "duration": 6,
    "start_time": "2021-11-30T18:13:56.865Z"
   },
   {
    "duration": 4,
    "start_time": "2021-11-30T18:14:05.808Z"
   },
   {
    "duration": 200,
    "start_time": "2021-11-30T18:14:05.814Z"
   },
   {
    "duration": 16,
    "start_time": "2021-11-30T18:14:06.017Z"
   },
   {
    "duration": 52,
    "start_time": "2021-11-30T18:14:06.036Z"
   },
   {
    "duration": 5,
    "start_time": "2021-11-30T18:14:06.090Z"
   },
   {
    "duration": 30,
    "start_time": "2021-11-30T18:14:06.098Z"
   },
   {
    "duration": 6,
    "start_time": "2021-11-30T18:14:19.494Z"
   },
   {
    "duration": 4,
    "start_time": "2021-11-30T18:14:28.790Z"
   },
   {
    "duration": 194,
    "start_time": "2021-11-30T18:14:28.798Z"
   },
   {
    "duration": 16,
    "start_time": "2021-11-30T18:14:28.995Z"
   },
   {
    "duration": 59,
    "start_time": "2021-11-30T18:14:29.015Z"
   },
   {
    "duration": 7,
    "start_time": "2021-11-30T18:14:29.078Z"
   },
   {
    "duration": 19,
    "start_time": "2021-11-30T18:14:29.087Z"
   },
   {
    "duration": 6,
    "start_time": "2021-11-30T18:14:29.109Z"
   },
   {
    "duration": 70,
    "start_time": "2021-11-30T18:14:29.118Z"
   },
   {
    "duration": 10,
    "start_time": "2021-11-30T18:14:29.191Z"
   },
   {
    "duration": 33,
    "start_time": "2021-11-30T18:14:37.725Z"
   },
   {
    "duration": 3,
    "start_time": "2021-11-30T18:15:08.848Z"
   },
   {
    "duration": 195,
    "start_time": "2021-11-30T18:15:08.854Z"
   },
   {
    "duration": 20,
    "start_time": "2021-11-30T18:15:09.052Z"
   },
   {
    "duration": 36,
    "start_time": "2021-11-30T18:15:09.075Z"
   },
   {
    "duration": 5,
    "start_time": "2021-11-30T18:15:09.113Z"
   },
   {
    "duration": 58,
    "start_time": "2021-11-30T18:15:09.121Z"
   },
   {
    "duration": 5,
    "start_time": "2021-11-30T18:15:09.182Z"
   },
   {
    "duration": 37,
    "start_time": "2021-11-30T18:15:09.190Z"
   },
   {
    "duration": 407,
    "start_time": "2021-11-30T18:15:09.230Z"
   },
   {
    "duration": 34,
    "start_time": "2021-11-30T18:15:13.467Z"
   },
   {
    "duration": 53,
    "start_time": "2021-11-30T18:15:47.996Z"
   },
   {
    "duration": 4,
    "start_time": "2021-11-30T18:16:29.092Z"
   },
   {
    "duration": 815,
    "start_time": "2021-11-30T18:16:29.099Z"
   },
   {
    "duration": 16,
    "start_time": "2021-11-30T18:16:29.917Z"
   },
   {
    "duration": 61,
    "start_time": "2021-11-30T18:16:29.937Z"
   },
   {
    "duration": 9,
    "start_time": "2021-11-30T18:16:30.002Z"
   },
   {
    "duration": 35,
    "start_time": "2021-11-30T18:16:30.014Z"
   },
   {
    "duration": 18,
    "start_time": "2021-11-30T18:16:30.052Z"
   },
   {
    "duration": 34,
    "start_time": "2021-11-30T18:16:30.073Z"
   },
   {
    "duration": 570,
    "start_time": "2021-11-30T18:16:30.109Z"
   },
   {
    "duration": 34,
    "start_time": "2021-11-30T18:16:32.679Z"
   },
   {
    "duration": 19,
    "start_time": "2021-11-30T18:16:42.186Z"
   },
   {
    "duration": 32,
    "start_time": "2021-11-30T18:17:16.032Z"
   },
   {
    "duration": 4,
    "start_time": "2021-11-30T18:17:20.647Z"
   },
   {
    "duration": 209,
    "start_time": "2021-11-30T18:17:20.654Z"
   },
   {
    "duration": 15,
    "start_time": "2021-11-30T18:17:20.868Z"
   },
   {
    "duration": 38,
    "start_time": "2021-11-30T18:17:20.886Z"
   },
   {
    "duration": 6,
    "start_time": "2021-11-30T18:17:20.927Z"
   },
   {
    "duration": 42,
    "start_time": "2021-11-30T18:17:20.935Z"
   },
   {
    "duration": 5,
    "start_time": "2021-11-30T18:17:20.980Z"
   },
   {
    "duration": 42,
    "start_time": "2021-11-30T18:17:20.987Z"
   },
   {
    "duration": 547,
    "start_time": "2021-11-30T18:17:21.032Z"
   },
   {
    "duration": 87,
    "start_time": "2021-11-30T18:18:32.793Z"
   },
   {
    "duration": 96,
    "start_time": "2021-11-30T18:18:47.946Z"
   },
   {
    "duration": 82,
    "start_time": "2021-11-30T18:18:56.145Z"
   },
   {
    "duration": 3,
    "start_time": "2021-11-30T18:22:15.062Z"
   },
   {
    "duration": 202,
    "start_time": "2021-11-30T18:22:15.068Z"
   },
   {
    "duration": 16,
    "start_time": "2021-11-30T18:22:15.273Z"
   },
   {
    "duration": 37,
    "start_time": "2021-11-30T18:22:15.292Z"
   },
   {
    "duration": 6,
    "start_time": "2021-11-30T18:22:15.331Z"
   },
   {
    "duration": 15,
    "start_time": "2021-11-30T18:22:15.368Z"
   },
   {
    "duration": 6,
    "start_time": "2021-11-30T18:22:15.387Z"
   },
   {
    "duration": 38,
    "start_time": "2021-11-30T18:22:15.395Z"
   },
   {
    "duration": 549,
    "start_time": "2021-11-30T18:22:15.467Z"
   },
   {
    "duration": 30,
    "start_time": "2021-11-30T18:22:16.019Z"
   },
   {
    "duration": 118,
    "start_time": "2021-11-30T18:22:16.052Z"
   },
   {
    "duration": 112,
    "start_time": "2021-11-30T18:22:16.172Z"
   },
   {
    "duration": 83,
    "start_time": "2021-11-30T18:22:20.585Z"
   },
   {
    "duration": 3,
    "start_time": "2021-11-30T18:22:25.086Z"
   },
   {
    "duration": 204,
    "start_time": "2021-11-30T18:22:25.095Z"
   },
   {
    "duration": 16,
    "start_time": "2021-11-30T18:22:25.301Z"
   },
   {
    "duration": 52,
    "start_time": "2021-11-30T18:22:25.321Z"
   },
   {
    "duration": 5,
    "start_time": "2021-11-30T18:22:25.376Z"
   },
   {
    "duration": 17,
    "start_time": "2021-11-30T18:22:25.383Z"
   },
   {
    "duration": 5,
    "start_time": "2021-11-30T18:22:25.403Z"
   },
   {
    "duration": 67,
    "start_time": "2021-11-30T18:22:25.410Z"
   },
   {
    "duration": 553,
    "start_time": "2021-11-30T18:22:25.480Z"
   },
   {
    "duration": 35,
    "start_time": "2021-11-30T18:22:26.035Z"
   },
   {
    "duration": 100,
    "start_time": "2021-11-30T18:22:26.072Z"
   },
   {
    "duration": 111,
    "start_time": "2021-11-30T18:22:26.174Z"
   },
   {
    "duration": 277,
    "start_time": "2021-11-30T18:23:18.416Z"
   },
   {
    "duration": 328,
    "start_time": "2021-11-30T18:24:13.576Z"
   },
   {
    "duration": 325,
    "start_time": "2021-11-30T18:24:15.638Z"
   },
   {
    "duration": 283,
    "start_time": "2021-11-30T18:25:07.334Z"
   },
   {
    "duration": 9,
    "start_time": "2021-11-30T18:25:27.116Z"
   },
   {
    "duration": 311,
    "start_time": "2021-11-30T18:25:42.922Z"
   },
   {
    "duration": 10,
    "start_time": "2021-11-30T18:26:04.769Z"
   },
   {
    "duration": -4916,
    "start_time": "2021-11-30T18:27:06.661Z"
   },
   {
    "duration": 444,
    "start_time": "2021-11-30T18:27:26.646Z"
   },
   {
    "duration": 10,
    "start_time": "2021-11-30T18:27:41.053Z"
   },
   {
    "duration": 7,
    "start_time": "2021-11-30T18:29:50.037Z"
   },
   {
    "duration": 8,
    "start_time": "2021-11-30T18:29:53.431Z"
   },
   {
    "duration": 7,
    "start_time": "2021-11-30T18:29:54.531Z"
   },
   {
    "duration": 10,
    "start_time": "2021-11-30T18:30:05.579Z"
   },
   {
    "duration": 298,
    "start_time": "2021-11-30T18:31:19.673Z"
   },
   {
    "duration": 70,
    "start_time": "2021-11-30T18:33:42.157Z"
   },
   {
    "duration": 75,
    "start_time": "2021-11-30T18:34:26.767Z"
   },
   {
    "duration": 84,
    "start_time": "2021-11-30T18:34:37.658Z"
   },
   {
    "duration": 74,
    "start_time": "2021-11-30T18:41:02.364Z"
   },
   {
    "duration": 61,
    "start_time": "2021-11-30T18:41:23.285Z"
   },
   {
    "duration": 64,
    "start_time": "2021-11-30T18:41:27.684Z"
   },
   {
    "duration": 4,
    "start_time": "2021-11-30T18:41:34.730Z"
   },
   {
    "duration": 206,
    "start_time": "2021-11-30T18:41:34.738Z"
   },
   {
    "duration": 21,
    "start_time": "2021-11-30T18:41:34.947Z"
   },
   {
    "duration": 54,
    "start_time": "2021-11-30T18:41:34.973Z"
   },
   {
    "duration": 6,
    "start_time": "2021-11-30T18:41:35.031Z"
   },
   {
    "duration": 22,
    "start_time": "2021-11-30T18:41:35.068Z"
   },
   {
    "duration": 6,
    "start_time": "2021-11-30T18:41:35.093Z"
   },
   {
    "duration": 65,
    "start_time": "2021-11-30T18:41:35.102Z"
   },
   {
    "duration": 713,
    "start_time": "2021-11-30T18:41:35.172Z"
   },
   {
    "duration": 30,
    "start_time": "2021-11-30T18:41:35.887Z"
   },
   {
    "duration": 107,
    "start_time": "2021-11-30T18:41:35.919Z"
   },
   {
    "duration": 111,
    "start_time": "2021-11-30T18:41:36.028Z"
   },
   {
    "duration": 87,
    "start_time": "2021-11-30T18:41:36.141Z"
   },
   {
    "duration": 4,
    "start_time": "2021-11-30T18:41:55.442Z"
   },
   {
    "duration": 204,
    "start_time": "2021-11-30T18:41:55.449Z"
   },
   {
    "duration": 17,
    "start_time": "2021-11-30T18:41:55.656Z"
   },
   {
    "duration": 36,
    "start_time": "2021-11-30T18:41:55.676Z"
   },
   {
    "duration": 5,
    "start_time": "2021-11-30T18:41:55.715Z"
   },
   {
    "duration": 64,
    "start_time": "2021-11-30T18:41:55.723Z"
   },
   {
    "duration": 5,
    "start_time": "2021-11-30T18:41:55.791Z"
   },
   {
    "duration": 35,
    "start_time": "2021-11-30T18:41:55.799Z"
   },
   {
    "duration": 591,
    "start_time": "2021-11-30T18:41:55.837Z"
   },
   {
    "duration": 37,
    "start_time": "2021-11-30T18:41:56.431Z"
   },
   {
    "duration": 100,
    "start_time": "2021-11-30T18:41:56.471Z"
   },
   {
    "duration": 118,
    "start_time": "2021-11-30T18:41:56.573Z"
   },
   {
    "duration": 95,
    "start_time": "2021-11-30T18:41:56.693Z"
   },
   {
    "duration": 87,
    "start_time": "2021-11-30T18:43:24.984Z"
   },
   {
    "duration": 80,
    "start_time": "2021-11-30T18:43:34.256Z"
   },
   {
    "duration": 4,
    "start_time": "2021-11-30T18:43:43.743Z"
   },
   {
    "duration": 211,
    "start_time": "2021-11-30T18:43:43.749Z"
   },
   {
    "duration": 17,
    "start_time": "2021-11-30T18:43:43.963Z"
   },
   {
    "duration": 48,
    "start_time": "2021-11-30T18:43:43.983Z"
   },
   {
    "duration": 13,
    "start_time": "2021-11-30T18:43:44.034Z"
   },
   {
    "duration": 34,
    "start_time": "2021-11-30T18:43:44.050Z"
   },
   {
    "duration": 5,
    "start_time": "2021-11-30T18:43:44.087Z"
   },
   {
    "duration": 76,
    "start_time": "2021-11-30T18:43:44.096Z"
   },
   {
    "duration": 537,
    "start_time": "2021-11-30T18:43:44.174Z"
   },
   {
    "duration": 31,
    "start_time": "2021-11-30T18:43:44.713Z"
   },
   {
    "duration": 101,
    "start_time": "2021-11-30T18:43:44.746Z"
   },
   {
    "duration": 102,
    "start_time": "2021-11-30T18:43:44.850Z"
   },
   {
    "duration": 136,
    "start_time": "2021-11-30T18:43:44.954Z"
   },
   {
    "duration": 80,
    "start_time": "2021-11-30T18:43:47.450Z"
   },
   {
    "duration": 81,
    "start_time": "2021-11-30T18:43:48.701Z"
   },
   {
    "duration": 76,
    "start_time": "2021-11-30T18:43:49.407Z"
   },
   {
    "duration": 83,
    "start_time": "2021-11-30T18:43:49.943Z"
   },
   {
    "duration": 74,
    "start_time": "2021-11-30T18:43:50.380Z"
   },
   {
    "duration": 91,
    "start_time": "2021-11-30T18:44:21.021Z"
   },
   {
    "duration": 89,
    "start_time": "2021-11-30T18:44:22.108Z"
   },
   {
    "duration": 76,
    "start_time": "2021-11-30T18:44:26.407Z"
   },
   {
    "duration": 57,
    "start_time": "2021-11-30T18:44:29.552Z"
   },
   {
    "duration": 62,
    "start_time": "2021-11-30T18:44:31.097Z"
   },
   {
    "duration": 3,
    "start_time": "2021-11-30T18:44:34.469Z"
   },
   {
    "duration": 218,
    "start_time": "2021-11-30T18:44:34.475Z"
   },
   {
    "duration": 15,
    "start_time": "2021-11-30T18:44:34.696Z"
   },
   {
    "duration": 36,
    "start_time": "2021-11-30T18:44:34.714Z"
   },
   {
    "duration": 18,
    "start_time": "2021-11-30T18:44:34.752Z"
   },
   {
    "duration": 26,
    "start_time": "2021-11-30T18:44:34.772Z"
   },
   {
    "duration": 5,
    "start_time": "2021-11-30T18:44:34.800Z"
   },
   {
    "duration": 70,
    "start_time": "2021-11-30T18:44:34.807Z"
   },
   {
    "duration": 580,
    "start_time": "2021-11-30T18:44:34.880Z"
   },
   {
    "duration": 30,
    "start_time": "2021-11-30T18:44:35.462Z"
   },
   {
    "duration": 109,
    "start_time": "2021-11-30T18:44:35.495Z"
   },
   {
    "duration": 105,
    "start_time": "2021-11-30T18:44:35.606Z"
   },
   {
    "duration": 90,
    "start_time": "2021-11-30T18:44:35.714Z"
   },
   {
    "duration": 4,
    "start_time": "2021-11-30T18:45:29.484Z"
   },
   {
    "duration": 197,
    "start_time": "2021-11-30T18:45:29.493Z"
   },
   {
    "duration": 16,
    "start_time": "2021-11-30T18:45:29.693Z"
   },
   {
    "duration": 71,
    "start_time": "2021-11-30T18:45:29.713Z"
   },
   {
    "duration": 5,
    "start_time": "2021-11-30T18:45:29.787Z"
   },
   {
    "duration": 31,
    "start_time": "2021-11-30T18:45:29.794Z"
   },
   {
    "duration": 5,
    "start_time": "2021-11-30T18:45:29.827Z"
   },
   {
    "duration": 60,
    "start_time": "2021-11-30T18:45:29.834Z"
   },
   {
    "duration": 571,
    "start_time": "2021-11-30T18:45:29.899Z"
   },
   {
    "duration": 29,
    "start_time": "2021-11-30T18:45:30.473Z"
   },
   {
    "duration": 108,
    "start_time": "2021-11-30T18:45:30.505Z"
   },
   {
    "duration": 109,
    "start_time": "2021-11-30T18:45:30.616Z"
   },
   {
    "duration": 89,
    "start_time": "2021-11-30T18:45:30.728Z"
   },
   {
    "duration": 89,
    "start_time": "2021-11-30T18:45:30.819Z"
   },
   {
    "duration": 14,
    "start_time": "2021-11-30T18:49:23.368Z"
   },
   {
    "duration": 9,
    "start_time": "2021-11-30T18:49:25.837Z"
   },
   {
    "duration": 4,
    "start_time": "2021-11-30T18:49:30.664Z"
   },
   {
    "duration": 207,
    "start_time": "2021-11-30T18:49:30.674Z"
   },
   {
    "duration": 17,
    "start_time": "2021-11-30T18:49:30.884Z"
   },
   {
    "duration": 36,
    "start_time": "2021-11-30T18:49:30.906Z"
   },
   {
    "duration": 8,
    "start_time": "2021-11-30T18:49:30.966Z"
   },
   {
    "duration": 43,
    "start_time": "2021-11-30T18:49:30.977Z"
   },
   {
    "duration": 12,
    "start_time": "2021-11-30T18:49:31.022Z"
   },
   {
    "duration": 49,
    "start_time": "2021-11-30T18:49:31.037Z"
   },
   {
    "duration": 568,
    "start_time": "2021-11-30T18:49:31.090Z"
   },
   {
    "duration": 31,
    "start_time": "2021-11-30T18:49:31.661Z"
   },
   {
    "duration": 111,
    "start_time": "2021-11-30T18:49:31.695Z"
   },
   {
    "duration": 118,
    "start_time": "2021-11-30T18:49:31.809Z"
   },
   {
    "duration": 89,
    "start_time": "2021-11-30T18:49:31.930Z"
   },
   {
    "duration": 15,
    "start_time": "2021-11-30T18:49:35.468Z"
   },
   {
    "duration": 11,
    "start_time": "2021-11-30T18:49:36.401Z"
   },
   {
    "duration": 10,
    "start_time": "2021-11-30T18:49:37.044Z"
   },
   {
    "duration": 13,
    "start_time": "2021-11-30T18:49:37.205Z"
   },
   {
    "duration": 10,
    "start_time": "2021-11-30T18:49:37.357Z"
   },
   {
    "duration": 10,
    "start_time": "2021-11-30T18:49:37.523Z"
   },
   {
    "duration": 11,
    "start_time": "2021-11-30T18:49:37.687Z"
   },
   {
    "duration": 11,
    "start_time": "2021-11-30T18:49:37.838Z"
   },
   {
    "duration": 10,
    "start_time": "2021-11-30T18:49:38.118Z"
   },
   {
    "duration": 11,
    "start_time": "2021-11-30T18:49:38.291Z"
   },
   {
    "duration": 4,
    "start_time": "2021-11-30T18:49:52.903Z"
   },
   {
    "duration": 4,
    "start_time": "2021-11-30T18:49:55.619Z"
   },
   {
    "duration": 4,
    "start_time": "2021-11-30T18:49:56.589Z"
   },
   {
    "duration": 4,
    "start_time": "2021-11-30T18:49:57.129Z"
   },
   {
    "duration": 3,
    "start_time": "2021-11-30T18:49:57.287Z"
   },
   {
    "duration": 8,
    "start_time": "2021-11-30T18:50:02.920Z"
   },
   {
    "duration": 11,
    "start_time": "2021-11-30T18:51:19.028Z"
   },
   {
    "duration": 11,
    "start_time": "2021-11-30T18:51:19.947Z"
   },
   {
    "duration": 12,
    "start_time": "2021-11-30T18:51:22.341Z"
   },
   {
    "duration": 10,
    "start_time": "2021-11-30T18:51:23.348Z"
   },
   {
    "duration": 11,
    "start_time": "2021-11-30T18:51:24.962Z"
   },
   {
    "duration": 11,
    "start_time": "2021-11-30T18:52:13.252Z"
   },
   {
    "duration": 10,
    "start_time": "2021-11-30T18:52:14.116Z"
   },
   {
    "duration": 11,
    "start_time": "2021-11-30T18:52:14.536Z"
   },
   {
    "duration": 10,
    "start_time": "2021-11-30T18:52:14.701Z"
   },
   {
    "duration": 12,
    "start_time": "2021-11-30T18:52:14.861Z"
   },
   {
    "duration": 11,
    "start_time": "2021-11-30T18:52:15.000Z"
   },
   {
    "duration": 3,
    "start_time": "2021-11-30T18:52:18.328Z"
   },
   {
    "duration": 244,
    "start_time": "2021-11-30T18:52:18.334Z"
   },
   {
    "duration": 17,
    "start_time": "2021-11-30T18:52:18.581Z"
   },
   {
    "duration": 36,
    "start_time": "2021-11-30T18:52:18.600Z"
   },
   {
    "duration": 32,
    "start_time": "2021-11-30T18:52:18.639Z"
   },
   {
    "duration": 28,
    "start_time": "2021-11-30T18:52:18.674Z"
   },
   {
    "duration": 6,
    "start_time": "2021-11-30T18:52:18.706Z"
   },
   {
    "duration": 71,
    "start_time": "2021-11-30T18:52:18.715Z"
   },
   {
    "duration": 581,
    "start_time": "2021-11-30T18:52:18.789Z"
   },
   {
    "duration": 35,
    "start_time": "2021-11-30T18:52:19.373Z"
   },
   {
    "duration": 118,
    "start_time": "2021-11-30T18:52:19.411Z"
   },
   {
    "duration": 104,
    "start_time": "2021-11-30T18:52:19.531Z"
   },
   {
    "duration": 96,
    "start_time": "2021-11-30T18:52:19.637Z"
   },
   {
    "duration": 11,
    "start_time": "2021-11-30T18:52:21.398Z"
   },
   {
    "duration": 11,
    "start_time": "2021-11-30T18:52:22.079Z"
   },
   {
    "duration": 4,
    "start_time": "2021-11-30T18:53:26.341Z"
   },
   {
    "duration": 14,
    "start_time": "2021-11-30T18:53:30.630Z"
   },
   {
    "duration": 4,
    "start_time": "2021-11-30T18:53:32.862Z"
   },
   {
    "duration": 4,
    "start_time": "2021-11-30T18:53:33.254Z"
   },
   {
    "duration": 5,
    "start_time": "2021-11-30T18:53:33.505Z"
   },
   {
    "duration": 5,
    "start_time": "2021-11-30T18:53:33.697Z"
   },
   {
    "duration": 3,
    "start_time": "2021-11-30T18:53:33.880Z"
   },
   {
    "duration": 3,
    "start_time": "2021-11-30T18:53:34.052Z"
   },
   {
    "duration": 8,
    "start_time": "2021-11-30T18:53:36.866Z"
   },
   {
    "duration": 8,
    "start_time": "2021-11-30T18:54:14.287Z"
   },
   {
    "duration": 9,
    "start_time": "2021-11-30T18:54:22.176Z"
   },
   {
    "duration": 4,
    "start_time": "2021-11-30T18:54:34.939Z"
   },
   {
    "duration": 5,
    "start_time": "2021-11-30T18:54:36.246Z"
   },
   {
    "duration": 7,
    "start_time": "2021-11-30T18:54:41.105Z"
   },
   {
    "duration": 7,
    "start_time": "2021-11-30T18:54:42.167Z"
   },
   {
    "duration": 80,
    "start_time": "2021-11-30T18:55:04.992Z"
   },
   {
    "duration": 116,
    "start_time": "2021-11-30T18:55:25.590Z"
   },
   {
    "duration": 287,
    "start_time": "2021-11-30T18:59:09.746Z"
   },
   {
    "duration": 277,
    "start_time": "2021-11-30T19:01:28.482Z"
   },
   {
    "duration": 3,
    "start_time": "2021-11-30T19:01:33.011Z"
   },
   {
    "duration": 205,
    "start_time": "2021-11-30T19:01:33.019Z"
   },
   {
    "duration": 16,
    "start_time": "2021-11-30T19:01:33.226Z"
   },
   {
    "duration": 48,
    "start_time": "2021-11-30T19:01:33.245Z"
   },
   {
    "duration": 6,
    "start_time": "2021-11-30T19:01:33.296Z"
   },
   {
    "duration": 31,
    "start_time": "2021-11-30T19:01:33.304Z"
   },
   {
    "duration": 32,
    "start_time": "2021-11-30T19:01:33.337Z"
   },
   {
    "duration": 34,
    "start_time": "2021-11-30T19:01:33.371Z"
   },
   {
    "duration": 618,
    "start_time": "2021-11-30T19:01:33.410Z"
   },
   {
    "duration": 40,
    "start_time": "2021-11-30T19:01:34.031Z"
   },
   {
    "duration": 106,
    "start_time": "2021-11-30T19:01:34.074Z"
   },
   {
    "duration": 111,
    "start_time": "2021-11-30T19:01:34.182Z"
   },
   {
    "duration": 92,
    "start_time": "2021-11-30T19:01:34.295Z"
   },
   {
    "duration": 84,
    "start_time": "2021-11-30T19:01:34.390Z"
   },
   {
    "duration": 83,
    "start_time": "2021-11-30T19:01:34.477Z"
   },
   {
    "duration": 3,
    "start_time": "2021-11-30T19:01:45.175Z"
   },
   {
    "duration": 208,
    "start_time": "2021-11-30T19:01:45.184Z"
   },
   {
    "duration": 15,
    "start_time": "2021-11-30T19:01:45.395Z"
   },
   {
    "duration": 37,
    "start_time": "2021-11-30T19:01:45.413Z"
   },
   {
    "duration": 6,
    "start_time": "2021-11-30T19:01:45.468Z"
   },
   {
    "duration": 17,
    "start_time": "2021-11-30T19:01:45.476Z"
   },
   {
    "duration": 6,
    "start_time": "2021-11-30T19:01:45.495Z"
   },
   {
    "duration": 68,
    "start_time": "2021-11-30T19:01:45.504Z"
   },
   {
    "duration": 587,
    "start_time": "2021-11-30T19:01:45.576Z"
   },
   {
    "duration": 31,
    "start_time": "2021-11-30T19:01:46.165Z"
   },
   {
    "duration": 114,
    "start_time": "2021-11-30T19:01:46.199Z"
   },
   {
    "duration": 111,
    "start_time": "2021-11-30T19:01:46.315Z"
   },
   {
    "duration": 94,
    "start_time": "2021-11-30T19:01:46.428Z"
   },
   {
    "duration": 86,
    "start_time": "2021-11-30T19:01:46.525Z"
   },
   {
    "duration": 4,
    "start_time": "2021-11-30T19:01:53.652Z"
   },
   {
    "duration": 201,
    "start_time": "2021-11-30T19:01:53.658Z"
   },
   {
    "duration": 16,
    "start_time": "2021-11-30T19:01:53.866Z"
   },
   {
    "duration": 35,
    "start_time": "2021-11-30T19:01:53.886Z"
   },
   {
    "duration": 6,
    "start_time": "2021-11-30T19:01:53.923Z"
   },
   {
    "duration": 62,
    "start_time": "2021-11-30T19:01:53.931Z"
   },
   {
    "duration": 5,
    "start_time": "2021-11-30T19:01:53.996Z"
   },
   {
    "duration": 33,
    "start_time": "2021-11-30T19:01:54.004Z"
   },
   {
    "duration": 554,
    "start_time": "2021-11-30T19:01:54.041Z"
   },
   {
    "duration": 31,
    "start_time": "2021-11-30T19:01:54.598Z"
   },
   {
    "duration": 104,
    "start_time": "2021-11-30T19:01:54.632Z"
   },
   {
    "duration": 104,
    "start_time": "2021-11-30T19:01:54.739Z"
   },
   {
    "duration": 86,
    "start_time": "2021-11-30T19:01:54.845Z"
   },
   {
    "duration": 90,
    "start_time": "2021-11-30T19:01:54.933Z"
   },
   {
    "duration": 4,
    "start_time": "2021-11-30T19:01:55.026Z"
   },
   {
    "duration": 4,
    "start_time": "2021-11-30T19:01:59.555Z"
   },
   {
    "duration": 4,
    "start_time": "2021-11-30T19:02:22.260Z"
   },
   {
    "duration": 4,
    "start_time": "2021-11-30T19:02:23.029Z"
   },
   {
    "duration": 4,
    "start_time": "2021-11-30T19:02:23.302Z"
   },
   {
    "duration": 4,
    "start_time": "2021-11-30T19:02:23.516Z"
   },
   {
    "duration": 4,
    "start_time": "2021-11-30T19:02:23.682Z"
   },
   {
    "duration": 28,
    "start_time": "2021-11-30T19:02:25.264Z"
   },
   {
    "duration": 224,
    "start_time": "2021-11-30T19:07:11.428Z"
   },
   {
    "duration": 4,
    "start_time": "2021-11-30T19:11:04.225Z"
   },
   {
    "duration": 205,
    "start_time": "2021-11-30T19:11:04.233Z"
   },
   {
    "duration": 26,
    "start_time": "2021-11-30T19:11:04.441Z"
   },
   {
    "duration": 31,
    "start_time": "2021-11-30T19:11:04.471Z"
   },
   {
    "duration": 6,
    "start_time": "2021-11-30T19:11:04.506Z"
   },
   {
    "duration": 54,
    "start_time": "2021-11-30T19:11:04.515Z"
   },
   {
    "duration": 6,
    "start_time": "2021-11-30T19:11:04.572Z"
   },
   {
    "duration": 35,
    "start_time": "2021-11-30T19:11:04.580Z"
   },
   {
    "duration": 562,
    "start_time": "2021-11-30T19:11:04.619Z"
   },
   {
    "duration": 30,
    "start_time": "2021-11-30T19:11:05.183Z"
   },
   {
    "duration": 110,
    "start_time": "2021-11-30T19:11:05.216Z"
   },
   {
    "duration": 103,
    "start_time": "2021-11-30T19:11:05.329Z"
   },
   {
    "duration": 93,
    "start_time": "2021-11-30T19:11:05.435Z"
   },
   {
    "duration": 275,
    "start_time": "2021-11-30T19:11:07.552Z"
   },
   {
    "duration": 4,
    "start_time": "2021-11-30T19:11:14.544Z"
   },
   {
    "duration": 4,
    "start_time": "2021-11-30T19:11:23.891Z"
   },
   {
    "duration": 201,
    "start_time": "2021-11-30T19:11:23.897Z"
   },
   {
    "duration": 16,
    "start_time": "2021-11-30T19:11:24.101Z"
   },
   {
    "duration": 58,
    "start_time": "2021-11-30T19:11:24.120Z"
   },
   {
    "duration": 6,
    "start_time": "2021-11-30T19:11:24.180Z"
   },
   {
    "duration": 30,
    "start_time": "2021-11-30T19:11:24.189Z"
   },
   {
    "duration": 6,
    "start_time": "2021-11-30T19:11:24.222Z"
   },
   {
    "duration": 67,
    "start_time": "2021-11-30T19:11:24.230Z"
   },
   {
    "duration": 557,
    "start_time": "2021-11-30T19:11:24.299Z"
   },
   {
    "duration": 35,
    "start_time": "2021-11-30T19:11:24.859Z"
   },
   {
    "duration": 106,
    "start_time": "2021-11-30T19:11:24.897Z"
   },
   {
    "duration": 114,
    "start_time": "2021-11-30T19:11:25.006Z"
   },
   {
    "duration": 113,
    "start_time": "2021-11-30T19:11:25.123Z"
   },
   {
    "duration": 7,
    "start_time": "2021-11-30T19:11:25.239Z"
   },
   {
    "duration": 20,
    "start_time": "2021-11-30T19:11:25.249Z"
   },
   {
    "duration": 33,
    "start_time": "2021-11-30T19:11:25.271Z"
   },
   {
    "duration": 10,
    "start_time": "2021-11-30T19:11:29.070Z"
   },
   {
    "duration": 8,
    "start_time": "2021-11-30T19:11:58.907Z"
   },
   {
    "duration": 6,
    "start_time": "2021-11-30T19:13:08.397Z"
   },
   {
    "duration": 6,
    "start_time": "2021-11-30T19:13:43.414Z"
   },
   {
    "duration": 6,
    "start_time": "2021-11-30T19:14:08.814Z"
   },
   {
    "duration": 9,
    "start_time": "2021-11-30T19:14:33.601Z"
   },
   {
    "duration": 58,
    "start_time": "2021-11-30T19:14:44.658Z"
   },
   {
    "duration": 60,
    "start_time": "2021-11-30T19:14:57.125Z"
   },
   {
    "duration": 72,
    "start_time": "2021-11-30T19:15:13.911Z"
   },
   {
    "duration": 4,
    "start_time": "2021-11-30T19:15:32.045Z"
   },
   {
    "duration": 190,
    "start_time": "2021-11-30T19:15:32.052Z"
   },
   {
    "duration": 24,
    "start_time": "2021-11-30T19:15:32.245Z"
   },
   {
    "duration": 36,
    "start_time": "2021-11-30T19:15:32.272Z"
   },
   {
    "duration": 8,
    "start_time": "2021-11-30T19:15:32.310Z"
   },
   {
    "duration": 50,
    "start_time": "2021-11-30T19:15:32.320Z"
   },
   {
    "duration": 6,
    "start_time": "2021-11-30T19:15:32.373Z"
   },
   {
    "duration": 36,
    "start_time": "2021-11-30T19:15:32.381Z"
   },
   {
    "duration": 554,
    "start_time": "2021-11-30T19:15:32.419Z"
   },
   {
    "duration": 31,
    "start_time": "2021-11-30T19:15:32.975Z"
   },
   {
    "duration": 112,
    "start_time": "2021-11-30T19:15:33.009Z"
   },
   {
    "duration": 110,
    "start_time": "2021-11-30T19:15:33.123Z"
   },
   {
    "duration": 90,
    "start_time": "2021-11-30T19:15:33.236Z"
   },
   {
    "duration": 58,
    "start_time": "2021-11-30T19:15:38.631Z"
   },
   {
    "duration": 60,
    "start_time": "2021-11-30T19:16:19.084Z"
   },
   {
    "duration": 59,
    "start_time": "2021-11-30T19:19:51.744Z"
   },
   {
    "duration": 4,
    "start_time": "2021-11-30T19:19:55.237Z"
   },
   {
    "duration": 210,
    "start_time": "2021-11-30T19:19:55.247Z"
   },
   {
    "duration": 18,
    "start_time": "2021-11-30T19:19:55.459Z"
   },
   {
    "duration": 37,
    "start_time": "2021-11-30T19:19:55.480Z"
   },
   {
    "duration": 5,
    "start_time": "2021-11-30T19:19:55.520Z"
   },
   {
    "duration": 61,
    "start_time": "2021-11-30T19:19:55.528Z"
   },
   {
    "duration": 5,
    "start_time": "2021-11-30T19:19:55.591Z"
   },
   {
    "duration": 68,
    "start_time": "2021-11-30T19:19:55.599Z"
   },
   {
    "duration": 577,
    "start_time": "2021-11-30T19:19:55.672Z"
   },
   {
    "duration": 34,
    "start_time": "2021-11-30T19:19:56.252Z"
   },
   {
    "duration": 110,
    "start_time": "2021-11-30T19:19:56.288Z"
   },
   {
    "duration": 114,
    "start_time": "2021-11-30T19:19:56.400Z"
   },
   {
    "duration": 86,
    "start_time": "2021-11-30T19:19:56.516Z"
   },
   {
    "duration": 80,
    "start_time": "2021-11-30T19:19:56.605Z"
   },
   {
    "duration": 5,
    "start_time": "2021-11-30T19:19:56.688Z"
   },
   {
    "duration": 23,
    "start_time": "2021-11-30T19:19:56.697Z"
   },
   {
    "duration": 61,
    "start_time": "2021-11-30T19:20:02.762Z"
   },
   {
    "duration": -1520,
    "start_time": "2021-11-30T19:23:51.701Z"
   },
   {
    "duration": 15,
    "start_time": "2021-11-30T19:23:59.086Z"
   },
   {
    "duration": 42,
    "start_time": "2021-11-30T19:24:23.667Z"
   },
   {
    "duration": 311,
    "start_time": "2021-11-30T19:24:49.342Z"
   },
   {
    "duration": 4,
    "start_time": "2021-11-30T19:24:57.374Z"
   },
   {
    "duration": 200,
    "start_time": "2021-11-30T19:24:57.380Z"
   },
   {
    "duration": 16,
    "start_time": "2021-11-30T19:24:57.583Z"
   },
   {
    "duration": 37,
    "start_time": "2021-11-30T19:24:57.601Z"
   },
   {
    "duration": 5,
    "start_time": "2021-11-30T19:24:57.641Z"
   },
   {
    "duration": 33,
    "start_time": "2021-11-30T19:24:57.668Z"
   },
   {
    "duration": 6,
    "start_time": "2021-11-30T19:24:57.703Z"
   },
   {
    "duration": 59,
    "start_time": "2021-11-30T19:24:57.713Z"
   },
   {
    "duration": 551,
    "start_time": "2021-11-30T19:24:57.775Z"
   },
   {
    "duration": 31,
    "start_time": "2021-11-30T19:24:58.328Z"
   },
   {
    "duration": 103,
    "start_time": "2021-11-30T19:24:58.368Z"
   },
   {
    "duration": 108,
    "start_time": "2021-11-30T19:24:58.473Z"
   },
   {
    "duration": 95,
    "start_time": "2021-11-30T19:24:58.584Z"
   },
   {
    "duration": 60,
    "start_time": "2021-11-30T19:24:58.682Z"
   },
   {
    "duration": 22,
    "start_time": "2021-11-30T19:24:58.745Z"
   },
   {
    "duration": 14,
    "start_time": "2021-11-30T19:24:58.769Z"
   },
   {
    "duration": 62,
    "start_time": "2021-11-30T19:24:58.785Z"
   },
   {
    "duration": 292,
    "start_time": "2021-11-30T19:25:02.367Z"
   },
   {
    "duration": 47,
    "start_time": "2021-11-30T19:25:07.511Z"
   },
   {
    "duration": 3,
    "start_time": "2021-11-30T19:25:31.809Z"
   },
   {
    "duration": 205,
    "start_time": "2021-11-30T19:25:31.815Z"
   },
   {
    "duration": 17,
    "start_time": "2021-11-30T19:25:32.024Z"
   },
   {
    "duration": 51,
    "start_time": "2021-11-30T19:25:32.044Z"
   },
   {
    "duration": 9,
    "start_time": "2021-11-30T19:25:32.098Z"
   },
   {
    "duration": 57,
    "start_time": "2021-11-30T19:25:32.110Z"
   },
   {
    "duration": 7,
    "start_time": "2021-11-30T19:25:32.172Z"
   },
   {
    "duration": 39,
    "start_time": "2021-11-30T19:25:32.182Z"
   },
   {
    "duration": 536,
    "start_time": "2021-11-30T19:25:32.224Z"
   },
   {
    "duration": 32,
    "start_time": "2021-11-30T19:25:32.763Z"
   },
   {
    "duration": 115,
    "start_time": "2021-11-30T19:25:32.797Z"
   },
   {
    "duration": 116,
    "start_time": "2021-11-30T19:25:32.915Z"
   },
   {
    "duration": 87,
    "start_time": "2021-11-30T19:25:33.033Z"
   },
   {
    "duration": 74,
    "start_time": "2021-11-30T19:25:33.123Z"
   },
   {
    "duration": 5,
    "start_time": "2021-11-30T19:25:33.200Z"
   },
   {
    "duration": 21,
    "start_time": "2021-11-30T19:25:33.207Z"
   },
   {
    "duration": 85,
    "start_time": "2021-11-30T19:25:33.231Z"
   },
   {
    "duration": 46,
    "start_time": "2021-11-30T19:25:37.648Z"
   },
   {
    "duration": 17,
    "start_time": "2021-11-30T19:25:54.017Z"
   },
   {
    "duration": 16,
    "start_time": "2021-11-30T19:27:04.635Z"
   },
   {
    "duration": 53,
    "start_time": "2021-11-30T19:28:31.862Z"
   },
   {
    "duration": 87,
    "start_time": "2021-11-30T19:28:38.727Z"
   },
   {
    "duration": 60,
    "start_time": "2021-11-30T19:29:06.169Z"
   },
   {
    "duration": 3,
    "start_time": "2021-11-30T19:29:27.000Z"
   },
   {
    "duration": 192,
    "start_time": "2021-11-30T19:29:27.011Z"
   },
   {
    "duration": 17,
    "start_time": "2021-11-30T19:29:27.206Z"
   },
   {
    "duration": 84,
    "start_time": "2021-11-30T19:29:27.228Z"
   },
   {
    "duration": 7,
    "start_time": "2021-11-30T19:29:27.315Z"
   },
   {
    "duration": 58,
    "start_time": "2021-11-30T19:29:27.325Z"
   },
   {
    "duration": 5,
    "start_time": "2021-11-30T19:29:27.385Z"
   },
   {
    "duration": 36,
    "start_time": "2021-11-30T19:29:27.392Z"
   },
   {
    "duration": 849,
    "start_time": "2021-11-30T19:29:27.430Z"
   },
   {
    "duration": 34,
    "start_time": "2021-11-30T19:29:28.282Z"
   },
   {
    "duration": 111,
    "start_time": "2021-11-30T19:29:28.319Z"
   },
   {
    "duration": 112,
    "start_time": "2021-11-30T19:29:28.432Z"
   },
   {
    "duration": 89,
    "start_time": "2021-11-30T19:29:28.547Z"
   },
   {
    "duration": 59,
    "start_time": "2021-11-30T19:29:30.284Z"
   },
   {
    "duration": 3,
    "start_time": "2021-11-30T19:29:42.952Z"
   },
   {
    "duration": 207,
    "start_time": "2021-11-30T19:29:42.961Z"
   },
   {
    "duration": 16,
    "start_time": "2021-11-30T19:29:43.171Z"
   },
   {
    "duration": 38,
    "start_time": "2021-11-30T19:29:43.190Z"
   },
   {
    "duration": 6,
    "start_time": "2021-11-30T19:29:43.231Z"
   },
   {
    "duration": 21,
    "start_time": "2021-11-30T19:29:43.268Z"
   },
   {
    "duration": 6,
    "start_time": "2021-11-30T19:29:43.291Z"
   },
   {
    "duration": 37,
    "start_time": "2021-11-30T19:29:43.299Z"
   },
   {
    "duration": 590,
    "start_time": "2021-11-30T19:29:43.340Z"
   },
   {
    "duration": 38,
    "start_time": "2021-11-30T19:29:43.932Z"
   },
   {
    "duration": 100,
    "start_time": "2021-11-30T19:29:43.972Z"
   },
   {
    "duration": 107,
    "start_time": "2021-11-30T19:29:44.075Z"
   },
   {
    "duration": 84,
    "start_time": "2021-11-30T19:29:44.184Z"
   },
   {
    "duration": 59,
    "start_time": "2021-11-30T19:29:44.270Z"
   },
   {
    "duration": 4,
    "start_time": "2021-11-30T19:29:44.331Z"
   },
   {
    "duration": 38,
    "start_time": "2021-11-30T19:29:44.337Z"
   },
   {
    "duration": 58,
    "start_time": "2021-11-30T19:29:46.142Z"
   },
   {
    "duration": 15,
    "start_time": "2021-11-30T19:30:09.101Z"
   },
   {
    "duration": 4,
    "start_time": "2021-11-30T19:30:25.303Z"
   },
   {
    "duration": 202,
    "start_time": "2021-11-30T19:30:25.309Z"
   },
   {
    "duration": 17,
    "start_time": "2021-11-30T19:30:25.514Z"
   },
   {
    "duration": 49,
    "start_time": "2021-11-30T19:30:25.534Z"
   },
   {
    "duration": 6,
    "start_time": "2021-11-30T19:30:25.586Z"
   },
   {
    "duration": 21,
    "start_time": "2021-11-30T19:30:25.595Z"
   },
   {
    "duration": 5,
    "start_time": "2021-11-30T19:30:25.620Z"
   },
   {
    "duration": 69,
    "start_time": "2021-11-30T19:30:25.627Z"
   },
   {
    "duration": 561,
    "start_time": "2021-11-30T19:30:25.699Z"
   },
   {
    "duration": 35,
    "start_time": "2021-11-30T19:30:26.263Z"
   },
   {
    "duration": 106,
    "start_time": "2021-11-30T19:30:26.300Z"
   },
   {
    "duration": 101,
    "start_time": "2021-11-30T19:30:26.408Z"
   },
   {
    "duration": 89,
    "start_time": "2021-11-30T19:30:26.512Z"
   },
   {
    "duration": 64,
    "start_time": "2021-11-30T19:30:26.604Z"
   },
   {
    "duration": 4,
    "start_time": "2021-11-30T19:30:26.670Z"
   },
   {
    "duration": 26,
    "start_time": "2021-11-30T19:30:26.676Z"
   },
   {
    "duration": 79,
    "start_time": "2021-11-30T19:30:26.704Z"
   },
   {
    "duration": 16,
    "start_time": "2021-11-30T19:30:26.786Z"
   },
   {
    "duration": 15,
    "start_time": "2021-11-30T19:30:28.569Z"
   },
   {
    "duration": 404,
    "start_time": "2021-11-30T19:47:04.669Z"
   },
   {
    "duration": 15,
    "start_time": "2021-11-30T19:47:12.536Z"
   },
   {
    "duration": 417,
    "start_time": "2021-11-30T19:49:21.195Z"
   },
   {
    "duration": 190,
    "start_time": "2021-11-30T19:49:24.041Z"
   },
   {
    "duration": 14,
    "start_time": "2021-11-30T19:49:31.296Z"
   },
   {
    "duration": 14,
    "start_time": "2021-11-30T19:51:44.882Z"
   },
   {
    "duration": 288,
    "start_time": "2021-11-30T19:51:55.383Z"
   },
   {
    "duration": 16,
    "start_time": "2021-11-30T19:51:58.656Z"
   },
   {
    "duration": 5,
    "start_time": "2021-11-30T19:53:14.956Z"
   },
   {
    "duration": 5,
    "start_time": "2021-11-30T19:53:17.161Z"
   },
   {
    "duration": 25,
    "start_time": "2021-11-30T19:53:21.182Z"
   },
   {
    "duration": 5,
    "start_time": "2021-11-30T19:55:01.672Z"
   },
   {
    "duration": 24,
    "start_time": "2021-11-30T19:55:03.876Z"
   },
   {
    "duration": 5,
    "start_time": "2021-11-30T19:55:09.916Z"
   },
   {
    "duration": 25,
    "start_time": "2021-11-30T19:55:12.030Z"
   },
   {
    "duration": 22,
    "start_time": "2021-11-30T19:55:46.403Z"
   },
   {
    "duration": 18,
    "start_time": "2021-11-30T19:56:06.218Z"
   },
   {
    "duration": 21,
    "start_time": "2021-11-30T19:56:26.226Z"
   },
   {
    "duration": 25,
    "start_time": "2021-11-30T19:56:37.269Z"
   },
   {
    "duration": 19,
    "start_time": "2021-11-30T19:57:34.532Z"
   },
   {
    "duration": 20,
    "start_time": "2021-11-30T19:57:36.585Z"
   },
   {
    "duration": 119,
    "start_time": "2021-11-30T20:00:46.903Z"
   },
   {
    "duration": 295,
    "start_time": "2021-11-30T20:00:58.123Z"
   },
   {
    "duration": 440,
    "start_time": "2021-11-30T20:03:42.514Z"
   },
   {
    "duration": 316,
    "start_time": "2021-11-30T20:03:52.146Z"
   },
   {
    "duration": 320,
    "start_time": "2021-11-30T20:04:43.433Z"
   },
   {
    "duration": 3,
    "start_time": "2021-11-30T20:04:48.045Z"
   },
   {
    "duration": 223,
    "start_time": "2021-11-30T20:04:48.053Z"
   },
   {
    "duration": 15,
    "start_time": "2021-11-30T20:04:48.279Z"
   },
   {
    "duration": 33,
    "start_time": "2021-11-30T20:04:48.297Z"
   },
   {
    "duration": 7,
    "start_time": "2021-11-30T20:04:48.334Z"
   },
   {
    "duration": 44,
    "start_time": "2021-11-30T20:04:48.343Z"
   },
   {
    "duration": 6,
    "start_time": "2021-11-30T20:04:48.389Z"
   },
   {
    "duration": 70,
    "start_time": "2021-11-30T20:04:48.398Z"
   },
   {
    "duration": 563,
    "start_time": "2021-11-30T20:04:48.474Z"
   },
   {
    "duration": 42,
    "start_time": "2021-11-30T20:04:49.041Z"
   },
   {
    "duration": 108,
    "start_time": "2021-11-30T20:04:49.086Z"
   },
   {
    "duration": 115,
    "start_time": "2021-11-30T20:04:49.197Z"
   },
   {
    "duration": 93,
    "start_time": "2021-11-30T20:04:49.315Z"
   },
   {
    "duration": 73,
    "start_time": "2021-11-30T20:04:49.411Z"
   },
   {
    "duration": 5,
    "start_time": "2021-11-30T20:04:49.487Z"
   },
   {
    "duration": 16,
    "start_time": "2021-11-30T20:04:49.496Z"
   },
   {
    "duration": 93,
    "start_time": "2021-11-30T20:04:49.515Z"
   },
   {
    "duration": 18,
    "start_time": "2021-11-30T20:04:49.611Z"
   },
   {
    "duration": 41,
    "start_time": "2021-11-30T20:04:49.632Z"
   },
   {
    "duration": 5,
    "start_time": "2021-11-30T20:04:49.675Z"
   },
   {
    "duration": 37,
    "start_time": "2021-11-30T20:04:49.682Z"
   },
   {
    "duration": 46,
    "start_time": "2021-11-30T20:04:49.721Z"
   },
   {
    "duration": 20,
    "start_time": "2021-11-30T20:04:49.769Z"
   },
   {
    "duration": 21,
    "start_time": "2021-11-30T20:04:49.793Z"
   },
   {
    "duration": 57,
    "start_time": "2021-11-30T20:04:49.816Z"
   },
   {
    "duration": 19,
    "start_time": "2021-11-30T20:04:49.875Z"
   },
   {
    "duration": 52,
    "start_time": "2021-11-30T20:05:32.743Z"
   },
   {
    "duration": 53,
    "start_time": "2021-11-30T20:05:43.113Z"
   },
   {
    "duration": 4,
    "start_time": "2021-11-30T20:06:55.282Z"
   },
   {
    "duration": 197,
    "start_time": "2021-11-30T20:06:55.293Z"
   },
   {
    "duration": 16,
    "start_time": "2021-11-30T20:06:55.492Z"
   },
   {
    "duration": 56,
    "start_time": "2021-11-30T20:06:55.511Z"
   },
   {
    "duration": 5,
    "start_time": "2021-11-30T20:06:55.570Z"
   },
   {
    "duration": 26,
    "start_time": "2021-11-30T20:06:55.577Z"
   },
   {
    "duration": 6,
    "start_time": "2021-11-30T20:06:55.605Z"
   },
   {
    "duration": 63,
    "start_time": "2021-11-30T20:06:55.613Z"
   },
   {
    "duration": 595,
    "start_time": "2021-11-30T20:06:55.682Z"
   },
   {
    "duration": 32,
    "start_time": "2021-11-30T20:06:56.281Z"
   },
   {
    "duration": 114,
    "start_time": "2021-11-30T20:06:56.316Z"
   },
   {
    "duration": 114,
    "start_time": "2021-11-30T20:06:56.433Z"
   },
   {
    "duration": 83,
    "start_time": "2021-11-30T20:06:56.550Z"
   },
   {
    "duration": 71,
    "start_time": "2021-11-30T20:06:56.635Z"
   },
   {
    "duration": 4,
    "start_time": "2021-11-30T20:06:56.708Z"
   },
   {
    "duration": 16,
    "start_time": "2021-11-30T20:06:56.716Z"
   },
   {
    "duration": 91,
    "start_time": "2021-11-30T20:06:56.735Z"
   },
   {
    "duration": 38,
    "start_time": "2021-11-30T20:06:56.829Z"
   },
   {
    "duration": 14,
    "start_time": "2021-11-30T20:06:56.869Z"
   },
   {
    "duration": 5,
    "start_time": "2021-11-30T20:06:56.886Z"
   },
   {
    "duration": 27,
    "start_time": "2021-11-30T20:06:56.893Z"
   },
   {
    "duration": 53,
    "start_time": "2021-11-30T20:06:56.922Z"
   },
   {
    "duration": 19,
    "start_time": "2021-11-30T20:06:56.977Z"
   },
   {
    "duration": 18,
    "start_time": "2021-11-30T20:06:57.000Z"
   },
   {
    "duration": 50,
    "start_time": "2021-11-30T20:06:57.021Z"
   },
   {
    "duration": 25,
    "start_time": "2021-11-30T20:07:08.780Z"
   },
   {
    "duration": 3,
    "start_time": "2021-11-30T20:07:30.939Z"
   },
   {
    "duration": 238,
    "start_time": "2021-11-30T20:07:30.947Z"
   },
   {
    "duration": 18,
    "start_time": "2021-11-30T20:07:31.188Z"
   },
   {
    "duration": 66,
    "start_time": "2021-11-30T20:07:31.209Z"
   },
   {
    "duration": 10,
    "start_time": "2021-11-30T20:07:31.278Z"
   },
   {
    "duration": 33,
    "start_time": "2021-11-30T20:07:31.291Z"
   },
   {
    "duration": 5,
    "start_time": "2021-11-30T20:07:31.327Z"
   },
   {
    "duration": 64,
    "start_time": "2021-11-30T20:07:31.335Z"
   },
   {
    "duration": 592,
    "start_time": "2021-11-30T20:07:31.403Z"
   },
   {
    "duration": 31,
    "start_time": "2021-11-30T20:07:31.998Z"
   },
   {
    "duration": 114,
    "start_time": "2021-11-30T20:07:32.032Z"
   },
   {
    "duration": 110,
    "start_time": "2021-11-30T20:07:32.148Z"
   },
   {
    "duration": 78,
    "start_time": "2021-11-30T20:07:32.261Z"
   },
   {
    "duration": 78,
    "start_time": "2021-11-30T20:07:32.342Z"
   },
   {
    "duration": 5,
    "start_time": "2021-11-30T20:07:32.422Z"
   },
   {
    "duration": 37,
    "start_time": "2021-11-30T20:07:32.430Z"
   },
   {
    "duration": 67,
    "start_time": "2021-11-30T20:07:32.470Z"
   },
   {
    "duration": 35,
    "start_time": "2021-11-30T20:07:32.540Z"
   },
   {
    "duration": 19,
    "start_time": "2021-11-30T20:07:32.578Z"
   },
   {
    "duration": 5,
    "start_time": "2021-11-30T20:07:32.599Z"
   },
   {
    "duration": 44,
    "start_time": "2021-11-30T20:07:32.606Z"
   },
   {
    "duration": 22,
    "start_time": "2021-11-30T20:07:32.667Z"
   },
   {
    "duration": 21,
    "start_time": "2021-11-30T20:07:32.691Z"
   },
   {
    "duration": 52,
    "start_time": "2021-11-30T20:07:32.716Z"
   },
   {
    "duration": 23,
    "start_time": "2021-11-30T20:07:32.771Z"
   },
   {
    "duration": 32,
    "start_time": "2021-11-30T20:08:12.210Z"
   },
   {
    "duration": 53,
    "start_time": "2021-11-30T20:09:11.399Z"
   },
   {
    "duration": 16,
    "start_time": "2021-11-30T20:24:55.270Z"
   },
   {
    "duration": 16,
    "start_time": "2021-11-30T20:24:56.021Z"
   },
   {
    "duration": 23,
    "start_time": "2021-11-30T20:25:06.557Z"
   },
   {
    "duration": 31,
    "start_time": "2021-11-30T20:25:25.449Z"
   },
   {
    "duration": 28,
    "start_time": "2021-11-30T20:26:17.043Z"
   },
   {
    "duration": 14,
    "start_time": "2021-11-30T20:26:29.649Z"
   },
   {
    "duration": 4,
    "start_time": "2021-11-30T20:26:32.671Z"
   },
   {
    "duration": 222,
    "start_time": "2021-11-30T20:26:32.681Z"
   },
   {
    "duration": 15,
    "start_time": "2021-11-30T20:26:32.906Z"
   },
   {
    "duration": 64,
    "start_time": "2021-11-30T20:26:32.924Z"
   },
   {
    "duration": 8,
    "start_time": "2021-11-30T20:26:32.992Z"
   },
   {
    "duration": 30,
    "start_time": "2021-11-30T20:26:33.002Z"
   },
   {
    "duration": 5,
    "start_time": "2021-11-30T20:26:33.035Z"
   },
   {
    "duration": 53,
    "start_time": "2021-11-30T20:26:33.043Z"
   },
   {
    "duration": 716,
    "start_time": "2021-11-30T20:26:33.103Z"
   },
   {
    "duration": 47,
    "start_time": "2021-11-30T20:26:33.822Z"
   },
   {
    "duration": 111,
    "start_time": "2021-11-30T20:26:33.871Z"
   },
   {
    "duration": 121,
    "start_time": "2021-11-30T20:26:33.984Z"
   },
   {
    "duration": 98,
    "start_time": "2021-11-30T20:26:34.108Z"
   },
   {
    "duration": 108,
    "start_time": "2021-11-30T20:26:34.209Z"
   },
   {
    "duration": 4,
    "start_time": "2021-11-30T20:26:34.321Z"
   },
   {
    "duration": 38,
    "start_time": "2021-11-30T20:26:34.329Z"
   },
   {
    "duration": 108,
    "start_time": "2021-11-30T20:26:34.370Z"
   },
   {
    "duration": 16,
    "start_time": "2021-11-30T20:26:34.480Z"
   },
   {
    "duration": 15,
    "start_time": "2021-11-30T20:26:34.498Z"
   },
   {
    "duration": 4,
    "start_time": "2021-11-30T20:26:34.515Z"
   },
   {
    "duration": 63,
    "start_time": "2021-11-30T20:26:34.521Z"
   },
   {
    "duration": 19,
    "start_time": "2021-11-30T20:26:34.588Z"
   },
   {
    "duration": 20,
    "start_time": "2021-11-30T20:26:34.609Z"
   },
   {
    "duration": 47,
    "start_time": "2021-11-30T20:26:34.633Z"
   },
   {
    "duration": 22,
    "start_time": "2021-11-30T20:26:34.683Z"
   },
   {
    "duration": 19,
    "start_time": "2021-11-30T20:26:34.707Z"
   },
   {
    "duration": 86,
    "start_time": "2021-11-30T20:26:34.728Z"
   },
   {
    "duration": 18,
    "start_time": "2021-11-30T20:26:34.816Z"
   },
   {
    "duration": 301,
    "start_time": "2021-11-30T20:33:49.652Z"
   },
   {
    "duration": 337,
    "start_time": "2021-11-30T20:33:50.327Z"
   },
   {
    "duration": 257,
    "start_time": "2021-11-30T20:33:56.277Z"
   },
   {
    "duration": 3,
    "start_time": "2021-11-30T20:34:00.470Z"
   },
   {
    "duration": 826,
    "start_time": "2021-11-30T20:34:00.476Z"
   },
   {
    "duration": 16,
    "start_time": "2021-11-30T20:34:01.305Z"
   },
   {
    "duration": 58,
    "start_time": "2021-11-30T20:34:01.323Z"
   },
   {
    "duration": 21,
    "start_time": "2021-11-30T20:34:01.383Z"
   },
   {
    "duration": 25,
    "start_time": "2021-11-30T20:34:01.407Z"
   },
   {
    "duration": 5,
    "start_time": "2021-11-30T20:34:01.435Z"
   },
   {
    "duration": 48,
    "start_time": "2021-11-30T20:34:01.444Z"
   },
   {
    "duration": 584,
    "start_time": "2021-11-30T20:34:01.495Z"
   },
   {
    "duration": 32,
    "start_time": "2021-11-30T20:34:02.082Z"
   },
   {
    "duration": 111,
    "start_time": "2021-11-30T20:34:02.116Z"
   },
   {
    "duration": 122,
    "start_time": "2021-11-30T20:34:02.229Z"
   },
   {
    "duration": 87,
    "start_time": "2021-11-30T20:34:02.353Z"
   },
   {
    "duration": 69,
    "start_time": "2021-11-30T20:34:02.442Z"
   },
   {
    "duration": 5,
    "start_time": "2021-11-30T20:34:02.515Z"
   },
   {
    "duration": 44,
    "start_time": "2021-11-30T20:34:02.523Z"
   },
   {
    "duration": 87,
    "start_time": "2021-11-30T20:34:02.570Z"
   },
   {
    "duration": 20,
    "start_time": "2021-11-30T20:34:02.660Z"
   },
   {
    "duration": 15,
    "start_time": "2021-11-30T20:34:02.683Z"
   },
   {
    "duration": 5,
    "start_time": "2021-11-30T20:34:02.700Z"
   },
   {
    "duration": 64,
    "start_time": "2021-11-30T20:34:02.707Z"
   },
   {
    "duration": 21,
    "start_time": "2021-11-30T20:34:02.774Z"
   },
   {
    "duration": 19,
    "start_time": "2021-11-30T20:34:02.800Z"
   },
   {
    "duration": 53,
    "start_time": "2021-11-30T20:34:02.822Z"
   },
   {
    "duration": 26,
    "start_time": "2021-11-30T20:34:02.878Z"
   },
   {
    "duration": 24,
    "start_time": "2021-11-30T20:34:02.907Z"
   },
   {
    "duration": 91,
    "start_time": "2021-11-30T20:34:02.933Z"
   },
   {
    "duration": 45,
    "start_time": "2021-11-30T20:34:03.027Z"
   },
   {
    "duration": 14,
    "start_time": "2021-11-30T20:34:03.074Z"
   },
   {
    "duration": 9,
    "start_time": "2021-11-30T20:34:03.090Z"
   },
   {
    "duration": 34,
    "start_time": "2021-11-30T20:34:03.101Z"
   },
   {
    "duration": 33,
    "start_time": "2021-11-30T20:35:13.916Z"
   },
   {
    "duration": 6,
    "start_time": "2021-11-30T20:35:24.761Z"
   },
   {
    "duration": 26,
    "start_time": "2021-11-30T20:35:27.232Z"
   },
   {
    "duration": 19,
    "start_time": "2021-11-30T20:35:56.477Z"
   },
   {
    "duration": 26,
    "start_time": "2021-11-30T20:36:31.797Z"
   },
   {
    "duration": 18,
    "start_time": "2021-11-30T20:36:34.601Z"
   },
   {
    "duration": 354,
    "start_time": "2021-12-01T19:14:23.652Z"
   },
   {
    "duration": 765,
    "start_time": "2021-12-01T19:14:31.838Z"
   },
   {
    "duration": 187,
    "start_time": "2021-12-01T19:14:32.605Z"
   },
   {
    "duration": 24,
    "start_time": "2021-12-01T19:14:32.795Z"
   },
   {
    "duration": 33,
    "start_time": "2021-12-01T19:14:32.830Z"
   },
   {
    "duration": 7,
    "start_time": "2021-12-01T19:14:32.866Z"
   },
   {
    "duration": 58,
    "start_time": "2021-12-01T19:14:32.876Z"
   },
   {
    "duration": 7,
    "start_time": "2021-12-01T19:14:32.936Z"
   },
   {
    "duration": 33,
    "start_time": "2021-12-01T19:14:32.946Z"
   },
   {
    "duration": 556,
    "start_time": "2021-12-01T19:14:32.986Z"
   },
   {
    "duration": 30,
    "start_time": "2021-12-01T19:14:33.545Z"
   },
   {
    "duration": 108,
    "start_time": "2021-12-01T19:14:33.578Z"
   },
   {
    "duration": 106,
    "start_time": "2021-12-01T19:14:33.688Z"
   },
   {
    "duration": 81,
    "start_time": "2021-12-01T19:14:33.796Z"
   },
   {
    "duration": 65,
    "start_time": "2021-12-01T19:14:33.880Z"
   },
   {
    "duration": 4,
    "start_time": "2021-12-01T19:14:33.947Z"
   },
   {
    "duration": 18,
    "start_time": "2021-12-01T19:14:33.953Z"
   },
   {
    "duration": 84,
    "start_time": "2021-12-01T19:14:33.974Z"
   },
   {
    "duration": 14,
    "start_time": "2021-12-01T19:14:34.060Z"
   },
   {
    "duration": 14,
    "start_time": "2021-12-01T19:14:34.077Z"
   },
   {
    "duration": 4,
    "start_time": "2021-12-01T19:14:34.093Z"
   },
   {
    "duration": 50,
    "start_time": "2021-12-01T19:14:34.099Z"
   },
   {
    "duration": 19,
    "start_time": "2021-12-01T19:14:34.151Z"
   },
   {
    "duration": 18,
    "start_time": "2021-12-01T19:14:34.173Z"
   },
   {
    "duration": 51,
    "start_time": "2021-12-01T19:14:34.194Z"
   },
   {
    "duration": 19,
    "start_time": "2021-12-01T19:14:34.248Z"
   },
   {
    "duration": 19,
    "start_time": "2021-12-01T19:14:34.270Z"
   },
   {
    "duration": 84,
    "start_time": "2021-12-01T19:14:34.294Z"
   },
   {
    "duration": 15,
    "start_time": "2021-12-01T19:14:34.380Z"
   },
   {
    "duration": 36,
    "start_time": "2021-12-01T19:14:34.397Z"
   },
   {
    "duration": 6,
    "start_time": "2021-12-01T19:14:34.435Z"
   },
   {
    "duration": 29,
    "start_time": "2021-12-01T19:14:34.444Z"
   },
   {
    "duration": 16,
    "start_time": "2021-12-01T19:14:34.476Z"
   },
   {
    "duration": 53,
    "start_time": "2021-12-01T19:14:34.495Z"
   },
   {
    "duration": 15,
    "start_time": "2021-12-01T19:14:34.550Z"
   },
   {
    "duration": 36,
    "start_time": "2021-12-01T19:14:38.852Z"
   },
   {
    "duration": 34,
    "start_time": "2021-12-01T19:14:56.391Z"
   },
   {
    "duration": 35,
    "start_time": "2021-12-01T19:14:58.873Z"
   },
   {
    "duration": 35,
    "start_time": "2021-12-01T19:14:59.864Z"
   },
   {
    "duration": 37,
    "start_time": "2021-12-01T19:15:00.373Z"
   },
   {
    "duration": 37,
    "start_time": "2021-12-01T19:15:00.822Z"
   },
   {
    "duration": 36,
    "start_time": "2021-12-01T19:15:01.252Z"
   },
   {
    "duration": 35,
    "start_time": "2021-12-01T19:15:01.739Z"
   },
   {
    "duration": 37,
    "start_time": "2021-12-01T19:15:02.208Z"
   },
   {
    "duration": 35,
    "start_time": "2021-12-01T19:15:05.945Z"
   },
   {
    "duration": 17,
    "start_time": "2021-12-01T19:15:40.676Z"
   },
   {
    "duration": 331,
    "start_time": "2021-12-01T19:16:22.680Z"
   },
   {
    "duration": 40,
    "start_time": "2021-12-01T19:16:27.499Z"
   },
   {
    "duration": 35,
    "start_time": "2021-12-01T19:17:01.584Z"
   },
   {
    "duration": -811,
    "start_time": "2021-12-01T19:18:07.394Z"
   },
   {
    "duration": 23,
    "start_time": "2021-12-01T19:18:07.494Z"
   },
   {
    "duration": 17,
    "start_time": "2021-12-01T19:18:17.249Z"
   },
   {
    "duration": 6,
    "start_time": "2021-12-01T19:18:40.017Z"
   },
   {
    "duration": 9,
    "start_time": "2021-12-01T19:19:27.309Z"
   },
   {
    "duration": 6,
    "start_time": "2021-12-01T19:19:34.376Z"
   },
   {
    "duration": 6,
    "start_time": "2021-12-01T19:24:58.448Z"
   },
   {
    "duration": 7,
    "start_time": "2021-12-01T19:25:06.951Z"
   },
   {
    "duration": 6,
    "start_time": "2021-12-01T19:25:15.949Z"
   },
   {
    "duration": 279,
    "start_time": "2021-12-01T19:29:08.666Z"
   },
   {
    "duration": -811,
    "start_time": "2021-12-01T19:29:48.144Z"
   },
   {
    "duration": 3,
    "start_time": "2021-12-01T19:29:49.820Z"
   },
   {
    "duration": 217,
    "start_time": "2021-12-01T19:29:49.830Z"
   },
   {
    "duration": 15,
    "start_time": "2021-12-01T19:29:50.050Z"
   },
   {
    "duration": 40,
    "start_time": "2021-12-01T19:29:50.068Z"
   },
   {
    "duration": 8,
    "start_time": "2021-12-01T19:29:50.128Z"
   },
   {
    "duration": 24,
    "start_time": "2021-12-01T19:29:50.139Z"
   },
   {
    "duration": 7,
    "start_time": "2021-12-01T19:29:50.166Z"
   },
   {
    "duration": 70,
    "start_time": "2021-12-01T19:29:50.176Z"
   },
   {
    "duration": 600,
    "start_time": "2021-12-01T19:29:50.252Z"
   },
   {
    "duration": 30,
    "start_time": "2021-12-01T19:29:50.855Z"
   },
   {
    "duration": 114,
    "start_time": "2021-12-01T19:29:50.888Z"
   },
   {
    "duration": 106,
    "start_time": "2021-12-01T19:29:51.005Z"
   },
   {
    "duration": 84,
    "start_time": "2021-12-01T19:29:51.113Z"
   },
   {
    "duration": 66,
    "start_time": "2021-12-01T19:29:51.199Z"
   },
   {
    "duration": 5,
    "start_time": "2021-12-01T19:29:51.267Z"
   },
   {
    "duration": 19,
    "start_time": "2021-12-01T19:29:51.274Z"
   },
   {
    "duration": 81,
    "start_time": "2021-12-01T19:29:51.295Z"
   },
   {
    "duration": 13,
    "start_time": "2021-12-01T19:29:51.379Z"
   },
   {
    "duration": 35,
    "start_time": "2021-12-01T19:29:51.395Z"
   },
   {
    "duration": 5,
    "start_time": "2021-12-01T19:29:51.432Z"
   },
   {
    "duration": 26,
    "start_time": "2021-12-01T19:29:51.440Z"
   },
   {
    "duration": 19,
    "start_time": "2021-12-01T19:29:51.469Z"
   },
   {
    "duration": 51,
    "start_time": "2021-12-01T19:29:51.491Z"
   },
   {
    "duration": 18,
    "start_time": "2021-12-01T19:29:51.547Z"
   },
   {
    "duration": 21,
    "start_time": "2021-12-01T19:29:51.567Z"
   },
   {
    "duration": 52,
    "start_time": "2021-12-01T19:29:51.590Z"
   },
   {
    "duration": 50,
    "start_time": "2021-12-01T19:29:51.645Z"
   },
   {
    "duration": 38,
    "start_time": "2021-12-01T19:29:51.698Z"
   },
   {
    "duration": 17,
    "start_time": "2021-12-01T19:29:51.738Z"
   },
   {
    "duration": 5,
    "start_time": "2021-12-01T19:29:51.757Z"
   },
   {
    "duration": 33,
    "start_time": "2021-12-01T19:29:51.764Z"
   },
   {
    "duration": 44,
    "start_time": "2021-12-01T19:29:51.799Z"
   },
   {
    "duration": 24,
    "start_time": "2021-12-01T19:29:51.845Z"
   },
   {
    "duration": 16,
    "start_time": "2021-12-01T19:29:51.871Z"
   },
   {
    "duration": 45,
    "start_time": "2021-12-01T19:29:51.890Z"
   },
   {
    "duration": 6,
    "start_time": "2021-12-01T19:29:51.937Z"
   },
   {
    "duration": 13,
    "start_time": "2021-12-01T19:29:51.946Z"
   },
   {
    "duration": -860,
    "start_time": "2021-12-01T19:30:04.405Z"
   },
   {
    "duration": -811,
    "start_time": "2021-12-01T19:30:22.013Z"
   },
   {
    "duration": -831,
    "start_time": "2021-12-01T19:30:32.663Z"
   },
   {
    "duration": -748,
    "start_time": "2021-12-01T19:30:43.777Z"
   },
   {
    "duration": -758,
    "start_time": "2021-12-01T19:32:36.514Z"
   },
   {
    "duration": 7,
    "start_time": "2021-12-01T19:32:36.333Z"
   },
   {
    "duration": 7,
    "start_time": "2021-12-01T19:32:40.233Z"
   },
   {
    "duration": 7,
    "start_time": "2021-12-01T19:33:24.665Z"
   },
   {
    "duration": 18,
    "start_time": "2021-12-01T19:33:30.537Z"
   },
   {
    "duration": 32,
    "start_time": "2021-12-01T19:34:46.881Z"
   },
   {
    "duration": 292,
    "start_time": "2021-12-01T19:35:16.034Z"
   },
   {
    "duration": 27,
    "start_time": "2021-12-01T19:35:31.233Z"
   },
   {
    "duration": 34,
    "start_time": "2021-12-01T19:35:48.970Z"
   },
   {
    "duration": 305,
    "start_time": "2021-12-01T19:36:34.486Z"
   },
   {
    "duration": 30,
    "start_time": "2021-12-01T19:36:53.393Z"
   },
   {
    "duration": 9,
    "start_time": "2021-12-01T19:41:46.007Z"
   },
   {
    "duration": 7,
    "start_time": "2021-12-01T19:41:52.175Z"
   },
   {
    "duration": 6,
    "start_time": "2021-12-01T19:42:05.731Z"
   },
   {
    "duration": 8,
    "start_time": "2021-12-01T19:43:28.383Z"
   },
   {
    "duration": 6,
    "start_time": "2021-12-01T19:43:42.631Z"
   },
   {
    "duration": 300,
    "start_time": "2021-12-01T19:44:47.547Z"
   },
   {
    "duration": 294,
    "start_time": "2021-12-01T19:44:55.530Z"
   },
   {
    "duration": 561,
    "start_time": "2021-12-01T19:46:39.205Z"
   },
   {
    "duration": 145,
    "start_time": "2021-12-01T19:48:38.727Z"
   },
   {
    "duration": 5,
    "start_time": "2021-12-01T19:48:44.174Z"
   },
   {
    "duration": 109,
    "start_time": "2021-12-01T19:51:15.407Z"
   },
   {
    "duration": 419,
    "start_time": "2021-12-01T19:51:45.101Z"
   },
   {
    "duration": 7,
    "start_time": "2021-12-01T19:51:55.952Z"
   },
   {
    "duration": 312,
    "start_time": "2021-12-01T19:52:45.379Z"
   },
   {
    "duration": 310,
    "start_time": "2021-12-01T19:52:58.300Z"
   },
   {
    "duration": 322,
    "start_time": "2021-12-01T19:53:04.015Z"
   },
   {
    "duration": 6,
    "start_time": "2021-12-01T19:53:14.856Z"
   },
   {
    "duration": 106,
    "start_time": "2021-12-01T19:54:07.168Z"
   },
   {
    "duration": 8,
    "start_time": "2021-12-01T19:54:34.989Z"
   },
   {
    "duration": 9,
    "start_time": "2021-12-01T19:55:20.484Z"
   },
   {
    "duration": 8,
    "start_time": "2021-12-01T19:58:04.820Z"
   },
   {
    "duration": 9,
    "start_time": "2021-12-01T19:58:06.932Z"
   },
   {
    "duration": 12,
    "start_time": "2021-12-01T19:58:35.270Z"
   },
   {
    "duration": 6,
    "start_time": "2021-12-01T19:59:08.121Z"
   },
   {
    "duration": 6,
    "start_time": "2021-12-01T19:59:20.749Z"
   },
   {
    "duration": 6,
    "start_time": "2021-12-01T19:59:27.850Z"
   },
   {
    "duration": 8,
    "start_time": "2021-12-01T19:59:54.473Z"
   },
   {
    "duration": 6,
    "start_time": "2021-12-01T20:02:21.841Z"
   },
   {
    "duration": 7,
    "start_time": "2021-12-01T20:02:27.079Z"
   },
   {
    "duration": 7,
    "start_time": "2021-12-01T20:02:45.847Z"
   },
   {
    "duration": 3,
    "start_time": "2021-12-01T20:06:19.904Z"
   },
   {
    "duration": 229,
    "start_time": "2021-12-01T20:06:19.912Z"
   },
   {
    "duration": 16,
    "start_time": "2021-12-01T20:06:20.144Z"
   },
   {
    "duration": 36,
    "start_time": "2021-12-01T20:06:20.163Z"
   },
   {
    "duration": 27,
    "start_time": "2021-12-01T20:06:20.203Z"
   },
   {
    "duration": 20,
    "start_time": "2021-12-01T20:06:20.233Z"
   },
   {
    "duration": 6,
    "start_time": "2021-12-01T20:06:20.255Z"
   },
   {
    "duration": 73,
    "start_time": "2021-12-01T20:06:20.264Z"
   },
   {
    "duration": 567,
    "start_time": "2021-12-01T20:06:20.341Z"
   },
   {
    "duration": 46,
    "start_time": "2021-12-01T20:06:20.911Z"
   },
   {
    "duration": 145,
    "start_time": "2021-12-01T20:06:20.960Z"
   },
   {
    "duration": 141,
    "start_time": "2021-12-01T20:06:21.108Z"
   },
   {
    "duration": 118,
    "start_time": "2021-12-01T20:06:21.252Z"
   },
   {
    "duration": 100,
    "start_time": "2021-12-01T20:06:21.373Z"
   },
   {
    "duration": 4,
    "start_time": "2021-12-01T20:06:21.475Z"
   },
   {
    "duration": 16,
    "start_time": "2021-12-01T20:06:21.482Z"
   },
   {
    "duration": 107,
    "start_time": "2021-12-01T20:06:21.500Z"
   },
   {
    "duration": 30,
    "start_time": "2021-12-01T20:06:21.610Z"
   },
   {
    "duration": 15,
    "start_time": "2021-12-01T20:06:21.642Z"
   },
   {
    "duration": 6,
    "start_time": "2021-12-01T20:06:21.659Z"
   },
   {
    "duration": 25,
    "start_time": "2021-12-01T20:06:21.667Z"
   },
   {
    "duration": 20,
    "start_time": "2021-12-01T20:06:21.728Z"
   },
   {
    "duration": 20,
    "start_time": "2021-12-01T20:06:21.750Z"
   },
   {
    "duration": 19,
    "start_time": "2021-12-01T20:06:21.775Z"
   },
   {
    "duration": 51,
    "start_time": "2021-12-01T20:06:21.796Z"
   },
   {
    "duration": 19,
    "start_time": "2021-12-01T20:06:21.850Z"
   },
   {
    "duration": 94,
    "start_time": "2021-12-01T20:06:21.872Z"
   },
   {
    "duration": 18,
    "start_time": "2021-12-01T20:06:21.968Z"
   },
   {
    "duration": 14,
    "start_time": "2021-12-01T20:06:21.988Z"
   },
   {
    "duration": 27,
    "start_time": "2021-12-01T20:06:22.005Z"
   },
   {
    "duration": 31,
    "start_time": "2021-12-01T20:06:22.035Z"
   },
   {
    "duration": 17,
    "start_time": "2021-12-01T20:06:22.068Z"
   },
   {
    "duration": 55,
    "start_time": "2021-12-01T20:06:22.088Z"
   },
   {
    "duration": 16,
    "start_time": "2021-12-01T20:06:22.145Z"
   },
   {
    "duration": 12,
    "start_time": "2021-12-01T20:06:22.163Z"
   },
   {
    "duration": 6,
    "start_time": "2021-12-01T20:06:22.177Z"
   },
   {
    "duration": 10,
    "start_time": "2021-12-01T20:06:22.230Z"
   },
   {
    "duration": 6,
    "start_time": "2021-12-01T20:06:22.243Z"
   },
   {
    "duration": 10,
    "start_time": "2021-12-01T20:06:22.251Z"
   },
   {
    "duration": 15,
    "start_time": "2021-12-01T20:06:22.263Z"
   },
   {
    "duration": 185,
    "start_time": "2021-12-01T20:06:36.271Z"
   },
   {
    "duration": 297,
    "start_time": "2021-12-01T20:12:10.188Z"
   },
   {
    "duration": 5,
    "start_time": "2021-12-01T20:12:16.017Z"
   },
   {
    "duration": 298,
    "start_time": "2021-12-01T20:12:18.661Z"
   },
   {
    "duration": 7,
    "start_time": "2021-12-01T20:12:29.683Z"
   },
   {
    "duration": 7,
    "start_time": "2021-12-01T20:12:36.840Z"
   },
   {
    "duration": -817,
    "start_time": "2021-12-01T20:13:07.021Z"
   },
   {
    "duration": -3018,
    "start_time": "2021-12-01T20:13:21.201Z"
   },
   {
    "duration": 7331,
    "start_time": "2021-12-01T20:14:07.011Z"
   },
   {
    "duration": 7194,
    "start_time": "2021-12-01T20:14:22.975Z"
   },
   {
    "duration": -828,
    "start_time": "2021-12-01T20:14:31.001Z"
   },
   {
    "duration": 3,
    "start_time": "2021-12-01T20:14:44.294Z"
   },
   {
    "duration": 202,
    "start_time": "2021-12-01T20:14:44.302Z"
   },
   {
    "duration": 23,
    "start_time": "2021-12-01T20:14:44.507Z"
   },
   {
    "duration": 32,
    "start_time": "2021-12-01T20:14:44.533Z"
   },
   {
    "duration": 6,
    "start_time": "2021-12-01T20:14:44.567Z"
   },
   {
    "duration": 59,
    "start_time": "2021-12-01T20:14:44.575Z"
   },
   {
    "duration": 5,
    "start_time": "2021-12-01T20:14:44.636Z"
   },
   {
    "duration": 37,
    "start_time": "2021-12-01T20:14:44.644Z"
   },
   {
    "duration": 569,
    "start_time": "2021-12-01T20:14:44.687Z"
   },
   {
    "duration": 31,
    "start_time": "2021-12-01T20:14:45.260Z"
   },
   {
    "duration": 108,
    "start_time": "2021-12-01T20:14:45.294Z"
   },
   {
    "duration": 160,
    "start_time": "2021-12-01T20:14:45.405Z"
   },
   {
    "duration": 101,
    "start_time": "2021-12-01T20:14:45.568Z"
   },
   {
    "duration": 65,
    "start_time": "2021-12-01T20:14:45.671Z"
   },
   {
    "duration": 4,
    "start_time": "2021-12-01T20:14:45.738Z"
   },
   {
    "duration": 21,
    "start_time": "2021-12-01T20:14:45.744Z"
   },
   {
    "duration": 74,
    "start_time": "2021-12-01T20:14:45.768Z"
   },
   {
    "duration": 15,
    "start_time": "2021-12-01T20:14:45.844Z"
   },
   {
    "duration": 13,
    "start_time": "2021-12-01T20:14:45.861Z"
   },
   {
    "duration": 4,
    "start_time": "2021-12-01T20:14:45.877Z"
   },
   {
    "duration": 60,
    "start_time": "2021-12-01T20:14:45.884Z"
   },
   {
    "duration": 19,
    "start_time": "2021-12-01T20:14:45.947Z"
   },
   {
    "duration": 19,
    "start_time": "2021-12-01T20:14:45.969Z"
   },
   {
    "duration": 54,
    "start_time": "2021-12-01T20:14:45.992Z"
   },
   {
    "duration": 29,
    "start_time": "2021-12-01T20:14:46.048Z"
   },
   {
    "duration": 19,
    "start_time": "2021-12-01T20:14:46.079Z"
   },
   {
    "duration": 76,
    "start_time": "2021-12-01T20:14:46.100Z"
   },
   {
    "duration": 17,
    "start_time": "2021-12-01T20:14:47.903Z"
   },
   {
    "duration": 19,
    "start_time": "2021-12-01T20:14:54.759Z"
   },
   {
    "duration": 19,
    "start_time": "2021-12-01T20:15:07.216Z"
   },
   {
    "duration": 3,
    "start_time": "2021-12-01T20:15:41.968Z"
   },
   {
    "duration": 3,
    "start_time": "2021-12-01T20:15:45.258Z"
   },
   {
    "duration": 222,
    "start_time": "2021-12-01T20:15:45.264Z"
   },
   {
    "duration": 16,
    "start_time": "2021-12-01T20:15:45.489Z"
   },
   {
    "duration": 50,
    "start_time": "2021-12-01T20:15:45.508Z"
   },
   {
    "duration": 6,
    "start_time": "2021-12-01T20:15:45.561Z"
   },
   {
    "duration": 21,
    "start_time": "2021-12-01T20:15:45.569Z"
   },
   {
    "duration": 5,
    "start_time": "2021-12-01T20:15:45.593Z"
   },
   {
    "duration": 56,
    "start_time": "2021-12-01T20:15:45.601Z"
   },
   {
    "duration": 548,
    "start_time": "2021-12-01T20:15:45.659Z"
   },
   {
    "duration": 35,
    "start_time": "2021-12-01T20:15:46.210Z"
   },
   {
    "duration": 96,
    "start_time": "2021-12-01T20:15:46.248Z"
   },
   {
    "duration": 111,
    "start_time": "2021-12-01T20:15:46.346Z"
   },
   {
    "duration": 81,
    "start_time": "2021-12-01T20:15:46.460Z"
   },
   {
    "duration": 58,
    "start_time": "2021-12-01T20:15:46.543Z"
   },
   {
    "duration": 4,
    "start_time": "2021-12-01T20:15:46.604Z"
   },
   {
    "duration": 14,
    "start_time": "2021-12-01T20:15:46.629Z"
   },
   {
    "duration": 57,
    "start_time": "2021-12-01T20:15:46.646Z"
   },
   {
    "duration": 36,
    "start_time": "2021-12-01T20:15:46.705Z"
   },
   {
    "duration": 13,
    "start_time": "2021-12-01T20:15:46.745Z"
   },
   {
    "duration": 5,
    "start_time": "2021-12-01T20:15:46.761Z"
   },
   {
    "duration": 26,
    "start_time": "2021-12-01T20:15:46.768Z"
   },
   {
    "duration": 49,
    "start_time": "2021-12-01T20:15:46.797Z"
   },
   {
    "duration": 21,
    "start_time": "2021-12-01T20:15:46.848Z"
   },
   {
    "duration": 18,
    "start_time": "2021-12-01T20:15:46.871Z"
   },
   {
    "duration": 54,
    "start_time": "2021-12-01T20:15:46.892Z"
   },
   {
    "duration": 19,
    "start_time": "2021-12-01T20:15:46.948Z"
   },
   {
    "duration": 80,
    "start_time": "2021-12-01T20:15:46.969Z"
   },
   {
    "duration": 13,
    "start_time": "2021-12-01T20:15:47.052Z"
   },
   {
    "duration": 11,
    "start_time": "2021-12-01T20:15:47.068Z"
   },
   {
    "duration": 6,
    "start_time": "2021-12-01T20:15:47.081Z"
   },
   {
    "duration": 52,
    "start_time": "2021-12-01T20:15:47.089Z"
   },
   {
    "duration": 16,
    "start_time": "2021-12-01T20:15:47.143Z"
   },
   {
    "duration": 23,
    "start_time": "2021-12-01T20:15:47.161Z"
   },
   {
    "duration": 44,
    "start_time": "2021-12-01T20:15:47.186Z"
   },
   {
    "duration": 12,
    "start_time": "2021-12-01T20:15:47.232Z"
   },
   {
    "duration": 8,
    "start_time": "2021-12-01T20:15:47.246Z"
   },
   {
    "duration": 15,
    "start_time": "2021-12-01T20:15:47.256Z"
   },
   {
    "duration": 7,
    "start_time": "2021-12-01T20:15:47.274Z"
   },
   {
    "duration": 21,
    "start_time": "2021-12-01T20:15:47.283Z"
   },
   {
    "duration": 6,
    "start_time": "2021-12-01T20:15:47.329Z"
   },
   {
    "duration": 400,
    "start_time": "2021-12-01T20:16:23.929Z"
   },
   {
    "duration": 30,
    "start_time": "2021-12-01T20:16:26.183Z"
   },
   {
    "duration": 74,
    "start_time": "2021-12-01T20:17:03.642Z"
   },
   {
    "duration": 31,
    "start_time": "2021-12-01T20:17:05.476Z"
   },
   {
    "duration": 4,
    "start_time": "2021-12-01T20:17:25.918Z"
   },
   {
    "duration": 230,
    "start_time": "2021-12-01T20:17:25.927Z"
   },
   {
    "duration": 16,
    "start_time": "2021-12-01T20:17:26.159Z"
   },
   {
    "duration": 54,
    "start_time": "2021-12-01T20:17:26.178Z"
   },
   {
    "duration": 7,
    "start_time": "2021-12-01T20:17:26.235Z"
   },
   {
    "duration": 17,
    "start_time": "2021-12-01T20:17:26.244Z"
   },
   {
    "duration": 5,
    "start_time": "2021-12-01T20:17:26.264Z"
   },
   {
    "duration": 63,
    "start_time": "2021-12-01T20:17:26.271Z"
   },
   {
    "duration": 97,
    "start_time": "2021-12-01T20:17:26.338Z"
   },
   {
    "duration": 31,
    "start_time": "2021-12-01T20:17:26.438Z"
   },
   {
    "duration": 96,
    "start_time": "2021-12-01T20:17:26.471Z"
   },
   {
    "duration": 102,
    "start_time": "2021-12-01T20:17:26.569Z"
   },
   {
    "duration": 87,
    "start_time": "2021-12-01T20:17:26.673Z"
   },
   {
    "duration": 71,
    "start_time": "2021-12-01T20:17:26.762Z"
   },
   {
    "duration": 4,
    "start_time": "2021-12-01T20:17:26.835Z"
   },
   {
    "duration": 20,
    "start_time": "2021-12-01T20:17:26.842Z"
   },
   {
    "duration": 81,
    "start_time": "2021-12-01T20:17:26.864Z"
   },
   {
    "duration": 16,
    "start_time": "2021-12-01T20:17:26.947Z"
   },
   {
    "duration": 15,
    "start_time": "2021-12-01T20:17:26.966Z"
   },
   {
    "duration": 5,
    "start_time": "2021-12-01T20:17:26.983Z"
   },
   {
    "duration": 56,
    "start_time": "2021-12-01T20:17:26.990Z"
   },
   {
    "duration": 19,
    "start_time": "2021-12-01T20:17:27.049Z"
   },
   {
    "duration": 19,
    "start_time": "2021-12-01T20:17:27.070Z"
   },
   {
    "duration": 47,
    "start_time": "2021-12-01T20:17:27.094Z"
   },
   {
    "duration": 22,
    "start_time": "2021-12-01T20:17:27.144Z"
   },
   {
    "duration": 19,
    "start_time": "2021-12-01T20:17:27.168Z"
   },
   {
    "duration": 81,
    "start_time": "2021-12-01T20:17:27.190Z"
   },
   {
    "duration": 18,
    "start_time": "2021-12-01T20:17:27.273Z"
   },
   {
    "duration": 38,
    "start_time": "2021-12-01T20:17:27.293Z"
   },
   {
    "duration": 6,
    "start_time": "2021-12-01T20:17:27.333Z"
   },
   {
    "duration": 30,
    "start_time": "2021-12-01T20:17:27.341Z"
   },
   {
    "duration": 17,
    "start_time": "2021-12-01T20:17:27.374Z"
   },
   {
    "duration": 51,
    "start_time": "2021-12-01T20:17:27.394Z"
   },
   {
    "duration": 17,
    "start_time": "2021-12-01T20:17:27.447Z"
   },
   {
    "duration": 12,
    "start_time": "2021-12-01T20:17:27.467Z"
   },
   {
    "duration": 6,
    "start_time": "2021-12-01T20:17:27.481Z"
   },
   {
    "duration": 45,
    "start_time": "2021-12-01T20:17:27.490Z"
   },
   {
    "duration": 10,
    "start_time": "2021-12-01T20:17:27.537Z"
   },
   {
    "duration": 8,
    "start_time": "2021-12-01T20:17:27.549Z"
   },
   {
    "duration": 10,
    "start_time": "2021-12-01T20:17:27.560Z"
   },
   {
    "duration": 51,
    "start_time": "2021-12-01T20:18:16.965Z"
   },
   {
    "duration": 52,
    "start_time": "2021-12-01T20:19:14.966Z"
   },
   {
    "duration": 4,
    "start_time": "2021-12-01T20:19:18.788Z"
   },
   {
    "duration": 203,
    "start_time": "2021-12-01T20:19:18.794Z"
   },
   {
    "duration": 16,
    "start_time": "2021-12-01T20:19:18.999Z"
   },
   {
    "duration": 31,
    "start_time": "2021-12-01T20:19:19.030Z"
   },
   {
    "duration": 5,
    "start_time": "2021-12-01T20:19:19.064Z"
   },
   {
    "duration": 21,
    "start_time": "2021-12-01T20:19:19.071Z"
   },
   {
    "duration": 38,
    "start_time": "2021-12-01T20:19:19.095Z"
   },
   {
    "duration": 35,
    "start_time": "2021-12-01T20:19:19.136Z"
   },
   {
    "duration": 107,
    "start_time": "2021-12-01T20:19:19.174Z"
   },
   {
    "duration": 57,
    "start_time": "2021-12-01T20:19:21.114Z"
   },
   {
    "duration": 32,
    "start_time": "2021-12-01T20:19:26.645Z"
   },
   {
    "duration": 3,
    "start_time": "2021-12-01T20:19:29.914Z"
   },
   {
    "duration": 240,
    "start_time": "2021-12-01T20:19:29.919Z"
   },
   {
    "duration": 17,
    "start_time": "2021-12-01T20:19:30.161Z"
   },
   {
    "duration": 54,
    "start_time": "2021-12-01T20:19:30.181Z"
   },
   {
    "duration": 15,
    "start_time": "2021-12-01T20:19:30.238Z"
   },
   {
    "duration": 44,
    "start_time": "2021-12-01T20:19:30.255Z"
   },
   {
    "duration": 6,
    "start_time": "2021-12-01T20:19:30.303Z"
   },
   {
    "duration": 55,
    "start_time": "2021-12-01T20:19:30.312Z"
   },
   {
    "duration": 104,
    "start_time": "2021-12-01T20:19:30.369Z"
   },
   {
    "duration": 32,
    "start_time": "2021-12-01T20:19:30.475Z"
   },
   {
    "duration": 110,
    "start_time": "2021-12-01T20:19:30.510Z"
   },
   {
    "duration": 113,
    "start_time": "2021-12-01T20:19:30.629Z"
   },
   {
    "duration": 94,
    "start_time": "2021-12-01T20:19:30.744Z"
   },
   {
    "duration": 62,
    "start_time": "2021-12-01T20:19:30.847Z"
   },
   {
    "duration": 19,
    "start_time": "2021-12-01T20:19:30.911Z"
   },
   {
    "duration": 30,
    "start_time": "2021-12-01T20:19:30.933Z"
   },
   {
    "duration": 80,
    "start_time": "2021-12-01T20:19:30.966Z"
   },
   {
    "duration": 14,
    "start_time": "2021-12-01T20:19:31.049Z"
   },
   {
    "duration": 30,
    "start_time": "2021-12-01T20:19:31.068Z"
   },
   {
    "duration": 31,
    "start_time": "2021-12-01T20:19:31.100Z"
   },
   {
    "duration": 42,
    "start_time": "2021-12-01T20:19:31.134Z"
   },
   {
    "duration": 20,
    "start_time": "2021-12-01T20:19:31.178Z"
   },
   {
    "duration": 30,
    "start_time": "2021-12-01T20:19:31.200Z"
   },
   {
    "duration": 21,
    "start_time": "2021-12-01T20:19:31.233Z"
   },
   {
    "duration": 25,
    "start_time": "2021-12-01T20:19:31.257Z"
   },
   {
    "duration": 57,
    "start_time": "2021-12-01T20:19:31.286Z"
   },
   {
    "duration": 56,
    "start_time": "2021-12-01T20:19:31.346Z"
   },
   {
    "duration": 20,
    "start_time": "2021-12-01T20:19:31.430Z"
   },
   {
    "duration": 18,
    "start_time": "2021-12-01T20:19:31.452Z"
   },
   {
    "duration": 6,
    "start_time": "2021-12-01T20:19:31.472Z"
   },
   {
    "duration": 62,
    "start_time": "2021-12-01T20:19:31.481Z"
   },
   {
    "duration": 17,
    "start_time": "2021-12-01T20:19:31.546Z"
   },
   {
    "duration": 21,
    "start_time": "2021-12-01T20:19:31.566Z"
   },
   {
    "duration": 45,
    "start_time": "2021-12-01T20:19:31.590Z"
   },
   {
    "duration": 13,
    "start_time": "2021-12-01T20:19:31.637Z"
   },
   {
    "duration": 6,
    "start_time": "2021-12-01T20:19:31.653Z"
   },
   {
    "duration": 11,
    "start_time": "2021-12-01T20:19:31.661Z"
   },
   {
    "duration": 17,
    "start_time": "2021-12-01T20:19:31.674Z"
   },
   {
    "duration": 37,
    "start_time": "2021-12-01T20:19:31.694Z"
   },
   {
    "duration": 20,
    "start_time": "2021-12-01T20:19:31.733Z"
   },
   {
    "duration": 4,
    "start_time": "2021-12-01T20:33:21.766Z"
   },
   {
    "duration": 204,
    "start_time": "2021-12-01T20:33:21.774Z"
   },
   {
    "duration": 16,
    "start_time": "2021-12-01T20:33:21.981Z"
   },
   {
    "duration": 57,
    "start_time": "2021-12-01T20:33:22.000Z"
   },
   {
    "duration": 7,
    "start_time": "2021-12-01T20:33:22.060Z"
   },
   {
    "duration": 23,
    "start_time": "2021-12-01T20:33:22.070Z"
   },
   {
    "duration": 36,
    "start_time": "2021-12-01T20:33:22.096Z"
   },
   {
    "duration": 32,
    "start_time": "2021-12-01T20:33:22.134Z"
   },
   {
    "duration": 105,
    "start_time": "2021-12-01T20:33:22.170Z"
   },
   {
    "duration": 30,
    "start_time": "2021-12-01T20:33:22.279Z"
   },
   {
    "duration": 103,
    "start_time": "2021-12-01T20:33:22.311Z"
   },
   {
    "duration": 113,
    "start_time": "2021-12-01T20:33:22.416Z"
   },
   {
    "duration": 77,
    "start_time": "2021-12-01T20:33:22.532Z"
   },
   {
    "duration": 69,
    "start_time": "2021-12-01T20:33:22.612Z"
   },
   {
    "duration": 4,
    "start_time": "2021-12-01T20:33:22.683Z"
   },
   {
    "duration": 39,
    "start_time": "2021-12-01T20:33:22.690Z"
   },
   {
    "duration": 18,
    "start_time": "2021-12-01T20:33:22.731Z"
   },
   {
    "duration": 57,
    "start_time": "2021-12-01T20:33:22.752Z"
   },
   {
    "duration": 31,
    "start_time": "2021-12-01T20:33:22.811Z"
   },
   {
    "duration": 14,
    "start_time": "2021-12-01T20:33:22.845Z"
   },
   {
    "duration": 6,
    "start_time": "2021-12-01T20:33:22.862Z"
   },
   {
    "duration": 59,
    "start_time": "2021-12-01T20:33:22.871Z"
   },
   {
    "duration": 23,
    "start_time": "2021-12-01T20:33:22.933Z"
   },
   {
    "duration": 20,
    "start_time": "2021-12-01T20:33:22.963Z"
   },
   {
    "duration": 54,
    "start_time": "2021-12-01T20:33:22.986Z"
   },
   {
    "duration": 23,
    "start_time": "2021-12-01T20:33:23.043Z"
   },
   {
    "duration": 21,
    "start_time": "2021-12-01T20:33:23.068Z"
   },
   {
    "duration": 85,
    "start_time": "2021-12-01T20:33:23.091Z"
   },
   {
    "duration": 18,
    "start_time": "2021-12-01T20:33:23.178Z"
   },
   {
    "duration": 38,
    "start_time": "2021-12-01T20:33:23.198Z"
   },
   {
    "duration": 5,
    "start_time": "2021-12-01T20:33:23.239Z"
   },
   {
    "duration": 29,
    "start_time": "2021-12-01T20:33:23.247Z"
   },
   {
    "duration": 18,
    "start_time": "2021-12-01T20:33:23.278Z"
   },
   {
    "duration": 52,
    "start_time": "2021-12-01T20:33:23.299Z"
   },
   {
    "duration": 17,
    "start_time": "2021-12-01T20:33:23.354Z"
   },
   {
    "duration": 23,
    "start_time": "2021-12-01T20:33:23.374Z"
   },
   {
    "duration": 33,
    "start_time": "2021-12-01T20:33:23.401Z"
   },
   {
    "duration": 14,
    "start_time": "2021-12-01T20:33:23.438Z"
   },
   {
    "duration": 8,
    "start_time": "2021-12-01T20:33:23.455Z"
   },
   {
    "duration": 9,
    "start_time": "2021-12-01T20:33:23.466Z"
   },
   {
    "duration": 52,
    "start_time": "2021-12-01T20:33:23.478Z"
   },
   {
    "duration": 6,
    "start_time": "2021-12-01T20:43:52.052Z"
   },
   {
    "duration": 27,
    "start_time": "2021-12-01T20:44:15.232Z"
   },
   {
    "duration": 25,
    "start_time": "2021-12-01T20:44:18.902Z"
   },
   {
    "duration": 18,
    "start_time": "2021-12-01T20:44:27.260Z"
   },
   {
    "duration": 23,
    "start_time": "2021-12-01T20:44:34.479Z"
   },
   {
    "duration": 17,
    "start_time": "2021-12-01T20:44:36.332Z"
   },
   {
    "duration": 27,
    "start_time": "2021-12-01T21:03:58.009Z"
   },
   {
    "duration": 6,
    "start_time": "2021-12-01T21:04:01.651Z"
   },
   {
    "duration": 26,
    "start_time": "2021-12-01T21:04:03.241Z"
   },
   {
    "duration": 4,
    "start_time": "2021-12-01T21:04:29.081Z"
   },
   {
    "duration": 187,
    "start_time": "2021-12-01T21:04:29.088Z"
   },
   {
    "duration": 15,
    "start_time": "2021-12-01T21:04:29.278Z"
   },
   {
    "duration": 57,
    "start_time": "2021-12-01T21:04:29.296Z"
   },
   {
    "duration": 5,
    "start_time": "2021-12-01T21:04:29.356Z"
   },
   {
    "duration": 16,
    "start_time": "2021-12-01T21:04:29.363Z"
   },
   {
    "duration": 5,
    "start_time": "2021-12-01T21:04:29.382Z"
   },
   {
    "duration": 66,
    "start_time": "2021-12-01T21:04:29.390Z"
   },
   {
    "duration": 88,
    "start_time": "2021-12-01T21:04:29.458Z"
   },
   {
    "duration": 31,
    "start_time": "2021-12-01T21:04:29.549Z"
   },
   {
    "duration": 99,
    "start_time": "2021-12-01T21:04:29.582Z"
   },
   {
    "duration": 110,
    "start_time": "2021-12-01T21:04:29.684Z"
   },
   {
    "duration": 83,
    "start_time": "2021-12-01T21:04:29.796Z"
   },
   {
    "duration": 59,
    "start_time": "2021-12-01T21:04:29.882Z"
   },
   {
    "duration": 4,
    "start_time": "2021-12-01T21:04:29.944Z"
   },
   {
    "duration": 17,
    "start_time": "2021-12-01T21:04:29.950Z"
   },
   {
    "duration": 9,
    "start_time": "2021-12-01T21:04:29.970Z"
   },
   {
    "duration": 91,
    "start_time": "2021-12-01T21:04:29.982Z"
   },
   {
    "duration": 16,
    "start_time": "2021-12-01T21:04:30.078Z"
   },
   {
    "duration": 41,
    "start_time": "2021-12-01T21:04:30.096Z"
   },
   {
    "duration": 4,
    "start_time": "2021-12-01T21:04:30.139Z"
   },
   {
    "duration": 33,
    "start_time": "2021-12-01T21:04:30.146Z"
   },
   {
    "duration": 19,
    "start_time": "2021-12-01T21:04:30.182Z"
   },
   {
    "duration": 41,
    "start_time": "2021-12-01T21:04:30.204Z"
   },
   {
    "duration": 36,
    "start_time": "2021-12-01T21:04:30.247Z"
   },
   {
    "duration": 29,
    "start_time": "2021-12-01T21:04:30.286Z"
   },
   {
    "duration": 38,
    "start_time": "2021-12-01T21:04:30.317Z"
   },
   {
    "duration": 70,
    "start_time": "2021-12-01T21:04:30.357Z"
   },
   {
    "duration": 16,
    "start_time": "2021-12-01T21:04:30.429Z"
   },
   {
    "duration": 18,
    "start_time": "2021-12-01T21:04:30.447Z"
   },
   {
    "duration": 3,
    "start_time": "2021-12-01T21:04:32.506Z"
   },
   {
    "duration": 219,
    "start_time": "2021-12-01T21:04:32.515Z"
   },
   {
    "duration": 15,
    "start_time": "2021-12-01T21:04:32.737Z"
   },
   {
    "duration": 38,
    "start_time": "2021-12-01T21:04:32.755Z"
   },
   {
    "duration": 5,
    "start_time": "2021-12-01T21:04:32.796Z"
   },
   {
    "duration": 21,
    "start_time": "2021-12-01T21:04:32.829Z"
   },
   {
    "duration": 5,
    "start_time": "2021-12-01T21:04:32.853Z"
   },
   {
    "duration": 34,
    "start_time": "2021-12-01T21:04:32.860Z"
   },
   {
    "duration": 110,
    "start_time": "2021-12-01T21:04:32.898Z"
   },
   {
    "duration": 41,
    "start_time": "2021-12-01T21:04:33.011Z"
   },
   {
    "duration": 101,
    "start_time": "2021-12-01T21:04:33.055Z"
   },
   {
    "duration": 101,
    "start_time": "2021-12-01T21:04:33.158Z"
   },
   {
    "duration": 87,
    "start_time": "2021-12-01T21:04:33.262Z"
   },
   {
    "duration": 57,
    "start_time": "2021-12-01T21:04:33.351Z"
   },
   {
    "duration": 21,
    "start_time": "2021-12-01T21:04:33.410Z"
   },
   {
    "duration": 25,
    "start_time": "2021-12-01T21:04:33.433Z"
   },
   {
    "duration": 9,
    "start_time": "2021-12-01T21:04:33.461Z"
   },
   {
    "duration": 75,
    "start_time": "2021-12-01T21:04:33.473Z"
   },
   {
    "duration": 15,
    "start_time": "2021-12-01T21:04:33.550Z"
   },
   {
    "duration": 15,
    "start_time": "2021-12-01T21:04:33.567Z"
   },
   {
    "duration": 5,
    "start_time": "2021-12-01T21:04:33.584Z"
   },
   {
    "duration": 68,
    "start_time": "2021-12-01T21:04:33.591Z"
   },
   {
    "duration": 22,
    "start_time": "2021-12-01T21:04:33.661Z"
   },
   {
    "duration": 44,
    "start_time": "2021-12-01T21:04:33.688Z"
   },
   {
    "duration": 20,
    "start_time": "2021-12-01T21:04:33.735Z"
   },
   {
    "duration": 22,
    "start_time": "2021-12-01T21:04:33.757Z"
   },
   {
    "duration": 50,
    "start_time": "2021-12-01T21:04:33.781Z"
   },
   {
    "duration": 52,
    "start_time": "2021-12-01T21:04:33.833Z"
   },
   {
    "duration": 18,
    "start_time": "2021-12-01T21:04:33.887Z"
   },
   {
    "duration": 13,
    "start_time": "2021-12-01T21:04:33.930Z"
   },
   {
    "duration": 6,
    "start_time": "2021-12-01T21:04:33.945Z"
   },
   {
    "duration": 30,
    "start_time": "2021-12-01T21:04:33.953Z"
   },
   {
    "duration": 43,
    "start_time": "2021-12-01T21:04:33.986Z"
   },
   {
    "duration": 23,
    "start_time": "2021-12-01T21:04:34.031Z"
   },
   {
    "duration": 15,
    "start_time": "2021-12-01T21:04:34.057Z"
   },
   {
    "duration": 12,
    "start_time": "2021-12-01T21:04:34.075Z"
   },
   {
    "duration": 42,
    "start_time": "2021-12-01T21:04:34.089Z"
   },
   {
    "duration": 11,
    "start_time": "2021-12-01T21:04:34.134Z"
   },
   {
    "duration": 7,
    "start_time": "2021-12-01T21:04:34.148Z"
   },
   {
    "duration": 6,
    "start_time": "2021-12-01T21:04:34.158Z"
   },
   {
    "duration": 9,
    "start_time": "2021-12-01T21:04:34.166Z"
   },
   {
    "duration": 4,
    "start_time": "2021-12-01T21:06:15.534Z"
   },
   {
    "duration": 231,
    "start_time": "2021-12-01T21:06:15.543Z"
   },
   {
    "duration": 18,
    "start_time": "2021-12-01T21:06:15.777Z"
   },
   {
    "duration": 33,
    "start_time": "2021-12-01T21:06:15.828Z"
   },
   {
    "duration": 7,
    "start_time": "2021-12-01T21:06:15.864Z"
   },
   {
    "duration": 55,
    "start_time": "2021-12-01T21:06:15.874Z"
   },
   {
    "duration": 7,
    "start_time": "2021-12-01T21:06:15.931Z"
   },
   {
    "duration": 35,
    "start_time": "2021-12-01T21:06:15.940Z"
   },
   {
    "duration": 113,
    "start_time": "2021-12-01T21:06:15.981Z"
   },
   {
    "duration": 35,
    "start_time": "2021-12-01T21:06:16.098Z"
   },
   {
    "duration": 104,
    "start_time": "2021-12-01T21:06:16.136Z"
   },
   {
    "duration": 106,
    "start_time": "2021-12-01T21:06:16.242Z"
   },
   {
    "duration": 88,
    "start_time": "2021-12-01T21:06:16.351Z"
   },
   {
    "duration": 60,
    "start_time": "2021-12-01T21:06:16.442Z"
   },
   {
    "duration": 26,
    "start_time": "2021-12-01T21:06:16.504Z"
   },
   {
    "duration": 19,
    "start_time": "2021-12-01T21:06:16.532Z"
   },
   {
    "duration": 16,
    "start_time": "2021-12-01T21:06:16.554Z"
   },
   {
    "duration": 73,
    "start_time": "2021-12-01T21:06:16.573Z"
   },
   {
    "duration": 16,
    "start_time": "2021-12-01T21:06:16.648Z"
   },
   {
    "duration": 14,
    "start_time": "2021-12-01T21:06:16.666Z"
   },
   {
    "duration": 6,
    "start_time": "2021-12-01T21:06:16.683Z"
   },
   {
    "duration": 58,
    "start_time": "2021-12-01T21:06:16.692Z"
   },
   {
    "duration": 18,
    "start_time": "2021-12-01T21:06:16.753Z"
   },
   {
    "duration": 19,
    "start_time": "2021-12-01T21:06:16.776Z"
   },
   {
    "duration": 22,
    "start_time": "2021-12-01T21:06:16.830Z"
   },
   {
    "duration": 24,
    "start_time": "2021-12-01T21:06:16.854Z"
   },
   {
    "duration": 55,
    "start_time": "2021-12-01T21:06:16.880Z"
   },
   {
    "duration": 61,
    "start_time": "2021-12-01T21:06:16.938Z"
   },
   {
    "duration": 38,
    "start_time": "2021-12-01T21:06:17.002Z"
   },
   {
    "duration": 17,
    "start_time": "2021-12-01T21:06:17.043Z"
   },
   {
    "duration": 9,
    "start_time": "2021-12-01T21:06:17.063Z"
   },
   {
    "duration": 60,
    "start_time": "2021-12-01T21:06:17.076Z"
   },
   {
    "duration": 18,
    "start_time": "2021-12-01T21:06:17.139Z"
   },
   {
    "duration": 25,
    "start_time": "2021-12-01T21:06:17.159Z"
   },
   {
    "duration": 55,
    "start_time": "2021-12-01T21:06:17.186Z"
   },
   {
    "duration": 138,
    "start_time": "2021-12-01T21:06:17.243Z"
   },
   {
    "duration": 9,
    "start_time": "2021-12-01T21:06:17.383Z"
   },
   {
    "duration": 38,
    "start_time": "2021-12-01T21:06:17.395Z"
   },
   {
    "duration": 9,
    "start_time": "2021-12-01T21:06:17.436Z"
   },
   {
    "duration": 12,
    "start_time": "2021-12-01T21:06:17.449Z"
   },
   {
    "duration": 17,
    "start_time": "2021-12-01T21:06:17.464Z"
   },
   {
    "duration": 3,
    "start_time": "2021-12-01T21:10:28.095Z"
   },
   {
    "duration": 225,
    "start_time": "2021-12-01T21:10:28.104Z"
   },
   {
    "duration": 16,
    "start_time": "2021-12-01T21:10:28.332Z"
   },
   {
    "duration": 36,
    "start_time": "2021-12-01T21:10:28.351Z"
   },
   {
    "duration": 41,
    "start_time": "2021-12-01T21:10:28.390Z"
   },
   {
    "duration": 21,
    "start_time": "2021-12-01T21:10:28.433Z"
   },
   {
    "duration": 6,
    "start_time": "2021-12-01T21:10:28.456Z"
   },
   {
    "duration": 43,
    "start_time": "2021-12-01T21:10:28.464Z"
   },
   {
    "duration": 81,
    "start_time": "2021-12-01T21:10:28.531Z"
   },
   {
    "duration": 42,
    "start_time": "2021-12-01T21:10:28.615Z"
   },
   {
    "duration": 101,
    "start_time": "2021-12-01T21:10:28.660Z"
   },
   {
    "duration": 103,
    "start_time": "2021-12-01T21:10:28.763Z"
   },
   {
    "duration": 85,
    "start_time": "2021-12-01T21:10:28.869Z"
   },
   {
    "duration": 58,
    "start_time": "2021-12-01T21:10:28.956Z"
   },
   {
    "duration": 4,
    "start_time": "2021-12-01T21:10:29.029Z"
   },
   {
    "duration": 16,
    "start_time": "2021-12-01T21:10:29.036Z"
   },
   {
    "duration": 12,
    "start_time": "2021-12-01T21:10:29.055Z"
   },
   {
    "duration": 88,
    "start_time": "2021-12-01T21:10:29.070Z"
   },
   {
    "duration": 14,
    "start_time": "2021-12-01T21:10:29.161Z"
   },
   {
    "duration": 13,
    "start_time": "2021-12-01T21:10:29.178Z"
   },
   {
    "duration": 6,
    "start_time": "2021-12-01T21:10:29.193Z"
   },
   {
    "duration": 50,
    "start_time": "2021-12-01T21:10:29.201Z"
   },
   {
    "duration": 21,
    "start_time": "2021-12-01T21:10:29.253Z"
   },
   {
    "duration": 60,
    "start_time": "2021-12-01T21:10:29.279Z"
   },
   {
    "duration": 21,
    "start_time": "2021-12-01T21:10:29.343Z"
   },
   {
    "duration": 20,
    "start_time": "2021-12-01T21:10:29.367Z"
   },
   {
    "duration": 48,
    "start_time": "2021-12-01T21:10:29.390Z"
   },
   {
    "duration": 12,
    "start_time": "2021-12-01T21:10:29.440Z"
   },
   {
    "duration": 18,
    "start_time": "2021-12-01T21:10:29.454Z"
   },
   {
    "duration": 14,
    "start_time": "2021-12-01T21:10:29.475Z"
   },
   {
    "duration": 39,
    "start_time": "2021-12-01T21:10:29.492Z"
   },
   {
    "duration": 32,
    "start_time": "2021-12-01T21:10:29.534Z"
   },
   {
    "duration": 18,
    "start_time": "2021-12-01T21:10:29.569Z"
   },
   {
    "duration": 52,
    "start_time": "2021-12-01T21:10:29.590Z"
   },
   {
    "duration": 16,
    "start_time": "2021-12-01T21:10:29.644Z"
   },
   {
    "duration": 12,
    "start_time": "2021-12-01T21:10:29.662Z"
   },
   {
    "duration": 6,
    "start_time": "2021-12-01T21:10:29.677Z"
   },
   {
    "duration": 50,
    "start_time": "2021-12-01T21:10:29.685Z"
   },
   {
    "duration": 5,
    "start_time": "2021-12-01T21:10:29.738Z"
   },
   {
    "duration": 10,
    "start_time": "2021-12-01T21:10:29.746Z"
   },
   {
    "duration": 11,
    "start_time": "2021-12-01T21:10:29.759Z"
   },
   {
    "duration": 14,
    "start_time": "2021-12-01T21:17:01.822Z"
   },
   {
    "duration": 603,
    "start_time": "2021-12-02T05:47:47.429Z"
   },
   {
    "duration": 134,
    "start_time": "2021-12-02T05:47:48.034Z"
   },
   {
    "duration": 17,
    "start_time": "2021-12-02T05:47:48.171Z"
   },
   {
    "duration": 45,
    "start_time": "2021-12-02T05:47:48.190Z"
   },
   {
    "duration": 22,
    "start_time": "2021-12-02T05:47:48.237Z"
   },
   {
    "duration": 44,
    "start_time": "2021-12-02T05:47:48.261Z"
   },
   {
    "duration": 24,
    "start_time": "2021-12-02T05:47:48.307Z"
   },
   {
    "duration": 43,
    "start_time": "2021-12-02T05:47:48.333Z"
   },
   {
    "duration": 78,
    "start_time": "2021-12-02T05:47:48.379Z"
   },
   {
    "duration": 21,
    "start_time": "2021-12-02T05:47:48.459Z"
   },
   {
    "duration": 83,
    "start_time": "2021-12-02T05:47:48.482Z"
   },
   {
    "duration": 62,
    "start_time": "2021-12-02T05:47:48.566Z"
   },
   {
    "duration": 53,
    "start_time": "2021-12-02T05:47:48.630Z"
   },
   {
    "duration": 39,
    "start_time": "2021-12-02T05:47:48.685Z"
   },
   {
    "duration": 19,
    "start_time": "2021-12-02T05:47:48.726Z"
   },
   {
    "duration": 34,
    "start_time": "2021-12-02T05:47:48.747Z"
   },
   {
    "duration": 18,
    "start_time": "2021-12-02T05:47:48.783Z"
   },
   {
    "duration": 63,
    "start_time": "2021-12-02T05:47:48.802Z"
   },
   {
    "duration": 32,
    "start_time": "2021-12-02T05:47:48.866Z"
   },
   {
    "duration": 24,
    "start_time": "2021-12-02T05:47:48.900Z"
   },
   {
    "duration": 15,
    "start_time": "2021-12-02T05:47:48.926Z"
   },
   {
    "duration": 46,
    "start_time": "2021-12-02T05:47:48.943Z"
   },
   {
    "duration": 21,
    "start_time": "2021-12-02T05:47:48.992Z"
   },
   {
    "duration": 35,
    "start_time": "2021-12-02T05:47:49.015Z"
   },
   {
    "duration": 37,
    "start_time": "2021-12-02T05:47:49.051Z"
   },
   {
    "duration": 28,
    "start_time": "2021-12-02T05:47:49.090Z"
   },
   {
    "duration": 36,
    "start_time": "2021-12-02T05:47:49.120Z"
   },
   {
    "duration": 18,
    "start_time": "2021-12-02T05:47:49.158Z"
   },
   {
    "duration": 33,
    "start_time": "2021-12-02T05:47:49.177Z"
   },
   {
    "duration": 26,
    "start_time": "2021-12-02T05:47:49.211Z"
   },
   {
    "duration": 14,
    "start_time": "2021-12-02T05:47:49.239Z"
   },
   {
    "duration": 51,
    "start_time": "2021-12-02T05:47:49.255Z"
   },
   {
    "duration": 40,
    "start_time": "2021-12-02T05:47:49.308Z"
   },
   {
    "duration": 21,
    "start_time": "2021-12-02T05:47:49.349Z"
   },
   {
    "duration": 28,
    "start_time": "2021-12-02T05:47:49.372Z"
   },
   {
    "duration": 32,
    "start_time": "2021-12-02T05:47:49.401Z"
   },
   {
    "duration": 17,
    "start_time": "2021-12-02T05:47:49.435Z"
   },
   {
    "duration": 32,
    "start_time": "2021-12-02T05:47:49.454Z"
   },
   {
    "duration": 24,
    "start_time": "2021-12-02T05:47:49.489Z"
   },
   {
    "duration": 28,
    "start_time": "2021-12-02T05:47:49.515Z"
   },
   {
    "duration": 41,
    "start_time": "2021-12-02T05:47:49.545Z"
   },
   {
    "duration": 620,
    "start_time": "2021-12-04T10:45:38.972Z"
   },
   {
    "duration": 146,
    "start_time": "2021-12-04T10:45:39.594Z"
   },
   {
    "duration": 16,
    "start_time": "2021-12-04T10:45:39.742Z"
   },
   {
    "duration": 24,
    "start_time": "2021-12-04T10:45:39.760Z"
   },
   {
    "duration": 4,
    "start_time": "2021-12-04T10:45:39.786Z"
   },
   {
    "duration": 21,
    "start_time": "2021-12-04T10:45:39.791Z"
   },
   {
    "duration": 31,
    "start_time": "2021-12-04T10:45:39.814Z"
   },
   {
    "duration": 28,
    "start_time": "2021-12-04T10:45:39.848Z"
   },
   {
    "duration": 21,
    "start_time": "2021-12-04T10:45:39.879Z"
   },
   {
    "duration": 44,
    "start_time": "2021-12-04T10:45:39.902Z"
   },
   {
    "duration": 67,
    "start_time": "2021-12-04T10:45:39.948Z"
   },
   {
    "duration": 98,
    "start_time": "2021-12-04T10:45:40.017Z"
   },
   {
    "duration": 60,
    "start_time": "2021-12-04T10:45:40.117Z"
   },
   {
    "duration": 43,
    "start_time": "2021-12-04T10:45:40.179Z"
   },
   {
    "duration": 21,
    "start_time": "2021-12-04T10:45:40.223Z"
   },
   {
    "duration": 13,
    "start_time": "2021-12-04T10:45:40.246Z"
   },
   {
    "duration": 7,
    "start_time": "2021-12-04T10:45:40.260Z"
   },
   {
    "duration": 43,
    "start_time": "2021-12-04T10:45:40.269Z"
   },
   {
    "duration": 40,
    "start_time": "2021-12-04T10:45:40.314Z"
   },
   {
    "duration": 11,
    "start_time": "2021-12-04T10:45:40.356Z"
   },
   {
    "duration": 3,
    "start_time": "2021-12-04T10:45:40.369Z"
   },
   {
    "duration": 21,
    "start_time": "2021-12-04T10:45:40.374Z"
   },
   {
    "duration": 52,
    "start_time": "2021-12-04T10:45:40.398Z"
   },
   {
    "duration": 16,
    "start_time": "2021-12-04T10:45:40.452Z"
   },
   {
    "duration": 15,
    "start_time": "2021-12-04T10:45:40.469Z"
   },
   {
    "duration": 20,
    "start_time": "2021-12-04T10:45:40.485Z"
   },
   {
    "duration": 45,
    "start_time": "2021-12-04T10:45:40.506Z"
   },
   {
    "duration": 8,
    "start_time": "2021-12-04T10:45:40.553Z"
   },
   {
    "duration": 17,
    "start_time": "2021-12-04T10:45:40.563Z"
   },
   {
    "duration": 11,
    "start_time": "2021-12-04T10:45:40.582Z"
   },
   {
    "duration": 4,
    "start_time": "2021-12-04T10:45:40.595Z"
   },
   {
    "duration": 50,
    "start_time": "2021-12-04T10:45:40.602Z"
   },
   {
    "duration": 14,
    "start_time": "2021-12-04T10:45:40.654Z"
   },
   {
    "duration": 18,
    "start_time": "2021-12-04T10:45:40.670Z"
   },
   {
    "duration": 15,
    "start_time": "2021-12-04T10:45:40.690Z"
   },
   {
    "duration": 42,
    "start_time": "2021-12-04T10:45:40.707Z"
   },
   {
    "duration": 5,
    "start_time": "2021-12-04T10:45:40.751Z"
   },
   {
    "duration": 8,
    "start_time": "2021-12-04T10:45:40.758Z"
   },
   {
    "duration": 4,
    "start_time": "2021-12-04T10:45:40.768Z"
   },
   {
    "duration": 10,
    "start_time": "2021-12-04T10:45:40.773Z"
   },
   {
    "duration": 13,
    "start_time": "2021-12-04T10:45:40.785Z"
   },
   {
    "duration": 84,
    "start_time": "2021-12-04T10:51:26.264Z"
   },
   {
    "duration": 174,
    "start_time": "2021-12-04T11:00:50.815Z"
   },
   {
    "duration": 154,
    "start_time": "2021-12-04T11:04:24.244Z"
   },
   {
    "duration": 30,
    "start_time": "2021-12-04T11:20:37.651Z"
   },
   {
    "duration": 3,
    "start_time": "2021-12-04T11:21:04.200Z"
   },
   {
    "duration": 185,
    "start_time": "2021-12-04T11:21:04.208Z"
   },
   {
    "duration": 11,
    "start_time": "2021-12-04T11:21:04.395Z"
   },
   {
    "duration": 44,
    "start_time": "2021-12-04T11:21:04.409Z"
   },
   {
    "duration": 4,
    "start_time": "2021-12-04T11:21:04.455Z"
   },
   {
    "duration": 21,
    "start_time": "2021-12-04T11:21:04.461Z"
   },
   {
    "duration": 4,
    "start_time": "2021-12-04T11:21:04.484Z"
   },
   {
    "duration": 66,
    "start_time": "2021-12-04T11:21:04.490Z"
   },
   {
    "duration": 18,
    "start_time": "2021-12-04T11:21:04.559Z"
   },
   {
    "duration": 27,
    "start_time": "2021-12-04T11:21:04.579Z"
   },
   {
    "duration": 81,
    "start_time": "2021-12-04T11:21:04.608Z"
   },
   {
    "duration": 77,
    "start_time": "2021-12-04T11:21:04.691Z"
   },
   {
    "duration": 54,
    "start_time": "2021-12-04T11:21:04.770Z"
   },
   {
    "duration": 57,
    "start_time": "2021-12-04T11:21:04.826Z"
   },
   {
    "duration": 8,
    "start_time": "2021-12-04T11:21:04.885Z"
   },
   {
    "duration": 16,
    "start_time": "2021-12-04T11:21:04.895Z"
   },
   {
    "duration": 37,
    "start_time": "2021-12-04T11:21:04.913Z"
   },
   {
    "duration": 41,
    "start_time": "2021-12-04T11:21:04.952Z"
   },
   {
    "duration": 20,
    "start_time": "2021-12-04T11:21:04.995Z"
   },
   {
    "duration": 18,
    "start_time": "2021-12-04T11:21:05.017Z"
   },
   {
    "duration": 9,
    "start_time": "2021-12-04T11:21:05.045Z"
   },
   {
    "duration": 46,
    "start_time": "2021-12-04T11:21:05.055Z"
   },
   {
    "duration": 21,
    "start_time": "2021-12-04T11:21:05.103Z"
   },
   {
    "duration": 18,
    "start_time": "2021-12-04T11:21:05.127Z"
   },
   {
    "duration": 26,
    "start_time": "2021-12-04T11:21:05.147Z"
   },
   {
    "duration": 23,
    "start_time": "2021-12-04T11:21:05.175Z"
   },
   {
    "duration": 18,
    "start_time": "2021-12-04T11:21:05.200Z"
   },
   {
    "duration": 16,
    "start_time": "2021-12-04T11:21:05.220Z"
   },
   {
    "duration": 22,
    "start_time": "2021-12-04T11:21:05.245Z"
   },
   {
    "duration": 18,
    "start_time": "2021-12-04T11:21:05.269Z"
   },
   {
    "duration": 11,
    "start_time": "2021-12-04T11:21:05.289Z"
   },
   {
    "duration": 41,
    "start_time": "2021-12-04T11:21:05.302Z"
   },
   {
    "duration": 23,
    "start_time": "2021-12-04T11:21:05.345Z"
   },
   {
    "duration": 33,
    "start_time": "2021-12-04T11:21:05.370Z"
   },
   {
    "duration": 27,
    "start_time": "2021-12-04T11:21:05.405Z"
   },
   {
    "duration": 13,
    "start_time": "2021-12-04T11:21:05.433Z"
   },
   {
    "duration": 12,
    "start_time": "2021-12-04T11:21:05.448Z"
   },
   {
    "duration": 22,
    "start_time": "2021-12-04T11:21:05.462Z"
   },
   {
    "duration": 12,
    "start_time": "2021-12-04T11:21:05.486Z"
   },
   {
    "duration": 8,
    "start_time": "2021-12-04T11:21:05.500Z"
   },
   {
    "duration": 32,
    "start_time": "2021-12-04T11:21:05.509Z"
   },
   {
    "duration": 29,
    "start_time": "2021-12-04T11:21:19.738Z"
   },
   {
    "duration": 29,
    "start_time": "2021-12-04T11:21:23.508Z"
   },
   {
    "duration": 42,
    "start_time": "2021-12-04T11:21:26.475Z"
   },
   {
    "duration": 23,
    "start_time": "2021-12-04T11:22:43.505Z"
   },
   {
    "duration": 8,
    "start_time": "2021-12-04T11:22:44.839Z"
   },
   {
    "duration": 44,
    "start_time": "2021-12-04T11:22:47.057Z"
   },
   {
    "duration": 3,
    "start_time": "2021-12-04T11:23:15.936Z"
   },
   {
    "duration": 157,
    "start_time": "2021-12-04T11:23:15.942Z"
   },
   {
    "duration": 11,
    "start_time": "2021-12-04T11:23:16.101Z"
   },
   {
    "duration": 48,
    "start_time": "2021-12-04T11:23:16.114Z"
   },
   {
    "duration": 23,
    "start_time": "2021-12-04T11:23:16.165Z"
   },
   {
    "duration": 37,
    "start_time": "2021-12-04T11:23:16.190Z"
   },
   {
    "duration": 5,
    "start_time": "2021-12-04T11:23:16.229Z"
   },
   {
    "duration": 40,
    "start_time": "2021-12-04T11:23:16.236Z"
   },
   {
    "duration": 27,
    "start_time": "2021-12-04T11:23:16.279Z"
   },
   {
    "duration": 32,
    "start_time": "2021-12-04T11:23:16.309Z"
   },
   {
    "duration": 71,
    "start_time": "2021-12-04T11:23:16.343Z"
   },
   {
    "duration": 65,
    "start_time": "2021-12-04T11:23:16.416Z"
   },
   {
    "duration": 51,
    "start_time": "2021-12-04T11:23:16.483Z"
   },
   {
    "duration": 40,
    "start_time": "2021-12-04T11:23:16.545Z"
   },
   {
    "duration": 12,
    "start_time": "2021-12-04T11:23:16.586Z"
   },
   {
    "duration": 40,
    "start_time": "2021-12-04T11:23:16.600Z"
   },
   {
    "duration": 15,
    "start_time": "2021-12-04T11:23:16.642Z"
   },
   {
    "duration": 47,
    "start_time": "2021-12-04T11:23:16.659Z"
   },
   {
    "duration": 54,
    "start_time": "2021-12-04T11:23:16.708Z"
   },
   {
    "duration": 17,
    "start_time": "2021-12-04T11:23:16.764Z"
   },
   {
    "duration": 22,
    "start_time": "2021-12-04T11:23:16.783Z"
   },
   {
    "duration": 15,
    "start_time": "2021-12-04T11:23:16.808Z"
   },
   {
    "duration": 46,
    "start_time": "2021-12-04T11:23:16.825Z"
   },
   {
    "duration": 21,
    "start_time": "2021-12-04T11:23:16.873Z"
   },
   {
    "duration": 18,
    "start_time": "2021-12-04T11:23:16.896Z"
   },
   {
    "duration": 22,
    "start_time": "2021-12-04T11:23:16.916Z"
   },
   {
    "duration": 22,
    "start_time": "2021-12-04T11:23:16.944Z"
   },
   {
    "duration": 29,
    "start_time": "2021-12-04T11:23:16.968Z"
   },
   {
    "duration": 26,
    "start_time": "2021-12-04T11:23:16.999Z"
   },
   {
    "duration": 18,
    "start_time": "2021-12-04T11:23:17.026Z"
   },
   {
    "duration": 29,
    "start_time": "2021-12-04T11:23:17.046Z"
   },
   {
    "duration": 17,
    "start_time": "2021-12-04T11:23:17.077Z"
   },
   {
    "duration": 39,
    "start_time": "2021-12-04T11:23:17.096Z"
   },
   {
    "duration": 22,
    "start_time": "2021-12-04T11:23:17.137Z"
   },
   {
    "duration": 24,
    "start_time": "2021-12-04T11:23:17.161Z"
   },
   {
    "duration": 15,
    "start_time": "2021-12-04T11:23:17.187Z"
   },
   {
    "duration": 21,
    "start_time": "2021-12-04T11:23:17.204Z"
   },
   {
    "duration": 23,
    "start_time": "2021-12-04T11:23:17.227Z"
   },
   {
    "duration": 36,
    "start_time": "2021-12-04T11:23:17.252Z"
   },
   {
    "duration": 27,
    "start_time": "2021-12-04T11:23:17.290Z"
   },
   {
    "duration": 17,
    "start_time": "2021-12-04T11:23:17.318Z"
   },
   {
    "duration": 49,
    "start_time": "2021-12-04T11:23:17.337Z"
   },
   {
    "duration": 8,
    "start_time": "2021-12-04T11:25:07.008Z"
   },
   {
    "duration": 77,
    "start_time": "2021-12-04T11:25:09.431Z"
   },
   {
    "duration": 3,
    "start_time": "2021-12-04T11:25:15.513Z"
   },
   {
    "duration": 242,
    "start_time": "2021-12-04T11:25:15.521Z"
   },
   {
    "duration": 18,
    "start_time": "2021-12-04T11:25:15.765Z"
   },
   {
    "duration": 29,
    "start_time": "2021-12-04T11:25:15.785Z"
   },
   {
    "duration": 30,
    "start_time": "2021-12-04T11:25:15.817Z"
   },
   {
    "duration": 19,
    "start_time": "2021-12-04T11:25:15.849Z"
   },
   {
    "duration": 4,
    "start_time": "2021-12-04T11:25:15.870Z"
   },
   {
    "duration": 35,
    "start_time": "2021-12-04T11:25:15.875Z"
   },
   {
    "duration": 32,
    "start_time": "2021-12-04T11:25:15.912Z"
   },
   {
    "duration": 28,
    "start_time": "2021-12-04T11:25:15.947Z"
   },
   {
    "duration": 69,
    "start_time": "2021-12-04T11:25:15.976Z"
   },
   {
    "duration": 66,
    "start_time": "2021-12-04T11:25:16.047Z"
   },
   {
    "duration": 70,
    "start_time": "2021-12-04T11:25:16.115Z"
   },
   {
    "duration": 58,
    "start_time": "2021-12-04T11:25:16.187Z"
   },
   {
    "duration": 14,
    "start_time": "2021-12-04T11:25:16.247Z"
   },
   {
    "duration": 12,
    "start_time": "2021-12-04T11:25:16.263Z"
   },
   {
    "duration": 8,
    "start_time": "2021-12-04T11:25:16.277Z"
   },
   {
    "duration": 32,
    "start_time": "2021-12-04T11:25:16.287Z"
   },
   {
    "duration": 53,
    "start_time": "2021-12-04T11:25:16.321Z"
   },
   {
    "duration": 33,
    "start_time": "2021-12-04T11:25:16.377Z"
   },
   {
    "duration": 25,
    "start_time": "2021-12-04T11:25:16.412Z"
   },
   {
    "duration": 18,
    "start_time": "2021-12-04T11:25:16.440Z"
   },
   {
    "duration": 40,
    "start_time": "2021-12-04T11:25:16.461Z"
   },
   {
    "duration": 18,
    "start_time": "2021-12-04T11:25:16.504Z"
   },
   {
    "duration": 54,
    "start_time": "2021-12-04T11:25:16.524Z"
   },
   {
    "duration": 22,
    "start_time": "2021-12-04T11:25:16.580Z"
   },
   {
    "duration": 32,
    "start_time": "2021-12-04T11:25:16.603Z"
   },
   {
    "duration": 18,
    "start_time": "2021-12-04T11:25:16.636Z"
   },
   {
    "duration": 14,
    "start_time": "2021-12-04T11:25:16.656Z"
   },
   {
    "duration": 25,
    "start_time": "2021-12-04T11:25:16.672Z"
   },
   {
    "duration": 10,
    "start_time": "2021-12-04T11:25:16.699Z"
   },
   {
    "duration": 14,
    "start_time": "2021-12-04T11:25:16.711Z"
   },
   {
    "duration": 36,
    "start_time": "2021-12-04T11:25:16.727Z"
   },
   {
    "duration": 19,
    "start_time": "2021-12-04T11:25:16.765Z"
   },
   {
    "duration": 34,
    "start_time": "2021-12-04T11:25:16.786Z"
   },
   {
    "duration": 17,
    "start_time": "2021-12-04T11:25:16.822Z"
   },
   {
    "duration": 15,
    "start_time": "2021-12-04T11:25:16.841Z"
   },
   {
    "duration": 10,
    "start_time": "2021-12-04T11:25:16.858Z"
   },
   {
    "duration": 19,
    "start_time": "2021-12-04T11:25:16.869Z"
   },
   {
    "duration": 10,
    "start_time": "2021-12-04T11:25:16.890Z"
   },
   {
    "duration": 17,
    "start_time": "2021-12-04T11:25:16.902Z"
   },
   {
    "duration": 29,
    "start_time": "2021-12-04T11:25:16.921Z"
   },
   {
    "duration": 3,
    "start_time": "2021-12-04T11:30:40.393Z"
   },
   {
    "duration": 165,
    "start_time": "2021-12-04T11:30:40.401Z"
   },
   {
    "duration": 19,
    "start_time": "2021-12-04T11:30:40.569Z"
   },
   {
    "duration": 59,
    "start_time": "2021-12-04T11:30:40.591Z"
   },
   {
    "duration": 4,
    "start_time": "2021-12-04T11:30:40.653Z"
   },
   {
    "duration": 14,
    "start_time": "2021-12-04T11:30:40.659Z"
   },
   {
    "duration": 6,
    "start_time": "2021-12-04T11:30:40.674Z"
   },
   {
    "duration": 28,
    "start_time": "2021-12-04T11:30:40.682Z"
   },
   {
    "duration": 49,
    "start_time": "2021-12-04T11:30:40.713Z"
   },
   {
    "duration": 26,
    "start_time": "2021-12-04T11:30:40.765Z"
   },
   {
    "duration": 113,
    "start_time": "2021-12-04T11:30:40.793Z"
   },
   {
    "duration": 103,
    "start_time": "2021-12-04T11:30:40.908Z"
   },
   {
    "duration": 69,
    "start_time": "2021-12-04T11:30:41.013Z"
   },
   {
    "duration": 42,
    "start_time": "2021-12-04T11:30:41.084Z"
   },
   {
    "duration": 17,
    "start_time": "2021-12-04T11:30:41.128Z"
   },
   {
    "duration": 12,
    "start_time": "2021-12-04T11:30:41.147Z"
   },
   {
    "duration": 7,
    "start_time": "2021-12-04T11:30:41.161Z"
   },
   {
    "duration": 7,
    "start_time": "2021-12-04T11:30:41.169Z"
   },
   {
    "duration": 68,
    "start_time": "2021-12-04T11:30:41.178Z"
   },
   {
    "duration": 12,
    "start_time": "2021-12-04T11:30:41.248Z"
   },
   {
    "duration": 11,
    "start_time": "2021-12-04T11:30:41.262Z"
   },
   {
    "duration": 3,
    "start_time": "2021-12-04T11:30:41.275Z"
   },
   {
    "duration": 22,
    "start_time": "2021-12-04T11:30:41.280Z"
   },
   {
    "duration": 47,
    "start_time": "2021-12-04T11:30:41.305Z"
   },
   {
    "duration": 17,
    "start_time": "2021-12-04T11:30:41.354Z"
   },
   {
    "duration": 15,
    "start_time": "2021-12-04T11:30:41.372Z"
   },
   {
    "duration": 19,
    "start_time": "2021-12-04T11:30:41.389Z"
   },
   {
    "duration": 47,
    "start_time": "2021-12-04T11:30:41.410Z"
   },
   {
    "duration": 11,
    "start_time": "2021-12-04T11:30:41.459Z"
   },
   {
    "duration": 19,
    "start_time": "2021-12-04T11:30:41.472Z"
   },
   {
    "duration": 11,
    "start_time": "2021-12-04T11:30:41.493Z"
   },
   {
    "duration": 5,
    "start_time": "2021-12-04T11:30:41.506Z"
   },
   {
    "duration": 49,
    "start_time": "2021-12-04T11:30:41.512Z"
   },
   {
    "duration": 14,
    "start_time": "2021-12-04T11:30:41.564Z"
   },
   {
    "duration": 25,
    "start_time": "2021-12-04T11:30:41.581Z"
   },
   {
    "duration": 42,
    "start_time": "2021-12-04T11:30:41.608Z"
   },
   {
    "duration": 10,
    "start_time": "2021-12-04T11:30:41.652Z"
   },
   {
    "duration": 7,
    "start_time": "2021-12-04T11:30:41.664Z"
   },
   {
    "duration": 22,
    "start_time": "2021-12-04T11:30:41.673Z"
   },
   {
    "duration": 26,
    "start_time": "2021-12-04T11:30:41.697Z"
   },
   {
    "duration": 13,
    "start_time": "2021-12-04T11:30:41.725Z"
   },
   {
    "duration": 52,
    "start_time": "2021-12-04T11:30:41.740Z"
   },
   {
    "duration": 89,
    "start_time": "2021-12-04T11:35:29.836Z"
   },
   {
    "duration": 3,
    "start_time": "2021-12-04T11:35:50.516Z"
   },
   {
    "duration": 161,
    "start_time": "2021-12-04T11:35:50.525Z"
   },
   {
    "duration": 11,
    "start_time": "2021-12-04T11:35:50.688Z"
   },
   {
    "duration": 58,
    "start_time": "2021-12-04T11:35:50.701Z"
   },
   {
    "duration": 14,
    "start_time": "2021-12-04T11:35:50.761Z"
   },
   {
    "duration": 21,
    "start_time": "2021-12-04T11:35:50.776Z"
   },
   {
    "duration": 4,
    "start_time": "2021-12-04T11:35:50.799Z"
   },
   {
    "duration": 57,
    "start_time": "2021-12-04T11:35:50.805Z"
   },
   {
    "duration": 38,
    "start_time": "2021-12-04T11:35:50.865Z"
   },
   {
    "duration": 52,
    "start_time": "2021-12-04T11:35:50.905Z"
   },
   {
    "duration": 104,
    "start_time": "2021-12-04T11:35:50.960Z"
   },
   {
    "duration": 78,
    "start_time": "2021-12-04T11:35:51.067Z"
   },
   {
    "duration": 53,
    "start_time": "2021-12-04T11:35:51.147Z"
   },
   {
    "duration": 68,
    "start_time": "2021-12-04T11:35:51.202Z"
   },
   {
    "duration": 4,
    "start_time": "2021-12-04T11:35:51.272Z"
   },
   {
    "duration": 16,
    "start_time": "2021-12-04T11:35:51.278Z"
   },
   {
    "duration": 9,
    "start_time": "2021-12-04T11:35:51.297Z"
   },
   {
    "duration": 10,
    "start_time": "2021-12-04T11:35:51.308Z"
   },
   {
    "duration": 91,
    "start_time": "2021-12-04T11:35:51.320Z"
   },
   {
    "duration": 33,
    "start_time": "2021-12-04T11:35:51.413Z"
   },
   {
    "duration": 16,
    "start_time": "2021-12-04T11:35:51.448Z"
   },
   {
    "duration": 5,
    "start_time": "2021-12-04T11:35:51.466Z"
   },
   {
    "duration": 30,
    "start_time": "2021-12-04T11:35:51.473Z"
   },
   {
    "duration": 52,
    "start_time": "2021-12-04T11:35:51.507Z"
   },
   {
    "duration": 24,
    "start_time": "2021-12-04T11:35:51.562Z"
   },
   {
    "duration": 22,
    "start_time": "2021-12-04T11:35:51.588Z"
   },
   {
    "duration": 28,
    "start_time": "2021-12-04T11:35:51.644Z"
   },
   {
    "duration": 25,
    "start_time": "2021-12-04T11:35:51.674Z"
   },
   {
    "duration": 12,
    "start_time": "2021-12-04T11:35:51.701Z"
   },
   {
    "duration": 46,
    "start_time": "2021-12-04T11:35:51.715Z"
   },
   {
    "duration": 15,
    "start_time": "2021-12-04T11:35:51.763Z"
   },
   {
    "duration": 5,
    "start_time": "2021-12-04T11:35:51.780Z"
   },
   {
    "duration": 24,
    "start_time": "2021-12-04T11:35:51.787Z"
   },
   {
    "duration": 14,
    "start_time": "2021-12-04T11:35:51.844Z"
   },
   {
    "duration": 19,
    "start_time": "2021-12-04T11:35:51.860Z"
   },
   {
    "duration": 13,
    "start_time": "2021-12-04T11:35:51.881Z"
   },
   {
    "duration": 48,
    "start_time": "2021-12-04T11:35:51.896Z"
   },
   {
    "duration": 6,
    "start_time": "2021-12-04T11:35:51.946Z"
   },
   {
    "duration": 9,
    "start_time": "2021-12-04T11:35:51.953Z"
   },
   {
    "duration": 5,
    "start_time": "2021-12-04T11:35:51.964Z"
   },
   {
    "duration": 5,
    "start_time": "2021-12-04T11:35:51.972Z"
   },
   {
    "duration": 8,
    "start_time": "2021-12-04T11:35:51.979Z"
   },
   {
    "duration": 829,
    "start_time": "2021-12-04T20:20:25.779Z"
   },
   {
    "duration": 196,
    "start_time": "2021-12-04T20:20:26.611Z"
   },
   {
    "duration": 26,
    "start_time": "2021-12-04T20:20:26.810Z"
   },
   {
    "duration": 61,
    "start_time": "2021-12-04T20:20:26.839Z"
   },
   {
    "duration": 6,
    "start_time": "2021-12-04T20:20:26.902Z"
   },
   {
    "duration": 30,
    "start_time": "2021-12-04T20:20:26.910Z"
   },
   {
    "duration": 28,
    "start_time": "2021-12-04T20:20:26.942Z"
   },
   {
    "duration": 34,
    "start_time": "2021-12-04T20:20:26.978Z"
   },
   {
    "duration": 53,
    "start_time": "2021-12-04T20:20:27.016Z"
   },
   {
    "duration": 34,
    "start_time": "2021-12-04T20:20:27.072Z"
   },
   {
    "duration": 113,
    "start_time": "2021-12-04T20:20:27.108Z"
   },
   {
    "duration": 110,
    "start_time": "2021-12-04T20:20:27.224Z"
   },
   {
    "duration": 100,
    "start_time": "2021-12-04T20:20:27.336Z"
   },
   {
    "duration": 70,
    "start_time": "2021-12-04T20:20:27.438Z"
   },
   {
    "duration": 5,
    "start_time": "2021-12-04T20:20:27.511Z"
   },
   {
    "duration": 17,
    "start_time": "2021-12-04T20:20:27.519Z"
   },
   {
    "duration": 16,
    "start_time": "2021-12-04T20:20:27.569Z"
   },
   {
    "duration": 15,
    "start_time": "2021-12-04T20:20:27.588Z"
   },
   {
    "duration": 91,
    "start_time": "2021-12-04T20:20:27.606Z"
   },
   {
    "duration": 16,
    "start_time": "2021-12-04T20:20:27.699Z"
   },
   {
    "duration": 16,
    "start_time": "2021-12-04T20:20:27.717Z"
   },
   {
    "duration": 39,
    "start_time": "2021-12-04T20:20:27.736Z"
   },
   {
    "duration": 25,
    "start_time": "2021-12-04T20:20:27.779Z"
   },
   {
    "duration": 20,
    "start_time": "2021-12-04T20:20:27.807Z"
   },
   {
    "duration": 55,
    "start_time": "2021-12-04T20:20:27.829Z"
   },
   {
    "duration": 19,
    "start_time": "2021-12-04T20:20:27.889Z"
   },
   {
    "duration": 22,
    "start_time": "2021-12-04T20:20:27.911Z"
   },
   {
    "duration": 57,
    "start_time": "2021-12-04T20:20:27.935Z"
   },
   {
    "duration": 13,
    "start_time": "2021-12-04T20:20:27.995Z"
   },
   {
    "duration": 23,
    "start_time": "2021-12-04T20:20:28.011Z"
   },
   {
    "duration": 49,
    "start_time": "2021-12-04T20:20:28.036Z"
   },
   {
    "duration": 6,
    "start_time": "2021-12-04T20:20:28.087Z"
   },
   {
    "duration": 38,
    "start_time": "2021-12-04T20:20:28.095Z"
   },
   {
    "duration": 51,
    "start_time": "2021-12-04T20:20:28.135Z"
   },
   {
    "duration": 24,
    "start_time": "2021-12-04T20:20:28.189Z"
   },
   {
    "duration": 17,
    "start_time": "2021-12-04T20:20:28.215Z"
   },
   {
    "duration": 20,
    "start_time": "2021-12-04T20:20:28.268Z"
   },
   {
    "duration": 8,
    "start_time": "2021-12-04T20:20:28.291Z"
   },
   {
    "duration": 25,
    "start_time": "2021-12-04T20:20:28.302Z"
   },
   {
    "duration": 8,
    "start_time": "2021-12-04T20:20:28.330Z"
   },
   {
    "duration": 46,
    "start_time": "2021-12-04T20:20:28.341Z"
   },
   {
    "duration": 11,
    "start_time": "2021-12-04T20:20:28.390Z"
   }
  ],
  "colab": {
   "collapsed_sections": [
    "E0vqbgi9ay0H",
    "VUC88oWjTJw2"
   ],
   "name": "yandex_music_project_2021.2.ipynb",
   "provenance": []
  },
  "kernelspec": {
   "display_name": "Python 3 (ipykernel)",
   "language": "python",
   "name": "python3"
  },
  "language_info": {
   "codemirror_mode": {
    "name": "ipython",
    "version": 3
   },
   "file_extension": ".py",
   "mimetype": "text/x-python",
   "name": "python",
   "nbconvert_exporter": "python",
   "pygments_lexer": "ipython3",
   "version": "3.9.12"
  },
  "toc": {
   "base_numbering": 1,
   "nav_menu": {},
   "number_sections": true,
   "sideBar": true,
   "skip_h1_title": true,
   "title_cell": "Table of Contents",
   "title_sidebar": "Contents",
   "toc_cell": false,
   "toc_position": {},
   "toc_section_display": true,
   "toc_window_display": true
  }
 },
 "nbformat": 4,
 "nbformat_minor": 1
}
