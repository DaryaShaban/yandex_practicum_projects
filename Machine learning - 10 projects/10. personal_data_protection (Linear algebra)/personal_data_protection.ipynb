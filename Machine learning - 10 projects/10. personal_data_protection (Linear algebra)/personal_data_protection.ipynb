{
 "cells": [
  {
   "cell_type": "markdown",
   "metadata": {},
   "source": [
    "# Customer personal data protection"
   ]
  },
  {
   "cell_type": "markdown",
   "metadata": {},
   "source": [
    "The task is to protect the data of customers of an insurance company. The task includes developing a data transformation method that will complicate recovering personal information from it, and to test it.\n",
    "\n",
    "The quality of the machine learning models should not deteriorate during the transformation. The task doesn't include selection of the best model."
   ]
  },
  {
   "cell_type": "markdown",
   "metadata": {},
   "source": [
    "**Contents:** <br/>\n",
    "<a href='#first'>1) Import the data</a> <br/>\n",
    "<a href='#second'>2) Matrix multiplication (theory of the future transformation)</a> <br/>\n",
    "<a href='#third'>3) Transformation algorithm</a> <br/>\n",
    "<a href='#fourth'>4) Algorithm check </a> <br/>\n",
    "<a href='#fifth'>5) Summary</a> <br/>"
   ]
  },
  {
   "cell_type": "markdown",
   "metadata": {},
   "source": [
    "<a id='first'></a>\n",
    "## 1. Import the data"
   ]
  },
  {
   "cell_type": "code",
   "execution_count": 1,
   "metadata": {},
   "outputs": [],
   "source": [
    "import pandas as pd\n",
    "import numpy as np\n",
    "import seaborn as sns\n",
    "from matplotlib import pyplot as plt\n",
    "from sklearn.linear_model import LinearRegression\n",
    "from sklearn.model_selection import train_test_split \n",
    "from sklearn.metrics import r2_score"
   ]
  },
  {
   "cell_type": "code",
   "execution_count": 2,
   "metadata": {},
   "outputs": [
    {
     "name": "stdout",
     "output_type": "stream",
     "text": [
      "<class 'pandas.core.frame.DataFrame'>\n",
      "RangeIndex: 5000 entries, 0 to 4999\n",
      "Data columns (total 5 columns):\n",
      " #   Column             Non-Null Count  Dtype  \n",
      "---  ------             --------------  -----  \n",
      " 0   Пол                5000 non-null   int64  \n",
      " 1   Возраст            5000 non-null   float64\n",
      " 2   Зарплата           5000 non-null   float64\n",
      " 3   Члены семьи        5000 non-null   int64  \n",
      " 4   Страховые выплаты  5000 non-null   int64  \n",
      "dtypes: float64(2), int64(3)\n",
      "memory usage: 195.4 KB\n"
     ]
    }
   ],
   "source": [
    "df = pd.read_csv('/datasets/insurance.csv')\n",
    "df.info()"
   ]
  },
  {
   "cell_type": "code",
   "execution_count": 3,
   "metadata": {},
   "outputs": [],
   "source": [
    "df = df.rename(columns = {'Пол':'Gender', 'Возраст':'Age', 'Зарплата':'Salary', 'Члены семьи':'Family_members', 'Страховые выплаты':'Insurance_payments' }) # renaming columns"
   ]
  },
  {
   "cell_type": "code",
   "execution_count": 4,
   "metadata": {},
   "outputs": [
    {
     "data": {
      "text/html": [
       "<div>\n",
       "<style scoped>\n",
       "    .dataframe tbody tr th:only-of-type {\n",
       "        vertical-align: middle;\n",
       "    }\n",
       "\n",
       "    .dataframe tbody tr th {\n",
       "        vertical-align: top;\n",
       "    }\n",
       "\n",
       "    .dataframe thead th {\n",
       "        text-align: right;\n",
       "    }\n",
       "</style>\n",
       "<table border=\"1\" class=\"dataframe\">\n",
       "  <thead>\n",
       "    <tr style=\"text-align: right;\">\n",
       "      <th></th>\n",
       "      <th>Gender</th>\n",
       "      <th>Age</th>\n",
       "      <th>Salary</th>\n",
       "      <th>Family_members</th>\n",
       "      <th>Insurance_payments</th>\n",
       "    </tr>\n",
       "  </thead>\n",
       "  <tbody>\n",
       "    <tr>\n",
       "      <th>0</th>\n",
       "      <td>1</td>\n",
       "      <td>41.0</td>\n",
       "      <td>49600.0</td>\n",
       "      <td>1</td>\n",
       "      <td>0</td>\n",
       "    </tr>\n",
       "    <tr>\n",
       "      <th>1</th>\n",
       "      <td>0</td>\n",
       "      <td>46.0</td>\n",
       "      <td>38000.0</td>\n",
       "      <td>1</td>\n",
       "      <td>1</td>\n",
       "    </tr>\n",
       "    <tr>\n",
       "      <th>2</th>\n",
       "      <td>0</td>\n",
       "      <td>29.0</td>\n",
       "      <td>21000.0</td>\n",
       "      <td>0</td>\n",
       "      <td>0</td>\n",
       "    </tr>\n",
       "    <tr>\n",
       "      <th>3</th>\n",
       "      <td>0</td>\n",
       "      <td>21.0</td>\n",
       "      <td>41700.0</td>\n",
       "      <td>2</td>\n",
       "      <td>0</td>\n",
       "    </tr>\n",
       "    <tr>\n",
       "      <th>4</th>\n",
       "      <td>1</td>\n",
       "      <td>28.0</td>\n",
       "      <td>26100.0</td>\n",
       "      <td>0</td>\n",
       "      <td>0</td>\n",
       "    </tr>\n",
       "  </tbody>\n",
       "</table>\n",
       "</div>"
      ],
      "text/plain": [
       "   Gender   Age   Salary  Family_members  Insurance_payments\n",
       "0       1  41.0  49600.0               1                   0\n",
       "1       0  46.0  38000.0               1                   1\n",
       "2       0  29.0  21000.0               0                   0\n",
       "3       0  21.0  41700.0               2                   0\n",
       "4       1  28.0  26100.0               0                   0"
      ]
     },
     "metadata": {},
     "output_type": "display_data"
    },
    {
     "name": "stdout",
     "output_type": "stream",
     "text": [
      "Duplicates: 153\n"
     ]
    },
    {
     "data": {
      "text/plain": [
       "<AxesSubplot:>"
      ]
     },
     "execution_count": 4,
     "metadata": {},
     "output_type": "execute_result"
    },
    {
     "data": {
      "image/png": "[encoded data removed]",
      "text/plain": [
       "<Figure size 432x288 with 2 Axes>"
      ]
     },
     "metadata": {
      "needs_background": "light"
     },
     "output_type": "display_data"
    }
   ],
   "source": [
    "display(df.head())\n",
    "print(\"Duplicates:\", df.duplicated().sum())\n",
    "sns.heatmap(df.corr(), annot=True)"
   ]
  },
  {
   "cell_type": "code",
   "execution_count": 5,
   "metadata": {
    "scrolled": true
   },
   "outputs": [
    {
     "data": {
      "image/png": "[encoded data removed]",
      "text/plain": [
       "<Figure size 432x288 with 1 Axes>"
      ]
     },
     "metadata": {
      "needs_background": "light"
     },
     "output_type": "display_data"
    },
    {
     "name": "stdout",
     "output_type": "stream",
     "text": [
      "\n"
     ]
    },
    {
     "data": {
      "image/png": "[encoded data removed]",
      "text/plain": [
       "<Figure size 432x288 with 1 Axes>"
      ]
     },
     "metadata": {
      "needs_background": "light"
     },
     "output_type": "display_data"
    },
    {
     "name": "stdout",
     "output_type": "stream",
     "text": [
      "\n"
     ]
    },
    {
     "data": {
      "image/png": "[encoded data removed]",
      "text/plain": [
       "<Figure size 432x288 with 1 Axes>"
      ]
     },
     "metadata": {
      "needs_background": "light"
     },
     "output_type": "display_data"
    },
    {
     "name": "stdout",
     "output_type": "stream",
     "text": [
      "\n"
     ]
    },
    {
     "data": {
      "image/png": "[encoded data removed]",
      "text/plain": [
       "<Figure size 432x288 with 1 Axes>"
      ]
     },
     "metadata": {
      "needs_background": "light"
     },
     "output_type": "display_data"
    },
    {
     "name": "stdout",
     "output_type": "stream",
     "text": [
      "\n"
     ]
    }
   ],
   "source": [
    "columns = ['Gender', 'Age', 'Salary', 'Family_members']\n",
    "for column in columns:\n",
    "    plt.hist(df[column])\n",
    "    plt.xlabel(column)\n",
    "    plt.show()\n",
    "    print()"
   ]
  },
  {
   "cell_type": "markdown",
   "metadata": {},
   "source": [
    "### Conclusion\n",
    "The first step was dedicated to import and examining of the data file.<br/>\n",
    "The data does not contain gaps, is converted to the correct data types. The multicollinearity is not an issue. The duplicates do exist, but as there is a small number of features, duplicates may take place and should not be removed. No further data preprocessing is required. <br/>\n",
    "\n",
    "The dataset contains 5 columns:<br/>\n",
    "`Gender` (1 or 0), `Age`, `Salary`, `Family members`\n",
    "-> for further research are **feature (for learning)** <br/>\n",
    "\n",
    "As expected, indicators of age and family members are distributed with a shift to the left (the number decreases with an increase in the value of the feature), while the feature of salary is distributed normally.\n",
    "\n",
    "`Insurance payments` - the number of insurance payments for the last 5 years -> **target attribute**"
   ]
  },
  {
   "cell_type": "markdown",
   "metadata": {},
   "source": [
    "<a id='second'></a>\n",
    "## 2. Matrix multiplication (theory of the future transformation)"
   ]
  },
  {
   "cell_type": "markdown",
   "metadata": {},
   "source": [
    "Symbols:\n",
    "\n",
    "- $X$ - feature matrix (zero column consists of ones)\n",
    "\n",
    "- $y$ — target feature vector\n",
    "\n",
    "- $P$ is the matrix by which features are multiplied\n",
    "\n",
    "- $w$ — vector of linear regression weights (zero element equals the shift)"
   ]
  },
  {
   "cell_type": "markdown",
   "metadata": {},
   "source": [
    "Predictions:\n",
    "\n",
    "$$\n",
    "a = Xw\n",
    "$$\n",
    "\n",
    "Learning task:\n",
    "\n",
    "$$\n",
    "w = \\arg\\min_w MSE(Xw, y)\n",
    "$$\n",
    "\n",
    "Learning formula:\n",
    "\n",
    "$$\n",
    "w = (X^T X)^{-1} X^T y\n",
    "$$"
   ]
  },
  {
   "cell_type": "markdown",
   "metadata": {},
   "source": [
    "### Conclusion\n",
    "**The quality of the linear regression will not change if to use formulas above.**\n",
    "\n",
    "**Rationale:**\n",
    "\n",
    "Let's apply feature multiplication by an invertible matrix:\n",
    "X = xP\n",
    "$$\n",
    "w = ((xP)^T xP)^{-1} (xP)^T y \n",
    "$$\n",
    "\n",
    "Let's apply the rules of matrix transposition:\n",
    "$$\n",
    "w = ((P^T)(x^T) xP)^{-1}  P^T x^T y\n",
    "$$\n",
    "\n",
    "Let's select square matrices and apply the inverse matrix rules:\n",
    "1) (P^T) <br/>\n",
    "2) x^Tx <br/>\n",
    "3) P <br/>\n",
    "$$\n",
    "w = P^{-1} (x^Tx)^{-1} (P^T)^{-1}  P^T x^T y\n",
    "$$\n",
    "When multiplying an inverse matrix by a matrix, the identity matrix is obtained:\n",
    "$$\n",
    "(P^T)^{-1} P^T = E\n",
    "$$\n",
    "\n",
    "$$\n",
    "w = P^{-1} (x^Tx)^{-1} E x^T y\n",
    "$$\n",
    "When multiplied by the identity matrix, the same matrix is obtained\n",
    "$$\n",
    "w = P^{-1} (x^Tx)^{-1} x^T y\n",
    "$$\n",
    "\n",
    "\n",
    "Then the prediction `a` will be:\n",
    "$$\n",
    "a = x P P^{-1} (x^Tx)^{-1} x^T y\n",
    "$$\n",
    "When multiplying an inverse matrix by a matrix, the identity matrix is obtained:\n",
    "$$\n",
    "P P^{-1} = E\n",
    "$$\n",
    "\n",
    "Thus, the prediction expression takes its original form:\n",
    "\n",
    "$$\n",
    "a = x E (x^Tx)^{-1} x^T y\n",
    "$$\n",
    "$$\n",
    "a= xw\n",
    "$$\n",
    "$$\n",
    "a = x (x^Tx)^{-1} x^T y\n",
    "$$"
   ]
  },
  {
   "cell_type": "markdown",
   "metadata": {},
   "source": [
    "<a id='third'></a>\n",
    "## 3. Transformation algorithm"
   ]
  },
  {
   "cell_type": "markdown",
   "metadata": {},
   "source": [
    "**Algorithm**\n",
    "\n",
    "Following the conclusion from step 2, the features can be transformed by multiplying them by an invertible (square) matrix.\n",
    "\n",
    "To do this, a normal square matrix using `np.random.normal` will be created. Then, the features will be multiplied by this matrix."
   ]
  },
  {
   "cell_type": "markdown",
   "metadata": {},
   "source": [
    "**Rationale**\n"
   ]
  },
  {
   "cell_type": "code",
   "execution_count": 6,
   "metadata": {},
   "outputs": [],
   "source": [
    "features = df.drop('Insurance_payments',1)\n",
    "target = df['Insurance_payments']"
   ]
  },
  {
   "cell_type": "code",
   "execution_count": 7,
   "metadata": {},
   "outputs": [
    {
     "data": {
      "text/plain": [
       "(array([ True]), array([5000]))"
      ]
     },
     "execution_count": 7,
     "metadata": {},
     "output_type": "execute_result"
    }
   ],
   "source": [
    "matrix = np.random.normal(1,100,(4,4))\n",
    "features_matr = features.values@matrix\n",
    "#comparison of model predictions calculated by the formula a=Xw\n",
    "array_1 = (features.values@(np.linalg.inv(features.values.T.dot(features.values)).dot(features.values.T).dot(target))).round(2)\n",
    "array_2 = (features_matr@(np.linalg.inv(features_matr.T.dot(features_matr)).dot(features_matr.T).dot(target))).round(2)\n",
    "check=list(array_1==array_2)\n",
    "np.unique(check, return_counts=True)"
   ]
  },
  {
   "cell_type": "markdown",
   "metadata": {},
   "source": [
    "### Conclusion\n",
    "Thus, the model data transformation algorithm to protect customer data was justified at this step. At the same time, the quality of the model remained unchanged, because predictions equal each other.\n",
    "The algorithm will be programmed tn the next step, and the quality of the model will be checked."
   ]
  },
  {
   "cell_type": "markdown",
   "metadata": {},
   "source": [
    "<a id='fourth'></a>\n",
    "## 4. Algorithm check"
   ]
  },
  {
   "cell_type": "code",
   "execution_count": 1,
   "metadata": {},
   "outputs": [],
   "source": [
    "#Algorithm coding\n",
    "\n",
    "def coded_data(features):\n",
    "    def rnd_matrix(n):\n",
    "        rand_matrix = np.random.normal(size=(n, n))\n",
    "        try:\n",
    "            np.linalg.inv(rand_matrix)\n",
    "        except LinAlgError:\n",
    "            rnd_matrix(n)\n",
    "        return rand_matrix\n",
    "    \n",
    "    coded_features = features.values @ rnd_matrix(4)\n",
    "    return(coded_features)"
   ]
  },
  {
   "cell_type": "code",
   "execution_count": 9,
   "metadata": {
    "scrolled": true
   },
   "outputs": [
    {
     "data": {
      "text/html": [
       "<div>\n",
       "<style scoped>\n",
       "    .dataframe tbody tr th:only-of-type {\n",
       "        vertical-align: middle;\n",
       "    }\n",
       "\n",
       "    .dataframe tbody tr th {\n",
       "        vertical-align: top;\n",
       "    }\n",
       "\n",
       "    .dataframe thead th {\n",
       "        text-align: right;\n",
       "    }\n",
       "</style>\n",
       "<table border=\"1\" class=\"dataframe\">\n",
       "  <thead>\n",
       "    <tr style=\"text-align: right;\">\n",
       "      <th></th>\n",
       "      <th>Gender</th>\n",
       "      <th>Age</th>\n",
       "      <th>Salary</th>\n",
       "      <th>Family_members</th>\n",
       "    </tr>\n",
       "  </thead>\n",
       "  <tbody>\n",
       "    <tr>\n",
       "      <th>0</th>\n",
       "      <td>1</td>\n",
       "      <td>41.0</td>\n",
       "      <td>49600.0</td>\n",
       "      <td>1</td>\n",
       "    </tr>\n",
       "    <tr>\n",
       "      <th>1</th>\n",
       "      <td>0</td>\n",
       "      <td>46.0</td>\n",
       "      <td>38000.0</td>\n",
       "      <td>1</td>\n",
       "    </tr>\n",
       "    <tr>\n",
       "      <th>2</th>\n",
       "      <td>0</td>\n",
       "      <td>29.0</td>\n",
       "      <td>21000.0</td>\n",
       "      <td>0</td>\n",
       "    </tr>\n",
       "  </tbody>\n",
       "</table>\n",
       "</div>"
      ],
      "text/plain": [
       "   Gender   Age   Salary  Family_members\n",
       "0       1  41.0  49600.0               1\n",
       "1       0  46.0  38000.0               1\n",
       "2       0  29.0  21000.0               0"
      ]
     },
     "metadata": {},
     "output_type": "display_data"
    },
    {
     "data": {
      "text/html": [
       "<div>\n",
       "<style scoped>\n",
       "    .dataframe tbody tr th:only-of-type {\n",
       "        vertical-align: middle;\n",
       "    }\n",
       "\n",
       "    .dataframe tbody tr th {\n",
       "        vertical-align: top;\n",
       "    }\n",
       "\n",
       "    .dataframe thead th {\n",
       "        text-align: right;\n",
       "    }\n",
       "</style>\n",
       "<table border=\"1\" class=\"dataframe\">\n",
       "  <thead>\n",
       "    <tr style=\"text-align: right;\">\n",
       "      <th></th>\n",
       "      <th>Gender</th>\n",
       "      <th>Age</th>\n",
       "      <th>Salary</th>\n",
       "      <th>Family_members</th>\n",
       "    </tr>\n",
       "  </thead>\n",
       "  <tbody>\n",
       "    <tr>\n",
       "      <th>4997</th>\n",
       "      <td>0</td>\n",
       "      <td>20.0</td>\n",
       "      <td>33900.0</td>\n",
       "      <td>2</td>\n",
       "    </tr>\n",
       "    <tr>\n",
       "      <th>4998</th>\n",
       "      <td>1</td>\n",
       "      <td>22.0</td>\n",
       "      <td>32700.0</td>\n",
       "      <td>3</td>\n",
       "    </tr>\n",
       "    <tr>\n",
       "      <th>4999</th>\n",
       "      <td>1</td>\n",
       "      <td>28.0</td>\n",
       "      <td>40600.0</td>\n",
       "      <td>1</td>\n",
       "    </tr>\n",
       "  </tbody>\n",
       "</table>\n",
       "</div>"
      ],
      "text/plain": [
       "      Gender   Age   Salary  Family_members\n",
       "4997       0  20.0  33900.0               2\n",
       "4998       1  22.0  32700.0               3\n",
       "4999       1  28.0  40600.0               1"
      ]
     },
     "metadata": {},
     "output_type": "display_data"
    },
    {
     "data": {
      "text/plain": [
       "array([[-24048.96121466,  -2489.49894066, -13575.49423396,\n",
       "        -63776.29521775],\n",
       "       [-18434.03690009,  -1918.35316139, -10415.87617063,\n",
       "        -48877.46806243],\n",
       "       [-10189.75493387,  -1062.24755299,  -5760.59451323,\n",
       "        -27015.91961862],\n",
       "       ...,\n",
       "       [-16430.77257636,  -1696.86609754,  -9268.27464755,\n",
       "        -43576.76325047],\n",
       "       [-15851.06130877,  -1639.85553211,  -8942.00573109,\n",
       "        -42040.0097536 ],\n",
       "       [-19681.54130217,  -2033.82593726, -11106.05555376,\n",
       "        -52197.31486705]])"
      ]
     },
     "metadata": {},
     "output_type": "display_data"
    }
   ],
   "source": [
    "features_1 = coded_data(features)\n",
    "\n",
    "display(features.head(3), features.tail(3))\n",
    "display(features_1) #check"
   ]
  },
  {
   "cell_type": "code",
   "execution_count": 10,
   "metadata": {},
   "outputs": [
    {
     "name": "stdout",
     "output_type": "stream",
     "text": [
      "Metrics before transformation: 0.4352.\n"
     ]
    }
   ],
   "source": [
    "features_train, features_valid, target_train, target_valid = train_test_split(\n",
    "    features,\n",
    "    target,\n",
    "    test_size=0.25,\n",
    "    random_state=12345\n",
    ")\n",
    "\n",
    "model = LinearRegression()\n",
    "model.fit(features_train, target_train)\n",
    "r2_before = r2_score(target_valid, model.predict(features_valid))\n",
    "print(f\"Metrics before transformation: {r2_before:,.4f}.\")"
   ]
  },
  {
   "cell_type": "code",
   "execution_count": 11,
   "metadata": {
    "scrolled": false
   },
   "outputs": [
    {
     "name": "stdout",
     "output_type": "stream",
     "text": [
      "Metrics after transformation: 0.4352.\n"
     ]
    }
   ],
   "source": [
    "features_train_1, features_valid_1, target_train_1, target_valid_1 = train_test_split(\n",
    "    features_1,\n",
    "    target,\n",
    "    test_size=0.25,\n",
    "    random_state=12345\n",
    ")\n",
    "\n",
    "model.fit(features_train_1, target_train_1)\n",
    "r2_after = r2_score(target_valid_1, model.predict(features_valid_1))\n",
    "print(f\"Metrics after transformation: {r2_after:,.4f}.\")"
   ]
  },
  {
   "cell_type": "code",
   "execution_count": 12,
   "metadata": {
    "scrolled": true
   },
   "outputs": [
    {
     "name": "stdout",
     "output_type": "stream",
     "text": [
      "R2 diff as of before and after transformation: -0.0000.\n"
     ]
    }
   ],
   "source": [
    "print(f\"R2 diff as of before and after transformation: {(r2_after-r2_before):,.4f}.\")"
   ]
  },
  {
   "cell_type": "markdown",
   "metadata": {},
   "source": [
    "<a id='fifth'></a>\n",
    "## 5. Summary\n",
    "Thus, the linear regression quality metric R2 did not change due to the feature transformation and remained at the level of **0.4352**.\n",
    "The quality of the model is the same before and after the transformation."
   ]
  }
 ],
 "metadata": {
  "ExecuteTimeLog": [
   {
    "duration": 370,
    "start_time": "2022-04-21T18:02:59.640Z"
   },
   {
    "duration": 21,
    "start_time": "2022-04-21T18:04:12.475Z"
   },
   {
    "duration": 31,
    "start_time": "2022-04-21T18:04:22.817Z"
   },
   {
    "duration": 23,
    "start_time": "2022-04-21T18:04:46.475Z"
   },
   {
    "duration": 33,
    "start_time": "2022-04-21T18:09:02.308Z"
   },
   {
    "duration": 4,
    "start_time": "2022-04-21T18:21:38.464Z"
   },
   {
    "duration": 830,
    "start_time": "2022-04-21T18:23:20.992Z"
   },
   {
    "duration": 3,
    "start_time": "2022-04-21T18:23:23.487Z"
   },
   {
    "duration": 36,
    "start_time": "2022-04-21T18:23:30.309Z"
   },
   {
    "duration": 33,
    "start_time": "2022-04-21T18:23:34.937Z"
   },
   {
    "duration": 5,
    "start_time": "2022-04-21T18:23:41.092Z"
   },
   {
    "duration": 2,
    "start_time": "2022-04-21T18:30:23.521Z"
   },
   {
    "duration": 12,
    "start_time": "2022-04-21T18:32:40.513Z"
   },
   {
    "duration": 3,
    "start_time": "2022-04-21T18:33:54.822Z"
   },
   {
    "duration": 100,
    "start_time": "2022-04-21T18:33:56.940Z"
   },
   {
    "duration": 9,
    "start_time": "2022-04-21T18:34:28.379Z"
   },
   {
    "duration": 3,
    "start_time": "2022-04-21T18:34:43.813Z"
   },
   {
    "duration": 2,
    "start_time": "2022-04-21T18:34:45.321Z"
   },
   {
    "duration": 8,
    "start_time": "2022-04-21T18:34:54.719Z"
   },
   {
    "duration": 1233,
    "start_time": "2022-04-21T18:35:02.608Z"
   },
   {
    "duration": 49,
    "start_time": "2022-04-21T18:35:03.842Z"
   },
   {
    "duration": 5,
    "start_time": "2022-04-21T18:35:03.892Z"
   },
   {
    "duration": 14,
    "start_time": "2022-04-21T18:35:03.899Z"
   },
   {
    "duration": 9,
    "start_time": "2022-04-21T18:35:03.992Z"
   },
   {
    "duration": 3,
    "start_time": "2022-04-21T18:35:26.268Z"
   },
   {
    "duration": 4,
    "start_time": "2022-04-21T18:35:27.838Z"
   },
   {
    "duration": 6,
    "start_time": "2022-04-21T18:35:31.715Z"
   },
   {
    "duration": 5,
    "start_time": "2022-04-21T18:35:39.584Z"
   },
   {
    "duration": 12,
    "start_time": "2022-04-21T18:35:44.981Z"
   },
   {
    "duration": 14,
    "start_time": "2022-04-21T18:39:10.719Z"
   },
   {
    "duration": 98,
    "start_time": "2022-04-21T19:03:10.450Z"
   },
   {
    "duration": 10,
    "start_time": "2022-04-21T19:03:12.397Z"
   },
   {
    "duration": 10,
    "start_time": "2022-04-21T19:03:13.775Z"
   },
   {
    "duration": 174,
    "start_time": "2022-04-21T19:03:18.324Z"
   },
   {
    "duration": 159,
    "start_time": "2022-04-21T19:03:38.246Z"
   },
   {
    "duration": 145,
    "start_time": "2022-04-21T19:03:57.489Z"
   },
   {
    "duration": 146,
    "start_time": "2022-04-21T19:04:05.443Z"
   },
   {
    "duration": 5,
    "start_time": "2022-04-21T19:04:08.725Z"
   },
   {
    "duration": 140,
    "start_time": "2022-04-21T19:05:56.115Z"
   },
   {
    "duration": 146,
    "start_time": "2022-04-21T19:06:47.615Z"
   },
   {
    "duration": 5,
    "start_time": "2022-04-21T19:07:00.573Z"
   },
   {
    "duration": 4,
    "start_time": "2022-04-21T19:07:27.802Z"
   },
   {
    "duration": 4,
    "start_time": "2022-04-21T19:07:30.039Z"
   },
   {
    "duration": 5,
    "start_time": "2022-04-21T19:07:33.774Z"
   },
   {
    "duration": 5,
    "start_time": "2022-04-21T19:08:38.171Z"
   },
   {
    "duration": 13,
    "start_time": "2022-04-21T19:08:45.939Z"
   },
   {
    "duration": 5,
    "start_time": "2022-04-21T19:09:03.006Z"
   },
   {
    "duration": 13,
    "start_time": "2022-04-21T19:09:04.418Z"
   },
   {
    "duration": 9,
    "start_time": "2022-04-21T19:10:04.225Z"
   },
   {
    "duration": 3,
    "start_time": "2022-04-21T19:10:08.228Z"
   },
   {
    "duration": 3,
    "start_time": "2022-04-21T19:10:09.593Z"
   },
   {
    "duration": 4,
    "start_time": "2022-04-21T19:10:13.328Z"
   },
   {
    "duration": 153,
    "start_time": "2022-04-21T19:10:40.823Z"
   },
   {
    "duration": 4,
    "start_time": "2022-04-21T19:11:50.055Z"
   },
   {
    "duration": 3,
    "start_time": "2022-04-21T19:11:51.455Z"
   },
   {
    "duration": 5,
    "start_time": "2022-04-21T19:11:56.291Z"
   },
   {
    "duration": 13,
    "start_time": "2022-04-21T19:12:46.971Z"
   },
   {
    "duration": 3,
    "start_time": "2022-04-21T19:12:54.837Z"
   },
   {
    "duration": 9,
    "start_time": "2022-04-21T19:13:41.645Z"
   },
   {
    "duration": 9,
    "start_time": "2022-04-21T19:13:54.014Z"
   },
   {
    "duration": 8,
    "start_time": "2022-04-21T19:13:55.408Z"
   },
   {
    "duration": 1152,
    "start_time": "2022-04-21T19:14:02.640Z"
   },
   {
    "duration": 44,
    "start_time": "2022-04-21T19:14:03.794Z"
   },
   {
    "duration": 4,
    "start_time": "2022-04-21T19:14:03.840Z"
   },
   {
    "duration": 50,
    "start_time": "2022-04-21T19:14:03.846Z"
   },
   {
    "duration": 95,
    "start_time": "2022-04-21T19:14:03.898Z"
   },
   {
    "duration": 98,
    "start_time": "2022-04-21T19:14:03.995Z"
   },
   {
    "duration": 98,
    "start_time": "2022-04-21T19:14:04.099Z"
   },
   {
    "duration": 97,
    "start_time": "2022-04-21T20:31:45.372Z"
   },
   {
    "duration": 9,
    "start_time": "2022-04-21T20:31:46.813Z"
   },
   {
    "duration": 9,
    "start_time": "2022-04-21T20:31:48.771Z"
   },
   {
    "duration": 14,
    "start_time": "2022-04-21T20:32:04.834Z"
   },
   {
    "duration": 113,
    "start_time": "2022-04-21T20:32:16.180Z"
   },
   {
    "duration": 49,
    "start_time": "2022-04-21T20:32:17.846Z"
   },
   {
    "duration": 9,
    "start_time": "2022-04-21T20:32:27.154Z"
   },
   {
    "duration": 141,
    "start_time": "2022-04-21T20:34:14.983Z"
   },
   {
    "duration": 9,
    "start_time": "2022-04-21T20:34:17.137Z"
   },
   {
    "duration": 28,
    "start_time": "2022-04-21T20:36:19.667Z"
   },
   {
    "duration": 8,
    "start_time": "2022-04-21T20:36:51.988Z"
   },
   {
    "duration": 8,
    "start_time": "2022-04-21T20:36:55.535Z"
   },
   {
    "duration": 4,
    "start_time": "2022-04-21T20:45:08.505Z"
   },
   {
    "duration": 8,
    "start_time": "2022-04-21T20:45:18.947Z"
   },
   {
    "duration": 3,
    "start_time": "2022-04-21T21:00:40.237Z"
   },
   {
    "duration": 3,
    "start_time": "2022-04-21T21:00:42.717Z"
   },
   {
    "duration": 4,
    "start_time": "2022-04-21T21:00:46.644Z"
   },
   {
    "duration": 3,
    "start_time": "2022-04-21T21:00:53.505Z"
   },
   {
    "duration": 5,
    "start_time": "2022-04-21T21:11:44.726Z"
   },
   {
    "duration": 4,
    "start_time": "2022-04-21T21:11:44.957Z"
   },
   {
    "duration": 4,
    "start_time": "2022-04-21T21:12:45.442Z"
   },
   {
    "duration": 6,
    "start_time": "2022-04-21T21:12:51.022Z"
   },
   {
    "duration": 9,
    "start_time": "2022-04-21T21:13:15.747Z"
   },
   {
    "duration": 9,
    "start_time": "2022-04-21T21:13:45.267Z"
   },
   {
    "duration": 8,
    "start_time": "2022-04-21T21:14:25.688Z"
   },
   {
    "duration": 6,
    "start_time": "2022-04-21T21:14:31.655Z"
   },
   {
    "duration": 9,
    "start_time": "2022-04-21T21:14:36.872Z"
   },
   {
    "duration": 804,
    "start_time": "2022-04-21T21:14:45.176Z"
   },
   {
    "duration": 9,
    "start_time": "2022-04-21T21:14:47.870Z"
   },
   {
    "duration": 141,
    "start_time": "2022-04-21T21:14:53.143Z"
   },
   {
    "duration": 5,
    "start_time": "2022-04-21T21:18:43.179Z"
   },
   {
    "duration": 5,
    "start_time": "2022-04-21T21:18:57.453Z"
   },
   {
    "duration": 5,
    "start_time": "2022-04-21T21:19:00.959Z"
   },
   {
    "duration": 5,
    "start_time": "2022-04-21T21:19:05.588Z"
   },
   {
    "duration": 9,
    "start_time": "2022-04-21T21:19:52.467Z"
   },
   {
    "duration": 8,
    "start_time": "2022-04-21T21:20:55.457Z"
   },
   {
    "duration": 8,
    "start_time": "2022-04-21T21:20:58.517Z"
   },
   {
    "duration": 9,
    "start_time": "2022-04-21T21:21:23.964Z"
   },
   {
    "duration": 6,
    "start_time": "2022-04-21T21:27:49.594Z"
   },
   {
    "duration": 3,
    "start_time": "2022-04-21T21:28:17.561Z"
   },
   {
    "duration": 10,
    "start_time": "2022-04-21T21:28:41.584Z"
   },
   {
    "duration": 3,
    "start_time": "2022-04-21T21:41:02.982Z"
   },
   {
    "duration": 3,
    "start_time": "2022-04-21T21:41:18.659Z"
   },
   {
    "duration": 11,
    "start_time": "2022-04-21T21:44:02.809Z"
   },
   {
    "duration": 4,
    "start_time": "2022-04-21T21:44:22.228Z"
   },
   {
    "duration": 3,
    "start_time": "2022-04-21T21:44:25.030Z"
   },
   {
    "duration": 3,
    "start_time": "2022-04-21T21:44:27.660Z"
   },
   {
    "duration": 7,
    "start_time": "2022-04-21T21:44:34.330Z"
   },
   {
    "duration": 9,
    "start_time": "2022-04-21T21:44:56.615Z"
   },
   {
    "duration": 3,
    "start_time": "2022-04-21T21:46:59.116Z"
   },
   {
    "duration": 3,
    "start_time": "2022-04-21T21:48:54.416Z"
   },
   {
    "duration": 7,
    "start_time": "2022-04-21T21:49:54.373Z"
   },
   {
    "duration": 7,
    "start_time": "2022-04-21T21:50:13.217Z"
   },
   {
    "duration": 8,
    "start_time": "2022-04-21T21:52:54.536Z"
   },
   {
    "duration": 8,
    "start_time": "2022-04-21T21:53:16.971Z"
   },
   {
    "duration": 3,
    "start_time": "2022-04-21T21:54:39.895Z"
   },
   {
    "duration": 4,
    "start_time": "2022-04-21T21:55:05.168Z"
   },
   {
    "duration": 4,
    "start_time": "2022-04-21T21:55:22.019Z"
   },
   {
    "duration": 16,
    "start_time": "2022-04-21T21:58:01.444Z"
   },
   {
    "duration": 7,
    "start_time": "2022-04-21T21:58:05.017Z"
   },
   {
    "duration": 11,
    "start_time": "2022-04-21T21:58:12.022Z"
   },
   {
    "duration": 15,
    "start_time": "2022-04-21T21:59:43.730Z"
   },
   {
    "duration": 7,
    "start_time": "2022-04-21T21:59:51.161Z"
   },
   {
    "duration": 3,
    "start_time": "2022-04-21T21:59:53.323Z"
   },
   {
    "duration": 1262,
    "start_time": "2022-04-21T22:02:03.278Z"
   },
   {
    "duration": 47,
    "start_time": "2022-04-21T22:02:04.542Z"
   },
   {
    "duration": 4,
    "start_time": "2022-04-21T22:02:04.590Z"
   },
   {
    "duration": 5,
    "start_time": "2022-04-21T22:02:04.596Z"
   },
   {
    "duration": 11,
    "start_time": "2022-04-21T22:02:04.603Z"
   },
   {
    "duration": 9,
    "start_time": "2022-04-21T22:02:04.616Z"
   },
   {
    "duration": 112,
    "start_time": "2022-04-21T22:02:04.626Z"
   },
   {
    "duration": 0,
    "start_time": "2022-04-21T22:02:04.740Z"
   },
   {
    "duration": 0,
    "start_time": "2022-04-21T22:02:04.741Z"
   },
   {
    "duration": 1245,
    "start_time": "2022-04-21T22:02:29.794Z"
   },
   {
    "duration": 53,
    "start_time": "2022-04-21T22:02:31.041Z"
   },
   {
    "duration": 4,
    "start_time": "2022-04-21T22:02:31.096Z"
   },
   {
    "duration": 33,
    "start_time": "2022-04-21T22:02:31.101Z"
   },
   {
    "duration": 26,
    "start_time": "2022-04-21T22:02:31.136Z"
   },
   {
    "duration": 27,
    "start_time": "2022-04-21T22:02:31.164Z"
   },
   {
    "duration": 14,
    "start_time": "2022-04-21T22:02:31.193Z"
   },
   {
    "duration": 7,
    "start_time": "2022-04-21T22:02:31.209Z"
   },
   {
    "duration": 27,
    "start_time": "2022-04-21T22:02:31.217Z"
   },
   {
    "duration": 4,
    "start_time": "2022-04-21T22:03:01.777Z"
   },
   {
    "duration": 15,
    "start_time": "2022-04-21T22:09:25.032Z"
   },
   {
    "duration": 2,
    "start_time": "2022-04-21T22:13:49.114Z"
   },
   {
    "duration": 3,
    "start_time": "2022-04-21T22:20:13.577Z"
   },
   {
    "duration": 13,
    "start_time": "2022-04-21T22:20:58.952Z"
   },
   {
    "duration": 14,
    "start_time": "2022-04-21T22:21:46.624Z"
   },
   {
    "duration": 248,
    "start_time": "2022-04-21T22:22:08.215Z"
   },
   {
    "duration": 10,
    "start_time": "2022-04-21T22:22:23.526Z"
   },
   {
    "duration": 12,
    "start_time": "2022-04-21T22:23:42.428Z"
   },
   {
    "duration": 148,
    "start_time": "2022-04-21T22:24:46.288Z"
   },
   {
    "duration": 73,
    "start_time": "2022-04-21T22:24:50.223Z"
   },
   {
    "duration": 15,
    "start_time": "2022-04-21T22:26:25.938Z"
   },
   {
    "duration": 69,
    "start_time": "2022-04-21T22:26:36.023Z"
   },
   {
    "duration": 9,
    "start_time": "2022-04-21T22:26:54.699Z"
   },
   {
    "duration": 10,
    "start_time": "2022-04-21T22:27:44.084Z"
   },
   {
    "duration": 11,
    "start_time": "2022-04-21T22:28:01.294Z"
   },
   {
    "duration": 76,
    "start_time": "2022-04-21T22:30:12.318Z"
   },
   {
    "duration": 139,
    "start_time": "2022-04-21T22:30:17.344Z"
   },
   {
    "duration": 150,
    "start_time": "2022-04-21T22:30:23.484Z"
   },
   {
    "duration": 15,
    "start_time": "2022-04-21T22:30:27.547Z"
   },
   {
    "duration": 10,
    "start_time": "2022-04-21T22:30:35.908Z"
   },
   {
    "duration": 12,
    "start_time": "2022-04-21T22:31:50.733Z"
   },
   {
    "duration": 13,
    "start_time": "2022-04-21T22:31:56.004Z"
   },
   {
    "duration": 13,
    "start_time": "2022-04-21T22:32:01.401Z"
   },
   {
    "duration": 11,
    "start_time": "2022-04-21T22:32:22.975Z"
   },
   {
    "duration": 14,
    "start_time": "2022-04-21T22:32:33.086Z"
   },
   {
    "duration": 12,
    "start_time": "2022-04-21T22:32:45.214Z"
   },
   {
    "duration": 11,
    "start_time": "2022-04-21T22:32:59.957Z"
   },
   {
    "duration": 9,
    "start_time": "2022-04-21T22:33:48.921Z"
   },
   {
    "duration": 14,
    "start_time": "2022-04-21T22:33:51.766Z"
   },
   {
    "duration": 14,
    "start_time": "2022-04-21T22:33:58.790Z"
   },
   {
    "duration": 92,
    "start_time": "2022-04-21T22:34:12.707Z"
   },
   {
    "duration": 11,
    "start_time": "2022-04-21T22:34:16.711Z"
   },
   {
    "duration": 7,
    "start_time": "2022-04-21T22:34:23.055Z"
   },
   {
    "duration": 10,
    "start_time": "2022-04-21T22:34:26.321Z"
   },
   {
    "duration": 89,
    "start_time": "2022-04-21T22:34:31.004Z"
   },
   {
    "duration": 90,
    "start_time": "2022-04-21T22:34:35.403Z"
   },
   {
    "duration": 10,
    "start_time": "2022-04-21T22:34:38.268Z"
   },
   {
    "duration": 10,
    "start_time": "2022-04-21T22:35:33.463Z"
   },
   {
    "duration": 170,
    "start_time": "2022-04-21T22:35:36.924Z"
   },
   {
    "duration": 36,
    "start_time": "2022-04-21T22:35:48.357Z"
   },
   {
    "duration": 92,
    "start_time": "2022-04-21T22:36:45.201Z"
   },
   {
    "duration": 11,
    "start_time": "2022-04-21T22:37:23.566Z"
   },
   {
    "duration": 14,
    "start_time": "2022-04-21T22:38:01.958Z"
   },
   {
    "duration": 11,
    "start_time": "2022-04-21T22:38:45.270Z"
   },
   {
    "duration": 11,
    "start_time": "2022-04-21T22:38:56.798Z"
   },
   {
    "duration": 11,
    "start_time": "2022-04-21T22:39:04.321Z"
   },
   {
    "duration": 10,
    "start_time": "2022-04-21T22:39:08.562Z"
   },
   {
    "duration": 12,
    "start_time": "2022-04-21T22:39:16.072Z"
   },
   {
    "duration": 1229,
    "start_time": "2022-04-21T22:40:38.190Z"
   },
   {
    "duration": 41,
    "start_time": "2022-04-21T22:40:39.421Z"
   },
   {
    "duration": 4,
    "start_time": "2022-04-21T22:40:39.464Z"
   },
   {
    "duration": 8,
    "start_time": "2022-04-21T22:40:39.470Z"
   },
   {
    "duration": 18,
    "start_time": "2022-04-21T22:40:39.480Z"
   },
   {
    "duration": 100,
    "start_time": "2022-04-21T22:40:39.500Z"
   },
   {
    "duration": 111,
    "start_time": "2022-04-21T22:40:39.602Z"
   },
   {
    "duration": 13,
    "start_time": "2022-04-21T22:40:39.715Z"
   },
   {
    "duration": 8,
    "start_time": "2022-04-21T22:40:39.730Z"
   },
   {
    "duration": 4,
    "start_time": "2022-04-21T22:40:39.741Z"
   },
   {
    "duration": 4,
    "start_time": "2022-04-21T22:41:03.445Z"
   },
   {
    "duration": 4,
    "start_time": "2022-04-21T22:41:05.999Z"
   },
   {
    "duration": 59,
    "start_time": "2022-04-21T22:41:07.535Z"
   },
   {
    "duration": 11,
    "start_time": "2022-04-21T22:41:09.789Z"
   },
   {
    "duration": 12,
    "start_time": "2022-04-21T22:41:10.777Z"
   },
   {
    "duration": 1250,
    "start_time": "2022-04-21T22:44:45.460Z"
   },
   {
    "duration": 45,
    "start_time": "2022-04-21T22:44:46.712Z"
   },
   {
    "duration": 5,
    "start_time": "2022-04-21T22:44:46.759Z"
   },
   {
    "duration": 27,
    "start_time": "2022-04-21T22:44:46.766Z"
   },
   {
    "duration": 13,
    "start_time": "2022-04-21T22:44:46.795Z"
   },
   {
    "duration": 190,
    "start_time": "2022-04-21T22:44:46.811Z"
   },
   {
    "duration": 26,
    "start_time": "2022-04-21T22:44:47.003Z"
   },
   {
    "duration": 11,
    "start_time": "2022-04-21T22:44:47.031Z"
   },
   {
    "duration": 13,
    "start_time": "2022-04-21T22:44:47.044Z"
   },
   {
    "duration": 11,
    "start_time": "2022-04-21T22:44:47.059Z"
   },
   {
    "duration": 14,
    "start_time": "2022-04-21T22:45:35.535Z"
   },
   {
    "duration": 11,
    "start_time": "2022-04-21T22:45:38.267Z"
   },
   {
    "duration": 12,
    "start_time": "2022-04-21T22:45:40.117Z"
   },
   {
    "duration": 11,
    "start_time": "2022-04-21T22:45:43.297Z"
   },
   {
    "duration": 13,
    "start_time": "2022-04-21T22:45:44.180Z"
   },
   {
    "duration": 12,
    "start_time": "2022-04-21T22:45:44.802Z"
   },
   {
    "duration": 10,
    "start_time": "2022-04-21T22:45:45.570Z"
   },
   {
    "duration": 12,
    "start_time": "2022-04-21T22:45:46.202Z"
   },
   {
    "duration": 12,
    "start_time": "2022-04-21T22:45:46.888Z"
   },
   {
    "duration": 12,
    "start_time": "2022-04-21T22:45:47.093Z"
   },
   {
    "duration": 10,
    "start_time": "2022-04-21T22:45:47.642Z"
   },
   {
    "duration": 11,
    "start_time": "2022-04-21T22:45:48.095Z"
   },
   {
    "duration": 15,
    "start_time": "2022-04-21T22:45:48.297Z"
   },
   {
    "duration": 11,
    "start_time": "2022-04-21T22:45:48.508Z"
   },
   {
    "duration": 10,
    "start_time": "2022-04-21T22:45:48.766Z"
   },
   {
    "duration": 11,
    "start_time": "2022-04-21T22:45:50.461Z"
   },
   {
    "duration": 12,
    "start_time": "2022-04-21T22:45:51.263Z"
   },
   {
    "duration": 11,
    "start_time": "2022-04-21T22:46:03.531Z"
   },
   {
    "duration": 12,
    "start_time": "2022-04-21T22:46:04.172Z"
   },
   {
    "duration": 12,
    "start_time": "2022-04-21T22:46:04.464Z"
   },
   {
    "duration": 33,
    "start_time": "2022-04-21T22:46:04.666Z"
   },
   {
    "duration": 11,
    "start_time": "2022-04-21T22:46:04.893Z"
   },
   {
    "duration": 11,
    "start_time": "2022-04-21T22:46:05.094Z"
   },
   {
    "duration": 11,
    "start_time": "2022-04-21T22:46:05.293Z"
   },
   {
    "duration": 11,
    "start_time": "2022-04-21T22:46:05.494Z"
   },
   {
    "duration": 11,
    "start_time": "2022-04-21T22:46:05.694Z"
   },
   {
    "duration": 11,
    "start_time": "2022-04-21T22:46:05.893Z"
   },
   {
    "duration": 11,
    "start_time": "2022-04-21T22:46:06.093Z"
   },
   {
    "duration": 12,
    "start_time": "2022-04-21T22:46:06.293Z"
   },
   {
    "duration": 11,
    "start_time": "2022-04-21T22:46:06.493Z"
   },
   {
    "duration": 11,
    "start_time": "2022-04-21T22:46:06.693Z"
   },
   {
    "duration": 105,
    "start_time": "2022-04-21T22:46:07.600Z"
   },
   {
    "duration": 12,
    "start_time": "2022-04-21T22:46:08.808Z"
   },
   {
    "duration": 11,
    "start_time": "2022-04-21T22:46:08.994Z"
   },
   {
    "duration": 11,
    "start_time": "2022-04-21T22:46:09.212Z"
   },
   {
    "duration": 12,
    "start_time": "2022-04-21T22:46:09.396Z"
   },
   {
    "duration": 1239,
    "start_time": "2022-04-21T22:47:07.066Z"
   },
   {
    "duration": 42,
    "start_time": "2022-04-21T22:47:08.307Z"
   },
   {
    "duration": 4,
    "start_time": "2022-04-21T22:47:08.350Z"
   },
   {
    "duration": 6,
    "start_time": "2022-04-21T22:47:08.356Z"
   },
   {
    "duration": 34,
    "start_time": "2022-04-21T22:47:08.364Z"
   },
   {
    "duration": 192,
    "start_time": "2022-04-21T22:47:08.401Z"
   },
   {
    "duration": 17,
    "start_time": "2022-04-21T22:47:08.595Z"
   },
   {
    "duration": 11,
    "start_time": "2022-04-21T22:47:08.613Z"
   },
   {
    "duration": 7,
    "start_time": "2022-04-21T22:47:08.626Z"
   },
   {
    "duration": 4,
    "start_time": "2022-04-21T22:47:08.634Z"
   },
   {
    "duration": 1150,
    "start_time": "2022-04-23T08:27:56.649Z"
   },
   {
    "duration": 44,
    "start_time": "2022-04-23T08:27:57.801Z"
   },
   {
    "duration": 5,
    "start_time": "2022-04-23T08:27:57.846Z"
   },
   {
    "duration": 4,
    "start_time": "2022-04-23T08:27:57.853Z"
   },
   {
    "duration": 12,
    "start_time": "2022-04-23T08:27:57.858Z"
   },
   {
    "duration": 84,
    "start_time": "2022-04-23T08:27:57.873Z"
   },
   {
    "duration": 15,
    "start_time": "2022-04-23T08:27:58.047Z"
   },
   {
    "duration": 10,
    "start_time": "2022-04-23T08:27:58.063Z"
   },
   {
    "duration": 6,
    "start_time": "2022-04-23T08:27:58.075Z"
   },
   {
    "duration": 3,
    "start_time": "2022-04-23T08:27:58.083Z"
   },
   {
    "duration": 1162,
    "start_time": "2022-04-23T09:35:50.239Z"
   },
   {
    "duration": 41,
    "start_time": "2022-04-23T09:35:51.403Z"
   },
   {
    "duration": 4,
    "start_time": "2022-04-23T09:35:51.445Z"
   },
   {
    "duration": 6,
    "start_time": "2022-04-23T09:35:51.451Z"
   },
   {
    "duration": 13,
    "start_time": "2022-04-23T09:35:51.472Z"
   },
   {
    "duration": 102,
    "start_time": "2022-04-23T09:35:51.572Z"
   },
   {
    "duration": 17,
    "start_time": "2022-04-23T09:35:51.676Z"
   },
   {
    "duration": 10,
    "start_time": "2022-04-23T09:35:51.695Z"
   },
   {
    "duration": 6,
    "start_time": "2022-04-23T09:35:51.707Z"
   },
   {
    "duration": 3,
    "start_time": "2022-04-23T09:35:51.715Z"
   },
   {
    "duration": 105,
    "start_time": "2022-04-23T09:40:27.368Z"
   },
   {
    "duration": 204,
    "start_time": "2022-04-23T09:40:30.012Z"
   },
   {
    "duration": 103,
    "start_time": "2022-04-23T09:42:19.334Z"
   },
   {
    "duration": 20,
    "start_time": "2022-04-23T09:42:33.583Z"
   },
   {
    "duration": 15,
    "start_time": "2022-04-23T09:42:48.399Z"
   },
   {
    "duration": 115,
    "start_time": "2022-04-23T09:43:10.111Z"
   },
   {
    "duration": 2262,
    "start_time": "2022-04-23T15:57:16.413Z"
   },
   {
    "duration": 427,
    "start_time": "2022-04-23T15:57:20.062Z"
   },
   {
    "duration": 355,
    "start_time": "2022-04-23T15:58:10.682Z"
   },
   {
    "duration": 362,
    "start_time": "2022-04-23T15:58:22.115Z"
   },
   {
    "duration": 403,
    "start_time": "2022-04-23T16:54:09.897Z"
   },
   {
    "duration": 3,
    "start_time": "2022-04-23T16:55:51.609Z"
   },
   {
    "duration": 583,
    "start_time": "2022-04-23T16:56:02.048Z"
   },
   {
    "duration": 352,
    "start_time": "2022-04-23T16:56:16.282Z"
   },
   {
    "duration": 175,
    "start_time": "2022-04-23T16:56:29.193Z"
   },
   {
    "duration": 157,
    "start_time": "2022-04-23T17:01:43.274Z"
   },
   {
    "duration": 145,
    "start_time": "2022-04-23T17:02:49.605Z"
   },
   {
    "duration": 143,
    "start_time": "2022-04-23T17:03:03.780Z"
   },
   {
    "duration": 425,
    "start_time": "2022-04-23T17:12:05.833Z"
   },
   {
    "duration": 547,
    "start_time": "2022-04-23T17:12:30.948Z"
   },
   {
    "duration": 1822,
    "start_time": "2022-04-23T17:14:04.038Z"
   },
   {
    "duration": 388,
    "start_time": "2022-04-23T17:14:05.862Z"
   },
   {
    "duration": 457,
    "start_time": "2022-04-23T17:14:06.251Z"
   },
   {
    "duration": 4,
    "start_time": "2022-04-23T17:14:06.710Z"
   },
   {
    "duration": 297,
    "start_time": "2022-04-23T17:14:06.716Z"
   },
   {
    "duration": 3,
    "start_time": "2022-04-23T17:14:07.014Z"
   },
   {
    "duration": 35,
    "start_time": "2022-04-23T17:14:07.018Z"
   },
   {
    "duration": 21,
    "start_time": "2022-04-23T17:14:07.054Z"
   },
   {
    "duration": 23,
    "start_time": "2022-04-23T17:14:07.077Z"
   },
   {
    "duration": 31,
    "start_time": "2022-04-23T17:14:07.103Z"
   },
   {
    "duration": 4,
    "start_time": "2022-04-23T17:19:05.971Z"
   },
   {
    "duration": 1621,
    "start_time": "2022-04-23T17:19:14.526Z"
   },
   {
    "duration": 379,
    "start_time": "2022-04-23T17:19:16.149Z"
   },
   {
    "duration": 489,
    "start_time": "2022-04-23T17:19:16.530Z"
   },
   {
    "duration": 4,
    "start_time": "2022-04-23T17:19:17.022Z"
   },
   {
    "duration": 127,
    "start_time": "2022-04-23T17:19:17.028Z"
   },
   {
    "duration": 142,
    "start_time": "2022-04-23T17:19:17.157Z"
   },
   {
    "duration": 39,
    "start_time": "2022-04-23T17:19:17.301Z"
   },
   {
    "duration": 178,
    "start_time": "2022-04-23T17:19:17.355Z"
   },
   {
    "duration": 24,
    "start_time": "2022-04-23T17:19:17.534Z"
   },
   {
    "duration": 13,
    "start_time": "2022-04-23T17:19:17.559Z"
   },
   {
    "duration": 1432,
    "start_time": "2022-04-23T17:20:56.153Z"
   },
   {
    "duration": 385,
    "start_time": "2022-04-23T17:20:57.587Z"
   },
   {
    "duration": 437,
    "start_time": "2022-04-23T17:20:57.974Z"
   },
   {
    "duration": 3,
    "start_time": "2022-04-23T17:20:58.414Z"
   },
   {
    "duration": 274,
    "start_time": "2022-04-23T17:20:58.419Z"
   },
   {
    "duration": 3,
    "start_time": "2022-04-23T17:20:58.695Z"
   },
   {
    "duration": 56,
    "start_time": "2022-04-23T17:20:58.700Z"
   },
   {
    "duration": 16,
    "start_time": "2022-04-23T17:20:58.757Z"
   },
   {
    "duration": 7,
    "start_time": "2022-04-23T17:20:58.855Z"
   },
   {
    "duration": 3,
    "start_time": "2022-04-23T17:20:58.864Z"
   },
   {
    "duration": 1585,
    "start_time": "2022-09-10T11:59:50.569Z"
   },
   {
    "duration": 110,
    "start_time": "2022-09-10T11:59:52.156Z"
   },
   {
    "duration": 4,
    "start_time": "2022-09-10T11:59:52.268Z"
   },
   {
    "duration": 473,
    "start_time": "2022-09-10T11:59:52.274Z"
   },
   {
    "duration": 893,
    "start_time": "2022-09-10T11:59:52.750Z"
   },
   {
    "duration": 0,
    "start_time": "2022-09-10T11:59:53.645Z"
   },
   {
    "duration": 0,
    "start_time": "2022-09-10T11:59:53.647Z"
   },
   {
    "duration": 0,
    "start_time": "2022-09-10T11:59:53.649Z"
   },
   {
    "duration": 0,
    "start_time": "2022-09-10T11:59:53.650Z"
   },
   {
    "duration": 0,
    "start_time": "2022-09-10T11:59:53.651Z"
   },
   {
    "duration": 0,
    "start_time": "2022-09-10T11:59:53.654Z"
   },
   {
    "duration": 0,
    "start_time": "2022-09-10T11:59:53.655Z"
   },
   {
    "duration": 1493,
    "start_time": "2022-09-10T12:00:18.652Z"
   },
   {
    "duration": 40,
    "start_time": "2022-09-10T12:00:20.148Z"
   },
   {
    "duration": 4,
    "start_time": "2022-09-10T12:00:20.190Z"
   },
   {
    "duration": 433,
    "start_time": "2022-09-10T12:00:20.196Z"
   },
   {
    "duration": 1172,
    "start_time": "2022-09-10T12:00:20.631Z"
   },
   {
    "duration": 0,
    "start_time": "2022-09-10T12:00:21.804Z"
   },
   {
    "duration": 0,
    "start_time": "2022-09-10T12:00:21.806Z"
   },
   {
    "duration": 0,
    "start_time": "2022-09-10T12:00:21.807Z"
   },
   {
    "duration": 0,
    "start_time": "2022-09-10T12:00:21.808Z"
   },
   {
    "duration": 0,
    "start_time": "2022-09-10T12:00:21.810Z"
   },
   {
    "duration": 0,
    "start_time": "2022-09-10T12:00:21.812Z"
   },
   {
    "duration": 0,
    "start_time": "2022-09-10T12:00:21.813Z"
   },
   {
    "duration": 1461,
    "start_time": "2022-09-10T12:00:39.434Z"
   },
   {
    "duration": 47,
    "start_time": "2022-09-10T12:00:40.898Z"
   },
   {
    "duration": 4,
    "start_time": "2022-09-10T12:00:40.946Z"
   },
   {
    "duration": 459,
    "start_time": "2022-09-10T12:00:40.952Z"
   },
   {
    "duration": 1123,
    "start_time": "2022-09-10T12:00:41.414Z"
   },
   {
    "duration": 0,
    "start_time": "2022-09-10T12:00:42.539Z"
   },
   {
    "duration": 0,
    "start_time": "2022-09-10T12:00:42.540Z"
   },
   {
    "duration": 0,
    "start_time": "2022-09-10T12:00:42.541Z"
   },
   {
    "duration": 0,
    "start_time": "2022-09-10T12:00:42.542Z"
   },
   {
    "duration": 0,
    "start_time": "2022-09-10T12:00:42.543Z"
   },
   {
    "duration": 0,
    "start_time": "2022-09-10T12:00:42.544Z"
   },
   {
    "duration": 0,
    "start_time": "2022-09-10T12:00:42.545Z"
   },
   {
    "duration": 1497,
    "start_time": "2022-09-10T12:01:51.352Z"
   },
   {
    "duration": 42,
    "start_time": "2022-09-10T12:01:52.852Z"
   },
   {
    "duration": 5,
    "start_time": "2022-09-10T12:01:52.896Z"
   },
   {
    "duration": 444,
    "start_time": "2022-09-10T12:01:52.904Z"
   },
   {
    "duration": 583,
    "start_time": "2022-09-10T12:01:53.351Z"
   },
   {
    "duration": 4,
    "start_time": "2022-09-10T12:01:53.936Z"
   },
   {
    "duration": 91,
    "start_time": "2022-09-10T12:01:53.942Z"
   },
   {
    "duration": 107,
    "start_time": "2022-09-10T12:01:54.034Z"
   },
   {
    "duration": 36,
    "start_time": "2022-09-10T12:01:54.144Z"
   },
   {
    "duration": 167,
    "start_time": "2022-09-10T12:01:54.225Z"
   },
   {
    "duration": 9,
    "start_time": "2022-09-10T12:01:54.394Z"
   },
   {
    "duration": 25,
    "start_time": "2022-09-10T12:01:54.404Z"
   }
  ],
  "kernelspec": {
   "display_name": "Python 3 (ipykernel)",
   "language": "python",
   "name": "python3"
  },
  "language_info": {
   "codemirror_mode": {
    "name": "ipython",
    "version": 3
   },
   "file_extension": ".py",
   "mimetype": "text/x-python",
   "name": "python",
   "nbconvert_exporter": "python",
   "pygments_lexer": "ipython3",
   "version": "3.9.12"
  },
  "toc": {
   "base_numbering": 1,
   "nav_menu": {},
   "number_sections": true,
   "sideBar": true,
   "skip_h1_title": true,
   "title_cell": "Содержание",
   "title_sidebar": "Contents",
   "toc_cell": true,
   "toc_position": {
    "height": "calc(100% - 180px)",
    "left": "10px",
    "top": "150px",
    "width": "254.08px"
   },
   "toc_section_display": true,
   "toc_window_display": true
  }
 },
 "nbformat": 4,
 "nbformat_minor": 2
}
