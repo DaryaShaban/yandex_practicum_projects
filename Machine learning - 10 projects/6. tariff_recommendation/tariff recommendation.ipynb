{
 "cells": [
  {
   "cell_type": "markdown",
   "metadata": {},
   "source": [
    "# Tariff recommendation"
   ]
  },
  {
   "cell_type": "markdown",
   "metadata": {},
   "source": [
    "Data available is the data on the behavior of customers who have already switched tariffs. The task is to build a model for the classification problem that will select the appropriate tariff. Data preprocessing is not required - see project 4. tariff_telecom.\n",
    "\n",
    "Model metrics is *accuracy*. *Accuracy* value on the test sample should be at least 0.75.\n",
    "\n",
    "**Project content:** <br/>\n",
    "<a href='#first'>1) Examine the data</a> <br/>\n",
    "<a href='#second'>2) Break the data into samples</a> <br/>\n",
    "<a href='#third'>3) Explore Models</a> <br/>\n",
    "<a href='#fourth'>4) Check the model on the test sample</a> <br/>\n",
    "<a href='#fifth'>5) Adequacy test</a> <br/>\n",
    "<a href='#sixth'>6) Summary</a> <br/>"
   ]
  },
  {
   "cell_type": "markdown",
   "metadata": {},
   "source": [
    "<a id='first'></a>\n",
    "## 1. Examine the data"
   ]
  },
  {
   "cell_type": "code",
   "execution_count": 1,
   "metadata": {
    "scrolled": true
   },
   "outputs": [
    {
     "name": "stdout",
     "output_type": "stream",
     "text": [
      "<class 'pandas.core.frame.DataFrame'>\n",
      "RangeIndex: 3214 entries, 0 to 3213\n",
      "Data columns (total 5 columns):\n",
      " #   Column    Non-Null Count  Dtype  \n",
      "---  ------    --------------  -----  \n",
      " 0   calls     3214 non-null   float64\n",
      " 1   minutes   3214 non-null   float64\n",
      " 2   messages  3214 non-null   float64\n",
      " 3   mb_used   3214 non-null   float64\n",
      " 4   is_ultra  3214 non-null   int64  \n",
      "dtypes: float64(4), int64(1)\n",
      "memory usage: 125.7 KB\n"
     ]
    },
    {
     "data": {
      "text/html": [
       "<div>\n",
       "<style scoped>\n",
       "    .dataframe tbody tr th:only-of-type {\n",
       "        vertical-align: middle;\n",
       "    }\n",
       "\n",
       "    .dataframe tbody tr th {\n",
       "        vertical-align: top;\n",
       "    }\n",
       "\n",
       "    .dataframe thead th {\n",
       "        text-align: right;\n",
       "    }\n",
       "</style>\n",
       "<table border=\"1\" class=\"dataframe\">\n",
       "  <thead>\n",
       "    <tr style=\"text-align: right;\">\n",
       "      <th></th>\n",
       "      <th>calls</th>\n",
       "      <th>minutes</th>\n",
       "      <th>messages</th>\n",
       "      <th>mb_used</th>\n",
       "      <th>is_ultra</th>\n",
       "    </tr>\n",
       "  </thead>\n",
       "  <tbody>\n",
       "    <tr>\n",
       "      <th>0</th>\n",
       "      <td>40.0</td>\n",
       "      <td>311.90</td>\n",
       "      <td>83.0</td>\n",
       "      <td>19915.42</td>\n",
       "      <td>0</td>\n",
       "    </tr>\n",
       "    <tr>\n",
       "      <th>1</th>\n",
       "      <td>85.0</td>\n",
       "      <td>516.75</td>\n",
       "      <td>56.0</td>\n",
       "      <td>22696.96</td>\n",
       "      <td>0</td>\n",
       "    </tr>\n",
       "    <tr>\n",
       "      <th>2</th>\n",
       "      <td>77.0</td>\n",
       "      <td>467.66</td>\n",
       "      <td>86.0</td>\n",
       "      <td>21060.45</td>\n",
       "      <td>0</td>\n",
       "    </tr>\n",
       "    <tr>\n",
       "      <th>3</th>\n",
       "      <td>106.0</td>\n",
       "      <td>745.53</td>\n",
       "      <td>81.0</td>\n",
       "      <td>8437.39</td>\n",
       "      <td>1</td>\n",
       "    </tr>\n",
       "    <tr>\n",
       "      <th>4</th>\n",
       "      <td>66.0</td>\n",
       "      <td>418.74</td>\n",
       "      <td>1.0</td>\n",
       "      <td>14502.75</td>\n",
       "      <td>0</td>\n",
       "    </tr>\n",
       "  </tbody>\n",
       "</table>\n",
       "</div>"
      ],
      "text/plain": [
       "   calls  minutes  messages   mb_used  is_ultra\n",
       "0   40.0   311.90      83.0  19915.42         0\n",
       "1   85.0   516.75      56.0  22696.96         0\n",
       "2   77.0   467.66      86.0  21060.45         0\n",
       "3  106.0   745.53      81.0   8437.39         1\n",
       "4   66.0   418.74       1.0  14502.75         0"
      ]
     },
     "execution_count": 1,
     "metadata": {},
     "output_type": "execute_result"
    }
   ],
   "source": [
    "import pandas as pd \n",
    "from sklearn.model_selection import train_test_split \n",
    "from sklearn.tree import DecisionTreeClassifier \n",
    "from sklearn.ensemble import RandomForestClassifier \n",
    "from sklearn.linear_model import LogisticRegression \n",
    "from sklearn.metrics import accuracy_score \n",
    "from sklearn.dummy import DummyClassifier \n",
    "\n",
    "\n",
    "df = pd.read_csv('/datasets/users_behavior.csv') \n",
    "df.info() \n",
    "df.head() "
   ]
  },
  {
   "cell_type": "code",
   "execution_count": 2,
   "metadata": {
    "scrolled": false
   },
   "outputs": [
    {
     "data": {
      "text/html": [
       "<div>\n",
       "<style scoped>\n",
       "    .dataframe tbody tr th:only-of-type {\n",
       "        vertical-align: middle;\n",
       "    }\n",
       "\n",
       "    .dataframe tbody tr th {\n",
       "        vertical-align: top;\n",
       "    }\n",
       "\n",
       "    .dataframe thead th {\n",
       "        text-align: right;\n",
       "    }\n",
       "</style>\n",
       "<table border=\"1\" class=\"dataframe\">\n",
       "  <thead>\n",
       "    <tr style=\"text-align: right;\">\n",
       "      <th></th>\n",
       "      <th>calls</th>\n",
       "      <th>minutes</th>\n",
       "      <th>messages</th>\n",
       "      <th>mb_used</th>\n",
       "      <th>is_ultra</th>\n",
       "    </tr>\n",
       "  </thead>\n",
       "  <tbody>\n",
       "    <tr>\n",
       "      <th>calls</th>\n",
       "      <td>1.000000</td>\n",
       "      <td>0.982083</td>\n",
       "      <td>0.177385</td>\n",
       "      <td>0.286442</td>\n",
       "      <td>0.207122</td>\n",
       "    </tr>\n",
       "    <tr>\n",
       "      <th>minutes</th>\n",
       "      <td>0.982083</td>\n",
       "      <td>1.000000</td>\n",
       "      <td>0.173110</td>\n",
       "      <td>0.280967</td>\n",
       "      <td>0.206955</td>\n",
       "    </tr>\n",
       "    <tr>\n",
       "      <th>messages</th>\n",
       "      <td>0.177385</td>\n",
       "      <td>0.173110</td>\n",
       "      <td>1.000000</td>\n",
       "      <td>0.195721</td>\n",
       "      <td>0.203830</td>\n",
       "    </tr>\n",
       "    <tr>\n",
       "      <th>mb_used</th>\n",
       "      <td>0.286442</td>\n",
       "      <td>0.280967</td>\n",
       "      <td>0.195721</td>\n",
       "      <td>1.000000</td>\n",
       "      <td>0.198568</td>\n",
       "    </tr>\n",
       "    <tr>\n",
       "      <th>is_ultra</th>\n",
       "      <td>0.207122</td>\n",
       "      <td>0.206955</td>\n",
       "      <td>0.203830</td>\n",
       "      <td>0.198568</td>\n",
       "      <td>1.000000</td>\n",
       "    </tr>\n",
       "  </tbody>\n",
       "</table>\n",
       "</div>"
      ],
      "text/plain": [
       "             calls   minutes  messages   mb_used  is_ultra\n",
       "calls     1.000000  0.982083  0.177385  0.286442  0.207122\n",
       "minutes   0.982083  1.000000  0.173110  0.280967  0.206955\n",
       "messages  0.177385  0.173110  1.000000  0.195721  0.203830\n",
       "mb_used   0.286442  0.280967  0.195721  1.000000  0.198568\n",
       "is_ultra  0.207122  0.206955  0.203830  0.198568  1.000000"
      ]
     },
     "execution_count": 2,
     "metadata": {},
     "output_type": "execute_result"
    }
   ],
   "source": [
    "df.corr()"
   ]
  },
  {
   "cell_type": "code",
   "execution_count": 3,
   "metadata": {},
   "outputs": [
    {
     "data": {
      "text/plain": [
       "0"
      ]
     },
     "execution_count": 3,
     "metadata": {},
     "output_type": "execute_result"
    }
   ],
   "source": [
    "df.duplicated().sum()"
   ]
  },
  {
   "cell_type": "markdown",
   "metadata": {},
   "source": [
    "### Conclusion\n",
    "The first step was to read and examine the data file.<br/>\n",
    "The data does not contain gaps, duplicates, is converted to the correct types and has clear column names. No further data preprocessing is required.<br/>\n",
    "\n",
    "The dataset contains 5 columns:<br/>\n",
    "`calls` — number of calls,<br/>\n",
    "`minutes` — total duration of calls in minutes,<br/>\n",
    "`messages` — number of sms messages,<br/>\n",
    "`mb_used` — Internet traffic used in Mb,<br/>\n",
    "-> for further research being **features for learning**\n",
    "\n",
    "`is_ultra` - which tariff was used during the month (\"Ultra\" - 1, \"Smart\" - 0)<br/>\n",
    "-> **target feature**"
   ]
  },
  {
   "cell_type": "markdown",
   "metadata": {},
   "source": [
    "<a id='second'></a>\n",
    "## 2. Break the data into samples"
   ]
  },
  {
   "cell_type": "markdown",
   "metadata": {},
   "source": [
    "In order to split the data into training, validation and test samples, the ratio of 3:1:1 is proposed."
   ]
  },
  {
   "cell_type": "code",
   "execution_count": 4,
   "metadata": {},
   "outputs": [
    {
     "data": {
      "text/plain": [
       "(1928, 4)"
      ]
     },
     "metadata": {},
     "output_type": "display_data"
    },
    {
     "data": {
      "text/plain": [
       "(643, 4)"
      ]
     },
     "metadata": {},
     "output_type": "display_data"
    },
    {
     "data": {
      "text/plain": [
       "(643, 4)"
      ]
     },
     "execution_count": 4,
     "metadata": {},
     "output_type": "execute_result"
    }
   ],
   "source": [
    "features = df.drop('is_ultra',1) \n",
    "target = df['is_ultra'] \n",
    "\n",
    "features_train_1, features_test, target_train_1, target_test = train_test_split(features, target, test_size=0.2, random_state=12345)  \n",
    "features_train, features_valid, target_train, target_valid = train_test_split(features_train_1, target_train_1, test_size=0.25, random_state=12345) \n",
    "\n",
    "display(features_train.shape) #check\n",
    "display(features_test.shape) #check\n",
    "features_valid.shape #check"
   ]
  },
  {
   "cell_type": "markdown",
   "metadata": {},
   "source": [
    "### Conclusion\n",
    "At the second step, the data was split into training, validation and test sets in a ratio of 3:1:1. Features and target were also allocated."
   ]
  },
  {
   "cell_type": "markdown",
   "metadata": {},
   "source": [
    "<a id='third'></a>\n",
    "## 3.  Explore Models"
   ]
  },
  {
   "cell_type": "markdown",
   "metadata": {},
   "source": [
    "For the study, the following classification models are proposed:\n",
    "\n",
    "1) **Decision Tree** - `DecisionTreeClassifier`; <br/>\n",
    "2) **Random Forest** - `RandomForestClassifier`; <br/>\n",
    "3) **Logistic Regression** - `LogisticRegression`.\n",
    "\n",
    "The quality of the models will be assessed by the `accuracy` metric - the ratio of the number of correct answers to the sample size. Quality control will be carried out on the validation sample.\n",
    "\n",
    "For experiments with models, it is proposed to enumerate hyperparameters: <br/>\n",
    "a) `max_depth` (depth of the \"tree\") from 1 to 10;<br/>\n",
    "b) `n_estimators` (number of \"trees\") from 10 to 40, (with a step of 5)."
   ]
  },
  {
   "cell_type": "code",
   "execution_count": 5,
   "metadata": {},
   "outputs": [
    {
     "name": "stdout",
     "output_type": "stream",
     "text": [
      "Accuracy best model: 0.7744945567651633\n",
      "Max_depth: 7\n"
     ]
    }
   ],
   "source": [
    "#DecisionTree\n",
    "best_model_tree = None\n",
    "best_accuracy = 0\n",
    "best_depth = 0\n",
    "for depth in range(1,11): \n",
    "    model = DecisionTreeClassifier(random_state=12345, max_depth=depth) \n",
    "    model.fit(features_train, target_train) \n",
    "    predictions_valid = model.predict(features_valid) \n",
    "    accuracy = accuracy_score(target_valid, predictions_valid) \n",
    "    if accuracy > best_accuracy: \n",
    "        best_model_tree = model\n",
    "        best_accuracy = accuracy\n",
    "        best_depth = depth\n",
    "\n",
    "print(\"Accuracy best model:\", best_accuracy)\n",
    "print(\"Max_depth:\", best_depth) "
   ]
  },
  {
   "cell_type": "code",
   "execution_count": 6,
   "metadata": {},
   "outputs": [
    {
     "name": "stdout",
     "output_type": "stream",
     "text": [
      "Accuracy best model: 0.7978227060653188\n",
      "Max_depth: 10 Estimators: 35\n"
     ]
    }
   ],
   "source": [
    "#RandomForest\n",
    "best_model_forest = None \n",
    "best_accuracy = 0\n",
    "best_depth = 0\n",
    "best_est = 0\n",
    "for est in range(10, 41, 5): \n",
    "    for depth in range(1,11): \n",
    "        model = RandomForestClassifier(random_state=12345, max_depth=depth, n_estimators=est) \n",
    "        model.fit(features_train, target_train) \n",
    "        predictions_valid = model.predict(features_valid)\n",
    "        accuracy = accuracy_score(target_valid, predictions_valid) \n",
    "        if accuracy > best_accuracy:  \n",
    "            best_model_forest = model\n",
    "            best_accuracy = accuracy\n",
    "            best_depth = depth\n",
    "            best_est = est\n",
    "\n",
    "print(\"Accuracy best model:\", best_accuracy)\n",
    "print(\"Max_depth:\", best_depth,\"Estimators:\", best_est) \n"
   ]
  },
  {
   "cell_type": "code",
   "execution_count": 7,
   "metadata": {},
   "outputs": [
    {
     "name": "stdout",
     "output_type": "stream",
     "text": [
      "Accuracy best model: 0.7262830482115086\n"
     ]
    }
   ],
   "source": [
    "#LogisticRegression\n",
    "model_regression = LogisticRegression(random_state=12345, solver='lbfgs') # solver to avoid future warning\n",
    "model_regression.fit(features_train, target_train) \n",
    "print(\"Accuracy best model:\", model_regression.score(features_valid, target_valid)) "
   ]
  },
  {
   "cell_type": "markdown",
   "metadata": {},
   "source": [
    "### Conclusion\n",
    "In the third step, three hyperparameter enumeration models were explored. The **Random forest** model with the following parameters: **tree depth 10 and number of trees 35** has the highest accuracy (the quality assessment metric used to test the models). <br/>\n",
    "This model will be used for testing on a test sample."
   ]
  },
  {
   "cell_type": "markdown",
   "metadata": {},
   "source": [
    "<a id='fourth'></a>\n",
    "## 4. Check the model on the test sample"
   ]
  },
  {
   "cell_type": "code",
   "execution_count": 8,
   "metadata": {},
   "outputs": [
    {
     "name": "stdout",
     "output_type": "stream",
     "text": [
      "Accuracy test 0.7993779160186625\n"
     ]
    }
   ],
   "source": [
    "predictions_test = best_model_forest.predict(features_test) \n",
    "test_accuracy = accuracy_score(target_test, predictions_test) \n",
    "print(\"Accuracy test\", test_accuracy) "
   ]
  },
  {
   "cell_type": "markdown",
   "metadata": {},
   "source": [
    "### Conclusion\n",
    "The task was to build a model with the highest possible accuracy, while the accuracy should not be lower than 0.75.\n",
    "\n",
    "At the third step, this task was completed, test at the fourth step confirmed this. Test data model check showed an accuracy of 0.799.\n",
    "\n",
    "Thus, the **Random forest model** is proposed with the following parameters: **the depth 10 and the number of \"trees\" 35**."
   ]
  },
  {
   "cell_type": "markdown",
   "metadata": {},
   "source": [
    "<a id='fifth'></a>\n",
    "## 5. Adequacy test"
   ]
  },
  {
   "cell_type": "markdown",
   "metadata": {},
   "source": [
    "To carry out the model adequacy test, called sanity check, it is proposed to use the comparison of accuracy on the test sample with the accuracy of predictions from the Dummy Classifier (`DummyClassifier`). For the Classifier, it is proposed to set the strategy parameter (`strategy`) as **most_frequent** - i.e. the largest class, which will be predicted for all elements. The model passes the adequacy test if the accuracy of the model from the Dummy Classifier is lower."
   ]
  },
  {
   "cell_type": "code",
   "execution_count": 9,
   "metadata": {
    "scrolled": false
   },
   "outputs": [
    {
     "name": "stdout",
     "output_type": "stream",
     "text": [
      "Dummy accuracy 0.6951788491446346\n",
      "Accuracy random forest 0.7993779160186625\n",
      "The model did pass the adequacy test\n"
     ]
    }
   ],
   "source": [
    "model_sanity = DummyClassifier(strategy='most_frequent') \n",
    "model_sanity.fit(features_train, target_train) \n",
    "sanity_accuracy = model_sanity.score(features_test, target_test) \n",
    "print(\"Dummy accuracy\", sanity_accuracy) \n",
    "print(\"Accuracy random forest\", test_accuracy)  \n",
    "if sanity_accuracy >= test_accuracy:  \n",
    "    print('The model did not pass the adequacy test', ) \n",
    "else: \n",
    "    print('The model did pass the adequacy test') "
   ]
  },
  {
   "cell_type": "markdown",
   "metadata": {},
   "source": [
    "In addition to the model chosen at step 3, it is also proposed to test the DecisionTree and LogisticRegression models for adequacy."
   ]
  },
  {
   "cell_type": "code",
   "execution_count": 10,
   "metadata": {},
   "outputs": [
    {
     "name": "stdout",
     "output_type": "stream",
     "text": [
      "Accuracy test: 0.7884914463452566\n",
      "DecisionTree did pass the adequacy test\n",
      "\n",
      "Accuracy test: 0.7589424572317263\n",
      "LogisticRegression did pass the adequacy test\n"
     ]
    }
   ],
   "source": [
    "test_accuracy_tree = accuracy_score(target_test, best_model_tree.predict(features_test)) #accuracy test for tree\n",
    "print(\"Accuracy test:\", test_accuracy_tree)\n",
    "if sanity_accuracy >= test_accuracy_tree: \n",
    "    print('DecisionTree did not pass the adequacy test', ) \n",
    "else: \n",
    "    print('DecisionTree did pass the adequacy test') \n",
    "print()\n",
    "\n",
    "test_accuracy_regression = accuracy_score(target_test, model_regression.predict(features_test)) #accuracy test regression\n",
    "print(\"Accuracy test:\", test_accuracy_regression) \n",
    "if sanity_accuracy >= test_accuracy_regression: \n",
    "    print('LogisticRegression did not pass the adequacy test', ) \n",
    "else: \n",
    "    print('LogisticRegression did pass the adequacy test') "
   ]
  },
  {
   "cell_type": "markdown",
   "metadata": {},
   "source": [
    "### Conclusion\n",
    "The model used in step 4 has passed the adequacy test.\n",
    "\n",
    "Besides, the DecisionTree and LogisticRegression models were also tested on test sample - both models have also passed the test."
   ]
  },
  {
   "cell_type": "markdown",
   "metadata": {},
   "source": [
    "<a id='sixth'></a>\n",
    "## 6. Summary"
   ]
  },
  {
   "cell_type": "markdown",
   "metadata": {},
   "source": [
    "Thus, a model with the highest *accuracy* value was built and tested: **Random forest** with parameters: **depth of the \"tree\" 10 and the number of \"trees\" 35**. The proportion of correct answers was 0.799 on a test sample (and 0.7978 - validation stage). <br/>\n",
    "The model was also tested for adequacy - sanity check."
   ]
  }
 ],
 "metadata": {
  "ExecuteTimeLog": [
   {
    "duration": 5195,
    "start_time": "2022-02-13T15:37:51.304Z"
   },
   {
    "duration": 720,
    "start_time": "2022-02-13T15:42:36.220Z"
   },
   {
    "duration": 1073,
    "start_time": "2022-02-13T19:06:58.907Z"
   },
   {
    "duration": 257,
    "start_time": "2022-02-13T19:08:19.538Z"
   },
   {
    "duration": 7,
    "start_time": "2022-02-13T19:11:32.337Z"
   },
   {
    "duration": 8,
    "start_time": "2022-02-13T19:11:52.480Z"
   },
   {
    "duration": 12,
    "start_time": "2022-02-13T19:12:03.263Z"
   },
   {
    "duration": 169,
    "start_time": "2022-02-13T19:13:27.235Z"
   },
   {
    "duration": 9,
    "start_time": "2022-02-13T19:13:33.901Z"
   },
   {
    "duration": 10,
    "start_time": "2022-02-13T19:13:35.332Z"
   },
   {
    "duration": 9,
    "start_time": "2022-02-13T19:18:00.822Z"
   },
   {
    "duration": 8,
    "start_time": "2022-02-13T19:18:02.185Z"
   },
   {
    "duration": 10,
    "start_time": "2022-02-13T19:18:08.220Z"
   },
   {
    "duration": 9,
    "start_time": "2022-02-13T19:18:13.271Z"
   },
   {
    "duration": 14,
    "start_time": "2022-02-13T19:32:41.851Z"
   },
   {
    "duration": 34,
    "start_time": "2022-02-13T19:32:51.604Z"
   },
   {
    "duration": 204,
    "start_time": "2022-02-13T19:32:59.574Z"
   },
   {
    "duration": 64,
    "start_time": "2022-02-13T19:33:05.210Z"
   },
   {
    "duration": 52,
    "start_time": "2022-02-13T19:33:09.183Z"
   },
   {
    "duration": 53,
    "start_time": "2022-02-13T19:33:11.259Z"
   },
   {
    "duration": 17,
    "start_time": "2022-02-13T19:33:15.509Z"
   },
   {
    "duration": 19,
    "start_time": "2022-02-13T19:33:18.613Z"
   },
   {
    "duration": 25,
    "start_time": "2022-02-13T19:33:22.566Z"
   },
   {
    "duration": 28,
    "start_time": "2022-02-13T19:33:26.024Z"
   },
   {
    "duration": 33,
    "start_time": "2022-02-13T19:33:28.369Z"
   },
   {
    "duration": 55,
    "start_time": "2022-02-13T19:33:42.258Z"
   },
   {
    "duration": 1426,
    "start_time": "2022-02-13T19:44:02.454Z"
   },
   {
    "duration": 10,
    "start_time": "2022-02-13T19:44:03.882Z"
   },
   {
    "duration": 13,
    "start_time": "2022-02-13T19:44:03.894Z"
   },
   {
    "duration": 61,
    "start_time": "2022-02-13T19:44:03.909Z"
   },
   {
    "duration": 58,
    "start_time": "2022-02-13T19:44:03.972Z"
   },
   {
    "duration": 3683,
    "start_time": "2022-02-13T19:44:37.572Z"
   },
   {
    "duration": 53,
    "start_time": "2022-02-13T19:44:45.596Z"
   },
   {
    "duration": 3199,
    "start_time": "2022-02-13T19:44:49.445Z"
   },
   {
    "duration": 3117,
    "start_time": "2022-02-13T19:44:53.381Z"
   },
   {
    "duration": 3767,
    "start_time": "2022-02-13T19:45:08.790Z"
   },
   {
    "duration": 5745,
    "start_time": "2022-02-13T19:45:24.303Z"
   },
   {
    "duration": 3247,
    "start_time": "2022-02-13T19:45:36.516Z"
   },
   {
    "duration": 2156,
    "start_time": "2022-02-13T19:45:52.703Z"
   },
   {
    "duration": 3701,
    "start_time": "2022-02-13T19:46:00.915Z"
   },
   {
    "duration": 3703,
    "start_time": "2022-02-13T19:47:18.055Z"
   },
   {
    "duration": 14,
    "start_time": "2022-02-13T19:49:39.941Z"
   },
   {
    "duration": 247,
    "start_time": "2022-02-13T19:49:55.198Z"
   },
   {
    "duration": 13,
    "start_time": "2022-02-13T19:50:08.892Z"
   },
   {
    "duration": 15,
    "start_time": "2022-02-13T19:51:04.414Z"
   },
   {
    "duration": 16,
    "start_time": "2022-02-13T19:51:07.202Z"
   },
   {
    "duration": 67,
    "start_time": "2022-02-13T19:52:47.895Z"
   },
   {
    "duration": 25,
    "start_time": "2022-02-13T19:53:29.901Z"
   },
   {
    "duration": 250,
    "start_time": "2022-02-13T19:53:36.455Z"
   },
   {
    "duration": 107,
    "start_time": "2022-02-13T19:53:54.001Z"
   },
   {
    "duration": 11,
    "start_time": "2022-02-13T19:54:58.286Z"
   },
   {
    "duration": 18,
    "start_time": "2022-02-13T19:55:33.030Z"
   },
   {
    "duration": 10,
    "start_time": "2022-02-13T19:55:45.762Z"
   },
   {
    "duration": 9,
    "start_time": "2022-02-13T19:55:51.226Z"
   },
   {
    "duration": 32,
    "start_time": "2022-02-13T19:56:08.422Z"
   },
   {
    "duration": 220,
    "start_time": "2022-02-13T19:57:03.090Z"
   },
   {
    "duration": 31,
    "start_time": "2022-02-13T19:57:12.123Z"
   },
   {
    "duration": 29,
    "start_time": "2022-02-13T20:03:30.521Z"
   },
   {
    "duration": 10,
    "start_time": "2022-02-13T20:10:33.721Z"
   },
   {
    "duration": 10,
    "start_time": "2022-02-13T20:11:28.647Z"
   },
   {
    "duration": 1138,
    "start_time": "2022-02-13T20:18:41.707Z"
   },
   {
    "duration": 8,
    "start_time": "2022-02-13T20:18:42.847Z"
   },
   {
    "duration": 11,
    "start_time": "2022-02-13T20:18:42.857Z"
   },
   {
    "duration": 78,
    "start_time": "2022-02-13T20:18:42.870Z"
   },
   {
    "duration": 3982,
    "start_time": "2022-02-13T20:18:42.950Z"
   },
   {
    "duration": 29,
    "start_time": "2022-02-13T20:18:46.934Z"
   },
   {
    "duration": 10,
    "start_time": "2022-02-13T20:18:46.964Z"
   },
   {
    "duration": 23,
    "start_time": "2022-02-13T20:39:47.718Z"
   },
   {
    "duration": 6,
    "start_time": "2022-02-13T20:42:08.504Z"
   },
   {
    "duration": 6,
    "start_time": "2022-02-13T20:42:22.667Z"
   },
   {
    "duration": 5,
    "start_time": "2022-02-13T20:42:31.419Z"
   },
   {
    "duration": 10,
    "start_time": "2022-02-13T20:43:07.505Z"
   },
   {
    "duration": 6,
    "start_time": "2022-02-13T20:44:51.440Z"
   },
   {
    "duration": 5,
    "start_time": "2022-02-13T20:44:58.002Z"
   },
   {
    "duration": 7,
    "start_time": "2022-02-13T20:50:39.458Z"
   },
   {
    "duration": 7,
    "start_time": "2022-02-13T20:50:50.899Z"
   },
   {
    "duration": 253,
    "start_time": "2022-02-13T20:51:20.724Z"
   },
   {
    "duration": 164,
    "start_time": "2022-02-13T20:51:24.070Z"
   },
   {
    "duration": 7,
    "start_time": "2022-02-13T20:51:27.738Z"
   },
   {
    "duration": 6,
    "start_time": "2022-02-13T20:51:36.065Z"
   },
   {
    "duration": 6,
    "start_time": "2022-02-13T20:51:41.902Z"
   },
   {
    "duration": 6,
    "start_time": "2022-02-13T20:51:44.835Z"
   },
   {
    "duration": 8,
    "start_time": "2022-02-13T20:51:48.788Z"
   },
   {
    "duration": 6,
    "start_time": "2022-02-13T20:51:58.852Z"
   },
   {
    "duration": 5,
    "start_time": "2022-02-13T20:54:45.593Z"
   },
   {
    "duration": 1033,
    "start_time": "2022-02-13T20:56:04.744Z"
   },
   {
    "duration": 9,
    "start_time": "2022-02-13T20:56:05.779Z"
   },
   {
    "duration": 9,
    "start_time": "2022-02-13T20:56:05.790Z"
   },
   {
    "duration": 63,
    "start_time": "2022-02-13T20:56:05.801Z"
   },
   {
    "duration": 3709,
    "start_time": "2022-02-13T20:56:05.865Z"
   },
   {
    "duration": 55,
    "start_time": "2022-02-13T20:56:09.576Z"
   },
   {
    "duration": 14,
    "start_time": "2022-02-13T20:56:09.633Z"
   },
   {
    "duration": 6,
    "start_time": "2022-02-13T20:56:09.648Z"
   },
   {
    "duration": 6,
    "start_time": "2022-02-13T20:56:17.701Z"
   },
   {
    "duration": 1050,
    "start_time": "2022-02-13T21:00:30.438Z"
   },
   {
    "duration": 9,
    "start_time": "2022-02-13T21:00:31.490Z"
   },
   {
    "duration": 7,
    "start_time": "2022-02-13T21:00:31.501Z"
   },
   {
    "duration": 68,
    "start_time": "2022-02-13T21:00:31.510Z"
   },
   {
    "duration": 3730,
    "start_time": "2022-02-13T21:00:31.580Z"
   },
   {
    "duration": 41,
    "start_time": "2022-02-13T21:00:35.312Z"
   },
   {
    "duration": 10,
    "start_time": "2022-02-13T21:00:35.355Z"
   },
   {
    "duration": 5,
    "start_time": "2022-02-13T21:00:35.367Z"
   },
   {
    "duration": 59,
    "start_time": "2022-02-13T21:09:04.952Z"
   },
   {
    "duration": 8,
    "start_time": "2022-02-13T21:09:18.496Z"
   },
   {
    "duration": 8,
    "start_time": "2022-02-13T21:11:10.853Z"
   },
   {
    "duration": 1032,
    "start_time": "2022-02-13T21:11:49.655Z"
   },
   {
    "duration": 8,
    "start_time": "2022-02-13T21:11:50.688Z"
   },
   {
    "duration": 7,
    "start_time": "2022-02-13T21:11:50.698Z"
   },
   {
    "duration": 68,
    "start_time": "2022-02-13T21:11:50.706Z"
   },
   {
    "duration": 3780,
    "start_time": "2022-02-13T21:11:50.776Z"
   },
   {
    "duration": 28,
    "start_time": "2022-02-13T21:11:54.558Z"
   },
   {
    "duration": 9,
    "start_time": "2022-02-13T21:11:54.588Z"
   },
   {
    "duration": 4,
    "start_time": "2022-02-13T21:11:54.599Z"
   },
   {
    "duration": 29,
    "start_time": "2022-02-13T21:11:54.605Z"
   },
   {
    "duration": 68,
    "start_time": "2022-02-14T13:10:20.270Z"
   },
   {
    "duration": 381,
    "start_time": "2022-02-14T15:02:15.256Z"
   },
   {
    "duration": 331,
    "start_time": "2022-02-14T15:02:42.596Z"
   },
   {
    "duration": 1121,
    "start_time": "2022-02-14T15:02:46.646Z"
   },
   {
    "duration": 9,
    "start_time": "2022-02-14T15:02:50.719Z"
   },
   {
    "duration": 8,
    "start_time": "2022-02-14T15:05:05.537Z"
   },
   {
    "duration": 16,
    "start_time": "2022-02-14T15:14:17.949Z"
   },
   {
    "duration": 11,
    "start_time": "2022-02-14T15:14:32.327Z"
   },
   {
    "duration": 129,
    "start_time": "2022-02-14T15:16:51.666Z"
   },
   {
    "duration": 51,
    "start_time": "2022-02-14T15:16:56.945Z"
   },
   {
    "duration": 83,
    "start_time": "2022-02-14T15:17:14.504Z"
   },
   {
    "duration": 128,
    "start_time": "2022-02-14T15:18:14.802Z"
   },
   {
    "duration": 3695,
    "start_time": "2022-02-14T15:18:20.040Z"
   },
   {
    "duration": 28,
    "start_time": "2022-02-14T15:18:56.659Z"
   },
   {
    "duration": 11,
    "start_time": "2022-02-14T15:19:26.600Z"
   },
   {
    "duration": 7,
    "start_time": "2022-02-14T15:19:50.614Z"
   },
   {
    "duration": 8,
    "start_time": "2022-02-14T15:20:19.942Z"
   },
   {
    "duration": 8,
    "start_time": "2022-02-14T15:22:22.848Z"
   },
   {
    "duration": 6,
    "start_time": "2022-02-14T15:22:27.699Z"
   },
   {
    "duration": 7,
    "start_time": "2022-02-14T15:22:37.815Z"
   },
   {
    "duration": 8,
    "start_time": "2022-02-14T15:22:40.868Z"
   },
   {
    "duration": 1101,
    "start_time": "2022-02-14T15:24:20.233Z"
   },
   {
    "duration": 8,
    "start_time": "2022-02-14T15:24:21.336Z"
   },
   {
    "duration": 6,
    "start_time": "2022-02-14T15:24:21.347Z"
   },
   {
    "duration": 21,
    "start_time": "2022-02-14T15:24:21.354Z"
   },
   {
    "duration": 50,
    "start_time": "2022-02-14T15:24:21.377Z"
   },
   {
    "duration": 4052,
    "start_time": "2022-02-14T15:24:21.429Z"
   },
   {
    "duration": 28,
    "start_time": "2022-02-14T15:24:25.482Z"
   },
   {
    "duration": 10,
    "start_time": "2022-02-14T15:24:25.511Z"
   },
   {
    "duration": 5,
    "start_time": "2022-02-14T15:24:25.523Z"
   },
   {
    "duration": 43,
    "start_time": "2022-02-14T15:24:25.530Z"
   },
   {
    "duration": 6,
    "start_time": "2022-02-14T15:25:23.816Z"
   },
   {
    "duration": 9,
    "start_time": "2022-02-14T15:25:54.465Z"
   },
   {
    "duration": 1141,
    "start_time": "2022-09-06T18:31:23.798Z"
   },
   {
    "duration": 8,
    "start_time": "2022-09-06T18:31:24.941Z"
   },
   {
    "duration": 7,
    "start_time": "2022-09-06T18:31:24.951Z"
   },
   {
    "duration": 21,
    "start_time": "2022-09-06T18:31:24.960Z"
   },
   {
    "duration": 62,
    "start_time": "2022-09-06T18:31:24.983Z"
   },
   {
    "duration": 3838,
    "start_time": "2022-09-06T18:31:25.054Z"
   },
   {
    "duration": 31,
    "start_time": "2022-09-06T18:31:28.893Z"
   },
   {
    "duration": 12,
    "start_time": "2022-09-06T18:31:28.925Z"
   },
   {
    "duration": 5,
    "start_time": "2022-09-06T18:31:28.954Z"
   },
   {
    "duration": 10,
    "start_time": "2022-09-06T18:31:28.961Z"
   }
  ],
  "kernelspec": {
   "display_name": "Python 3 (ipykernel)",
   "language": "python",
   "name": "python3"
  },
  "language_info": {
   "codemirror_mode": {
    "name": "ipython",
    "version": 3
   },
   "file_extension": ".py",
   "mimetype": "text/x-python",
   "name": "python",
   "nbconvert_exporter": "python",
   "pygments_lexer": "ipython3",
   "version": "3.9.12"
  },
  "toc": {
   "base_numbering": 1,
   "nav_menu": {},
   "number_sections": true,
   "sideBar": true,
   "skip_h1_title": true,
   "title_cell": "Table of Contents",
   "title_sidebar": "Contents",
   "toc_cell": false,
   "toc_position": {},
   "toc_section_display": true,
   "toc_window_display": false
  }
 },
 "nbformat": 4,
 "nbformat_minor": 2
}
