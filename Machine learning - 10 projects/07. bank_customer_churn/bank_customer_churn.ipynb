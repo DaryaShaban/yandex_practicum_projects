{
 "cells": [
  {
   "cell_type": "markdown",
   "metadata": {},
   "source": [
    "# Customer Churn"
   ]
  },
  {
   "cell_type": "markdown",
   "metadata": {},
   "source": [
    "A Client is Beta-Bank, which faced an issue of customers leaving the bank: on a regular basis, little amount, but noticeable. Banking marketers figured it was cheaper to keep current customers than to attract new ones.\n",
    "\n",
    "The aim is to predict whether the client will leave the bank in the near future or not. \n",
    "Data - is historical data on customer behavior and termination of agreements with the bank.\n",
    "\n",
    "The measure for a model is *F1*-measure. The metric should be at least 0.59. Additionally, measure *AUC-ROC* needs to be found and compared to the value of *F1*-measure."
   ]
  },
  {
   "cell_type": "markdown",
   "metadata": {},
   "source": [
    "## 1. Data preprocessing"
   ]
  },
  {
   "cell_type": "code",
   "execution_count": 1,
   "metadata": {
    "scrolled": true
   },
   "outputs": [],
   "source": [
    "import pandas as pd \n",
    "import numpy as np\n",
    "import seaborn as sn\n",
    "from sklearn.model_selection import train_test_split\n",
    "from sklearn.preprocessing import StandardScaler\n",
    "from sklearn.metrics import f1_score, roc_auc_score, roc_curve\n",
    "from sklearn.linear_model import LogisticRegression\n",
    "from sklearn.tree import DecisionTreeClassifier\n",
    "from sklearn.ensemble import RandomForestClassifier\n",
    "from sklearn.utils import shuffle\n",
    "import matplotlib.pyplot as plt"
   ]
  },
  {
   "cell_type": "code",
   "execution_count": 2,
   "metadata": {},
   "outputs": [
    {
     "name": "stdout",
     "output_type": "stream",
     "text": [
      "<class 'pandas.core.frame.DataFrame'>\n",
      "RangeIndex: 10000 entries, 0 to 9999\n",
      "Data columns (total 14 columns):\n",
      " #   Column           Non-Null Count  Dtype  \n",
      "---  ------           --------------  -----  \n",
      " 0   RowNumber        10000 non-null  int64  \n",
      " 1   CustomerId       10000 non-null  int64  \n",
      " 2   Surname          10000 non-null  object \n",
      " 3   CreditScore      10000 non-null  int64  \n",
      " 4   Geography        10000 non-null  object \n",
      " 5   Gender           10000 non-null  object \n",
      " 6   Age              10000 non-null  int64  \n",
      " 7   Tenure           9091 non-null   float64\n",
      " 8   Balance          10000 non-null  float64\n",
      " 9   NumOfProducts    10000 non-null  int64  \n",
      " 10  HasCrCard        10000 non-null  int64  \n",
      " 11  IsActiveMember   10000 non-null  int64  \n",
      " 12  EstimatedSalary  10000 non-null  float64\n",
      " 13  Exited           10000 non-null  int64  \n",
      "dtypes: float64(3), int64(8), object(3)\n",
      "memory usage: 1.1+ MB\n"
     ]
    },
    {
     "data": {
      "text/html": [
       "<div>\n",
       "<style scoped>\n",
       "    .dataframe tbody tr th:only-of-type {\n",
       "        vertical-align: middle;\n",
       "    }\n",
       "\n",
       "    .dataframe tbody tr th {\n",
       "        vertical-align: top;\n",
       "    }\n",
       "\n",
       "    .dataframe thead th {\n",
       "        text-align: right;\n",
       "    }\n",
       "</style>\n",
       "<table border=\"1\" class=\"dataframe\">\n",
       "  <thead>\n",
       "    <tr style=\"text-align: right;\">\n",
       "      <th></th>\n",
       "      <th>RowNumber</th>\n",
       "      <th>CustomerId</th>\n",
       "      <th>Surname</th>\n",
       "      <th>CreditScore</th>\n",
       "      <th>Geography</th>\n",
       "      <th>Gender</th>\n",
       "      <th>Age</th>\n",
       "      <th>Tenure</th>\n",
       "      <th>Balance</th>\n",
       "      <th>NumOfProducts</th>\n",
       "      <th>HasCrCard</th>\n",
       "      <th>IsActiveMember</th>\n",
       "      <th>EstimatedSalary</th>\n",
       "      <th>Exited</th>\n",
       "    </tr>\n",
       "  </thead>\n",
       "  <tbody>\n",
       "    <tr>\n",
       "      <th>0</th>\n",
       "      <td>1</td>\n",
       "      <td>15634602</td>\n",
       "      <td>Hargrave</td>\n",
       "      <td>619</td>\n",
       "      <td>France</td>\n",
       "      <td>Female</td>\n",
       "      <td>42</td>\n",
       "      <td>2.0</td>\n",
       "      <td>0.00</td>\n",
       "      <td>1</td>\n",
       "      <td>1</td>\n",
       "      <td>1</td>\n",
       "      <td>101348.88</td>\n",
       "      <td>1</td>\n",
       "    </tr>\n",
       "    <tr>\n",
       "      <th>1</th>\n",
       "      <td>2</td>\n",
       "      <td>15647311</td>\n",
       "      <td>Hill</td>\n",
       "      <td>608</td>\n",
       "      <td>Spain</td>\n",
       "      <td>Female</td>\n",
       "      <td>41</td>\n",
       "      <td>1.0</td>\n",
       "      <td>83807.86</td>\n",
       "      <td>1</td>\n",
       "      <td>0</td>\n",
       "      <td>1</td>\n",
       "      <td>112542.58</td>\n",
       "      <td>0</td>\n",
       "    </tr>\n",
       "    <tr>\n",
       "      <th>2</th>\n",
       "      <td>3</td>\n",
       "      <td>15619304</td>\n",
       "      <td>Onio</td>\n",
       "      <td>502</td>\n",
       "      <td>France</td>\n",
       "      <td>Female</td>\n",
       "      <td>42</td>\n",
       "      <td>8.0</td>\n",
       "      <td>159660.80</td>\n",
       "      <td>3</td>\n",
       "      <td>1</td>\n",
       "      <td>0</td>\n",
       "      <td>113931.57</td>\n",
       "      <td>1</td>\n",
       "    </tr>\n",
       "    <tr>\n",
       "      <th>3</th>\n",
       "      <td>4</td>\n",
       "      <td>15701354</td>\n",
       "      <td>Boni</td>\n",
       "      <td>699</td>\n",
       "      <td>France</td>\n",
       "      <td>Female</td>\n",
       "      <td>39</td>\n",
       "      <td>1.0</td>\n",
       "      <td>0.00</td>\n",
       "      <td>2</td>\n",
       "      <td>0</td>\n",
       "      <td>0</td>\n",
       "      <td>93826.63</td>\n",
       "      <td>0</td>\n",
       "    </tr>\n",
       "    <tr>\n",
       "      <th>4</th>\n",
       "      <td>5</td>\n",
       "      <td>15737888</td>\n",
       "      <td>Mitchell</td>\n",
       "      <td>850</td>\n",
       "      <td>Spain</td>\n",
       "      <td>Female</td>\n",
       "      <td>43</td>\n",
       "      <td>2.0</td>\n",
       "      <td>125510.82</td>\n",
       "      <td>1</td>\n",
       "      <td>1</td>\n",
       "      <td>1</td>\n",
       "      <td>79084.10</td>\n",
       "      <td>0</td>\n",
       "    </tr>\n",
       "  </tbody>\n",
       "</table>\n",
       "</div>"
      ],
      "text/plain": [
       "   RowNumber  CustomerId   Surname  CreditScore Geography  Gender  Age  \\\n",
       "0          1    15634602  Hargrave          619    France  Female   42   \n",
       "1          2    15647311      Hill          608     Spain  Female   41   \n",
       "2          3    15619304      Onio          502    France  Female   42   \n",
       "3          4    15701354      Boni          699    France  Female   39   \n",
       "4          5    15737888  Mitchell          850     Spain  Female   43   \n",
       "\n",
       "   Tenure    Balance  NumOfProducts  HasCrCard  IsActiveMember  \\\n",
       "0     2.0       0.00              1          1               1   \n",
       "1     1.0   83807.86              1          0               1   \n",
       "2     8.0  159660.80              3          1               0   \n",
       "3     1.0       0.00              2          0               0   \n",
       "4     2.0  125510.82              1          1               1   \n",
       "\n",
       "   EstimatedSalary  Exited  \n",
       "0        101348.88       1  \n",
       "1        112542.58       0  \n",
       "2        113931.57       1  \n",
       "3         93826.63       0  \n",
       "4         79084.10       0  "
      ]
     },
     "execution_count": 2,
     "metadata": {},
     "output_type": "execute_result"
    }
   ],
   "source": [
    "data = pd.read_csv('/datasets/Churn.csv')\n",
    "data.info()\n",
    "data.head()"
   ]
  },
  {
   "cell_type": "markdown",
   "metadata": {},
   "source": [
    "The dataset consists of 14 columns and 10,000 rows. \n",
    "The following transformations are offered to the data: <br/>\n",
    "1) There are gaps in the `Tenure` column. It is proposed to analyze these gaps and subsequently replace or remove them; <br/>\n",
    "2) The columns `RowNumber`, `CustomerId` and `Surname` do not affect the construction of the model, because they do not carry quality information for training of the model, so they can be excluded from the dataset; <br/>\n",
    "3) 3 columns have object data type. To transform the data of categorical variables for further training of the model, it is proposed to use the technique of direct coding (One-Hot Encoding (OHE)); <br/>\n",
    "4) It can be also observed, that first 5 lines have quantitative data of different dimensions (eg `Age` (Age) and `Balance` (balance on the card)). To bring the data to the same scale, it is proposed to standardize it using the StandardScaler structure, **preliminarily dividing the samples into training, validation and test**; <br/>\n",
    "5) Also, the features will be analyzed for multicollinearity and if there is a high correlation, the features will be adjusted for linear models."
   ]
  },
  {
   "cell_type": "code",
   "execution_count": 3,
   "metadata": {
    "scrolled": true
   },
   "outputs": [
    {
     "name": "stdout",
     "output_type": "stream",
     "text": [
      "Median Tenure: 5.0\n",
      "Mean Tenure: 4.997690023099769\n",
      "Correlation Tenure with Age, Balance, CreditScore: -0.013134384930796541 -0.007910697992078466 -6.170339999155625e-05\n"
     ]
    },
    {
     "data": {
      "text/plain": [
       "<AxesSubplot:ylabel='Frequency'>"
      ]
     },
     "execution_count": 3,
     "metadata": {},
     "output_type": "execute_result"
    },
    {
     "data": {
      "image/png": "[encoded data removed]",
      "text/plain": [
       "<Figure size 432x288 with 1 Axes>"
      ]
     },
     "metadata": {
      "needs_background": "light"
     },
     "output_type": "display_data"
    }
   ],
   "source": [
    "print('Median Tenure:', data['Tenure'].median())\n",
    "print('Mean Tenure:', data['Tenure'].mean())\n",
    "print('Correlation Tenure with Age, Balance, CreditScore:', data['Tenure'].corr(data['Age']), data['Tenure'].corr(data['Balance']), data['Tenure'].corr(data['CreditScore']))\n",
    "data['Tenure'].plot(kind='hist')"
   ]
  },
  {
   "cell_type": "markdown",
   "metadata": {},
   "source": [
    "The correlation of Tenure with other parameters is weak, the mean and median are close to 5. At the same time, the data is distributed evenly, with a slight increase towards the value of 10. In order to avoid data distortion, distribution distortion, it is proposed to remove rows with gaps in `Tenure`."
   ]
  },
  {
   "cell_type": "code",
   "execution_count": 4,
   "metadata": {
    "scrolled": true
   },
   "outputs": [
    {
     "data": {
      "text/plain": [
       "Index(['CreditScore', 'Geography', 'Gender', 'Age', 'Tenure', 'Balance',\n",
       "       'NumOfProducts', 'HasCrCard', 'IsActiveMember', 'EstimatedSalary',\n",
       "       'Exited'],\n",
       "      dtype='object')"
      ]
     },
     "execution_count": 4,
     "metadata": {},
     "output_type": "execute_result"
    }
   ],
   "source": [
    "#columns and gaps dropping\n",
    "data=data.dropna(axis=0)\n",
    "data = data.drop(['CustomerId', 'Surname', 'RowNumber'], 1)\n",
    "data.columns"
   ]
  },
  {
   "cell_type": "code",
   "execution_count": 5,
   "metadata": {},
   "outputs": [],
   "source": [
    "features = data.drop('Exited', 1)\n",
    "target = data['Exited']"
   ]
  },
  {
   "cell_type": "code",
   "execution_count": 6,
   "metadata": {},
   "outputs": [
    {
     "data": {
      "text/plain": [
       "<AxesSubplot:>"
      ]
     },
     "execution_count": 6,
     "metadata": {},
     "output_type": "execute_result"
    },
    {
     "data": {
      "image/png": "[encoded data removed]",
      "text/plain": [
       "<Figure size 432x288 with 2 Axes>"
      ]
     },
     "metadata": {
      "needs_background": "light"
     },
     "output_type": "display_data"
    }
   ],
   "source": [
    "#multicollinearity check\n",
    "corr_matrix = features.corr()\n",
    "sn.heatmap(corr_matrix)"
   ]
  },
  {
   "cell_type": "markdown",
   "metadata": {},
   "source": [
    "The correlation between the parameters is weak, multicollinearity is not observed."
   ]
  },
  {
   "cell_type": "code",
   "execution_count": 7,
   "metadata": {},
   "outputs": [
    {
     "name": "stdout",
     "output_type": "stream",
     "text": [
      "<class 'pandas.core.frame.DataFrame'>\n",
      "Int64Index: 9091 entries, 0 to 9998\n",
      "Data columns (total 11 columns):\n",
      " #   Column             Non-Null Count  Dtype  \n",
      "---  ------             --------------  -----  \n",
      " 0   CreditScore        9091 non-null   int64  \n",
      " 1   Age                9091 non-null   int64  \n",
      " 2   Tenure             9091 non-null   float64\n",
      " 3   Balance            9091 non-null   float64\n",
      " 4   NumOfProducts      9091 non-null   int64  \n",
      " 5   HasCrCard          9091 non-null   int64  \n",
      " 6   IsActiveMember     9091 non-null   int64  \n",
      " 7   EstimatedSalary    9091 non-null   float64\n",
      " 8   Geography_Germany  9091 non-null   uint8  \n",
      " 9   Geography_Spain    9091 non-null   uint8  \n",
      " 10  Gender_Male        9091 non-null   uint8  \n",
      "dtypes: float64(3), int64(5), uint8(3)\n",
      "memory usage: 665.8 KB\n"
     ]
    }
   ],
   "source": [
    "#OHE coding\n",
    "features=pd.get_dummies(features, drop_first=True)\n",
    "features.info()"
   ]
  },
  {
   "cell_type": "code",
   "execution_count": 8,
   "metadata": {},
   "outputs": [
    {
     "data": {
      "text/plain": [
       "(5454, 11)"
      ]
     },
     "metadata": {},
     "output_type": "display_data"
    },
    {
     "data": {
      "text/plain": [
       "(1819, 11)"
      ]
     },
     "metadata": {},
     "output_type": "display_data"
    },
    {
     "data": {
      "text/plain": [
       "(1818, 11)"
      ]
     },
     "execution_count": 8,
     "metadata": {},
     "output_type": "execute_result"
    }
   ],
   "source": [
    "#60/20/20 split for training, validation and test samples\n",
    "features_train_1, features_test, target_train_1, target_test = train_test_split(features, target, test_size=0.2, random_state=12345)  \n",
    "features_train, features_valid, target_train, target_valid = train_test_split(features_train_1, target_train_1, test_size=0.25, random_state=12345)\n",
    "\n",
    "display(features_train.shape) \n",
    "display(features_test.shape) \n",
    "features_valid.shape #check"
   ]
  },
  {
   "cell_type": "code",
   "execution_count": 9,
   "metadata": {
    "scrolled": true
   },
   "outputs": [
    {
     "name": "stderr",
     "output_type": "stream",
     "text": [
      "/tmp/ipykernel_86/45277902.py:5: SettingWithCopyWarning: \n",
      "A value is trying to be set on a copy of a slice from a DataFrame.\n",
      "Try using .loc[row_indexer,col_indexer] = value instead\n",
      "\n",
      "See the caveats in the documentation: https://pandas.pydata.org/pandas-docs/stable/user_guide/indexing.html#returning-a-view-versus-a-copy\n",
      "  features_train[columns]=scaler.transform(features_train[columns])\n",
      "/opt/conda/lib/python3.9/site-packages/pandas/core/indexing.py:1738: SettingWithCopyWarning: \n",
      "A value is trying to be set on a copy of a slice from a DataFrame.\n",
      "Try using .loc[row_indexer,col_indexer] = value instead\n",
      "\n",
      "See the caveats in the documentation: https://pandas.pydata.org/pandas-docs/stable/user_guide/indexing.html#returning-a-view-versus-a-copy\n",
      "  self._setitem_single_column(loc, value[:, i].tolist(), pi)\n",
      "/tmp/ipykernel_86/45277902.py:6: SettingWithCopyWarning: \n",
      "A value is trying to be set on a copy of a slice from a DataFrame.\n",
      "Try using .loc[row_indexer,col_indexer] = value instead\n",
      "\n",
      "See the caveats in the documentation: https://pandas.pydata.org/pandas-docs/stable/user_guide/indexing.html#returning-a-view-versus-a-copy\n",
      "  features_test[columns]=scaler.transform(features_test[columns])\n",
      "/opt/conda/lib/python3.9/site-packages/pandas/core/indexing.py:1738: SettingWithCopyWarning: \n",
      "A value is trying to be set on a copy of a slice from a DataFrame.\n",
      "Try using .loc[row_indexer,col_indexer] = value instead\n",
      "\n",
      "See the caveats in the documentation: https://pandas.pydata.org/pandas-docs/stable/user_guide/indexing.html#returning-a-view-versus-a-copy\n",
      "  self._setitem_single_column(loc, value[:, i].tolist(), pi)\n",
      "/tmp/ipykernel_86/45277902.py:7: SettingWithCopyWarning: \n",
      "A value is trying to be set on a copy of a slice from a DataFrame.\n",
      "Try using .loc[row_indexer,col_indexer] = value instead\n",
      "\n",
      "See the caveats in the documentation: https://pandas.pydata.org/pandas-docs/stable/user_guide/indexing.html#returning-a-view-versus-a-copy\n",
      "  features_valid[columns]=scaler.transform(features_valid[columns])\n",
      "/opt/conda/lib/python3.9/site-packages/pandas/core/indexing.py:1738: SettingWithCopyWarning: \n",
      "A value is trying to be set on a copy of a slice from a DataFrame.\n",
      "Try using .loc[row_indexer,col_indexer] = value instead\n",
      "\n",
      "See the caveats in the documentation: https://pandas.pydata.org/pandas-docs/stable/user_guide/indexing.html#returning-a-view-versus-a-copy\n",
      "  self._setitem_single_column(loc, value[:, i].tolist(), pi)\n"
     ]
    },
    {
     "data": {
      "text/html": [
       "<div>\n",
       "<style scoped>\n",
       "    .dataframe tbody tr th:only-of-type {\n",
       "        vertical-align: middle;\n",
       "    }\n",
       "\n",
       "    .dataframe tbody tr th {\n",
       "        vertical-align: top;\n",
       "    }\n",
       "\n",
       "    .dataframe thead th {\n",
       "        text-align: right;\n",
       "    }\n",
       "</style>\n",
       "<table border=\"1\" class=\"dataframe\">\n",
       "  <thead>\n",
       "    <tr style=\"text-align: right;\">\n",
       "      <th></th>\n",
       "      <th>CreditScore</th>\n",
       "      <th>Age</th>\n",
       "      <th>Tenure</th>\n",
       "      <th>Balance</th>\n",
       "      <th>NumOfProducts</th>\n",
       "      <th>HasCrCard</th>\n",
       "      <th>IsActiveMember</th>\n",
       "      <th>EstimatedSalary</th>\n",
       "      <th>Geography_Germany</th>\n",
       "      <th>Geography_Spain</th>\n",
       "      <th>Gender_Male</th>\n",
       "    </tr>\n",
       "  </thead>\n",
       "  <tbody>\n",
       "    <tr>\n",
       "      <th>3706</th>\n",
       "      <td>-0.203819</td>\n",
       "      <td>0.471273</td>\n",
       "      <td>0.352316</td>\n",
       "      <td>0.786022</td>\n",
       "      <td>0.782369</td>\n",
       "      <td>-1.545860</td>\n",
       "      <td>-1.016640</td>\n",
       "      <td>-0.357205</td>\n",
       "      <td>0</td>\n",
       "      <td>1</td>\n",
       "      <td>0</td>\n",
       "    </tr>\n",
       "    <tr>\n",
       "      <th>6805</th>\n",
       "      <td>-0.357513</td>\n",
       "      <td>-0.384930</td>\n",
       "      <td>-1.373506</td>\n",
       "      <td>-1.230577</td>\n",
       "      <td>0.782369</td>\n",
       "      <td>0.646889</td>\n",
       "      <td>0.983632</td>\n",
       "      <td>-1.671048</td>\n",
       "      <td>0</td>\n",
       "      <td>0</td>\n",
       "      <td>0</td>\n",
       "    </tr>\n",
       "    <tr>\n",
       "      <th>4449</th>\n",
       "      <td>0.175290</td>\n",
       "      <td>-0.289797</td>\n",
       "      <td>-0.683177</td>\n",
       "      <td>-1.230577</td>\n",
       "      <td>0.782369</td>\n",
       "      <td>0.646889</td>\n",
       "      <td>-1.016640</td>\n",
       "      <td>-1.119181</td>\n",
       "      <td>0</td>\n",
       "      <td>0</td>\n",
       "      <td>1</td>\n",
       "    </tr>\n",
       "    <tr>\n",
       "      <th>598</th>\n",
       "      <td>0.349476</td>\n",
       "      <td>1.708010</td>\n",
       "      <td>0.007151</td>\n",
       "      <td>1.379462</td>\n",
       "      <td>-0.914942</td>\n",
       "      <td>-1.545860</td>\n",
       "      <td>-1.016640</td>\n",
       "      <td>-1.569064</td>\n",
       "      <td>1</td>\n",
       "      <td>0</td>\n",
       "      <td>0</td>\n",
       "    </tr>\n",
       "    <tr>\n",
       "      <th>1845</th>\n",
       "      <td>0.902771</td>\n",
       "      <td>-0.289797</td>\n",
       "      <td>1.387809</td>\n",
       "      <td>-1.230577</td>\n",
       "      <td>-0.914942</td>\n",
       "      <td>-1.545860</td>\n",
       "      <td>0.983632</td>\n",
       "      <td>1.543790</td>\n",
       "      <td>0</td>\n",
       "      <td>0</td>\n",
       "      <td>1</td>\n",
       "    </tr>\n",
       "  </tbody>\n",
       "</table>\n",
       "</div>"
      ],
      "text/plain": [
       "      CreditScore       Age    Tenure   Balance  NumOfProducts  HasCrCard  \\\n",
       "3706    -0.203819  0.471273  0.352316  0.786022       0.782369  -1.545860   \n",
       "6805    -0.357513 -0.384930 -1.373506 -1.230577       0.782369   0.646889   \n",
       "4449     0.175290 -0.289797 -0.683177 -1.230577       0.782369   0.646889   \n",
       "598      0.349476  1.708010  0.007151  1.379462      -0.914942  -1.545860   \n",
       "1845     0.902771 -0.289797  1.387809 -1.230577      -0.914942  -1.545860   \n",
       "\n",
       "      IsActiveMember  EstimatedSalary  Geography_Germany  Geography_Spain  \\\n",
       "3706       -1.016640        -0.357205                  0                1   \n",
       "6805        0.983632        -1.671048                  0                0   \n",
       "4449       -1.016640        -1.119181                  0                0   \n",
       "598        -1.016640        -1.569064                  1                0   \n",
       "1845        0.983632         1.543790                  0                0   \n",
       "\n",
       "      Gender_Male  \n",
       "3706            0  \n",
       "6805            0  \n",
       "4449            1  \n",
       "598             0  \n",
       "1845            1  "
      ]
     },
     "metadata": {},
     "output_type": "display_data"
    }
   ],
   "source": [
    "#scaling\n",
    "columns = ['CreditScore', 'Age', 'Balance', 'Tenure', 'NumOfProducts', 'HasCrCard', 'IsActiveMember', 'EstimatedSalary']\n",
    "scaler = StandardScaler()\n",
    "scaler.fit(features_train[columns])\n",
    "features_train[columns]=scaler.transform(features_train[columns])\n",
    "features_test[columns]=scaler.transform(features_test[columns])\n",
    "features_valid[columns]=scaler.transform(features_valid[columns])\n",
    "display(features_train.head())"
   ]
  },
  {
   "cell_type": "markdown",
   "metadata": {},
   "source": [
    "### Conclusion\n",
    "Data was preprocessed for the further models building at the first step."
   ]
  },
  {
   "cell_type": "markdown",
   "metadata": {},
   "source": [
    "## 2. Task research"
   ]
  },
  {
   "cell_type": "markdown",
   "metadata": {},
   "source": [
    "At the second step, models will be built without using class balancing and F1 and AUC-ROC metrics will be calculated. For the task research, the max_depth parameter for the DecisionTreeClassifier and RandomForestClassifier models will be set to 8."
   ]
  },
  {
   "cell_type": "code",
   "execution_count": 10,
   "metadata": {},
   "outputs": [
    {
     "name": "stdout",
     "output_type": "stream",
     "text": [
      "F1 Logistic Regression w/o balanced class weight 0.3004115226337448\n",
      "Auc-Roc 0.7725917897303888\n"
     ]
    }
   ],
   "source": [
    "model = LogisticRegression(random_state=12345, solver='liblinear')\n",
    "model.fit(features_train, target_train)\n",
    "predicted_valid = model.predict(features_valid)\n",
    "probabilities_one_valid = model.predict_proba(features_valid)[:, 1]\n",
    "print('F1 Logistic Regression w/o balanced class weight', f1_score(target_valid, predicted_valid))\n",
    "print('Auc-Roc', roc_auc_score(target_valid, probabilities_one_valid))"
   ]
  },
  {
   "cell_type": "code",
   "execution_count": 11,
   "metadata": {},
   "outputs": [
    {
     "name": "stdout",
     "output_type": "stream",
     "text": [
      "F1 Tree w/o balanced class weight 0.5328947368421052\n",
      "Auc-Roc 0.8216658010808532\n"
     ]
    }
   ],
   "source": [
    "model = DecisionTreeClassifier(random_state=12345, max_depth=8)\n",
    "model.fit(features_train, target_train)\n",
    "predicted_valid = model.predict(features_valid)\n",
    "probabilities_one_valid = model.predict_proba(features_valid)[:, 1]\n",
    "print('F1 Tree w/o balanced class weight', f1_score(target_valid, predicted_valid))\n",
    "print('Auc-Roc', roc_auc_score(target_valid, probabilities_one_valid))"
   ]
  },
  {
   "cell_type": "code",
   "execution_count": 12,
   "metadata": {
    "scrolled": true
   },
   "outputs": [
    {
     "name": "stdout",
     "output_type": "stream",
     "text": [
      "F1 Random Forest w/o balanced class weight 0.5444839857651246\n",
      "Auc-Roc 0.8517100964940012\n"
     ]
    }
   ],
   "source": [
    "model = RandomForestClassifier(random_state=12345, max_depth=8)\n",
    "model.fit(features_train, target_train)\n",
    "predicted_valid = model.predict(features_valid)\n",
    "probabilities_one_valid = model.predict_proba(features_valid)[:, 1]\n",
    "print('F1 Random Forest w/o balanced class weight', f1_score(target_valid, predicted_valid))\n",
    "print('Auc-Roc', roc_auc_score(target_valid, probabilities_one_valid))"
   ]
  },
  {
   "cell_type": "markdown",
   "metadata": {},
   "source": [
    "### Conclusion\n",
    "The models were trained without taking into account class balancing at the second step. The F1 metric reached the maximum value of 0.5329 on the decision tree."
   ]
  },
  {
   "cell_type": "markdown",
   "metadata": {},
   "source": [
    "## 3. Solutions for class imbalance "
   ]
  },
  {
   "cell_type": "markdown",
   "metadata": {},
   "source": [
    "To improve the quality of the models, it is proposed to use class weighting and upsampling. Also, during the selection of the best model in the decision tree and random forest, it is proposed to enumerate the max_depth and n_estimators parameters."
   ]
  },
  {
   "cell_type": "code",
   "execution_count": 13,
   "metadata": {},
   "outputs": [
    {
     "name": "stdout",
     "output_type": "stream",
     "text": [
      "F1 Logistic Regression with balanced class weight 0.49458128078817737\n",
      "Auc-Roc 0.7747651628054014\n"
     ]
    }
   ],
   "source": [
    "model = LogisticRegression(random_state=12345, solver='liblinear', class_weight='balanced')\n",
    "model.fit(features_train, target_train)\n",
    "predicted_valid = model.predict(features_valid)\n",
    "probabilities_one_valid = model.predict_proba(features_valid)[:, 1]\n",
    "print('F1 Logistic Regression with balanced class weight', f1_score(target_valid, predicted_valid))\n",
    "print('Auc-Roc', roc_auc_score(target_valid, probabilities_one_valid))"
   ]
  },
  {
   "cell_type": "code",
   "execution_count": 14,
   "metadata": {},
   "outputs": [
    {
     "name": "stdout",
     "output_type": "stream",
     "text": [
      "Depth= 6 F1 Tree with balanced class weight 0.5533262935586061\n",
      "Auc-Roc 0.810823397913562\n",
      "Depth= 7 F1 Tree with balanced class weight 0.5555555555555556\n",
      "Auc-Roc 0.8150158439838022\n",
      "Depth= 8 F1 Tree with balanced class weight 0.552863436123348\n",
      "Auc-Roc 0.7968366601935901\n",
      "Depth= 9 F1 Tree with balanced class weight 0.5387205387205386\n",
      "Auc-Roc 0.774092452091707\n",
      "Depth= 10 F1 Tree with balanced class weight 0.5345016429353778\n",
      "Auc-Roc 0.7623731728612504\n"
     ]
    }
   ],
   "source": [
    "for depth in range (6, 11, 1):\n",
    "    model = DecisionTreeClassifier(max_depth=depth, random_state=12345, class_weight='balanced')\n",
    "    model.fit(features_train, target_train)\n",
    "    predicted_valid = model.predict(features_valid)\n",
    "    probabilities_one_valid = model.predict_proba(features_valid)[:, 1]\n",
    "    print('Depth=', depth, 'F1 Tree with balanced class weight', f1_score(target_valid, predicted_valid))\n",
    "    print('Auc-Roc', roc_auc_score(target_valid, probabilities_one_valid))"
   ]
  },
  {
   "cell_type": "code",
   "execution_count": 15,
   "metadata": {
    "scrolled": true
   },
   "outputs": [
    {
     "name": "stdout",
     "output_type": "stream",
     "text": [
      "Est= 60 Depth= 7 F1 Random forest with balanced class weight 0.5854241338112306\n",
      "Auc-Roc 0.8480614641195864\n",
      "Est= 60 Depth= 8 F1 Random forest with balanced class weight 0.5957446808510637\n",
      "Auc-Roc 0.8509498863448193\n",
      "Est= 60 Depth= 9 F1 Random forest with balanced class weight 0.5978552278820376\n",
      "Auc-Roc 0.8485300094838097\n",
      "Est= 60 Depth= 10 F1 Random forest with balanced class weight 0.6005665722379604\n",
      "Auc-Roc 0.8433346128949706\n",
      "Est= 70 Depth= 7 F1 Random forest with balanced class weight 0.5899280575539568\n",
      "Auc-Roc 0.8471902331812914\n",
      "Est= 70 Depth= 8 F1 Random forest with balanced class weight 0.5957446808510637\n",
      "Auc-Roc 0.8516423549955591\n",
      "Est= 70 Depth= 9 F1 Random forest with balanced class weight 0.5879194630872484\n",
      "Auc-Roc 0.8493523160065634\n",
      "Est= 70 Depth= 10 F1 Random forest with balanced class weight 0.5925925925925926\n",
      "Auc-Roc 0.8450507308554999\n",
      "Est= 80 Depth= 7 F1 Random forest with balanced class weight 0.5837320574162679\n",
      "Auc-Roc 0.8472297490553824\n",
      "Est= 80 Depth= 8 F1 Random forest with balanced class weight 0.5885286783042395\n",
      "Auc-Roc 0.8519152026976171\n",
      "Est= 80 Depth= 9 F1 Random forest with balanced class weight 0.5885486018641811\n",
      "Auc-Roc 0.8489947914314531\n",
      "Est= 80 Depth= 10 F1 Random forest with balanced class weight 0.6051136363636364\n",
      "Auc-Roc 0.8457225007150492\n",
      "Est= 90 Depth= 7 F1 Random forest with balanced class weight 0.5861244019138755\n",
      "Auc-Roc 0.8481442592843488\n",
      "Est= 90 Depth= 8 F1 Random forest with balanced class weight 0.5932415519399249\n",
      "Auc-Roc 0.8535240632856133\n",
      "Est= 90 Depth= 9 F1 Random forest with balanced class weight 0.5847797062750334\n",
      "Auc-Roc 0.8496929052070632\n",
      "Est= 90 Depth= 10 F1 Random forest with balanced class weight 0.61212976022567\n",
      "Auc-Roc 0.8459407788766954\n"
     ]
    }
   ],
   "source": [
    "for est in  range (60, 100, 10):\n",
    "    for depth in range (7, 11, 1):\n",
    "        model = RandomForestClassifier(n_estimators=est, max_depth=depth, random_state=12345, class_weight='balanced')\n",
    "        model.fit(features_train, target_train)\n",
    "        predicted_valid = model.predict(features_valid)\n",
    "        probabilities_one_valid = model.predict_proba(features_valid)[:, 1]\n",
    "        print('Est=', est, 'Depth=', depth, 'F1 Random forest with balanced class weight', f1_score(target_valid, predicted_valid))\n",
    "        print('Auc-Roc', roc_auc_score(target_valid, probabilities_one_valid))"
   ]
  },
  {
   "cell_type": "markdown",
   "metadata": {},
   "source": [
    "The F1 metric of 0.59 is reached with the RandomForestClassifier model with **n_estimators = 70** and **max_depth values from 7 to 10**. The approach to increase the sample will be considered below with the same arguments for the RandomForestClassifier model and with  max_depth = 7 in the DecisionTreeClassifier model."
   ]
  },
  {
   "cell_type": "code",
   "execution_count": 16,
   "metadata": {},
   "outputs": [
    {
     "name": "stdout",
     "output_type": "stream",
     "text": [
      "F1 Logistic regression with upsampling 0.478920741989882\n",
      "Auc-Roc 0.7749345165515062\n"
     ]
    }
   ],
   "source": [
    "def upsample(features, target, repeat):\n",
    "    features_zeros = features[target == 0]\n",
    "    features_ones = features[target == 1]\n",
    "    target_zeros = target[target == 0]\n",
    "    target_ones = target[target == 1]\n",
    "\n",
    "    features_upsampled = pd.concat([features_zeros] + [features_ones] * repeat)\n",
    "    target_upsampled = pd.concat([target_zeros] + [target_ones] * repeat)\n",
    "    \n",
    "    features_upsampled, target_upsampled = shuffle(\n",
    "        features_upsampled, target_upsampled, random_state=12345)\n",
    "    \n",
    "    return features_upsampled, target_upsampled\n",
    "\n",
    "features_upsampled, target_upsampled = upsample(features_train, target_train, 5)\n",
    "model = LogisticRegression(random_state=12345, solver='liblinear')\n",
    "model.fit(features_upsampled, target_upsampled)\n",
    "predicted_valid = model.predict(features_valid)\n",
    "probabilities_one_valid = model.predict_proba(features_valid)[:, 1]\n",
    "print('F1 Logistic regression with upsampling', f1_score(target_valid, predicted_valid))\n",
    "print('Auc-Roc', roc_auc_score(target_valid, probabilities_one_valid))"
   ]
  },
  {
   "cell_type": "code",
   "execution_count": 17,
   "metadata": {},
   "outputs": [
    {
     "name": "stdout",
     "output_type": "stream",
     "text": [
      "F1 Tree with upsampling 0.5425742574257426\n",
      "Auc-Roc 0.8166275271342335\n"
     ]
    }
   ],
   "source": [
    "model =  DecisionTreeClassifier(max_depth=7, random_state=12345)\n",
    "model.fit(features_upsampled, target_upsampled)\n",
    "predicted_valid = model.predict(features_valid)\n",
    "probabilities_one_valid = model.predict_proba(features_valid)[:, 1]\n",
    "print('F1 Tree with upsampling', f1_score(target_valid, predicted_valid))\n",
    "print('Auc-Roc', roc_auc_score(target_valid, probabilities_one_valid))"
   ]
  },
  {
   "cell_type": "code",
   "execution_count": 18,
   "metadata": {
    "scrolled": false
   },
   "outputs": [
    {
     "name": "stdout",
     "output_type": "stream",
     "text": [
      "Depth= 7 F1 Random forest with upsampling 0.57736240913811\n",
      "Auc-Roc 0.8516103659546281\n",
      "Depth= 8 F1 Random forest with upsampling 0.5897435897435898\n",
      "Auc-Roc 0.8513299914194102\n",
      "Depth= 9 F1 Random forest with upsampling 0.5859030837004405\n",
      "Auc-Roc 0.8496176368754609\n",
      "Depth= 10 F1 Random forest with upsampling 0.5969447708578144\n",
      "Auc-Roc 0.8510684339670926\n"
     ]
    }
   ],
   "source": [
    "for depth in range (7, 11, 1):\n",
    "    model = RandomForestClassifier(n_estimators=70, max_depth=depth, random_state=12345)\n",
    "    model.fit(features_upsampled, target_upsampled)\n",
    "    predicted_valid = model.predict(features_valid)\n",
    "    probabilities_one_valid = model.predict_proba(features_valid)[:, 1]\n",
    "    print('Depth=', depth, 'F1 Random forest with upsampling', f1_score(target_valid, predicted_valid))\n",
    "    print('Auc-Roc', roc_auc_score(target_valid, probabilities_one_valid))"
   ]
  },
  {
   "cell_type": "markdown",
   "metadata": {},
   "source": [
    "### Conclusion\n",
    "The F1 metric is maximized in the RandomForestClassifier model with the parameters n_estimators = 90, max_depth = 9, taking into account class weighting. It is proposed to use this model for the test."
   ]
  },
  {
   "cell_type": "markdown",
   "metadata": {},
   "source": [
    "## 4. Model test"
   ]
  },
  {
   "cell_type": "code",
   "execution_count": 19,
   "metadata": {},
   "outputs": [
    {
     "name": "stdout",
     "output_type": "stream",
     "text": [
      "F1 test sample 0.6102564102564102\n",
      "Auc-Roc 0.8574656574151949\n"
     ]
    },
    {
     "data": {
      "image/png": "[encoded data removed]",
      "text/plain": [
       "<Figure size 432x288 with 1 Axes>"
      ]
     },
     "metadata": {
      "needs_background": "light"
     },
     "output_type": "display_data"
    }
   ],
   "source": [
    "model = RandomForestClassifier(n_estimators=90, max_depth=9, random_state=12345, class_weight='balanced')\n",
    "model.fit(features_train, target_train)\n",
    "predicted_test = model.predict(features_test)\n",
    "probabilities_one_test = model.predict_proba(features_test)[:, 1]\n",
    "print('F1 test sample', f1_score(target_test, predicted_test))\n",
    "print('Auc-Roc', roc_auc_score(target_test, probabilities_one_test))\n",
    "fpr, tpr, _ = roc_curve(target_test, probabilities_one_test)\n",
    "plt.plot(fpr, tpr)\n",
    "plt.ylabel('TPR')\n",
    "plt.xlabel('FPR')\n",
    "plt.title('Graph ROC-curve')\n",
    "plt.show()"
   ]
  },
  {
   "cell_type": "markdown",
   "metadata": {},
   "source": [
    "### Conclusion\n",
    "Thus, during the study, the data of the original dataset was transformed by removing irrelevant features, scaling quantitative and transforming categorical variables. Further, in the course of the study, a search for the model with the best value of the F1 metric on the validation sample was conducted. The random forest model was chosen as the final model. The value of the F1-measure on the test set reached 0.61, the Auc-Roc metric reached 0.86. The closer the Auc-Roc metric is to 1, the better the predictions of the classification model. At the same time, the more the ROC curve covers the upper left corner of the graph, the better the model classifies the data into categories, which is observed on the graph."
   ]
  }
 ],
 "metadata": {
  "ExecuteTimeLog": [
   {
    "duration": 570,
    "start_time": "2022-03-02T18:07:40.336Z"
   },
   {
    "duration": 42,
    "start_time": "2022-03-02T18:08:08.289Z"
   },
   {
    "duration": 365,
    "start_time": "2022-03-02T18:21:30.958Z"
   },
   {
    "duration": 179,
    "start_time": "2022-03-02T18:21:48.384Z"
   },
   {
    "duration": 918,
    "start_time": "2022-03-02T18:21:59.173Z"
   },
   {
    "duration": 503,
    "start_time": "2022-03-02T18:39:18.199Z"
   },
   {
    "duration": 2,
    "start_time": "2022-03-02T18:39:58.957Z"
   },
   {
    "duration": 36,
    "start_time": "2022-03-02T18:45:13.938Z"
   },
   {
    "duration": 15,
    "start_time": "2022-03-02T18:45:25.010Z"
   },
   {
    "duration": 317,
    "start_time": "2022-03-02T18:45:49.784Z"
   },
   {
    "duration": 285,
    "start_time": "2022-03-02T18:46:35.648Z"
   },
   {
    "duration": 289,
    "start_time": "2022-03-02T18:48:37.607Z"
   },
   {
    "duration": 279,
    "start_time": "2022-03-02T18:49:02.454Z"
   },
   {
    "duration": 36,
    "start_time": "2022-03-02T18:49:17.661Z"
   },
   {
    "duration": 31,
    "start_time": "2022-03-02T18:49:21.995Z"
   },
   {
    "duration": 188,
    "start_time": "2022-03-02T18:49:37.062Z"
   },
   {
    "duration": 53,
    "start_time": "2022-03-02T18:49:51.726Z"
   },
   {
    "duration": 962,
    "start_time": "2022-03-02T18:50:08.453Z"
   },
   {
    "duration": 30,
    "start_time": "2022-03-02T18:50:09.416Z"
   },
   {
    "duration": 202,
    "start_time": "2022-03-02T18:50:09.447Z"
   },
   {
    "duration": 39,
    "start_time": "2022-03-02T18:50:26.518Z"
   },
   {
    "duration": 28,
    "start_time": "2022-03-02T18:51:26.341Z"
   },
   {
    "duration": 30,
    "start_time": "2022-03-02T18:51:31.785Z"
   },
   {
    "duration": 54,
    "start_time": "2022-03-02T19:01:57.290Z"
   },
   {
    "duration": 372,
    "start_time": "2022-03-02T19:02:41.233Z"
   },
   {
    "duration": 8,
    "start_time": "2022-03-02T19:02:49.229Z"
   },
   {
    "duration": 289,
    "start_time": "2022-03-02T19:04:03.003Z"
   },
   {
    "duration": 8,
    "start_time": "2022-03-02T19:04:29.624Z"
   },
   {
    "duration": 32,
    "start_time": "2022-03-02T19:04:55.449Z"
   },
   {
    "duration": 118,
    "start_time": "2022-03-02T19:05:21.140Z"
   },
   {
    "duration": 29,
    "start_time": "2022-03-02T19:05:54.674Z"
   },
   {
    "duration": 46,
    "start_time": "2022-03-02T19:18:41.345Z"
   },
   {
    "duration": 601,
    "start_time": "2022-03-02T19:19:58.135Z"
   },
   {
    "duration": 1011,
    "start_time": "2022-03-02T19:20:23.430Z"
   },
   {
    "duration": 8,
    "start_time": "2022-03-02T19:20:24.442Z"
   },
   {
    "duration": 35,
    "start_time": "2022-03-02T19:20:24.453Z"
   },
   {
    "duration": 147,
    "start_time": "2022-03-02T19:20:24.490Z"
   },
   {
    "duration": 33,
    "start_time": "2022-03-02T19:20:24.638Z"
   },
   {
    "duration": 698,
    "start_time": "2022-03-02T19:20:24.672Z"
   },
   {
    "duration": 36,
    "start_time": "2022-03-02T19:20:36.276Z"
   },
   {
    "duration": 557,
    "start_time": "2022-03-02T19:21:32.451Z"
   },
   {
    "duration": 569,
    "start_time": "2022-03-02T19:22:50.425Z"
   },
   {
    "duration": 564,
    "start_time": "2022-03-02T19:23:15.073Z"
   },
   {
    "duration": 995,
    "start_time": "2022-03-02T19:23:31.746Z"
   },
   {
    "duration": 8,
    "start_time": "2022-03-02T19:23:32.743Z"
   },
   {
    "duration": 38,
    "start_time": "2022-03-02T19:23:32.753Z"
   },
   {
    "duration": 383,
    "start_time": "2022-03-02T19:23:32.793Z"
   },
   {
    "duration": 31,
    "start_time": "2022-03-02T19:23:38.234Z"
   },
   {
    "duration": 280,
    "start_time": "2022-03-02T19:24:23.597Z"
   },
   {
    "duration": 2,
    "start_time": "2022-03-02T19:24:48.897Z"
   },
   {
    "duration": 291,
    "start_time": "2022-03-02T19:24:57.248Z"
   },
   {
    "duration": 313,
    "start_time": "2022-03-02T19:25:00.016Z"
   },
   {
    "duration": 297,
    "start_time": "2022-03-02T19:25:50.775Z"
   },
   {
    "duration": 278,
    "start_time": "2022-03-02T19:25:53.824Z"
   },
   {
    "duration": 285,
    "start_time": "2022-03-02T19:26:21.764Z"
   },
   {
    "duration": 303,
    "start_time": "2022-03-02T19:26:39.779Z"
   },
   {
    "duration": 285,
    "start_time": "2022-03-02T19:26:48.305Z"
   },
   {
    "duration": 1043,
    "start_time": "2022-03-02T19:26:55.584Z"
   },
   {
    "duration": 4,
    "start_time": "2022-03-02T19:26:56.628Z"
   },
   {
    "duration": 11,
    "start_time": "2022-03-02T19:26:56.634Z"
   },
   {
    "duration": 359,
    "start_time": "2022-03-02T19:26:56.646Z"
   },
   {
    "duration": -3552,
    "start_time": "2022-03-02T19:27:00.559Z"
   },
   {
    "duration": 1074,
    "start_time": "2022-03-02T19:27:18.774Z"
   },
   {
    "duration": 4,
    "start_time": "2022-03-02T19:27:19.851Z"
   },
   {
    "duration": 9,
    "start_time": "2022-03-02T19:27:19.857Z"
   },
   {
    "duration": 40,
    "start_time": "2022-03-02T19:27:19.868Z"
   },
   {
    "duration": 398,
    "start_time": "2022-03-02T19:27:19.910Z"
   },
   {
    "duration": 44,
    "start_time": "2022-03-02T19:27:26.462Z"
   },
   {
    "duration": 334,
    "start_time": "2022-03-02T19:27:34.748Z"
   },
   {
    "duration": 122,
    "start_time": "2022-03-02T19:29:17.684Z"
   },
   {
    "duration": 31,
    "start_time": "2022-03-02T19:29:47.388Z"
   },
   {
    "duration": 608,
    "start_time": "2022-03-02T19:29:53.719Z"
   },
   {
    "duration": 830,
    "start_time": "2022-03-02T19:33:01.304Z"
   },
   {
    "duration": 839,
    "start_time": "2022-03-02T19:33:19.438Z"
   },
   {
    "duration": 382,
    "start_time": "2022-03-02T19:33:38.040Z"
   },
   {
    "duration": 451,
    "start_time": "2022-03-02T19:33:45.298Z"
   },
   {
    "duration": 878,
    "start_time": "2022-03-02T19:33:51.942Z"
   },
   {
    "duration": 442,
    "start_time": "2022-03-02T19:34:03.389Z"
   },
   {
    "duration": 589,
    "start_time": "2022-03-02T19:34:09.023Z"
   },
   {
    "duration": 10,
    "start_time": "2022-03-02T19:45:37.041Z"
   },
   {
    "duration": 11,
    "start_time": "2022-03-02T19:45:45.898Z"
   },
   {
    "duration": 36,
    "start_time": "2022-03-02T19:45:50.767Z"
   },
   {
    "duration": 11,
    "start_time": "2022-03-02T19:45:56.272Z"
   },
   {
    "duration": 298,
    "start_time": "2022-03-02T19:46:10.003Z"
   },
   {
    "duration": 7,
    "start_time": "2022-03-02T19:46:24.471Z"
   },
   {
    "duration": 32,
    "start_time": "2022-03-02T19:46:26.026Z"
   },
   {
    "duration": 192,
    "start_time": "2022-03-02T19:46:33.799Z"
   },
   {
    "duration": 122,
    "start_time": "2022-03-02T19:46:36.550Z"
   },
   {
    "duration": 548,
    "start_time": "2022-03-02T19:46:43.167Z"
   },
   {
    "duration": 39,
    "start_time": "2022-03-02T19:55:23.101Z"
   },
   {
    "duration": 36,
    "start_time": "2022-03-02T19:55:27.361Z"
   },
   {
    "duration": 299,
    "start_time": "2022-03-02T19:55:32.417Z"
   },
   {
    "duration": 70,
    "start_time": "2022-03-02T19:55:45.536Z"
   },
   {
    "duration": 28,
    "start_time": "2022-03-02T19:56:26.461Z"
   },
   {
    "duration": 1011,
    "start_time": "2022-03-02T19:56:33.639Z"
   },
   {
    "duration": 150,
    "start_time": "2022-03-02T19:58:23.125Z"
   },
   {
    "duration": 153,
    "start_time": "2022-03-02T19:58:30.683Z"
   },
   {
    "duration": 598,
    "start_time": "2022-03-02T19:58:32.551Z"
   },
   {
    "duration": 217,
    "start_time": "2022-03-02T19:59:02.642Z"
   },
   {
    "duration": 1034,
    "start_time": "2022-03-02T19:59:16.306Z"
   },
   {
    "duration": 9,
    "start_time": "2022-03-02T19:59:17.341Z"
   },
   {
    "duration": 4,
    "start_time": "2022-03-02T19:59:17.352Z"
   },
   {
    "duration": 169,
    "start_time": "2022-03-02T19:59:17.357Z"
   },
   {
    "duration": 32,
    "start_time": "2022-03-02T19:59:17.527Z"
   },
   {
    "duration": 4,
    "start_time": "2022-03-02T19:59:17.561Z"
   },
   {
    "duration": 389,
    "start_time": "2022-03-02T19:59:17.567Z"
   },
   {
    "duration": 282,
    "start_time": "2022-03-02T20:02:31.545Z"
   },
   {
    "duration": 139,
    "start_time": "2022-03-02T20:02:33.961Z"
   },
   {
    "duration": 137,
    "start_time": "2022-03-02T20:02:45.450Z"
   },
   {
    "duration": 328,
    "start_time": "2022-03-02T20:02:47.298Z"
   },
   {
    "duration": 365,
    "start_time": "2022-03-02T20:02:52.942Z"
   },
   {
    "duration": 403,
    "start_time": "2022-03-02T20:21:12.001Z"
   },
   {
    "duration": 334,
    "start_time": "2022-03-02T20:31:07.876Z"
   },
   {
    "duration": 349,
    "start_time": "2022-03-02T20:31:11.773Z"
   },
   {
    "duration": 608,
    "start_time": "2022-03-02T20:31:47.155Z"
   },
   {
    "duration": 37,
    "start_time": "2022-03-02T20:32:11.075Z"
   },
   {
    "duration": 1308,
    "start_time": "2022-03-02T20:32:19.519Z"
   },
   {
    "duration": 244,
    "start_time": "2022-03-02T21:07:47.636Z"
   },
   {
    "duration": 291,
    "start_time": "2022-03-02T21:08:47.516Z"
   },
   {
    "duration": 332,
    "start_time": "2022-03-02T21:08:49.573Z"
   },
   {
    "duration": 1156,
    "start_time": "2022-03-02T21:08:52.951Z"
   },
   {
    "duration": 254,
    "start_time": "2022-03-02T21:10:02.052Z"
   },
   {
    "duration": 602,
    "start_time": "2022-03-02T21:13:30.400Z"
   },
   {
    "duration": 37,
    "start_time": "2022-03-02T21:13:48.051Z"
   },
   {
    "duration": 477,
    "start_time": "2022-03-02T21:13:52.839Z"
   },
   {
    "duration": 420,
    "start_time": "2022-03-02T21:14:17.991Z"
   },
   {
    "duration": 47,
    "start_time": "2022-03-02T21:15:30.793Z"
   },
   {
    "duration": 1114,
    "start_time": "2022-03-02T21:16:11.793Z"
   },
   {
    "duration": 1075,
    "start_time": "2022-03-02T21:16:40.133Z"
   },
   {
    "duration": 268,
    "start_time": "2022-03-02T21:16:51.466Z"
   },
   {
    "duration": 285,
    "start_time": "2022-03-02T21:16:56.125Z"
   },
   {
    "duration": 223,
    "start_time": "2022-03-02T21:17:06.783Z"
   },
   {
    "duration": 409,
    "start_time": "2022-03-02T21:17:38.516Z"
   },
   {
    "duration": 399,
    "start_time": "2022-03-02T21:18:33.925Z"
   },
   {
    "duration": 49,
    "start_time": "2022-03-02T21:23:59.762Z"
   },
   {
    "duration": 293,
    "start_time": "2022-03-02T21:25:16.366Z"
   },
   {
    "duration": 328,
    "start_time": "2022-03-02T21:28:54.263Z"
   },
   {
    "duration": 44,
    "start_time": "2022-03-02T21:29:27.922Z"
   },
   {
    "duration": 563,
    "start_time": "2022-03-02T21:29:41.267Z"
   },
   {
    "duration": 591,
    "start_time": "2022-03-02T21:30:00.784Z"
   },
   {
    "duration": 101,
    "start_time": "2022-03-02T21:30:24.346Z"
   },
   {
    "duration": 284,
    "start_time": "2022-03-02T21:30:32.408Z"
   },
   {
    "duration": 564,
    "start_time": "2022-03-02T21:30:36.688Z"
   },
   {
    "duration": 178,
    "start_time": "2022-03-02T21:30:41.698Z"
   },
   {
    "duration": 176,
    "start_time": "2022-03-02T21:31:20.162Z"
   },
   {
    "duration": 175,
    "start_time": "2022-03-02T21:31:50.225Z"
   },
   {
    "duration": 1073,
    "start_time": "2022-03-02T21:33:05.593Z"
   },
   {
    "duration": 9,
    "start_time": "2022-03-02T21:33:06.668Z"
   },
   {
    "duration": 4,
    "start_time": "2022-03-02T21:33:06.679Z"
   },
   {
    "duration": 297,
    "start_time": "2022-03-02T21:33:06.684Z"
   },
   {
    "duration": 153,
    "start_time": "2022-03-02T21:33:06.983Z"
   },
   {
    "duration": 253,
    "start_time": "2022-03-02T21:33:07.138Z"
   },
   {
    "duration": 317,
    "start_time": "2022-03-02T21:33:07.393Z"
   },
   {
    "duration": 395,
    "start_time": "2022-03-02T21:33:07.712Z"
   },
   {
    "duration": 1198,
    "start_time": "2022-03-02T21:33:08.109Z"
   },
   {
    "duration": 320,
    "start_time": "2022-03-02T21:33:09.309Z"
   },
   {
    "duration": 515,
    "start_time": "2022-03-02T21:33:09.707Z"
   },
   {
    "duration": 351,
    "start_time": "2022-03-02T21:33:10.223Z"
   },
   {
    "duration": 186,
    "start_time": "2022-03-02T21:33:10.575Z"
   },
   {
    "duration": 342,
    "start_time": "2022-03-02T22:00:16.094Z"
   },
   {
    "duration": 386,
    "start_time": "2022-03-02T22:00:19.819Z"
   },
   {
    "duration": 309,
    "start_time": "2022-03-02T22:00:23.643Z"
   },
   {
    "duration": 351,
    "start_time": "2022-03-02T22:00:26.487Z"
   },
   {
    "duration": 339,
    "start_time": "2022-03-02T22:00:30.241Z"
   },
   {
    "duration": 353,
    "start_time": "2022-03-02T22:00:33.041Z"
   },
   {
    "duration": 359,
    "start_time": "2022-03-02T22:00:37.957Z"
   },
   {
    "duration": 341,
    "start_time": "2022-03-02T22:00:41.460Z"
   },
   {
    "duration": 349,
    "start_time": "2022-03-02T22:01:30.598Z"
   },
   {
    "duration": 182,
    "start_time": "2022-03-02T22:01:34.914Z"
   },
   {
    "duration": 12,
    "start_time": "2022-03-02T22:04:26.434Z"
   },
   {
    "duration": 1022,
    "start_time": "2022-03-02T22:04:41.154Z"
   },
   {
    "duration": 11,
    "start_time": "2022-03-02T22:04:42.178Z"
   },
   {
    "duration": 4,
    "start_time": "2022-03-02T22:04:42.192Z"
   },
   {
    "duration": 17,
    "start_time": "2022-03-02T22:04:42.198Z"
   },
   {
    "duration": 381,
    "start_time": "2022-03-02T22:04:42.216Z"
   },
   {
    "duration": -2971,
    "start_time": "2022-03-02T22:04:45.571Z"
   },
   {
    "duration": -2977,
    "start_time": "2022-03-02T22:04:45.578Z"
   },
   {
    "duration": -2980,
    "start_time": "2022-03-02T22:04:45.583Z"
   },
   {
    "duration": -2985,
    "start_time": "2022-03-02T22:04:45.589Z"
   },
   {
    "duration": -2990,
    "start_time": "2022-03-02T22:04:45.595Z"
   },
   {
    "duration": -2995,
    "start_time": "2022-03-02T22:04:45.602Z"
   },
   {
    "duration": -2999,
    "start_time": "2022-03-02T22:04:45.607Z"
   },
   {
    "duration": -3004,
    "start_time": "2022-03-02T22:04:45.613Z"
   },
   {
    "duration": -3009,
    "start_time": "2022-03-02T22:04:45.619Z"
   },
   {
    "duration": 1023,
    "start_time": "2022-03-02T22:05:01.845Z"
   },
   {
    "duration": 10,
    "start_time": "2022-03-02T22:05:02.870Z"
   },
   {
    "duration": 3,
    "start_time": "2022-03-02T22:05:02.882Z"
   },
   {
    "duration": 19,
    "start_time": "2022-03-02T22:05:02.887Z"
   },
   {
    "duration": 28,
    "start_time": "2022-03-02T22:05:02.907Z"
   },
   {
    "duration": 11,
    "start_time": "2022-03-02T22:05:02.936Z"
   },
   {
    "duration": 60,
    "start_time": "2022-03-02T22:05:02.948Z"
   },
   {
    "duration": 114,
    "start_time": "2022-03-02T22:05:03.010Z"
   },
   {
    "duration": 201,
    "start_time": "2022-03-02T22:05:03.208Z"
   },
   {
    "duration": 110,
    "start_time": "2022-03-02T22:05:03.411Z"
   },
   {
    "duration": 392,
    "start_time": "2022-03-02T22:05:03.522Z"
   },
   {
    "duration": 25,
    "start_time": "2022-03-02T22:05:03.915Z"
   },
   {
    "duration": 75,
    "start_time": "2022-03-02T22:05:03.942Z"
   },
   {
    "duration": 26,
    "start_time": "2022-03-02T22:05:04.018Z"
   },
   {
    "duration": 372,
    "start_time": "2022-03-02T22:05:33.532Z"
   },
   {
    "duration": 1064,
    "start_time": "2022-03-02T22:05:48.286Z"
   },
   {
    "duration": 11,
    "start_time": "2022-03-02T22:05:49.352Z"
   },
   {
    "duration": 3,
    "start_time": "2022-03-02T22:05:49.366Z"
   },
   {
    "duration": 15,
    "start_time": "2022-03-02T22:05:49.371Z"
   },
   {
    "duration": 38,
    "start_time": "2022-03-02T22:05:49.388Z"
   },
   {
    "duration": 10,
    "start_time": "2022-03-02T22:05:49.427Z"
   },
   {
    "duration": 71,
    "start_time": "2022-03-02T22:05:49.439Z"
   },
   {
    "duration": 110,
    "start_time": "2022-03-02T22:05:49.512Z"
   },
   {
    "duration": 283,
    "start_time": "2022-03-02T22:05:49.624Z"
   },
   {
    "duration": 107,
    "start_time": "2022-03-02T22:05:49.912Z"
   },
   {
    "duration": 394,
    "start_time": "2022-03-02T22:05:50.021Z"
   },
   {
    "duration": 24,
    "start_time": "2022-03-02T22:05:50.417Z"
   },
   {
    "duration": 74,
    "start_time": "2022-03-02T22:05:50.442Z"
   },
   {
    "duration": 25,
    "start_time": "2022-03-02T22:05:50.517Z"
   },
   {
    "duration": 11,
    "start_time": "2022-03-02T22:06:22.820Z"
   },
   {
    "duration": 11,
    "start_time": "2022-03-02T22:06:23.782Z"
   },
   {
    "duration": 28,
    "start_time": "2022-03-02T22:06:57.967Z"
   },
   {
    "duration": 20,
    "start_time": "2022-03-02T22:07:17.747Z"
   },
   {
    "duration": 22,
    "start_time": "2022-03-02T22:07:21.842Z"
   },
   {
    "duration": 22,
    "start_time": "2022-03-02T22:07:24.260Z"
   },
   {
    "duration": 25,
    "start_time": "2022-03-02T22:07:28.708Z"
   },
   {
    "duration": 23,
    "start_time": "2022-03-02T22:07:33.460Z"
   },
   {
    "duration": 24,
    "start_time": "2022-03-02T22:07:36.699Z"
   },
   {
    "duration": 26,
    "start_time": "2022-03-02T22:07:38.798Z"
   },
   {
    "duration": 24,
    "start_time": "2022-03-02T22:07:41.111Z"
   },
   {
    "duration": 277,
    "start_time": "2022-03-02T22:08:01.082Z"
   },
   {
    "duration": 448,
    "start_time": "2022-03-02T22:08:06.952Z"
   },
   {
    "duration": 467,
    "start_time": "2022-03-02T22:08:11.744Z"
   },
   {
    "duration": 263,
    "start_time": "2022-03-02T22:08:17.728Z"
   },
   {
    "duration": 54,
    "start_time": "2022-03-02T22:08:21.059Z"
   },
   {
    "duration": 829,
    "start_time": "2022-03-02T22:08:23.734Z"
   },
   {
    "duration": 984,
    "start_time": "2022-03-02T22:08:27.783Z"
   },
   {
    "duration": 928,
    "start_time": "2022-03-02T22:08:31.352Z"
   },
   {
    "duration": 11265,
    "start_time": "2022-03-02T22:10:17.774Z"
   },
   {
    "duration": 2551,
    "start_time": "2022-03-02T22:10:47.873Z"
   },
   {
    "duration": 4270,
    "start_time": "2022-03-02T22:11:01.763Z"
   },
   {
    "duration": 7917,
    "start_time": "2022-03-02T22:11:35.070Z"
   },
   {
    "duration": 6189,
    "start_time": "2022-03-02T22:11:52.977Z"
   },
   {
    "duration": 1029,
    "start_time": "2022-03-02T22:13:15.169Z"
   },
   {
    "duration": 661,
    "start_time": "2022-03-02T22:13:36.467Z"
   },
   {
    "duration": 4647,
    "start_time": "2022-03-02T22:14:14.029Z"
   },
   {
    "duration": 2795,
    "start_time": "2022-03-02T22:14:23.155Z"
   },
   {
    "duration": 405,
    "start_time": "2022-03-02T22:14:34.353Z"
   },
   {
    "duration": 664,
    "start_time": "2022-03-02T22:14:40.941Z"
   },
   {
    "duration": 403,
    "start_time": "2022-03-02T22:14:45.463Z"
   },
   {
    "duration": 2136,
    "start_time": "2022-03-02T22:14:52.006Z"
   },
   {
    "duration": 2987,
    "start_time": "2022-03-02T22:15:01.916Z"
   },
   {
    "duration": 66,
    "start_time": "2022-03-02T22:15:28.444Z"
   },
   {
    "duration": 28,
    "start_time": "2022-03-02T22:15:32.824Z"
   },
   {
    "duration": 39,
    "start_time": "2022-03-02T22:15:35.227Z"
   },
   {
    "duration": 35,
    "start_time": "2022-03-02T22:15:37.874Z"
   },
   {
    "duration": 38,
    "start_time": "2022-03-02T22:15:40.273Z"
   },
   {
    "duration": 32,
    "start_time": "2022-03-02T22:15:43.724Z"
   },
   {
    "duration": 68,
    "start_time": "2022-03-02T22:15:46.537Z"
   },
   {
    "duration": 29,
    "start_time": "2022-03-02T22:15:50.238Z"
   },
   {
    "duration": 26,
    "start_time": "2022-03-02T22:15:53.270Z"
   },
   {
    "duration": 31,
    "start_time": "2022-03-02T22:15:55.985Z"
   },
   {
    "duration": 28,
    "start_time": "2022-03-02T22:15:59.072Z"
   },
   {
    "duration": 33,
    "start_time": "2022-03-02T22:16:01.632Z"
   },
   {
    "duration": 23,
    "start_time": "2022-03-02T22:16:09.330Z"
   },
   {
    "duration": 23,
    "start_time": "2022-03-02T22:16:11.810Z"
   },
   {
    "duration": 23,
    "start_time": "2022-03-02T22:16:14.038Z"
   },
   {
    "duration": 23,
    "start_time": "2022-03-02T22:16:16.400Z"
   },
   {
    "duration": 23,
    "start_time": "2022-03-02T22:16:18.714Z"
   },
   {
    "duration": 2626,
    "start_time": "2022-03-02T22:16:32.837Z"
   },
   {
    "duration": 1202,
    "start_time": "2022-03-02T22:16:58.681Z"
   },
   {
    "duration": 359,
    "start_time": "2022-03-02T22:17:13.038Z"
   },
   {
    "duration": 388,
    "start_time": "2022-03-02T22:17:24.876Z"
   },
   {
    "duration": 398,
    "start_time": "2022-03-02T22:17:49.579Z"
   },
   {
    "duration": 383,
    "start_time": "2022-03-02T22:17:55.467Z"
   },
   {
    "duration": 171,
    "start_time": "2022-03-02T22:18:17.938Z"
   },
   {
    "duration": 170,
    "start_time": "2022-03-02T22:18:22.550Z"
   },
   {
    "duration": 167,
    "start_time": "2022-03-02T22:18:25.022Z"
   },
   {
    "duration": 158,
    "start_time": "2022-03-02T22:18:28.476Z"
   },
   {
    "duration": 165,
    "start_time": "2022-03-02T22:18:30.709Z"
   },
   {
    "duration": 386,
    "start_time": "2022-03-02T22:18:41.422Z"
   },
   {
    "duration": 2831,
    "start_time": "2022-03-02T22:19:15.197Z"
   },
   {
    "duration": 2862,
    "start_time": "2022-03-02T22:19:37.450Z"
   },
   {
    "duration": 3941,
    "start_time": "2022-03-02T22:19:49.047Z"
   },
   {
    "duration": 2576,
    "start_time": "2022-03-02T22:20:09.457Z"
   },
   {
    "duration": 1591,
    "start_time": "2022-03-02T22:20:20.099Z"
   },
   {
    "duration": 1906,
    "start_time": "2022-03-02T22:20:22.927Z"
   },
   {
    "duration": 398,
    "start_time": "2022-03-02T22:20:37.973Z"
   },
   {
    "duration": 369,
    "start_time": "2022-03-02T22:20:41.969Z"
   },
   {
    "duration": 378,
    "start_time": "2022-03-02T22:20:45.168Z"
   },
   {
    "duration": 360,
    "start_time": "2022-03-02T22:20:48.325Z"
   },
   {
    "duration": 260,
    "start_time": "2022-03-02T22:21:07.685Z"
   },
   {
    "duration": 358,
    "start_time": "2022-03-02T22:21:11.703Z"
   },
   {
    "duration": 1362,
    "start_time": "2022-03-06T09:40:05.543Z"
   },
   {
    "duration": 50,
    "start_time": "2022-03-06T09:40:23.912Z"
   },
   {
    "duration": 24,
    "start_time": "2022-03-06T09:40:44.716Z"
   },
   {
    "duration": 1389,
    "start_time": "2022-03-06T09:40:58.085Z"
   },
   {
    "duration": 24,
    "start_time": "2022-03-06T09:40:59.476Z"
   },
   {
    "duration": 20,
    "start_time": "2022-03-06T09:40:59.506Z"
   },
   {
    "duration": 5,
    "start_time": "2022-03-06T09:40:59.528Z"
   },
   {
    "duration": 61,
    "start_time": "2022-03-06T09:40:59.535Z"
   },
   {
    "duration": 45,
    "start_time": "2022-03-06T09:40:59.599Z"
   },
   {
    "duration": 40,
    "start_time": "2022-03-06T09:40:59.648Z"
   },
   {
    "duration": 99,
    "start_time": "2022-03-06T09:40:59.691Z"
   },
   {
    "duration": 196,
    "start_time": "2022-03-06T09:40:59.794Z"
   },
   {
    "duration": 194,
    "start_time": "2022-03-06T09:40:59.994Z"
   },
   {
    "duration": 201,
    "start_time": "2022-03-06T09:41:00.192Z"
   },
   {
    "duration": 321,
    "start_time": "2022-03-06T09:41:00.396Z"
   },
   {
    "duration": 36,
    "start_time": "2022-03-06T09:41:00.720Z"
   },
   {
    "duration": 3411,
    "start_time": "2022-03-06T09:41:00.758Z"
   },
   {
    "duration": 4671,
    "start_time": "2022-03-06T09:41:04.171Z"
   },
   {
    "duration": 638,
    "start_time": "2022-03-06T09:41:08.844Z"
   },
   {
    "duration": 238,
    "start_time": "2022-03-06T09:42:36.847Z"
   },
   {
    "duration": 1238,
    "start_time": "2022-03-06T09:43:13.325Z"
   },
   {
    "duration": 613,
    "start_time": "2022-03-06T09:45:05.676Z"
   },
   {
    "duration": 518,
    "start_time": "2022-03-06T09:45:35.927Z"
   },
   {
    "duration": 522,
    "start_time": "2022-03-06T09:46:02.025Z"
   },
   {
    "duration": 18,
    "start_time": "2022-03-06T09:46:04.380Z"
   },
   {
    "duration": 522,
    "start_time": "2022-03-06T09:46:06.350Z"
   },
   {
    "duration": 6,
    "start_time": "2022-03-06T09:46:24.709Z"
   },
   {
    "duration": 484,
    "start_time": "2022-03-06T09:46:37.736Z"
   },
   {
    "duration": 59,
    "start_time": "2022-03-06T09:50:57.422Z"
   },
   {
    "duration": 51,
    "start_time": "2022-03-06T09:51:11.903Z"
   },
   {
    "duration": 231,
    "start_time": "2022-03-06T10:02:37.460Z"
   },
   {
    "duration": 251,
    "start_time": "2022-03-06T10:02:40.474Z"
   },
   {
    "duration": 2113,
    "start_time": "2022-03-06T10:02:49.905Z"
   },
   {
    "duration": 18,
    "start_time": "2022-03-06T10:02:52.021Z"
   },
   {
    "duration": 7,
    "start_time": "2022-03-06T10:02:52.043Z"
   },
   {
    "duration": 660,
    "start_time": "2022-03-06T10:02:52.053Z"
   },
   {
    "duration": 35,
    "start_time": "2022-03-06T10:02:52.716Z"
   },
   {
    "duration": 87,
    "start_time": "2022-03-06T10:02:52.754Z"
   },
   {
    "duration": 42,
    "start_time": "2022-03-06T10:02:52.844Z"
   },
   {
    "duration": 197,
    "start_time": "2022-03-06T10:02:52.891Z"
   },
   {
    "duration": 196,
    "start_time": "2022-03-06T10:02:53.091Z"
   },
   {
    "duration": 200,
    "start_time": "2022-03-06T10:02:53.289Z"
   },
   {
    "duration": 98,
    "start_time": "2022-03-06T10:02:53.491Z"
   },
   {
    "duration": 323,
    "start_time": "2022-03-06T10:02:53.593Z"
   },
   {
    "duration": 36,
    "start_time": "2022-03-06T10:02:53.918Z"
   },
   {
    "duration": 3150,
    "start_time": "2022-03-06T10:02:53.956Z"
   },
   {
    "duration": 4475,
    "start_time": "2022-03-06T10:02:57.108Z"
   },
   {
    "duration": 623,
    "start_time": "2022-03-06T10:03:01.587Z"
   },
   {
    "duration": 7,
    "start_time": "2022-03-06T10:07:25.145Z"
   },
   {
    "duration": 7,
    "start_time": "2022-03-06T10:07:46.657Z"
   },
   {
    "duration": 7,
    "start_time": "2022-03-06T10:08:00.753Z"
   },
   {
    "duration": 7,
    "start_time": "2022-03-06T10:08:07.053Z"
   },
   {
    "duration": 7,
    "start_time": "2022-03-06T10:08:20.005Z"
   },
   {
    "duration": 7,
    "start_time": "2022-03-06T10:08:33.720Z"
   },
   {
    "duration": 6,
    "start_time": "2022-03-06T10:08:43.462Z"
   },
   {
    "duration": 7,
    "start_time": "2022-03-06T10:08:53.279Z"
   },
   {
    "duration": 373,
    "start_time": "2022-03-06T10:10:42.569Z"
   },
   {
    "duration": 237,
    "start_time": "2022-03-06T10:10:59.023Z"
   },
   {
    "duration": 9,
    "start_time": "2022-03-06T10:11:06.157Z"
   },
   {
    "duration": 9,
    "start_time": "2022-03-06T10:11:59.786Z"
   },
   {
    "duration": 10,
    "start_time": "2022-03-06T10:12:14.654Z"
   },
   {
    "duration": 9,
    "start_time": "2022-03-06T10:12:25.684Z"
   },
   {
    "duration": 245,
    "start_time": "2022-03-06T10:12:44.950Z"
   },
   {
    "duration": 251,
    "start_time": "2022-03-06T10:12:58.932Z"
   },
   {
    "duration": 11,
    "start_time": "2022-03-06T10:13:09.519Z"
   },
   {
    "duration": 80,
    "start_time": "2022-03-06T10:13:36.837Z"
   },
   {
    "duration": 251,
    "start_time": "2022-03-06T10:13:43.721Z"
   },
   {
    "duration": 225,
    "start_time": "2022-03-06T10:13:55.026Z"
   },
   {
    "duration": 91,
    "start_time": "2022-03-06T10:13:59.425Z"
   },
   {
    "duration": 6000,
    "start_time": "2022-03-06T10:14:33.543Z"
   },
   {
    "duration": 70,
    "start_time": "2022-03-06T10:15:12.431Z"
   },
   {
    "duration": 70,
    "start_time": "2022-03-06T10:15:18.292Z"
   },
   {
    "duration": 14,
    "start_time": "2022-03-06T10:15:28.704Z"
   },
   {
    "duration": 14,
    "start_time": "2022-03-06T10:15:44.677Z"
   },
   {
    "duration": 312,
    "start_time": "2022-03-06T10:16:01.919Z"
   },
   {
    "duration": 14,
    "start_time": "2022-03-06T10:16:42.655Z"
   },
   {
    "duration": 13,
    "start_time": "2022-03-06T10:17:00.763Z"
   },
   {
    "duration": 12,
    "start_time": "2022-03-06T10:18:15.097Z"
   },
   {
    "duration": 238,
    "start_time": "2022-03-06T10:19:32.090Z"
   },
   {
    "duration": 1644,
    "start_time": "2022-03-06T10:23:33.757Z"
   },
   {
    "duration": 11,
    "start_time": "2022-03-06T10:23:35.404Z"
   },
   {
    "duration": 17,
    "start_time": "2022-03-06T10:23:35.418Z"
   },
   {
    "duration": 5,
    "start_time": "2022-03-06T10:23:35.438Z"
   },
   {
    "duration": 518,
    "start_time": "2022-03-06T10:23:35.446Z"
   },
   {
    "duration": 33,
    "start_time": "2022-03-06T10:23:35.967Z"
   },
   {
    "duration": 46,
    "start_time": "2022-03-06T10:23:36.002Z"
   },
   {
    "duration": 44,
    "start_time": "2022-03-06T10:23:36.053Z"
   },
   {
    "duration": 90,
    "start_time": "2022-03-06T10:23:36.101Z"
   },
   {
    "duration": 195,
    "start_time": "2022-03-06T10:23:36.194Z"
   },
   {
    "duration": 196,
    "start_time": "2022-03-06T10:23:36.392Z"
   },
   {
    "duration": 200,
    "start_time": "2022-03-06T10:23:36.592Z"
   },
   {
    "duration": 319,
    "start_time": "2022-03-06T10:23:36.796Z"
   },
   {
    "duration": 37,
    "start_time": "2022-03-06T10:23:37.117Z"
   },
   {
    "duration": 3193,
    "start_time": "2022-03-06T10:23:37.156Z"
   },
   {
    "duration": 4528,
    "start_time": "2022-03-06T10:23:40.352Z"
   },
   {
    "duration": 639,
    "start_time": "2022-03-06T10:23:44.883Z"
   },
   {
    "duration": 562,
    "start_time": "2022-03-06T10:24:50.896Z"
   },
   {
    "duration": 2057,
    "start_time": "2022-03-06T10:26:48.112Z"
   },
   {
    "duration": 18,
    "start_time": "2022-03-06T10:26:50.172Z"
   },
   {
    "duration": 14,
    "start_time": "2022-03-06T10:26:50.193Z"
   },
   {
    "duration": 7,
    "start_time": "2022-03-06T10:26:50.209Z"
   },
   {
    "duration": 516,
    "start_time": "2022-03-06T10:26:50.218Z"
   },
   {
    "duration": 25,
    "start_time": "2022-03-06T10:26:50.737Z"
   },
   {
    "duration": 63,
    "start_time": "2022-03-06T10:26:50.765Z"
   },
   {
    "duration": 17,
    "start_time": "2022-03-06T10:26:50.831Z"
   },
   {
    "duration": 137,
    "start_time": "2022-03-06T10:26:50.850Z"
   },
   {
    "duration": 122,
    "start_time": "2022-03-06T10:26:50.993Z"
   },
   {
    "duration": 201,
    "start_time": "2022-03-06T10:26:51.189Z"
   },
   {
    "duration": 119,
    "start_time": "2022-03-06T10:26:51.394Z"
   },
   {
    "duration": 343,
    "start_time": "2022-03-06T10:26:51.589Z"
   },
   {
    "duration": 66,
    "start_time": "2022-03-06T10:26:51.935Z"
   },
   {
    "duration": 4699,
    "start_time": "2022-03-06T10:26:52.004Z"
   },
   {
    "duration": 4976,
    "start_time": "2022-03-06T10:26:56.706Z"
   },
   {
    "duration": 636,
    "start_time": "2022-03-06T10:27:01.688Z"
   },
   {
    "duration": 279,
    "start_time": "2022-03-06T10:27:10.615Z"
   },
   {
    "duration": 310,
    "start_time": "2022-03-06T10:27:30.564Z"
   },
   {
    "duration": 389,
    "start_time": "2022-03-06T10:27:46.245Z"
   },
   {
    "duration": 1590,
    "start_time": "2022-03-06T10:28:07.726Z"
   },
   {
    "duration": 318,
    "start_time": "2022-03-06T10:28:09.319Z"
   },
   {
    "duration": 14,
    "start_time": "2022-03-06T10:28:09.640Z"
   },
   {
    "duration": 4,
    "start_time": "2022-03-06T10:28:09.657Z"
   },
   {
    "duration": 449,
    "start_time": "2022-03-06T10:28:09.686Z"
   },
   {
    "duration": 25,
    "start_time": "2022-03-06T10:28:10.137Z"
   },
   {
    "duration": 59,
    "start_time": "2022-03-06T10:28:10.164Z"
   },
   {
    "duration": 16,
    "start_time": "2022-03-06T10:28:10.225Z"
   },
   {
    "duration": 71,
    "start_time": "2022-03-06T10:28:10.245Z"
   },
   {
    "duration": 199,
    "start_time": "2022-03-06T10:28:10.392Z"
   },
   {
    "duration": 197,
    "start_time": "2022-03-06T10:28:10.594Z"
   },
   {
    "duration": 198,
    "start_time": "2022-03-06T10:28:10.795Z"
   },
   {
    "duration": 325,
    "start_time": "2022-03-06T10:28:10.996Z"
   },
   {
    "duration": 40,
    "start_time": "2022-03-06T10:28:11.323Z"
   },
   {
    "duration": 3199,
    "start_time": "2022-03-06T10:28:11.365Z"
   },
   {
    "duration": 4607,
    "start_time": "2022-03-06T10:28:14.567Z"
   },
   {
    "duration": 659,
    "start_time": "2022-03-06T10:28:19.176Z"
   },
   {
    "duration": 398,
    "start_time": "2022-03-06T10:32:44.726Z"
   },
   {
    "duration": 43,
    "start_time": "2022-03-06T10:32:52.105Z"
   },
   {
    "duration": 43,
    "start_time": "2022-03-06T10:33:06.185Z"
   },
   {
    "duration": 35,
    "start_time": "2022-03-06T10:33:10.528Z"
   },
   {
    "duration": 103,
    "start_time": "2022-03-06T10:33:36.825Z"
   },
   {
    "duration": 48,
    "start_time": "2022-03-06T10:37:30.675Z"
   },
   {
    "duration": 24,
    "start_time": "2022-03-06T10:37:43.613Z"
   },
   {
    "duration": 39,
    "start_time": "2022-03-06T10:38:01.174Z"
   },
   {
    "duration": 40,
    "start_time": "2022-03-06T10:38:06.846Z"
   },
   {
    "duration": 38,
    "start_time": "2022-03-06T10:38:11.430Z"
   },
   {
    "duration": 34,
    "start_time": "2022-03-06T10:38:14.143Z"
   },
   {
    "duration": 33,
    "start_time": "2022-03-06T10:38:16.214Z"
   },
   {
    "duration": 38,
    "start_time": "2022-03-06T10:38:18.293Z"
   },
   {
    "duration": 84,
    "start_time": "2022-03-06T10:38:24.966Z"
   },
   {
    "duration": 81,
    "start_time": "2022-03-06T10:38:38.966Z"
   },
   {
    "duration": 95,
    "start_time": "2022-03-06T10:38:41.994Z"
   },
   {
    "duration": 409,
    "start_time": "2022-03-06T10:39:30.634Z"
   },
   {
    "duration": 1689,
    "start_time": "2022-03-06T14:51:09.733Z"
   },
   {
    "duration": 315,
    "start_time": "2022-03-06T14:51:11.424Z"
   },
   {
    "duration": 16,
    "start_time": "2022-03-06T14:51:11.743Z"
   },
   {
    "duration": 27,
    "start_time": "2022-03-06T14:51:11.763Z"
   },
   {
    "duration": 460,
    "start_time": "2022-03-06T14:51:11.793Z"
   },
   {
    "duration": 39,
    "start_time": "2022-03-06T14:51:12.256Z"
   },
   {
    "duration": 54,
    "start_time": "2022-03-06T14:51:12.297Z"
   },
   {
    "duration": 45,
    "start_time": "2022-03-06T14:51:12.354Z"
   },
   {
    "duration": 92,
    "start_time": "2022-03-06T14:51:12.402Z"
   },
   {
    "duration": 124,
    "start_time": "2022-03-06T14:51:12.497Z"
   },
   {
    "duration": 124,
    "start_time": "2022-03-06T14:51:12.624Z"
   },
   {
    "duration": 144,
    "start_time": "2022-03-06T14:51:12.750Z"
   },
   {
    "duration": 395,
    "start_time": "2022-03-06T14:51:12.986Z"
   },
   {
    "duration": -3415,
    "start_time": "2022-03-06T14:51:16.798Z"
   },
   {
    "duration": -3416,
    "start_time": "2022-03-06T14:51:16.801Z"
   },
   {
    "duration": 50,
    "start_time": "2022-03-06T14:55:39.547Z"
   },
   {
    "duration": 4778,
    "start_time": "2022-03-06T14:55:42.093Z"
   },
   {
    "duration": 60,
    "start_time": "2022-03-06T15:35:50.430Z"
   },
   {
    "duration": 193,
    "start_time": "2022-03-06T15:38:14.473Z"
   },
   {
    "duration": 157,
    "start_time": "2022-03-06T15:38:27.333Z"
   },
   {
    "duration": 15832,
    "start_time": "2022-03-06T15:40:33.682Z"
   },
   {
    "duration": 76,
    "start_time": "2022-03-06T15:41:22.497Z"
   },
   {
    "duration": 15700,
    "start_time": "2022-03-06T15:41:45.321Z"
   },
   {
    "duration": 10039,
    "start_time": "2022-03-06T15:42:21.938Z"
   },
   {
    "duration": 8412,
    "start_time": "2022-03-06T15:44:31.886Z"
   },
   {
    "duration": 58,
    "start_time": "2022-03-06T15:56:09.463Z"
   },
   {
    "duration": 45,
    "start_time": "2022-03-06T15:57:10.962Z"
   },
   {
    "duration": 3009,
    "start_time": "2022-03-06T15:57:23.197Z"
   },
   {
    "duration": 3037,
    "start_time": "2022-03-06T16:04:29.616Z"
   },
   {
    "duration": 652,
    "start_time": "2022-03-06T16:04:59.008Z"
   },
   {
    "duration": 6,
    "start_time": "2022-03-06T16:21:44.302Z"
   },
   {
    "duration": 1082,
    "start_time": "2022-03-07T09:16:40.655Z"
   },
   {
    "duration": 45,
    "start_time": "2022-03-07T09:16:42.647Z"
   },
   {
    "duration": 3,
    "start_time": "2022-03-07T09:17:42.791Z"
   },
   {
    "duration": 382,
    "start_time": "2022-03-07T09:27:31.343Z"
   },
   {
    "duration": 1110,
    "start_time": "2022-03-07T09:28:48.439Z"
   },
   {
    "duration": 44,
    "start_time": "2022-03-07T09:28:49.551Z"
   },
   {
    "duration": 172,
    "start_time": "2022-03-07T09:28:49.597Z"
   },
   {
    "duration": 10,
    "start_time": "2022-03-07T09:28:49.770Z"
   },
   {
    "duration": 6,
    "start_time": "2022-03-07T09:28:49.782Z"
   },
   {
    "duration": 333,
    "start_time": "2022-03-07T09:28:49.789Z"
   },
   {
    "duration": 14,
    "start_time": "2022-03-07T09:28:50.123Z"
   },
   {
    "duration": 17,
    "start_time": "2022-03-07T09:28:50.139Z"
   },
   {
    "duration": 48,
    "start_time": "2022-03-07T09:28:50.157Z"
   },
   {
    "duration": 10,
    "start_time": "2022-03-07T09:28:50.206Z"
   },
   {
    "duration": 89,
    "start_time": "2022-03-07T09:28:50.217Z"
   },
   {
    "duration": 114,
    "start_time": "2022-03-07T09:28:50.308Z"
   },
   {
    "duration": 51,
    "start_time": "2022-03-07T09:28:50.423Z"
   },
   {
    "duration": 47,
    "start_time": "2022-03-07T09:28:50.475Z"
   },
   {
    "duration": 206,
    "start_time": "2022-03-07T09:28:50.601Z"
   },
   {
    "duration": 5244,
    "start_time": "2022-03-07T09:28:50.809Z"
   },
   {
    "duration": 66,
    "start_time": "2022-03-07T09:28:56.054Z"
   },
   {
    "duration": 198,
    "start_time": "2022-03-07T09:28:56.122Z"
   },
   {
    "duration": 1894,
    "start_time": "2022-03-07T09:28:56.322Z"
   },
   {
    "duration": 272,
    "start_time": "2022-03-07T09:28:58.217Z"
   },
   {
    "duration": 36,
    "start_time": "2022-03-07T09:29:54.487Z"
   },
   {
    "duration": 1126,
    "start_time": "2022-03-07T09:30:05.122Z"
   },
   {
    "duration": 56,
    "start_time": "2022-03-07T09:30:06.250Z"
   },
   {
    "duration": 216,
    "start_time": "2022-03-07T09:30:06.308Z"
   },
   {
    "duration": 10,
    "start_time": "2022-03-07T09:30:06.526Z"
   },
   {
    "duration": 3,
    "start_time": "2022-03-07T09:30:06.537Z"
   },
   {
    "duration": 343,
    "start_time": "2022-03-07T09:30:06.542Z"
   },
   {
    "duration": 20,
    "start_time": "2022-03-07T09:30:06.887Z"
   },
   {
    "duration": 11,
    "start_time": "2022-03-07T09:30:06.909Z"
   },
   {
    "duration": 46,
    "start_time": "2022-03-07T09:30:06.922Z"
   },
   {
    "duration": 40,
    "start_time": "2022-03-07T09:30:06.969Z"
   },
   {
    "duration": 200,
    "start_time": "2022-03-07T09:30:07.011Z"
   },
   {
    "duration": 49,
    "start_time": "2022-03-07T09:30:07.212Z"
   },
   {
    "duration": 39,
    "start_time": "2022-03-07T09:30:07.263Z"
   },
   {
    "duration": 268,
    "start_time": "2022-03-07T09:30:07.304Z"
   },
   {
    "duration": 5080,
    "start_time": "2022-03-07T09:30:07.574Z"
   },
   {
    "duration": 57,
    "start_time": "2022-03-07T09:30:12.656Z"
   },
   {
    "duration": 117,
    "start_time": "2022-03-07T09:30:12.801Z"
   },
   {
    "duration": 1822,
    "start_time": "2022-03-07T09:30:12.920Z"
   },
   {
    "duration": 273,
    "start_time": "2022-03-07T09:30:14.743Z"
   },
   {
    "duration": 1094,
    "start_time": "2022-03-07T18:14:20.698Z"
   },
   {
    "duration": 43,
    "start_time": "2022-03-07T18:14:21.794Z"
   },
   {
    "duration": 181,
    "start_time": "2022-03-07T18:14:21.839Z"
   },
   {
    "duration": 16,
    "start_time": "2022-03-07T18:14:22.022Z"
   },
   {
    "duration": 4,
    "start_time": "2022-03-07T18:14:22.040Z"
   },
   {
    "duration": 320,
    "start_time": "2022-03-07T18:14:22.045Z"
   },
   {
    "duration": 15,
    "start_time": "2022-03-07T18:14:22.367Z"
   },
   {
    "duration": 11,
    "start_time": "2022-03-07T18:14:22.385Z"
   },
   {
    "duration": 65,
    "start_time": "2022-03-07T18:14:22.398Z"
   },
   {
    "duration": 68,
    "start_time": "2022-03-07T18:14:22.465Z"
   },
   {
    "duration": 115,
    "start_time": "2022-03-07T18:14:22.536Z"
   },
   {
    "duration": 57,
    "start_time": "2022-03-07T18:14:22.653Z"
   },
   {
    "duration": 122,
    "start_time": "2022-03-07T18:14:22.712Z"
   },
   {
    "duration": 202,
    "start_time": "2022-03-07T18:14:22.836Z"
   },
   {
    "duration": 5296,
    "start_time": "2022-03-07T18:14:23.040Z"
   },
   {
    "duration": 99,
    "start_time": "2022-03-07T18:14:28.338Z"
   },
   {
    "duration": 118,
    "start_time": "2022-03-07T18:14:28.439Z"
   },
   {
    "duration": 1850,
    "start_time": "2022-03-07T18:14:28.559Z"
   },
   {
    "duration": 283,
    "start_time": "2022-03-07T18:14:30.411Z"
   },
   {
    "duration": 25,
    "start_time": "2022-03-07T18:21:54.793Z"
   },
   {
    "duration": 24,
    "start_time": "2022-03-07T18:22:27.681Z"
   },
   {
    "duration": 26,
    "start_time": "2022-03-07T18:22:37.858Z"
   },
   {
    "duration": 29,
    "start_time": "2022-03-07T18:23:56.738Z"
   },
   {
    "duration": 31,
    "start_time": "2022-03-07T18:24:08.015Z"
   },
   {
    "duration": 57,
    "start_time": "2022-03-07T18:24:21.686Z"
   },
   {
    "duration": 1162,
    "start_time": "2022-03-07T18:26:50.035Z"
   },
   {
    "duration": 49,
    "start_time": "2022-03-07T18:26:51.199Z"
   },
   {
    "duration": 194,
    "start_time": "2022-03-07T18:26:51.250Z"
   },
   {
    "duration": 11,
    "start_time": "2022-03-07T18:26:51.446Z"
   },
   {
    "duration": 3,
    "start_time": "2022-03-07T18:26:51.459Z"
   },
   {
    "duration": 333,
    "start_time": "2022-03-07T18:26:51.464Z"
   },
   {
    "duration": 17,
    "start_time": "2022-03-07T18:26:51.798Z"
   },
   {
    "duration": 32,
    "start_time": "2022-03-07T18:26:51.817Z"
   },
   {
    "duration": 41,
    "start_time": "2022-03-07T18:26:51.851Z"
   },
   {
    "duration": 59,
    "start_time": "2022-03-07T18:26:51.894Z"
   },
   {
    "duration": 195,
    "start_time": "2022-03-07T18:26:51.954Z"
   },
   {
    "duration": 60,
    "start_time": "2022-03-07T18:26:52.151Z"
   },
   {
    "duration": 100,
    "start_time": "2022-03-07T18:26:52.232Z"
   },
   {
    "duration": 220,
    "start_time": "2022-03-07T18:26:52.334Z"
   },
   {
    "duration": 5903,
    "start_time": "2022-03-07T18:26:52.556Z"
   },
   {
    "duration": 80,
    "start_time": "2022-03-07T18:26:58.460Z"
   },
   {
    "duration": 120,
    "start_time": "2022-03-07T18:26:58.543Z"
   },
   {
    "duration": 1998,
    "start_time": "2022-03-07T18:26:58.664Z"
   },
   {
    "duration": 313,
    "start_time": "2022-03-07T18:27:00.664Z"
   },
   {
    "duration": 4,
    "start_time": "2022-03-07T18:29:52.293Z"
   },
   {
    "duration": 309,
    "start_time": "2022-03-07T18:29:57.743Z"
   },
   {
    "duration": 577,
    "start_time": "2022-03-07T18:37:36.129Z"
   },
   {
    "duration": 4,
    "start_time": "2022-03-07T18:37:57.084Z"
   },
   {
    "duration": 515,
    "start_time": "2022-03-07T18:38:06.007Z"
   },
   {
    "duration": 608,
    "start_time": "2022-03-07T18:38:17.726Z"
   },
   {
    "duration": 701,
    "start_time": "2022-03-07T18:39:39.507Z"
   },
   {
    "duration": 440,
    "start_time": "2022-03-07T18:39:49.072Z"
   },
   {
    "duration": 475,
    "start_time": "2022-03-07T18:44:20.516Z"
   },
   {
    "duration": 467,
    "start_time": "2022-03-07T18:45:22.936Z"
   },
   {
    "duration": 463,
    "start_time": "2022-03-07T18:45:26.071Z"
   },
   {
    "duration": 470,
    "start_time": "2022-03-07T18:46:30.624Z"
   },
   {
    "duration": 450,
    "start_time": "2022-03-07T18:46:52.562Z"
   },
   {
    "duration": 456,
    "start_time": "2022-03-07T18:46:56.365Z"
   },
   {
    "duration": 1181,
    "start_time": "2022-03-07T18:51:11.118Z"
   },
   {
    "duration": 50,
    "start_time": "2022-03-07T18:51:12.301Z"
   },
   {
    "duration": 194,
    "start_time": "2022-03-07T18:51:12.353Z"
   },
   {
    "duration": 12,
    "start_time": "2022-03-07T18:51:12.549Z"
   },
   {
    "duration": 4,
    "start_time": "2022-03-07T18:51:12.562Z"
   },
   {
    "duration": 324,
    "start_time": "2022-03-07T18:51:12.568Z"
   },
   {
    "duration": 16,
    "start_time": "2022-03-07T18:51:12.894Z"
   },
   {
    "duration": 25,
    "start_time": "2022-03-07T18:51:12.912Z"
   },
   {
    "duration": 43,
    "start_time": "2022-03-07T18:51:12.939Z"
   },
   {
    "duration": 68,
    "start_time": "2022-03-07T18:51:12.984Z"
   },
   {
    "duration": 115,
    "start_time": "2022-03-07T18:51:13.138Z"
   },
   {
    "duration": 55,
    "start_time": "2022-03-07T18:51:13.254Z"
   },
   {
    "duration": 35,
    "start_time": "2022-03-07T18:51:13.311Z"
   },
   {
    "duration": 299,
    "start_time": "2022-03-07T18:51:13.348Z"
   },
   {
    "duration": 7451,
    "start_time": "2022-03-07T18:51:13.649Z"
   },
   {
    "duration": 74,
    "start_time": "2022-03-07T18:51:21.103Z"
   },
   {
    "duration": 128,
    "start_time": "2022-03-07T18:51:21.234Z"
   },
   {
    "duration": 1970,
    "start_time": "2022-03-07T18:51:21.363Z"
   },
   {
    "duration": 444,
    "start_time": "2022-03-07T18:51:23.335Z"
   },
   {
    "duration": 653,
    "start_time": "2022-03-07T18:56:43.529Z"
   },
   {
    "duration": 462,
    "start_time": "2022-03-07T18:56:51.413Z"
   },
   {
    "duration": 604,
    "start_time": "2022-03-07T18:57:16.316Z"
   },
   {
    "duration": 610,
    "start_time": "2022-03-07T18:57:19.174Z"
   },
   {
    "duration": 634,
    "start_time": "2022-03-07T18:57:32.028Z"
   },
   {
    "duration": 1459,
    "start_time": "2022-09-07T17:06:35.454Z"
   },
   {
    "duration": 367,
    "start_time": "2022-09-07T17:06:36.915Z"
   },
   {
    "duration": 166,
    "start_time": "2022-09-07T17:06:37.284Z"
   },
   {
    "duration": 13,
    "start_time": "2022-09-07T17:06:37.454Z"
   },
   {
    "duration": 4,
    "start_time": "2022-09-07T17:06:37.470Z"
   },
   {
    "duration": 382,
    "start_time": "2022-09-07T17:06:37.475Z"
   },
   {
    "duration": 16,
    "start_time": "2022-09-07T17:06:37.859Z"
   },
   {
    "duration": 9,
    "start_time": "2022-09-07T17:06:37.877Z"
   },
   {
    "duration": 38,
    "start_time": "2022-09-07T17:06:37.887Z"
   },
   {
    "duration": 129,
    "start_time": "2022-09-07T17:06:37.926Z"
   },
   {
    "duration": 112,
    "start_time": "2022-09-07T17:06:38.064Z"
   },
   {
    "duration": 449,
    "start_time": "2022-09-07T17:06:38.178Z"
   },
   {
    "duration": 32,
    "start_time": "2022-09-07T17:06:38.628Z"
   },
   {
    "duration": 291,
    "start_time": "2022-09-07T17:06:38.664Z"
   },
   {
    "duration": 5373,
    "start_time": "2022-09-07T17:06:38.957Z"
   },
   {
    "duration": 41,
    "start_time": "2022-09-07T17:06:44.331Z"
   },
   {
    "duration": 197,
    "start_time": "2022-09-07T17:06:44.374Z"
   },
   {
    "duration": 1775,
    "start_time": "2022-09-07T17:06:44.572Z"
   },
   {
    "duration": 533,
    "start_time": "2022-09-07T17:06:46.348Z"
   },
   {
    "duration": 1230,
    "start_time": "2022-09-07T17:08:10.905Z"
   },
   {
    "duration": 60,
    "start_time": "2022-09-07T17:08:12.136Z"
   },
   {
    "duration": 123,
    "start_time": "2022-09-07T17:08:12.197Z"
   },
   {
    "duration": 10,
    "start_time": "2022-09-07T17:08:12.322Z"
   },
   {
    "duration": 7,
    "start_time": "2022-09-07T17:08:12.334Z"
   },
   {
    "duration": 326,
    "start_time": "2022-09-07T17:08:12.342Z"
   },
   {
    "duration": 15,
    "start_time": "2022-09-07T17:08:12.669Z"
   },
   {
    "duration": 9,
    "start_time": "2022-09-07T17:08:12.686Z"
   },
   {
    "duration": 36,
    "start_time": "2022-09-07T17:08:12.697Z"
   },
   {
    "duration": 43,
    "start_time": "2022-09-07T17:08:12.734Z"
   },
   {
    "duration": 116,
    "start_time": "2022-09-07T17:08:12.856Z"
   },
   {
    "duration": 459,
    "start_time": "2022-09-07T17:08:12.974Z"
   },
   {
    "duration": 29,
    "start_time": "2022-09-07T17:08:13.435Z"
   },
   {
    "duration": 290,
    "start_time": "2022-09-07T17:08:13.467Z"
   },
   {
    "duration": 5553,
    "start_time": "2022-09-07T17:08:13.760Z"
   },
   {
    "duration": 50,
    "start_time": "2022-09-07T17:08:19.314Z"
   },
   {
    "duration": 119,
    "start_time": "2022-09-07T17:08:19.456Z"
   },
   {
    "duration": 1849,
    "start_time": "2022-09-07T17:08:19.576Z"
   },
   {
    "duration": 563,
    "start_time": "2022-09-07T17:08:21.426Z"
   }
  ],
  "kernelspec": {
   "display_name": "Python 3 (ipykernel)",
   "language": "python",
   "name": "python3"
  },
  "language_info": {
   "codemirror_mode": {
    "name": "ipython",
    "version": 3
   },
   "file_extension": ".py",
   "mimetype": "text/x-python",
   "name": "python",
   "nbconvert_exporter": "python",
   "pygments_lexer": "ipython3",
   "version": "3.9.12"
  },
  "toc": {
   "base_numbering": 1,
   "nav_menu": {},
   "number_sections": true,
   "sideBar": true,
   "skip_h1_title": true,
   "title_cell": "Содержание",
   "title_sidebar": "Contents",
   "toc_cell": true,
   "toc_position": {
    "height": "calc(100% - 180px)",
    "left": "10px",
    "top": "150px",
    "width": "165px"
   },
   "toc_section_display": true,
   "toc_window_display": false
  }
 },
 "nbformat": 4,
 "nbformat_minor": 2
}
