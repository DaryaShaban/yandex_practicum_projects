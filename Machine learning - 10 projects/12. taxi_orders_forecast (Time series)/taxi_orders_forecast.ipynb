{
 "cells": [
  {
   "cell_type": "markdown",
   "metadata": {},
   "source": [
    "#  Taxi orders prediction"
   ]
  },
  {
   "cell_type": "markdown",
   "metadata": {},
   "source": [
    "A Taxi company has collected historical data on taxi orders at the airports. The task is to predict the number of taxi orders for the next hour in order to attract more drivers during the peak hours. \n",
    "\n",
    "The metrics used is *RMSE*, the value on the test sample should not exceed 48. Test sample should be 10% of the original data."
   ]
  },
  {
   "cell_type": "markdown",
   "metadata": {},
   "source": [
    "### Contents:\n",
    "\n",
    "<a href='#first'>1) Data preprocessing </a> <br/>\n",
    "<a href='#second'>2) EDA</a> <br/>\n",
    "<a href='#third'>3) Training the model</a> <br/>\n",
    "<a href='#fourth'>4) Test </a> <br/>\n",
    "<a href='#fifth'>5) Summary</a> <br/>"
   ]
  },
  {
   "cell_type": "markdown",
   "metadata": {},
   "source": [
    "<a id='first'></a>\n",
    "## 1. Data preprocessing"
   ]
  },
  {
   "cell_type": "code",
   "execution_count": 1,
   "metadata": {},
   "outputs": [],
   "source": [
    "import pandas as pd\n",
    "import matplotlib.pyplot as plt\n",
    "import numpy as np\n",
    "\n",
    "from statsmodels.tsa.seasonal import seasonal_decompose\n",
    "\n",
    "from sklearn.model_selection import train_test_split\n",
    "from sklearn.linear_model import LinearRegression\n",
    "from sklearn.tree import DecisionTreeRegressor\n",
    "from sklearn.ensemble import RandomForestRegressor\n",
    "from catboost import CatBoostRegressor\n",
    "import lightgbm as lgb\n",
    "from sklearn.metrics import mean_squared_error\n",
    "\n",
    "from sklearn.model_selection import cross_val_score\n",
    "from sklearn.metrics import make_scorer\n",
    "from sklearn.model_selection import GridSearchCV\n",
    "from sklearn.model_selection import TimeSeriesSplit"
   ]
  },
  {
   "cell_type": "code",
   "execution_count": 2,
   "metadata": {
    "scrolled": true
   },
   "outputs": [
    {
     "name": "stdout",
     "output_type": "stream",
     "text": [
      "<class 'pandas.core.frame.DataFrame'>\n",
      "DatetimeIndex: 26496 entries, 2018-03-01 00:00:00 to 2018-08-31 23:50:00\n",
      "Data columns (total 1 columns):\n",
      " #   Column      Non-Null Count  Dtype\n",
      "---  ------      --------------  -----\n",
      " 0   num_orders  26496 non-null  int64\n",
      "dtypes: int64(1)\n",
      "memory usage: 414.0 KB\n"
     ]
    },
    {
     "data": {
      "text/html": [
       "<div>\n",
       "<style scoped>\n",
       "    .dataframe tbody tr th:only-of-type {\n",
       "        vertical-align: middle;\n",
       "    }\n",
       "\n",
       "    .dataframe tbody tr th {\n",
       "        vertical-align: top;\n",
       "    }\n",
       "\n",
       "    .dataframe thead th {\n",
       "        text-align: right;\n",
       "    }\n",
       "</style>\n",
       "<table border=\"1\" class=\"dataframe\">\n",
       "  <thead>\n",
       "    <tr style=\"text-align: right;\">\n",
       "      <th></th>\n",
       "      <th>num_orders</th>\n",
       "    </tr>\n",
       "    <tr>\n",
       "      <th>datetime</th>\n",
       "      <th></th>\n",
       "    </tr>\n",
       "  </thead>\n",
       "  <tbody>\n",
       "    <tr>\n",
       "      <th>2018-03-01 00:00:00</th>\n",
       "      <td>9</td>\n",
       "    </tr>\n",
       "    <tr>\n",
       "      <th>2018-03-01 00:10:00</th>\n",
       "      <td>14</td>\n",
       "    </tr>\n",
       "    <tr>\n",
       "      <th>2018-03-01 00:20:00</th>\n",
       "      <td>28</td>\n",
       "    </tr>\n",
       "    <tr>\n",
       "      <th>2018-03-01 00:30:00</th>\n",
       "      <td>20</td>\n",
       "    </tr>\n",
       "    <tr>\n",
       "      <th>2018-03-01 00:40:00</th>\n",
       "      <td>32</td>\n",
       "    </tr>\n",
       "  </tbody>\n",
       "</table>\n",
       "</div>"
      ],
      "text/plain": [
       "                     num_orders\n",
       "datetime                       \n",
       "2018-03-01 00:00:00           9\n",
       "2018-03-01 00:10:00          14\n",
       "2018-03-01 00:20:00          28\n",
       "2018-03-01 00:30:00          20\n",
       "2018-03-01 00:40:00          32"
      ]
     },
     "metadata": {},
     "output_type": "display_data"
    },
    {
     "name": "stdout",
     "output_type": "stream",
     "text": [
      "<class 'pandas.core.frame.DataFrame'>\n",
      "DatetimeIndex: 4416 entries, 2018-03-01 00:00:00 to 2018-08-31 23:00:00\n",
      "Freq: H\n",
      "Data columns (total 1 columns):\n",
      " #   Column      Non-Null Count  Dtype\n",
      "---  ------      --------------  -----\n",
      " 0   num_orders  4416 non-null   int64\n",
      "dtypes: int64(1)\n",
      "memory usage: 69.0 KB\n"
     ]
    },
    {
     "data": {
      "text/html": [
       "<div>\n",
       "<style scoped>\n",
       "    .dataframe tbody tr th:only-of-type {\n",
       "        vertical-align: middle;\n",
       "    }\n",
       "\n",
       "    .dataframe tbody tr th {\n",
       "        vertical-align: top;\n",
       "    }\n",
       "\n",
       "    .dataframe thead th {\n",
       "        text-align: right;\n",
       "    }\n",
       "</style>\n",
       "<table border=\"1\" class=\"dataframe\">\n",
       "  <thead>\n",
       "    <tr style=\"text-align: right;\">\n",
       "      <th></th>\n",
       "      <th>num_orders</th>\n",
       "    </tr>\n",
       "    <tr>\n",
       "      <th>datetime</th>\n",
       "      <th></th>\n",
       "    </tr>\n",
       "  </thead>\n",
       "  <tbody>\n",
       "    <tr>\n",
       "      <th>2018-03-01 00:00:00</th>\n",
       "      <td>124</td>\n",
       "    </tr>\n",
       "    <tr>\n",
       "      <th>2018-03-01 01:00:00</th>\n",
       "      <td>85</td>\n",
       "    </tr>\n",
       "    <tr>\n",
       "      <th>2018-03-01 02:00:00</th>\n",
       "      <td>71</td>\n",
       "    </tr>\n",
       "    <tr>\n",
       "      <th>2018-03-01 03:00:00</th>\n",
       "      <td>66</td>\n",
       "    </tr>\n",
       "    <tr>\n",
       "      <th>2018-03-01 04:00:00</th>\n",
       "      <td>43</td>\n",
       "    </tr>\n",
       "  </tbody>\n",
       "</table>\n",
       "</div>"
      ],
      "text/plain": [
       "                     num_orders\n",
       "datetime                       \n",
       "2018-03-01 00:00:00         124\n",
       "2018-03-01 01:00:00          85\n",
       "2018-03-01 02:00:00          71\n",
       "2018-03-01 03:00:00          66\n",
       "2018-03-01 04:00:00          43"
      ]
     },
     "execution_count": 2,
     "metadata": {},
     "output_type": "execute_result"
    }
   ],
   "source": [
    "data = pd.read_csv('/datasets/taxi.csv', index_col = [0], parse_dates = [0])\n",
    "data.sort_index(inplace=True)\n",
    "data.info()\n",
    "display(data.head())\n",
    "data = data.resample('1H').sum()\n",
    "data.info()\n",
    "data.head()"
   ]
  },
  {
   "cell_type": "markdown",
   "metadata": {},
   "source": [
    "### Conclusion\n",
    "The data was uploaded and resampled (one hour at a time) during the first step. The data was also sorted by date and time. The data represents the number of orders between March 1, 2018 and August 31, 2018."
   ]
  },
  {
   "cell_type": "markdown",
   "metadata": {},
   "source": [
    "<a id='second'></a>\n",
    "## 2. EDA"
   ]
  },
  {
   "cell_type": "code",
   "execution_count": 3,
   "metadata": {
    "scrolled": true
   },
   "outputs": [
    {
     "data": {
      "image/png": "[encoded data removed]",
      "text/plain": [
       "<Figure size 432x576 with 3 Axes>"
      ]
     },
     "metadata": {
      "needs_background": "light"
     },
     "output_type": "display_data"
    }
   ],
   "source": [
    "decomposed = seasonal_decompose(data)\n",
    "\n",
    "plt.figure(figsize=(6, 8))\n",
    "\n",
    "plt.subplot(311)\n",
    "decomposed.trend.plot(ax=plt.gca())\n",
    "plt.title('Trend')\n",
    "plt.subplot(312)\n",
    "decomposed.seasonal.plot(ax=plt.gca())\n",
    "plt.title('Season')\n",
    "plt.subplot(313)\n",
    "decomposed.resid.plot(ax=plt.gca())\n",
    "plt.title('Residuals')\n",
    "\n",
    "\n",
    "\n",
    "plt.tight_layout()\n",
    "plt.show()"
   ]
  },
  {
   "cell_type": "code",
   "execution_count": 4,
   "metadata": {},
   "outputs": [
    {
     "data": {
      "text/plain": [
       "<AxesSubplot:xlabel='datetime'>"
      ]
     },
     "execution_count": 4,
     "metadata": {},
     "output_type": "execute_result"
    },
    {
     "data": {
      "image/png": "[encoded data removed]",
      "text/plain": [
       "<Figure size 432x288 with 1 Axes>"
      ]
     },
     "metadata": {
      "needs_background": "light"
     },
     "output_type": "display_data"
    }
   ],
   "source": [
    "decomposed_1 = seasonal_decompose(data)\n",
    "decomposed_1.seasonal['2018-08-01':'2018-08-31'].plot()"
   ]
  },
  {
   "cell_type": "markdown",
   "metadata": {},
   "source": [
    "The trend chart shows that the number of orders is growing relatively systematically, while August showed the largest marginal growth. This may be due to the beginning of the \"velvet season\" and an increase in the inrush of tourists. The chart also shows that there are some “outliers” in August that are are explained by the trend.\n",
    "\n",
    "No special seasonality is observed on the first charts. Therefore, a seasonality graph was separately constructed for a short interval (month - August). From this graph, it is clear that the number of orders has certain peaks and valleys associated with the time of the day. It seems that during the night the number of orders falls, increases during the day."
   ]
  },
  {
   "cell_type": "code",
   "execution_count": 5,
   "metadata": {
    "scrolled": true
   },
   "outputs": [
    {
     "data": {
      "text/plain": [
       "<AxesSubplot:xlabel='datetime'>"
      ]
     },
     "execution_count": 5,
     "metadata": {},
     "output_type": "execute_result"
    },
    {
     "data": {
      "image/png": "[encoded data removed]",
      "text/plain": [
       "<Figure size 432x288 with 1 Axes>"
      ]
     },
     "metadata": {
      "needs_background": "light"
     },
     "output_type": "display_data"
    }
   ],
   "source": [
    "data['mean'] = data['num_orders'].rolling(15).mean()\n",
    "data['std'] = data['num_orders'].rolling(15).std()\n",
    "data.plot()"
   ]
  },
  {
   "cell_type": "markdown",
   "metadata": {},
   "source": [
    "The chart above shows the moving average and standard deviation of the time series. These graphs are more stationary than the graph of the number of orders. At the same time, the moving average is also systematically growing. Below is the decomposition of the standard deviation."
   ]
  },
  {
   "cell_type": "code",
   "execution_count": 6,
   "metadata": {
    "scrolled": true
   },
   "outputs": [
    {
     "data": {
      "image/png": "[encoded data removed]",
      "text/plain": [
       "<Figure size 432x576 with 2 Axes>"
      ]
     },
     "metadata": {
      "needs_background": "light"
     },
     "output_type": "display_data"
    }
   ],
   "source": [
    "data_std = data['std']\n",
    "data_std = data_std.dropna()\n",
    "decomposed_std = seasonal_decompose(data_std)\n",
    "\n",
    "\n",
    "plt.figure(figsize=(6, 8))\n",
    "plt.subplot(311)\n",
    "\n",
    "decomposed_std.trend.plot(ax=plt.gca())\n",
    "plt.title('Trend')\n",
    "plt.subplot(312)\n",
    "decomposed_std.resid.plot(ax=plt.gca())\n",
    "plt.title('Residuals')\n",
    "plt.tight_layout()\n",
    "plt.show()"
   ]
  },
  {
   "cell_type": "markdown",
   "metadata": {},
   "source": [
    "The standard deviation has a more non-linear trend, all the months up to August do not differ much from each other. The standard deviation increases in August, both in relative and absolute terms. The moving average and deviation parameters will be used as features in the next step."
   ]
  },
  {
   "cell_type": "markdown",
   "metadata": {},
   "source": [
    "### Conclusion\n",
    "Data analysis showed that the time series is not stationary - its mean and standard deviation change with time. At the same time, the prediction of 10% of the population (respectively, the \"tails\" of the time series) is complicated by the fact that the growth trend showed the largest jump in the last month. \n",
    "\n",
    "Deviations in the graphs may indicate that the load of drivers is non-linear - due to the fact that an unequal number of flights arrive every hour (and taxis to the airport are called upon the arrival or departure of an aircraft), for example, at night the load is much less. This was also confirmed by the seasonality plotted for August, which shows that orders have certain peaks and falls associated with the time of the day: during the night period, the number of orders falls, increases during the day. The increase in orders in August can be explained by the tourist season."
   ]
  },
  {
   "cell_type": "markdown",
   "metadata": {},
   "source": [
    "<a id='third'></a>\n",
    "## 3. Training the model"
   ]
  },
  {
   "cell_type": "markdown",
   "metadata": {},
   "source": [
    "Features will also include:\n",
    " - a lag of 7 days (a week) \n",
    " - a moving average of 2 days \n",
    " \n",
    "The sample will be divided into training, validation and test in the proportion of 80:10:10."
   ]
  },
  {
   "cell_type": "code",
   "execution_count": 7,
   "metadata": {},
   "outputs": [],
   "source": [
    "def make_features(data, max_lag, rolling_size_mean):\n",
    "    data['month'] = data.index.month\n",
    "    data['day'] = data.index.day\n",
    "    data['dayofweek'] = data.index.dayofweek\n",
    "    data['hour'] = data.index.hour\n",
    "    for lag in range(1, max_lag+1):\n",
    "        data['lag_{}'.format(lag)] = data['std'].shift(lag)\n",
    "    data['rolling_size'] = data['std'].shift().rolling(rolling_size_mean).mean()  "
   ]
  },
  {
   "cell_type": "code",
   "execution_count": 8,
   "metadata": {
    "scrolled": true
   },
   "outputs": [
    {
     "data": {
      "text/html": [
       "<div>\n",
       "<style scoped>\n",
       "    .dataframe tbody tr th:only-of-type {\n",
       "        vertical-align: middle;\n",
       "    }\n",
       "\n",
       "    .dataframe tbody tr th {\n",
       "        vertical-align: top;\n",
       "    }\n",
       "\n",
       "    .dataframe thead th {\n",
       "        text-align: right;\n",
       "    }\n",
       "</style>\n",
       "<table border=\"1\" class=\"dataframe\">\n",
       "  <thead>\n",
       "    <tr style=\"text-align: right;\">\n",
       "      <th></th>\n",
       "      <th>num_orders</th>\n",
       "      <th>mean</th>\n",
       "      <th>std</th>\n",
       "      <th>month</th>\n",
       "      <th>day</th>\n",
       "      <th>dayofweek</th>\n",
       "      <th>hour</th>\n",
       "      <th>lag_1</th>\n",
       "      <th>lag_2</th>\n",
       "      <th>lag_3</th>\n",
       "      <th>lag_4</th>\n",
       "      <th>lag_5</th>\n",
       "      <th>lag_6</th>\n",
       "      <th>lag_7</th>\n",
       "      <th>rolling_size</th>\n",
       "    </tr>\n",
       "    <tr>\n",
       "      <th>datetime</th>\n",
       "      <th></th>\n",
       "      <th></th>\n",
       "      <th></th>\n",
       "      <th></th>\n",
       "      <th></th>\n",
       "      <th></th>\n",
       "      <th></th>\n",
       "      <th></th>\n",
       "      <th></th>\n",
       "      <th></th>\n",
       "      <th></th>\n",
       "      <th></th>\n",
       "      <th></th>\n",
       "      <th></th>\n",
       "      <th></th>\n",
       "    </tr>\n",
       "  </thead>\n",
       "  <tbody>\n",
       "    <tr>\n",
       "      <th>2018-03-01 00:00:00</th>\n",
       "      <td>124</td>\n",
       "      <td>NaN</td>\n",
       "      <td>NaN</td>\n",
       "      <td>3</td>\n",
       "      <td>1</td>\n",
       "      <td>3</td>\n",
       "      <td>0</td>\n",
       "      <td>NaN</td>\n",
       "      <td>NaN</td>\n",
       "      <td>NaN</td>\n",
       "      <td>NaN</td>\n",
       "      <td>NaN</td>\n",
       "      <td>NaN</td>\n",
       "      <td>NaN</td>\n",
       "      <td>NaN</td>\n",
       "    </tr>\n",
       "    <tr>\n",
       "      <th>2018-03-01 01:00:00</th>\n",
       "      <td>85</td>\n",
       "      <td>NaN</td>\n",
       "      <td>NaN</td>\n",
       "      <td>3</td>\n",
       "      <td>1</td>\n",
       "      <td>3</td>\n",
       "      <td>1</td>\n",
       "      <td>NaN</td>\n",
       "      <td>NaN</td>\n",
       "      <td>NaN</td>\n",
       "      <td>NaN</td>\n",
       "      <td>NaN</td>\n",
       "      <td>NaN</td>\n",
       "      <td>NaN</td>\n",
       "      <td>NaN</td>\n",
       "    </tr>\n",
       "    <tr>\n",
       "      <th>2018-03-01 02:00:00</th>\n",
       "      <td>71</td>\n",
       "      <td>NaN</td>\n",
       "      <td>NaN</td>\n",
       "      <td>3</td>\n",
       "      <td>1</td>\n",
       "      <td>3</td>\n",
       "      <td>2</td>\n",
       "      <td>NaN</td>\n",
       "      <td>NaN</td>\n",
       "      <td>NaN</td>\n",
       "      <td>NaN</td>\n",
       "      <td>NaN</td>\n",
       "      <td>NaN</td>\n",
       "      <td>NaN</td>\n",
       "      <td>NaN</td>\n",
       "    </tr>\n",
       "    <tr>\n",
       "      <th>2018-03-01 03:00:00</th>\n",
       "      <td>66</td>\n",
       "      <td>NaN</td>\n",
       "      <td>NaN</td>\n",
       "      <td>3</td>\n",
       "      <td>1</td>\n",
       "      <td>3</td>\n",
       "      <td>3</td>\n",
       "      <td>NaN</td>\n",
       "      <td>NaN</td>\n",
       "      <td>NaN</td>\n",
       "      <td>NaN</td>\n",
       "      <td>NaN</td>\n",
       "      <td>NaN</td>\n",
       "      <td>NaN</td>\n",
       "      <td>NaN</td>\n",
       "    </tr>\n",
       "    <tr>\n",
       "      <th>2018-03-01 04:00:00</th>\n",
       "      <td>43</td>\n",
       "      <td>NaN</td>\n",
       "      <td>NaN</td>\n",
       "      <td>3</td>\n",
       "      <td>1</td>\n",
       "      <td>3</td>\n",
       "      <td>4</td>\n",
       "      <td>NaN</td>\n",
       "      <td>NaN</td>\n",
       "      <td>NaN</td>\n",
       "      <td>NaN</td>\n",
       "      <td>NaN</td>\n",
       "      <td>NaN</td>\n",
       "      <td>NaN</td>\n",
       "      <td>NaN</td>\n",
       "    </tr>\n",
       "  </tbody>\n",
       "</table>\n",
       "</div>"
      ],
      "text/plain": [
       "                     num_orders  mean  std  month  day  dayofweek  hour  \\\n",
       "datetime                                                                  \n",
       "2018-03-01 00:00:00         124   NaN  NaN      3    1          3     0   \n",
       "2018-03-01 01:00:00          85   NaN  NaN      3    1          3     1   \n",
       "2018-03-01 02:00:00          71   NaN  NaN      3    1          3     2   \n",
       "2018-03-01 03:00:00          66   NaN  NaN      3    1          3     3   \n",
       "2018-03-01 04:00:00          43   NaN  NaN      3    1          3     4   \n",
       "\n",
       "                     lag_1  lag_2  lag_3  lag_4  lag_5  lag_6  lag_7  \\\n",
       "datetime                                                               \n",
       "2018-03-01 00:00:00    NaN    NaN    NaN    NaN    NaN    NaN    NaN   \n",
       "2018-03-01 01:00:00    NaN    NaN    NaN    NaN    NaN    NaN    NaN   \n",
       "2018-03-01 02:00:00    NaN    NaN    NaN    NaN    NaN    NaN    NaN   \n",
       "2018-03-01 03:00:00    NaN    NaN    NaN    NaN    NaN    NaN    NaN   \n",
       "2018-03-01 04:00:00    NaN    NaN    NaN    NaN    NaN    NaN    NaN   \n",
       "\n",
       "                     rolling_size  \n",
       "datetime                           \n",
       "2018-03-01 00:00:00           NaN  \n",
       "2018-03-01 01:00:00           NaN  \n",
       "2018-03-01 02:00:00           NaN  \n",
       "2018-03-01 03:00:00           NaN  \n",
       "2018-03-01 04:00:00           NaN  "
      ]
     },
     "execution_count": 8,
     "metadata": {},
     "output_type": "execute_result"
    }
   ],
   "source": [
    "data_features = data\n",
    "make_features(data_features, 7, 2)\n",
    "data_features.head()"
   ]
  },
  {
   "cell_type": "code",
   "execution_count": 9,
   "metadata": {
    "scrolled": false
   },
   "outputs": [
    {
     "data": {
      "text/plain": [
       "(3557, 15)"
      ]
     },
     "metadata": {},
     "output_type": "display_data"
    },
    {
     "data": {
      "text/plain": [
       "(396, 15)"
      ]
     },
     "metadata": {},
     "output_type": "display_data"
    },
    {
     "data": {
      "text/plain": [
       "(442, 15)"
      ]
     },
     "execution_count": 9,
     "metadata": {},
     "output_type": "execute_result"
    }
   ],
   "source": [
    "train_0, test = train_test_split(data_features, shuffle=False, test_size = 0.1)\n",
    "train_0 = train_0.dropna()\n",
    "train, valid = train_test_split(train_0, shuffle=False, test_size = 0.1)\n",
    "display(train.shape)\n",
    "display(valid.shape)\n",
    "test.shape"
   ]
  },
  {
   "cell_type": "code",
   "execution_count": 10,
   "metadata": {},
   "outputs": [
    {
     "data": {
      "text/html": [
       "<div>\n",
       "<style scoped>\n",
       "    .dataframe tbody tr th:only-of-type {\n",
       "        vertical-align: middle;\n",
       "    }\n",
       "\n",
       "    .dataframe tbody tr th {\n",
       "        vertical-align: top;\n",
       "    }\n",
       "\n",
       "    .dataframe thead th {\n",
       "        text-align: right;\n",
       "    }\n",
       "</style>\n",
       "<table border=\"1\" class=\"dataframe\">\n",
       "  <thead>\n",
       "    <tr style=\"text-align: right;\">\n",
       "      <th></th>\n",
       "      <th>mean</th>\n",
       "      <th>std</th>\n",
       "      <th>month</th>\n",
       "      <th>day</th>\n",
       "      <th>dayofweek</th>\n",
       "      <th>hour</th>\n",
       "      <th>lag_1</th>\n",
       "      <th>lag_2</th>\n",
       "      <th>lag_3</th>\n",
       "      <th>lag_4</th>\n",
       "      <th>lag_5</th>\n",
       "      <th>lag_6</th>\n",
       "      <th>lag_7</th>\n",
       "      <th>rolling_size</th>\n",
       "    </tr>\n",
       "    <tr>\n",
       "      <th>datetime</th>\n",
       "      <th></th>\n",
       "      <th></th>\n",
       "      <th></th>\n",
       "      <th></th>\n",
       "      <th></th>\n",
       "      <th></th>\n",
       "      <th></th>\n",
       "      <th></th>\n",
       "      <th></th>\n",
       "      <th></th>\n",
       "      <th></th>\n",
       "      <th></th>\n",
       "      <th></th>\n",
       "      <th></th>\n",
       "    </tr>\n",
       "  </thead>\n",
       "  <tbody>\n",
       "    <tr>\n",
       "      <th>2018-03-01 21:00:00</th>\n",
       "      <td>52.400000</td>\n",
       "      <td>20.818261</td>\n",
       "      <td>3</td>\n",
       "      <td>1</td>\n",
       "      <td>3</td>\n",
       "      <td>21</td>\n",
       "      <td>22.866694</td>\n",
       "      <td>25.073796</td>\n",
       "      <td>25.079872</td>\n",
       "      <td>24.581836</td>\n",
       "      <td>25.510969</td>\n",
       "      <td>27.357074</td>\n",
       "      <td>33.353089</td>\n",
       "      <td>23.970245</td>\n",
       "    </tr>\n",
       "    <tr>\n",
       "      <th>2018-03-01 22:00:00</th>\n",
       "      <td>58.933333</td>\n",
       "      <td>23.453500</td>\n",
       "      <td>3</td>\n",
       "      <td>1</td>\n",
       "      <td>3</td>\n",
       "      <td>22</td>\n",
       "      <td>20.818261</td>\n",
       "      <td>22.866694</td>\n",
       "      <td>25.073796</td>\n",
       "      <td>25.079872</td>\n",
       "      <td>24.581836</td>\n",
       "      <td>25.510969</td>\n",
       "      <td>27.357074</td>\n",
       "      <td>21.842478</td>\n",
       "    </tr>\n",
       "  </tbody>\n",
       "</table>\n",
       "</div>"
      ],
      "text/plain": [
       "                          mean        std  month  day  dayofweek  hour  \\\n",
       "datetime                                                                 \n",
       "2018-03-01 21:00:00  52.400000  20.818261      3    1          3    21   \n",
       "2018-03-01 22:00:00  58.933333  23.453500      3    1          3    22   \n",
       "\n",
       "                         lag_1      lag_2      lag_3      lag_4      lag_5  \\\n",
       "datetime                                                                     \n",
       "2018-03-01 21:00:00  22.866694  25.073796  25.079872  24.581836  25.510969   \n",
       "2018-03-01 22:00:00  20.818261  22.866694  25.073796  25.079872  24.581836   \n",
       "\n",
       "                         lag_6      lag_7  rolling_size  \n",
       "datetime                                                 \n",
       "2018-03-01 21:00:00  27.357074  33.353089     23.970245  \n",
       "2018-03-01 22:00:00  25.510969  27.357074     21.842478  "
      ]
     },
     "metadata": {},
     "output_type": "display_data"
    },
    {
     "data": {
      "text/html": [
       "<div>\n",
       "<style scoped>\n",
       "    .dataframe tbody tr th:only-of-type {\n",
       "        vertical-align: middle;\n",
       "    }\n",
       "\n",
       "    .dataframe tbody tr th {\n",
       "        vertical-align: top;\n",
       "    }\n",
       "\n",
       "    .dataframe thead th {\n",
       "        text-align: right;\n",
       "    }\n",
       "</style>\n",
       "<table border=\"1\" class=\"dataframe\">\n",
       "  <thead>\n",
       "    <tr style=\"text-align: right;\">\n",
       "      <th></th>\n",
       "      <th>mean</th>\n",
       "      <th>std</th>\n",
       "      <th>month</th>\n",
       "      <th>day</th>\n",
       "      <th>dayofweek</th>\n",
       "      <th>hour</th>\n",
       "      <th>lag_1</th>\n",
       "      <th>lag_2</th>\n",
       "      <th>lag_3</th>\n",
       "      <th>lag_4</th>\n",
       "      <th>lag_5</th>\n",
       "      <th>lag_6</th>\n",
       "      <th>lag_7</th>\n",
       "      <th>rolling_size</th>\n",
       "    </tr>\n",
       "    <tr>\n",
       "      <th>datetime</th>\n",
       "      <th></th>\n",
       "      <th></th>\n",
       "      <th></th>\n",
       "      <th></th>\n",
       "      <th></th>\n",
       "      <th></th>\n",
       "      <th></th>\n",
       "      <th></th>\n",
       "      <th></th>\n",
       "      <th></th>\n",
       "      <th></th>\n",
       "      <th></th>\n",
       "      <th></th>\n",
       "      <th></th>\n",
       "    </tr>\n",
       "  </thead>\n",
       "  <tbody>\n",
       "    <tr>\n",
       "      <th>2018-07-28 00:00:00</th>\n",
       "      <td>131.333333</td>\n",
       "      <td>41.150710</td>\n",
       "      <td>7</td>\n",
       "      <td>28</td>\n",
       "      <td>5</td>\n",
       "      <td>0</td>\n",
       "      <td>37.700322</td>\n",
       "      <td>39.003297</td>\n",
       "      <td>36.266211</td>\n",
       "      <td>37.016727</td>\n",
       "      <td>38.404241</td>\n",
       "      <td>37.997118</td>\n",
       "      <td>37.364613</td>\n",
       "      <td>38.351809</td>\n",
       "    </tr>\n",
       "    <tr>\n",
       "      <th>2018-07-28 01:00:00</th>\n",
       "      <td>134.400000</td>\n",
       "      <td>44.164951</td>\n",
       "      <td>7</td>\n",
       "      <td>28</td>\n",
       "      <td>5</td>\n",
       "      <td>1</td>\n",
       "      <td>41.150710</td>\n",
       "      <td>37.700322</td>\n",
       "      <td>39.003297</td>\n",
       "      <td>36.266211</td>\n",
       "      <td>37.016727</td>\n",
       "      <td>38.404241</td>\n",
       "      <td>37.997118</td>\n",
       "      <td>39.425516</td>\n",
       "    </tr>\n",
       "  </tbody>\n",
       "</table>\n",
       "</div>"
      ],
      "text/plain": [
       "                           mean        std  month  day  dayofweek  hour  \\\n",
       "datetime                                                                  \n",
       "2018-07-28 00:00:00  131.333333  41.150710      7   28          5     0   \n",
       "2018-07-28 01:00:00  134.400000  44.164951      7   28          5     1   \n",
       "\n",
       "                         lag_1      lag_2      lag_3      lag_4      lag_5  \\\n",
       "datetime                                                                     \n",
       "2018-07-28 00:00:00  37.700322  39.003297  36.266211  37.016727  38.404241   \n",
       "2018-07-28 01:00:00  41.150710  37.700322  39.003297  36.266211  37.016727   \n",
       "\n",
       "                         lag_6      lag_7  rolling_size  \n",
       "datetime                                                 \n",
       "2018-07-28 00:00:00  37.997118  37.364613     38.351809  \n",
       "2018-07-28 01:00:00  38.404241  37.997118     39.425516  "
      ]
     },
     "metadata": {},
     "output_type": "display_data"
    },
    {
     "data": {
      "text/html": [
       "<div>\n",
       "<style scoped>\n",
       "    .dataframe tbody tr th:only-of-type {\n",
       "        vertical-align: middle;\n",
       "    }\n",
       "\n",
       "    .dataframe tbody tr th {\n",
       "        vertical-align: top;\n",
       "    }\n",
       "\n",
       "    .dataframe thead th {\n",
       "        text-align: right;\n",
       "    }\n",
       "</style>\n",
       "<table border=\"1\" class=\"dataframe\">\n",
       "  <thead>\n",
       "    <tr style=\"text-align: right;\">\n",
       "      <th></th>\n",
       "      <th>mean</th>\n",
       "      <th>std</th>\n",
       "      <th>month</th>\n",
       "      <th>day</th>\n",
       "      <th>dayofweek</th>\n",
       "      <th>hour</th>\n",
       "      <th>lag_1</th>\n",
       "      <th>lag_2</th>\n",
       "      <th>lag_3</th>\n",
       "      <th>lag_4</th>\n",
       "      <th>lag_5</th>\n",
       "      <th>lag_6</th>\n",
       "      <th>lag_7</th>\n",
       "      <th>rolling_size</th>\n",
       "    </tr>\n",
       "    <tr>\n",
       "      <th>datetime</th>\n",
       "      <th></th>\n",
       "      <th></th>\n",
       "      <th></th>\n",
       "      <th></th>\n",
       "      <th></th>\n",
       "      <th></th>\n",
       "      <th></th>\n",
       "      <th></th>\n",
       "      <th></th>\n",
       "      <th></th>\n",
       "      <th></th>\n",
       "      <th></th>\n",
       "      <th></th>\n",
       "      <th></th>\n",
       "    </tr>\n",
       "  </thead>\n",
       "  <tbody>\n",
       "    <tr>\n",
       "      <th>2018-07-28 02:00:00</th>\n",
       "      <td>136.733333</td>\n",
       "      <td>43.705944</td>\n",
       "      <td>7</td>\n",
       "      <td>28</td>\n",
       "      <td>5</td>\n",
       "      <td>2</td>\n",
       "      <td>44.164951</td>\n",
       "      <td>41.150710</td>\n",
       "      <td>37.700322</td>\n",
       "      <td>39.003297</td>\n",
       "      <td>36.266211</td>\n",
       "      <td>37.016727</td>\n",
       "      <td>38.404241</td>\n",
       "      <td>42.657830</td>\n",
       "    </tr>\n",
       "    <tr>\n",
       "      <th>2018-07-28 03:00:00</th>\n",
       "      <td>137.666667</td>\n",
       "      <td>43.425908</td>\n",
       "      <td>7</td>\n",
       "      <td>28</td>\n",
       "      <td>5</td>\n",
       "      <td>3</td>\n",
       "      <td>43.705944</td>\n",
       "      <td>44.164951</td>\n",
       "      <td>41.150710</td>\n",
       "      <td>37.700322</td>\n",
       "      <td>39.003297</td>\n",
       "      <td>36.266211</td>\n",
       "      <td>37.016727</td>\n",
       "      <td>43.935447</td>\n",
       "    </tr>\n",
       "  </tbody>\n",
       "</table>\n",
       "</div>"
      ],
      "text/plain": [
       "                           mean        std  month  day  dayofweek  hour  \\\n",
       "datetime                                                                  \n",
       "2018-07-28 02:00:00  136.733333  43.705944      7   28          5     2   \n",
       "2018-07-28 03:00:00  137.666667  43.425908      7   28          5     3   \n",
       "\n",
       "                         lag_1      lag_2      lag_3      lag_4      lag_5  \\\n",
       "datetime                                                                     \n",
       "2018-07-28 02:00:00  44.164951  41.150710  37.700322  39.003297  36.266211   \n",
       "2018-07-28 03:00:00  43.705944  44.164951  41.150710  37.700322  39.003297   \n",
       "\n",
       "                         lag_6      lag_7  rolling_size  \n",
       "datetime                                                 \n",
       "2018-07-28 02:00:00  37.016727  38.404241     42.657830  \n",
       "2018-07-28 03:00:00  36.266211  37.016727     43.935447  "
      ]
     },
     "metadata": {},
     "output_type": "display_data"
    },
    {
     "data": {
      "text/html": [
       "<div>\n",
       "<style scoped>\n",
       "    .dataframe tbody tr th:only-of-type {\n",
       "        vertical-align: middle;\n",
       "    }\n",
       "\n",
       "    .dataframe tbody tr th {\n",
       "        vertical-align: top;\n",
       "    }\n",
       "\n",
       "    .dataframe thead th {\n",
       "        text-align: right;\n",
       "    }\n",
       "</style>\n",
       "<table border=\"1\" class=\"dataframe\">\n",
       "  <thead>\n",
       "    <tr style=\"text-align: right;\">\n",
       "      <th></th>\n",
       "      <th>mean</th>\n",
       "      <th>std</th>\n",
       "      <th>month</th>\n",
       "      <th>day</th>\n",
       "      <th>dayofweek</th>\n",
       "      <th>hour</th>\n",
       "      <th>lag_1</th>\n",
       "      <th>lag_2</th>\n",
       "      <th>lag_3</th>\n",
       "      <th>lag_4</th>\n",
       "      <th>lag_5</th>\n",
       "      <th>lag_6</th>\n",
       "      <th>lag_7</th>\n",
       "      <th>rolling_size</th>\n",
       "    </tr>\n",
       "    <tr>\n",
       "      <th>datetime</th>\n",
       "      <th></th>\n",
       "      <th></th>\n",
       "      <th></th>\n",
       "      <th></th>\n",
       "      <th></th>\n",
       "      <th></th>\n",
       "      <th></th>\n",
       "      <th></th>\n",
       "      <th></th>\n",
       "      <th></th>\n",
       "      <th></th>\n",
       "      <th></th>\n",
       "      <th></th>\n",
       "      <th></th>\n",
       "    </tr>\n",
       "  </thead>\n",
       "  <tbody>\n",
       "    <tr>\n",
       "      <th>2018-08-13 12:00:00</th>\n",
       "      <td>152.800000</td>\n",
       "      <td>96.752409</td>\n",
       "      <td>8</td>\n",
       "      <td>13</td>\n",
       "      <td>0</td>\n",
       "      <td>12</td>\n",
       "      <td>95.450561</td>\n",
       "      <td>96.584382</td>\n",
       "      <td>98.273428</td>\n",
       "      <td>99.898139</td>\n",
       "      <td>99.182852</td>\n",
       "      <td>94.720240</td>\n",
       "      <td>91.653748</td>\n",
       "      <td>96.017471</td>\n",
       "    </tr>\n",
       "    <tr>\n",
       "      <th>2018-08-13 13:00:00</th>\n",
       "      <td>152.866667</td>\n",
       "      <td>96.727058</td>\n",
       "      <td>8</td>\n",
       "      <td>13</td>\n",
       "      <td>0</td>\n",
       "      <td>13</td>\n",
       "      <td>96.752409</td>\n",
       "      <td>95.450561</td>\n",
       "      <td>96.584382</td>\n",
       "      <td>98.273428</td>\n",
       "      <td>99.898139</td>\n",
       "      <td>99.182852</td>\n",
       "      <td>94.720240</td>\n",
       "      <td>96.101485</td>\n",
       "    </tr>\n",
       "  </tbody>\n",
       "</table>\n",
       "</div>"
      ],
      "text/plain": [
       "                           mean        std  month  day  dayofweek  hour  \\\n",
       "datetime                                                                  \n",
       "2018-08-13 12:00:00  152.800000  96.752409      8   13          0    12   \n",
       "2018-08-13 13:00:00  152.866667  96.727058      8   13          0    13   \n",
       "\n",
       "                         lag_1      lag_2      lag_3      lag_4      lag_5  \\\n",
       "datetime                                                                     \n",
       "2018-08-13 12:00:00  95.450561  96.584382  98.273428  99.898139  99.182852   \n",
       "2018-08-13 13:00:00  96.752409  95.450561  96.584382  98.273428  99.898139   \n",
       "\n",
       "                         lag_6      lag_7  rolling_size  \n",
       "datetime                                                 \n",
       "2018-08-13 12:00:00  94.720240  91.653748     96.017471  \n",
       "2018-08-13 13:00:00  99.182852  94.720240     96.101485  "
      ]
     },
     "metadata": {},
     "output_type": "display_data"
    },
    {
     "data": {
      "text/html": [
       "<div>\n",
       "<style scoped>\n",
       "    .dataframe tbody tr th:only-of-type {\n",
       "        vertical-align: middle;\n",
       "    }\n",
       "\n",
       "    .dataframe tbody tr th {\n",
       "        vertical-align: top;\n",
       "    }\n",
       "\n",
       "    .dataframe thead th {\n",
       "        text-align: right;\n",
       "    }\n",
       "</style>\n",
       "<table border=\"1\" class=\"dataframe\">\n",
       "  <thead>\n",
       "    <tr style=\"text-align: right;\">\n",
       "      <th></th>\n",
       "      <th>mean</th>\n",
       "      <th>std</th>\n",
       "      <th>month</th>\n",
       "      <th>day</th>\n",
       "      <th>dayofweek</th>\n",
       "      <th>hour</th>\n",
       "      <th>lag_1</th>\n",
       "      <th>lag_2</th>\n",
       "      <th>lag_3</th>\n",
       "      <th>lag_4</th>\n",
       "      <th>lag_5</th>\n",
       "      <th>lag_6</th>\n",
       "      <th>lag_7</th>\n",
       "      <th>rolling_size</th>\n",
       "    </tr>\n",
       "    <tr>\n",
       "      <th>datetime</th>\n",
       "      <th></th>\n",
       "      <th></th>\n",
       "      <th></th>\n",
       "      <th></th>\n",
       "      <th></th>\n",
       "      <th></th>\n",
       "      <th></th>\n",
       "      <th></th>\n",
       "      <th></th>\n",
       "      <th></th>\n",
       "      <th></th>\n",
       "      <th></th>\n",
       "      <th></th>\n",
       "      <th></th>\n",
       "    </tr>\n",
       "  </thead>\n",
       "  <tbody>\n",
       "    <tr>\n",
       "      <th>2018-08-13 14:00:00</th>\n",
       "      <td>147.333333</td>\n",
       "      <td>97.130742</td>\n",
       "      <td>8</td>\n",
       "      <td>13</td>\n",
       "      <td>0</td>\n",
       "      <td>14</td>\n",
       "      <td>96.727058</td>\n",
       "      <td>96.752409</td>\n",
       "      <td>95.450561</td>\n",
       "      <td>96.584382</td>\n",
       "      <td>98.273428</td>\n",
       "      <td>99.898139</td>\n",
       "      <td>99.182852</td>\n",
       "      <td>96.739733</td>\n",
       "    </tr>\n",
       "    <tr>\n",
       "      <th>2018-08-13 15:00:00</th>\n",
       "      <td>148.333333</td>\n",
       "      <td>97.347439</td>\n",
       "      <td>8</td>\n",
       "      <td>13</td>\n",
       "      <td>0</td>\n",
       "      <td>15</td>\n",
       "      <td>97.130742</td>\n",
       "      <td>96.727058</td>\n",
       "      <td>96.752409</td>\n",
       "      <td>95.450561</td>\n",
       "      <td>96.584382</td>\n",
       "      <td>98.273428</td>\n",
       "      <td>99.898139</td>\n",
       "      <td>96.928900</td>\n",
       "    </tr>\n",
       "  </tbody>\n",
       "</table>\n",
       "</div>"
      ],
      "text/plain": [
       "                           mean        std  month  day  dayofweek  hour  \\\n",
       "datetime                                                                  \n",
       "2018-08-13 14:00:00  147.333333  97.130742      8   13          0    14   \n",
       "2018-08-13 15:00:00  148.333333  97.347439      8   13          0    15   \n",
       "\n",
       "                         lag_1      lag_2      lag_3      lag_4      lag_5  \\\n",
       "datetime                                                                     \n",
       "2018-08-13 14:00:00  96.727058  96.752409  95.450561  96.584382  98.273428   \n",
       "2018-08-13 15:00:00  97.130742  96.727058  96.752409  95.450561  96.584382   \n",
       "\n",
       "                         lag_6      lag_7  rolling_size  \n",
       "datetime                                                 \n",
       "2018-08-13 14:00:00  99.898139  99.182852     96.739733  \n",
       "2018-08-13 15:00:00  98.273428  99.898139     96.928900  "
      ]
     },
     "metadata": {},
     "output_type": "display_data"
    }
   ],
   "source": [
    "features_train = train.drop('num_orders',1)\n",
    "features_valid = valid.drop('num_orders',1)\n",
    "features_test = test.drop('num_orders',1)\n",
    "\n",
    "target_train = train['num_orders']\n",
    "target_valid = valid['num_orders']\n",
    "target_test = test['num_orders']\n",
    "\n",
    "#order of the data samples correctness check \n",
    "display(features_train.head(2))\n",
    "display(features_train.tail(2))\n",
    "display(features_valid.head(2))\n",
    "display(features_valid.tail(2))\n",
    "display(features_test.head(2))"
   ]
  },
  {
   "cell_type": "code",
   "execution_count": 11,
   "metadata": {},
   "outputs": [],
   "source": [
    "def rmse(model): #metrics for the model check\n",
    "    model.fit(features_train, target_train)\n",
    "    pred_valid = model.predict(features_valid)\n",
    "    return print('RMSE valid {}:'.format(model), mean_squared_error(target_valid, pred_valid, squared=False))"
   ]
  },
  {
   "cell_type": "code",
   "execution_count": 12,
   "metadata": {},
   "outputs": [
    {
     "name": "stdout",
     "output_type": "stream",
     "text": [
      "RMSE valid LinearRegression(): 40.27828670466766\n"
     ]
    }
   ],
   "source": [
    "model_linear = LinearRegression()\n",
    "rmse(model_linear)"
   ]
  },
  {
   "cell_type": "code",
   "execution_count": 13,
   "metadata": {},
   "outputs": [
    {
     "name": "stdout",
     "output_type": "stream",
     "text": [
      "RMSE valid DecisionTreeRegressor(max_depth=6): 30.95094429133381\n"
     ]
    }
   ],
   "source": [
    "model_tree = DecisionTreeRegressor(max_depth=6)\n",
    "rmse(model_tree)"
   ]
  },
  {
   "cell_type": "code",
   "execution_count": 14,
   "metadata": {},
   "outputs": [
    {
     "name": "stdout",
     "output_type": "stream",
     "text": [
      "RMSE valid RandomForestRegressor(max_depth=12): 27.04218847225491\n"
     ]
    }
   ],
   "source": [
    "model_forest = RandomForestRegressor(max_depth=12)\n",
    "rmse(model_forest)"
   ]
  },
  {
   "cell_type": "code",
   "execution_count": 15,
   "metadata": {},
   "outputs": [
    {
     "name": "stdout",
     "output_type": "stream",
     "text": [
      "0:\tlearn: 28.9282171\ttotal: 49ms\tremaining: 4.85s\n",
      "5:\tlearn: 20.8616269\ttotal: 57.9ms\tremaining: 907ms\n",
      "10:\tlearn: 18.8226255\ttotal: 66.5ms\tremaining: 538ms\n",
      "15:\tlearn: 17.4732888\ttotal: 75.1ms\tremaining: 394ms\n",
      "20:\tlearn: 16.4507739\ttotal: 84.1ms\tremaining: 316ms\n",
      "25:\tlearn: 15.9106139\ttotal: 93ms\tremaining: 265ms\n",
      "30:\tlearn: 15.3722078\ttotal: 102ms\tremaining: 227ms\n",
      "35:\tlearn: 14.7407752\ttotal: 110ms\tremaining: 196ms\n",
      "40:\tlearn: 14.3530834\ttotal: 119ms\tremaining: 172ms\n",
      "45:\tlearn: 13.9083242\ttotal: 128ms\tremaining: 150ms\n",
      "50:\tlearn: 13.4034423\ttotal: 137ms\tremaining: 131ms\n",
      "55:\tlearn: 13.0043235\ttotal: 145ms\tremaining: 114ms\n",
      "60:\tlearn: 12.6574274\ttotal: 154ms\tremaining: 98.5ms\n",
      "65:\tlearn: 12.3811065\ttotal: 163ms\tremaining: 84.1ms\n",
      "70:\tlearn: 12.1162765\ttotal: 174ms\tremaining: 70.9ms\n",
      "75:\tlearn: 11.7624797\ttotal: 183ms\tremaining: 57.8ms\n",
      "80:\tlearn: 11.5047770\ttotal: 192ms\tremaining: 45.1ms\n",
      "85:\tlearn: 11.2336610\ttotal: 202ms\tremaining: 32.8ms\n",
      "90:\tlearn: 11.0358921\ttotal: 212ms\tremaining: 20.9ms\n",
      "95:\tlearn: 10.8091709\ttotal: 222ms\tremaining: 9.27ms\n",
      "99:\tlearn: 10.6238576\ttotal: 230ms\tremaining: 0us\n",
      "RMSE valid <catboost.core.CatBoostRegressor object at 0x7f9a10631370>: 29.175821721038428\n"
     ]
    }
   ],
   "source": [
    "model_cat = CatBoostRegressor(loss_function='RMSE', iterations=100, verbose=5, max_depth=5, learning_rate=0.8)\n",
    "rmse(model_cat)"
   ]
  },
  {
   "cell_type": "code",
   "execution_count": 16,
   "metadata": {},
   "outputs": [
    {
     "name": "stdout",
     "output_type": "stream",
     "text": [
      "-21.372053135909162 {'learning_rate': 0.1, 'max_depth': 6, 'num_leaves': 100}\n"
     ]
    }
   ],
   "source": [
    "estimator = lgb.LGBMRegressor()\n",
    "\n",
    "param_grid = { \n",
    "    \"learning_rate\": [0.05, 0.1, 0.5],\n",
    "    \"num_leaves\": [50, 100, 200],\n",
    "    \"max_depth\": [6, 8, 10]}\n",
    "\n",
    "grid = GridSearchCV(estimator, param_grid, scoring='neg_root_mean_squared_error', cv=TimeSeriesSplit()) #TimeSeriesSplit to avoid shuffling\n",
    "grid.fit(features_train, target_train)\n",
    "\n",
    "print(grid.best_score_ , grid.best_params_)"
   ]
  },
  {
   "cell_type": "code",
   "execution_count": 17,
   "metadata": {
    "scrolled": false
   },
   "outputs": [
    {
     "name": "stdout",
     "output_type": "stream",
     "text": [
      "RMSE valid LGBMRegressor(max_depth=6, num_leaves=100, random_state=12345): 27.009204918173626\n"
     ]
    }
   ],
   "source": [
    "model_lgbm = lgb.LGBMRegressor(learning_rate = 0.1, max_depth=6, num_leaves=100, random_state = 12345)\n",
    "rmse(model_lgbm)"
   ]
  },
  {
   "cell_type": "markdown",
   "metadata": {},
   "source": [
    "### Conclusion\n",
    "The best RMSE score was shown by the LGBM model. It is proposed to train this model on a new training set, incl. validation data, since they are the closest in time to the test data and it will be useful for the model to be trained on them."
   ]
  },
  {
   "cell_type": "markdown",
   "metadata": {},
   "source": [
    "<a id='fourth'></a>\n",
    "## 4. Test"
   ]
  },
  {
   "cell_type": "code",
   "execution_count": 18,
   "metadata": {},
   "outputs": [
    {
     "data": {
      "text/plain": [
       "(3953, 14)"
      ]
     },
     "execution_count": 18,
     "metadata": {},
     "output_type": "execute_result"
    }
   ],
   "source": [
    "features_train_final = train_0.drop('num_orders',1)\n",
    "target_train_fianl = train_0['num_orders']\n",
    "features_train_final.shape"
   ]
  },
  {
   "cell_type": "code",
   "execution_count": 19,
   "metadata": {},
   "outputs": [
    {
     "name": "stdout",
     "output_type": "stream",
     "text": [
      "RMSE test final 38.0322230648233\n"
     ]
    }
   ],
   "source": [
    "model_lgbm_final = lgb.LGBMRegressor(learning_rate = 0.1, max_depth=6, num_leaves=100, random_state = 12345)\n",
    "model_lgbm_final.fit(features_train_final, target_train_fianl)\n",
    "pred_test = model_lgbm_final.predict(features_test)\n",
    "print('RMSE test final', mean_squared_error(target_test, pred_test, squared=False))"
   ]
  },
  {
   "cell_type": "code",
   "execution_count": 20,
   "metadata": {},
   "outputs": [
    {
     "data": {
      "text/plain": [
       "<AxesSubplot:xlabel='datetime'>"
      ]
     },
     "execution_count": 20,
     "metadata": {},
     "output_type": "execute_result"
    },
    {
     "data": {
      "image/png": "[encoded data removed]",
      "text/plain": [
       "<Figure size 720x360 with 1 Axes>"
      ]
     },
     "metadata": {
      "needs_background": "light"
     },
     "output_type": "display_data"
    }
   ],
   "source": [
    "data_graph = pd.DataFrame(target_test)\n",
    "data_graph.rename(columns = {'num_orders':'Target'}, inplace = True)\n",
    "data_graph['Predictions'] = pred_test\n",
    "data_graph.plot(figsize=(10, 5))"
   ]
  },
  {
   "cell_type": "markdown",
   "metadata": {},
   "source": [
    "### Conclusion\n",
    "The RMSE score on the test data is 38, which is in line with the task. The prediction graph follows the trend of the original values (targets). At the same time, strong outliers are visible on the graph, which the model could not predict accurately."
   ]
  },
  {
   "cell_type": "markdown",
   "metadata": {},
   "source": [
    "<a id='fifth'></a>\n",
    "## 5. Summary\n",
    "\n",
    "Thus, the data on the number of taxi orders from March to August 2018 was analyzed, a model that predicts the number of taxi orders per hour was trained and tested .\n",
    "\n",
    "The number of taxi orders is growing relatively systematically during this period of time, with August showing the largest marginal growth. Such a jump can be explained by the tourist season. Also, the drivers' load is non-linear - which is explained by the fact that taxis to the airport are called upon the arrival or departure of an aircraft, and, for example, there are fewer flights at night.\n",
    "\n",
    "LGBM Regressor was chosen as the model, with parameters: learning_rate **0.1**, depth **6**, number of leaves **100**. The RMSE metric on the test data is **38**, which corresponds to the task. Model was unable to predict certain data outliers."
   ]
  }
 ],
 "metadata": {
  "ExecuteTimeLog": [
   {
    "duration": 1179,
    "start_time": "2022-05-12T20:54:19.273Z"
   },
   {
    "duration": 44,
    "start_time": "2022-05-12T20:57:11.185Z"
   },
   {
    "duration": 37,
    "start_time": "2022-05-12T20:57:50.447Z"
   },
   {
    "duration": 35,
    "start_time": "2022-05-12T20:58:09.383Z"
   },
   {
    "duration": 34,
    "start_time": "2022-05-12T20:58:11.683Z"
   },
   {
    "duration": 41,
    "start_time": "2022-05-12T20:58:29.152Z"
   },
   {
    "duration": 40,
    "start_time": "2022-05-12T20:59:25.961Z"
   },
   {
    "duration": 58,
    "start_time": "2022-05-12T21:00:08.026Z"
   },
   {
    "duration": 4,
    "start_time": "2022-05-12T21:14:29.070Z"
   },
   {
    "duration": 5,
    "start_time": "2022-05-12T21:15:01.550Z"
   },
   {
    "duration": 122,
    "start_time": "2022-05-12T21:15:12.070Z"
   },
   {
    "duration": 19,
    "start_time": "2022-05-12T21:15:27.502Z"
   },
   {
    "duration": 17,
    "start_time": "2022-05-12T21:15:34.141Z"
   },
   {
    "duration": 19,
    "start_time": "2022-05-12T21:15:47.216Z"
   },
   {
    "duration": 18,
    "start_time": "2022-05-12T21:24:57.051Z"
   },
   {
    "duration": 12,
    "start_time": "2022-05-12T21:25:06.617Z"
   },
   {
    "duration": 4,
    "start_time": "2022-05-12T21:25:10.072Z"
   },
   {
    "duration": 12,
    "start_time": "2022-05-12T21:25:11.713Z"
   },
   {
    "duration": 28,
    "start_time": "2022-05-12T21:25:32.101Z"
   },
   {
    "duration": 5,
    "start_time": "2022-05-12T21:27:20.743Z"
   },
   {
    "duration": 13,
    "start_time": "2022-05-12T21:27:45.499Z"
   },
   {
    "duration": 11,
    "start_time": "2022-05-12T21:27:50.593Z"
   },
   {
    "duration": 26,
    "start_time": "2022-05-12T21:27:52.714Z"
   },
   {
    "duration": 10,
    "start_time": "2022-05-12T21:28:23.776Z"
   },
   {
    "duration": 6,
    "start_time": "2022-05-12T21:29:43.918Z"
   },
   {
    "duration": 18,
    "start_time": "2022-05-12T21:31:57.081Z"
   },
   {
    "duration": 11,
    "start_time": "2022-05-12T21:32:32.256Z"
   },
   {
    "duration": 14,
    "start_time": "2022-05-12T21:32:56.755Z"
   },
   {
    "duration": 6,
    "start_time": "2022-05-12T21:33:34.836Z"
   },
   {
    "duration": 19,
    "start_time": "2022-05-12T21:34:34.813Z"
   },
   {
    "duration": 19,
    "start_time": "2022-05-12T21:34:40.915Z"
   },
   {
    "duration": 21,
    "start_time": "2022-05-12T21:34:51.016Z"
   },
   {
    "duration": 18,
    "start_time": "2022-05-12T21:34:53.826Z"
   },
   {
    "duration": 9,
    "start_time": "2022-05-12T21:35:42.937Z"
   },
   {
    "duration": 15,
    "start_time": "2022-05-12T21:36:11.225Z"
   },
   {
    "duration": 9,
    "start_time": "2022-05-12T21:36:18.090Z"
   },
   {
    "duration": 53,
    "start_time": "2022-05-12T21:37:49.347Z"
   },
   {
    "duration": 47,
    "start_time": "2022-05-12T21:38:15.944Z"
   },
   {
    "duration": 9,
    "start_time": "2022-05-12T21:39:19.867Z"
   },
   {
    "duration": 161,
    "start_time": "2022-05-12T21:39:58.930Z"
   },
   {
    "duration": 18,
    "start_time": "2022-05-12T21:40:02.038Z"
   },
   {
    "duration": 3,
    "start_time": "2022-05-12T21:43:05.399Z"
   },
   {
    "duration": 9,
    "start_time": "2022-05-12T21:43:31.984Z"
   },
   {
    "duration": 10,
    "start_time": "2022-05-12T21:43:33.472Z"
   },
   {
    "duration": 3,
    "start_time": "2022-05-12T21:43:38.140Z"
   },
   {
    "duration": 9,
    "start_time": "2022-05-12T21:43:39.792Z"
   },
   {
    "duration": 3,
    "start_time": "2022-05-12T21:43:48.974Z"
   },
   {
    "duration": 8,
    "start_time": "2022-05-12T21:43:50.436Z"
   },
   {
    "duration": 20,
    "start_time": "2022-05-12T21:44:11.442Z"
   },
   {
    "duration": 19,
    "start_time": "2022-05-12T21:44:17.839Z"
   },
   {
    "duration": 19,
    "start_time": "2022-05-12T21:44:23.576Z"
   },
   {
    "duration": 29,
    "start_time": "2022-05-12T21:44:25.105Z"
   },
   {
    "duration": 18,
    "start_time": "2022-05-12T21:44:25.937Z"
   },
   {
    "duration": 18,
    "start_time": "2022-05-12T21:44:27.375Z"
   },
   {
    "duration": 18,
    "start_time": "2022-05-12T21:44:28.369Z"
   },
   {
    "duration": 18,
    "start_time": "2022-05-12T21:44:28.988Z"
   },
   {
    "duration": 17,
    "start_time": "2022-05-12T21:44:29.744Z"
   },
   {
    "duration": 18,
    "start_time": "2022-05-12T21:44:45.491Z"
   },
   {
    "duration": 18,
    "start_time": "2022-05-12T21:44:47.231Z"
   },
   {
    "duration": 25,
    "start_time": "2022-05-12T21:44:48.712Z"
   },
   {
    "duration": 932,
    "start_time": "2022-05-12T21:46:03.051Z"
   },
   {
    "duration": 9,
    "start_time": "2022-05-12T21:48:32.645Z"
   },
   {
    "duration": 9,
    "start_time": "2022-05-12T21:48:36.837Z"
   },
   {
    "duration": 3,
    "start_time": "2022-05-12T21:49:12.590Z"
   },
   {
    "duration": 44,
    "start_time": "2022-05-12T21:49:14.229Z"
   },
   {
    "duration": 3,
    "start_time": "2022-05-12T21:49:21.264Z"
   },
   {
    "duration": 8,
    "start_time": "2022-05-12T21:49:22.458Z"
   },
   {
    "duration": 19,
    "start_time": "2022-05-12T21:49:24.083Z"
   },
   {
    "duration": 592,
    "start_time": "2022-05-12T21:49:58.112Z"
   },
   {
    "duration": 41013,
    "start_time": "2022-05-12T21:50:51.112Z"
   },
   {
    "duration": 9,
    "start_time": "2022-05-12T21:52:04.119Z"
   },
   {
    "duration": 5,
    "start_time": "2022-05-12T21:52:05.148Z"
   },
   {
    "duration": 5,
    "start_time": "2022-05-12T21:52:05.583Z"
   },
   {
    "duration": 5,
    "start_time": "2022-05-12T21:52:05.780Z"
   },
   {
    "duration": 9307,
    "start_time": "2022-05-12T21:52:07.218Z"
   },
   {
    "duration": 1243,
    "start_time": "2022-05-12T21:52:16.527Z"
   },
   {
    "duration": 677,
    "start_time": "2022-05-12T21:52:18.786Z"
   },
   {
    "duration": 5,
    "start_time": "2022-05-12T21:52:26.060Z"
   },
   {
    "duration": 5,
    "start_time": "2022-05-12T21:52:32.262Z"
   },
   {
    "duration": 15,
    "start_time": "2022-05-12T21:53:28.813Z"
   },
   {
    "duration": 6,
    "start_time": "2022-05-12T21:53:33.868Z"
   },
   {
    "duration": 4,
    "start_time": "2022-05-12T21:53:38.068Z"
   },
   {
    "duration": 43,
    "start_time": "2022-05-12T21:53:54.842Z"
   },
   {
    "duration": 620,
    "start_time": "2022-05-12T21:54:33.475Z"
   },
   {
    "duration": 5,
    "start_time": "2022-05-12T21:54:36.811Z"
   },
   {
    "duration": 730,
    "start_time": "2022-05-12T21:54:41.608Z"
   },
   {
    "duration": 5,
    "start_time": "2022-05-12T21:54:45.216Z"
   },
   {
    "duration": 612,
    "start_time": "2022-05-12T21:54:49.643Z"
   },
   {
    "duration": 5,
    "start_time": "2022-05-12T21:54:52.551Z"
   },
   {
    "duration": 1111,
    "start_time": "2022-05-12T21:54:56.701Z"
   },
   {
    "duration": 5,
    "start_time": "2022-05-12T21:55:00.616Z"
   },
   {
    "duration": 731,
    "start_time": "2022-05-12T21:55:10.891Z"
   },
   {
    "duration": 1041,
    "start_time": "2022-05-12T21:55:16.086Z"
   },
   {
    "duration": 651,
    "start_time": "2022-05-12T21:55:21.576Z"
   },
   {
    "duration": 389,
    "start_time": "2022-05-12T21:55:26.579Z"
   },
   {
    "duration": 324,
    "start_time": "2022-05-12T21:55:30.635Z"
   },
   {
    "duration": 62,
    "start_time": "2022-05-12T21:55:35.832Z"
   },
   {
    "duration": 1320,
    "start_time": "2022-05-12T21:55:42.665Z"
   },
   {
    "duration": 58,
    "start_time": "2022-05-12T21:55:49.815Z"
   },
   {
    "duration": 1977,
    "start_time": "2022-05-12T21:55:56.459Z"
   },
   {
    "duration": 30,
    "start_time": "2022-05-12T21:56:05.947Z"
   },
   {
    "duration": 49,
    "start_time": "2022-05-12T21:57:40.988Z"
   },
   {
    "duration": 42,
    "start_time": "2022-05-12T21:57:58.408Z"
   },
   {
    "duration": 31,
    "start_time": "2022-05-12T21:58:04.744Z"
   },
   {
    "duration": 29,
    "start_time": "2022-05-12T21:58:07.433Z"
   },
   {
    "duration": 2,
    "start_time": "2022-05-12T22:02:09.039Z"
   },
   {
    "duration": 10,
    "start_time": "2022-05-12T22:02:19.397Z"
   },
   {
    "duration": 8071,
    "start_time": "2022-05-12T22:02:39.584Z"
   },
   {
    "duration": 18174,
    "start_time": "2022-05-12T22:03:05.201Z"
   },
   {
    "duration": 356,
    "start_time": "2022-05-12T22:03:39.037Z"
   },
   {
    "duration": 394,
    "start_time": "2022-05-12T22:03:42.602Z"
   },
   {
    "duration": 336,
    "start_time": "2022-05-12T22:03:46.251Z"
   },
   {
    "duration": 401,
    "start_time": "2022-05-12T22:03:49.325Z"
   },
   {
    "duration": 3,
    "start_time": "2022-05-12T22:04:57.487Z"
   },
   {
    "duration": 3,
    "start_time": "2022-05-12T22:05:05.322Z"
   },
   {
    "duration": 17961,
    "start_time": "2022-05-12T22:05:10.732Z"
   },
   {
    "duration": 591,
    "start_time": "2022-05-12T22:05:36.906Z"
   },
   {
    "duration": 64,
    "start_time": "2022-05-12T22:06:29.322Z"
   },
   {
    "duration": 73385,
    "start_time": "2022-05-12T22:06:38.693Z"
   },
   {
    "duration": 2258,
    "start_time": "2022-05-12T22:08:14.077Z"
   },
   {
    "duration": 2275,
    "start_time": "2022-05-12T22:08:39.134Z"
   },
   {
    "duration": 2808,
    "start_time": "2022-05-12T22:08:45.508Z"
   },
   {
    "duration": 2262,
    "start_time": "2022-05-12T22:08:55.335Z"
   },
   {
    "duration": 3494,
    "start_time": "2022-05-12T22:09:01.173Z"
   },
   {
    "duration": 2386,
    "start_time": "2022-05-12T22:09:08.530Z"
   },
   {
    "duration": 2754,
    "start_time": "2022-05-12T22:09:13.909Z"
   },
   {
    "duration": 2356,
    "start_time": "2022-05-12T22:09:20.449Z"
   },
   {
    "duration": 29,
    "start_time": "2022-05-12T22:09:28.664Z"
   },
   {
    "duration": 24,
    "start_time": "2022-05-12T22:09:37.053Z"
   },
   {
    "duration": 15,
    "start_time": "2022-05-12T22:09:41.399Z"
   },
   {
    "duration": 14,
    "start_time": "2022-05-12T22:09:43.673Z"
   },
   {
    "duration": 15,
    "start_time": "2022-05-12T22:09:46.392Z"
   },
   {
    "duration": 17,
    "start_time": "2022-05-12T22:09:48.761Z"
   },
   {
    "duration": 19,
    "start_time": "2022-05-12T22:09:51.073Z"
   },
   {
    "duration": 21,
    "start_time": "2022-05-12T22:09:53.770Z"
   },
   {
    "duration": 28,
    "start_time": "2022-05-12T22:09:56.511Z"
   },
   {
    "duration": 15,
    "start_time": "2022-05-12T22:09:58.661Z"
   },
   {
    "duration": 17,
    "start_time": "2022-05-12T22:10:01.259Z"
   },
   {
    "duration": 6,
    "start_time": "2022-05-12T22:10:06.892Z"
   },
   {
    "duration": 32,
    "start_time": "2022-05-12T22:10:11.699Z"
   },
   {
    "duration": 151658,
    "start_time": "2022-05-12T22:12:22.651Z"
   },
   {
    "duration": 3,
    "start_time": "2022-05-12T22:19:54.245Z"
   },
   {
    "duration": 968,
    "start_time": "2022-05-12T22:20:05.447Z"
   },
   {
    "duration": 8,
    "start_time": "2022-05-12T22:20:15.294Z"
   },
   {
    "duration": 22,
    "start_time": "2022-05-12T22:24:33.257Z"
   },
   {
    "duration": 1286,
    "start_time": "2022-05-12T22:25:18.556Z"
   },
   {
    "duration": 66,
    "start_time": "2022-05-12T22:25:19.844Z"
   },
   {
    "duration": 4,
    "start_time": "2022-05-12T22:25:19.911Z"
   },
   {
    "duration": 26,
    "start_time": "2022-05-12T22:25:19.917Z"
   },
   {
    "duration": 14,
    "start_time": "2022-05-12T22:25:19.944Z"
   },
   {
    "duration": 86,
    "start_time": "2022-05-12T22:25:19.960Z"
   },
   {
    "duration": 3,
    "start_time": "2022-05-12T22:25:20.048Z"
   },
   {
    "duration": 14,
    "start_time": "2022-05-12T22:25:20.053Z"
   },
   {
    "duration": 22,
    "start_time": "2022-05-12T22:25:20.109Z"
   },
   {
    "duration": 3201,
    "start_time": "2022-05-12T22:25:20.206Z"
   },
   {
    "duration": 767,
    "start_time": "2022-05-12T22:25:23.409Z"
   },
   {
    "duration": 3,
    "start_time": "2022-05-12T22:25:24.177Z"
   },
   {
    "duration": 1029,
    "start_time": "2022-05-12T22:25:24.182Z"
   },
   {
    "duration": 17,
    "start_time": "2022-05-12T22:25:25.213Z"
   },
   {
    "duration": 6,
    "start_time": "2022-05-12T22:25:45.489Z"
   },
   {
    "duration": 9,
    "start_time": "2022-05-12T22:25:51.102Z"
   },
   {
    "duration": 19,
    "start_time": "2022-05-12T22:26:25.172Z"
   },
   {
    "duration": 1269,
    "start_time": "2022-05-12T22:26:30.871Z"
   },
   {
    "duration": 67,
    "start_time": "2022-05-12T22:26:32.142Z"
   },
   {
    "duration": 4,
    "start_time": "2022-05-12T22:26:32.210Z"
   },
   {
    "duration": 27,
    "start_time": "2022-05-12T22:26:32.216Z"
   },
   {
    "duration": 13,
    "start_time": "2022-05-12T22:26:32.245Z"
   },
   {
    "duration": 80,
    "start_time": "2022-05-12T22:26:32.259Z"
   },
   {
    "duration": 2,
    "start_time": "2022-05-12T22:26:32.341Z"
   },
   {
    "duration": 11,
    "start_time": "2022-05-12T22:26:32.345Z"
   },
   {
    "duration": 60,
    "start_time": "2022-05-12T22:26:32.358Z"
   },
   {
    "duration": 3171,
    "start_time": "2022-05-12T22:26:32.419Z"
   },
   {
    "duration": 1017,
    "start_time": "2022-05-12T22:26:35.592Z"
   },
   {
    "duration": 3,
    "start_time": "2022-05-12T22:26:36.610Z"
   },
   {
    "duration": 1397,
    "start_time": "2022-05-12T22:26:36.615Z"
   },
   {
    "duration": 9,
    "start_time": "2022-05-12T22:26:38.015Z"
   },
   {
    "duration": 1336,
    "start_time": "2022-05-12T22:26:51.402Z"
   },
   {
    "duration": 66,
    "start_time": "2022-05-12T22:26:52.740Z"
   },
   {
    "duration": 4,
    "start_time": "2022-05-12T22:26:52.808Z"
   },
   {
    "duration": 27,
    "start_time": "2022-05-12T22:26:52.814Z"
   },
   {
    "duration": 13,
    "start_time": "2022-05-12T22:26:52.843Z"
   },
   {
    "duration": 79,
    "start_time": "2022-05-12T22:26:52.857Z"
   },
   {
    "duration": 3,
    "start_time": "2022-05-12T22:26:52.937Z"
   },
   {
    "duration": 13,
    "start_time": "2022-05-12T22:26:52.942Z"
   },
   {
    "duration": 65,
    "start_time": "2022-05-12T22:26:52.957Z"
   },
   {
    "duration": 3089,
    "start_time": "2022-05-12T22:26:53.024Z"
   },
   {
    "duration": 668,
    "start_time": "2022-05-12T22:26:56.115Z"
   },
   {
    "duration": 2,
    "start_time": "2022-05-12T22:26:56.785Z"
   },
   {
    "duration": 1019,
    "start_time": "2022-05-12T22:26:56.789Z"
   },
   {
    "duration": 11,
    "start_time": "2022-05-12T22:26:57.811Z"
   },
   {
    "duration": 4,
    "start_time": "2022-05-12T22:27:55.807Z"
   },
   {
    "duration": 22,
    "start_time": "2022-05-12T22:27:58.950Z"
   },
   {
    "duration": 1338,
    "start_time": "2022-05-12T22:28:08.510Z"
   },
   {
    "duration": 73,
    "start_time": "2022-05-12T22:28:09.850Z"
   },
   {
    "duration": 4,
    "start_time": "2022-05-12T22:28:09.925Z"
   },
   {
    "duration": 30,
    "start_time": "2022-05-12T22:28:09.931Z"
   },
   {
    "duration": 14,
    "start_time": "2022-05-12T22:28:09.963Z"
   },
   {
    "duration": 84,
    "start_time": "2022-05-12T22:28:09.978Z"
   },
   {
    "duration": 3,
    "start_time": "2022-05-12T22:28:10.064Z"
   },
   {
    "duration": 12,
    "start_time": "2022-05-12T22:28:10.069Z"
   },
   {
    "duration": 23,
    "start_time": "2022-05-12T22:28:10.109Z"
   },
   {
    "duration": 3562,
    "start_time": "2022-05-12T22:28:10.135Z"
   },
   {
    "duration": 707,
    "start_time": "2022-05-12T22:28:13.699Z"
   },
   {
    "duration": 3,
    "start_time": "2022-05-12T22:28:14.408Z"
   },
   {
    "duration": 1114,
    "start_time": "2022-05-12T22:28:14.413Z"
   },
   {
    "duration": 12,
    "start_time": "2022-05-12T22:28:15.608Z"
   },
   {
    "duration": 1111,
    "start_time": "2022-05-12T22:28:34.208Z"
   },
   {
    "duration": 914,
    "start_time": "2022-05-12T22:28:39.201Z"
   },
   {
    "duration": 817,
    "start_time": "2022-05-12T22:28:42.895Z"
   },
   {
    "duration": 528,
    "start_time": "2022-05-12T22:28:47.090Z"
   },
   {
    "duration": 783,
    "start_time": "2022-05-12T22:28:50.433Z"
   },
   {
    "duration": 2458,
    "start_time": "2022-05-12T22:28:53.853Z"
   },
   {
    "duration": 1050,
    "start_time": "2022-05-12T22:28:59.362Z"
   },
   {
    "duration": 768,
    "start_time": "2022-05-12T22:29:03.150Z"
   },
   {
    "duration": 752,
    "start_time": "2022-05-12T22:29:06.259Z"
   },
   {
    "duration": 2741,
    "start_time": "2022-05-12T22:29:09.278Z"
   },
   {
    "duration": 786,
    "start_time": "2022-05-12T22:29:15.225Z"
   },
   {
    "duration": 995,
    "start_time": "2022-05-12T22:29:21.923Z"
   },
   {
    "duration": 790,
    "start_time": "2022-05-12T22:29:26.329Z"
   },
   {
    "duration": 804,
    "start_time": "2022-05-12T22:29:30.005Z"
   },
   {
    "duration": 787,
    "start_time": "2022-05-12T22:29:33.828Z"
   },
   {
    "duration": 9,
    "start_time": "2022-05-12T22:29:38.306Z"
   },
   {
    "duration": 1010,
    "start_time": "2022-05-12T22:29:45.108Z"
   },
   {
    "duration": 15,
    "start_time": "2022-05-12T22:29:47.444Z"
   },
   {
    "duration": 20,
    "start_time": "2022-05-12T22:29:58.765Z"
   },
   {
    "duration": 1387,
    "start_time": "2022-05-12T22:30:08.386Z"
   },
   {
    "duration": 70,
    "start_time": "2022-05-12T22:30:09.775Z"
   },
   {
    "duration": 5,
    "start_time": "2022-05-12T22:30:09.847Z"
   },
   {
    "duration": 31,
    "start_time": "2022-05-12T22:30:09.854Z"
   },
   {
    "duration": 33,
    "start_time": "2022-05-12T22:30:09.887Z"
   },
   {
    "duration": 57,
    "start_time": "2022-05-12T22:30:09.922Z"
   },
   {
    "duration": 3,
    "start_time": "2022-05-12T22:30:10.007Z"
   },
   {
    "duration": 15,
    "start_time": "2022-05-12T22:30:10.012Z"
   },
   {
    "duration": 79,
    "start_time": "2022-05-12T22:30:10.029Z"
   },
   {
    "duration": 3622,
    "start_time": "2022-05-12T22:30:10.110Z"
   },
   {
    "duration": 814,
    "start_time": "2022-05-12T22:30:13.734Z"
   },
   {
    "duration": 3,
    "start_time": "2022-05-12T22:30:14.549Z"
   },
   {
    "duration": 1158,
    "start_time": "2022-05-12T22:30:14.553Z"
   },
   {
    "duration": 10,
    "start_time": "2022-05-12T22:30:15.713Z"
   },
   {
    "duration": 7,
    "start_time": "2022-05-12T22:30:23.517Z"
   },
   {
    "duration": 4,
    "start_time": "2022-05-12T22:30:46.255Z"
   },
   {
    "duration": 21,
    "start_time": "2022-05-12T22:30:49.558Z"
   },
   {
    "duration": 24,
    "start_time": "2022-05-12T22:30:52.653Z"
   },
   {
    "duration": 1302,
    "start_time": "2022-05-12T22:31:02.635Z"
   },
   {
    "duration": 68,
    "start_time": "2022-05-12T22:31:03.939Z"
   },
   {
    "duration": 4,
    "start_time": "2022-05-12T22:31:04.009Z"
   },
   {
    "duration": 31,
    "start_time": "2022-05-12T22:31:04.014Z"
   },
   {
    "duration": 13,
    "start_time": "2022-05-12T22:31:04.047Z"
   },
   {
    "duration": 90,
    "start_time": "2022-05-12T22:31:04.062Z"
   },
   {
    "duration": 2,
    "start_time": "2022-05-12T22:31:04.154Z"
   },
   {
    "duration": 13,
    "start_time": "2022-05-12T22:31:04.158Z"
   },
   {
    "duration": 100,
    "start_time": "2022-05-12T22:31:04.208Z"
   },
   {
    "duration": 4031,
    "start_time": "2022-05-12T22:31:04.311Z"
   },
   {
    "duration": 774,
    "start_time": "2022-05-12T22:31:08.344Z"
   },
   {
    "duration": 3,
    "start_time": "2022-05-12T22:31:09.121Z"
   },
   {
    "duration": 1188,
    "start_time": "2022-05-12T22:31:09.126Z"
   },
   {
    "duration": 6,
    "start_time": "2022-05-12T22:31:10.316Z"
   },
   {
    "duration": 1336,
    "start_time": "2022-05-12T22:31:27.700Z"
   },
   {
    "duration": 67,
    "start_time": "2022-05-12T22:31:29.038Z"
   },
   {
    "duration": 4,
    "start_time": "2022-05-12T22:31:29.107Z"
   },
   {
    "duration": 26,
    "start_time": "2022-05-12T22:31:29.112Z"
   },
   {
    "duration": 13,
    "start_time": "2022-05-12T22:31:29.140Z"
   },
   {
    "duration": 84,
    "start_time": "2022-05-12T22:31:29.155Z"
   },
   {
    "duration": 3,
    "start_time": "2022-05-12T22:31:29.241Z"
   },
   {
    "duration": 14,
    "start_time": "2022-05-12T22:31:29.246Z"
   },
   {
    "duration": 62,
    "start_time": "2022-05-12T22:31:29.262Z"
   },
   {
    "duration": 3158,
    "start_time": "2022-05-12T22:31:29.325Z"
   },
   {
    "duration": 714,
    "start_time": "2022-05-12T22:31:32.485Z"
   },
   {
    "duration": 3,
    "start_time": "2022-05-12T22:31:33.200Z"
   },
   {
    "duration": 1311,
    "start_time": "2022-05-12T22:31:33.205Z"
   },
   {
    "duration": 5,
    "start_time": "2022-05-12T22:31:34.519Z"
   },
   {
    "duration": 3,
    "start_time": "2022-05-12T22:33:32.020Z"
   },
   {
    "duration": 22,
    "start_time": "2022-05-12T22:33:34.749Z"
   },
   {
    "duration": 1336,
    "start_time": "2022-05-12T22:33:45.888Z"
   },
   {
    "duration": 65,
    "start_time": "2022-05-12T22:33:47.226Z"
   },
   {
    "duration": 5,
    "start_time": "2022-05-12T22:33:47.292Z"
   },
   {
    "duration": 23,
    "start_time": "2022-05-12T22:33:47.307Z"
   },
   {
    "duration": 13,
    "start_time": "2022-05-12T22:33:47.332Z"
   },
   {
    "duration": 74,
    "start_time": "2022-05-12T22:33:47.347Z"
   },
   {
    "duration": 4,
    "start_time": "2022-05-12T22:33:47.422Z"
   },
   {
    "duration": 11,
    "start_time": "2022-05-12T22:33:47.427Z"
   },
   {
    "duration": 68,
    "start_time": "2022-05-12T22:33:47.440Z"
   },
   {
    "duration": 2548,
    "start_time": "2022-05-12T22:33:47.512Z"
   },
   {
    "duration": 701,
    "start_time": "2022-05-12T22:33:50.062Z"
   },
   {
    "duration": 2,
    "start_time": "2022-05-12T22:33:50.765Z"
   },
   {
    "duration": 1046,
    "start_time": "2022-05-12T22:33:50.769Z"
   },
   {
    "duration": 6,
    "start_time": "2022-05-12T22:33:51.817Z"
   },
   {
    "duration": 1328,
    "start_time": "2022-05-12T22:34:10.734Z"
   },
   {
    "duration": 69,
    "start_time": "2022-05-12T22:34:12.064Z"
   },
   {
    "duration": 4,
    "start_time": "2022-05-12T22:34:12.134Z"
   },
   {
    "duration": 30,
    "start_time": "2022-05-12T22:34:12.140Z"
   },
   {
    "duration": 37,
    "start_time": "2022-05-12T22:34:12.171Z"
   },
   {
    "duration": 61,
    "start_time": "2022-05-12T22:34:12.210Z"
   },
   {
    "duration": 3,
    "start_time": "2022-05-12T22:34:12.272Z"
   },
   {
    "duration": 38,
    "start_time": "2022-05-12T22:34:12.276Z"
   },
   {
    "duration": 111,
    "start_time": "2022-05-12T22:34:12.317Z"
   },
   {
    "duration": 3808,
    "start_time": "2022-05-12T22:34:12.508Z"
   },
   {
    "duration": 705,
    "start_time": "2022-05-12T22:34:16.318Z"
   },
   {
    "duration": 2,
    "start_time": "2022-05-12T22:34:17.025Z"
   },
   {
    "duration": 1097,
    "start_time": "2022-05-12T22:34:17.029Z"
   },
   {
    "duration": 8,
    "start_time": "2022-05-12T22:34:18.207Z"
   },
   {
    "duration": 1260,
    "start_time": "2022-05-12T22:34:34.862Z"
   },
   {
    "duration": 71,
    "start_time": "2022-05-12T22:34:36.124Z"
   },
   {
    "duration": 4,
    "start_time": "2022-05-12T22:34:36.197Z"
   },
   {
    "duration": 55,
    "start_time": "2022-05-12T22:34:36.206Z"
   },
   {
    "duration": 15,
    "start_time": "2022-05-12T22:34:36.263Z"
   },
   {
    "duration": 69,
    "start_time": "2022-05-12T22:34:36.280Z"
   },
   {
    "duration": 3,
    "start_time": "2022-05-12T22:34:36.352Z"
   },
   {
    "duration": 16,
    "start_time": "2022-05-12T22:34:36.357Z"
   },
   {
    "duration": 100,
    "start_time": "2022-05-12T22:34:36.407Z"
   },
   {
    "duration": 3562,
    "start_time": "2022-05-12T22:34:36.510Z"
   },
   {
    "duration": 691,
    "start_time": "2022-05-12T22:34:40.074Z"
   },
   {
    "duration": 2,
    "start_time": "2022-05-12T22:34:40.767Z"
   },
   {
    "duration": 1045,
    "start_time": "2022-05-12T22:34:40.771Z"
   },
   {
    "duration": 6,
    "start_time": "2022-05-12T22:34:41.817Z"
   },
   {
    "duration": 4,
    "start_time": "2022-05-12T22:39:15.924Z"
   },
   {
    "duration": 23,
    "start_time": "2022-05-12T22:39:17.367Z"
   },
   {
    "duration": 1315,
    "start_time": "2022-05-12T22:39:40.137Z"
   },
   {
    "duration": 68,
    "start_time": "2022-05-12T22:39:41.454Z"
   },
   {
    "duration": 3,
    "start_time": "2022-05-12T22:39:41.524Z"
   },
   {
    "duration": 28,
    "start_time": "2022-05-12T22:39:41.529Z"
   },
   {
    "duration": 12,
    "start_time": "2022-05-12T22:39:41.560Z"
   },
   {
    "duration": 80,
    "start_time": "2022-05-12T22:39:41.573Z"
   },
   {
    "duration": 2,
    "start_time": "2022-05-12T22:39:41.655Z"
   },
   {
    "duration": 12,
    "start_time": "2022-05-12T22:39:41.659Z"
   },
   {
    "duration": 104,
    "start_time": "2022-05-12T22:39:41.708Z"
   },
   {
    "duration": 3966,
    "start_time": "2022-05-12T22:39:41.814Z"
   },
   {
    "duration": 748,
    "start_time": "2022-05-12T22:39:45.783Z"
   },
   {
    "duration": 3,
    "start_time": "2022-05-12T22:39:46.533Z"
   },
   {
    "duration": 6875,
    "start_time": "2022-05-12T22:39:46.538Z"
   },
   {
    "duration": 7,
    "start_time": "2022-05-12T22:39:53.416Z"
   },
   {
    "duration": 12,
    "start_time": "2022-05-12T22:40:31.683Z"
   },
   {
    "duration": 63,
    "start_time": "2022-05-12T22:40:34.709Z"
   },
   {
    "duration": 31,
    "start_time": "2022-05-12T22:40:54.030Z"
   },
   {
    "duration": 5,
    "start_time": "2022-05-12T22:41:00.727Z"
   },
   {
    "duration": 861,
    "start_time": "2022-05-12T22:42:20.247Z"
   },
   {
    "duration": 2667,
    "start_time": "2022-05-12T22:42:26.202Z"
   },
   {
    "duration": 670,
    "start_time": "2022-05-12T22:42:33.172Z"
   },
   {
    "duration": 1974,
    "start_time": "2022-05-12T22:42:37.173Z"
   },
   {
    "duration": 1208,
    "start_time": "2022-05-12T22:42:42.295Z"
   },
   {
    "duration": 659,
    "start_time": "2022-05-12T22:42:50.710Z"
   },
   {
    "duration": 628,
    "start_time": "2022-05-12T22:42:55.979Z"
   },
   {
    "duration": 680,
    "start_time": "2022-05-12T22:43:02.458Z"
   },
   {
    "duration": 655,
    "start_time": "2022-05-12T22:43:06.867Z"
   },
   {
    "duration": 622,
    "start_time": "2022-05-12T22:43:17.085Z"
   },
   {
    "duration": 635,
    "start_time": "2022-05-12T22:43:21.865Z"
   },
   {
    "duration": 642,
    "start_time": "2022-05-12T22:43:27.176Z"
   },
   {
    "duration": 768,
    "start_time": "2022-05-12T22:43:30.112Z"
   },
   {
    "duration": 627,
    "start_time": "2022-05-12T22:43:32.687Z"
   },
   {
    "duration": 674,
    "start_time": "2022-05-12T22:43:35.266Z"
   },
   {
    "duration": 605,
    "start_time": "2022-05-12T22:43:38.000Z"
   },
   {
    "duration": 686,
    "start_time": "2022-05-12T22:43:41.988Z"
   },
   {
    "duration": 5,
    "start_time": "2022-05-12T22:43:49.966Z"
   },
   {
    "duration": 648,
    "start_time": "2022-05-12T22:43:55.295Z"
   },
   {
    "duration": 4,
    "start_time": "2022-05-12T22:43:57.827Z"
   },
   {
    "duration": 688,
    "start_time": "2022-05-12T22:44:04.463Z"
   },
   {
    "duration": 712,
    "start_time": "2022-05-12T22:44:09.871Z"
   },
   {
    "duration": 5,
    "start_time": "2022-05-12T22:44:12.477Z"
   },
   {
    "duration": 703,
    "start_time": "2022-05-12T22:44:16.564Z"
   },
   {
    "duration": 5,
    "start_time": "2022-05-12T22:44:19.400Z"
   },
   {
    "duration": 637,
    "start_time": "2022-05-12T22:44:25.296Z"
   },
   {
    "duration": 4,
    "start_time": "2022-05-12T22:44:27.635Z"
   },
   {
    "duration": 847,
    "start_time": "2022-05-12T22:44:30.926Z"
   },
   {
    "duration": 5,
    "start_time": "2022-05-12T22:44:35.587Z"
   },
   {
    "duration": 827,
    "start_time": "2022-05-12T22:44:42.908Z"
   },
   {
    "duration": 4,
    "start_time": "2022-05-12T22:44:46.162Z"
   },
   {
    "duration": 2722,
    "start_time": "2022-05-12T22:44:58.654Z"
   },
   {
    "duration": 5,
    "start_time": "2022-05-12T22:45:03.446Z"
   },
   {
    "duration": 893,
    "start_time": "2022-05-12T22:45:07.717Z"
   },
   {
    "duration": 4,
    "start_time": "2022-05-12T22:45:10.557Z"
   },
   {
    "duration": 742,
    "start_time": "2022-05-12T22:45:15.558Z"
   },
   {
    "duration": 5,
    "start_time": "2022-05-12T22:45:18.926Z"
   },
   {
    "duration": 1008,
    "start_time": "2022-05-12T22:45:23.389Z"
   },
   {
    "duration": 5,
    "start_time": "2022-05-12T22:45:25.995Z"
   },
   {
    "duration": 960,
    "start_time": "2022-05-12T22:45:34.655Z"
   },
   {
    "duration": 5,
    "start_time": "2022-05-12T22:45:37.708Z"
   },
   {
    "duration": 663,
    "start_time": "2022-05-12T22:45:50.023Z"
   },
   {
    "duration": 1203,
    "start_time": "2022-05-12T22:45:59.171Z"
   },
   {
    "duration": 876,
    "start_time": "2022-05-12T22:46:03.915Z"
   },
   {
    "duration": 792,
    "start_time": "2022-05-12T22:46:11.568Z"
   },
   {
    "duration": 6,
    "start_time": "2022-05-12T22:46:14.549Z"
   },
   {
    "duration": 765,
    "start_time": "2022-05-12T22:46:18.442Z"
   },
   {
    "duration": 5,
    "start_time": "2022-05-12T22:46:21.253Z"
   },
   {
    "duration": 742,
    "start_time": "2022-05-12T22:46:25.432Z"
   },
   {
    "duration": 5,
    "start_time": "2022-05-12T22:46:28.182Z"
   },
   {
    "duration": 2433,
    "start_time": "2022-05-12T22:46:33.409Z"
   },
   {
    "duration": 5,
    "start_time": "2022-05-12T22:46:36.901Z"
   },
   {
    "duration": 791,
    "start_time": "2022-05-12T22:46:40.986Z"
   },
   {
    "duration": 5,
    "start_time": "2022-05-12T22:46:43.999Z"
   },
   {
    "duration": 20,
    "start_time": "2022-05-12T22:46:52.012Z"
   },
   {
    "duration": 28,
    "start_time": "2022-05-12T22:46:57.711Z"
   },
   {
    "duration": 1083,
    "start_time": "2022-05-12T22:47:00.029Z"
   },
   {
    "duration": 10,
    "start_time": "2022-05-12T22:47:04.465Z"
   },
   {
    "duration": 1029,
    "start_time": "2022-05-12T22:47:07.687Z"
   },
   {
    "duration": 12,
    "start_time": "2022-05-12T22:47:10.035Z"
   },
   {
    "duration": 1195,
    "start_time": "2022-05-12T22:47:14.614Z"
   },
   {
    "duration": 12,
    "start_time": "2022-05-12T22:47:18.088Z"
   },
   {
    "duration": 1164,
    "start_time": "2022-05-12T22:47:23.353Z"
   },
   {
    "duration": 7,
    "start_time": "2022-05-12T22:47:25.519Z"
   },
   {
    "duration": 2161,
    "start_time": "2022-05-12T22:47:28.551Z"
   },
   {
    "duration": 11,
    "start_time": "2022-05-12T22:47:32.087Z"
   },
   {
    "duration": 2205,
    "start_time": "2022-05-12T22:47:35.404Z"
   },
   {
    "duration": 12,
    "start_time": "2022-05-12T22:47:39.100Z"
   },
   {
    "duration": 648,
    "start_time": "2022-05-12T22:47:43.660Z"
   },
   {
    "duration": 11,
    "start_time": "2022-05-12T22:47:45.516Z"
   },
   {
    "duration": 643,
    "start_time": "2022-05-12T22:47:48.268Z"
   },
   {
    "duration": 15,
    "start_time": "2022-05-12T22:47:50.420Z"
   },
   {
    "duration": 804,
    "start_time": "2022-05-12T22:47:53.407Z"
   },
   {
    "duration": 10,
    "start_time": "2022-05-12T22:47:55.330Z"
   },
   {
    "duration": 792,
    "start_time": "2022-05-12T22:48:00.420Z"
   },
   {
    "duration": 9,
    "start_time": "2022-05-12T22:48:02.371Z"
   },
   {
    "duration": 3207,
    "start_time": "2022-05-12T22:48:16.908Z"
   },
   {
    "duration": 9,
    "start_time": "2022-05-12T22:48:21.779Z"
   },
   {
    "duration": 979,
    "start_time": "2022-05-12T22:48:26.536Z"
   },
   {
    "duration": 15,
    "start_time": "2022-05-12T22:48:29.193Z"
   },
   {
    "duration": 908,
    "start_time": "2022-05-12T22:48:32.402Z"
   },
   {
    "duration": 10,
    "start_time": "2022-05-12T22:48:34.787Z"
   },
   {
    "duration": 631,
    "start_time": "2022-05-12T22:48:40.184Z"
   },
   {
    "duration": 10,
    "start_time": "2022-05-12T22:48:42.211Z"
   },
   {
    "duration": 989,
    "start_time": "2022-05-12T22:48:47.030Z"
   },
   {
    "duration": 11,
    "start_time": "2022-05-12T22:48:49.283Z"
   },
   {
    "duration": 970,
    "start_time": "2022-05-12T22:48:52.842Z"
   },
   {
    "duration": 10,
    "start_time": "2022-05-12T22:48:54.992Z"
   },
   {
    "duration": 342,
    "start_time": "2022-05-12T22:55:58.877Z"
   },
   {
    "duration": 4,
    "start_time": "2022-05-12T22:56:08.628Z"
   },
   {
    "duration": 27,
    "start_time": "2022-05-12T22:56:49.874Z"
   },
   {
    "duration": 13,
    "start_time": "2022-05-12T22:57:49.715Z"
   },
   {
    "duration": 11,
    "start_time": "2022-05-12T22:58:37.596Z"
   },
   {
    "duration": 11,
    "start_time": "2022-05-12T22:58:42.188Z"
   },
   {
    "duration": 10,
    "start_time": "2022-05-12T22:58:55.309Z"
   },
   {
    "duration": 4,
    "start_time": "2022-05-12T22:59:05.139Z"
   },
   {
    "duration": 10,
    "start_time": "2022-05-12T22:59:07.927Z"
   },
   {
    "duration": 1618,
    "start_time": "2022-05-12T23:00:04.443Z"
   },
   {
    "duration": 67,
    "start_time": "2022-05-12T23:00:06.063Z"
   },
   {
    "duration": 8,
    "start_time": "2022-05-12T23:00:06.131Z"
   },
   {
    "duration": 5,
    "start_time": "2022-05-12T23:00:06.141Z"
   },
   {
    "duration": 36,
    "start_time": "2022-05-12T23:00:06.147Z"
   },
   {
    "duration": 32,
    "start_time": "2022-05-12T23:00:06.184Z"
   },
   {
    "duration": 96,
    "start_time": "2022-05-12T23:00:06.218Z"
   },
   {
    "duration": 4,
    "start_time": "2022-05-12T23:00:06.316Z"
   },
   {
    "duration": 18,
    "start_time": "2022-05-12T23:00:06.321Z"
   },
   {
    "duration": 86,
    "start_time": "2022-05-12T23:00:06.341Z"
   },
   {
    "duration": 3881,
    "start_time": "2022-05-12T23:00:06.508Z"
   },
   {
    "duration": 1052,
    "start_time": "2022-05-12T23:00:10.391Z"
   },
   {
    "duration": 3,
    "start_time": "2022-05-12T23:00:11.444Z"
   },
   {
    "duration": 6380,
    "start_time": "2022-05-12T23:00:11.448Z"
   },
   {
    "duration": 88,
    "start_time": "2022-05-12T23:00:17.829Z"
   },
   {
    "duration": 120,
    "start_time": "2022-05-12T23:00:45.810Z"
   },
   {
    "duration": 855,
    "start_time": "2022-05-12T23:01:24.049Z"
   },
   {
    "duration": 4,
    "start_time": "2022-05-12T23:01:51.546Z"
   },
   {
    "duration": 82,
    "start_time": "2022-05-12T23:01:51.552Z"
   },
   {
    "duration": 227,
    "start_time": "2022-05-12T23:01:51.636Z"
   },
   {
    "duration": 4,
    "start_time": "2022-05-12T23:02:04.263Z"
   },
   {
    "duration": 60,
    "start_time": "2022-05-12T23:02:04.269Z"
   },
   {
    "duration": 831,
    "start_time": "2022-05-12T23:02:09.886Z"
   },
   {
    "duration": 282,
    "start_time": "2022-05-12T23:03:15.491Z"
   },
   {
    "duration": 14,
    "start_time": "2022-05-12T23:04:00.678Z"
   },
   {
    "duration": 12,
    "start_time": "2022-05-12T23:04:03.666Z"
   },
   {
    "duration": 13,
    "start_time": "2022-05-12T23:04:12.059Z"
   },
   {
    "duration": 4,
    "start_time": "2022-05-12T23:04:15.640Z"
   },
   {
    "duration": 70,
    "start_time": "2022-05-12T23:04:15.646Z"
   },
   {
    "duration": 715,
    "start_time": "2022-05-12T23:04:15.718Z"
   },
   {
    "duration": 388,
    "start_time": "2022-05-12T23:04:16.435Z"
   },
   {
    "duration": 13,
    "start_time": "2022-05-12T23:04:18.923Z"
   },
   {
    "duration": 12,
    "start_time": "2022-05-12T23:04:32.870Z"
   },
   {
    "duration": 12,
    "start_time": "2022-05-12T23:04:37.026Z"
   },
   {
    "duration": 12,
    "start_time": "2022-05-12T23:04:54.881Z"
   },
   {
    "duration": 11,
    "start_time": "2022-05-12T23:05:03.126Z"
   },
   {
    "duration": 11,
    "start_time": "2022-05-12T23:05:06.478Z"
   },
   {
    "duration": 16,
    "start_time": "2022-05-12T23:05:14.145Z"
   },
   {
    "duration": 7,
    "start_time": "2022-05-12T23:05:30.682Z"
   },
   {
    "duration": 6,
    "start_time": "2022-05-12T23:05:45.977Z"
   },
   {
    "duration": 6,
    "start_time": "2022-05-12T23:05:49.669Z"
   },
   {
    "duration": 7,
    "start_time": "2022-05-12T23:06:01.614Z"
   },
   {
    "duration": 10,
    "start_time": "2022-05-12T23:06:05.456Z"
   },
   {
    "duration": 682,
    "start_time": "2022-05-12T23:06:16.627Z"
   },
   {
    "duration": 675,
    "start_time": "2022-05-12T23:06:36.818Z"
   },
   {
    "duration": 4,
    "start_time": "2022-05-12T23:07:00.844Z"
   },
   {
    "duration": 1543,
    "start_time": "2022-05-12T23:07:08.429Z"
   },
   {
    "duration": 72,
    "start_time": "2022-05-12T23:07:09.974Z"
   },
   {
    "duration": 759,
    "start_time": "2022-05-12T23:07:10.048Z"
   },
   {
    "duration": 280,
    "start_time": "2022-05-12T23:07:10.809Z"
   },
   {
    "duration": 701,
    "start_time": "2022-05-12T23:07:11.092Z"
   },
   {
    "duration": 4,
    "start_time": "2022-05-12T23:07:11.795Z"
   },
   {
    "duration": 37,
    "start_time": "2022-05-12T23:07:11.801Z"
   },
   {
    "duration": 12,
    "start_time": "2022-05-12T23:07:11.840Z"
   },
   {
    "duration": 85,
    "start_time": "2022-05-12T23:07:11.854Z"
   },
   {
    "duration": 4,
    "start_time": "2022-05-12T23:07:11.940Z"
   },
   {
    "duration": 15,
    "start_time": "2022-05-12T23:07:11.945Z"
   },
   {
    "duration": 116,
    "start_time": "2022-05-12T23:07:12.007Z"
   },
   {
    "duration": 4987,
    "start_time": "2022-05-12T23:07:12.124Z"
   },
   {
    "duration": 910,
    "start_time": "2022-05-12T23:07:17.114Z"
   },
   {
    "duration": 3,
    "start_time": "2022-05-12T23:07:18.026Z"
   },
   {
    "duration": 1088,
    "start_time": "2022-05-12T23:07:18.030Z"
   },
   {
    "duration": 92,
    "start_time": "2022-05-12T23:07:19.120Z"
   },
   {
    "duration": 1372,
    "start_time": "2022-05-12T23:08:45.065Z"
   },
   {
    "duration": 67,
    "start_time": "2022-05-12T23:08:46.438Z"
   },
   {
    "duration": 536,
    "start_time": "2022-05-12T23:08:46.507Z"
   },
   {
    "duration": 336,
    "start_time": "2022-05-12T23:08:47.045Z"
   },
   {
    "duration": 496,
    "start_time": "2022-05-12T23:08:47.382Z"
   },
   {
    "duration": 4,
    "start_time": "2022-05-12T23:08:47.880Z"
   },
   {
    "duration": 32,
    "start_time": "2022-05-12T23:08:47.886Z"
   },
   {
    "duration": 11,
    "start_time": "2022-05-12T23:08:47.919Z"
   },
   {
    "duration": 81,
    "start_time": "2022-05-12T23:08:47.931Z"
   },
   {
    "duration": 3,
    "start_time": "2022-05-12T23:08:48.014Z"
   },
   {
    "duration": 16,
    "start_time": "2022-05-12T23:08:48.019Z"
   },
   {
    "duration": 93,
    "start_time": "2022-05-12T23:08:48.037Z"
   },
   {
    "duration": 4198,
    "start_time": "2022-05-12T23:08:48.208Z"
   },
   {
    "duration": 920,
    "start_time": "2022-05-12T23:08:52.408Z"
   },
   {
    "duration": 2,
    "start_time": "2022-05-12T23:08:53.330Z"
   },
   {
    "duration": 1182,
    "start_time": "2022-05-12T23:08:53.334Z"
   },
   {
    "duration": 92,
    "start_time": "2022-05-12T23:08:54.518Z"
   },
   {
    "duration": 30,
    "start_time": "2022-05-12T23:09:32.016Z"
   },
   {
    "duration": 29,
    "start_time": "2022-05-12T23:09:33.651Z"
   },
   {
    "duration": 1642,
    "start_time": "2022-05-14T16:34:15.962Z"
   },
   {
    "duration": 62,
    "start_time": "2022-05-14T16:34:17.606Z"
   },
   {
    "duration": 528,
    "start_time": "2022-05-14T16:34:17.670Z"
   },
   {
    "duration": 316,
    "start_time": "2022-05-14T16:34:18.200Z"
   },
   {
    "duration": 470,
    "start_time": "2022-05-14T16:34:18.518Z"
   },
   {
    "duration": 5,
    "start_time": "2022-05-14T16:34:18.990Z"
   },
   {
    "duration": 28,
    "start_time": "2022-05-14T16:34:18.997Z"
   },
   {
    "duration": 12,
    "start_time": "2022-05-14T16:34:19.027Z"
   },
   {
    "duration": 81,
    "start_time": "2022-05-14T16:34:19.041Z"
   },
   {
    "duration": 3,
    "start_time": "2022-05-14T16:34:19.124Z"
   },
   {
    "duration": 59,
    "start_time": "2022-05-14T16:34:19.129Z"
   },
   {
    "duration": 105,
    "start_time": "2022-05-14T16:34:19.191Z"
   },
   {
    "duration": 3813,
    "start_time": "2022-05-14T16:34:19.298Z"
   },
   {
    "duration": 1133,
    "start_time": "2022-05-14T16:34:23.114Z"
   },
   {
    "duration": 3,
    "start_time": "2022-05-14T16:34:24.248Z"
   },
   {
    "duration": 940,
    "start_time": "2022-05-14T16:34:24.252Z"
   },
   {
    "duration": 27,
    "start_time": "2022-05-14T16:34:25.194Z"
   },
   {
    "duration": 13,
    "start_time": "2022-05-14T16:56:51.184Z"
   },
   {
    "duration": 12,
    "start_time": "2022-05-14T16:57:04.313Z"
   },
   {
    "duration": 12,
    "start_time": "2022-05-14T16:57:08.439Z"
   },
   {
    "duration": 11,
    "start_time": "2022-05-14T16:57:10.976Z"
   },
   {
    "duration": 14,
    "start_time": "2022-05-14T16:57:15.606Z"
   },
   {
    "duration": 1438,
    "start_time": "2022-05-14T16:57:31.958Z"
   },
   {
    "duration": 59,
    "start_time": "2022-05-14T16:57:33.398Z"
   },
   {
    "duration": 507,
    "start_time": "2022-05-14T16:57:33.459Z"
   },
   {
    "duration": 329,
    "start_time": "2022-05-14T16:57:33.968Z"
   },
   {
    "duration": 463,
    "start_time": "2022-05-14T16:57:34.299Z"
   },
   {
    "duration": 3,
    "start_time": "2022-05-14T16:57:34.764Z"
   },
   {
    "duration": 33,
    "start_time": "2022-05-14T16:57:34.768Z"
   },
   {
    "duration": 12,
    "start_time": "2022-05-14T16:57:34.802Z"
   },
   {
    "duration": 78,
    "start_time": "2022-05-14T16:57:34.815Z"
   },
   {
    "duration": 3,
    "start_time": "2022-05-14T16:57:34.895Z"
   },
   {
    "duration": 14,
    "start_time": "2022-05-14T16:57:34.899Z"
   },
   {
    "duration": 91,
    "start_time": "2022-05-14T16:57:34.915Z"
   },
   {
    "duration": 3855,
    "start_time": "2022-05-14T16:57:35.008Z"
   },
   {
    "duration": 1091,
    "start_time": "2022-05-14T16:57:38.866Z"
   },
   {
    "duration": 3,
    "start_time": "2022-05-14T16:57:39.958Z"
   },
   {
    "duration": 929,
    "start_time": "2022-05-14T16:57:39.962Z"
   },
   {
    "duration": 27,
    "start_time": "2022-05-14T16:57:40.893Z"
   },
   {
    "duration": 27,
    "start_time": "2022-05-14T16:57:58.908Z"
   },
   {
    "duration": 28,
    "start_time": "2022-05-14T16:57:59.629Z"
   },
   {
    "duration": 28,
    "start_time": "2022-05-14T16:58:00.294Z"
   },
   {
    "duration": 9,
    "start_time": "2022-05-14T16:58:28.128Z"
   },
   {
    "duration": 10,
    "start_time": "2022-05-14T16:58:29.142Z"
   },
   {
    "duration": 9,
    "start_time": "2022-05-14T16:58:31.392Z"
   },
   {
    "duration": 27,
    "start_time": "2022-05-14T16:58:40.918Z"
   },
   {
    "duration": 6,
    "start_time": "2022-05-14T16:58:47.510Z"
   },
   {
    "duration": 1402,
    "start_time": "2022-05-14T16:59:10.930Z"
   },
   {
    "duration": 60,
    "start_time": "2022-05-14T16:59:12.334Z"
   },
   {
    "duration": 480,
    "start_time": "2022-05-14T16:59:12.395Z"
   },
   {
    "duration": 323,
    "start_time": "2022-05-14T16:59:12.877Z"
   },
   {
    "duration": 441,
    "start_time": "2022-05-14T16:59:13.201Z"
   },
   {
    "duration": 4,
    "start_time": "2022-05-14T16:59:13.643Z"
   },
   {
    "duration": 39,
    "start_time": "2022-05-14T16:59:13.649Z"
   },
   {
    "duration": 13,
    "start_time": "2022-05-14T16:59:13.690Z"
   },
   {
    "duration": 52,
    "start_time": "2022-05-14T16:59:13.704Z"
   },
   {
    "duration": 3,
    "start_time": "2022-05-14T16:59:13.788Z"
   },
   {
    "duration": 15,
    "start_time": "2022-05-14T16:59:13.793Z"
   },
   {
    "duration": 179,
    "start_time": "2022-05-14T16:59:13.811Z"
   },
   {
    "duration": 3893,
    "start_time": "2022-05-14T16:59:13.992Z"
   },
   {
    "duration": 1014,
    "start_time": "2022-05-14T16:59:17.887Z"
   },
   {
    "duration": 3,
    "start_time": "2022-05-14T16:59:18.904Z"
   },
   {
    "duration": 1390,
    "start_time": "2022-05-14T16:59:18.908Z"
   },
   {
    "duration": 5,
    "start_time": "2022-05-14T16:59:20.300Z"
   },
   {
    "duration": 10,
    "start_time": "2022-05-14T16:59:31.767Z"
   },
   {
    "duration": 112,
    "start_time": "2022-05-14T17:01:35.499Z"
   },
   {
    "duration": 6,
    "start_time": "2022-05-14T17:01:39.316Z"
   },
   {
    "duration": 956,
    "start_time": "2022-05-14T17:02:01.140Z"
   },
   {
    "duration": 1430,
    "start_time": "2022-05-14T17:11:22.802Z"
   },
   {
    "duration": 62,
    "start_time": "2022-05-14T17:11:24.234Z"
   },
   {
    "duration": 480,
    "start_time": "2022-05-14T17:11:24.298Z"
   },
   {
    "duration": 345,
    "start_time": "2022-05-14T17:11:24.787Z"
   },
   {
    "duration": 487,
    "start_time": "2022-05-14T17:11:25.134Z"
   },
   {
    "duration": 4,
    "start_time": "2022-05-14T17:11:25.623Z"
   },
   {
    "duration": 30,
    "start_time": "2022-05-14T17:11:25.629Z"
   },
   {
    "duration": 12,
    "start_time": "2022-05-14T17:11:25.661Z"
   },
   {
    "duration": 53,
    "start_time": "2022-05-14T17:11:25.688Z"
   },
   {
    "duration": 4,
    "start_time": "2022-05-14T17:11:25.743Z"
   },
   {
    "duration": 44,
    "start_time": "2022-05-14T17:11:25.748Z"
   },
   {
    "duration": 1215,
    "start_time": "2022-05-14T17:11:25.794Z"
   },
   {
    "duration": 129183,
    "start_time": "2022-05-14T17:11:27.011Z"
   },
   {
    "duration": 1003,
    "start_time": "2022-05-14T17:13:36.196Z"
   },
   {
    "duration": 98,
    "start_time": "2022-05-14T17:13:37.200Z"
   },
   {
    "duration": 3853,
    "start_time": "2022-05-14T17:13:37.300Z"
   },
   {
    "duration": 6,
    "start_time": "2022-05-14T17:13:41.154Z"
   },
   {
    "duration": 1038,
    "start_time": "2022-05-14T17:13:41.161Z"
   },
   {
    "duration": 741,
    "start_time": "2022-05-14T17:14:17.490Z"
   },
   {
    "duration": 30,
    "start_time": "2022-05-14T17:14:21.232Z"
   },
   {
    "duration": 27,
    "start_time": "2022-05-14T17:14:36.659Z"
   },
   {
    "duration": 961,
    "start_time": "2022-05-14T17:14:42.651Z"
   },
   {
    "duration": 1900,
    "start_time": "2022-05-14T17:14:50.723Z"
   },
   {
    "duration": 1911,
    "start_time": "2022-05-14T17:15:15.036Z"
   },
   {
    "duration": 26,
    "start_time": "2022-05-14T17:15:28.524Z"
   },
   {
    "duration": 1897,
    "start_time": "2022-05-14T17:15:36.613Z"
   },
   {
    "duration": 901,
    "start_time": "2022-05-14T17:15:54.190Z"
   },
   {
    "duration": 877,
    "start_time": "2022-05-14T17:16:03.521Z"
   },
   {
    "duration": 78,
    "start_time": "2022-05-15T17:16:56.029Z"
   },
   {
    "duration": 1878,
    "start_time": "2022-05-15T17:17:10.801Z"
   },
   {
    "duration": 71,
    "start_time": "2022-05-15T17:17:12.681Z"
   },
   {
    "duration": 676,
    "start_time": "2022-05-15T17:17:12.754Z"
   },
   {
    "duration": 0,
    "start_time": "2022-05-15T17:17:13.432Z"
   },
   {
    "duration": 0,
    "start_time": "2022-05-15T17:17:13.433Z"
   },
   {
    "duration": 0,
    "start_time": "2022-05-15T17:17:13.434Z"
   },
   {
    "duration": 0,
    "start_time": "2022-05-15T17:17:13.435Z"
   },
   {
    "duration": 0,
    "start_time": "2022-05-15T17:17:13.436Z"
   },
   {
    "duration": 0,
    "start_time": "2022-05-15T17:17:13.437Z"
   },
   {
    "duration": 0,
    "start_time": "2022-05-15T17:17:13.439Z"
   },
   {
    "duration": 0,
    "start_time": "2022-05-15T17:17:13.440Z"
   },
   {
    "duration": 0,
    "start_time": "2022-05-15T17:17:13.441Z"
   },
   {
    "duration": 0,
    "start_time": "2022-05-15T17:17:13.442Z"
   },
   {
    "duration": 0,
    "start_time": "2022-05-15T17:17:13.443Z"
   },
   {
    "duration": 0,
    "start_time": "2022-05-15T17:17:13.444Z"
   },
   {
    "duration": 0,
    "start_time": "2022-05-15T17:17:13.445Z"
   },
   {
    "duration": 0,
    "start_time": "2022-05-15T17:17:13.445Z"
   },
   {
    "duration": 0,
    "start_time": "2022-05-15T17:17:13.447Z"
   },
   {
    "duration": 1675,
    "start_time": "2022-05-15T17:17:39.581Z"
   },
   {
    "duration": 85,
    "start_time": "2022-05-15T17:17:41.258Z"
   },
   {
    "duration": 1756,
    "start_time": "2022-05-15T17:18:07.003Z"
   },
   {
    "duration": 85,
    "start_time": "2022-05-15T17:18:08.761Z"
   },
   {
    "duration": 527,
    "start_time": "2022-05-15T17:18:08.848Z"
   },
   {
    "duration": 388,
    "start_time": "2022-05-15T17:18:09.377Z"
   },
   {
    "duration": 484,
    "start_time": "2022-05-15T17:18:09.767Z"
   },
   {
    "duration": 5,
    "start_time": "2022-05-15T17:18:10.253Z"
   },
   {
    "duration": 46,
    "start_time": "2022-05-15T17:18:10.259Z"
   },
   {
    "duration": 14,
    "start_time": "2022-05-15T17:18:10.307Z"
   },
   {
    "duration": 81,
    "start_time": "2022-05-15T17:18:10.323Z"
   },
   {
    "duration": 3,
    "start_time": "2022-05-15T17:18:10.407Z"
   },
   {
    "duration": 14,
    "start_time": "2022-05-15T17:18:10.411Z"
   },
   {
    "duration": 80,
    "start_time": "2022-05-15T17:18:10.427Z"
   },
   {
    "duration": 2355,
    "start_time": "2022-05-15T17:18:10.571Z"
   },
   {
    "duration": 1518,
    "start_time": "2022-05-15T17:18:12.928Z"
   },
   {
    "duration": 2518,
    "start_time": "2022-05-15T17:27:32.849Z"
   },
   {
    "duration": 67,
    "start_time": "2022-05-15T17:27:35.369Z"
   },
   {
    "duration": 721,
    "start_time": "2022-05-15T17:27:35.438Z"
   },
   {
    "duration": 259,
    "start_time": "2022-05-15T17:27:36.162Z"
   },
   {
    "duration": 479,
    "start_time": "2022-05-15T17:27:36.423Z"
   },
   {
    "duration": 4,
    "start_time": "2022-05-15T17:27:36.903Z"
   },
   {
    "duration": 22,
    "start_time": "2022-05-15T17:27:36.908Z"
   },
   {
    "duration": 11,
    "start_time": "2022-05-15T17:27:36.932Z"
   },
   {
    "duration": 85,
    "start_time": "2022-05-15T17:27:36.944Z"
   },
   {
    "duration": 3,
    "start_time": "2022-05-15T17:27:37.031Z"
   },
   {
    "duration": 39,
    "start_time": "2022-05-15T17:27:37.035Z"
   },
   {
    "duration": 99,
    "start_time": "2022-05-15T17:27:37.076Z"
   },
   {
    "duration": 1989,
    "start_time": "2022-05-15T17:27:37.177Z"
   },
   {
    "duration": 1116,
    "start_time": "2022-05-15T17:27:39.171Z"
   },
   {
    "duration": 3,
    "start_time": "2022-05-15T17:27:40.289Z"
   },
   {
    "duration": 10402,
    "start_time": "2022-05-15T17:27:40.293Z"
   },
   {
    "duration": 5,
    "start_time": "2022-05-15T17:27:50.697Z"
   },
   {
    "duration": 6122,
    "start_time": "2022-05-15T17:27:50.771Z"
   },
   {
    "duration": 119,
    "start_time": "2022-05-15T17:29:25.186Z"
   },
   {
    "duration": 14,
    "start_time": "2022-05-15T17:29:28.082Z"
   },
   {
    "duration": 11,
    "start_time": "2022-05-15T17:29:34.604Z"
   },
   {
    "duration": 12,
    "start_time": "2022-05-15T17:29:37.530Z"
   },
   {
    "duration": 3,
    "start_time": "2022-05-15T17:29:46.802Z"
   },
   {
    "duration": 57,
    "start_time": "2022-05-15T17:29:46.807Z"
   },
   {
    "duration": 616,
    "start_time": "2022-05-15T17:29:54.456Z"
   },
   {
    "duration": 356,
    "start_time": "2022-05-15T17:30:06.795Z"
   },
   {
    "duration": 654,
    "start_time": "2022-05-15T17:31:17.262Z"
   },
   {
    "duration": 777,
    "start_time": "2022-05-15T17:31:28.230Z"
   },
   {
    "duration": 16,
    "start_time": "2022-05-15T17:34:31.508Z"
   },
   {
    "duration": 739,
    "start_time": "2022-05-15T17:34:41.362Z"
   },
   {
    "duration": 598,
    "start_time": "2022-05-15T17:35:05.529Z"
   },
   {
    "duration": 104,
    "start_time": "2022-05-15T17:39:17.078Z"
   },
   {
    "duration": 117,
    "start_time": "2022-05-15T17:39:24.003Z"
   },
   {
    "duration": 10,
    "start_time": "2022-05-15T17:40:26.194Z"
   },
   {
    "duration": 11,
    "start_time": "2022-05-15T17:41:10.611Z"
   },
   {
    "duration": 4,
    "start_time": "2022-05-15T17:41:22.327Z"
   },
   {
    "duration": 593,
    "start_time": "2022-05-15T17:41:25.925Z"
   },
   {
    "duration": 713,
    "start_time": "2022-05-15T17:42:01.106Z"
   },
   {
    "duration": 579,
    "start_time": "2022-05-15T17:42:33.026Z"
   },
   {
    "duration": 797,
    "start_time": "2022-05-15T17:42:43.268Z"
   },
   {
    "duration": 600,
    "start_time": "2022-05-15T17:42:50.167Z"
   },
   {
    "duration": 630,
    "start_time": "2022-05-15T17:45:14.862Z"
   },
   {
    "duration": 717,
    "start_time": "2022-05-15T17:45:41.262Z"
   },
   {
    "duration": 12,
    "start_time": "2022-05-15T17:47:42.229Z"
   },
   {
    "duration": 174,
    "start_time": "2022-05-15T17:49:36.557Z"
   },
   {
    "duration": 180,
    "start_time": "2022-05-15T17:50:14.064Z"
   },
   {
    "duration": 178,
    "start_time": "2022-05-15T17:51:24.938Z"
   },
   {
    "duration": 253,
    "start_time": "2022-05-15T17:51:42.258Z"
   },
   {
    "duration": 1859,
    "start_time": "2022-05-15T17:57:59.841Z"
   },
   {
    "duration": 1379,
    "start_time": "2022-05-15T17:58:37.216Z"
   },
   {
    "duration": 55,
    "start_time": "2022-05-15T17:58:38.597Z"
   },
   {
    "duration": 742,
    "start_time": "2022-05-15T17:58:38.653Z"
   },
   {
    "duration": 200,
    "start_time": "2022-05-15T17:58:39.397Z"
   },
   {
    "duration": 246,
    "start_time": "2022-05-15T17:58:39.600Z"
   },
   {
    "duration": 468,
    "start_time": "2022-05-15T17:58:39.848Z"
   },
   {
    "duration": 4,
    "start_time": "2022-05-15T17:58:40.317Z"
   },
   {
    "duration": 127,
    "start_time": "2022-05-15T17:58:40.323Z"
   },
   {
    "duration": 0,
    "start_time": "2022-05-15T17:58:40.452Z"
   },
   {
    "duration": 0,
    "start_time": "2022-05-15T17:58:40.453Z"
   },
   {
    "duration": 0,
    "start_time": "2022-05-15T17:58:40.454Z"
   },
   {
    "duration": 0,
    "start_time": "2022-05-15T17:58:40.455Z"
   },
   {
    "duration": 0,
    "start_time": "2022-05-15T17:58:40.456Z"
   },
   {
    "duration": 0,
    "start_time": "2022-05-15T17:58:40.457Z"
   },
   {
    "duration": 0,
    "start_time": "2022-05-15T17:58:40.457Z"
   },
   {
    "duration": 0,
    "start_time": "2022-05-15T17:58:40.471Z"
   },
   {
    "duration": 0,
    "start_time": "2022-05-15T17:58:40.473Z"
   },
   {
    "duration": 0,
    "start_time": "2022-05-15T17:58:40.473Z"
   },
   {
    "duration": 0,
    "start_time": "2022-05-15T17:58:40.474Z"
   },
   {
    "duration": 1435,
    "start_time": "2022-05-15T17:59:19.291Z"
   },
   {
    "duration": 59,
    "start_time": "2022-05-15T17:59:22.296Z"
   },
   {
    "duration": 733,
    "start_time": "2022-05-15T17:59:22.357Z"
   },
   {
    "duration": 202,
    "start_time": "2022-05-15T17:59:23.092Z"
   },
   {
    "duration": 252,
    "start_time": "2022-05-15T17:59:23.296Z"
   },
   {
    "duration": 486,
    "start_time": "2022-05-15T17:59:23.549Z"
   },
   {
    "duration": 3,
    "start_time": "2022-05-15T17:59:31.762Z"
   },
   {
    "duration": 37,
    "start_time": "2022-05-15T17:59:31.767Z"
   },
   {
    "duration": 12,
    "start_time": "2022-05-15T17:59:31.806Z"
   },
   {
    "duration": 50,
    "start_time": "2022-05-15T17:59:31.984Z"
   },
   {
    "duration": 3,
    "start_time": "2022-05-15T17:59:32.127Z"
   },
   {
    "duration": 11,
    "start_time": "2022-05-15T17:59:32.132Z"
   },
   {
    "duration": 42,
    "start_time": "2022-05-15T17:59:32.145Z"
   },
   {
    "duration": 2052,
    "start_time": "2022-05-15T17:59:32.190Z"
   },
   {
    "duration": 1127,
    "start_time": "2022-05-15T17:59:34.244Z"
   },
   {
    "duration": 3,
    "start_time": "2022-05-15T17:59:35.373Z"
   },
   {
    "duration": 4909,
    "start_time": "2022-05-15T17:59:35.377Z"
   },
   {
    "duration": 6,
    "start_time": "2022-05-15T17:59:40.288Z"
   },
   {
    "duration": 5991,
    "start_time": "2022-05-15T17:59:40.295Z"
   },
   {
    "duration": 109,
    "start_time": "2022-05-15T18:03:08.345Z"
   },
   {
    "duration": 139,
    "start_time": "2022-05-15T18:04:05.267Z"
   },
   {
    "duration": 197,
    "start_time": "2022-05-15T18:04:39.132Z"
   },
   {
    "duration": 11,
    "start_time": "2022-05-15T18:05:45.984Z"
   },
   {
    "duration": 9,
    "start_time": "2022-05-15T18:06:45.667Z"
   },
   {
    "duration": 269,
    "start_time": "2022-05-15T18:06:52.504Z"
   },
   {
    "duration": 257,
    "start_time": "2022-05-15T18:07:34.595Z"
   },
   {
    "duration": 97,
    "start_time": "2022-05-15T18:07:50.475Z"
   },
   {
    "duration": 167,
    "start_time": "2022-05-15T18:08:20.682Z"
   },
   {
    "duration": 8490,
    "start_time": "2022-05-15T18:08:49.652Z"
   },
   {
    "duration": 18,
    "start_time": "2022-05-15T18:10:11.533Z"
   },
   {
    "duration": 191,
    "start_time": "2022-05-15T18:10:44.283Z"
   },
   {
    "duration": 149,
    "start_time": "2022-05-15T18:11:22.060Z"
   },
   {
    "duration": 133,
    "start_time": "2022-05-15T18:11:28.621Z"
   },
   {
    "duration": 211,
    "start_time": "2022-05-15T18:12:24.183Z"
   },
   {
    "duration": 204,
    "start_time": "2022-05-15T18:12:31.362Z"
   },
   {
    "duration": 213,
    "start_time": "2022-05-15T18:12:40.804Z"
   },
   {
    "duration": 224,
    "start_time": "2022-05-15T18:12:55.683Z"
   },
   {
    "duration": 205,
    "start_time": "2022-05-15T18:13:08.554Z"
   },
   {
    "duration": 214,
    "start_time": "2022-05-15T18:13:13.817Z"
   },
   {
    "duration": 12,
    "start_time": "2022-05-15T18:14:25.857Z"
   },
   {
    "duration": 14,
    "start_time": "2022-05-15T18:14:28.987Z"
   },
   {
    "duration": 146,
    "start_time": "2022-05-15T18:14:36.284Z"
   },
   {
    "duration": 211,
    "start_time": "2022-05-15T18:14:42.102Z"
   },
   {
    "duration": 201,
    "start_time": "2022-05-15T18:16:07.607Z"
   },
   {
    "duration": 12,
    "start_time": "2022-05-15T18:16:19.461Z"
   },
   {
    "duration": 218,
    "start_time": "2022-05-15T18:16:30.096Z"
   },
   {
    "duration": 5,
    "start_time": "2022-05-15T18:17:39.611Z"
   },
   {
    "duration": 1678,
    "start_time": "2022-05-15T18:36:15.059Z"
   },
   {
    "duration": 74,
    "start_time": "2022-05-15T18:36:16.739Z"
   },
   {
    "duration": 828,
    "start_time": "2022-05-15T18:36:16.814Z"
   },
   {
    "duration": 202,
    "start_time": "2022-05-15T18:36:17.644Z"
   },
   {
    "duration": 290,
    "start_time": "2022-05-15T18:36:17.847Z"
   },
   {
    "duration": 485,
    "start_time": "2022-05-15T18:36:18.139Z"
   },
   {
    "duration": 3,
    "start_time": "2022-05-15T18:36:18.626Z"
   },
   {
    "duration": 26,
    "start_time": "2022-05-15T18:36:18.631Z"
   },
   {
    "duration": 26,
    "start_time": "2022-05-15T18:36:18.658Z"
   },
   {
    "duration": 56,
    "start_time": "2022-05-15T18:36:18.687Z"
   },
   {
    "duration": 3,
    "start_time": "2022-05-15T18:36:18.744Z"
   },
   {
    "duration": 14,
    "start_time": "2022-05-15T18:36:18.770Z"
   },
   {
    "duration": 125,
    "start_time": "2022-05-15T18:36:18.786Z"
   },
   {
    "duration": 2348,
    "start_time": "2022-05-15T18:36:18.913Z"
   },
   {
    "duration": 1255,
    "start_time": "2022-05-15T18:36:21.275Z"
   },
   {
    "duration": 748946,
    "start_time": "2022-05-15T18:36:22.532Z"
   },
   {
    "duration": 1305,
    "start_time": "2022-05-15T18:48:51.481Z"
   },
   {
    "duration": 84,
    "start_time": "2022-05-15T18:48:52.788Z"
   },
   {
    "duration": 913,
    "start_time": "2022-05-15T18:48:52.874Z"
   },
   {
    "duration": 325,
    "start_time": "2022-05-15T18:48:53.790Z"
   },
   {
    "duration": 34529,
    "start_time": "2022-05-15T18:51:46.655Z"
   },
   {
    "duration": 10216,
    "start_time": "2022-05-15T18:52:59.967Z"
   },
   {
    "duration": 213,
    "start_time": "2022-05-15T18:53:39.311Z"
   },
   {
    "duration": 1510,
    "start_time": "2022-09-13T17:27:55.802Z"
   },
   {
    "duration": 200,
    "start_time": "2022-09-13T17:27:57.313Z"
   },
   {
    "duration": 888,
    "start_time": "2022-09-13T17:27:57.514Z"
   },
   {
    "duration": 245,
    "start_time": "2022-09-13T17:27:58.405Z"
   },
   {
    "duration": 352,
    "start_time": "2022-09-13T17:27:58.652Z"
   },
   {
    "duration": 594,
    "start_time": "2022-09-13T17:27:59.006Z"
   },
   {
    "duration": 5,
    "start_time": "2022-09-13T17:27:59.602Z"
   },
   {
    "duration": 30,
    "start_time": "2022-09-13T17:27:59.609Z"
   },
   {
    "duration": 16,
    "start_time": "2022-09-13T17:27:59.641Z"
   },
   {
    "duration": 90,
    "start_time": "2022-09-13T17:27:59.660Z"
   },
   {
    "duration": 3,
    "start_time": "2022-09-13T17:27:59.752Z"
   },
   {
    "duration": 18,
    "start_time": "2022-09-13T17:27:59.757Z"
   },
   {
    "duration": 109,
    "start_time": "2022-09-13T17:27:59.825Z"
   },
   {
    "duration": 2187,
    "start_time": "2022-09-13T17:27:59.935Z"
   },
   {
    "duration": 1018,
    "start_time": "2022-09-13T17:28:02.124Z"
   },
   {
    "duration": 2648,
    "start_time": "2022-09-13T17:52:24.078Z"
   },
   {
    "duration": 124,
    "start_time": "2022-09-13T17:52:26.728Z"
   },
   {
    "duration": 1589,
    "start_time": "2022-09-13T17:52:26.854Z"
   },
   {
    "duration": 502,
    "start_time": "2022-09-13T17:52:28.446Z"
   },
   {
    "duration": 612,
    "start_time": "2022-09-13T17:52:28.950Z"
   },
   {
    "duration": 972,
    "start_time": "2022-09-13T17:52:29.564Z"
   },
   {
    "duration": 4,
    "start_time": "2022-09-13T17:52:30.539Z"
   },
   {
    "duration": 96,
    "start_time": "2022-09-13T17:52:30.545Z"
   },
   {
    "duration": 22,
    "start_time": "2022-09-13T17:52:30.643Z"
   },
   {
    "duration": 115,
    "start_time": "2022-09-13T17:52:30.722Z"
   },
   {
    "duration": 4,
    "start_time": "2022-09-13T17:52:30.838Z"
   },
   {
    "duration": 78,
    "start_time": "2022-09-13T17:52:30.843Z"
   },
   {
    "duration": 119,
    "start_time": "2022-09-13T17:52:30.924Z"
   },
   {
    "duration": 4311,
    "start_time": "2022-09-13T17:52:31.045Z"
   },
   {
    "duration": 1041,
    "start_time": "2022-09-13T17:52:35.358Z"
   },
   {
    "duration": 1799,
    "start_time": "2022-09-13T20:57:31.564Z"
   },
   {
    "duration": 248,
    "start_time": "2022-09-13T20:57:33.366Z"
   },
   {
    "duration": 873,
    "start_time": "2022-09-13T20:57:33.615Z"
   },
   {
    "duration": 256,
    "start_time": "2022-09-13T20:57:34.490Z"
   },
   {
    "duration": 307,
    "start_time": "2022-09-13T20:57:34.748Z"
   },
   {
    "duration": 545,
    "start_time": "2022-09-13T20:57:35.057Z"
   },
   {
    "duration": 4,
    "start_time": "2022-09-13T20:57:35.604Z"
   },
   {
    "duration": 47,
    "start_time": "2022-09-13T20:57:35.610Z"
   },
   {
    "duration": 14,
    "start_time": "2022-09-13T20:57:35.658Z"
   },
   {
    "duration": 84,
    "start_time": "2022-09-13T20:57:35.675Z"
   },
   {
    "duration": 4,
    "start_time": "2022-09-13T20:57:35.761Z"
   },
   {
    "duration": 16,
    "start_time": "2022-09-13T20:57:35.767Z"
   },
   {
    "duration": 102,
    "start_time": "2022-09-13T20:57:35.827Z"
   },
   {
    "duration": 2272,
    "start_time": "2022-09-13T20:57:35.930Z"
   },
   {
    "duration": 866,
    "start_time": "2022-09-13T20:57:38.204Z"
   },
   {
    "duration": 44,
    "start_time": "2022-09-14T17:11:00.422Z"
   },
   {
    "duration": 1551,
    "start_time": "2022-09-14T17:11:26.003Z"
   },
   {
    "duration": 184,
    "start_time": "2022-09-14T17:11:27.556Z"
   },
   {
    "duration": 815,
    "start_time": "2022-09-14T17:11:27.742Z"
   },
   {
    "duration": 195,
    "start_time": "2022-09-14T17:11:28.559Z"
   },
   {
    "duration": 242,
    "start_time": "2022-09-14T17:11:28.756Z"
   },
   {
    "duration": 476,
    "start_time": "2022-09-14T17:11:28.999Z"
   },
   {
    "duration": 5,
    "start_time": "2022-09-14T17:11:29.477Z"
   },
   {
    "duration": 25,
    "start_time": "2022-09-14T17:11:29.483Z"
   },
   {
    "duration": 17,
    "start_time": "2022-09-14T17:11:29.510Z"
   },
   {
    "duration": 78,
    "start_time": "2022-09-14T17:11:29.529Z"
   },
   {
    "duration": 3,
    "start_time": "2022-09-14T17:11:29.609Z"
   },
   {
    "duration": 12,
    "start_time": "2022-09-14T17:11:29.613Z"
   },
   {
    "duration": 155,
    "start_time": "2022-09-14T17:11:29.627Z"
   },
   {
    "duration": 1871,
    "start_time": "2022-09-14T17:11:29.784Z"
   },
   {
    "duration": 1589,
    "start_time": "2022-09-14T17:11:31.656Z"
   },
   {
    "duration": 3,
    "start_time": "2022-09-14T17:11:33.246Z"
   },
   {
    "duration": 16232,
    "start_time": "2022-09-14T17:11:33.250Z"
   },
   {
    "duration": 5,
    "start_time": "2022-09-14T17:11:49.484Z"
   },
   {
    "duration": 697,
    "start_time": "2022-09-14T17:11:49.490Z"
   },
   {
    "duration": 299,
    "start_time": "2022-09-14T17:11:50.189Z"
   },
   {
    "duration": 119685,
    "start_time": "2022-09-14T17:12:23.494Z"
   },
   {
    "duration": 1399,
    "start_time": "2022-09-14T17:56:35.585Z"
   },
   {
    "duration": 75,
    "start_time": "2022-09-14T17:56:36.985Z"
   },
   {
    "duration": 741,
    "start_time": "2022-09-14T17:56:37.062Z"
   },
   {
    "duration": 231,
    "start_time": "2022-09-14T17:56:37.805Z"
   },
   {
    "duration": 247,
    "start_time": "2022-09-14T17:56:38.038Z"
   },
   {
    "duration": 433,
    "start_time": "2022-09-14T17:56:38.287Z"
   },
   {
    "duration": 3,
    "start_time": "2022-09-14T17:56:38.722Z"
   },
   {
    "duration": 29,
    "start_time": "2022-09-14T17:56:38.727Z"
   },
   {
    "duration": 25,
    "start_time": "2022-09-14T17:56:38.758Z"
   },
   {
    "duration": 50,
    "start_time": "2022-09-14T17:56:38.785Z"
   },
   {
    "duration": 3,
    "start_time": "2022-09-14T17:56:38.837Z"
   },
   {
    "duration": 41,
    "start_time": "2022-09-14T17:56:38.841Z"
   },
   {
    "duration": 101,
    "start_time": "2022-09-14T17:56:38.884Z"
   },
   {
    "duration": 1946,
    "start_time": "2022-09-14T17:56:38.986Z"
   },
   {
    "duration": 809,
    "start_time": "2022-09-14T17:56:40.934Z"
   },
   {
    "duration": 2438043,
    "start_time": "2022-09-14T17:56:41.744Z"
   },
   {
    "duration": 698,
    "start_time": "2022-09-14T18:37:19.788Z"
   },
   {
    "duration": 5,
    "start_time": "2022-09-14T18:37:20.487Z"
   },
   {
    "duration": 701,
    "start_time": "2022-09-14T18:37:20.493Z"
   },
   {
    "duration": 329,
    "start_time": "2022-09-14T18:37:21.195Z"
   }
  ],
  "kernelspec": {
   "display_name": "Python 3 (ipykernel)",
   "language": "python",
   "name": "python3"
  },
  "language_info": {
   "codemirror_mode": {
    "name": "ipython",
    "version": 3
   },
   "file_extension": ".py",
   "mimetype": "text/x-python",
   "name": "python",
   "nbconvert_exporter": "python",
   "pygments_lexer": "ipython3",
   "version": "3.9.12"
  },
  "toc": {
   "base_numbering": 1,
   "nav_menu": {},
   "number_sections": true,
   "sideBar": true,
   "skip_h1_title": true,
   "title_cell": "Содержание",
   "title_sidebar": "Contents",
   "toc_cell": true,
   "toc_position": {},
   "toc_section_display": true,
   "toc_window_display": false
  }
 },
 "nbformat": 4,
 "nbformat_minor": 2
}
