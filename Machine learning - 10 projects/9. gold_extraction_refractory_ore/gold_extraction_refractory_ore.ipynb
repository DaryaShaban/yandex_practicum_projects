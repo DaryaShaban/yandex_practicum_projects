{
 "cells": [
  {
   "cell_type": "markdown",
   "metadata": {},
   "source": [
    "# Gold extraction of the ore"
   ]
  },
  {
   "cell_type": "markdown",
   "metadata": {},
   "source": [
    "The task is to prepare a prototype machine learning model for a company, that develops solutions for the industrial enterprises.\n",
    "\n",
    "The model should predict the recovery rate of gold from the gold ore. The data includes mining and cleaning parameters.\n",
    "\n",
    "The model will help optimize production in order to launch an enterprise with profitable characteristics.\n",
    "\n",
    "The sequence of subtasks:\n",
    "\n",
    "1. Prepare data;\n",
    "2. Conduct exploratory data analysis;\n",
    "3. Build and train the model.\n",
    "\n",
    "To solve the problem, a new quality metric will be introduced - `sMAPE` (Symmetric Mean Absolute Percentage Error).\n",
    "It is similar to `MAE`, but is expressed  in relative terms, not absolute. Symmetrical, as it equally takes into account the scale of both the target feature and the prediction.\n",
    "\n",
    "The formula for final SMAPE is provided by the Client and considers error in two stages of the gold extraction process:\n",
    "**rougher stage** and **final stage**:\n",
    "\n",
    "`Total sMAPE = 25% rougher sMAPE + 75% final sMAPE`"
   ]
  },
  {
   "cell_type": "markdown",
   "metadata": {},
   "source": [
    "## 1. Data preparation"
   ]
  },
  {
   "cell_type": "code",
   "execution_count": 1,
   "metadata": {},
   "outputs": [],
   "source": [
    "import pandas as pd \n",
    "import numpy as np \n",
    "import seaborn as sn\n",
    "import matplotlib.pyplot as plt\n",
    "from sklearn.metrics import mean_absolute_error\n",
    "\n",
    "from sklearn.tree import DecisionTreeRegressor\n",
    "from sklearn.ensemble import RandomForestRegressor \n",
    "from sklearn.linear_model import LinearRegression\n",
    "from sklearn.model_selection import cross_val_score\n",
    "from sklearn.metrics import make_scorer\n",
    "from sklearn.model_selection import GridSearchCV"
   ]
  },
  {
   "cell_type": "code",
   "execution_count": 2,
   "metadata": {},
   "outputs": [
    {
     "name": "stdout",
     "output_type": "stream",
     "text": [
      "<class 'pandas.core.frame.DataFrame'>\n",
      "RangeIndex: 14149 entries, 0 to 14148\n",
      "Data columns (total 87 columns):\n",
      " #   Column                                              Non-Null Count  Dtype  \n",
      "---  ------                                              --------------  -----  \n",
      " 0   date                                                14149 non-null  object \n",
      " 1   final.output.concentrate_ag                         14148 non-null  float64\n",
      " 2   final.output.concentrate_pb                         14148 non-null  float64\n",
      " 3   final.output.concentrate_sol                        13938 non-null  float64\n",
      " 4   final.output.concentrate_au                         14149 non-null  float64\n",
      " 5   final.output.recovery                               14149 non-null  float64\n",
      " 6   final.output.tail_ag                                14149 non-null  float64\n",
      " 7   final.output.tail_pb                                14049 non-null  float64\n",
      " 8   final.output.tail_sol                               14144 non-null  float64\n",
      " 9   final.output.tail_au                                14149 non-null  float64\n",
      " 10  primary_cleaner.input.sulfate                       14129 non-null  float64\n",
      " 11  primary_cleaner.input.depressant                    14117 non-null  float64\n",
      " 12  primary_cleaner.input.feed_size                     14149 non-null  float64\n",
      " 13  primary_cleaner.input.xanthate                      14049 non-null  float64\n",
      " 14  primary_cleaner.output.concentrate_ag               14149 non-null  float64\n",
      " 15  primary_cleaner.output.concentrate_pb               14063 non-null  float64\n",
      " 16  primary_cleaner.output.concentrate_sol              13863 non-null  float64\n",
      " 17  primary_cleaner.output.concentrate_au               14149 non-null  float64\n",
      " 18  primary_cleaner.output.tail_ag                      14148 non-null  float64\n",
      " 19  primary_cleaner.output.tail_pb                      14134 non-null  float64\n",
      " 20  primary_cleaner.output.tail_sol                     14103 non-null  float64\n",
      " 21  primary_cleaner.output.tail_au                      14149 non-null  float64\n",
      " 22  primary_cleaner.state.floatbank8_a_air              14145 non-null  float64\n",
      " 23  primary_cleaner.state.floatbank8_a_level            14148 non-null  float64\n",
      " 24  primary_cleaner.state.floatbank8_b_air              14145 non-null  float64\n",
      " 25  primary_cleaner.state.floatbank8_b_level            14148 non-null  float64\n",
      " 26  primary_cleaner.state.floatbank8_c_air              14147 non-null  float64\n",
      " 27  primary_cleaner.state.floatbank8_c_level            14148 non-null  float64\n",
      " 28  primary_cleaner.state.floatbank8_d_air              14146 non-null  float64\n",
      " 29  primary_cleaner.state.floatbank8_d_level            14148 non-null  float64\n",
      " 30  rougher.calculation.sulfate_to_au_concentrate       14148 non-null  float64\n",
      " 31  rougher.calculation.floatbank10_sulfate_to_au_feed  14148 non-null  float64\n",
      " 32  rougher.calculation.floatbank11_sulfate_to_au_feed  14148 non-null  float64\n",
      " 33  rougher.calculation.au_pb_ratio                     14149 non-null  float64\n",
      " 34  rougher.input.feed_ag                               14149 non-null  float64\n",
      " 35  rougher.input.feed_pb                               14049 non-null  float64\n",
      " 36  rougher.input.feed_rate                             14141 non-null  float64\n",
      " 37  rougher.input.feed_size                             14005 non-null  float64\n",
      " 38  rougher.input.feed_sol                              14071 non-null  float64\n",
      " 39  rougher.input.feed_au                               14149 non-null  float64\n",
      " 40  rougher.input.floatbank10_sulfate                   14120 non-null  float64\n",
      " 41  rougher.input.floatbank10_xanthate                  14141 non-null  float64\n",
      " 42  rougher.input.floatbank11_sulfate                   14113 non-null  float64\n",
      " 43  rougher.input.floatbank11_xanthate                  13721 non-null  float64\n",
      " 44  rougher.output.concentrate_ag                       14149 non-null  float64\n",
      " 45  rougher.output.concentrate_pb                       14149 non-null  float64\n",
      " 46  rougher.output.concentrate_sol                      14127 non-null  float64\n",
      " 47  rougher.output.concentrate_au                       14149 non-null  float64\n",
      " 48  rougher.output.recovery                             14149 non-null  float64\n",
      " 49  rougher.output.tail_ag                              14148 non-null  float64\n",
      " 50  rougher.output.tail_pb                              14149 non-null  float64\n",
      " 51  rougher.output.tail_sol                             14149 non-null  float64\n",
      " 52  rougher.output.tail_au                              14149 non-null  float64\n",
      " 53  rougher.state.floatbank10_a_air                     14148 non-null  float64\n",
      " 54  rougher.state.floatbank10_a_level                   14148 non-null  float64\n",
      " 55  rougher.state.floatbank10_b_air                     14148 non-null  float64\n",
      " 56  rougher.state.floatbank10_b_level                   14148 non-null  float64\n",
      " 57  rougher.state.floatbank10_c_air                     14148 non-null  float64\n",
      " 58  rougher.state.floatbank10_c_level                   14148 non-null  float64\n",
      " 59  rougher.state.floatbank10_d_air                     14149 non-null  float64\n",
      " 60  rougher.state.floatbank10_d_level                   14149 non-null  float64\n",
      " 61  rougher.state.floatbank10_e_air                     13713 non-null  float64\n",
      " 62  rougher.state.floatbank10_e_level                   14149 non-null  float64\n",
      " 63  rougher.state.floatbank10_f_air                     14149 non-null  float64\n",
      " 64  rougher.state.floatbank10_f_level                   14149 non-null  float64\n",
      " 65  secondary_cleaner.output.tail_ag                    14147 non-null  float64\n",
      " 66  secondary_cleaner.output.tail_pb                    14139 non-null  float64\n",
      " 67  secondary_cleaner.output.tail_sol                   12544 non-null  float64\n",
      " 68  secondary_cleaner.output.tail_au                    14149 non-null  float64\n",
      " 69  secondary_cleaner.state.floatbank2_a_air            13932 non-null  float64\n",
      " 70  secondary_cleaner.state.floatbank2_a_level          14148 non-null  float64\n",
      " 71  secondary_cleaner.state.floatbank2_b_air            14128 non-null  float64\n",
      " 72  secondary_cleaner.state.floatbank2_b_level          14148 non-null  float64\n",
      " 73  secondary_cleaner.state.floatbank3_a_air            14145 non-null  float64\n",
      " 74  secondary_cleaner.state.floatbank3_a_level          14148 non-null  float64\n",
      " 75  secondary_cleaner.state.floatbank3_b_air            14148 non-null  float64\n",
      " 76  secondary_cleaner.state.floatbank3_b_level          14148 non-null  float64\n",
      " 77  secondary_cleaner.state.floatbank4_a_air            14143 non-null  float64\n",
      " 78  secondary_cleaner.state.floatbank4_a_level          14148 non-null  float64\n",
      " 79  secondary_cleaner.state.floatbank4_b_air            14148 non-null  float64\n",
      " 80  secondary_cleaner.state.floatbank4_b_level          14148 non-null  float64\n",
      " 81  secondary_cleaner.state.floatbank5_a_air            14148 non-null  float64\n",
      " 82  secondary_cleaner.state.floatbank5_a_level          14148 non-null  float64\n",
      " 83  secondary_cleaner.state.floatbank5_b_air            14148 non-null  float64\n",
      " 84  secondary_cleaner.state.floatbank5_b_level          14148 non-null  float64\n",
      " 85  secondary_cleaner.state.floatbank6_a_air            14147 non-null  float64\n",
      " 86  secondary_cleaner.state.floatbank6_a_level          14148 non-null  float64\n",
      "dtypes: float64(86), object(1)\n",
      "memory usage: 9.4+ MB\n",
      "\n"
     ]
    },
    {
     "data": {
      "text/html": [
       "<div>\n",
       "<style scoped>\n",
       "    .dataframe tbody tr th:only-of-type {\n",
       "        vertical-align: middle;\n",
       "    }\n",
       "\n",
       "    .dataframe tbody tr th {\n",
       "        vertical-align: top;\n",
       "    }\n",
       "\n",
       "    .dataframe thead th {\n",
       "        text-align: right;\n",
       "    }\n",
       "</style>\n",
       "<table border=\"1\" class=\"dataframe\">\n",
       "  <thead>\n",
       "    <tr style=\"text-align: right;\">\n",
       "      <th></th>\n",
       "      <th>date</th>\n",
       "      <th>final.output.concentrate_ag</th>\n",
       "      <th>final.output.concentrate_pb</th>\n",
       "      <th>final.output.concentrate_sol</th>\n",
       "      <th>final.output.concentrate_au</th>\n",
       "      <th>final.output.recovery</th>\n",
       "      <th>final.output.tail_ag</th>\n",
       "      <th>final.output.tail_pb</th>\n",
       "      <th>final.output.tail_sol</th>\n",
       "      <th>final.output.tail_au</th>\n",
       "      <th>...</th>\n",
       "      <th>secondary_cleaner.state.floatbank4_a_air</th>\n",
       "      <th>secondary_cleaner.state.floatbank4_a_level</th>\n",
       "      <th>secondary_cleaner.state.floatbank4_b_air</th>\n",
       "      <th>secondary_cleaner.state.floatbank4_b_level</th>\n",
       "      <th>secondary_cleaner.state.floatbank5_a_air</th>\n",
       "      <th>secondary_cleaner.state.floatbank5_a_level</th>\n",
       "      <th>secondary_cleaner.state.floatbank5_b_air</th>\n",
       "      <th>secondary_cleaner.state.floatbank5_b_level</th>\n",
       "      <th>secondary_cleaner.state.floatbank6_a_air</th>\n",
       "      <th>secondary_cleaner.state.floatbank6_a_level</th>\n",
       "    </tr>\n",
       "  </thead>\n",
       "  <tbody>\n",
       "    <tr>\n",
       "      <th>0</th>\n",
       "      <td>2016-01-15 00:00:00</td>\n",
       "      <td>6.055403</td>\n",
       "      <td>9.889648</td>\n",
       "      <td>5.507324</td>\n",
       "      <td>42.192020</td>\n",
       "      <td>70.541216</td>\n",
       "      <td>10.411962</td>\n",
       "      <td>0.895447</td>\n",
       "      <td>16.904297</td>\n",
       "      <td>2.143149</td>\n",
       "      <td>...</td>\n",
       "      <td>14.016835</td>\n",
       "      <td>-502.488007</td>\n",
       "      <td>12.099931</td>\n",
       "      <td>-504.715942</td>\n",
       "      <td>9.925633</td>\n",
       "      <td>-498.310211</td>\n",
       "      <td>8.079666</td>\n",
       "      <td>-500.470978</td>\n",
       "      <td>14.151341</td>\n",
       "      <td>-605.841980</td>\n",
       "    </tr>\n",
       "    <tr>\n",
       "      <th>1</th>\n",
       "      <td>2016-01-15 01:00:00</td>\n",
       "      <td>6.029369</td>\n",
       "      <td>9.968944</td>\n",
       "      <td>5.257781</td>\n",
       "      <td>42.701629</td>\n",
       "      <td>69.266198</td>\n",
       "      <td>10.462676</td>\n",
       "      <td>0.927452</td>\n",
       "      <td>16.634514</td>\n",
       "      <td>2.224930</td>\n",
       "      <td>...</td>\n",
       "      <td>13.992281</td>\n",
       "      <td>-505.503262</td>\n",
       "      <td>11.950531</td>\n",
       "      <td>-501.331529</td>\n",
       "      <td>10.039245</td>\n",
       "      <td>-500.169983</td>\n",
       "      <td>7.984757</td>\n",
       "      <td>-500.582168</td>\n",
       "      <td>13.998353</td>\n",
       "      <td>-599.787184</td>\n",
       "    </tr>\n",
       "    <tr>\n",
       "      <th>2</th>\n",
       "      <td>2016-01-15 02:00:00</td>\n",
       "      <td>6.055926</td>\n",
       "      <td>10.213995</td>\n",
       "      <td>5.383759</td>\n",
       "      <td>42.657501</td>\n",
       "      <td>68.116445</td>\n",
       "      <td>10.507046</td>\n",
       "      <td>0.953716</td>\n",
       "      <td>16.208849</td>\n",
       "      <td>2.257889</td>\n",
       "      <td>...</td>\n",
       "      <td>14.015015</td>\n",
       "      <td>-502.520901</td>\n",
       "      <td>11.912783</td>\n",
       "      <td>-501.133383</td>\n",
       "      <td>10.070913</td>\n",
       "      <td>-500.129135</td>\n",
       "      <td>8.013877</td>\n",
       "      <td>-500.517572</td>\n",
       "      <td>14.028663</td>\n",
       "      <td>-601.427363</td>\n",
       "    </tr>\n",
       "    <tr>\n",
       "      <th>3</th>\n",
       "      <td>2016-01-15 03:00:00</td>\n",
       "      <td>6.047977</td>\n",
       "      <td>9.977019</td>\n",
       "      <td>4.858634</td>\n",
       "      <td>42.689819</td>\n",
       "      <td>68.347543</td>\n",
       "      <td>10.422762</td>\n",
       "      <td>0.883763</td>\n",
       "      <td>16.532835</td>\n",
       "      <td>2.146849</td>\n",
       "      <td>...</td>\n",
       "      <td>14.036510</td>\n",
       "      <td>-500.857308</td>\n",
       "      <td>11.999550</td>\n",
       "      <td>-501.193686</td>\n",
       "      <td>9.970366</td>\n",
       "      <td>-499.201640</td>\n",
       "      <td>7.977324</td>\n",
       "      <td>-500.255908</td>\n",
       "      <td>14.005551</td>\n",
       "      <td>-599.996129</td>\n",
       "    </tr>\n",
       "    <tr>\n",
       "      <th>4</th>\n",
       "      <td>2016-01-15 04:00:00</td>\n",
       "      <td>6.148599</td>\n",
       "      <td>10.142511</td>\n",
       "      <td>4.939416</td>\n",
       "      <td>42.774141</td>\n",
       "      <td>66.927016</td>\n",
       "      <td>10.360302</td>\n",
       "      <td>0.792826</td>\n",
       "      <td>16.525686</td>\n",
       "      <td>2.055292</td>\n",
       "      <td>...</td>\n",
       "      <td>14.027298</td>\n",
       "      <td>-499.838632</td>\n",
       "      <td>11.953070</td>\n",
       "      <td>-501.053894</td>\n",
       "      <td>9.925709</td>\n",
       "      <td>-501.686727</td>\n",
       "      <td>7.894242</td>\n",
       "      <td>-500.356035</td>\n",
       "      <td>13.996647</td>\n",
       "      <td>-601.496691</td>\n",
       "    </tr>\n",
       "  </tbody>\n",
       "</table>\n",
       "<p>5 rows × 87 columns</p>\n",
       "</div>"
      ],
      "text/plain": [
       "                  date  final.output.concentrate_ag  \\\n",
       "0  2016-01-15 00:00:00                     6.055403   \n",
       "1  2016-01-15 01:00:00                     6.029369   \n",
       "2  2016-01-15 02:00:00                     6.055926   \n",
       "3  2016-01-15 03:00:00                     6.047977   \n",
       "4  2016-01-15 04:00:00                     6.148599   \n",
       "\n",
       "   final.output.concentrate_pb  final.output.concentrate_sol  \\\n",
       "0                     9.889648                      5.507324   \n",
       "1                     9.968944                      5.257781   \n",
       "2                    10.213995                      5.383759   \n",
       "3                     9.977019                      4.858634   \n",
       "4                    10.142511                      4.939416   \n",
       "\n",
       "   final.output.concentrate_au  final.output.recovery  final.output.tail_ag  \\\n",
       "0                    42.192020              70.541216             10.411962   \n",
       "1                    42.701629              69.266198             10.462676   \n",
       "2                    42.657501              68.116445             10.507046   \n",
       "3                    42.689819              68.347543             10.422762   \n",
       "4                    42.774141              66.927016             10.360302   \n",
       "\n",
       "   final.output.tail_pb  final.output.tail_sol  final.output.tail_au  ...  \\\n",
       "0              0.895447              16.904297              2.143149  ...   \n",
       "1              0.927452              16.634514              2.224930  ...   \n",
       "2              0.953716              16.208849              2.257889  ...   \n",
       "3              0.883763              16.532835              2.146849  ...   \n",
       "4              0.792826              16.525686              2.055292  ...   \n",
       "\n",
       "   secondary_cleaner.state.floatbank4_a_air  \\\n",
       "0                                 14.016835   \n",
       "1                                 13.992281   \n",
       "2                                 14.015015   \n",
       "3                                 14.036510   \n",
       "4                                 14.027298   \n",
       "\n",
       "   secondary_cleaner.state.floatbank4_a_level  \\\n",
       "0                                 -502.488007   \n",
       "1                                 -505.503262   \n",
       "2                                 -502.520901   \n",
       "3                                 -500.857308   \n",
       "4                                 -499.838632   \n",
       "\n",
       "   secondary_cleaner.state.floatbank4_b_air  \\\n",
       "0                                 12.099931   \n",
       "1                                 11.950531   \n",
       "2                                 11.912783   \n",
       "3                                 11.999550   \n",
       "4                                 11.953070   \n",
       "\n",
       "   secondary_cleaner.state.floatbank4_b_level  \\\n",
       "0                                 -504.715942   \n",
       "1                                 -501.331529   \n",
       "2                                 -501.133383   \n",
       "3                                 -501.193686   \n",
       "4                                 -501.053894   \n",
       "\n",
       "   secondary_cleaner.state.floatbank5_a_air  \\\n",
       "0                                  9.925633   \n",
       "1                                 10.039245   \n",
       "2                                 10.070913   \n",
       "3                                  9.970366   \n",
       "4                                  9.925709   \n",
       "\n",
       "   secondary_cleaner.state.floatbank5_a_level  \\\n",
       "0                                 -498.310211   \n",
       "1                                 -500.169983   \n",
       "2                                 -500.129135   \n",
       "3                                 -499.201640   \n",
       "4                                 -501.686727   \n",
       "\n",
       "   secondary_cleaner.state.floatbank5_b_air  \\\n",
       "0                                  8.079666   \n",
       "1                                  7.984757   \n",
       "2                                  8.013877   \n",
       "3                                  7.977324   \n",
       "4                                  7.894242   \n",
       "\n",
       "   secondary_cleaner.state.floatbank5_b_level  \\\n",
       "0                                 -500.470978   \n",
       "1                                 -500.582168   \n",
       "2                                 -500.517572   \n",
       "3                                 -500.255908   \n",
       "4                                 -500.356035   \n",
       "\n",
       "   secondary_cleaner.state.floatbank6_a_air  \\\n",
       "0                                 14.151341   \n",
       "1                                 13.998353   \n",
       "2                                 14.028663   \n",
       "3                                 14.005551   \n",
       "4                                 13.996647   \n",
       "\n",
       "   secondary_cleaner.state.floatbank6_a_level  \n",
       "0                                 -605.841980  \n",
       "1                                 -599.787184  \n",
       "2                                 -601.427363  \n",
       "3                                 -599.996129  \n",
       "4                                 -601.496691  \n",
       "\n",
       "[5 rows x 87 columns]"
      ]
     },
     "metadata": {},
     "output_type": "display_data"
    },
    {
     "name": "stdout",
     "output_type": "stream",
     "text": [
      "<class 'pandas.core.frame.DataFrame'>\n",
      "RangeIndex: 5290 entries, 0 to 5289\n",
      "Data columns (total 53 columns):\n",
      " #   Column                                      Non-Null Count  Dtype  \n",
      "---  ------                                      --------------  -----  \n",
      " 0   date                                        5290 non-null   object \n",
      " 1   primary_cleaner.input.sulfate               5286 non-null   float64\n",
      " 2   primary_cleaner.input.depressant            5285 non-null   float64\n",
      " 3   primary_cleaner.input.feed_size             5290 non-null   float64\n",
      " 4   primary_cleaner.input.xanthate              5286 non-null   float64\n",
      " 5   primary_cleaner.state.floatbank8_a_air      5290 non-null   float64\n",
      " 6   primary_cleaner.state.floatbank8_a_level    5290 non-null   float64\n",
      " 7   primary_cleaner.state.floatbank8_b_air      5290 non-null   float64\n",
      " 8   primary_cleaner.state.floatbank8_b_level    5290 non-null   float64\n",
      " 9   primary_cleaner.state.floatbank8_c_air      5290 non-null   float64\n",
      " 10  primary_cleaner.state.floatbank8_c_level    5290 non-null   float64\n",
      " 11  primary_cleaner.state.floatbank8_d_air      5290 non-null   float64\n",
      " 12  primary_cleaner.state.floatbank8_d_level    5290 non-null   float64\n",
      " 13  rougher.input.feed_ag                       5290 non-null   float64\n",
      " 14  rougher.input.feed_pb                       5290 non-null   float64\n",
      " 15  rougher.input.feed_rate                     5287 non-null   float64\n",
      " 16  rougher.input.feed_size                     5289 non-null   float64\n",
      " 17  rougher.input.feed_sol                      5269 non-null   float64\n",
      " 18  rougher.input.feed_au                       5290 non-null   float64\n",
      " 19  rougher.input.floatbank10_sulfate           5285 non-null   float64\n",
      " 20  rougher.input.floatbank10_xanthate          5290 non-null   float64\n",
      " 21  rougher.input.floatbank11_sulfate           5282 non-null   float64\n",
      " 22  rougher.input.floatbank11_xanthate          5265 non-null   float64\n",
      " 23  rougher.state.floatbank10_a_air             5290 non-null   float64\n",
      " 24  rougher.state.floatbank10_a_level           5290 non-null   float64\n",
      " 25  rougher.state.floatbank10_b_air             5290 non-null   float64\n",
      " 26  rougher.state.floatbank10_b_level           5290 non-null   float64\n",
      " 27  rougher.state.floatbank10_c_air             5290 non-null   float64\n",
      " 28  rougher.state.floatbank10_c_level           5290 non-null   float64\n",
      " 29  rougher.state.floatbank10_d_air             5290 non-null   float64\n",
      " 30  rougher.state.floatbank10_d_level           5290 non-null   float64\n",
      " 31  rougher.state.floatbank10_e_air             5290 non-null   float64\n",
      " 32  rougher.state.floatbank10_e_level           5290 non-null   float64\n",
      " 33  rougher.state.floatbank10_f_air             5290 non-null   float64\n",
      " 34  rougher.state.floatbank10_f_level           5290 non-null   float64\n",
      " 35  secondary_cleaner.state.floatbank2_a_air    5287 non-null   float64\n",
      " 36  secondary_cleaner.state.floatbank2_a_level  5290 non-null   float64\n",
      " 37  secondary_cleaner.state.floatbank2_b_air    5288 non-null   float64\n",
      " 38  secondary_cleaner.state.floatbank2_b_level  5290 non-null   float64\n",
      " 39  secondary_cleaner.state.floatbank3_a_air    5281 non-null   float64\n",
      " 40  secondary_cleaner.state.floatbank3_a_level  5290 non-null   float64\n",
      " 41  secondary_cleaner.state.floatbank3_b_air    5290 non-null   float64\n",
      " 42  secondary_cleaner.state.floatbank3_b_level  5290 non-null   float64\n",
      " 43  secondary_cleaner.state.floatbank4_a_air    5290 non-null   float64\n",
      " 44  secondary_cleaner.state.floatbank4_a_level  5290 non-null   float64\n",
      " 45  secondary_cleaner.state.floatbank4_b_air    5290 non-null   float64\n",
      " 46  secondary_cleaner.state.floatbank4_b_level  5290 non-null   float64\n",
      " 47  secondary_cleaner.state.floatbank5_a_air    5290 non-null   float64\n",
      " 48  secondary_cleaner.state.floatbank5_a_level  5290 non-null   float64\n",
      " 49  secondary_cleaner.state.floatbank5_b_air    5290 non-null   float64\n",
      " 50  secondary_cleaner.state.floatbank5_b_level  5290 non-null   float64\n",
      " 51  secondary_cleaner.state.floatbank6_a_air    5290 non-null   float64\n",
      " 52  secondary_cleaner.state.floatbank6_a_level  5290 non-null   float64\n",
      "dtypes: float64(52), object(1)\n",
      "memory usage: 2.1+ MB\n",
      "\n"
     ]
    },
    {
     "data": {
      "text/html": [
       "<div>\n",
       "<style scoped>\n",
       "    .dataframe tbody tr th:only-of-type {\n",
       "        vertical-align: middle;\n",
       "    }\n",
       "\n",
       "    .dataframe tbody tr th {\n",
       "        vertical-align: top;\n",
       "    }\n",
       "\n",
       "    .dataframe thead th {\n",
       "        text-align: right;\n",
       "    }\n",
       "</style>\n",
       "<table border=\"1\" class=\"dataframe\">\n",
       "  <thead>\n",
       "    <tr style=\"text-align: right;\">\n",
       "      <th></th>\n",
       "      <th>date</th>\n",
       "      <th>primary_cleaner.input.sulfate</th>\n",
       "      <th>primary_cleaner.input.depressant</th>\n",
       "      <th>primary_cleaner.input.feed_size</th>\n",
       "      <th>primary_cleaner.input.xanthate</th>\n",
       "      <th>primary_cleaner.state.floatbank8_a_air</th>\n",
       "      <th>primary_cleaner.state.floatbank8_a_level</th>\n",
       "      <th>primary_cleaner.state.floatbank8_b_air</th>\n",
       "      <th>primary_cleaner.state.floatbank8_b_level</th>\n",
       "      <th>primary_cleaner.state.floatbank8_c_air</th>\n",
       "      <th>...</th>\n",
       "      <th>secondary_cleaner.state.floatbank4_a_air</th>\n",
       "      <th>secondary_cleaner.state.floatbank4_a_level</th>\n",
       "      <th>secondary_cleaner.state.floatbank4_b_air</th>\n",
       "      <th>secondary_cleaner.state.floatbank4_b_level</th>\n",
       "      <th>secondary_cleaner.state.floatbank5_a_air</th>\n",
       "      <th>secondary_cleaner.state.floatbank5_a_level</th>\n",
       "      <th>secondary_cleaner.state.floatbank5_b_air</th>\n",
       "      <th>secondary_cleaner.state.floatbank5_b_level</th>\n",
       "      <th>secondary_cleaner.state.floatbank6_a_air</th>\n",
       "      <th>secondary_cleaner.state.floatbank6_a_level</th>\n",
       "    </tr>\n",
       "  </thead>\n",
       "  <tbody>\n",
       "    <tr>\n",
       "      <th>0</th>\n",
       "      <td>2016-09-01 00:59:59</td>\n",
       "      <td>210.800909</td>\n",
       "      <td>14.993118</td>\n",
       "      <td>8.080000</td>\n",
       "      <td>1.005021</td>\n",
       "      <td>1398.981301</td>\n",
       "      <td>-500.225577</td>\n",
       "      <td>1399.144926</td>\n",
       "      <td>-499.919735</td>\n",
       "      <td>1400.102998</td>\n",
       "      <td>...</td>\n",
       "      <td>12.023554</td>\n",
       "      <td>-497.795834</td>\n",
       "      <td>8.016656</td>\n",
       "      <td>-501.289139</td>\n",
       "      <td>7.946562</td>\n",
       "      <td>-432.317850</td>\n",
       "      <td>4.872511</td>\n",
       "      <td>-500.037437</td>\n",
       "      <td>26.705889</td>\n",
       "      <td>-499.709414</td>\n",
       "    </tr>\n",
       "    <tr>\n",
       "      <th>1</th>\n",
       "      <td>2016-09-01 01:59:59</td>\n",
       "      <td>215.392455</td>\n",
       "      <td>14.987471</td>\n",
       "      <td>8.080000</td>\n",
       "      <td>0.990469</td>\n",
       "      <td>1398.777912</td>\n",
       "      <td>-500.057435</td>\n",
       "      <td>1398.055362</td>\n",
       "      <td>-499.778182</td>\n",
       "      <td>1396.151033</td>\n",
       "      <td>...</td>\n",
       "      <td>12.058140</td>\n",
       "      <td>-498.695773</td>\n",
       "      <td>8.130979</td>\n",
       "      <td>-499.634209</td>\n",
       "      <td>7.958270</td>\n",
       "      <td>-525.839648</td>\n",
       "      <td>4.878850</td>\n",
       "      <td>-500.162375</td>\n",
       "      <td>25.019940</td>\n",
       "      <td>-499.819438</td>\n",
       "    </tr>\n",
       "    <tr>\n",
       "      <th>2</th>\n",
       "      <td>2016-09-01 02:59:59</td>\n",
       "      <td>215.259946</td>\n",
       "      <td>12.884934</td>\n",
       "      <td>7.786667</td>\n",
       "      <td>0.996043</td>\n",
       "      <td>1398.493666</td>\n",
       "      <td>-500.868360</td>\n",
       "      <td>1398.860436</td>\n",
       "      <td>-499.764529</td>\n",
       "      <td>1398.075709</td>\n",
       "      <td>...</td>\n",
       "      <td>11.962366</td>\n",
       "      <td>-498.767484</td>\n",
       "      <td>8.096893</td>\n",
       "      <td>-500.827423</td>\n",
       "      <td>8.071056</td>\n",
       "      <td>-500.801673</td>\n",
       "      <td>4.905125</td>\n",
       "      <td>-499.828510</td>\n",
       "      <td>24.994862</td>\n",
       "      <td>-500.622559</td>\n",
       "    </tr>\n",
       "    <tr>\n",
       "      <th>3</th>\n",
       "      <td>2016-09-01 03:59:59</td>\n",
       "      <td>215.336236</td>\n",
       "      <td>12.006805</td>\n",
       "      <td>7.640000</td>\n",
       "      <td>0.863514</td>\n",
       "      <td>1399.618111</td>\n",
       "      <td>-498.863574</td>\n",
       "      <td>1397.440120</td>\n",
       "      <td>-499.211024</td>\n",
       "      <td>1400.129303</td>\n",
       "      <td>...</td>\n",
       "      <td>12.033091</td>\n",
       "      <td>-498.350935</td>\n",
       "      <td>8.074946</td>\n",
       "      <td>-499.474407</td>\n",
       "      <td>7.897085</td>\n",
       "      <td>-500.868509</td>\n",
       "      <td>4.931400</td>\n",
       "      <td>-499.963623</td>\n",
       "      <td>24.948919</td>\n",
       "      <td>-498.709987</td>\n",
       "    </tr>\n",
       "    <tr>\n",
       "      <th>4</th>\n",
       "      <td>2016-09-01 04:59:59</td>\n",
       "      <td>199.099327</td>\n",
       "      <td>10.682530</td>\n",
       "      <td>7.530000</td>\n",
       "      <td>0.805575</td>\n",
       "      <td>1401.268123</td>\n",
       "      <td>-500.808305</td>\n",
       "      <td>1398.128818</td>\n",
       "      <td>-499.504543</td>\n",
       "      <td>1402.172226</td>\n",
       "      <td>...</td>\n",
       "      <td>12.025367</td>\n",
       "      <td>-500.786497</td>\n",
       "      <td>8.054678</td>\n",
       "      <td>-500.397500</td>\n",
       "      <td>8.107890</td>\n",
       "      <td>-509.526725</td>\n",
       "      <td>4.957674</td>\n",
       "      <td>-500.360026</td>\n",
       "      <td>25.003331</td>\n",
       "      <td>-500.856333</td>\n",
       "    </tr>\n",
       "  </tbody>\n",
       "</table>\n",
       "<p>5 rows × 53 columns</p>\n",
       "</div>"
      ],
      "text/plain": [
       "                  date  primary_cleaner.input.sulfate  \\\n",
       "0  2016-09-01 00:59:59                     210.800909   \n",
       "1  2016-09-01 01:59:59                     215.392455   \n",
       "2  2016-09-01 02:59:59                     215.259946   \n",
       "3  2016-09-01 03:59:59                     215.336236   \n",
       "4  2016-09-01 04:59:59                     199.099327   \n",
       "\n",
       "   primary_cleaner.input.depressant  primary_cleaner.input.feed_size  \\\n",
       "0                         14.993118                         8.080000   \n",
       "1                         14.987471                         8.080000   \n",
       "2                         12.884934                         7.786667   \n",
       "3                         12.006805                         7.640000   \n",
       "4                         10.682530                         7.530000   \n",
       "\n",
       "   primary_cleaner.input.xanthate  primary_cleaner.state.floatbank8_a_air  \\\n",
       "0                        1.005021                             1398.981301   \n",
       "1                        0.990469                             1398.777912   \n",
       "2                        0.996043                             1398.493666   \n",
       "3                        0.863514                             1399.618111   \n",
       "4                        0.805575                             1401.268123   \n",
       "\n",
       "   primary_cleaner.state.floatbank8_a_level  \\\n",
       "0                               -500.225577   \n",
       "1                               -500.057435   \n",
       "2                               -500.868360   \n",
       "3                               -498.863574   \n",
       "4                               -500.808305   \n",
       "\n",
       "   primary_cleaner.state.floatbank8_b_air  \\\n",
       "0                             1399.144926   \n",
       "1                             1398.055362   \n",
       "2                             1398.860436   \n",
       "3                             1397.440120   \n",
       "4                             1398.128818   \n",
       "\n",
       "   primary_cleaner.state.floatbank8_b_level  \\\n",
       "0                               -499.919735   \n",
       "1                               -499.778182   \n",
       "2                               -499.764529   \n",
       "3                               -499.211024   \n",
       "4                               -499.504543   \n",
       "\n",
       "   primary_cleaner.state.floatbank8_c_air  ...  \\\n",
       "0                             1400.102998  ...   \n",
       "1                             1396.151033  ...   \n",
       "2                             1398.075709  ...   \n",
       "3                             1400.129303  ...   \n",
       "4                             1402.172226  ...   \n",
       "\n",
       "   secondary_cleaner.state.floatbank4_a_air  \\\n",
       "0                                 12.023554   \n",
       "1                                 12.058140   \n",
       "2                                 11.962366   \n",
       "3                                 12.033091   \n",
       "4                                 12.025367   \n",
       "\n",
       "   secondary_cleaner.state.floatbank4_a_level  \\\n",
       "0                                 -497.795834   \n",
       "1                                 -498.695773   \n",
       "2                                 -498.767484   \n",
       "3                                 -498.350935   \n",
       "4                                 -500.786497   \n",
       "\n",
       "   secondary_cleaner.state.floatbank4_b_air  \\\n",
       "0                                  8.016656   \n",
       "1                                  8.130979   \n",
       "2                                  8.096893   \n",
       "3                                  8.074946   \n",
       "4                                  8.054678   \n",
       "\n",
       "   secondary_cleaner.state.floatbank4_b_level  \\\n",
       "0                                 -501.289139   \n",
       "1                                 -499.634209   \n",
       "2                                 -500.827423   \n",
       "3                                 -499.474407   \n",
       "4                                 -500.397500   \n",
       "\n",
       "   secondary_cleaner.state.floatbank5_a_air  \\\n",
       "0                                  7.946562   \n",
       "1                                  7.958270   \n",
       "2                                  8.071056   \n",
       "3                                  7.897085   \n",
       "4                                  8.107890   \n",
       "\n",
       "   secondary_cleaner.state.floatbank5_a_level  \\\n",
       "0                                 -432.317850   \n",
       "1                                 -525.839648   \n",
       "2                                 -500.801673   \n",
       "3                                 -500.868509   \n",
       "4                                 -509.526725   \n",
       "\n",
       "   secondary_cleaner.state.floatbank5_b_air  \\\n",
       "0                                  4.872511   \n",
       "1                                  4.878850   \n",
       "2                                  4.905125   \n",
       "3                                  4.931400   \n",
       "4                                  4.957674   \n",
       "\n",
       "   secondary_cleaner.state.floatbank5_b_level  \\\n",
       "0                                 -500.037437   \n",
       "1                                 -500.162375   \n",
       "2                                 -499.828510   \n",
       "3                                 -499.963623   \n",
       "4                                 -500.360026   \n",
       "\n",
       "   secondary_cleaner.state.floatbank6_a_air  \\\n",
       "0                                 26.705889   \n",
       "1                                 25.019940   \n",
       "2                                 24.994862   \n",
       "3                                 24.948919   \n",
       "4                                 25.003331   \n",
       "\n",
       "   secondary_cleaner.state.floatbank6_a_level  \n",
       "0                                 -499.709414  \n",
       "1                                 -499.819438  \n",
       "2                                 -500.622559  \n",
       "3                                 -498.709987  \n",
       "4                                 -500.856333  \n",
       "\n",
       "[5 rows x 53 columns]"
      ]
     },
     "metadata": {},
     "output_type": "display_data"
    },
    {
     "name": "stdout",
     "output_type": "stream",
     "text": [
      "<class 'pandas.core.frame.DataFrame'>\n",
      "RangeIndex: 19439 entries, 0 to 19438\n",
      "Data columns (total 87 columns):\n",
      " #   Column                                              Non-Null Count  Dtype  \n",
      "---  ------                                              --------------  -----  \n",
      " 0   date                                                19439 non-null  object \n",
      " 1   final.output.concentrate_ag                         19438 non-null  float64\n",
      " 2   final.output.concentrate_pb                         19438 non-null  float64\n",
      " 3   final.output.concentrate_sol                        19228 non-null  float64\n",
      " 4   final.output.concentrate_au                         19439 non-null  float64\n",
      " 5   final.output.recovery                               19439 non-null  float64\n",
      " 6   final.output.tail_ag                                19438 non-null  float64\n",
      " 7   final.output.tail_pb                                19338 non-null  float64\n",
      " 8   final.output.tail_sol                               19433 non-null  float64\n",
      " 9   final.output.tail_au                                19439 non-null  float64\n",
      " 10  primary_cleaner.input.sulfate                       19415 non-null  float64\n",
      " 11  primary_cleaner.input.depressant                    19402 non-null  float64\n",
      " 12  primary_cleaner.input.feed_size                     19439 non-null  float64\n",
      " 13  primary_cleaner.input.xanthate                      19335 non-null  float64\n",
      " 14  primary_cleaner.output.concentrate_ag               19439 non-null  float64\n",
      " 15  primary_cleaner.output.concentrate_pb               19323 non-null  float64\n",
      " 16  primary_cleaner.output.concentrate_sol              19069 non-null  float64\n",
      " 17  primary_cleaner.output.concentrate_au               19439 non-null  float64\n",
      " 18  primary_cleaner.output.tail_ag                      19435 non-null  float64\n",
      " 19  primary_cleaner.output.tail_pb                      19418 non-null  float64\n",
      " 20  primary_cleaner.output.tail_sol                     19377 non-null  float64\n",
      " 21  primary_cleaner.output.tail_au                      19439 non-null  float64\n",
      " 22  primary_cleaner.state.floatbank8_a_air              19435 non-null  float64\n",
      " 23  primary_cleaner.state.floatbank8_a_level            19438 non-null  float64\n",
      " 24  primary_cleaner.state.floatbank8_b_air              19435 non-null  float64\n",
      " 25  primary_cleaner.state.floatbank8_b_level            19438 non-null  float64\n",
      " 26  primary_cleaner.state.floatbank8_c_air              19437 non-null  float64\n",
      " 27  primary_cleaner.state.floatbank8_c_level            19438 non-null  float64\n",
      " 28  primary_cleaner.state.floatbank8_d_air              19436 non-null  float64\n",
      " 29  primary_cleaner.state.floatbank8_d_level            19438 non-null  float64\n",
      " 30  rougher.calculation.sulfate_to_au_concentrate       19437 non-null  float64\n",
      " 31  rougher.calculation.floatbank10_sulfate_to_au_feed  19437 non-null  float64\n",
      " 32  rougher.calculation.floatbank11_sulfate_to_au_feed  19437 non-null  float64\n",
      " 33  rougher.calculation.au_pb_ratio                     19439 non-null  float64\n",
      " 34  rougher.input.feed_ag                               19439 non-null  float64\n",
      " 35  rougher.input.feed_pb                               19339 non-null  float64\n",
      " 36  rougher.input.feed_rate                             19428 non-null  float64\n",
      " 37  rougher.input.feed_size                             19294 non-null  float64\n",
      " 38  rougher.input.feed_sol                              19340 non-null  float64\n",
      " 39  rougher.input.feed_au                               19439 non-null  float64\n",
      " 40  rougher.input.floatbank10_sulfate                   19405 non-null  float64\n",
      " 41  rougher.input.floatbank10_xanthate                  19431 non-null  float64\n",
      " 42  rougher.input.floatbank11_sulfate                   19395 non-null  float64\n",
      " 43  rougher.input.floatbank11_xanthate                  18986 non-null  float64\n",
      " 44  rougher.output.concentrate_ag                       19439 non-null  float64\n",
      " 45  rougher.output.concentrate_pb                       19439 non-null  float64\n",
      " 46  rougher.output.concentrate_sol                      19416 non-null  float64\n",
      " 47  rougher.output.concentrate_au                       19439 non-null  float64\n",
      " 48  rougher.output.recovery                             19439 non-null  float64\n",
      " 49  rougher.output.tail_ag                              19438 non-null  float64\n",
      " 50  rougher.output.tail_pb                              19439 non-null  float64\n",
      " 51  rougher.output.tail_sol                             19439 non-null  float64\n",
      " 52  rougher.output.tail_au                              19439 non-null  float64\n",
      " 53  rougher.state.floatbank10_a_air                     19438 non-null  float64\n",
      " 54  rougher.state.floatbank10_a_level                   19438 non-null  float64\n",
      " 55  rougher.state.floatbank10_b_air                     19438 non-null  float64\n",
      " 56  rougher.state.floatbank10_b_level                   19438 non-null  float64\n",
      " 57  rougher.state.floatbank10_c_air                     19438 non-null  float64\n",
      " 58  rougher.state.floatbank10_c_level                   19438 non-null  float64\n",
      " 59  rougher.state.floatbank10_d_air                     19439 non-null  float64\n",
      " 60  rougher.state.floatbank10_d_level                   19439 non-null  float64\n",
      " 61  rougher.state.floatbank10_e_air                     19003 non-null  float64\n",
      " 62  rougher.state.floatbank10_e_level                   19439 non-null  float64\n",
      " 63  rougher.state.floatbank10_f_air                     19439 non-null  float64\n",
      " 64  rougher.state.floatbank10_f_level                   19439 non-null  float64\n",
      " 65  secondary_cleaner.output.tail_ag                    19437 non-null  float64\n",
      " 66  secondary_cleaner.output.tail_pb                    19427 non-null  float64\n",
      " 67  secondary_cleaner.output.tail_sol                   17691 non-null  float64\n",
      " 68  secondary_cleaner.output.tail_au                    19439 non-null  float64\n",
      " 69  secondary_cleaner.state.floatbank2_a_air            19219 non-null  float64\n",
      " 70  secondary_cleaner.state.floatbank2_a_level          19438 non-null  float64\n",
      " 71  secondary_cleaner.state.floatbank2_b_air            19416 non-null  float64\n",
      " 72  secondary_cleaner.state.floatbank2_b_level          19438 non-null  float64\n",
      " 73  secondary_cleaner.state.floatbank3_a_air            19426 non-null  float64\n",
      " 74  secondary_cleaner.state.floatbank3_a_level          19438 non-null  float64\n",
      " 75  secondary_cleaner.state.floatbank3_b_air            19438 non-null  float64\n",
      " 76  secondary_cleaner.state.floatbank3_b_level          19438 non-null  float64\n",
      " 77  secondary_cleaner.state.floatbank4_a_air            19433 non-null  float64\n",
      " 78  secondary_cleaner.state.floatbank4_a_level          19438 non-null  float64\n",
      " 79  secondary_cleaner.state.floatbank4_b_air            19438 non-null  float64\n",
      " 80  secondary_cleaner.state.floatbank4_b_level          19438 non-null  float64\n",
      " 81  secondary_cleaner.state.floatbank5_a_air            19438 non-null  float64\n",
      " 82  secondary_cleaner.state.floatbank5_a_level          19438 non-null  float64\n",
      " 83  secondary_cleaner.state.floatbank5_b_air            19438 non-null  float64\n",
      " 84  secondary_cleaner.state.floatbank5_b_level          19438 non-null  float64\n",
      " 85  secondary_cleaner.state.floatbank6_a_air            19437 non-null  float64\n",
      " 86  secondary_cleaner.state.floatbank6_a_level          19438 non-null  float64\n",
      "dtypes: float64(86), object(1)\n",
      "memory usage: 12.9+ MB\n",
      "\n"
     ]
    },
    {
     "data": {
      "text/html": [
       "<div>\n",
       "<style scoped>\n",
       "    .dataframe tbody tr th:only-of-type {\n",
       "        vertical-align: middle;\n",
       "    }\n",
       "\n",
       "    .dataframe tbody tr th {\n",
       "        vertical-align: top;\n",
       "    }\n",
       "\n",
       "    .dataframe thead th {\n",
       "        text-align: right;\n",
       "    }\n",
       "</style>\n",
       "<table border=\"1\" class=\"dataframe\">\n",
       "  <thead>\n",
       "    <tr style=\"text-align: right;\">\n",
       "      <th></th>\n",
       "      <th>date</th>\n",
       "      <th>final.output.concentrate_ag</th>\n",
       "      <th>final.output.concentrate_pb</th>\n",
       "      <th>final.output.concentrate_sol</th>\n",
       "      <th>final.output.concentrate_au</th>\n",
       "      <th>final.output.recovery</th>\n",
       "      <th>final.output.tail_ag</th>\n",
       "      <th>final.output.tail_pb</th>\n",
       "      <th>final.output.tail_sol</th>\n",
       "      <th>final.output.tail_au</th>\n",
       "      <th>...</th>\n",
       "      <th>secondary_cleaner.state.floatbank4_a_air</th>\n",
       "      <th>secondary_cleaner.state.floatbank4_a_level</th>\n",
       "      <th>secondary_cleaner.state.floatbank4_b_air</th>\n",
       "      <th>secondary_cleaner.state.floatbank4_b_level</th>\n",
       "      <th>secondary_cleaner.state.floatbank5_a_air</th>\n",
       "      <th>secondary_cleaner.state.floatbank5_a_level</th>\n",
       "      <th>secondary_cleaner.state.floatbank5_b_air</th>\n",
       "      <th>secondary_cleaner.state.floatbank5_b_level</th>\n",
       "      <th>secondary_cleaner.state.floatbank6_a_air</th>\n",
       "      <th>secondary_cleaner.state.floatbank6_a_level</th>\n",
       "    </tr>\n",
       "  </thead>\n",
       "  <tbody>\n",
       "    <tr>\n",
       "      <th>0</th>\n",
       "      <td>2016-01-15 00:00:00</td>\n",
       "      <td>6.055403</td>\n",
       "      <td>9.889648</td>\n",
       "      <td>5.507324</td>\n",
       "      <td>42.192020</td>\n",
       "      <td>70.541216</td>\n",
       "      <td>10.411962</td>\n",
       "      <td>0.895447</td>\n",
       "      <td>16.904297</td>\n",
       "      <td>2.143149</td>\n",
       "      <td>...</td>\n",
       "      <td>14.016835</td>\n",
       "      <td>-502.488007</td>\n",
       "      <td>12.099931</td>\n",
       "      <td>-504.715942</td>\n",
       "      <td>9.925633</td>\n",
       "      <td>-498.310211</td>\n",
       "      <td>8.079666</td>\n",
       "      <td>-500.470978</td>\n",
       "      <td>14.151341</td>\n",
       "      <td>-605.841980</td>\n",
       "    </tr>\n",
       "    <tr>\n",
       "      <th>1</th>\n",
       "      <td>2016-01-15 01:00:00</td>\n",
       "      <td>6.029369</td>\n",
       "      <td>9.968944</td>\n",
       "      <td>5.257781</td>\n",
       "      <td>42.701629</td>\n",
       "      <td>69.266198</td>\n",
       "      <td>10.462676</td>\n",
       "      <td>0.927452</td>\n",
       "      <td>16.634514</td>\n",
       "      <td>2.224930</td>\n",
       "      <td>...</td>\n",
       "      <td>13.992281</td>\n",
       "      <td>-505.503262</td>\n",
       "      <td>11.950531</td>\n",
       "      <td>-501.331529</td>\n",
       "      <td>10.039245</td>\n",
       "      <td>-500.169983</td>\n",
       "      <td>7.984757</td>\n",
       "      <td>-500.582168</td>\n",
       "      <td>13.998353</td>\n",
       "      <td>-599.787184</td>\n",
       "    </tr>\n",
       "    <tr>\n",
       "      <th>2</th>\n",
       "      <td>2016-01-15 02:00:00</td>\n",
       "      <td>6.055926</td>\n",
       "      <td>10.213995</td>\n",
       "      <td>5.383759</td>\n",
       "      <td>42.657501</td>\n",
       "      <td>68.116445</td>\n",
       "      <td>10.507046</td>\n",
       "      <td>0.953716</td>\n",
       "      <td>16.208849</td>\n",
       "      <td>2.257889</td>\n",
       "      <td>...</td>\n",
       "      <td>14.015015</td>\n",
       "      <td>-502.520901</td>\n",
       "      <td>11.912783</td>\n",
       "      <td>-501.133383</td>\n",
       "      <td>10.070913</td>\n",
       "      <td>-500.129135</td>\n",
       "      <td>8.013877</td>\n",
       "      <td>-500.517572</td>\n",
       "      <td>14.028663</td>\n",
       "      <td>-601.427363</td>\n",
       "    </tr>\n",
       "    <tr>\n",
       "      <th>3</th>\n",
       "      <td>2016-01-15 03:00:00</td>\n",
       "      <td>6.047977</td>\n",
       "      <td>9.977019</td>\n",
       "      <td>4.858634</td>\n",
       "      <td>42.689819</td>\n",
       "      <td>68.347543</td>\n",
       "      <td>10.422762</td>\n",
       "      <td>0.883763</td>\n",
       "      <td>16.532835</td>\n",
       "      <td>2.146849</td>\n",
       "      <td>...</td>\n",
       "      <td>14.036510</td>\n",
       "      <td>-500.857308</td>\n",
       "      <td>11.999550</td>\n",
       "      <td>-501.193686</td>\n",
       "      <td>9.970366</td>\n",
       "      <td>-499.201640</td>\n",
       "      <td>7.977324</td>\n",
       "      <td>-500.255908</td>\n",
       "      <td>14.005551</td>\n",
       "      <td>-599.996129</td>\n",
       "    </tr>\n",
       "    <tr>\n",
       "      <th>4</th>\n",
       "      <td>2016-01-15 04:00:00</td>\n",
       "      <td>6.148599</td>\n",
       "      <td>10.142511</td>\n",
       "      <td>4.939416</td>\n",
       "      <td>42.774141</td>\n",
       "      <td>66.927016</td>\n",
       "      <td>10.360302</td>\n",
       "      <td>0.792826</td>\n",
       "      <td>16.525686</td>\n",
       "      <td>2.055292</td>\n",
       "      <td>...</td>\n",
       "      <td>14.027298</td>\n",
       "      <td>-499.838632</td>\n",
       "      <td>11.953070</td>\n",
       "      <td>-501.053894</td>\n",
       "      <td>9.925709</td>\n",
       "      <td>-501.686727</td>\n",
       "      <td>7.894242</td>\n",
       "      <td>-500.356035</td>\n",
       "      <td>13.996647</td>\n",
       "      <td>-601.496691</td>\n",
       "    </tr>\n",
       "  </tbody>\n",
       "</table>\n",
       "<p>5 rows × 87 columns</p>\n",
       "</div>"
      ],
      "text/plain": [
       "                  date  final.output.concentrate_ag  \\\n",
       "0  2016-01-15 00:00:00                     6.055403   \n",
       "1  2016-01-15 01:00:00                     6.029369   \n",
       "2  2016-01-15 02:00:00                     6.055926   \n",
       "3  2016-01-15 03:00:00                     6.047977   \n",
       "4  2016-01-15 04:00:00                     6.148599   \n",
       "\n",
       "   final.output.concentrate_pb  final.output.concentrate_sol  \\\n",
       "0                     9.889648                      5.507324   \n",
       "1                     9.968944                      5.257781   \n",
       "2                    10.213995                      5.383759   \n",
       "3                     9.977019                      4.858634   \n",
       "4                    10.142511                      4.939416   \n",
       "\n",
       "   final.output.concentrate_au  final.output.recovery  final.output.tail_ag  \\\n",
       "0                    42.192020              70.541216             10.411962   \n",
       "1                    42.701629              69.266198             10.462676   \n",
       "2                    42.657501              68.116445             10.507046   \n",
       "3                    42.689819              68.347543             10.422762   \n",
       "4                    42.774141              66.927016             10.360302   \n",
       "\n",
       "   final.output.tail_pb  final.output.tail_sol  final.output.tail_au  ...  \\\n",
       "0              0.895447              16.904297              2.143149  ...   \n",
       "1              0.927452              16.634514              2.224930  ...   \n",
       "2              0.953716              16.208849              2.257889  ...   \n",
       "3              0.883763              16.532835              2.146849  ...   \n",
       "4              0.792826              16.525686              2.055292  ...   \n",
       "\n",
       "   secondary_cleaner.state.floatbank4_a_air  \\\n",
       "0                                 14.016835   \n",
       "1                                 13.992281   \n",
       "2                                 14.015015   \n",
       "3                                 14.036510   \n",
       "4                                 14.027298   \n",
       "\n",
       "   secondary_cleaner.state.floatbank4_a_level  \\\n",
       "0                                 -502.488007   \n",
       "1                                 -505.503262   \n",
       "2                                 -502.520901   \n",
       "3                                 -500.857308   \n",
       "4                                 -499.838632   \n",
       "\n",
       "   secondary_cleaner.state.floatbank4_b_air  \\\n",
       "0                                 12.099931   \n",
       "1                                 11.950531   \n",
       "2                                 11.912783   \n",
       "3                                 11.999550   \n",
       "4                                 11.953070   \n",
       "\n",
       "   secondary_cleaner.state.floatbank4_b_level  \\\n",
       "0                                 -504.715942   \n",
       "1                                 -501.331529   \n",
       "2                                 -501.133383   \n",
       "3                                 -501.193686   \n",
       "4                                 -501.053894   \n",
       "\n",
       "   secondary_cleaner.state.floatbank5_a_air  \\\n",
       "0                                  9.925633   \n",
       "1                                 10.039245   \n",
       "2                                 10.070913   \n",
       "3                                  9.970366   \n",
       "4                                  9.925709   \n",
       "\n",
       "   secondary_cleaner.state.floatbank5_a_level  \\\n",
       "0                                 -498.310211   \n",
       "1                                 -500.169983   \n",
       "2                                 -500.129135   \n",
       "3                                 -499.201640   \n",
       "4                                 -501.686727   \n",
       "\n",
       "   secondary_cleaner.state.floatbank5_b_air  \\\n",
       "0                                  8.079666   \n",
       "1                                  7.984757   \n",
       "2                                  8.013877   \n",
       "3                                  7.977324   \n",
       "4                                  7.894242   \n",
       "\n",
       "   secondary_cleaner.state.floatbank5_b_level  \\\n",
       "0                                 -500.470978   \n",
       "1                                 -500.582168   \n",
       "2                                 -500.517572   \n",
       "3                                 -500.255908   \n",
       "4                                 -500.356035   \n",
       "\n",
       "   secondary_cleaner.state.floatbank6_a_air  \\\n",
       "0                                 14.151341   \n",
       "1                                 13.998353   \n",
       "2                                 14.028663   \n",
       "3                                 14.005551   \n",
       "4                                 13.996647   \n",
       "\n",
       "   secondary_cleaner.state.floatbank6_a_level  \n",
       "0                                 -605.841980  \n",
       "1                                 -599.787184  \n",
       "2                                 -601.427363  \n",
       "3                                 -599.996129  \n",
       "4                                 -601.496691  \n",
       "\n",
       "[5 rows x 87 columns]"
      ]
     },
     "metadata": {},
     "output_type": "display_data"
    }
   ],
   "source": [
    "#1.1\n",
    "df_train = pd.read_csv('/datasets/gold_recovery_train_new.csv')\n",
    "df_test = pd.read_csv('/datasets/gold_recovery_test_new.csv')\n",
    "df_full = pd.read_csv('/datasets/gold_recovery_full_new.csv')\n",
    "dfs = [df_train, df_test, df_full]\n",
    "for df in dfs:\n",
    "    df.info()\n",
    "    print()\n",
    "    display(df.head())"
   ]
  },
  {
   "cell_type": "markdown",
   "metadata": {},
   "source": [
    "The initial inspection has shown that the test dataset contains fewer features (columns) than the train one. It will be necessary to use this particular set of features, when training and testing the model,.\n",
    "\n",
    "The data contains gaps. Due to the pecularities of the technical process, the parameters measured close in time are often similar. Thus, it is recommended to fill in the gaps with the value from the row above (performed at step 1.4).\n",
    "\n",
    "Data types (except for `date` (index)) - fractional numbers (float). No data type conversions are needed."
   ]
  },
  {
   "cell_type": "code",
   "execution_count": 3,
   "metadata": {},
   "outputs": [
    {
     "name": "stdout",
     "output_type": "stream",
     "text": [
      "MAE for Flotation Enrichment Efficiency: 0.0000.\n"
     ]
    }
   ],
   "source": [
    "#1.2\n",
    "F_train = df_train['rougher.input.feed_au']\n",
    "C_train = df_train['rougher.output.concentrate_au']\n",
    "T_train = df_train['rougher.output.tail_au']\n",
    "rougher_output_recovery_train = ((C_train*(F_train-T_train))/(F_train*(C_train-T_train)))*100\n",
    "\n",
    "target_train = df_train['rougher.output.recovery']\n",
    "mae = mean_absolute_error(target_train, rougher_output_recovery_train)\n",
    "print(f\"MAE for Flotation Enrichment Efficiency: {mae:,.4f}.\")"
   ]
  },
  {
   "cell_type": "markdown",
   "metadata": {},
   "source": [
    "Above there is a check of the correctness of the formula for calculating the efficiency of the crude concentrate enrichment. The check showed that the efficiency is calculated by the system correctly, as the mean absolute error `MAE` equals to zero."
   ]
  },
  {
   "cell_type": "code",
   "execution_count": 4,
   "metadata": {
    "scrolled": true
   },
   "outputs": [
    {
     "name": "stdout",
     "output_type": "stream",
     "text": [
      "Columns train: 87 Columns test: 53\n"
     ]
    },
    {
     "data": {
      "text/html": [
       "<div>\n",
       "<style scoped>\n",
       "    .dataframe tbody tr th:only-of-type {\n",
       "        vertical-align: middle;\n",
       "    }\n",
       "\n",
       "    .dataframe tbody tr th {\n",
       "        vertical-align: top;\n",
       "    }\n",
       "\n",
       "    .dataframe thead th {\n",
       "        text-align: right;\n",
       "    }\n",
       "</style>\n",
       "<table border=\"1\" class=\"dataframe\">\n",
       "  <thead>\n",
       "    <tr style=\"text-align: right;\">\n",
       "      <th></th>\n",
       "      <th>0</th>\n",
       "    </tr>\n",
       "  </thead>\n",
       "  <tbody>\n",
       "    <tr>\n",
       "      <th>primary_cleaner.output.concentrate_au</th>\n",
       "      <td>1</td>\n",
       "    </tr>\n",
       "    <tr>\n",
       "      <th>final.output.recovery</th>\n",
       "      <td>1</td>\n",
       "    </tr>\n",
       "    <tr>\n",
       "      <th>final.output.concentrate_sol</th>\n",
       "      <td>1</td>\n",
       "    </tr>\n",
       "    <tr>\n",
       "      <th>rougher.output.tail_ag</th>\n",
       "      <td>1</td>\n",
       "    </tr>\n",
       "    <tr>\n",
       "      <th>primary_cleaner.output.concentrate_sol</th>\n",
       "      <td>1</td>\n",
       "    </tr>\n",
       "    <tr>\n",
       "      <th>primary_cleaner.output.concentrate_pb</th>\n",
       "      <td>1</td>\n",
       "    </tr>\n",
       "    <tr>\n",
       "      <th>final.output.concentrate_ag</th>\n",
       "      <td>1</td>\n",
       "    </tr>\n",
       "    <tr>\n",
       "      <th>rougher.calculation.floatbank10_sulfate_to_au_feed</th>\n",
       "      <td>1</td>\n",
       "    </tr>\n",
       "    <tr>\n",
       "      <th>final.output.tail_sol</th>\n",
       "      <td>1</td>\n",
       "    </tr>\n",
       "    <tr>\n",
       "      <th>rougher.output.concentrate_au</th>\n",
       "      <td>1</td>\n",
       "    </tr>\n",
       "    <tr>\n",
       "      <th>primary_cleaner.output.tail_sol</th>\n",
       "      <td>1</td>\n",
       "    </tr>\n",
       "    <tr>\n",
       "      <th>final.output.tail_pb</th>\n",
       "      <td>1</td>\n",
       "    </tr>\n",
       "    <tr>\n",
       "      <th>secondary_cleaner.output.tail_pb</th>\n",
       "      <td>1</td>\n",
       "    </tr>\n",
       "    <tr>\n",
       "      <th>primary_cleaner.output.tail_au</th>\n",
       "      <td>1</td>\n",
       "    </tr>\n",
       "    <tr>\n",
       "      <th>rougher.calculation.au_pb_ratio</th>\n",
       "      <td>1</td>\n",
       "    </tr>\n",
       "    <tr>\n",
       "      <th>rougher.output.concentrate_sol</th>\n",
       "      <td>1</td>\n",
       "    </tr>\n",
       "    <tr>\n",
       "      <th>rougher.output.tail_sol</th>\n",
       "      <td>1</td>\n",
       "    </tr>\n",
       "    <tr>\n",
       "      <th>rougher.output.recovery</th>\n",
       "      <td>1</td>\n",
       "    </tr>\n",
       "    <tr>\n",
       "      <th>final.output.concentrate_au</th>\n",
       "      <td>1</td>\n",
       "    </tr>\n",
       "    <tr>\n",
       "      <th>final.output.concentrate_pb</th>\n",
       "      <td>1</td>\n",
       "    </tr>\n",
       "    <tr>\n",
       "      <th>rougher.output.tail_pb</th>\n",
       "      <td>1</td>\n",
       "    </tr>\n",
       "    <tr>\n",
       "      <th>rougher.output.concentrate_pb</th>\n",
       "      <td>1</td>\n",
       "    </tr>\n",
       "    <tr>\n",
       "      <th>secondary_cleaner.output.tail_sol</th>\n",
       "      <td>1</td>\n",
       "    </tr>\n",
       "    <tr>\n",
       "      <th>primary_cleaner.output.tail_pb</th>\n",
       "      <td>1</td>\n",
       "    </tr>\n",
       "    <tr>\n",
       "      <th>rougher.calculation.floatbank11_sulfate_to_au_feed</th>\n",
       "      <td>1</td>\n",
       "    </tr>\n",
       "    <tr>\n",
       "      <th>final.output.tail_au</th>\n",
       "      <td>1</td>\n",
       "    </tr>\n",
       "    <tr>\n",
       "      <th>secondary_cleaner.output.tail_ag</th>\n",
       "      <td>1</td>\n",
       "    </tr>\n",
       "    <tr>\n",
       "      <th>rougher.output.tail_au</th>\n",
       "      <td>1</td>\n",
       "    </tr>\n",
       "    <tr>\n",
       "      <th>rougher.output.concentrate_ag</th>\n",
       "      <td>1</td>\n",
       "    </tr>\n",
       "    <tr>\n",
       "      <th>secondary_cleaner.output.tail_au</th>\n",
       "      <td>1</td>\n",
       "    </tr>\n",
       "    <tr>\n",
       "      <th>primary_cleaner.output.tail_ag</th>\n",
       "      <td>1</td>\n",
       "    </tr>\n",
       "    <tr>\n",
       "      <th>primary_cleaner.output.concentrate_ag</th>\n",
       "      <td>1</td>\n",
       "    </tr>\n",
       "    <tr>\n",
       "      <th>rougher.calculation.sulfate_to_au_concentrate</th>\n",
       "      <td>1</td>\n",
       "    </tr>\n",
       "    <tr>\n",
       "      <th>final.output.tail_ag</th>\n",
       "      <td>1</td>\n",
       "    </tr>\n",
       "  </tbody>\n",
       "</table>\n",
       "</div>"
      ],
      "text/plain": [
       "                                                    0\n",
       "primary_cleaner.output.concentrate_au               1\n",
       "final.output.recovery                               1\n",
       "final.output.concentrate_sol                        1\n",
       "rougher.output.tail_ag                              1\n",
       "primary_cleaner.output.concentrate_sol              1\n",
       "primary_cleaner.output.concentrate_pb               1\n",
       "final.output.concentrate_ag                         1\n",
       "rougher.calculation.floatbank10_sulfate_to_au_feed  1\n",
       "final.output.tail_sol                               1\n",
       "rougher.output.concentrate_au                       1\n",
       "primary_cleaner.output.tail_sol                     1\n",
       "final.output.tail_pb                                1\n",
       "secondary_cleaner.output.tail_pb                    1\n",
       "primary_cleaner.output.tail_au                      1\n",
       "rougher.calculation.au_pb_ratio                     1\n",
       "rougher.output.concentrate_sol                      1\n",
       "rougher.output.tail_sol                             1\n",
       "rougher.output.recovery                             1\n",
       "final.output.concentrate_au                         1\n",
       "final.output.concentrate_pb                         1\n",
       "rougher.output.tail_pb                              1\n",
       "rougher.output.concentrate_pb                       1\n",
       "secondary_cleaner.output.tail_sol                   1\n",
       "primary_cleaner.output.tail_pb                      1\n",
       "rougher.calculation.floatbank11_sulfate_to_au_feed  1\n",
       "final.output.tail_au                                1\n",
       "secondary_cleaner.output.tail_ag                    1\n",
       "rougher.output.tail_au                              1\n",
       "rougher.output.concentrate_ag                       1\n",
       "secondary_cleaner.output.tail_au                    1\n",
       "primary_cleaner.output.tail_ag                      1\n",
       "primary_cleaner.output.concentrate_ag               1\n",
       "rougher.calculation.sulfate_to_au_concentrate       1\n",
       "final.output.tail_ag                                1"
      ]
     },
     "execution_count": 4,
     "metadata": {},
     "output_type": "execute_result"
    }
   ],
   "source": [
    "#1.3\n",
    "print(\"Columns train:\", df_train.shape[1], \"Columns test:\", df_test.shape[1])\n",
    "columns = list(df_train.columns) + list(df_test.columns)\n",
    "columns = pd.Series(columns)\n",
    "columns_count = pd.DataFrame(columns.value_counts())\n",
    "columns_to_delete = columns_count[columns_count[0]==1]\n",
    "columns_to_delete"
   ]
  },
  {
   "cell_type": "markdown",
   "metadata": {},
   "source": [
    "Features not available on the test sample are the features calculated during the gold mining process (not the primary ore features).\n",
    "\n",
    "Among these features the critical ones are the target features: `final.output.recovery`,`rougher.output.recovery`. To test the model, it is necessary to map them to the test data (done in the next step)."
   ]
  },
  {
   "cell_type": "code",
   "execution_count": 5,
   "metadata": {},
   "outputs": [
    {
     "data": {
      "text/plain": [
       "(5290, 55)"
      ]
     },
     "execution_count": 5,
     "metadata": {},
     "output_type": "execute_result"
    }
   ],
   "source": [
    "#1.4\n",
    "merger = df_full.loc[:,['final.output.recovery','rougher.output.recovery', 'date']] \n",
    "df_test = df_test.merge(merger, on='date', how='left') #add target columns to the test sample\n",
    "df_test.shape"
   ]
  },
  {
   "cell_type": "code",
   "execution_count": 6,
   "metadata": {},
   "outputs": [],
   "source": [
    "df_train.fillna(method='ffill', inplace = True) #gaps ffill\n",
    "df_test.fillna(method='ffill', inplace = True)"
   ]
  },
  {
   "cell_type": "code",
   "execution_count": 7,
   "metadata": {
    "scrolled": true
   },
   "outputs": [
    {
     "data": {
      "text/plain": [
       "34"
      ]
     },
     "execution_count": 7,
     "metadata": {},
     "output_type": "execute_result"
    }
   ],
   "source": [
    "columns_to_delete_list = list(columns_to_delete.index.values) #columns to delete - irrelevant for the model\n",
    "len(columns_to_delete_list) #check sample size (87-53 = 34)"
   ]
  },
  {
   "cell_type": "markdown",
   "metadata": {},
   "source": [
    "### Conclusion\n",
    "\n",
    "The first step was dedicated to the preliminary analysis and data processing. Columns not included to the test data were identified and will be deleted during the step 3. The correctness of the calculation of the enrichment efficiency formula `rougher.output.recovery` was also checked."
   ]
  },
  {
   "cell_type": "markdown",
   "metadata": {},
   "source": [
    "## 2. Exploratory data analysis (EDA)"
   ]
  },
  {
   "cell_type": "code",
   "execution_count": 8,
   "metadata": {
    "scrolled": true
   },
   "outputs": [
    {
     "data": {
      "text/plain": [
       "[7.866576841919407,\n",
       " 19.43995785143646,\n",
       " 32.386835978391346,\n",
       " 44.00379162105571,\n",
       " 8.579195196596277,\n",
       " 11.775812314356036,\n",
       " 8.200915815165981,\n",
       " 5.141920924857091,\n",
       " 3.5054646776095564,\n",
       " 7.664554751481546,\n",
       " 9.568544006770484,\n",
       " 10.132847758146394]"
      ]
     },
     "metadata": {},
     "output_type": "display_data"
    },
    {
     "name": "stdout",
     "output_type": "stream",
     "text": [
      "0     0.217439\n",
      "1    -0.507355\n",
      "2    -0.838999\n",
      "3    -0.868644\n",
      "4     0.423104\n",
      "5     0.028450\n",
      "6    -0.025332\n",
      "7     0.147314\n",
      "8     0.091197\n",
      "9    -0.095881\n",
      "10   -0.352054\n",
      "11   -0.164165\n",
      "dtype: float64\n"
     ]
    }
   ],
   "source": [
    "#2.1\n",
    "metalls_columns = ['rougher.input.feed_au','rougher.output.concentrate_au','primary_cleaner.output.concentrate_au','final.output.concentrate_au','rougher.input.feed_ag','rougher.output.concentrate_ag','primary_cleaner.output.concentrate_ag','final.output.concentrate_ag','rougher.input.feed_pb','rougher.output.concentrate_pb','primary_cleaner.output.concentrate_pb','final.output.concentrate_pb']\n",
    "metalls_mean = []\n",
    "metalls_median = []\n",
    "for column in metalls_columns:\n",
    "    mean = df_train[column].mean()\n",
    "    metalls_mean.append(mean)\n",
    "    \n",
    "    median = df_train[column].median()\n",
    "    metalls_median.append(median)\n",
    "\n",
    "display(metalls_mean) \n",
    "print(pd.Series(metalls_mean) - pd.Series(metalls_median)) #print the diff mean and median for the metrics selection"
   ]
  },
  {
   "cell_type": "code",
   "execution_count": 9,
   "metadata": {
    "scrolled": true
   },
   "outputs": [
    {
     "data": {
      "text/plain": [
       "<AxesSubplot:>"
      ]
     },
     "execution_count": 9,
     "metadata": {},
     "output_type": "execute_result"
    },
    {
     "data": {
      "image/png": "[encoded data removed]",
      "text/plain": [
       "<Figure size 432x288 with 1 Axes>"
      ]
     },
     "metadata": {
      "needs_background": "light"
     },
     "output_type": "display_data"
    }
   ],
   "source": [
    "data_graph_mean = {'Au': [7.866577, 19.439958, 32.386836, 44.003792], \n",
    "              'Ag': [8.579195, 11.775812, 8.200916, 5.141921], \n",
    "        'Pb': [3.505465, 7.664555, 9.568544, 10.132848]\n",
    "        } #add data to the table for the graphic interpretation\n",
    "data_graph_mean = pd.DataFrame(data_graph_mean, index=['Input', 'Rougher', 'Primary', 'Final'])\n",
    "ax_1=data_graph_mean.plot(kind='bar')\n",
    "data_graph_mean.plot(ax=ax_1, legend=False, grid=True)"
   ]
  },
  {
   "cell_type": "code",
   "execution_count": 10,
   "metadata": {},
   "outputs": [
    {
     "data": {
      "image/png": "[encoded data removed]",
      "text/plain": [
       "<Figure size 432x288 with 1 Axes>"
      ]
     },
     "metadata": {
      "needs_background": "light"
     },
     "output_type": "display_data"
    },
    {
     "data": {
      "image/png": "[encoded data removed]",
      "text/plain": [
       "<Figure size 432x288 with 1 Axes>"
      ]
     },
     "metadata": {
      "needs_background": "light"
     },
     "output_type": "display_data"
    },
    {
     "data": {
      "image/png": "[encoded data removed]",
      "text/plain": [
       "<Figure size 432x288 with 1 Axes>"
      ]
     },
     "metadata": {
      "needs_background": "light"
     },
     "output_type": "display_data"
    }
   ],
   "source": [
    "#histograms\n",
    "\n",
    "plt.hist(df_train['rougher.input.feed_au'], color='#0504aa', density = True, alpha=0.2, label='Input_au')\n",
    "plt.hist(df_train['rougher.output.concentrate_au'], color='#0f0f0f', density = True, alpha=0.3, label='Rougher_au')\n",
    "plt.hist(df_train['primary_cleaner.output.concentrate_au'], color='#1f77b4', density = True, alpha=0.4, label='Primary_au')\n",
    "plt.hist(df_train['final.output.concentrate_au'], color='#d62728', density = True, alpha=0.5, label='Final_au')\n",
    "plt.legend(loc='upper right')\n",
    "plt.title('Distribution - Aurum (gold) (Au)')\n",
    "plt.show()\n",
    "\n",
    "plt.hist(df_train['rougher.input.feed_ag'], color='#0504aa', density = True, alpha=0.2, label='Input_ag')\n",
    "plt.hist(df_train['rougher.output.concentrate_ag'], color='#0f0f0f', density = True, alpha=0.3, label='Rougher_ag')\n",
    "plt.hist(df_train['primary_cleaner.output.concentrate_ag'], color='#1f77b4', density = True, alpha=0.4, label='Primary_ag')\n",
    "plt.hist(df_train['final.output.concentrate_ag'], color='#d62728', density = True, alpha=0.5, label='Final_ag')\n",
    "plt.legend(loc='upper right')\n",
    "plt.title('Distribution - Argent (silver) (Ag)')\n",
    "plt.show()\n",
    "\n",
    "plt.hist(df_train['rougher.input.feed_pb'], color='#0504aa', density = True, alpha=0.2, label='Input_pb')\n",
    "plt.hist(df_train['rougher.output.concentrate_pb'], color='#0f0f0f', density = True, alpha=0.3, label='Rougher_pb')\n",
    "plt.hist(df_train['primary_cleaner.output.concentrate_pb'], color='#1f77b4', density = True, alpha=0.4, label='Primary_pb')\n",
    "plt.hist(df_train['final.output.concentrate_pb'], color='#d62728', density = True, alpha=0.5, label='Final_pb')\n",
    "plt.legend(loc='upper right')\n",
    "plt.title('Distribution - Plumbum (Pb)')\n",
    "plt.show()"
   ]
  },
  {
   "cell_type": "markdown",
   "metadata": {},
   "source": [
    "To analyze the change in the concentration of metals (Au - gold, Ag - silver, Pb - plumbum) at the various stages of purification, it was decided to look at the average and also the distribution. The median does not differ much from the average, thus only one is taken for the analytics.\n",
    "On average, the concentration of metals in the course of purification increases, while, as expected, the largest increase is observed for the gold - from 8% to 44%.\n",
    "\n",
    "The silver concentration decreases after the flotation stage - the final concentration is 5% against the initial 8.5%. The plumbum concentration increases, at the same time the increase is insignificant after the flotation step. The initial figure of 3.5% grows up to 10%."
   ]
  },
  {
   "cell_type": "code",
   "execution_count": 11,
   "metadata": {
    "scrolled": true
   },
   "outputs": [
    {
     "name": "stderr",
     "output_type": "stream",
     "text": [
      "/opt/conda/lib/python3.9/site-packages/seaborn/distributions.py:2557: FutureWarning: `distplot` is a deprecated function and will be removed in a future version. Please adapt your code to use either `displot` (a figure-level function with similar flexibility) or `histplot` (an axes-level function for histograms).\n",
      "  warnings.warn(msg, FutureWarning)\n",
      "/opt/conda/lib/python3.9/site-packages/seaborn/distributions.py:2557: FutureWarning: `distplot` is a deprecated function and will be removed in a future version. Please adapt your code to use either `displot` (a figure-level function with similar flexibility) or `histplot` (an axes-level function for histograms).\n",
      "  warnings.warn(msg, FutureWarning)\n"
     ]
    },
    {
     "data": {
      "text/plain": [
       "<AxesSubplot:xlabel='rougher.input.feed_size', ylabel='Density'>"
      ]
     },
     "execution_count": 11,
     "metadata": {},
     "output_type": "execute_result"
    },
    {
     "data": {
      "image/png": "[encoded data removed]",
      "text/plain": [
       "<Figure size 432x288 with 1 Axes>"
      ]
     },
     "metadata": {
      "needs_background": "light"
     },
     "output_type": "display_data"
    }
   ],
   "source": [
    "#2.2\n",
    "sn.distplot(df_train['rougher.input.feed_size'][df_train['rougher.input.feed_size']<df_train['rougher.input.feed_size'].quantile(0.99)])\n",
    "sn.distplot(df_test['rougher.input.feed_size'][df_test['rougher.input.feed_size']<df_test['rougher.input.feed_size'].quantile(0.99)])"
   ]
  },
  {
   "cell_type": "markdown",
   "metadata": {},
   "source": [
    "To plot the distribution, maximum values were discarded in order to prevent distortion (non-representative representation) of the plots (analysis of 99% of samples).\n",
    "\n",
    "Comparison of the distribution of raw material granule sizes in the training and test samples showed that the distribution in both follows the same trend: a normal distribution with two peaks. This distribution suggests that there may be 2 groups of granule types in the samples: medium-sized and larger than average. The peaks are more noticeable in the test sample, which is logical due to the smaller sample size.\n",
    "\n",
    "Thus, the distributions do not differ much from each other, which means we can start building and evaluating the model."
   ]
  },
  {
   "cell_type": "code",
   "execution_count": 12,
   "metadata": {},
   "outputs": [
    {
     "name": "stderr",
     "output_type": "stream",
     "text": [
      "/opt/conda/lib/python3.9/site-packages/seaborn/distributions.py:2557: FutureWarning: `distplot` is a deprecated function and will be removed in a future version. Please adapt your code to use either `displot` (a figure-level function with similar flexibility) or `histplot` (an axes-level function for histograms).\n",
      "  warnings.warn(msg, FutureWarning)\n",
      "/opt/conda/lib/python3.9/site-packages/seaborn/distributions.py:2557: FutureWarning: `distplot` is a deprecated function and will be removed in a future version. Please adapt your code to use either `displot` (a figure-level function with similar flexibility) or `histplot` (an axes-level function for histograms).\n",
      "  warnings.warn(msg, FutureWarning)\n",
      "/opt/conda/lib/python3.9/site-packages/seaborn/distributions.py:2557: FutureWarning: `distplot` is a deprecated function and will be removed in a future version. Please adapt your code to use either `displot` (a figure-level function with similar flexibility) or `histplot` (an axes-level function for histograms).\n",
      "  warnings.warn(msg, FutureWarning)\n"
     ]
    },
    {
     "data": {
      "text/plain": [
       "<AxesSubplot:>"
      ]
     },
     "execution_count": 12,
     "metadata": {},
     "output_type": "execute_result"
    },
    {
     "data": {
      "image/png": "[encoded data removed]",
      "text/plain": [
       "<Figure size 432x288 with 1 Axes>"
      ]
     },
     "metadata": {
      "needs_background": "light"
     },
     "output_type": "display_data"
    },
    {
     "data": {
      "image/png": "[encoded data removed]",
      "text/plain": [
       "<Figure size 360x216 with 1 Axes>"
      ]
     },
     "metadata": {
      "needs_background": "light"
     },
     "output_type": "display_data"
    }
   ],
   "source": [
    "#2.3\n",
    "df_train['rougher.input.concentrate_metalls'] = df_train['rougher.input.feed_ag']+df_train['rougher.input.feed_pb']+df_train['rougher.input.feed_au']+df_train['rougher.input.feed_sol'] \n",
    "df_train['rougher.output.concentrate_metalls'] = df_train['rougher.output.concentrate_ag']+df_train['rougher.output.concentrate_pb']+df_train['rougher.output.concentrate_au']+df_train['rougher.output.concentrate_sol'] \n",
    "df_train['final.output.concentrate_metalls'] = df_train['final.output.concentrate_ag']+df_train['final.output.concentrate_pb']+df_train['final.output.concentrate_au']+df_train['final.output.concentrate_sol'] \n",
    "\n",
    "line = {0: [df_train['rougher.input.concentrate_metalls'].mean(),df_train['rougher.output.concentrate_metalls'].mean(), df_train['final.output.concentrate_metalls'].mean()]}\n",
    "data_totall_metalls=pd.DataFrame(line, index=['Input', 'Rougher', 'Final'])\n",
    "\n",
    "sn.distplot(df_train['rougher.input.concentrate_metalls'])\n",
    "sn.distplot(df_train['rougher.output.concentrate_metalls'])\n",
    "sn.distplot(df_train['final.output.concentrate_metalls'])\n",
    "data_totall_metalls.plot(kind='barh', figsize=[5,3])"
   ]
  },
  {
   "cell_type": "markdown",
   "metadata": {},
   "source": [
    "The graphs show the total concentration of all substances (including salts) at different stages: in raw materials, in crude and final concentrates and its distribution. The total concentration grows, while the growth slows down at the change of stage from the crude to the final (average concentrations are very close). The graph also showed that the samples contained data with zero concentrations of metals and salts - perhaps the data was not recorded or the instrument was unable to sample. The distribution of concentration at the final stage on the graph is represented by a curve with the highest \"hill\" - which makes sense, as during the technological process a more similar final concentration of substances in all positions is achieved on average."
   ]
  },
  {
   "cell_type": "markdown",
   "metadata": {},
   "source": [
    "### Conclusion\n",
    "\n",
    "The second step was dedicated to EDA. During the analysis, it was found out that the concentration of gold increases multiplely during the process. A comparison was also made of the sizes of raw material granules in the samples, which showed that the granules in both samples (train - test) are similar in size. The total concentration of all substances at different stages is growing systematically, while the growth is more noticeable from the stage of raw materials to crude concentrate and differs less strongly at the final stage. "
   ]
  },
  {
   "cell_type": "markdown",
   "metadata": {},
   "source": [
    "## 3. Model"
   ]
  },
  {
   "cell_type": "code",
   "execution_count": 13,
   "metadata": {},
   "outputs": [],
   "source": [
    "#3.1\n",
    "def smape(target, predictions):\n",
    "    smape_sum = (abs(target-predictions)/((abs(target)+abs(predictions))/2)).sum()\n",
    "    return 1/len(target)*smape_sum"
   ]
  },
  {
   "cell_type": "markdown",
   "metadata": {},
   "source": [
    "The `smape` function was written above - a metric for further evaluation of the model."
   ]
  },
  {
   "cell_type": "code",
   "execution_count": 14,
   "metadata": {},
   "outputs": [
    {
     "name": "stdout",
     "output_type": "stream",
     "text": [
      "97\n"
     ]
    },
    {
     "data": {
      "text/plain": [
       "40"
      ]
     },
     "execution_count": 14,
     "metadata": {},
     "output_type": "execute_result"
    }
   ],
   "source": [
    "#3.2\n",
    "print(df_test[df_test['rougher.output.recovery']==0]['date'].count())\n",
    "df_test[df_test['final.output.recovery']==0]['date'].count()"
   ]
  },
  {
   "cell_type": "code",
   "execution_count": 15,
   "metadata": {},
   "outputs": [
    {
     "name": "stdout",
     "output_type": "stream",
     "text": [
      "(13852, 90)\n",
      "(13795, 90)\n",
      "(5193, 55)\n",
      "(5154, 55)\n"
     ]
    }
   ],
   "source": [
    "df_train = df_train[df_train['rougher.output.recovery']!=0]\n",
    "print(df_train.shape)\n",
    "df_train = df_train[df_train['final.output.recovery']!=0]\n",
    "print(df_train.shape)\n",
    "\n",
    "df_test = df_test[df_test['rougher.output.recovery']!=0]\n",
    "print(df_test.shape)\n",
    "df_test = df_test[df_test['final.output.recovery']!=0]\n",
    "print(df_test.shape)"
   ]
  },
  {
   "cell_type": "code",
   "execution_count": 16,
   "metadata": {
    "scrolled": true
   },
   "outputs": [
    {
     "data": {
      "text/html": [
       "<div>\n",
       "<style scoped>\n",
       "    .dataframe tbody tr th:only-of-type {\n",
       "        vertical-align: middle;\n",
       "    }\n",
       "\n",
       "    .dataframe tbody tr th {\n",
       "        vertical-align: top;\n",
       "    }\n",
       "\n",
       "    .dataframe thead th {\n",
       "        text-align: right;\n",
       "    }\n",
       "</style>\n",
       "<table border=\"1\" class=\"dataframe\">\n",
       "  <thead>\n",
       "    <tr style=\"text-align: right;\">\n",
       "      <th></th>\n",
       "      <th>primary_cleaner.input.sulfate</th>\n",
       "      <th>primary_cleaner.input.depressant</th>\n",
       "      <th>primary_cleaner.input.feed_size</th>\n",
       "      <th>primary_cleaner.input.xanthate</th>\n",
       "      <th>primary_cleaner.state.floatbank8_a_air</th>\n",
       "      <th>primary_cleaner.state.floatbank8_a_level</th>\n",
       "      <th>primary_cleaner.state.floatbank8_b_air</th>\n",
       "      <th>primary_cleaner.state.floatbank8_b_level</th>\n",
       "      <th>primary_cleaner.state.floatbank8_c_air</th>\n",
       "      <th>primary_cleaner.state.floatbank8_c_level</th>\n",
       "      <th>...</th>\n",
       "      <th>secondary_cleaner.state.floatbank4_a_air</th>\n",
       "      <th>secondary_cleaner.state.floatbank4_a_level</th>\n",
       "      <th>secondary_cleaner.state.floatbank4_b_air</th>\n",
       "      <th>secondary_cleaner.state.floatbank4_b_level</th>\n",
       "      <th>secondary_cleaner.state.floatbank5_a_air</th>\n",
       "      <th>secondary_cleaner.state.floatbank5_a_level</th>\n",
       "      <th>secondary_cleaner.state.floatbank5_b_air</th>\n",
       "      <th>secondary_cleaner.state.floatbank5_b_level</th>\n",
       "      <th>secondary_cleaner.state.floatbank6_a_air</th>\n",
       "      <th>secondary_cleaner.state.floatbank6_a_level</th>\n",
       "    </tr>\n",
       "  </thead>\n",
       "  <tbody>\n",
       "    <tr>\n",
       "      <th>0</th>\n",
       "      <td>127.092003</td>\n",
       "      <td>10.128295</td>\n",
       "      <td>7.25</td>\n",
       "      <td>0.988759</td>\n",
       "      <td>1549.775757</td>\n",
       "      <td>-498.912140</td>\n",
       "      <td>1551.434204</td>\n",
       "      <td>-516.403442</td>\n",
       "      <td>1549.873901</td>\n",
       "      <td>-498.666595</td>\n",
       "      <td>...</td>\n",
       "      <td>14.016835</td>\n",
       "      <td>-502.488007</td>\n",
       "      <td>12.099931</td>\n",
       "      <td>-504.715942</td>\n",
       "      <td>9.925633</td>\n",
       "      <td>-498.310211</td>\n",
       "      <td>8.079666</td>\n",
       "      <td>-500.470978</td>\n",
       "      <td>14.151341</td>\n",
       "      <td>-605.841980</td>\n",
       "    </tr>\n",
       "    <tr>\n",
       "      <th>1</th>\n",
       "      <td>125.629232</td>\n",
       "      <td>10.296251</td>\n",
       "      <td>7.25</td>\n",
       "      <td>1.002663</td>\n",
       "      <td>1576.166671</td>\n",
       "      <td>-500.904965</td>\n",
       "      <td>1575.950626</td>\n",
       "      <td>-499.865889</td>\n",
       "      <td>1575.994189</td>\n",
       "      <td>-499.315107</td>\n",
       "      <td>...</td>\n",
       "      <td>13.992281</td>\n",
       "      <td>-505.503262</td>\n",
       "      <td>11.950531</td>\n",
       "      <td>-501.331529</td>\n",
       "      <td>10.039245</td>\n",
       "      <td>-500.169983</td>\n",
       "      <td>7.984757</td>\n",
       "      <td>-500.582168</td>\n",
       "      <td>13.998353</td>\n",
       "      <td>-599.787184</td>\n",
       "    </tr>\n",
       "    <tr>\n",
       "      <th>2</th>\n",
       "      <td>123.819808</td>\n",
       "      <td>11.316280</td>\n",
       "      <td>7.25</td>\n",
       "      <td>0.991265</td>\n",
       "      <td>1601.556163</td>\n",
       "      <td>-499.997791</td>\n",
       "      <td>1600.386685</td>\n",
       "      <td>-500.607762</td>\n",
       "      <td>1602.003542</td>\n",
       "      <td>-500.870069</td>\n",
       "      <td>...</td>\n",
       "      <td>14.015015</td>\n",
       "      <td>-502.520901</td>\n",
       "      <td>11.912783</td>\n",
       "      <td>-501.133383</td>\n",
       "      <td>10.070913</td>\n",
       "      <td>-500.129135</td>\n",
       "      <td>8.013877</td>\n",
       "      <td>-500.517572</td>\n",
       "      <td>14.028663</td>\n",
       "      <td>-601.427363</td>\n",
       "    </tr>\n",
       "    <tr>\n",
       "      <th>3</th>\n",
       "      <td>122.270188</td>\n",
       "      <td>11.322140</td>\n",
       "      <td>7.25</td>\n",
       "      <td>0.996739</td>\n",
       "      <td>1599.968720</td>\n",
       "      <td>-500.951778</td>\n",
       "      <td>1600.659236</td>\n",
       "      <td>-499.677094</td>\n",
       "      <td>1600.304144</td>\n",
       "      <td>-500.727997</td>\n",
       "      <td>...</td>\n",
       "      <td>14.036510</td>\n",
       "      <td>-500.857308</td>\n",
       "      <td>11.999550</td>\n",
       "      <td>-501.193686</td>\n",
       "      <td>9.970366</td>\n",
       "      <td>-499.201640</td>\n",
       "      <td>7.977324</td>\n",
       "      <td>-500.255908</td>\n",
       "      <td>14.005551</td>\n",
       "      <td>-599.996129</td>\n",
       "    </tr>\n",
       "    <tr>\n",
       "      <th>4</th>\n",
       "      <td>117.988169</td>\n",
       "      <td>11.913613</td>\n",
       "      <td>7.25</td>\n",
       "      <td>1.009869</td>\n",
       "      <td>1601.339707</td>\n",
       "      <td>-498.975456</td>\n",
       "      <td>1601.437854</td>\n",
       "      <td>-500.323246</td>\n",
       "      <td>1599.581894</td>\n",
       "      <td>-500.888152</td>\n",
       "      <td>...</td>\n",
       "      <td>14.027298</td>\n",
       "      <td>-499.838632</td>\n",
       "      <td>11.953070</td>\n",
       "      <td>-501.053894</td>\n",
       "      <td>9.925709</td>\n",
       "      <td>-501.686727</td>\n",
       "      <td>7.894242</td>\n",
       "      <td>-500.356035</td>\n",
       "      <td>13.996647</td>\n",
       "      <td>-601.496691</td>\n",
       "    </tr>\n",
       "  </tbody>\n",
       "</table>\n",
       "<p>5 rows × 52 columns</p>\n",
       "</div>"
      ],
      "text/plain": [
       "   primary_cleaner.input.sulfate  primary_cleaner.input.depressant  \\\n",
       "0                     127.092003                         10.128295   \n",
       "1                     125.629232                         10.296251   \n",
       "2                     123.819808                         11.316280   \n",
       "3                     122.270188                         11.322140   \n",
       "4                     117.988169                         11.913613   \n",
       "\n",
       "   primary_cleaner.input.feed_size  primary_cleaner.input.xanthate  \\\n",
       "0                             7.25                        0.988759   \n",
       "1                             7.25                        1.002663   \n",
       "2                             7.25                        0.991265   \n",
       "3                             7.25                        0.996739   \n",
       "4                             7.25                        1.009869   \n",
       "\n",
       "   primary_cleaner.state.floatbank8_a_air  \\\n",
       "0                             1549.775757   \n",
       "1                             1576.166671   \n",
       "2                             1601.556163   \n",
       "3                             1599.968720   \n",
       "4                             1601.339707   \n",
       "\n",
       "   primary_cleaner.state.floatbank8_a_level  \\\n",
       "0                               -498.912140   \n",
       "1                               -500.904965   \n",
       "2                               -499.997791   \n",
       "3                               -500.951778   \n",
       "4                               -498.975456   \n",
       "\n",
       "   primary_cleaner.state.floatbank8_b_air  \\\n",
       "0                             1551.434204   \n",
       "1                             1575.950626   \n",
       "2                             1600.386685   \n",
       "3                             1600.659236   \n",
       "4                             1601.437854   \n",
       "\n",
       "   primary_cleaner.state.floatbank8_b_level  \\\n",
       "0                               -516.403442   \n",
       "1                               -499.865889   \n",
       "2                               -500.607762   \n",
       "3                               -499.677094   \n",
       "4                               -500.323246   \n",
       "\n",
       "   primary_cleaner.state.floatbank8_c_air  \\\n",
       "0                             1549.873901   \n",
       "1                             1575.994189   \n",
       "2                             1602.003542   \n",
       "3                             1600.304144   \n",
       "4                             1599.581894   \n",
       "\n",
       "   primary_cleaner.state.floatbank8_c_level  ...  \\\n",
       "0                               -498.666595  ...   \n",
       "1                               -499.315107  ...   \n",
       "2                               -500.870069  ...   \n",
       "3                               -500.727997  ...   \n",
       "4                               -500.888152  ...   \n",
       "\n",
       "   secondary_cleaner.state.floatbank4_a_air  \\\n",
       "0                                 14.016835   \n",
       "1                                 13.992281   \n",
       "2                                 14.015015   \n",
       "3                                 14.036510   \n",
       "4                                 14.027298   \n",
       "\n",
       "   secondary_cleaner.state.floatbank4_a_level  \\\n",
       "0                                 -502.488007   \n",
       "1                                 -505.503262   \n",
       "2                                 -502.520901   \n",
       "3                                 -500.857308   \n",
       "4                                 -499.838632   \n",
       "\n",
       "   secondary_cleaner.state.floatbank4_b_air  \\\n",
       "0                                 12.099931   \n",
       "1                                 11.950531   \n",
       "2                                 11.912783   \n",
       "3                                 11.999550   \n",
       "4                                 11.953070   \n",
       "\n",
       "   secondary_cleaner.state.floatbank4_b_level  \\\n",
       "0                                 -504.715942   \n",
       "1                                 -501.331529   \n",
       "2                                 -501.133383   \n",
       "3                                 -501.193686   \n",
       "4                                 -501.053894   \n",
       "\n",
       "   secondary_cleaner.state.floatbank5_a_air  \\\n",
       "0                                  9.925633   \n",
       "1                                 10.039245   \n",
       "2                                 10.070913   \n",
       "3                                  9.970366   \n",
       "4                                  9.925709   \n",
       "\n",
       "   secondary_cleaner.state.floatbank5_a_level  \\\n",
       "0                                 -498.310211   \n",
       "1                                 -500.169983   \n",
       "2                                 -500.129135   \n",
       "3                                 -499.201640   \n",
       "4                                 -501.686727   \n",
       "\n",
       "   secondary_cleaner.state.floatbank5_b_air  \\\n",
       "0                                  8.079666   \n",
       "1                                  7.984757   \n",
       "2                                  8.013877   \n",
       "3                                  7.977324   \n",
       "4                                  7.894242   \n",
       "\n",
       "   secondary_cleaner.state.floatbank5_b_level  \\\n",
       "0                                 -500.470978   \n",
       "1                                 -500.582168   \n",
       "2                                 -500.517572   \n",
       "3                                 -500.255908   \n",
       "4                                 -500.356035   \n",
       "\n",
       "   secondary_cleaner.state.floatbank6_a_air  \\\n",
       "0                                 14.151341   \n",
       "1                                 13.998353   \n",
       "2                                 14.028663   \n",
       "3                                 14.005551   \n",
       "4                                 13.996647   \n",
       "\n",
       "   secondary_cleaner.state.floatbank6_a_level  \n",
       "0                                 -605.841980  \n",
       "1                                 -599.787184  \n",
       "2                                 -601.427363  \n",
       "3                                 -599.996129  \n",
       "4                                 -601.496691  \n",
       "\n",
       "[5 rows x 52 columns]"
      ]
     },
     "metadata": {},
     "output_type": "display_data"
    },
    {
     "data": {
      "text/plain": [
       "(13795, 52)"
      ]
     },
     "metadata": {},
     "output_type": "display_data"
    },
    {
     "data": {
      "text/plain": [
       "(13795,)"
      ]
     },
     "metadata": {},
     "output_type": "display_data"
    },
    {
     "data": {
      "text/plain": [
       "(13795,)"
      ]
     },
     "metadata": {},
     "output_type": "display_data"
    }
   ],
   "source": [
    "#3.2\n",
    "features_train = df_train.drop(columns_to_delete_list,1) #delete columns, not included to the test sample (and targets)\n",
    "features_train = features_train.drop(['rougher.input.concentrate_metalls', 'rougher.output.concentrate_metalls', 'final.output.concentrate_metalls', 'date'], 1) #delete date (not relevant for traning) and columns from step 2\n",
    "display(features_train.head()) \n",
    "display(features_train.shape) #check size\n",
    "target_train_r = df_train['rougher.output.recovery'] #target - rougher efficiency\n",
    "display(target_train_r.shape) \n",
    "\n",
    "target_train_f = df_train['final.output.recovery'] #target - final efficiency\n",
    "display(target_train_f.shape)"
   ]
  },
  {
   "cell_type": "code",
   "execution_count": 17,
   "metadata": {
    "scrolled": true
   },
   "outputs": [
    {
     "data": {
      "text/plain": [
       "(5154, 52)"
      ]
     },
     "metadata": {},
     "output_type": "display_data"
    },
    {
     "data": {
      "text/plain": [
       "(5154,)"
      ]
     },
     "metadata": {},
     "output_type": "display_data"
    },
    {
     "data": {
      "text/plain": [
       "(5154,)"
      ]
     },
     "execution_count": 17,
     "metadata": {},
     "output_type": "execute_result"
    }
   ],
   "source": [
    "features_test = df_test.drop(['final.output.recovery','rougher.output.recovery', 'date'],1) #drop targets\n",
    "display(features_test.shape)\n",
    "\n",
    "target_test_r = df_test['rougher.output.recovery'] #target - rougher efficiency\n",
    "display(target_test_r.shape)\n",
    "\n",
    "target_test_f = df_test['final.output.recovery'] #target - final efficiency\n",
    "target_test_f.shape"
   ]
  },
  {
   "cell_type": "markdown",
   "metadata": {},
   "source": [
    "The training and test samples were processed. <br/>\n",
    "Features for learning and target features were identified:\n",
    "1) `rougher.output.recovery` - rough concentrate enrichment efficiency <br/>\n",
    "2) `final.output.recovery` - final concentrate enrichment efficiency. <br/>\n",
    "\n",
    "In addition, rows with zeros for target were removed from the test and training samples - anomaly values.\n",
    "\n",
    "Next step is to do cross-validation of different models with different hyperparameters. During enumeration, the `smape` metric is calculated. The choice is made based on the smallest value of the metric. Hyperparameters were selected that showed the best result among those tested."
   ]
  },
  {
   "cell_type": "code",
   "execution_count": 18,
   "metadata": {},
   "outputs": [],
   "source": [
    "smape_score = make_scorer(smape, greater_is_better = False)"
   ]
  },
  {
   "cell_type": "code",
   "execution_count": 19,
   "metadata": {},
   "outputs": [
    {
     "name": "stdout",
     "output_type": "stream",
     "text": [
      "-0.09357042999419979 {'max_depth': 5, 'n_estimators': 70}\n"
     ]
    }
   ],
   "source": [
    "estimator = RandomForestRegressor(random_state=12345)\n",
    "param_grid = { \n",
    "    \"n_estimators\": [60,70,80],\n",
    "    \"max_depth\": [5,6,7]}\n",
    "\n",
    "grid = GridSearchCV(estimator, param_grid, scoring=smape_score, cv=5)\n",
    "grid.fit(features_train, target_train_f)\n",
    "\n",
    "print(grid.best_score_ , grid.best_params_)"
   ]
  },
  {
   "cell_type": "code",
   "execution_count": 20,
   "metadata": {},
   "outputs": [
    {
     "name": "stdout",
     "output_type": "stream",
     "text": [
      "SMAPE for the final concentrate Forest -0.09357042999419979\n"
     ]
    }
   ],
   "source": [
    "model_forest = RandomForestRegressor(random_state=12345, n_estimators=70, max_depth=5)\n",
    "model_forest.fit(features_train, target_train_f)\n",
    "scores_forest = cross_val_score(model_forest, features_train, target_train_f, scoring = smape_score, cv=5)\n",
    "score_forest = scores_forest.mean()\n",
    "print(\"SMAPE for the final concentrate Forest\", score_forest)"
   ]
  },
  {
   "cell_type": "code",
   "execution_count": 21,
   "metadata": {},
   "outputs": [
    {
     "name": "stdout",
     "output_type": "stream",
     "text": [
      "SMAPE for the final concentrate Tree -0.10924136599149437\n"
     ]
    }
   ],
   "source": [
    "model_tree = DecisionTreeRegressor(random_state=12345, max_depth=5)\n",
    "model_tree.fit(features_train, target_train_f)\n",
    "scores_tree = cross_val_score(model_tree, features_train, target_train_f, scoring = smape_score, cv=5)\n",
    "score_tree = scores_tree.mean()\n",
    "print(\"SMAPE for the final concentrate Tree\", score_tree)"
   ]
  },
  {
   "cell_type": "code",
   "execution_count": 22,
   "metadata": {},
   "outputs": [
    {
     "name": "stdout",
     "output_type": "stream",
     "text": [
      "SMAPE for the final concentrate Linear Regression -0.10990200515157941\n"
     ]
    }
   ],
   "source": [
    "model_linear = LinearRegression()\n",
    "model_linear.fit(features_train, target_train_f)\n",
    "scores_linear = cross_val_score(model_linear, features_train, target_train_f, scoring = smape_score, cv=5)\n",
    "score_linear = scores_linear.mean()\n",
    "print(\"SMAPE for the final concentrate Linear Regression\", score_linear)"
   ]
  },
  {
   "cell_type": "markdown",
   "metadata": {},
   "source": [
    "The smallest `SMAPE` metric for calculating the efficiency of the final concentrate is demonstrated by the Random Forest model with 70 \"trees\" and a depth of 5. <br/>\n",
    "Below, this model was verified on the calculation of the efficiency of the rough concentrate."
   ]
  },
  {
   "cell_type": "code",
   "execution_count": 23,
   "metadata": {},
   "outputs": [
    {
     "name": "stdout",
     "output_type": "stream",
     "text": [
      "SMAPE for rough concentrate Forest -0.06681453980623439\n"
     ]
    }
   ],
   "source": [
    "model_forest_r = RandomForestRegressor(random_state=12345, n_estimators=70, max_depth=5)\n",
    "model_forest_r.fit(features_train, target_train_r)\n",
    "scores_forest_r = cross_val_score(model_forest_r, features_train, target_train_r, scoring = smape_score, cv=5)\n",
    "score_forest_r = scores_forest_r.mean()\n",
    "print(\"SMAPE for rough concentrate Forest\", score_forest_r)"
   ]
  },
  {
   "cell_type": "markdown",
   "metadata": {},
   "source": [
    "It is proposed to use a similar model for the rough concentrate (random forest with hyperparameters 70 (number of trees) and 5 (tree depth)). Below, the calculation of `SMAPE` on the test sample is performed, including the calculation of the final `SMAPE`."
   ]
  },
  {
   "cell_type": "code",
   "execution_count": 24,
   "metadata": {},
   "outputs": [
    {
     "name": "stdout",
     "output_type": "stream",
     "text": [
      "SMAPE rough concentrate enrichment: 0.0463.\n",
      "SMAPE final concentrate enrichment: 0.0830.\n",
      "Total SMAPE: 7.38%.\n"
     ]
    }
   ],
   "source": [
    "predictions_test_f = model_forest.predict(features_test)\n",
    "smape_f = smape(target_test_f, predictions_test_f)\n",
    "\n",
    "predictions_test_r = model_forest_r.predict(features_test)\n",
    "smape_r = smape(target_test_r, predictions_test_r)\n",
    "\n",
    "print(f\"SMAPE rough concentrate enrichment: {smape_r:,.4f}.\")\n",
    "print(f\"SMAPE final concentrate enrichment: {smape_f:,.4f}.\")\n",
    "\n",
    "print(f\"Total SMAPE: {(0.25*smape_r+0.75*smape_f):.2%}.\")"
   ]
  },
  {
   "cell_type": "markdown",
   "metadata": {},
   "source": [
    "### Conclusion\n",
    "\n",
    "The `SMAPE` metric function was written, the models were enumerated with a check on the smape metric (with cross-validation) at the third step. **To select hyperparameters, the Random Forest model was enumerated using Grid Search**. Random Forest was used for both targets.\n",
    "\n",
    "The final SMAPE metric on test data is **7.38%**."
   ]
  },
  {
   "cell_type": "markdown",
   "metadata": {},
   "source": [
    "## Summary"
   ]
  },
  {
   "cell_type": "markdown",
   "metadata": {},
   "source": [
    "During the project, an analysis of data on the process of gold extraction from ore was carried out. A model was built which predicts the efficiency of ore recovery in the rough (after the flotation stage) and final concentrate. To assess the quality of the model, the SMAPE metric was used - the symmetric mean absolute percentage deviation. The final value of the metric is **7.38%**. \n",
    "\n",
    "On average model can correctly predict the result of the efficiency in **92.6%** cases, at the same time, it is importnant to bear in mind that final `smape` is a weighted average of two concentrates. While the model predicts rough concentrate enrichment with 4.63% absolute percentage error, the final figure is higher - 8.3%."
   ]
  }
 ],
 "metadata": {
  "ExecuteTimeLog": [
   {
    "duration": 534,
    "start_time": "2022-03-27T09:34:11.750Z"
   },
   {
    "duration": 93,
    "start_time": "2022-03-27T09:36:42.693Z"
   },
   {
    "duration": 11,
    "start_time": "2022-03-27T09:36:50.301Z"
   },
   {
    "duration": 9,
    "start_time": "2022-03-27T09:36:54.262Z"
   },
   {
    "duration": 94,
    "start_time": "2022-03-27T09:37:30.287Z"
   },
   {
    "duration": 11,
    "start_time": "2022-03-27T09:38:02.114Z"
   },
   {
    "duration": 97,
    "start_time": "2022-03-27T09:38:34.474Z"
   },
   {
    "duration": 4,
    "start_time": "2022-03-27T09:38:59.185Z"
   },
   {
    "duration": 774,
    "start_time": "2022-03-27T09:39:00.963Z"
   },
   {
    "duration": 933,
    "start_time": "2022-03-27T09:39:26.802Z"
   },
   {
    "duration": 981,
    "start_time": "2022-03-27T09:41:21.263Z"
   },
   {
    "duration": 85,
    "start_time": "2022-03-27T10:13:54.904Z"
   },
   {
    "duration": 11,
    "start_time": "2022-03-27T10:14:41.641Z"
   },
   {
    "duration": 11,
    "start_time": "2022-03-27T10:14:46.796Z"
   },
   {
    "duration": 12,
    "start_time": "2022-03-27T10:15:16.495Z"
   },
   {
    "duration": 7,
    "start_time": "2022-03-27T10:15:47.747Z"
   },
   {
    "duration": 6,
    "start_time": "2022-03-27T10:16:05.404Z"
   },
   {
    "duration": 10,
    "start_time": "2022-03-27T10:16:12.186Z"
   },
   {
    "duration": 6,
    "start_time": "2022-03-27T10:16:14.782Z"
   },
   {
    "duration": 10,
    "start_time": "2022-03-27T10:16:29.074Z"
   },
   {
    "duration": 1531,
    "start_time": "2022-03-27T10:32:59.132Z"
   },
   {
    "duration": 993,
    "start_time": "2022-03-27T10:33:00.666Z"
   },
   {
    "duration": 8,
    "start_time": "2022-03-27T10:33:01.661Z"
   },
   {
    "duration": 14,
    "start_time": "2022-03-27T10:33:01.671Z"
   },
   {
    "duration": 7,
    "start_time": "2022-03-27T10:33:01.688Z"
   },
   {
    "duration": 8,
    "start_time": "2022-03-27T10:33:19.780Z"
   },
   {
    "duration": 9,
    "start_time": "2022-03-27T10:33:54.788Z"
   },
   {
    "duration": 5,
    "start_time": "2022-03-27T10:34:34.166Z"
   },
   {
    "duration": 4,
    "start_time": "2022-03-27T10:35:03.904Z"
   },
   {
    "duration": 5,
    "start_time": "2022-03-27T10:35:07.089Z"
   },
   {
    "duration": 469,
    "start_time": "2022-03-27T10:35:36.688Z"
   },
   {
    "duration": 5,
    "start_time": "2022-03-27T10:35:39.467Z"
   },
   {
    "duration": 234,
    "start_time": "2022-03-27T10:38:49.692Z"
   },
   {
    "duration": 17,
    "start_time": "2022-03-27T10:38:52.872Z"
   },
   {
    "duration": 18,
    "start_time": "2022-03-27T10:39:19.279Z"
   },
   {
    "duration": 13,
    "start_time": "2022-03-27T10:40:07.437Z"
   },
   {
    "duration": 5,
    "start_time": "2022-03-27T10:40:09.510Z"
   },
   {
    "duration": 9,
    "start_time": "2022-03-27T10:40:14.163Z"
   },
   {
    "duration": 10,
    "start_time": "2022-03-27T10:40:46.513Z"
   },
   {
    "duration": 10,
    "start_time": "2022-03-27T10:40:48.995Z"
   },
   {
    "duration": 13,
    "start_time": "2022-03-27T10:40:51.360Z"
   },
   {
    "duration": 14,
    "start_time": "2022-03-27T10:41:27.795Z"
   },
   {
    "duration": 14,
    "start_time": "2022-03-27T10:41:37.222Z"
   },
   {
    "duration": 9,
    "start_time": "2022-03-27T10:41:42.936Z"
   },
   {
    "duration": 13,
    "start_time": "2022-03-27T10:41:52.511Z"
   },
   {
    "duration": 15,
    "start_time": "2022-03-27T10:41:55.614Z"
   },
   {
    "duration": 13,
    "start_time": "2022-03-27T10:42:01.758Z"
   },
   {
    "duration": 14,
    "start_time": "2022-03-27T10:42:05.517Z"
   },
   {
    "duration": 15,
    "start_time": "2022-03-27T10:42:07.913Z"
   },
   {
    "duration": 14,
    "start_time": "2022-03-27T10:42:09.887Z"
   },
   {
    "duration": 10,
    "start_time": "2022-03-27T10:42:13.462Z"
   },
   {
    "duration": 10,
    "start_time": "2022-03-27T10:42:46.226Z"
   },
   {
    "duration": 8,
    "start_time": "2022-03-27T10:43:09.648Z"
   },
   {
    "duration": 29,
    "start_time": "2022-03-27T10:43:27.718Z"
   },
   {
    "duration": 26,
    "start_time": "2022-03-27T10:43:30.501Z"
   },
   {
    "duration": 28,
    "start_time": "2022-03-27T10:43:33.098Z"
   },
   {
    "duration": 7,
    "start_time": "2022-03-27T10:43:35.940Z"
   },
   {
    "duration": 16,
    "start_time": "2022-03-27T10:44:00.716Z"
   },
   {
    "duration": 18,
    "start_time": "2022-03-27T10:44:16.694Z"
   },
   {
    "duration": 15,
    "start_time": "2022-03-27T10:44:21.029Z"
   },
   {
    "duration": 10,
    "start_time": "2022-03-27T10:44:26.983Z"
   },
   {
    "duration": 8,
    "start_time": "2022-03-27T10:44:35.071Z"
   },
   {
    "duration": 14,
    "start_time": "2022-03-27T10:44:43.912Z"
   },
   {
    "duration": 6,
    "start_time": "2022-03-27T10:45:58.976Z"
   },
   {
    "duration": 7,
    "start_time": "2022-03-27T10:46:29.590Z"
   },
   {
    "duration": 10,
    "start_time": "2022-03-27T10:46:51.165Z"
   },
   {
    "duration": 28,
    "start_time": "2022-03-27T10:47:41.720Z"
   },
   {
    "duration": 27,
    "start_time": "2022-03-27T10:47:43.520Z"
   },
   {
    "duration": 11,
    "start_time": "2022-03-27T10:47:54.453Z"
   },
   {
    "duration": 12,
    "start_time": "2022-03-27T10:47:58.505Z"
   },
   {
    "duration": 216,
    "start_time": "2022-03-27T10:49:10.726Z"
   },
   {
    "duration": 18,
    "start_time": "2022-03-27T10:49:14.532Z"
   },
   {
    "duration": 7,
    "start_time": "2022-03-27T10:49:19.685Z"
   },
   {
    "duration": 8,
    "start_time": "2022-03-27T10:49:46.852Z"
   },
   {
    "duration": 13,
    "start_time": "2022-03-27T10:50:02.705Z"
   },
   {
    "duration": 10,
    "start_time": "2022-03-27T10:50:14.287Z"
   },
   {
    "duration": 26,
    "start_time": "2022-03-27T10:54:51.432Z"
   },
   {
    "duration": 8,
    "start_time": "2022-03-27T10:55:16.490Z"
   },
   {
    "duration": 8,
    "start_time": "2022-03-27T10:55:27.435Z"
   },
   {
    "duration": 8,
    "start_time": "2022-03-27T10:55:32.801Z"
   },
   {
    "duration": 16,
    "start_time": "2022-03-27T10:55:36.865Z"
   },
   {
    "duration": 14,
    "start_time": "2022-03-27T10:55:38.870Z"
   },
   {
    "duration": 7,
    "start_time": "2022-03-27T10:55:40.672Z"
   },
   {
    "duration": 8,
    "start_time": "2022-03-27T10:55:45.917Z"
   },
   {
    "duration": 8,
    "start_time": "2022-03-27T10:56:26.120Z"
   },
   {
    "duration": 9,
    "start_time": "2022-03-27T10:56:37.751Z"
   },
   {
    "duration": 13,
    "start_time": "2022-03-27T10:56:46.103Z"
   },
   {
    "duration": 6,
    "start_time": "2022-03-27T10:57:02.414Z"
   },
   {
    "duration": 15,
    "start_time": "2022-03-27T10:57:09.332Z"
   },
   {
    "duration": 15,
    "start_time": "2022-03-27T10:57:11.573Z"
   },
   {
    "duration": 15,
    "start_time": "2022-03-27T10:57:34.604Z"
   },
   {
    "duration": 10,
    "start_time": "2022-03-27T10:58:07.013Z"
   },
   {
    "duration": 9,
    "start_time": "2022-03-27T10:58:12.175Z"
   },
   {
    "duration": 15,
    "start_time": "2022-03-27T10:58:16.990Z"
   },
   {
    "duration": 16,
    "start_time": "2022-03-27T10:58:19.050Z"
   },
   {
    "duration": 9,
    "start_time": "2022-03-27T10:58:21.613Z"
   },
   {
    "duration": 9,
    "start_time": "2022-03-27T10:58:25.179Z"
   },
   {
    "duration": 11,
    "start_time": "2022-03-27T10:58:29.453Z"
   },
   {
    "duration": 14,
    "start_time": "2022-03-27T10:58:49.528Z"
   },
   {
    "duration": 14,
    "start_time": "2022-03-27T10:59:25.110Z"
   },
   {
    "duration": 11,
    "start_time": "2022-03-27T10:59:33.151Z"
   },
   {
    "duration": 12,
    "start_time": "2022-03-27T10:59:48.007Z"
   },
   {
    "duration": 11,
    "start_time": "2022-03-27T10:59:51.698Z"
   },
   {
    "duration": 10,
    "start_time": "2022-03-27T11:00:28.669Z"
   },
   {
    "duration": 13,
    "start_time": "2022-03-27T11:01:12.548Z"
   },
   {
    "duration": 10,
    "start_time": "2022-03-27T11:01:25.660Z"
   },
   {
    "duration": 11,
    "start_time": "2022-03-27T11:01:52.774Z"
   },
   {
    "duration": 11,
    "start_time": "2022-03-27T11:02:10.578Z"
   },
   {
    "duration": 12,
    "start_time": "2022-03-27T11:02:12.192Z"
   },
   {
    "duration": 12,
    "start_time": "2022-03-27T11:02:58.514Z"
   },
   {
    "duration": 8,
    "start_time": "2022-03-27T11:03:11.746Z"
   },
   {
    "duration": 10,
    "start_time": "2022-03-27T11:03:16.218Z"
   },
   {
    "duration": 10,
    "start_time": "2022-03-27T11:03:22.833Z"
   },
   {
    "duration": 12,
    "start_time": "2022-03-27T11:03:27.090Z"
   },
   {
    "duration": 10,
    "start_time": "2022-03-27T11:03:30.413Z"
   },
   {
    "duration": 8,
    "start_time": "2022-03-27T11:03:47.318Z"
   },
   {
    "duration": 16,
    "start_time": "2022-03-27T11:03:52.485Z"
   },
   {
    "duration": 11,
    "start_time": "2022-03-27T11:03:56.923Z"
   },
   {
    "duration": 10,
    "start_time": "2022-03-27T11:04:02.325Z"
   },
   {
    "duration": 14,
    "start_time": "2022-03-27T11:04:06.965Z"
   },
   {
    "duration": 11,
    "start_time": "2022-03-27T11:04:18.597Z"
   },
   {
    "duration": 6,
    "start_time": "2022-03-27T11:04:26.715Z"
   },
   {
    "duration": 11,
    "start_time": "2022-03-27T11:04:51.432Z"
   },
   {
    "duration": 14,
    "start_time": "2022-03-27T11:05:21.663Z"
   },
   {
    "duration": 14,
    "start_time": "2022-03-27T11:05:23.913Z"
   },
   {
    "duration": 14,
    "start_time": "2022-03-27T11:05:31.207Z"
   },
   {
    "duration": 14,
    "start_time": "2022-03-27T11:05:33.926Z"
   },
   {
    "duration": 15,
    "start_time": "2022-03-27T11:05:39.050Z"
   },
   {
    "duration": 10,
    "start_time": "2022-03-27T11:05:43.652Z"
   },
   {
    "duration": 14,
    "start_time": "2022-03-27T11:06:10.059Z"
   },
   {
    "duration": 20,
    "start_time": "2022-03-27T11:06:26.694Z"
   },
   {
    "duration": 13,
    "start_time": "2022-03-27T11:06:34.015Z"
   },
   {
    "duration": 12,
    "start_time": "2022-03-27T11:06:44.785Z"
   },
   {
    "duration": 4811,
    "start_time": "2022-03-27T11:06:57.297Z"
   },
   {
    "duration": 4887,
    "start_time": "2022-03-27T11:07:03.021Z"
   },
   {
    "duration": 12,
    "start_time": "2022-03-27T11:07:08.969Z"
   },
   {
    "duration": 9,
    "start_time": "2022-03-27T11:07:40.632Z"
   },
   {
    "duration": 20,
    "start_time": "2022-03-27T11:07:42.932Z"
   },
   {
    "duration": 17,
    "start_time": "2022-03-27T11:07:55.965Z"
   },
   {
    "duration": 16,
    "start_time": "2022-03-27T11:07:58.826Z"
   },
   {
    "duration": 12,
    "start_time": "2022-03-27T11:08:12.616Z"
   },
   {
    "duration": 15,
    "start_time": "2022-03-27T11:08:22.485Z"
   },
   {
    "duration": 18,
    "start_time": "2022-03-27T11:08:48.269Z"
   },
   {
    "duration": 17,
    "start_time": "2022-03-27T11:08:51.319Z"
   },
   {
    "duration": 20,
    "start_time": "2022-03-27T11:09:18.243Z"
   },
   {
    "duration": 15,
    "start_time": "2022-03-27T11:09:43.517Z"
   },
   {
    "duration": 14,
    "start_time": "2022-03-27T11:10:46.062Z"
   },
   {
    "duration": 15,
    "start_time": "2022-03-27T11:10:54.133Z"
   },
   {
    "duration": 206,
    "start_time": "2022-03-27T11:11:14.595Z"
   },
   {
    "duration": 13,
    "start_time": "2022-03-27T11:11:24.903Z"
   },
   {
    "duration": 14,
    "start_time": "2022-03-27T11:11:36.281Z"
   },
   {
    "duration": 213,
    "start_time": "2022-03-27T11:11:38.236Z"
   },
   {
    "duration": 199,
    "start_time": "2022-03-27T11:11:52.376Z"
   },
   {
    "duration": 240,
    "start_time": "2022-03-27T11:11:58.432Z"
   },
   {
    "duration": 206,
    "start_time": "2022-03-27T11:12:03.492Z"
   },
   {
    "duration": 208,
    "start_time": "2022-03-27T11:12:05.784Z"
   },
   {
    "duration": 17,
    "start_time": "2022-03-27T11:12:36.358Z"
   },
   {
    "duration": 17,
    "start_time": "2022-03-27T11:13:05.211Z"
   },
   {
    "duration": 205,
    "start_time": "2022-03-27T11:13:26.013Z"
   },
   {
    "duration": 16,
    "start_time": "2022-03-27T11:13:37.179Z"
   },
   {
    "duration": 13,
    "start_time": "2022-03-27T11:13:41.958Z"
   },
   {
    "duration": 10,
    "start_time": "2022-03-27T11:14:07.412Z"
   },
   {
    "duration": 13,
    "start_time": "2022-03-27T11:14:10.750Z"
   },
   {
    "duration": 17,
    "start_time": "2022-03-27T11:14:23.846Z"
   },
   {
    "duration": 25,
    "start_time": "2022-03-27T11:14:58.358Z"
   },
   {
    "duration": 19,
    "start_time": "2022-03-27T11:15:06.851Z"
   },
   {
    "duration": 16,
    "start_time": "2022-03-27T11:15:11.565Z"
   },
   {
    "duration": 17,
    "start_time": "2022-03-27T11:15:24.566Z"
   },
   {
    "duration": 13,
    "start_time": "2022-03-27T11:15:29.300Z"
   },
   {
    "duration": 21,
    "start_time": "2022-03-27T11:15:43.958Z"
   },
   {
    "duration": 25,
    "start_time": "2022-03-27T11:15:58.990Z"
   },
   {
    "duration": 27,
    "start_time": "2022-03-27T11:16:12.038Z"
   },
   {
    "duration": 19,
    "start_time": "2022-03-27T11:16:31.238Z"
   },
   {
    "duration": 19,
    "start_time": "2022-03-27T11:16:52.150Z"
   },
   {
    "duration": 18,
    "start_time": "2022-03-27T11:17:27.567Z"
   },
   {
    "duration": 22,
    "start_time": "2022-03-27T11:17:34.267Z"
   },
   {
    "duration": 25,
    "start_time": "2022-03-27T11:32:12.221Z"
   },
   {
    "duration": 75,
    "start_time": "2022-03-27T11:32:26.378Z"
   },
   {
    "duration": 19857,
    "start_time": "2022-03-27T11:35:05.734Z"
   },
   {
    "duration": 20,
    "start_time": "2022-03-27T11:36:19.360Z"
   },
   {
    "duration": 26,
    "start_time": "2022-03-27T11:36:54.113Z"
   },
   {
    "duration": 19,
    "start_time": "2022-03-27T11:37:42.442Z"
   },
   {
    "duration": 18,
    "start_time": "2022-03-27T11:37:44.884Z"
   },
   {
    "duration": 19,
    "start_time": "2022-03-27T11:37:50.897Z"
   },
   {
    "duration": 19,
    "start_time": "2022-03-27T11:38:35.889Z"
   },
   {
    "duration": 40,
    "start_time": "2022-03-27T11:41:22.280Z"
   },
   {
    "duration": 19,
    "start_time": "2022-03-27T11:42:32.216Z"
   },
   {
    "duration": 20,
    "start_time": "2022-03-27T11:43:13.830Z"
   },
   {
    "duration": 22,
    "start_time": "2022-03-27T11:45:14.745Z"
   },
   {
    "duration": 26,
    "start_time": "2022-03-27T11:45:18.003Z"
   },
   {
    "duration": 68,
    "start_time": "2022-03-27T11:45:22.191Z"
   },
   {
    "duration": 79,
    "start_time": "2022-03-27T11:45:30.925Z"
   },
   {
    "duration": 81,
    "start_time": "2022-03-27T11:45:44.788Z"
   },
   {
    "duration": 105,
    "start_time": "2022-03-27T11:45:50.240Z"
   },
   {
    "duration": 63,
    "start_time": "2022-03-27T11:45:54.750Z"
   },
   {
    "duration": 19,
    "start_time": "2022-03-27T11:46:08.873Z"
   },
   {
    "duration": 3178,
    "start_time": "2022-03-27T11:46:44.066Z"
   },
   {
    "duration": 21,
    "start_time": "2022-03-27T11:46:47.562Z"
   },
   {
    "duration": 18,
    "start_time": "2022-03-27T11:46:49.099Z"
   },
   {
    "duration": 20,
    "start_time": "2022-03-27T11:46:56.656Z"
   },
   {
    "duration": 3271,
    "start_time": "2022-03-27T11:47:06.507Z"
   },
   {
    "duration": 18,
    "start_time": "2022-03-27T11:47:14.641Z"
   },
   {
    "duration": 21,
    "start_time": "2022-03-27T11:47:28.085Z"
   },
   {
    "duration": 3259,
    "start_time": "2022-03-27T11:48:13.476Z"
   },
   {
    "duration": 3495,
    "start_time": "2022-03-27T11:48:18.623Z"
   },
   {
    "duration": 8,
    "start_time": "2022-03-27T11:48:38.812Z"
   },
   {
    "duration": 27,
    "start_time": "2022-03-27T11:49:26.462Z"
   },
   {
    "duration": 205,
    "start_time": "2022-03-27T11:50:22.834Z"
   },
   {
    "duration": 17,
    "start_time": "2022-03-27T11:50:26.411Z"
   },
   {
    "duration": 78,
    "start_time": "2022-03-27T11:50:35.195Z"
   },
   {
    "duration": 20,
    "start_time": "2022-03-27T11:53:44.438Z"
   },
   {
    "duration": 62,
    "start_time": "2022-03-27T11:53:48.353Z"
   },
   {
    "duration": 6,
    "start_time": "2022-03-27T11:54:40.553Z"
   },
   {
    "duration": 18,
    "start_time": "2022-03-27T11:54:44.922Z"
   },
   {
    "duration": 57,
    "start_time": "2022-03-27T11:54:59.039Z"
   },
   {
    "duration": 77,
    "start_time": "2022-03-27T11:55:07.410Z"
   },
   {
    "duration": 65,
    "start_time": "2022-03-27T11:55:19.265Z"
   },
   {
    "duration": 1540,
    "start_time": "2022-03-27T11:55:37.645Z"
   },
   {
    "duration": 1401,
    "start_time": "2022-03-27T11:55:39.187Z"
   },
   {
    "duration": 13,
    "start_time": "2022-03-27T11:55:40.590Z"
   },
   {
    "duration": 47,
    "start_time": "2022-03-27T11:55:40.607Z"
   },
   {
    "duration": 40,
    "start_time": "2022-03-27T11:55:40.656Z"
   },
   {
    "duration": 70,
    "start_time": "2022-03-27T11:56:21.276Z"
   },
   {
    "duration": 23,
    "start_time": "2022-03-27T11:56:52.355Z"
   },
   {
    "duration": 23,
    "start_time": "2022-03-27T11:58:11.475Z"
   },
   {
    "duration": 252,
    "start_time": "2022-03-27T11:58:30.043Z"
   },
   {
    "duration": 13,
    "start_time": "2022-03-27T11:58:33.271Z"
   },
   {
    "duration": 14,
    "start_time": "2022-03-27T11:58:45.095Z"
   },
   {
    "duration": 23,
    "start_time": "2022-03-27T11:58:51.137Z"
   },
   {
    "duration": 21,
    "start_time": "2022-03-27T11:58:52.230Z"
   },
   {
    "duration": 50,
    "start_time": "2022-03-27T12:00:56.774Z"
   },
   {
    "duration": 31,
    "start_time": "2022-03-27T12:01:00.826Z"
   },
   {
    "duration": 31,
    "start_time": "2022-03-27T12:01:02.421Z"
   },
   {
    "duration": 65,
    "start_time": "2022-03-27T12:01:29.721Z"
   },
   {
    "duration": 10,
    "start_time": "2022-03-27T12:02:58.652Z"
   },
   {
    "duration": 12,
    "start_time": "2022-03-27T12:03:03.819Z"
   },
   {
    "duration": 12,
    "start_time": "2022-03-27T12:03:11.053Z"
   },
   {
    "duration": 11,
    "start_time": "2022-03-27T12:03:16.026Z"
   },
   {
    "duration": 12,
    "start_time": "2022-03-27T12:03:18.103Z"
   },
   {
    "duration": 1547,
    "start_time": "2022-03-27T12:03:25.660Z"
   },
   {
    "duration": 1115,
    "start_time": "2022-03-27T12:03:27.210Z"
   },
   {
    "duration": 13,
    "start_time": "2022-03-27T12:03:28.344Z"
   },
   {
    "duration": 26,
    "start_time": "2022-03-27T12:03:28.360Z"
   },
   {
    "duration": 54,
    "start_time": "2022-03-27T12:03:28.388Z"
   },
   {
    "duration": 12,
    "start_time": "2022-03-27T12:03:28.445Z"
   },
   {
    "duration": 27,
    "start_time": "2022-03-27T12:03:41.710Z"
   },
   {
    "duration": 14,
    "start_time": "2022-03-27T12:04:02.867Z"
   },
   {
    "duration": 37,
    "start_time": "2022-03-27T12:04:37.846Z"
   },
   {
    "duration": 36,
    "start_time": "2022-03-27T12:04:46.267Z"
   },
   {
    "duration": 277,
    "start_time": "2022-03-27T12:05:01.152Z"
   },
   {
    "duration": 27,
    "start_time": "2022-03-27T12:05:05.165Z"
   },
   {
    "duration": 26,
    "start_time": "2022-03-27T12:05:21.964Z"
   },
   {
    "duration": 33,
    "start_time": "2022-03-27T12:05:26.743Z"
   },
   {
    "duration": 9,
    "start_time": "2022-03-27T12:05:33.014Z"
   },
   {
    "duration": 36,
    "start_time": "2022-03-27T12:17:06.823Z"
   },
   {
    "duration": 1889,
    "start_time": "2022-03-27T12:17:19.421Z"
   },
   {
    "duration": 1179,
    "start_time": "2022-03-27T12:17:21.314Z"
   },
   {
    "duration": 13,
    "start_time": "2022-03-27T12:17:22.496Z"
   },
   {
    "duration": 71,
    "start_time": "2022-03-27T12:17:22.513Z"
   },
   {
    "duration": 32,
    "start_time": "2022-03-27T12:17:22.590Z"
   },
   {
    "duration": 39,
    "start_time": "2022-03-27T12:17:22.625Z"
   },
   {
    "duration": 177,
    "start_time": "2022-03-27T12:18:29.835Z"
   },
   {
    "duration": 13,
    "start_time": "2022-03-27T12:18:37.981Z"
   },
   {
    "duration": 12,
    "start_time": "2022-03-27T12:19:07.468Z"
   },
   {
    "duration": 9,
    "start_time": "2022-03-27T12:19:33.059Z"
   },
   {
    "duration": 5,
    "start_time": "2022-03-27T12:19:48.725Z"
   },
   {
    "duration": 2812,
    "start_time": "2022-03-27T12:19:54.193Z"
   },
   {
    "duration": 3685,
    "start_time": "2022-03-27T12:20:28.953Z"
   },
   {
    "duration": 34,
    "start_time": "2022-03-27T12:20:37.057Z"
   },
   {
    "duration": 2468,
    "start_time": "2022-03-27T12:20:48.453Z"
   },
   {
    "duration": 1242,
    "start_time": "2022-03-27T12:20:50.924Z"
   },
   {
    "duration": 16,
    "start_time": "2022-03-27T12:20:52.169Z"
   },
   {
    "duration": 37,
    "start_time": "2022-03-27T12:20:52.188Z"
   },
   {
    "duration": 38,
    "start_time": "2022-03-27T12:20:52.228Z"
   },
   {
    "duration": 35,
    "start_time": "2022-03-27T12:20:52.269Z"
   },
   {
    "duration": 14,
    "start_time": "2022-03-27T12:20:52.307Z"
   },
   {
    "duration": 34,
    "start_time": "2022-03-27T12:21:42.337Z"
   },
   {
    "duration": 1765,
    "start_time": "2022-03-27T12:22:07.333Z"
   },
   {
    "duration": 1420,
    "start_time": "2022-03-27T12:22:09.101Z"
   },
   {
    "duration": 36,
    "start_time": "2022-03-27T12:22:10.523Z"
   },
   {
    "duration": 40,
    "start_time": "2022-03-27T12:22:10.565Z"
   },
   {
    "duration": 22,
    "start_time": "2022-03-27T12:22:10.607Z"
   },
   {
    "duration": 28,
    "start_time": "2022-03-27T12:22:10.631Z"
   },
   {
    "duration": 35,
    "start_time": "2022-03-27T12:22:10.662Z"
   },
   {
    "duration": 1749,
    "start_time": "2022-03-27T12:22:30.480Z"
   },
   {
    "duration": 1079,
    "start_time": "2022-03-27T12:22:32.232Z"
   },
   {
    "duration": 31,
    "start_time": "2022-03-27T12:22:33.313Z"
   },
   {
    "duration": 33,
    "start_time": "2022-03-27T12:22:33.352Z"
   },
   {
    "duration": 31,
    "start_time": "2022-03-27T12:22:33.389Z"
   },
   {
    "duration": 34,
    "start_time": "2022-03-27T12:22:33.422Z"
   },
   {
    "duration": 182,
    "start_time": "2022-03-27T12:22:33.459Z"
   },
   {
    "duration": 11,
    "start_time": "2022-03-27T12:23:03.227Z"
   },
   {
    "duration": 25,
    "start_time": "2022-03-27T12:23:40.856Z"
   },
   {
    "duration": 35,
    "start_time": "2022-03-27T12:23:42.529Z"
   },
   {
    "duration": 1681,
    "start_time": "2022-03-27T12:23:50.209Z"
   },
   {
    "duration": 1194,
    "start_time": "2022-03-27T12:23:51.893Z"
   },
   {
    "duration": 16,
    "start_time": "2022-03-27T12:23:53.089Z"
   },
   {
    "duration": 44,
    "start_time": "2022-03-27T12:23:53.110Z"
   },
   {
    "duration": 60,
    "start_time": "2022-03-27T12:23:53.156Z"
   },
   {
    "duration": 15,
    "start_time": "2022-03-27T12:23:53.219Z"
   },
   {
    "duration": 20,
    "start_time": "2022-03-27T12:23:53.236Z"
   },
   {
    "duration": 12,
    "start_time": "2022-03-27T12:31:27.132Z"
   },
   {
    "duration": 87,
    "start_time": "2022-03-27T12:31:32.492Z"
   },
   {
    "duration": 1425,
    "start_time": "2022-03-27T12:31:40.460Z"
   },
   {
    "duration": 1026,
    "start_time": "2022-03-27T12:31:41.888Z"
   },
   {
    "duration": 12,
    "start_time": "2022-03-27T12:31:42.916Z"
   },
   {
    "duration": 38,
    "start_time": "2022-03-27T12:31:42.932Z"
   },
   {
    "duration": 22,
    "start_time": "2022-03-27T12:31:42.973Z"
   },
   {
    "duration": 13,
    "start_time": "2022-03-27T12:31:42.997Z"
   },
   {
    "duration": 8,
    "start_time": "2022-03-27T12:31:43.013Z"
   },
   {
    "duration": 177,
    "start_time": "2022-03-27T12:31:43.023Z"
   },
   {
    "duration": 11,
    "start_time": "2022-03-27T12:32:01.926Z"
   },
   {
    "duration": 9,
    "start_time": "2022-03-27T12:32:07.656Z"
   },
   {
    "duration": 7,
    "start_time": "2022-03-27T12:32:13.343Z"
   },
   {
    "duration": 7,
    "start_time": "2022-03-27T12:32:39.922Z"
   },
   {
    "duration": 11,
    "start_time": "2022-03-27T12:32:47.380Z"
   },
   {
    "duration": 19,
    "start_time": "2022-03-27T12:33:02.264Z"
   },
   {
    "duration": 28,
    "start_time": "2022-03-27T12:33:55.740Z"
   },
   {
    "duration": 1434,
    "start_time": "2022-03-27T12:34:30.919Z"
   },
   {
    "duration": 970,
    "start_time": "2022-03-27T12:34:32.356Z"
   },
   {
    "duration": 13,
    "start_time": "2022-03-27T12:34:33.328Z"
   },
   {
    "duration": 39,
    "start_time": "2022-03-27T12:34:33.343Z"
   },
   {
    "duration": 21,
    "start_time": "2022-03-27T12:34:33.385Z"
   },
   {
    "duration": 13,
    "start_time": "2022-03-27T12:34:33.408Z"
   },
   {
    "duration": 46,
    "start_time": "2022-03-27T12:34:33.423Z"
   },
   {
    "duration": 1359,
    "start_time": "2022-03-27T12:35:19.796Z"
   },
   {
    "duration": 894,
    "start_time": "2022-03-27T12:35:21.158Z"
   },
   {
    "duration": 13,
    "start_time": "2022-03-27T12:35:22.068Z"
   },
   {
    "duration": 19,
    "start_time": "2022-03-27T12:35:22.084Z"
   },
   {
    "duration": 22,
    "start_time": "2022-03-27T12:35:22.105Z"
   },
   {
    "duration": 50,
    "start_time": "2022-03-27T12:35:22.129Z"
   },
   {
    "duration": 4,
    "start_time": "2022-03-27T12:35:22.181Z"
   },
   {
    "duration": 1394,
    "start_time": "2022-03-27T12:35:38.691Z"
   },
   {
    "duration": 930,
    "start_time": "2022-03-27T12:35:40.088Z"
   },
   {
    "duration": 13,
    "start_time": "2022-03-27T12:35:41.021Z"
   },
   {
    "duration": 45,
    "start_time": "2022-03-27T12:35:41.036Z"
   },
   {
    "duration": 21,
    "start_time": "2022-03-27T12:35:41.084Z"
   },
   {
    "duration": 13,
    "start_time": "2022-03-27T12:35:41.107Z"
   },
   {
    "duration": 4,
    "start_time": "2022-03-27T12:35:41.122Z"
   },
   {
    "duration": 20,
    "start_time": "2022-03-27T12:36:09.951Z"
   },
   {
    "duration": 6,
    "start_time": "2022-03-27T12:36:25.375Z"
   },
   {
    "duration": 165,
    "start_time": "2022-03-27T12:36:33.809Z"
   },
   {
    "duration": 19,
    "start_time": "2022-03-27T12:36:40.585Z"
   },
   {
    "duration": 1413,
    "start_time": "2022-03-27T12:36:45.272Z"
   },
   {
    "duration": 942,
    "start_time": "2022-03-27T12:36:46.688Z"
   },
   {
    "duration": 12,
    "start_time": "2022-03-27T12:36:47.632Z"
   },
   {
    "duration": 32,
    "start_time": "2022-03-27T12:36:47.647Z"
   },
   {
    "duration": 23,
    "start_time": "2022-03-27T12:36:47.681Z"
   },
   {
    "duration": 13,
    "start_time": "2022-03-27T12:36:47.706Z"
   },
   {
    "duration": 5,
    "start_time": "2022-03-27T12:36:47.721Z"
   },
   {
    "duration": 146,
    "start_time": "2022-03-27T12:37:05.745Z"
   },
   {
    "duration": 20,
    "start_time": "2022-03-27T12:37:11.398Z"
   },
   {
    "duration": 1413,
    "start_time": "2022-03-27T12:37:17.171Z"
   },
   {
    "duration": 1060,
    "start_time": "2022-03-27T12:37:18.587Z"
   },
   {
    "duration": 24,
    "start_time": "2022-03-27T12:37:19.650Z"
   },
   {
    "duration": 16,
    "start_time": "2022-03-27T12:37:19.677Z"
   },
   {
    "duration": 21,
    "start_time": "2022-03-27T12:37:19.695Z"
   },
   {
    "duration": 48,
    "start_time": "2022-03-27T12:37:19.719Z"
   },
   {
    "duration": 6,
    "start_time": "2022-03-27T12:37:19.770Z"
   },
   {
    "duration": 10,
    "start_time": "2022-03-27T12:37:25.704Z"
   },
   {
    "duration": 5,
    "start_time": "2022-03-27T12:37:33.940Z"
   },
   {
    "duration": 9,
    "start_time": "2022-03-27T12:37:45.513Z"
   },
   {
    "duration": 12,
    "start_time": "2022-03-27T12:37:48.910Z"
   },
   {
    "duration": 131,
    "start_time": "2022-03-27T12:38:15.108Z"
   },
   {
    "duration": 6,
    "start_time": "2022-03-27T12:38:19.536Z"
   },
   {
    "duration": 17,
    "start_time": "2022-03-27T12:38:22.241Z"
   },
   {
    "duration": 15,
    "start_time": "2022-03-27T12:38:23.692Z"
   },
   {
    "duration": 15,
    "start_time": "2022-03-27T12:38:32.608Z"
   },
   {
    "duration": 1396,
    "start_time": "2022-03-27T12:38:39.992Z"
   },
   {
    "duration": 920,
    "start_time": "2022-03-27T12:38:41.390Z"
   },
   {
    "duration": 13,
    "start_time": "2022-03-27T12:38:42.312Z"
   },
   {
    "duration": 39,
    "start_time": "2022-03-27T12:38:42.329Z"
   },
   {
    "duration": 22,
    "start_time": "2022-03-27T12:38:42.371Z"
   },
   {
    "duration": 15,
    "start_time": "2022-03-27T12:38:42.396Z"
   },
   {
    "duration": 6,
    "start_time": "2022-03-27T12:38:42.414Z"
   },
   {
    "duration": 12,
    "start_time": "2022-03-27T12:38:42.468Z"
   },
   {
    "duration": 3,
    "start_time": "2022-03-27T12:39:46.805Z"
   },
   {
    "duration": 167,
    "start_time": "2022-03-27T12:39:50.760Z"
   },
   {
    "duration": 11,
    "start_time": "2022-03-27T12:40:05.676Z"
   },
   {
    "duration": 13,
    "start_time": "2022-03-27T12:40:07.090Z"
   },
   {
    "duration": 11,
    "start_time": "2022-03-27T12:40:15.861Z"
   },
   {
    "duration": 1620,
    "start_time": "2022-03-27T12:40:21.536Z"
   },
   {
    "duration": 1030,
    "start_time": "2022-03-27T12:40:23.159Z"
   },
   {
    "duration": 49,
    "start_time": "2022-03-27T12:40:24.192Z"
   },
   {
    "duration": 15,
    "start_time": "2022-03-27T12:40:24.246Z"
   },
   {
    "duration": 26,
    "start_time": "2022-03-27T12:40:24.263Z"
   },
   {
    "duration": 15,
    "start_time": "2022-03-27T12:40:24.292Z"
   },
   {
    "duration": 6,
    "start_time": "2022-03-27T12:40:24.309Z"
   },
   {
    "duration": 50,
    "start_time": "2022-03-27T12:40:24.318Z"
   },
   {
    "duration": 146,
    "start_time": "2022-03-27T12:40:24.371Z"
   },
   {
    "duration": 4,
    "start_time": "2022-03-27T12:41:21.096Z"
   },
   {
    "duration": 6,
    "start_time": "2022-03-27T12:41:28.391Z"
   },
   {
    "duration": 24,
    "start_time": "2022-03-27T12:42:31.366Z"
   },
   {
    "duration": 1447,
    "start_time": "2022-03-27T12:42:44.248Z"
   },
   {
    "duration": 920,
    "start_time": "2022-03-27T12:42:45.697Z"
   },
   {
    "duration": 12,
    "start_time": "2022-03-27T12:42:46.619Z"
   },
   {
    "duration": 36,
    "start_time": "2022-03-27T12:42:46.634Z"
   },
   {
    "duration": 23,
    "start_time": "2022-03-27T12:42:46.672Z"
   },
   {
    "duration": 13,
    "start_time": "2022-03-27T12:42:46.697Z"
   },
   {
    "duration": 9,
    "start_time": "2022-03-27T12:42:46.712Z"
   },
   {
    "duration": 11,
    "start_time": "2022-03-27T12:43:21.495Z"
   },
   {
    "duration": 6,
    "start_time": "2022-03-27T12:43:51.263Z"
   },
   {
    "duration": 1396,
    "start_time": "2022-03-27T12:53:53.897Z"
   },
   {
    "duration": 903,
    "start_time": "2022-03-27T12:53:55.296Z"
   },
   {
    "duration": 13,
    "start_time": "2022-03-27T12:53:56.202Z"
   },
   {
    "duration": 16,
    "start_time": "2022-03-27T12:53:56.217Z"
   },
   {
    "duration": 50,
    "start_time": "2022-03-27T12:53:56.236Z"
   },
   {
    "duration": 13,
    "start_time": "2022-03-27T12:53:56.288Z"
   },
   {
    "duration": 8,
    "start_time": "2022-03-27T12:53:56.304Z"
   },
   {
    "duration": 76,
    "start_time": "2022-03-27T12:53:56.314Z"
   },
   {
    "duration": 12,
    "start_time": "2022-03-27T12:58:37.474Z"
   },
   {
    "duration": 18,
    "start_time": "2022-03-27T12:59:27.691Z"
   },
   {
    "duration": 7,
    "start_time": "2022-03-27T13:09:10.091Z"
   },
   {
    "duration": 7,
    "start_time": "2022-03-27T13:09:14.623Z"
   },
   {
    "duration": 7,
    "start_time": "2022-03-27T13:10:48.408Z"
   },
   {
    "duration": 7,
    "start_time": "2022-03-27T13:10:52.381Z"
   },
   {
    "duration": 8,
    "start_time": "2022-03-27T13:10:56.716Z"
   },
   {
    "duration": 200,
    "start_time": "2022-03-27T13:11:43.926Z"
   },
   {
    "duration": 22,
    "start_time": "2022-03-27T13:11:57.329Z"
   },
   {
    "duration": 904,
    "start_time": "2022-03-27T13:12:25.788Z"
   },
   {
    "duration": 29,
    "start_time": "2022-03-27T13:12:42.159Z"
   },
   {
    "duration": 286,
    "start_time": "2022-03-27T13:12:54.893Z"
   },
   {
    "duration": 8,
    "start_time": "2022-03-27T13:16:26.593Z"
   },
   {
    "duration": 8,
    "start_time": "2022-03-27T13:16:29.416Z"
   },
   {
    "duration": 6,
    "start_time": "2022-03-27T13:19:25.910Z"
   },
   {
    "duration": 8,
    "start_time": "2022-03-27T13:19:27.937Z"
   },
   {
    "duration": 52,
    "start_time": "2022-03-27T13:20:03.950Z"
   },
   {
    "duration": 55,
    "start_time": "2022-03-27T13:22:25.557Z"
   },
   {
    "duration": 299,
    "start_time": "2022-03-27T13:22:34.035Z"
   },
   {
    "duration": 275,
    "start_time": "2022-03-27T13:23:16.441Z"
   },
   {
    "duration": 304,
    "start_time": "2022-03-27T13:24:22.533Z"
   },
   {
    "duration": 249,
    "start_time": "2022-03-27T13:24:45.254Z"
   },
   {
    "duration": 392,
    "start_time": "2022-03-27T13:25:36.086Z"
   },
   {
    "duration": 249,
    "start_time": "2022-03-27T13:26:37.993Z"
   },
   {
    "duration": 494,
    "start_time": "2022-03-27T13:27:06.962Z"
   },
   {
    "duration": 577,
    "start_time": "2022-03-27T13:28:18.648Z"
   },
   {
    "duration": 659,
    "start_time": "2022-03-27T13:30:30.021Z"
   },
   {
    "duration": 4,
    "start_time": "2022-03-27T13:33:29.862Z"
   },
   {
    "duration": 586,
    "start_time": "2022-03-27T13:34:07.913Z"
   },
   {
    "duration": 742,
    "start_time": "2022-03-27T13:34:22.855Z"
   },
   {
    "duration": 625,
    "start_time": "2022-03-27T13:35:14.023Z"
   },
   {
    "duration": 335,
    "start_time": "2022-03-27T13:35:37.218Z"
   },
   {
    "duration": 338,
    "start_time": "2022-03-27T13:36:36.171Z"
   },
   {
    "duration": 364,
    "start_time": "2022-03-27T13:36:40.151Z"
   },
   {
    "duration": 305,
    "start_time": "2022-03-27T13:37:43.803Z"
   },
   {
    "duration": 267,
    "start_time": "2022-03-27T13:37:53.138Z"
   },
   {
    "duration": 318,
    "start_time": "2022-03-27T13:38:01.467Z"
   },
   {
    "duration": 87,
    "start_time": "2022-03-27T13:38:42.887Z"
   },
   {
    "duration": 297,
    "start_time": "2022-03-27T13:39:05.648Z"
   },
   {
    "duration": 295,
    "start_time": "2022-03-27T13:39:19.551Z"
   },
   {
    "duration": 307,
    "start_time": "2022-03-27T13:39:41.592Z"
   },
   {
    "duration": 333,
    "start_time": "2022-03-27T13:39:47.558Z"
   },
   {
    "duration": 284,
    "start_time": "2022-03-27T13:41:10.663Z"
   },
   {
    "duration": 292,
    "start_time": "2022-03-27T13:41:38.116Z"
   },
   {
    "duration": 392,
    "start_time": "2022-03-27T13:41:45.047Z"
   },
   {
    "duration": 298,
    "start_time": "2022-03-27T13:41:55.813Z"
   },
   {
    "duration": 280,
    "start_time": "2022-03-27T13:42:08.235Z"
   },
   {
    "duration": 292,
    "start_time": "2022-03-27T13:42:18.051Z"
   },
   {
    "duration": 323,
    "start_time": "2022-03-27T13:42:30.738Z"
   },
   {
    "duration": 354,
    "start_time": "2022-03-27T13:42:35.344Z"
   },
   {
    "duration": 457,
    "start_time": "2022-03-27T13:42:48.043Z"
   },
   {
    "duration": 633,
    "start_time": "2022-03-27T13:43:07.433Z"
   },
   {
    "duration": 339,
    "start_time": "2022-03-27T13:44:08.001Z"
   },
   {
    "duration": 306,
    "start_time": "2022-03-27T13:44:16.885Z"
   },
   {
    "duration": 353,
    "start_time": "2022-03-27T13:44:21.488Z"
   },
   {
    "duration": 371,
    "start_time": "2022-03-27T13:44:25.283Z"
   },
   {
    "duration": 555,
    "start_time": "2022-03-27T13:44:53.963Z"
   },
   {
    "duration": 333,
    "start_time": "2022-03-27T13:45:45.281Z"
   },
   {
    "duration": 12,
    "start_time": "2022-03-27T13:49:05.641Z"
   },
   {
    "duration": 7,
    "start_time": "2022-03-27T13:52:38.746Z"
   },
   {
    "duration": 16,
    "start_time": "2022-03-27T13:52:56.915Z"
   },
   {
    "duration": 22,
    "start_time": "2022-03-27T13:53:09.847Z"
   },
   {
    "duration": 20,
    "start_time": "2022-03-27T13:53:59.731Z"
   },
   {
    "duration": 15,
    "start_time": "2022-03-27T13:54:02.898Z"
   },
   {
    "duration": 263,
    "start_time": "2022-03-27T13:54:15.216Z"
   },
   {
    "duration": 282,
    "start_time": "2022-03-27T13:54:59.806Z"
   },
   {
    "duration": 325,
    "start_time": "2022-03-27T13:56:58.858Z"
   },
   {
    "duration": 30,
    "start_time": "2022-03-27T13:57:43.490Z"
   },
   {
    "duration": 25,
    "start_time": "2022-03-27T13:58:30.064Z"
   },
   {
    "duration": 14,
    "start_time": "2022-03-27T13:59:08.441Z"
   },
   {
    "duration": 273,
    "start_time": "2022-03-27T13:59:12.142Z"
   },
   {
    "duration": 30,
    "start_time": "2022-03-27T13:59:31.917Z"
   },
   {
    "duration": 238,
    "start_time": "2022-03-27T13:59:40.982Z"
   },
   {
    "duration": 250,
    "start_time": "2022-03-27T14:00:31.116Z"
   },
   {
    "duration": 526,
    "start_time": "2022-03-27T14:00:47.360Z"
   },
   {
    "duration": 302,
    "start_time": "2022-03-27T14:01:01.512Z"
   },
   {
    "duration": 235,
    "start_time": "2022-03-27T14:02:08.464Z"
   },
   {
    "duration": 253,
    "start_time": "2022-03-27T14:04:27.234Z"
   },
   {
    "duration": 250,
    "start_time": "2022-03-27T14:04:31.081Z"
   },
   {
    "duration": 267,
    "start_time": "2022-03-27T14:04:35.763Z"
   },
   {
    "duration": 430,
    "start_time": "2022-03-27T14:05:23.207Z"
   },
   {
    "duration": 561,
    "start_time": "2022-03-27T14:05:37.140Z"
   },
   {
    "duration": 265,
    "start_time": "2022-03-27T14:05:49.693Z"
   },
   {
    "duration": 250,
    "start_time": "2022-03-27T14:05:59.793Z"
   },
   {
    "duration": 269,
    "start_time": "2022-03-27T14:07:19.381Z"
   },
   {
    "duration": 372,
    "start_time": "2022-03-27T14:07:26.749Z"
   },
   {
    "duration": 309,
    "start_time": "2022-03-27T14:07:29.862Z"
   },
   {
    "duration": 333,
    "start_time": "2022-03-27T14:07:34.915Z"
   },
   {
    "duration": 274,
    "start_time": "2022-03-27T14:08:15.144Z"
   },
   {
    "duration": 272,
    "start_time": "2022-03-27T14:08:29.903Z"
   },
   {
    "duration": 283,
    "start_time": "2022-03-27T14:08:36.357Z"
   },
   {
    "duration": 258,
    "start_time": "2022-03-27T14:08:40.778Z"
   },
   {
    "duration": 23,
    "start_time": "2022-03-27T14:09:24.892Z"
   },
   {
    "duration": 606,
    "start_time": "2022-03-27T14:12:50.587Z"
   },
   {
    "duration": 872,
    "start_time": "2022-03-27T14:13:05.396Z"
   },
   {
    "duration": 730,
    "start_time": "2022-03-27T14:13:42.966Z"
   },
   {
    "duration": 798,
    "start_time": "2022-03-27T14:13:50.007Z"
   },
   {
    "duration": 652,
    "start_time": "2022-03-27T14:15:11.527Z"
   },
   {
    "duration": 668,
    "start_time": "2022-03-27T14:15:35.408Z"
   },
   {
    "duration": 610,
    "start_time": "2022-03-27T14:15:40.984Z"
   },
   {
    "duration": 620,
    "start_time": "2022-03-27T14:15:59.833Z"
   },
   {
    "duration": 640,
    "start_time": "2022-03-27T14:16:04.528Z"
   },
   {
    "duration": 195,
    "start_time": "2022-03-27T14:16:09.131Z"
   },
   {
    "duration": 202,
    "start_time": "2022-03-27T14:16:14.062Z"
   },
   {
    "duration": 604,
    "start_time": "2022-03-27T14:16:19.538Z"
   },
   {
    "duration": 690,
    "start_time": "2022-03-27T14:16:46.835Z"
   },
   {
    "duration": 748,
    "start_time": "2022-03-27T14:16:57.846Z"
   },
   {
    "duration": 591,
    "start_time": "2022-03-27T14:17:01.697Z"
   },
   {
    "duration": 689,
    "start_time": "2022-03-27T14:17:04.903Z"
   },
   {
    "duration": 743,
    "start_time": "2022-03-27T14:17:30.781Z"
   },
   {
    "duration": 629,
    "start_time": "2022-03-27T14:17:36.448Z"
   },
   {
    "duration": 631,
    "start_time": "2022-03-27T14:17:48.683Z"
   },
   {
    "duration": 12,
    "start_time": "2022-03-27T14:18:15.182Z"
   },
   {
    "duration": 90,
    "start_time": "2022-03-27T14:18:40.381Z"
   },
   {
    "duration": 670,
    "start_time": "2022-03-27T14:18:46.259Z"
   },
   {
    "duration": 829,
    "start_time": "2022-03-27T14:19:08.217Z"
   },
   {
    "duration": 772,
    "start_time": "2022-03-27T14:19:24.305Z"
   },
   {
    "duration": 1097,
    "start_time": "2022-03-27T14:19:30.638Z"
   },
   {
    "duration": 767,
    "start_time": "2022-03-27T14:19:43.584Z"
   },
   {
    "duration": 610,
    "start_time": "2022-03-27T14:19:57.221Z"
   },
   {
    "duration": 363,
    "start_time": "2022-03-27T14:20:02.023Z"
   },
   {
    "duration": 851,
    "start_time": "2022-03-27T14:20:09.682Z"
   },
   {
    "duration": 626,
    "start_time": "2022-03-27T14:21:28.545Z"
   },
   {
    "duration": 707,
    "start_time": "2022-03-27T14:21:36.444Z"
   },
   {
    "duration": 1165,
    "start_time": "2022-03-27T14:22:23.822Z"
   },
   {
    "duration": 1154,
    "start_time": "2022-03-27T14:22:33.936Z"
   },
   {
    "duration": 822,
    "start_time": "2022-03-27T14:22:56.980Z"
   },
   {
    "duration": 975,
    "start_time": "2022-03-27T14:23:03.910Z"
   },
   {
    "duration": 811,
    "start_time": "2022-03-27T14:23:15.395Z"
   },
   {
    "duration": 728,
    "start_time": "2022-03-27T14:23:28.780Z"
   },
   {
    "duration": 789,
    "start_time": "2022-03-27T14:23:37.499Z"
   },
   {
    "duration": 47,
    "start_time": "2022-03-27T14:42:52.252Z"
   },
   {
    "duration": 1488,
    "start_time": "2022-03-27T14:43:00.196Z"
   },
   {
    "duration": 775,
    "start_time": "2022-03-27T14:43:01.686Z"
   },
   {
    "duration": 8,
    "start_time": "2022-03-27T14:43:02.463Z"
   },
   {
    "duration": 17,
    "start_time": "2022-03-27T14:43:02.473Z"
   },
   {
    "duration": 19,
    "start_time": "2022-03-27T14:43:02.492Z"
   },
   {
    "duration": 33,
    "start_time": "2022-03-27T14:43:02.513Z"
   },
   {
    "duration": 7,
    "start_time": "2022-03-27T14:43:02.547Z"
   },
   {
    "duration": 126,
    "start_time": "2022-03-27T14:43:02.555Z"
   },
   {
    "duration": 0,
    "start_time": "2022-03-27T14:43:02.683Z"
   },
   {
    "duration": 1,
    "start_time": "2022-03-27T14:43:02.684Z"
   },
   {
    "duration": 0,
    "start_time": "2022-03-27T14:43:02.685Z"
   },
   {
    "duration": 12,
    "start_time": "2022-03-27T14:43:09.131Z"
   },
   {
    "duration": 18,
    "start_time": "2022-03-27T14:43:24.593Z"
   },
   {
    "duration": 13,
    "start_time": "2022-03-27T14:43:48.324Z"
   },
   {
    "duration": 5,
    "start_time": "2022-03-27T14:55:49.124Z"
   },
   {
    "duration": 7,
    "start_time": "2022-03-27T14:55:59.178Z"
   },
   {
    "duration": 7,
    "start_time": "2022-03-27T14:56:30.500Z"
   },
   {
    "duration": 7,
    "start_time": "2022-03-27T14:57:56.887Z"
   },
   {
    "duration": 2081,
    "start_time": "2022-03-27T15:05:29.842Z"
   },
   {
    "duration": 1914,
    "start_time": "2022-03-27T15:06:56.867Z"
   },
   {
    "duration": 14,
    "start_time": "2022-03-27T15:08:12.643Z"
   },
   {
    "duration": 144,
    "start_time": "2022-03-27T15:08:22.693Z"
   },
   {
    "duration": 446,
    "start_time": "2022-03-27T15:08:59.180Z"
   },
   {
    "duration": 440,
    "start_time": "2022-03-27T15:09:04.983Z"
   },
   {
    "duration": 958,
    "start_time": "2022-03-27T15:09:22.199Z"
   },
   {
    "duration": 1062,
    "start_time": "2022-03-27T15:09:49.012Z"
   },
   {
    "duration": 1485,
    "start_time": "2022-03-27T15:10:06.624Z"
   },
   {
    "duration": 770,
    "start_time": "2022-03-27T15:10:08.111Z"
   },
   {
    "duration": 8,
    "start_time": "2022-03-27T15:10:08.883Z"
   },
   {
    "duration": 12,
    "start_time": "2022-03-27T15:10:08.893Z"
   },
   {
    "duration": 42,
    "start_time": "2022-03-27T15:10:08.907Z"
   },
   {
    "duration": 10,
    "start_time": "2022-03-27T15:10:08.951Z"
   },
   {
    "duration": 6,
    "start_time": "2022-03-27T15:10:08.963Z"
   },
   {
    "duration": 16,
    "start_time": "2022-03-27T15:10:08.971Z"
   },
   {
    "duration": 140,
    "start_time": "2022-03-27T15:10:08.988Z"
   },
   {
    "duration": 0,
    "start_time": "2022-03-27T15:10:09.129Z"
   },
   {
    "duration": 0,
    "start_time": "2022-03-27T15:10:09.138Z"
   },
   {
    "duration": 1451,
    "start_time": "2022-03-27T15:10:31.620Z"
   },
   {
    "duration": 726,
    "start_time": "2022-03-27T15:10:33.073Z"
   },
   {
    "duration": 8,
    "start_time": "2022-03-27T15:10:33.801Z"
   },
   {
    "duration": 31,
    "start_time": "2022-03-27T15:10:33.811Z"
   },
   {
    "duration": 17,
    "start_time": "2022-03-27T15:10:33.843Z"
   },
   {
    "duration": 10,
    "start_time": "2022-03-27T15:10:33.862Z"
   },
   {
    "duration": 6,
    "start_time": "2022-03-27T15:10:33.873Z"
   },
   {
    "duration": 15,
    "start_time": "2022-03-27T15:10:33.881Z"
   },
   {
    "duration": 201,
    "start_time": "2022-03-27T15:10:33.898Z"
   },
   {
    "duration": 565,
    "start_time": "2022-03-27T15:10:34.103Z"
   },
   {
    "duration": 1070,
    "start_time": "2022-03-27T15:10:34.670Z"
   },
   {
    "duration": 105,
    "start_time": "2022-03-27T15:10:53.323Z"
   },
   {
    "duration": 1019,
    "start_time": "2022-03-27T15:11:38.851Z"
   },
   {
    "duration": 979,
    "start_time": "2022-03-27T15:12:06.189Z"
   },
   {
    "duration": 1083,
    "start_time": "2022-03-27T15:12:13.294Z"
   },
   {
    "duration": 1173,
    "start_time": "2022-03-27T15:13:08.594Z"
   },
   {
    "duration": 1123,
    "start_time": "2022-03-27T15:13:22.334Z"
   },
   {
    "duration": 1087,
    "start_time": "2022-03-27T15:14:09.280Z"
   },
   {
    "duration": 1150,
    "start_time": "2022-03-27T15:14:23.626Z"
   },
   {
    "duration": 1170,
    "start_time": "2022-03-27T15:15:00.538Z"
   },
   {
    "duration": 1043,
    "start_time": "2022-03-27T15:15:21.020Z"
   },
   {
    "duration": 1120,
    "start_time": "2022-03-27T15:16:18.170Z"
   },
   {
    "duration": 1346,
    "start_time": "2022-03-27T15:16:28.381Z"
   },
   {
    "duration": 1094,
    "start_time": "2022-03-27T15:17:44.085Z"
   },
   {
    "duration": 1021,
    "start_time": "2022-03-27T15:18:07.949Z"
   },
   {
    "duration": 1103,
    "start_time": "2022-03-27T15:18:19.990Z"
   },
   {
    "duration": 1317,
    "start_time": "2022-03-27T15:18:53.365Z"
   },
   {
    "duration": 1093,
    "start_time": "2022-03-27T15:19:19.288Z"
   },
   {
    "duration": 935,
    "start_time": "2022-03-27T15:19:43.241Z"
   },
   {
    "duration": 980,
    "start_time": "2022-03-27T15:19:47.516Z"
   },
   {
    "duration": 1365,
    "start_time": "2022-03-27T15:19:53.111Z"
   },
   {
    "duration": 1070,
    "start_time": "2022-03-27T15:20:55.192Z"
   },
   {
    "duration": 1043,
    "start_time": "2022-03-27T15:21:03.033Z"
   },
   {
    "duration": 1262,
    "start_time": "2022-03-27T15:21:10.890Z"
   },
   {
    "duration": 1198,
    "start_time": "2022-03-27T15:21:16.891Z"
   },
   {
    "duration": 1106,
    "start_time": "2022-03-27T15:21:23.756Z"
   },
   {
    "duration": 1160,
    "start_time": "2022-03-27T15:21:28.935Z"
   },
   {
    "duration": 1168,
    "start_time": "2022-03-27T15:22:45.401Z"
   },
   {
    "duration": 1103,
    "start_time": "2022-03-27T15:22:55.701Z"
   },
   {
    "duration": 143,
    "start_time": "2022-03-27T16:34:12.385Z"
   },
   {
    "duration": 153,
    "start_time": "2022-03-27T16:35:07.220Z"
   },
   {
    "duration": 139,
    "start_time": "2022-03-27T16:35:56.771Z"
   },
   {
    "duration": 226,
    "start_time": "2022-03-27T16:36:01.983Z"
   },
   {
    "duration": 133,
    "start_time": "2022-03-27T16:36:07.422Z"
   },
   {
    "duration": 7,
    "start_time": "2022-03-27T16:36:10.110Z"
   },
   {
    "duration": 2,
    "start_time": "2022-03-27T16:36:22.884Z"
   },
   {
    "duration": 2210,
    "start_time": "2022-03-28T18:51:04.785Z"
   },
   {
    "duration": 923,
    "start_time": "2022-03-28T18:51:06.998Z"
   },
   {
    "duration": 12,
    "start_time": "2022-03-28T18:51:07.923Z"
   },
   {
    "duration": 15,
    "start_time": "2022-03-28T18:51:07.938Z"
   },
   {
    "duration": 20,
    "start_time": "2022-03-28T18:51:07.982Z"
   },
   {
    "duration": 12,
    "start_time": "2022-03-28T18:51:08.004Z"
   },
   {
    "duration": 8,
    "start_time": "2022-03-28T18:51:08.018Z"
   },
   {
    "duration": 64,
    "start_time": "2022-03-28T18:51:08.029Z"
   },
   {
    "duration": 259,
    "start_time": "2022-03-28T18:51:08.095Z"
   },
   {
    "duration": 751,
    "start_time": "2022-03-28T18:51:08.357Z"
   },
   {
    "duration": 1509,
    "start_time": "2022-03-28T18:51:09.111Z"
   },
   {
    "duration": 7,
    "start_time": "2022-03-28T18:51:10.622Z"
   },
   {
    "duration": 7,
    "start_time": "2022-03-28T18:51:10.631Z"
   },
   {
    "duration": 163,
    "start_time": "2022-03-28T19:04:14.133Z"
   },
   {
    "duration": 2016,
    "start_time": "2022-03-28T19:04:22.276Z"
   },
   {
    "duration": 1026,
    "start_time": "2022-03-28T19:04:24.295Z"
   },
   {
    "duration": 14,
    "start_time": "2022-03-28T19:04:25.324Z"
   },
   {
    "duration": 51,
    "start_time": "2022-03-28T19:04:25.341Z"
   },
   {
    "duration": 47,
    "start_time": "2022-03-28T19:04:25.396Z"
   },
   {
    "duration": 41,
    "start_time": "2022-03-28T19:04:25.447Z"
   },
   {
    "duration": 22,
    "start_time": "2022-03-28T19:04:25.491Z"
   },
   {
    "duration": 36,
    "start_time": "2022-03-28T19:04:25.516Z"
   },
   {
    "duration": 282,
    "start_time": "2022-03-28T19:04:25.554Z"
   },
   {
    "duration": 685,
    "start_time": "2022-03-28T19:04:25.841Z"
   },
   {
    "duration": 1607,
    "start_time": "2022-03-28T19:04:26.528Z"
   },
   {
    "duration": 6,
    "start_time": "2022-03-28T19:04:28.138Z"
   },
   {
    "duration": 163,
    "start_time": "2022-03-28T19:04:28.146Z"
   },
   {
    "duration": 24,
    "start_time": "2022-03-28T19:06:12.835Z"
   },
   {
    "duration": 20,
    "start_time": "2022-03-28T19:06:15.532Z"
   },
   {
    "duration": 37,
    "start_time": "2022-03-28T19:07:17.777Z"
   },
   {
    "duration": 19,
    "start_time": "2022-03-28T19:07:30.958Z"
   },
   {
    "duration": 20,
    "start_time": "2022-03-28T19:07:35.691Z"
   },
   {
    "duration": 17,
    "start_time": "2022-03-28T19:07:38.348Z"
   },
   {
    "duration": 18,
    "start_time": "2022-03-28T19:07:42.021Z"
   },
   {
    "duration": 18,
    "start_time": "2022-03-28T19:07:47.006Z"
   },
   {
    "duration": 24,
    "start_time": "2022-03-28T19:07:55.239Z"
   },
   {
    "duration": 17,
    "start_time": "2022-03-28T19:07:58.677Z"
   },
   {
    "duration": 17,
    "start_time": "2022-03-28T19:08:02.484Z"
   },
   {
    "duration": 18,
    "start_time": "2022-03-28T19:08:05.433Z"
   },
   {
    "duration": 18,
    "start_time": "2022-03-28T19:08:07.616Z"
   },
   {
    "duration": 19,
    "start_time": "2022-03-28T19:08:12.075Z"
   },
   {
    "duration": 1803,
    "start_time": "2022-03-28T19:08:19.378Z"
   },
   {
    "duration": 857,
    "start_time": "2022-03-28T19:08:21.184Z"
   },
   {
    "duration": 13,
    "start_time": "2022-03-28T19:08:22.043Z"
   },
   {
    "duration": 35,
    "start_time": "2022-03-28T19:08:22.060Z"
   },
   {
    "duration": 25,
    "start_time": "2022-03-28T19:08:22.098Z"
   },
   {
    "duration": 14,
    "start_time": "2022-03-28T19:08:22.125Z"
   },
   {
    "duration": 43,
    "start_time": "2022-03-28T19:08:22.141Z"
   },
   {
    "duration": 24,
    "start_time": "2022-03-28T19:08:22.186Z"
   },
   {
    "duration": 293,
    "start_time": "2022-03-28T19:08:22.213Z"
   },
   {
    "duration": 665,
    "start_time": "2022-03-28T19:08:22.510Z"
   },
   {
    "duration": 1486,
    "start_time": "2022-03-28T19:08:23.182Z"
   },
   {
    "duration": 15,
    "start_time": "2022-03-28T19:08:24.670Z"
   },
   {
    "duration": 59,
    "start_time": "2022-03-28T19:08:24.687Z"
   },
   {
    "duration": 182,
    "start_time": "2022-03-28T19:09:20.534Z"
   },
   {
    "duration": 17,
    "start_time": "2022-03-28T19:10:08.386Z"
   },
   {
    "duration": 19,
    "start_time": "2022-03-28T19:10:17.522Z"
   },
   {
    "duration": 18,
    "start_time": "2022-03-28T19:10:25.325Z"
   },
   {
    "duration": 16,
    "start_time": "2022-03-28T19:11:08.584Z"
   },
   {
    "duration": 18,
    "start_time": "2022-03-28T19:11:49.647Z"
   },
   {
    "duration": 38,
    "start_time": "2022-03-28T19:11:58.127Z"
   },
   {
    "duration": 29,
    "start_time": "2022-03-28T19:12:03.540Z"
   },
   {
    "duration": 2034,
    "start_time": "2022-03-28T19:12:41.533Z"
   },
   {
    "duration": 864,
    "start_time": "2022-03-28T19:12:43.570Z"
   },
   {
    "duration": 12,
    "start_time": "2022-03-28T19:12:44.436Z"
   },
   {
    "duration": 36,
    "start_time": "2022-03-28T19:12:44.451Z"
   },
   {
    "duration": 26,
    "start_time": "2022-03-28T19:12:44.489Z"
   },
   {
    "duration": 12,
    "start_time": "2022-03-28T19:12:44.517Z"
   },
   {
    "duration": 9,
    "start_time": "2022-03-28T19:12:44.531Z"
   },
   {
    "duration": 49,
    "start_time": "2022-03-28T19:12:44.541Z"
   },
   {
    "duration": 254,
    "start_time": "2022-03-28T19:12:44.592Z"
   },
   {
    "duration": 632,
    "start_time": "2022-03-28T19:12:44.850Z"
   },
   {
    "duration": 1477,
    "start_time": "2022-03-28T19:12:45.485Z"
   },
   {
    "duration": 6,
    "start_time": "2022-03-28T19:12:46.964Z"
   },
   {
    "duration": 32,
    "start_time": "2022-03-28T19:12:46.981Z"
   },
   {
    "duration": 18,
    "start_time": "2022-03-28T19:13:35.872Z"
   },
   {
    "duration": 30,
    "start_time": "2022-03-28T19:13:43.409Z"
   },
   {
    "duration": 155,
    "start_time": "2022-03-28T19:13:56.384Z"
   },
   {
    "duration": 8,
    "start_time": "2022-03-28T19:13:58.842Z"
   },
   {
    "duration": 31,
    "start_time": "2022-03-28T19:14:00.275Z"
   },
   {
    "duration": 24,
    "start_time": "2022-03-28T19:15:59.111Z"
   },
   {
    "duration": 13,
    "start_time": "2022-03-28T19:16:19.731Z"
   },
   {
    "duration": 32,
    "start_time": "2022-03-28T19:16:28.921Z"
   },
   {
    "duration": 30,
    "start_time": "2022-03-28T19:16:44.856Z"
   },
   {
    "duration": 2336,
    "start_time": "2022-03-28T19:16:52.382Z"
   },
   {
    "duration": 968,
    "start_time": "2022-03-28T19:16:54.721Z"
   },
   {
    "duration": 23,
    "start_time": "2022-03-28T19:16:55.691Z"
   },
   {
    "duration": 17,
    "start_time": "2022-03-28T19:16:55.718Z"
   },
   {
    "duration": 22,
    "start_time": "2022-03-28T19:16:55.737Z"
   },
   {
    "duration": 13,
    "start_time": "2022-03-28T19:16:55.761Z"
   },
   {
    "duration": 12,
    "start_time": "2022-03-28T19:16:55.776Z"
   },
   {
    "duration": 26,
    "start_time": "2022-03-28T19:16:55.790Z"
   },
   {
    "duration": 296,
    "start_time": "2022-03-28T19:16:55.818Z"
   },
   {
    "duration": 777,
    "start_time": "2022-03-28T19:16:56.118Z"
   },
   {
    "duration": 1598,
    "start_time": "2022-03-28T19:16:56.898Z"
   },
   {
    "duration": 6,
    "start_time": "2022-03-28T19:16:58.498Z"
   },
   {
    "duration": 45,
    "start_time": "2022-03-28T19:16:58.506Z"
   },
   {
    "duration": 40,
    "start_time": "2022-03-28T19:16:58.554Z"
   },
   {
    "duration": 24,
    "start_time": "2022-03-28T19:16:58.597Z"
   },
   {
    "duration": 32,
    "start_time": "2022-03-28T19:16:58.624Z"
   },
   {
    "duration": 32,
    "start_time": "2022-03-28T19:18:02.556Z"
   },
   {
    "duration": 150,
    "start_time": "2022-03-28T19:19:49.732Z"
   },
   {
    "duration": 12,
    "start_time": "2022-03-28T19:19:56.098Z"
   },
   {
    "duration": 9,
    "start_time": "2022-03-28T19:20:17.117Z"
   },
   {
    "duration": 33,
    "start_time": "2022-03-28T19:21:41.924Z"
   },
   {
    "duration": 36,
    "start_time": "2022-03-28T19:21:52.437Z"
   },
   {
    "duration": 101,
    "start_time": "2022-03-28T19:26:31.992Z"
   },
   {
    "duration": 4,
    "start_time": "2022-03-28T19:32:54.225Z"
   },
   {
    "duration": 5,
    "start_time": "2022-03-28T19:34:03.495Z"
   },
   {
    "duration": 7259,
    "start_time": "2022-03-28T19:35:55.867Z"
   },
   {
    "duration": 5,
    "start_time": "2022-03-28T19:47:57.682Z"
   },
   {
    "duration": 30,
    "start_time": "2022-03-28T19:52:12.844Z"
   },
   {
    "duration": 5,
    "start_time": "2022-03-28T19:56:04.415Z"
   },
   {
    "duration": 14554,
    "start_time": "2022-03-28T19:56:07.080Z"
   },
   {
    "duration": 8,
    "start_time": "2022-03-28T19:57:05.320Z"
   },
   {
    "duration": 14,
    "start_time": "2022-03-28T19:57:13.560Z"
   },
   {
    "duration": 9,
    "start_time": "2022-03-28T19:57:22.747Z"
   },
   {
    "duration": 5,
    "start_time": "2022-03-28T19:57:36.778Z"
   },
   {
    "duration": 5,
    "start_time": "2022-03-28T19:57:39.448Z"
   },
   {
    "duration": 6,
    "start_time": "2022-03-28T19:57:41.542Z"
   },
   {
    "duration": 7,
    "start_time": "2022-03-28T19:57:44.351Z"
   },
   {
    "duration": 6,
    "start_time": "2022-03-28T19:57:46.497Z"
   },
   {
    "duration": 6,
    "start_time": "2022-03-28T19:57:48.847Z"
   },
   {
    "duration": 5,
    "start_time": "2022-03-28T19:57:52.311Z"
   },
   {
    "duration": 5,
    "start_time": "2022-03-28T19:57:56.471Z"
   },
   {
    "duration": 5,
    "start_time": "2022-03-28T20:01:38.301Z"
   },
   {
    "duration": 10,
    "start_time": "2022-03-28T20:01:56.417Z"
   },
   {
    "duration": 10,
    "start_time": "2022-03-28T20:01:58.578Z"
   },
   {
    "duration": 11,
    "start_time": "2022-03-28T20:02:07.492Z"
   },
   {
    "duration": 10,
    "start_time": "2022-03-28T20:02:09.526Z"
   },
   {
    "duration": 10,
    "start_time": "2022-03-28T20:02:34.602Z"
   },
   {
    "duration": 9,
    "start_time": "2022-03-28T20:02:39.690Z"
   },
   {
    "duration": 7,
    "start_time": "2022-03-28T20:02:41.131Z"
   },
   {
    "duration": 7,
    "start_time": "2022-03-28T20:02:46.787Z"
   },
   {
    "duration": 1938,
    "start_time": "2022-03-28T20:03:05.700Z"
   },
   {
    "duration": 886,
    "start_time": "2022-03-28T20:03:07.642Z"
   },
   {
    "duration": 12,
    "start_time": "2022-03-28T20:03:08.530Z"
   },
   {
    "duration": 40,
    "start_time": "2022-03-28T20:03:08.544Z"
   },
   {
    "duration": 23,
    "start_time": "2022-03-28T20:03:08.588Z"
   },
   {
    "duration": 11,
    "start_time": "2022-03-28T20:03:08.613Z"
   },
   {
    "duration": 9,
    "start_time": "2022-03-28T20:03:08.626Z"
   },
   {
    "duration": 60,
    "start_time": "2022-03-28T20:03:08.637Z"
   },
   {
    "duration": 263,
    "start_time": "2022-03-28T20:03:08.699Z"
   },
   {
    "duration": 725,
    "start_time": "2022-03-28T20:03:08.965Z"
   },
   {
    "duration": 1524,
    "start_time": "2022-03-28T20:03:09.692Z"
   },
   {
    "duration": 5,
    "start_time": "2022-03-28T20:03:11.219Z"
   },
   {
    "duration": 195,
    "start_time": "2022-03-28T20:03:11.226Z"
   },
   {
    "duration": 0,
    "start_time": "2022-03-28T20:03:11.424Z"
   },
   {
    "duration": 0,
    "start_time": "2022-03-28T20:03:11.426Z"
   },
   {
    "duration": 0,
    "start_time": "2022-03-28T20:03:11.427Z"
   },
   {
    "duration": 0,
    "start_time": "2022-03-28T20:03:11.429Z"
   },
   {
    "duration": 1858,
    "start_time": "2022-03-28T20:03:34.046Z"
   },
   {
    "duration": 876,
    "start_time": "2022-03-28T20:03:35.907Z"
   },
   {
    "duration": 12,
    "start_time": "2022-03-28T20:03:36.785Z"
   },
   {
    "duration": 16,
    "start_time": "2022-03-28T20:03:36.800Z"
   },
   {
    "duration": 21,
    "start_time": "2022-03-28T20:03:36.818Z"
   },
   {
    "duration": 47,
    "start_time": "2022-03-28T20:03:36.841Z"
   },
   {
    "duration": 9,
    "start_time": "2022-03-28T20:03:36.890Z"
   },
   {
    "duration": 20,
    "start_time": "2022-03-28T20:03:36.902Z"
   },
   {
    "duration": 290,
    "start_time": "2022-03-28T20:03:36.924Z"
   },
   {
    "duration": 684,
    "start_time": "2022-03-28T20:03:37.217Z"
   },
   {
    "duration": 1517,
    "start_time": "2022-03-28T20:03:37.904Z"
   },
   {
    "duration": 5,
    "start_time": "2022-03-28T20:03:39.423Z"
   },
   {
    "duration": 44,
    "start_time": "2022-03-28T20:03:39.431Z"
   },
   {
    "duration": 39,
    "start_time": "2022-03-28T20:03:39.478Z"
   },
   {
    "duration": 26,
    "start_time": "2022-03-28T20:03:39.519Z"
   },
   {
    "duration": 24,
    "start_time": "2022-03-28T20:03:39.547Z"
   },
   {
    "duration": 168,
    "start_time": "2022-03-28T20:06:00.189Z"
   },
   {
    "duration": 6,
    "start_time": "2022-03-28T20:06:27.936Z"
   },
   {
    "duration": 9,
    "start_time": "2022-03-28T20:06:32.521Z"
   },
   {
    "duration": 10,
    "start_time": "2022-03-28T20:06:37.814Z"
   },
   {
    "duration": 12,
    "start_time": "2022-03-28T20:06:45.587Z"
   },
   {
    "duration": 9,
    "start_time": "2022-03-28T20:07:34.776Z"
   },
   {
    "duration": 13264,
    "start_time": "2022-03-28T20:07:43.547Z"
   },
   {
    "duration": 1884,
    "start_time": "2022-03-28T20:08:06.043Z"
   },
   {
    "duration": 871,
    "start_time": "2022-03-28T20:08:07.930Z"
   },
   {
    "duration": 13,
    "start_time": "2022-03-28T20:08:08.805Z"
   },
   {
    "duration": 16,
    "start_time": "2022-03-28T20:08:08.822Z"
   },
   {
    "duration": 57,
    "start_time": "2022-03-28T20:08:08.840Z"
   },
   {
    "duration": 13,
    "start_time": "2022-03-28T20:08:08.900Z"
   },
   {
    "duration": 10,
    "start_time": "2022-03-28T20:08:08.915Z"
   },
   {
    "duration": 59,
    "start_time": "2022-03-28T20:08:08.928Z"
   },
   {
    "duration": 273,
    "start_time": "2022-03-28T20:08:08.990Z"
   },
   {
    "duration": 713,
    "start_time": "2022-03-28T20:08:09.269Z"
   },
   {
    "duration": 1529,
    "start_time": "2022-03-28T20:08:09.985Z"
   },
   {
    "duration": 7,
    "start_time": "2022-03-28T20:08:11.516Z"
   },
   {
    "duration": 24,
    "start_time": "2022-03-28T20:08:11.525Z"
   },
   {
    "duration": 73,
    "start_time": "2022-03-28T20:08:11.551Z"
   },
   {
    "duration": 9,
    "start_time": "2022-03-28T20:08:11.627Z"
   },
   {
    "duration": 13141,
    "start_time": "2022-03-28T20:08:11.639Z"
   },
   {
    "duration": 19,
    "start_time": "2022-03-28T20:13:04.590Z"
   },
   {
    "duration": 150,
    "start_time": "2022-03-28T20:39:54.975Z"
   },
   {
    "duration": 7,
    "start_time": "2022-03-28T20:40:01.756Z"
   },
   {
    "duration": 6,
    "start_time": "2022-03-28T20:55:27.754Z"
   },
   {
    "duration": 7,
    "start_time": "2022-03-28T20:55:34.924Z"
   },
   {
    "duration": 8,
    "start_time": "2022-03-28T20:55:56.578Z"
   },
   {
    "duration": 10,
    "start_time": "2022-03-28T20:55:59.432Z"
   },
   {
    "duration": 8,
    "start_time": "2022-03-28T20:56:10.026Z"
   },
   {
    "duration": 8,
    "start_time": "2022-03-28T20:56:16.291Z"
   },
   {
    "duration": 7,
    "start_time": "2022-03-28T20:56:24.270Z"
   },
   {
    "duration": 6,
    "start_time": "2022-03-28T20:56:28.398Z"
   },
   {
    "duration": 8,
    "start_time": "2022-03-28T20:56:34.928Z"
   },
   {
    "duration": 3,
    "start_time": "2022-03-28T21:07:22.048Z"
   },
   {
    "duration": 2165,
    "start_time": "2022-03-28T21:07:29.283Z"
   },
   {
    "duration": 916,
    "start_time": "2022-03-28T21:07:31.450Z"
   },
   {
    "duration": 13,
    "start_time": "2022-03-28T21:07:32.383Z"
   },
   {
    "duration": 16,
    "start_time": "2022-03-28T21:07:32.399Z"
   },
   {
    "duration": 42,
    "start_time": "2022-03-28T21:07:32.417Z"
   },
   {
    "duration": 28,
    "start_time": "2022-03-28T21:07:32.461Z"
   },
   {
    "duration": 16,
    "start_time": "2022-03-28T21:07:32.492Z"
   },
   {
    "duration": 29,
    "start_time": "2022-03-28T21:07:32.510Z"
   },
   {
    "duration": 289,
    "start_time": "2022-03-28T21:07:32.542Z"
   },
   {
    "duration": 775,
    "start_time": "2022-03-28T21:07:32.835Z"
   },
   {
    "duration": 1724,
    "start_time": "2022-03-28T21:07:33.612Z"
   },
   {
    "duration": 5,
    "start_time": "2022-03-28T21:07:35.339Z"
   },
   {
    "duration": 206,
    "start_time": "2022-03-28T21:07:35.347Z"
   },
   {
    "duration": 0,
    "start_time": "2022-03-28T21:07:35.555Z"
   },
   {
    "duration": 0,
    "start_time": "2022-03-28T21:07:35.556Z"
   },
   {
    "duration": 0,
    "start_time": "2022-03-28T21:07:35.558Z"
   },
   {
    "duration": 15,
    "start_time": "2022-03-28T21:09:01.502Z"
   },
   {
    "duration": 1942,
    "start_time": "2022-03-28T21:10:14.013Z"
   },
   {
    "duration": 930,
    "start_time": "2022-03-28T21:10:15.958Z"
   },
   {
    "duration": 15,
    "start_time": "2022-03-28T21:10:16.890Z"
   },
   {
    "duration": 17,
    "start_time": "2022-03-28T21:10:16.908Z"
   },
   {
    "duration": 58,
    "start_time": "2022-03-28T21:10:16.927Z"
   },
   {
    "duration": 13,
    "start_time": "2022-03-28T21:10:16.988Z"
   },
   {
    "duration": 7,
    "start_time": "2022-03-28T21:10:17.003Z"
   },
   {
    "duration": 24,
    "start_time": "2022-03-28T21:10:17.013Z"
   },
   {
    "duration": 265,
    "start_time": "2022-03-28T21:10:17.083Z"
   },
   {
    "duration": 652,
    "start_time": "2022-03-28T21:10:17.352Z"
   },
   {
    "duration": 1728,
    "start_time": "2022-03-28T21:10:18.006Z"
   },
   {
    "duration": 5,
    "start_time": "2022-03-28T21:10:19.737Z"
   },
   {
    "duration": 76,
    "start_time": "2022-03-28T21:10:19.744Z"
   },
   {
    "duration": 7,
    "start_time": "2022-03-28T21:10:19.822Z"
   },
   {
    "duration": 10,
    "start_time": "2022-03-28T21:10:19.831Z"
   },
   {
    "duration": 5,
    "start_time": "2022-03-28T21:15:45.321Z"
   },
   {
    "duration": 12624,
    "start_time": "2022-03-28T21:15:56.818Z"
   },
   {
    "duration": 14212,
    "start_time": "2022-03-28T21:17:22.407Z"
   },
   {
    "duration": 7,
    "start_time": "2022-03-28T21:22:35.810Z"
   },
   {
    "duration": 7,
    "start_time": "2022-03-28T21:23:01.467Z"
   },
   {
    "duration": 8,
    "start_time": "2022-03-28T21:23:12.552Z"
   },
   {
    "duration": 7,
    "start_time": "2022-03-28T21:23:33.411Z"
   },
   {
    "duration": 177,
    "start_time": "2022-03-28T21:29:53.615Z"
   },
   {
    "duration": 2158,
    "start_time": "2022-03-28T21:49:36.896Z"
   },
   {
    "duration": 1003,
    "start_time": "2022-03-28T21:49:39.056Z"
   },
   {
    "duration": 28,
    "start_time": "2022-03-28T21:49:40.062Z"
   },
   {
    "duration": 18,
    "start_time": "2022-03-28T21:49:40.094Z"
   },
   {
    "duration": 30,
    "start_time": "2022-03-28T21:49:40.115Z"
   },
   {
    "duration": 46,
    "start_time": "2022-03-28T21:49:40.148Z"
   },
   {
    "duration": 7,
    "start_time": "2022-03-28T21:49:40.197Z"
   },
   {
    "duration": 23,
    "start_time": "2022-03-28T21:49:40.206Z"
   },
   {
    "duration": 318,
    "start_time": "2022-03-28T21:49:40.232Z"
   },
   {
    "duration": 1070,
    "start_time": "2022-03-28T21:49:40.555Z"
   },
   {
    "duration": 2179,
    "start_time": "2022-03-28T21:49:41.629Z"
   },
   {
    "duration": 6,
    "start_time": "2022-03-28T21:49:43.811Z"
   },
   {
    "duration": 77,
    "start_time": "2022-03-28T21:49:43.820Z"
   },
   {
    "duration": 11,
    "start_time": "2022-03-28T21:49:43.900Z"
   },
   {
    "duration": 115980,
    "start_time": "2022-03-28T21:49:43.913Z"
   },
   {
    "duration": 193557,
    "start_time": "2022-03-28T22:09:59.818Z"
   },
   {
    "duration": 1867,
    "start_time": "2022-03-28T22:25:14.946Z"
   },
   {
    "duration": 920,
    "start_time": "2022-03-28T22:25:16.816Z"
   },
   {
    "duration": 12,
    "start_time": "2022-03-28T22:25:17.739Z"
   },
   {
    "duration": 35,
    "start_time": "2022-03-28T22:25:17.754Z"
   },
   {
    "duration": 39,
    "start_time": "2022-03-28T22:25:17.791Z"
   },
   {
    "duration": 21,
    "start_time": "2022-03-28T22:25:17.832Z"
   },
   {
    "duration": 18,
    "start_time": "2022-03-28T22:25:17.856Z"
   },
   {
    "duration": 65,
    "start_time": "2022-03-28T22:25:17.876Z"
   },
   {
    "duration": 242,
    "start_time": "2022-03-28T22:25:17.944Z"
   },
   {
    "duration": 685,
    "start_time": "2022-03-28T22:25:18.189Z"
   },
   {
    "duration": 1522,
    "start_time": "2022-03-28T22:25:18.881Z"
   },
   {
    "duration": 5,
    "start_time": "2022-03-28T22:25:20.405Z"
   },
   {
    "duration": 72,
    "start_time": "2022-03-28T22:25:20.412Z"
   },
   {
    "duration": 8,
    "start_time": "2022-03-28T22:25:20.486Z"
   },
   {
    "duration": 122557,
    "start_time": "2022-03-28T22:25:20.496Z"
   },
   {
    "duration": 158,
    "start_time": "2022-03-28T22:27:23.056Z"
   },
   {
    "duration": 0,
    "start_time": "2022-03-28T22:27:23.216Z"
   },
   {
    "duration": 423,
    "start_time": "2022-03-28T22:39:40.497Z"
   },
   {
    "duration": 2040,
    "start_time": "2022-03-28T22:39:49.053Z"
   },
   {
    "duration": 1642,
    "start_time": "2022-03-28T22:40:00.647Z"
   },
   {
    "duration": 3,
    "start_time": "2022-03-28T22:41:24.576Z"
   },
   {
    "duration": 8,
    "start_time": "2022-03-28T22:41:29.808Z"
   },
   {
    "duration": 4,
    "start_time": "2022-03-28T22:41:35.037Z"
   },
   {
    "duration": 6,
    "start_time": "2022-03-28T22:42:56.147Z"
   },
   {
    "duration": 9,
    "start_time": "2022-03-28T22:43:18.017Z"
   },
   {
    "duration": 8,
    "start_time": "2022-03-28T22:43:25.288Z"
   },
   {
    "duration": 33,
    "start_time": "2022-03-28T22:43:59.678Z"
   },
   {
    "duration": 12,
    "start_time": "2022-03-28T22:45:00.207Z"
   },
   {
    "duration": 13,
    "start_time": "2022-03-28T22:45:03.167Z"
   },
   {
    "duration": 33,
    "start_time": "2022-03-28T22:45:35.238Z"
   },
   {
    "duration": 2045,
    "start_time": "2022-03-29T15:29:06.410Z"
   },
   {
    "duration": 862,
    "start_time": "2022-03-29T15:29:08.459Z"
   },
   {
    "duration": 11,
    "start_time": "2022-03-29T15:29:09.323Z"
   },
   {
    "duration": 14,
    "start_time": "2022-03-29T15:29:09.336Z"
   },
   {
    "duration": 17,
    "start_time": "2022-03-29T15:29:09.352Z"
   },
   {
    "duration": 35,
    "start_time": "2022-03-29T15:29:09.371Z"
   },
   {
    "duration": 5,
    "start_time": "2022-03-29T15:29:09.408Z"
   },
   {
    "duration": 25,
    "start_time": "2022-03-29T15:29:09.415Z"
   },
   {
    "duration": 268,
    "start_time": "2022-03-29T15:29:09.442Z"
   },
   {
    "duration": 841,
    "start_time": "2022-03-29T15:29:09.713Z"
   },
   {
    "duration": 1530,
    "start_time": "2022-03-29T15:29:10.556Z"
   },
   {
    "duration": 5,
    "start_time": "2022-03-29T15:29:12.089Z"
   },
   {
    "duration": 77,
    "start_time": "2022-03-29T15:29:12.096Z"
   },
   {
    "duration": 11,
    "start_time": "2022-03-29T15:29:12.177Z"
   },
   {
    "duration": 37,
    "start_time": "2022-03-29T15:29:12.190Z"
   },
   {
    "duration": 132702,
    "start_time": "2022-03-29T15:29:12.229Z"
   },
   {
    "duration": 2009,
    "start_time": "2022-03-29T15:31:24.933Z"
   },
   {
    "duration": 2956,
    "start_time": "2022-03-29T15:31:26.944Z"
   },
   {
    "duration": 41,
    "start_time": "2022-03-29T15:31:29.903Z"
   },
   {
    "duration": 1910,
    "start_time": "2022-03-29T15:41:12.835Z"
   },
   {
    "duration": 962,
    "start_time": "2022-03-29T15:41:14.747Z"
   },
   {
    "duration": 15,
    "start_time": "2022-03-29T15:41:15.714Z"
   },
   {
    "duration": 18,
    "start_time": "2022-03-29T15:41:15.732Z"
   },
   {
    "duration": 24,
    "start_time": "2022-03-29T15:41:15.753Z"
   },
   {
    "duration": 18,
    "start_time": "2022-03-29T15:41:15.810Z"
   },
   {
    "duration": 7,
    "start_time": "2022-03-29T15:41:15.830Z"
   },
   {
    "duration": 17,
    "start_time": "2022-03-29T15:41:15.839Z"
   },
   {
    "duration": 241,
    "start_time": "2022-03-29T15:41:15.858Z"
   },
   {
    "duration": 583,
    "start_time": "2022-03-29T15:41:16.112Z"
   },
   {
    "duration": 1325,
    "start_time": "2022-03-29T15:41:16.697Z"
   },
   {
    "duration": 4,
    "start_time": "2022-03-29T15:41:18.024Z"
   },
   {
    "duration": 80,
    "start_time": "2022-03-29T15:41:18.030Z"
   },
   {
    "duration": 15,
    "start_time": "2022-03-29T15:41:18.113Z"
   },
   {
    "duration": 13,
    "start_time": "2022-03-29T15:41:18.130Z"
   },
   {
    "duration": 94009,
    "start_time": "2022-03-29T15:41:18.146Z"
   },
   {
    "duration": 193356,
    "start_time": "2022-03-29T15:42:52.157Z"
   },
   {
    "duration": 2129,
    "start_time": "2022-03-29T15:46:05.516Z"
   },
   {
    "duration": 3283,
    "start_time": "2022-03-29T15:46:07.647Z"
   },
   {
    "duration": 208,
    "start_time": "2022-03-29T15:46:10.932Z"
   },
   {
    "duration": 256792,
    "start_time": "2022-03-29T15:47:20.190Z"
   },
   {
    "duration": 99971,
    "start_time": "2022-03-29T16:04:12.961Z"
   },
   {
    "duration": 121,
    "start_time": "2022-03-29T16:09:38.131Z"
   },
   {
    "duration": 20,
    "start_time": "2022-03-29T16:09:57.852Z"
   },
   {
    "duration": 81989,
    "start_time": "2022-03-29T16:10:48.695Z"
   },
   {
    "duration": 5,
    "start_time": "2022-03-29T16:21:17.190Z"
   },
   {
    "duration": 39,
    "start_time": "2022-03-29T16:31:46.515Z"
   },
   {
    "duration": 37,
    "start_time": "2022-03-29T16:31:54.518Z"
   },
   {
    "duration": 38,
    "start_time": "2022-03-29T16:32:59.524Z"
   },
   {
    "duration": 55,
    "start_time": "2022-03-29T16:33:43.210Z"
   },
   {
    "duration": 49,
    "start_time": "2022-03-29T16:33:48.786Z"
   },
   {
    "duration": 39,
    "start_time": "2022-03-29T16:33:51.687Z"
   },
   {
    "duration": 2160,
    "start_time": "2022-03-29T16:44:52.788Z"
   },
   {
    "duration": 874,
    "start_time": "2022-03-29T16:44:54.950Z"
   },
   {
    "duration": 12,
    "start_time": "2022-03-29T16:44:55.826Z"
   },
   {
    "duration": 41,
    "start_time": "2022-03-29T16:44:55.841Z"
   },
   {
    "duration": 21,
    "start_time": "2022-03-29T16:44:55.884Z"
   },
   {
    "duration": 11,
    "start_time": "2022-03-29T16:44:55.907Z"
   },
   {
    "duration": 5,
    "start_time": "2022-03-29T16:44:55.920Z"
   },
   {
    "duration": 23,
    "start_time": "2022-03-29T16:44:55.927Z"
   },
   {
    "duration": 260,
    "start_time": "2022-03-29T16:44:55.982Z"
   },
   {
    "duration": 913,
    "start_time": "2022-03-29T16:44:56.246Z"
   },
   {
    "duration": 1630,
    "start_time": "2022-03-29T16:44:57.161Z"
   },
   {
    "duration": 4,
    "start_time": "2022-03-29T16:44:58.793Z"
   },
   {
    "duration": 89,
    "start_time": "2022-03-29T16:44:58.799Z"
   },
   {
    "duration": 13,
    "start_time": "2022-03-29T16:44:58.891Z"
   },
   {
    "duration": 21,
    "start_time": "2022-03-29T16:44:58.907Z"
   },
   {
    "duration": 93588,
    "start_time": "2022-03-29T16:44:58.931Z"
   },
   {
    "duration": 2083,
    "start_time": "2022-03-29T16:46:32.522Z"
   },
   {
    "duration": 1980,
    "start_time": "2022-03-29T16:46:34.608Z"
   },
   {
    "duration": 85973,
    "start_time": "2022-03-29T16:46:36.591Z"
   },
   {
    "duration": 57,
    "start_time": "2022-03-29T16:48:02.566Z"
   },
   {
    "duration": 46,
    "start_time": "2022-03-29T16:49:12.318Z"
   },
   {
    "duration": 2322,
    "start_time": "2022-03-29T18:53:44.627Z"
   },
   {
    "duration": 2032,
    "start_time": "2022-03-29T18:54:12.213Z"
   },
   {
    "duration": 928,
    "start_time": "2022-03-29T18:54:14.248Z"
   },
   {
    "duration": 13,
    "start_time": "2022-03-29T18:54:15.178Z"
   },
   {
    "duration": 16,
    "start_time": "2022-03-29T18:54:15.194Z"
   },
   {
    "duration": 48,
    "start_time": "2022-03-29T18:54:15.212Z"
   },
   {
    "duration": 11,
    "start_time": "2022-03-29T18:54:15.262Z"
   },
   {
    "duration": 6,
    "start_time": "2022-03-29T18:54:15.275Z"
   },
   {
    "duration": 60,
    "start_time": "2022-03-29T18:54:15.283Z"
   },
   {
    "duration": 286,
    "start_time": "2022-03-29T18:54:15.345Z"
   },
   {
    "duration": 758,
    "start_time": "2022-03-29T18:54:15.643Z"
   },
   {
    "duration": 1581,
    "start_time": "2022-03-29T18:54:16.403Z"
   },
   {
    "duration": 5,
    "start_time": "2022-03-29T18:54:17.986Z"
   },
   {
    "duration": 74,
    "start_time": "2022-03-29T18:54:17.993Z"
   },
   {
    "duration": 12,
    "start_time": "2022-03-29T18:54:18.069Z"
   },
   {
    "duration": 7,
    "start_time": "2022-03-29T18:54:18.083Z"
   },
   {
    "duration": 90742,
    "start_time": "2022-03-29T18:54:18.092Z"
   },
   {
    "duration": 2124,
    "start_time": "2022-03-29T18:55:48.843Z"
   },
   {
    "duration": 1884,
    "start_time": "2022-03-29T18:55:50.969Z"
   },
   {
    "duration": 89305,
    "start_time": "2022-03-29T18:55:52.856Z"
   },
   {
    "duration": 52,
    "start_time": "2022-03-29T18:57:22.164Z"
   },
   {
    "duration": 89378,
    "start_time": "2022-03-29T18:59:42.014Z"
   },
   {
    "duration": 2101,
    "start_time": "2022-03-29T19:01:34.536Z"
   },
   {
    "duration": 938,
    "start_time": "2022-03-29T19:01:36.642Z"
   },
   {
    "duration": 13,
    "start_time": "2022-03-29T19:01:37.582Z"
   },
   {
    "duration": 32,
    "start_time": "2022-03-29T19:01:37.598Z"
   },
   {
    "duration": 33,
    "start_time": "2022-03-29T19:01:37.643Z"
   },
   {
    "duration": 36,
    "start_time": "2022-03-29T19:01:37.678Z"
   },
   {
    "duration": 24,
    "start_time": "2022-03-29T19:01:37.716Z"
   },
   {
    "duration": 47,
    "start_time": "2022-03-29T19:01:37.742Z"
   },
   {
    "duration": 244,
    "start_time": "2022-03-29T19:01:37.792Z"
   },
   {
    "duration": 730,
    "start_time": "2022-03-29T19:01:38.042Z"
   },
   {
    "duration": 1496,
    "start_time": "2022-03-29T19:01:38.774Z"
   },
   {
    "duration": 4,
    "start_time": "2022-03-29T19:01:40.272Z"
   },
   {
    "duration": 69,
    "start_time": "2022-03-29T19:01:40.278Z"
   },
   {
    "duration": 14,
    "start_time": "2022-03-29T19:01:40.349Z"
   },
   {
    "duration": 91601,
    "start_time": "2022-03-29T19:01:40.365Z"
   },
   {
    "duration": 2186,
    "start_time": "2022-03-29T19:03:11.968Z"
   },
   {
    "duration": 1786,
    "start_time": "2022-03-29T19:03:14.156Z"
   },
   {
    "duration": 93597,
    "start_time": "2022-03-29T19:03:15.946Z"
   },
   {
    "duration": 47,
    "start_time": "2022-03-29T19:04:49.545Z"
   },
   {
    "duration": 8,
    "start_time": "2022-03-29T19:08:24.547Z"
   },
   {
    "duration": 8,
    "start_time": "2022-03-29T19:09:00.606Z"
   },
   {
    "duration": 9,
    "start_time": "2022-03-29T19:09:21.342Z"
   },
   {
    "duration": 9,
    "start_time": "2022-03-29T19:10:31.906Z"
   },
   {
    "duration": 8,
    "start_time": "2022-03-29T19:10:59.557Z"
   },
   {
    "duration": 8,
    "start_time": "2022-03-29T19:12:06.571Z"
   },
   {
    "duration": 6,
    "start_time": "2022-03-29T19:12:25.445Z"
   },
   {
    "duration": 6,
    "start_time": "2022-03-29T19:12:31.369Z"
   },
   {
    "duration": 6,
    "start_time": "2022-03-29T19:13:35.303Z"
   },
   {
    "duration": 8,
    "start_time": "2022-03-29T19:15:58.495Z"
   },
   {
    "duration": 9,
    "start_time": "2022-03-29T19:16:28.666Z"
   },
   {
    "duration": 45,
    "start_time": "2022-03-29T19:17:01.223Z"
   },
   {
    "duration": 5,
    "start_time": "2022-03-29T19:17:22.368Z"
   },
   {
    "duration": 9,
    "start_time": "2022-03-29T19:18:51.366Z"
   },
   {
    "duration": 2037,
    "start_time": "2022-03-29T19:19:05.813Z"
   },
   {
    "duration": 921,
    "start_time": "2022-03-29T19:19:07.852Z"
   },
   {
    "duration": 13,
    "start_time": "2022-03-29T19:19:08.775Z"
   },
   {
    "duration": 16,
    "start_time": "2022-03-29T19:19:08.791Z"
   },
   {
    "duration": 46,
    "start_time": "2022-03-29T19:19:08.809Z"
   },
   {
    "duration": 11,
    "start_time": "2022-03-29T19:19:08.857Z"
   },
   {
    "duration": 6,
    "start_time": "2022-03-29T19:19:08.870Z"
   },
   {
    "duration": 21,
    "start_time": "2022-03-29T19:19:08.878Z"
   },
   {
    "duration": 299,
    "start_time": "2022-03-29T19:19:08.901Z"
   },
   {
    "duration": 746,
    "start_time": "2022-03-29T19:19:09.204Z"
   },
   {
    "duration": 1527,
    "start_time": "2022-03-29T19:19:09.952Z"
   },
   {
    "duration": 5,
    "start_time": "2022-03-29T19:19:11.481Z"
   },
   {
    "duration": 69,
    "start_time": "2022-03-29T19:19:11.489Z"
   },
   {
    "duration": 12,
    "start_time": "2022-03-29T19:19:11.559Z"
   },
   {
    "duration": 7,
    "start_time": "2022-03-29T19:19:11.573Z"
   },
   {
    "duration": 91904,
    "start_time": "2022-03-29T19:19:11.582Z"
   },
   {
    "duration": 2251,
    "start_time": "2022-03-29T19:20:43.488Z"
   },
   {
    "duration": 1800,
    "start_time": "2022-03-29T19:20:45.744Z"
   },
   {
    "duration": 95807,
    "start_time": "2022-03-29T19:20:47.547Z"
   },
   {
    "duration": 50,
    "start_time": "2022-03-29T19:22:23.356Z"
   },
   {
    "duration": 1982,
    "start_time": "2022-03-29T19:47:09.267Z"
   },
   {
    "duration": 978,
    "start_time": "2022-03-29T19:47:11.251Z"
   },
   {
    "duration": 11,
    "start_time": "2022-03-29T19:47:12.243Z"
   },
   {
    "duration": 16,
    "start_time": "2022-03-29T19:47:12.257Z"
   },
   {
    "duration": 22,
    "start_time": "2022-03-29T19:47:12.275Z"
   },
   {
    "duration": 44,
    "start_time": "2022-03-29T19:47:12.299Z"
   },
   {
    "duration": 8,
    "start_time": "2022-03-29T19:47:12.345Z"
   },
   {
    "duration": 31,
    "start_time": "2022-03-29T19:47:12.355Z"
   },
   {
    "duration": 313,
    "start_time": "2022-03-29T19:47:12.388Z"
   },
   {
    "duration": 686,
    "start_time": "2022-03-29T19:47:12.704Z"
   },
   {
    "duration": 1496,
    "start_time": "2022-03-29T19:47:13.392Z"
   },
   {
    "duration": 4,
    "start_time": "2022-03-29T19:47:14.890Z"
   },
   {
    "duration": 74,
    "start_time": "2022-03-29T19:47:14.896Z"
   },
   {
    "duration": 13,
    "start_time": "2022-03-29T19:47:14.973Z"
   },
   {
    "duration": 8,
    "start_time": "2022-03-29T19:47:14.988Z"
   },
   {
    "duration": 91587,
    "start_time": "2022-03-29T19:47:14.998Z"
   },
   {
    "duration": 2217,
    "start_time": "2022-03-29T19:48:46.587Z"
   },
   {
    "duration": 1844,
    "start_time": "2022-03-29T19:48:48.806Z"
   },
   {
    "duration": 1870,
    "start_time": "2022-03-29T19:54:56.101Z"
   },
   {
    "duration": 840,
    "start_time": "2022-03-29T19:54:57.974Z"
   },
   {
    "duration": 21,
    "start_time": "2022-03-29T19:54:58.816Z"
   },
   {
    "duration": 17,
    "start_time": "2022-03-29T19:54:58.839Z"
   },
   {
    "duration": 29,
    "start_time": "2022-03-29T19:54:58.857Z"
   },
   {
    "duration": 10,
    "start_time": "2022-03-29T19:54:58.888Z"
   },
   {
    "duration": 16,
    "start_time": "2022-03-29T19:54:58.900Z"
   },
   {
    "duration": 26,
    "start_time": "2022-03-29T19:54:58.918Z"
   },
   {
    "duration": 201,
    "start_time": "2022-03-29T19:54:58.945Z"
   },
   {
    "duration": 591,
    "start_time": "2022-03-29T19:54:59.149Z"
   },
   {
    "duration": 1375,
    "start_time": "2022-03-29T19:54:59.742Z"
   },
   {
    "duration": 12,
    "start_time": "2022-03-29T19:55:01.120Z"
   },
   {
    "duration": 49,
    "start_time": "2022-03-29T19:55:01.134Z"
   },
   {
    "duration": 12,
    "start_time": "2022-03-29T19:55:01.185Z"
   },
   {
    "duration": 37,
    "start_time": "2022-03-29T19:55:01.199Z"
   },
   {
    "duration": 78183,
    "start_time": "2022-03-29T19:55:01.237Z"
   },
   {
    "duration": 1830,
    "start_time": "2022-03-29T19:56:19.421Z"
   },
   {
    "duration": 1784,
    "start_time": "2022-03-29T19:56:21.252Z"
   },
   {
    "duration": 75870,
    "start_time": "2022-03-29T19:56:23.040Z"
   },
   {
    "duration": 50,
    "start_time": "2022-03-29T19:57:38.912Z"
   },
   {
    "duration": 48,
    "start_time": "2022-03-30T19:59:09.137Z"
   },
   {
    "duration": 1509,
    "start_time": "2022-03-30T19:59:20.927Z"
   },
   {
    "duration": 707,
    "start_time": "2022-03-30T19:59:22.438Z"
   },
   {
    "duration": 9,
    "start_time": "2022-03-30T19:59:23.147Z"
   },
   {
    "duration": 11,
    "start_time": "2022-03-30T19:59:23.158Z"
   },
   {
    "duration": 53,
    "start_time": "2022-03-30T19:59:23.171Z"
   },
   {
    "duration": 10,
    "start_time": "2022-03-30T19:59:23.226Z"
   },
   {
    "duration": 4,
    "start_time": "2022-03-30T19:59:23.237Z"
   },
   {
    "duration": 15,
    "start_time": "2022-03-30T19:59:23.244Z"
   },
   {
    "duration": 195,
    "start_time": "2022-03-30T19:59:23.261Z"
   },
   {
    "duration": 114,
    "start_time": "2022-03-30T19:59:23.458Z"
   },
   {
    "duration": 0,
    "start_time": "2022-03-30T19:59:23.573Z"
   },
   {
    "duration": 0,
    "start_time": "2022-03-30T19:59:23.574Z"
   },
   {
    "duration": 0,
    "start_time": "2022-03-30T19:59:23.575Z"
   },
   {
    "duration": 0,
    "start_time": "2022-03-30T19:59:23.576Z"
   },
   {
    "duration": 0,
    "start_time": "2022-03-30T19:59:23.577Z"
   },
   {
    "duration": 0,
    "start_time": "2022-03-30T19:59:23.578Z"
   },
   {
    "duration": 0,
    "start_time": "2022-03-30T19:59:23.579Z"
   },
   {
    "duration": 0,
    "start_time": "2022-03-30T19:59:23.580Z"
   },
   {
    "duration": 0,
    "start_time": "2022-03-30T19:59:23.581Z"
   },
   {
    "duration": 0,
    "start_time": "2022-03-30T19:59:23.582Z"
   },
   {
    "duration": 0,
    "start_time": "2022-03-30T19:59:23.583Z"
   },
   {
    "duration": 1333,
    "start_time": "2022-03-30T19:59:57.474Z"
   },
   {
    "duration": 674,
    "start_time": "2022-03-30T19:59:58.808Z"
   },
   {
    "duration": 7,
    "start_time": "2022-03-30T19:59:59.484Z"
   },
   {
    "duration": 11,
    "start_time": "2022-03-30T19:59:59.508Z"
   },
   {
    "duration": 12,
    "start_time": "2022-03-30T19:59:59.521Z"
   },
   {
    "duration": 10,
    "start_time": "2022-03-30T19:59:59.535Z"
   },
   {
    "duration": 3,
    "start_time": "2022-03-30T19:59:59.547Z"
   },
   {
    "duration": 16,
    "start_time": "2022-03-30T19:59:59.551Z"
   },
   {
    "duration": 210,
    "start_time": "2022-03-30T19:59:59.568Z"
   },
   {
    "duration": 229,
    "start_time": "2022-03-30T19:59:59.780Z"
   },
   {
    "duration": 0,
    "start_time": "2022-03-30T20:00:00.011Z"
   },
   {
    "duration": 0,
    "start_time": "2022-03-30T20:00:00.012Z"
   },
   {
    "duration": 0,
    "start_time": "2022-03-30T20:00:00.013Z"
   },
   {
    "duration": 0,
    "start_time": "2022-03-30T20:00:00.014Z"
   },
   {
    "duration": 0,
    "start_time": "2022-03-30T20:00:00.015Z"
   },
   {
    "duration": 0,
    "start_time": "2022-03-30T20:00:00.016Z"
   },
   {
    "duration": 0,
    "start_time": "2022-03-30T20:00:00.017Z"
   },
   {
    "duration": 0,
    "start_time": "2022-03-30T20:00:00.018Z"
   },
   {
    "duration": 0,
    "start_time": "2022-03-30T20:00:00.020Z"
   },
   {
    "duration": 0,
    "start_time": "2022-03-30T20:00:00.021Z"
   },
   {
    "duration": 0,
    "start_time": "2022-03-30T20:00:00.022Z"
   },
   {
    "duration": 4,
    "start_time": "2022-03-30T20:00:12.755Z"
   },
   {
    "duration": 132,
    "start_time": "2022-03-30T20:00:16.525Z"
   },
   {
    "duration": 165,
    "start_time": "2022-03-30T20:00:38.664Z"
   },
   {
    "duration": 1368,
    "start_time": "2022-03-30T20:03:43.303Z"
   },
   {
    "duration": 206,
    "start_time": "2022-03-30T20:04:22.385Z"
   },
   {
    "duration": 3,
    "start_time": "2022-03-30T20:10:34.223Z"
   },
   {
    "duration": 116,
    "start_time": "2022-03-30T20:11:15.277Z"
   },
   {
    "duration": 119,
    "start_time": "2022-03-30T20:11:22.758Z"
   },
   {
    "duration": 110,
    "start_time": "2022-03-30T20:11:25.441Z"
   },
   {
    "duration": 144,
    "start_time": "2022-03-30T20:11:41.972Z"
   },
   {
    "duration": 129,
    "start_time": "2022-03-30T20:13:33.595Z"
   },
   {
    "duration": 130,
    "start_time": "2022-03-30T20:13:44.630Z"
   },
   {
    "duration": 56,
    "start_time": "2022-03-30T20:14:29.752Z"
   },
   {
    "duration": 123,
    "start_time": "2022-03-30T20:14:37.063Z"
   },
   {
    "duration": 124,
    "start_time": "2022-03-30T20:14:50.789Z"
   },
   {
    "duration": 489,
    "start_time": "2022-03-30T20:14:54.204Z"
   },
   {
    "duration": 149,
    "start_time": "2022-03-30T20:15:01.186Z"
   },
   {
    "duration": 122,
    "start_time": "2022-03-30T20:16:16.213Z"
   },
   {
    "duration": 97,
    "start_time": "2022-03-30T20:16:52.330Z"
   },
   {
    "duration": 148,
    "start_time": "2022-03-30T20:17:04.955Z"
   },
   {
    "duration": 147,
    "start_time": "2022-03-30T20:17:16.817Z"
   },
   {
    "duration": 130,
    "start_time": "2022-03-30T20:17:29.020Z"
   },
   {
    "duration": 118,
    "start_time": "2022-03-30T20:17:38.455Z"
   },
   {
    "duration": 122,
    "start_time": "2022-03-30T20:17:42.988Z"
   },
   {
    "duration": 136,
    "start_time": "2022-03-30T20:18:29.851Z"
   },
   {
    "duration": 125,
    "start_time": "2022-03-30T20:18:51.146Z"
   },
   {
    "duration": 149,
    "start_time": "2022-03-30T20:19:35.053Z"
   },
   {
    "duration": 153,
    "start_time": "2022-03-30T20:19:56.300Z"
   },
   {
    "duration": 277,
    "start_time": "2022-03-30T20:20:05.720Z"
   },
   {
    "duration": 160,
    "start_time": "2022-03-30T20:22:06.838Z"
   },
   {
    "duration": 158,
    "start_time": "2022-03-30T20:24:06.481Z"
   },
   {
    "duration": 127,
    "start_time": "2022-03-30T20:24:11.233Z"
   },
   {
    "duration": 67,
    "start_time": "2022-03-30T20:24:16.922Z"
   },
   {
    "duration": 172,
    "start_time": "2022-03-30T20:24:23.678Z"
   },
   {
    "duration": 175,
    "start_time": "2022-03-30T20:25:31.066Z"
   },
   {
    "duration": 165,
    "start_time": "2022-03-30T20:27:10.047Z"
   },
   {
    "duration": 178,
    "start_time": "2022-03-30T20:27:32.796Z"
   },
   {
    "duration": 159,
    "start_time": "2022-03-30T20:27:48.417Z"
   },
   {
    "duration": 183,
    "start_time": "2022-03-30T20:28:18.761Z"
   },
   {
    "duration": 348,
    "start_time": "2022-03-30T20:29:25.042Z"
   },
   {
    "duration": 520,
    "start_time": "2022-03-30T20:30:54.079Z"
   },
   {
    "duration": 400,
    "start_time": "2022-03-30T20:30:58.255Z"
   },
   {
    "duration": 367,
    "start_time": "2022-03-30T20:31:03.472Z"
   },
   {
    "duration": 382,
    "start_time": "2022-03-30T20:31:16.638Z"
   },
   {
    "duration": 590,
    "start_time": "2022-03-30T20:42:58.180Z"
   },
   {
    "duration": 10,
    "start_time": "2022-03-30T20:52:10.131Z"
   },
   {
    "duration": 21,
    "start_time": "2022-03-30T20:52:21.283Z"
   },
   {
    "duration": 1392,
    "start_time": "2022-03-30T20:52:57.617Z"
   },
   {
    "duration": 800,
    "start_time": "2022-03-30T20:52:59.011Z"
   },
   {
    "duration": 8,
    "start_time": "2022-03-30T20:52:59.815Z"
   },
   {
    "duration": 10,
    "start_time": "2022-03-30T20:52:59.825Z"
   },
   {
    "duration": 18,
    "start_time": "2022-03-30T20:52:59.837Z"
   },
   {
    "duration": 12,
    "start_time": "2022-03-30T20:52:59.857Z"
   },
   {
    "duration": 39,
    "start_time": "2022-03-30T20:52:59.870Z"
   },
   {
    "duration": 16,
    "start_time": "2022-03-30T20:52:59.911Z"
   },
   {
    "duration": 191,
    "start_time": "2022-03-30T20:52:59.930Z"
   },
   {
    "duration": 594,
    "start_time": "2022-03-30T20:53:00.122Z"
   },
   {
    "duration": 604,
    "start_time": "2022-03-30T20:53:00.718Z"
   },
   {
    "duration": 1226,
    "start_time": "2022-03-30T20:53:01.323Z"
   },
   {
    "duration": 3,
    "start_time": "2022-03-30T20:53:02.551Z"
   },
   {
    "duration": 29,
    "start_time": "2022-03-30T20:53:02.556Z"
   },
   {
    "duration": 37,
    "start_time": "2022-03-30T20:53:02.586Z"
   },
   {
    "duration": 11,
    "start_time": "2022-03-30T20:53:02.625Z"
   },
   {
    "duration": 6,
    "start_time": "2022-03-30T20:53:02.637Z"
   },
   {
    "duration": 143,
    "start_time": "2022-03-30T20:53:02.644Z"
   },
   {
    "duration": 0,
    "start_time": "2022-03-30T20:53:02.789Z"
   },
   {
    "duration": 0,
    "start_time": "2022-03-30T20:53:02.790Z"
   },
   {
    "duration": 0,
    "start_time": "2022-03-30T20:53:02.791Z"
   },
   {
    "duration": 0,
    "start_time": "2022-03-30T20:53:02.792Z"
   },
   {
    "duration": 1344,
    "start_time": "2022-03-30T20:57:45.502Z"
   },
   {
    "duration": 738,
    "start_time": "2022-03-30T20:57:46.848Z"
   },
   {
    "duration": 7,
    "start_time": "2022-03-30T20:57:47.588Z"
   },
   {
    "duration": 11,
    "start_time": "2022-03-30T20:57:47.609Z"
   },
   {
    "duration": 14,
    "start_time": "2022-03-30T20:57:47.622Z"
   },
   {
    "duration": 11,
    "start_time": "2022-03-30T20:57:47.638Z"
   },
   {
    "duration": 4,
    "start_time": "2022-03-30T20:57:47.650Z"
   },
   {
    "duration": 15,
    "start_time": "2022-03-30T20:57:47.656Z"
   },
   {
    "duration": 210,
    "start_time": "2022-03-30T20:57:47.672Z"
   },
   {
    "duration": 587,
    "start_time": "2022-03-30T20:57:47.885Z"
   },
   {
    "duration": 596,
    "start_time": "2022-03-30T20:57:48.474Z"
   },
   {
    "duration": 1168,
    "start_time": "2022-03-30T20:57:49.072Z"
   },
   {
    "duration": 4,
    "start_time": "2022-03-30T20:57:50.241Z"
   },
   {
    "duration": 44,
    "start_time": "2022-03-30T20:57:50.246Z"
   },
   {
    "duration": 20,
    "start_time": "2022-03-30T20:57:50.292Z"
   },
   {
    "duration": 71750,
    "start_time": "2022-03-30T20:57:50.314Z"
   },
   {
    "duration": 1758,
    "start_time": "2022-03-30T20:59:02.066Z"
   },
   {
    "duration": 1491,
    "start_time": "2022-03-30T20:59:03.826Z"
   },
   {
    "duration": 74051,
    "start_time": "2022-03-30T20:59:05.319Z"
   },
   {
    "duration": 41,
    "start_time": "2022-03-30T21:00:19.372Z"
   },
   {
    "duration": 29,
    "start_time": "2022-03-30T21:05:26.678Z"
   },
   {
    "duration": 84,
    "start_time": "2022-03-30T21:05:30.899Z"
   },
   {
    "duration": 9,
    "start_time": "2022-03-30T21:05:32.901Z"
   },
   {
    "duration": 113,
    "start_time": "2022-03-30T21:06:03.360Z"
   },
   {
    "duration": 11,
    "start_time": "2022-03-30T21:06:07.502Z"
   },
   {
    "duration": 15,
    "start_time": "2022-03-30T21:07:02.642Z"
   },
   {
    "duration": 22,
    "start_time": "2022-03-30T21:07:23.342Z"
   },
   {
    "duration": 8,
    "start_time": "2022-03-30T21:07:38.076Z"
   },
   {
    "duration": 17,
    "start_time": "2022-03-30T21:07:54.409Z"
   },
   {
    "duration": 9,
    "start_time": "2022-03-30T21:07:59.385Z"
   },
   {
    "duration": 12,
    "start_time": "2022-03-30T21:08:01.020Z"
   },
   {
    "duration": 9,
    "start_time": "2022-03-30T21:08:11.443Z"
   },
   {
    "duration": 5,
    "start_time": "2022-03-30T21:08:17.747Z"
   },
   {
    "duration": 5,
    "start_time": "2022-03-30T21:08:23.088Z"
   },
   {
    "duration": 5,
    "start_time": "2022-03-30T21:08:24.549Z"
   },
   {
    "duration": 4,
    "start_time": "2022-03-30T21:08:44.135Z"
   },
   {
    "duration": 5,
    "start_time": "2022-03-30T21:08:46.857Z"
   },
   {
    "duration": 3,
    "start_time": "2022-03-30T21:08:48.513Z"
   },
   {
    "duration": 1360,
    "start_time": "2022-03-30T21:10:25.421Z"
   },
   {
    "duration": 782,
    "start_time": "2022-03-30T21:10:26.783Z"
   },
   {
    "duration": 8,
    "start_time": "2022-03-30T21:10:27.567Z"
   },
   {
    "duration": 10,
    "start_time": "2022-03-30T21:10:27.577Z"
   },
   {
    "duration": 14,
    "start_time": "2022-03-30T21:10:27.610Z"
   },
   {
    "duration": 12,
    "start_time": "2022-03-30T21:10:27.626Z"
   },
   {
    "duration": 3,
    "start_time": "2022-03-30T21:10:27.640Z"
   },
   {
    "duration": 14,
    "start_time": "2022-03-30T21:10:27.644Z"
   },
   {
    "duration": 200,
    "start_time": "2022-03-30T21:10:27.660Z"
   },
   {
    "duration": 600,
    "start_time": "2022-03-30T21:10:27.862Z"
   },
   {
    "duration": 612,
    "start_time": "2022-03-30T21:10:28.464Z"
   },
   {
    "duration": 1239,
    "start_time": "2022-03-30T21:10:29.077Z"
   },
   {
    "duration": 3,
    "start_time": "2022-03-30T21:10:30.317Z"
   },
   {
    "duration": 9,
    "start_time": "2022-03-30T21:10:30.322Z"
   },
   {
    "duration": 33,
    "start_time": "2022-03-30T21:10:30.333Z"
   },
   {
    "duration": 50,
    "start_time": "2022-03-30T21:10:30.368Z"
   },
   {
    "duration": 16,
    "start_time": "2022-03-30T21:10:30.419Z"
   },
   {
    "duration": 70485,
    "start_time": "2022-03-30T21:10:30.436Z"
   },
   {
    "duration": 1636,
    "start_time": "2022-03-30T21:11:40.922Z"
   },
   {
    "duration": 1651,
    "start_time": "2022-03-30T21:11:42.560Z"
   },
   {
    "duration": 69164,
    "start_time": "2022-03-30T21:11:44.213Z"
   },
   {
    "duration": 40,
    "start_time": "2022-03-30T21:12:53.378Z"
   },
   {
    "duration": 5,
    "start_time": "2022-03-30T21:12:53.420Z"
   },
   {
    "duration": 21,
    "start_time": "2022-03-30T21:13:24.624Z"
   },
   {
    "duration": 6,
    "start_time": "2022-03-30T21:13:38.360Z"
   },
   {
    "duration": 15,
    "start_time": "2022-03-30T21:13:39.915Z"
   },
   {
    "duration": 7,
    "start_time": "2022-03-30T21:15:01.268Z"
   },
   {
    "duration": 4,
    "start_time": "2022-03-30T21:22:16.919Z"
   },
   {
    "duration": 862552,
    "start_time": "2022-03-30T21:36:36.470Z"
   },
   {
    "duration": 4,
    "start_time": "2022-03-30T21:53:43.425Z"
   },
   {
    "duration": 1413,
    "start_time": "2022-03-30T21:54:30.301Z"
   },
   {
    "duration": 793,
    "start_time": "2022-03-30T21:54:31.716Z"
   },
   {
    "duration": 8,
    "start_time": "2022-03-30T21:54:32.510Z"
   },
   {
    "duration": 10,
    "start_time": "2022-03-30T21:54:32.520Z"
   },
   {
    "duration": 15,
    "start_time": "2022-03-30T21:54:32.532Z"
   },
   {
    "duration": 10,
    "start_time": "2022-03-30T21:54:32.549Z"
   },
   {
    "duration": 4,
    "start_time": "2022-03-30T21:54:32.561Z"
   },
   {
    "duration": 52,
    "start_time": "2022-03-30T21:54:32.566Z"
   },
   {
    "duration": 177,
    "start_time": "2022-03-30T21:54:32.619Z"
   },
   {
    "duration": 581,
    "start_time": "2022-03-30T21:54:32.799Z"
   },
   {
    "duration": 595,
    "start_time": "2022-03-30T21:54:33.381Z"
   },
   {
    "duration": 1077,
    "start_time": "2022-03-30T21:54:33.977Z"
   },
   {
    "duration": 3,
    "start_time": "2022-03-30T21:54:35.055Z"
   },
   {
    "duration": 10,
    "start_time": "2022-03-30T21:54:35.059Z"
   },
   {
    "duration": 49,
    "start_time": "2022-03-30T21:54:35.070Z"
   },
   {
    "duration": 42,
    "start_time": "2022-03-30T21:54:35.120Z"
   },
   {
    "duration": 7,
    "start_time": "2022-03-30T21:54:35.164Z"
   },
   {
    "duration": 2,
    "start_time": "2022-03-30T21:54:35.173Z"
   },
   {
    "duration": 615254,
    "start_time": "2022-03-30T21:54:35.177Z"
   },
   {
    "duration": 82231,
    "start_time": "2022-03-30T22:04:50.433Z"
   },
   {
    "duration": 1980,
    "start_time": "2022-03-30T22:06:12.665Z"
   },
   {
    "duration": 1763,
    "start_time": "2022-03-30T22:06:14.646Z"
   },
   {
    "duration": 68969,
    "start_time": "2022-03-30T22:06:16.410Z"
   },
   {
    "duration": 40,
    "start_time": "2022-03-30T22:07:25.380Z"
   },
   {
    "duration": 1427,
    "start_time": "2022-09-07T19:11:34.480Z"
   },
   {
    "duration": 2144,
    "start_time": "2022-09-07T19:11:35.913Z"
   },
   {
    "duration": 16,
    "start_time": "2022-09-07T19:11:38.059Z"
   },
   {
    "duration": 12,
    "start_time": "2022-09-07T19:11:38.076Z"
   },
   {
    "duration": 20,
    "start_time": "2022-09-07T19:11:38.090Z"
   },
   {
    "duration": 11,
    "start_time": "2022-09-07T19:11:38.111Z"
   },
   {
    "duration": 3,
    "start_time": "2022-09-07T19:11:38.123Z"
   },
   {
    "duration": 35,
    "start_time": "2022-09-07T19:11:38.128Z"
   },
   {
    "duration": 188,
    "start_time": "2022-09-07T19:11:38.165Z"
   },
   {
    "duration": 544,
    "start_time": "2022-09-07T19:11:38.355Z"
   },
   {
    "duration": 634,
    "start_time": "2022-09-07T19:11:38.901Z"
   },
   {
    "duration": 1162,
    "start_time": "2022-09-07T19:11:39.536Z"
   },
   {
    "duration": 3,
    "start_time": "2022-09-07T19:11:40.700Z"
   },
   {
    "duration": 13,
    "start_time": "2022-09-07T19:11:40.705Z"
   },
   {
    "duration": 42,
    "start_time": "2022-09-07T19:11:40.719Z"
   },
   {
    "duration": 31,
    "start_time": "2022-09-07T19:11:40.764Z"
   },
   {
    "duration": 8,
    "start_time": "2022-09-07T19:11:40.796Z"
   },
   {
    "duration": 3,
    "start_time": "2022-09-07T19:11:40.806Z"
   },
   {
    "duration": 541003,
    "start_time": "2022-09-07T19:11:40.810Z"
   },
   {
    "duration": 73992,
    "start_time": "2022-09-07T19:20:41.815Z"
   },
   {
    "duration": 1760,
    "start_time": "2022-09-07T19:21:55.809Z"
   },
   {
    "duration": 1488,
    "start_time": "2022-09-07T19:21:57.570Z"
   },
   {
    "duration": 61078,
    "start_time": "2022-09-07T19:21:59.060Z"
   },
   {
    "duration": 40,
    "start_time": "2022-09-07T19:23:00.139Z"
   },
   {
    "duration": 71913,
    "start_time": "2022-09-07T19:25:58.542Z"
   },
   {
    "duration": 1329,
    "start_time": "2022-09-07T19:28:31.165Z"
   },
   {
    "duration": 741,
    "start_time": "2022-09-07T19:28:32.495Z"
   },
   {
    "duration": 7,
    "start_time": "2022-09-07T19:28:33.238Z"
   },
   {
    "duration": 17,
    "start_time": "2022-09-07T19:28:33.247Z"
   },
   {
    "duration": 17,
    "start_time": "2022-09-07T19:28:33.266Z"
   },
   {
    "duration": 12,
    "start_time": "2022-09-07T19:28:33.285Z"
   },
   {
    "duration": 4,
    "start_time": "2022-09-07T19:28:33.299Z"
   },
   {
    "duration": 13,
    "start_time": "2022-09-07T19:28:33.304Z"
   },
   {
    "duration": 176,
    "start_time": "2022-09-07T19:28:33.319Z"
   },
   {
    "duration": 540,
    "start_time": "2022-09-07T19:28:33.497Z"
   },
   {
    "duration": 557,
    "start_time": "2022-09-07T19:28:34.039Z"
   },
   {
    "duration": 1061,
    "start_time": "2022-09-07T19:28:34.597Z"
   },
   {
    "duration": 4,
    "start_time": "2022-09-07T19:28:35.659Z"
   },
   {
    "duration": 13,
    "start_time": "2022-09-07T19:28:35.665Z"
   },
   {
    "duration": 33,
    "start_time": "2022-09-07T19:28:35.679Z"
   },
   {
    "duration": 52,
    "start_time": "2022-09-07T19:28:35.714Z"
   },
   {
    "duration": 8,
    "start_time": "2022-09-07T19:28:35.769Z"
   },
   {
    "duration": 3,
    "start_time": "2022-09-07T19:28:35.779Z"
   },
   {
    "duration": 525753,
    "start_time": "2022-09-07T19:28:35.784Z"
   },
   {
    "duration": 71509,
    "start_time": "2022-09-07T19:37:21.538Z"
   },
   {
    "duration": 1694,
    "start_time": "2022-09-07T19:38:33.049Z"
   },
   {
    "duration": 1219,
    "start_time": "2022-09-07T19:38:34.745Z"
   },
   {
    "duration": 1335,
    "start_time": "2022-09-07T19:39:10.726Z"
   },
   {
    "duration": 711,
    "start_time": "2022-09-07T19:39:12.062Z"
   },
   {
    "duration": 7,
    "start_time": "2022-09-07T19:39:12.774Z"
   },
   {
    "duration": 10,
    "start_time": "2022-09-07T19:39:12.782Z"
   },
   {
    "duration": 15,
    "start_time": "2022-09-07T19:39:12.793Z"
   },
   {
    "duration": 11,
    "start_time": "2022-09-07T19:39:12.809Z"
   },
   {
    "duration": 4,
    "start_time": "2022-09-07T19:39:12.821Z"
   },
   {
    "duration": 41,
    "start_time": "2022-09-07T19:39:12.827Z"
   },
   {
    "duration": 166,
    "start_time": "2022-09-07T19:39:12.870Z"
   },
   {
    "duration": 518,
    "start_time": "2022-09-07T19:39:13.039Z"
   },
   {
    "duration": 537,
    "start_time": "2022-09-07T19:39:13.559Z"
   },
   {
    "duration": 1070,
    "start_time": "2022-09-07T19:39:14.097Z"
   },
   {
    "duration": 2,
    "start_time": "2022-09-07T19:39:15.169Z"
   },
   {
    "duration": 9,
    "start_time": "2022-09-07T19:39:15.173Z"
   },
   {
    "duration": 27,
    "start_time": "2022-09-07T19:39:15.183Z"
   },
   {
    "duration": 47,
    "start_time": "2022-09-07T19:39:15.212Z"
   },
   {
    "duration": 8,
    "start_time": "2022-09-07T19:39:15.260Z"
   },
   {
    "duration": 2,
    "start_time": "2022-09-07T19:39:15.269Z"
   },
   {
    "duration": 1320,
    "start_time": "2022-09-07T19:39:32.874Z"
   },
   {
    "duration": 706,
    "start_time": "2022-09-07T19:39:34.196Z"
   },
   {
    "duration": 6,
    "start_time": "2022-09-07T19:39:34.904Z"
   },
   {
    "duration": 12,
    "start_time": "2022-09-07T19:39:34.911Z"
   },
   {
    "duration": 30,
    "start_time": "2022-09-07T19:39:34.925Z"
   },
   {
    "duration": 10,
    "start_time": "2022-09-07T19:39:34.957Z"
   },
   {
    "duration": 4,
    "start_time": "2022-09-07T19:39:34.968Z"
   },
   {
    "duration": 18,
    "start_time": "2022-09-07T19:39:34.973Z"
   },
   {
    "duration": 177,
    "start_time": "2022-09-07T19:39:34.993Z"
   },
   {
    "duration": 516,
    "start_time": "2022-09-07T19:39:35.171Z"
   },
   {
    "duration": 505,
    "start_time": "2022-09-07T19:39:35.688Z"
   },
   {
    "duration": 1049,
    "start_time": "2022-09-07T19:39:36.195Z"
   },
   {
    "duration": 3,
    "start_time": "2022-09-07T19:39:37.245Z"
   },
   {
    "duration": 7,
    "start_time": "2022-09-07T19:39:37.256Z"
   },
   {
    "duration": 29,
    "start_time": "2022-09-07T19:39:37.264Z"
   },
   {
    "duration": 62,
    "start_time": "2022-09-07T19:39:37.295Z"
   },
   {
    "duration": 10,
    "start_time": "2022-09-07T19:39:37.359Z"
   },
   {
    "duration": 13,
    "start_time": "2022-09-07T19:39:37.371Z"
   },
   {
    "duration": 521764,
    "start_time": "2022-09-07T19:39:37.387Z"
   },
   {
    "duration": 71302,
    "start_time": "2022-09-07T19:48:19.154Z"
   },
   {
    "duration": 1680,
    "start_time": "2022-09-07T19:49:30.458Z"
   },
   {
    "duration": 1319,
    "start_time": "2022-09-07T19:49:32.140Z"
   },
   {
    "duration": 70637,
    "start_time": "2022-09-07T19:49:33.460Z"
   },
   {
    "duration": 34,
    "start_time": "2022-09-07T19:50:44.099Z"
   },
   {
    "duration": 1519,
    "start_time": "2022-09-07T23:43:28.233Z"
   },
   {
    "duration": 3279,
    "start_time": "2022-09-07T23:43:29.754Z"
   },
   {
    "duration": 6,
    "start_time": "2022-09-07T23:43:33.035Z"
   },
   {
    "duration": 15,
    "start_time": "2022-09-07T23:43:33.043Z"
   },
   {
    "duration": 17,
    "start_time": "2022-09-07T23:43:33.059Z"
   },
   {
    "duration": 31,
    "start_time": "2022-09-07T23:43:33.077Z"
   },
   {
    "duration": 3,
    "start_time": "2022-09-07T23:43:33.110Z"
   },
   {
    "duration": 18,
    "start_time": "2022-09-07T23:43:33.115Z"
   },
   {
    "duration": 168,
    "start_time": "2022-09-07T23:43:33.135Z"
   },
   {
    "duration": 555,
    "start_time": "2022-09-07T23:43:33.306Z"
   },
   {
    "duration": 633,
    "start_time": "2022-09-07T23:43:33.862Z"
   },
   {
    "duration": 1170,
    "start_time": "2022-09-07T23:43:34.497Z"
   },
   {
    "duration": 7,
    "start_time": "2022-09-07T23:43:35.669Z"
   },
   {
    "duration": 29,
    "start_time": "2022-09-07T23:43:35.677Z"
   },
   {
    "duration": 29,
    "start_time": "2022-09-07T23:43:35.708Z"
   },
   {
    "duration": 35,
    "start_time": "2022-09-07T23:43:35.738Z"
   },
   {
    "duration": 9,
    "start_time": "2022-09-07T23:43:35.774Z"
   },
   {
    "duration": 5,
    "start_time": "2022-09-07T23:43:35.785Z"
   },
   {
    "duration": 569392,
    "start_time": "2022-09-07T23:43:35.792Z"
   },
   {
    "duration": 76939,
    "start_time": "2022-09-07T23:53:05.185Z"
   },
   {
    "duration": 1823,
    "start_time": "2022-09-07T23:54:22.126Z"
   },
   {
    "duration": 1592,
    "start_time": "2022-09-07T23:54:23.951Z"
   },
   {
    "duration": 76584,
    "start_time": "2022-09-07T23:54:25.546Z"
   },
   {
    "duration": 38,
    "start_time": "2022-09-07T23:55:42.132Z"
   },
   {
    "duration": 1569,
    "start_time": "2022-09-08T06:36:31.543Z"
   },
   {
    "duration": 3284,
    "start_time": "2022-09-08T06:36:33.115Z"
   },
   {
    "duration": 7,
    "start_time": "2022-09-08T06:36:36.401Z"
   },
   {
    "duration": 38,
    "start_time": "2022-09-08T06:36:36.410Z"
   },
   {
    "duration": 30,
    "start_time": "2022-09-08T06:36:36.450Z"
   },
   {
    "duration": 32,
    "start_time": "2022-09-08T06:36:36.482Z"
   },
   {
    "duration": 17,
    "start_time": "2022-09-08T06:36:36.516Z"
   },
   {
    "duration": 61,
    "start_time": "2022-09-08T06:36:36.534Z"
   },
   {
    "duration": 196,
    "start_time": "2022-09-08T06:36:36.597Z"
   },
   {
    "duration": 572,
    "start_time": "2022-09-08T06:36:36.796Z"
   },
   {
    "duration": 575,
    "start_time": "2022-09-08T06:36:37.370Z"
   },
   {
    "duration": 1173,
    "start_time": "2022-09-08T06:36:37.946Z"
   },
   {
    "duration": 2,
    "start_time": "2022-09-08T06:36:39.121Z"
   },
   {
    "duration": 33,
    "start_time": "2022-09-08T06:36:39.125Z"
   },
   {
    "duration": 32,
    "start_time": "2022-09-08T06:36:39.160Z"
   },
   {
    "duration": 29,
    "start_time": "2022-09-08T06:36:39.193Z"
   },
   {
    "duration": 16,
    "start_time": "2022-09-08T06:36:39.223Z"
   },
   {
    "duration": 9,
    "start_time": "2022-09-08T06:36:39.240Z"
   },
   {
    "duration": 599412,
    "start_time": "2022-09-08T06:36:39.251Z"
   },
   {
    "duration": 70444,
    "start_time": "2022-09-08T06:46:38.664Z"
   },
   {
    "duration": 1651,
    "start_time": "2022-09-08T06:47:49.110Z"
   },
   {
    "duration": 1827,
    "start_time": "2022-09-08T06:47:50.763Z"
   },
   {
    "duration": 69772,
    "start_time": "2022-09-08T06:47:52.596Z"
   },
   {
    "duration": 41,
    "start_time": "2022-09-08T06:49:02.370Z"
   }
  ],
  "kernelspec": {
   "display_name": "Python 3 (ipykernel)",
   "language": "python",
   "name": "python3"
  },
  "language_info": {
   "codemirror_mode": {
    "name": "ipython",
    "version": 3
   },
   "file_extension": ".py",
   "mimetype": "text/x-python",
   "name": "python",
   "nbconvert_exporter": "python",
   "pygments_lexer": "ipython3",
   "version": "3.9.12"
  },
  "toc": {
   "base_numbering": 1,
   "nav_menu": {},
   "number_sections": true,
   "sideBar": true,
   "skip_h1_title": true,
   "title_cell": "Содержание",
   "title_sidebar": "Contents",
   "toc_cell": true,
   "toc_position": {},
   "toc_section_display": true,
   "toc_window_display": false
  }
 },
 "nbformat": 4,
 "nbformat_minor": 2
}
